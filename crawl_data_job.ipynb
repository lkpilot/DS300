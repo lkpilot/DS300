{
 "cells": [
  {
   "cell_type": "code",
   "execution_count": 1,
   "metadata": {},
   "outputs": [],
   "source": [
    "import pandas as pd\n",
    "import numpy as np\n",
    "import matplotlib.pyplot as plt\n",
    "import seaborn as sns\n",
    "from selenium import webdriver\n",
    "from selenium.webdriver.common.keys import Keys\n",
    "from selenium.webdriver.common.by import By\n",
    "from selenium.webdriver.support.ui import WebDriverWait\n",
    "from selenium.webdriver.support import expected_conditions as EC\n",
    "from webdriver_manager.chrome import ChromeDriverManager\n",
    "\n",
    "import requests\n",
    "import re\n",
    "import time\n",
    "import datetime\n",
    "\n",
    "from tqdm import tqdm\n",
    "from sklearn.metrics.pairwise import cosine_similarity\n",
    "from bs4 import BeautifulSoup\n",
    "\n",
    "sns.set()"
   ]
  },
  {
   "cell_type": "code",
   "execution_count": 2,
   "metadata": {},
   "outputs": [],
   "source": [
    "PATH = \"C:/Users/ADMIN/OneDrive - Trường ĐH CNTT - University of Information Technology/Tài liệu/Tài liệu học tập/DS300/FinalProject/Dataset/\""
   ]
  },
  {
   "cell_type": "markdown",
   "metadata": {},
   "source": [
    "# Crawl data from VietNamWork"
   ]
  },
  {
   "cell_type": "code",
   "execution_count": 3,
   "metadata": {},
   "outputs": [],
   "source": [
    "# Viết hàm lấy url page chứa danh sách các công việc\n",
    "def get_url_page_VNW(num_page):\n",
    "  list_url_page = []\n",
    "  for i in range(1,num_page+1):\n",
    "    list_url_page.append('https://www.vietnamworks.com/viec-lam?page='+str(i))\n",
    "  return list_url_page"
   ]
  },
  {
   "cell_type": "code",
   "execution_count": 4,
   "metadata": {},
   "outputs": [],
   "source": [
    "list_url_page = get_url_page_VNW(500)"
   ]
  },
  {
   "cell_type": "code",
   "execution_count": 5,
   "metadata": {},
   "outputs": [],
   "source": [
    "driver = webdriver.Chrome()"
   ]
  },
  {
   "cell_type": "code",
   "execution_count": 6,
   "metadata": {},
   "outputs": [],
   "source": [
    "def get_url_job_VNW(url_page):\n",
    "  # Khởi tạo danh sách url các công việc\n",
    "  list_url_job = []\n",
    "  # Lấy nội dung của page\n",
    "  \n",
    "  driver.get(url_page)\n",
    "\n",
    "  last_height = driver.execute_script(\"return document.body.scrollHeight\")\n",
    "  while True:\n",
    "      # Scroll to the bottom\n",
    "      driver.execute_script(\"window.scrollTo(0, document.body.scrollHeight);\")\n",
    "      \n",
    "      # Wait for new content to load (adjust time as needed)\n",
    "      time.sleep(5)\n",
    "      \n",
    "      # Calculate new scroll height\n",
    "      new_height = driver.execute_script(\"return document.body.scrollHeight\")\n",
    "      \n",
    "      # Break the loop if no new content is loaded\n",
    "      if new_height == last_height:\n",
    "          break\n",
    "      last_height = new_height\n",
    "\n",
    "      \n",
    "  url_jobs = driver.find_elements(By.CSS_SELECTOR, \n",
    "      \"#vnwLayout__col > div > div:nth-child(1) > div.col-12.col-lg-9.no-padding-left.no-padding-responsive.search-result-listJob > div.sc-2d549b0c-0.hgDWoS > div > div.search_list.view_job_item > div > div > div.sc-euWMRQ.dgXSCK > div.sc-gpaZuh.jzkZXw > div > div > div > h2 > a\"\n",
    "  )\n",
    "  for job in url_jobs:\n",
    "    list_url_job.append(job.get_attribute('href'))\n",
    "  \n",
    "  return list_url_job"
   ]
  },
  {
   "cell_type": "code",
   "execution_count": null,
   "metadata": {},
   "outputs": [],
   "source": [
    "list_url_job_VNW = []\n",
    "for url_page in tqdm(list_url_page):\n",
    "  try:\n",
    "    list_url_job_VNW.extend(get_url_job_VNW(url_page))\n",
    "  except:\n",
    "    print(f'{url_page} -> Error')"
   ]
  },
  {
   "cell_type": "code",
   "execution_count": null,
   "metadata": {},
   "outputs": [
    {
     "data": {
      "text/plain": [
       "6781"
      ]
     },
     "execution_count": 25,
     "metadata": {},
     "output_type": "execute_result"
    }
   ],
   "source": [
    "len(list_url_job_VNW)"
   ]
  },
  {
   "cell_type": "code",
   "execution_count": null,
   "metadata": {},
   "outputs": [
    {
     "data": {
      "text/plain": [
       "['https://www.vietnamworks.com/bd-ux-researcher-service-design-1834430-jv?source=searchResults&searchType=2&placement=1834430&sortBy=date',\n",
       " 'https://www.vietnamworks.com/senior-expert-economics-and-financial-markets-analysis--1825011-jv?source=searchResults&searchType=2&placement=1825011&sortBy=date',\n",
       " 'https://www.vietnamworks.com/audit-senior-ha-noi-hcm-1834753-jv?source=searchResults&searchType=2&placement=1834753&sortBy=date',\n",
       " 'https://www.vietnamworks.com/qa-engineer-ky-su-chat-luong-tieng-anh-thanh-thao--1840419-jv?source=searchResults&searchType=2&placement=1840419&sortBy=date',\n",
       " 'https://www.vietnamworks.com/truong-nhom-kinh-doanh-1842810-jv?source=searchResults&searchType=2&placement=1842810&sortBy=date',\n",
       " 'https://www.vietnamworks.com/truong-phong-kinh-doanh-kenh-le-chi-nhanh-mien-bac-1830609-jv?source=searchResults&searchType=2&placement=1830609&sortBy=date',\n",
       " 'https://www.vietnamworks.com/retail-leasing-senior-assistant-manager-manager-1840638-jv?source=searchResults&searchType=2&placement=1840638&sortBy=date',\n",
       " 'https://www.vietnamworks.com/nhan-vien-phap-ly-thu-hoi-cong-no--1832143-jv?source=searchResults&searchType=2&placement=1832143&sortBy=date',\n",
       " 'https://www.vietnamworks.com/trinh-duoc-vien-otc-ha-noi-tuyen-quang-hoa-binh-1842802-jv?source=searchResults&searchType=2&placement=1842802&sortBy=date',\n",
       " 'https://www.vietnamworks.com/truong-phong-quan-ly-van-hanh-nha-o-nls-1835688-jv?source=searchResults&searchType=2&placement=1835688&sortBy=date',\n",
       " 'https://www.vietnamworks.com/chuyen-vien-marketing--1834782-jv?source=searchResults&searchType=2&placement=1834782&sortBy=date',\n",
       " 'https://www.vietnamworks.com/chuyen-vien-chuong-trinh-mon-khoa-hoc-academic-officer-for-science-1834817-jv?source=searchResults&searchType=2&placement=1834817&sortBy=date',\n",
       " 'https://www.vietnamworks.com/hai-phong-chuyen-vien-ha-tang-cntt-1835244-jv?source=searchResults&searchType=2&placement=1835244&sortBy=date',\n",
       " 'https://www.vietnamworks.com/hsbc-career-day-2024-be-part-of-something-bigger-ngay-hoi-nghe-nghiep-hsbc-1835866-jv?source=searchResults&searchType=2&placement=1835866&sortBy=date',\n",
       " 'https://www.vietnamworks.com/chuyen-vien-quan-ly-hieu-suat-kpi-tieng-trung-1836713-jv?source=searchResults&searchType=2&placement=1836713&sortBy=date',\n",
       " 'https://www.vietnamworks.com/adhesive-tape-sales-engineer--1839622-jv?source=searchResults&searchType=2&placement=1839622&sortBy=date',\n",
       " 'https://www.vietnamworks.com/chuyen-gia-tu-van-djau-tu-investment-counsellor-expert-rb-1840907-jv?source=searchResults&searchType=2&placement=1840907&sortBy=date',\n",
       " 'https://www.vietnamworks.com/cvcc-phan-tich-djau-tu-investment-analyst-rb-1840897-jv?source=searchResults&searchType=2&placement=1840897&sortBy=date',\n",
       " 'https://www.vietnamworks.com/it-staff-software-developer--1840390-jv?source=searchResults&searchType=2&placement=1840390&sortBy=date',\n",
       " 'https://www.vietnamworks.com/senior-marketing-executive-1841057-jv?source=searchResults&searchType=2&placement=1841057&sortBy=date',\n",
       " 'https://www.vietnamworks.com/nhan-vien-xuat-nhap-khau-1840777-jv?source=searchResults&searchType=2&placement=1840777&sortBy=date',\n",
       " 'https://www.vietnamworks.com/sales-staff-1842619-jv?source=searchResults&searchType=2&placement=1842619&sortBy=date',\n",
       " 'https://www.vietnamworks.com/senior-expert-economic-sector-1825009-jv?source=searchResults&searchType=2&placement=1825009&sortBy=date',\n",
       " 'https://www.vietnamworks.com/chuyen-vien-dich-vu-va-cham-soc-khach-hang-24-7-khoi-van-hanh-uu-tien-nam-1834769-jv?source=searchResults&searchType=2&placement=1834769&sortBy=date',\n",
       " 'https://www.vietnamworks.com/ky-su-quan-ly-san-xuat--1840413-jv?source=searchResults&searchType=2&placement=1840413&sortBy=date',\n",
       " 'https://www.vietnamworks.com/internship-tester-french--1840773-jv?source=searchResults&searchType=2&placement=1840773&sortBy=date',\n",
       " 'https://www.vietnamworks.com/cobol-developer-intern--1840774-jv?source=searchResults&searchType=2&placement=1840774&sortBy=date',\n",
       " 'https://www.vietnamworks.com/chuyen-vien-tuyen-dung-mass-tu-1-nam-kinh-nghiem-ha-noi-ho-chi-minh-1822986-jv?source=searchResults&searchType=2&placement=1822986&sortBy=date',\n",
       " 'https://www.vietnamworks.com/phu-trach-phong-qa--1822908-jv?source=searchResults&searchType=2&placement=1822908&sortBy=date',\n",
       " 'https://www.vietnamworks.com/senior-manager-pricing-and-billing-vietnam-hcmc-1834562-jv?source=searchResults&searchType=2&placement=1834562&sortBy=date',\n",
       " 'https://www.vietnamworks.com/regulatory-affairs-lead--1823915-jv?source=searchResults&searchType=2&placement=1823915&sortBy=date',\n",
       " 'https://www.vietnamworks.com/team-lead-payment-accounting--1834391-jv?source=searchResults&searchType=2&placement=1834391&sortBy=date',\n",
       " 'https://www.vietnamworks.com/release-train-engineer--1836412-jv?source=searchResults&searchType=2&placement=1836412&sortBy=date',\n",
       " 'https://www.vietnamworks.com/giam-doc-kinh-doanh-khu-vuc-dong-bang-song-cuu-long-nganh-thiet-bi-y-te-1838144-jv?source=searchResults&searchType=2&placement=1838144&sortBy=date',\n",
       " 'https://www.vietnamworks.com/nhan-vien-thiet-ke-co-khi--1824597-jv?source=searchResults&searchType=2&placement=1824597&sortBy=date',\n",
       " 'https://www.vietnamworks.com/truong-phong-mua-hang-binh-dinh-dak-lak-40-trieu-thang-1839653-jv?source=searchResults&searchType=2&placement=1839653&sortBy=date',\n",
       " 'https://www.vietnamworks.com/dja-nang-nhan-vien-kinh-doanh-dich-vu-hau-mai-1843057-jv?source=searchResults&searchType=2&placement=1843057&sortBy=date',\n",
       " 'https://www.vietnamworks.com/customs-clearance-manager-1832312-jv?source=searchResults&searchType=2&placement=1832312&sortBy=date',\n",
       " 'https://www.vietnamworks.com/tuyen-gap-ky-su-phong-kt-thanh-thao-tieng-nhat-anh-1836802-jv?source=searchResults&searchType=2&placement=1836802&sortBy=date',\n",
       " 'https://www.vietnamworks.com/ky-su-bao-tri-bao-duong-maintenance-engineer--1822159-jv?source=searchResults&searchType=2&placement=1822159&sortBy=date',\n",
       " 'https://www.vietnamworks.com/senior-manager-finance-budgeting-and-planning-1834392-jv?source=searchResults&searchType=2&placement=1834392&sortBy=date',\n",
       " 'https://www.vietnamworks.com/senior-expert-business-finance-1834398-jv?source=searchResults&searchType=2&placement=1834398&sortBy=date',\n",
       " 'https://www.vietnamworks.com/chuyen-vien-tu-van-tai-chinh-toan-thoi-gian-kenh-pruventure-thu-nhap-len-den-48-trieu-thang-ho-chi-minh-1825081-jv?source=searchResults&searchType=2&placement=1825081&sortBy=date',\n",
       " 'https://www.vietnamworks.com/head-of-department--1840790-jv?source=searchResults&searchType=2&placement=1840790&sortBy=date',\n",
       " 'https://www.vietnamworks.com/rewards-and-performance-manager-1841151-jv?source=searchResults&searchType=2&placement=1841151&sortBy=date',\n",
       " 'https://www.vietnamworks.com/nhan-vien-kinh-doanh-nganh-my-pham-hoa-chat-1839633-jv?source=searchResults&searchType=2&placement=1839633&sortBy=date',\n",
       " 'https://www.vietnamworks.com/maintenance-supervisor-automation-electricity-background--1839683-jv?source=searchResults&searchType=2&placement=1839683&sortBy=date',\n",
       " 'https://www.vietnamworks.com/chuyen-vien-hanh-chinh-nhan-su-tong-hop-manh-tuyen-dung-thu-nhap-12-18-trieu-thang-1842222-jv?source=searchResults&searchType=2&placement=1842222&sortBy=date',\n",
       " 'https://www.vietnamworks.com/chuyen-vien-tu-van-bds-luong-cung-len-toi-15-trieu-ho-tro-chi-phi-mkt-len-toi-100-khong-ap-doanh-so--1835453-jv?source=searchResults&searchType=2&placement=1835453&sortBy=date',\n",
       " 'https://www.vietnamworks.com/4000-dong-da-tuyen-gap-ky-su-cau-noi-brse-thuong-va-che-do-hap-dan-1834768-jv?source=searchResults&searchType=2&placement=1834768&sortBy=date',\n",
       " 'https://www.vietnamworks.com/nhan-vien-an-toan-chi-nhanh-hai-phong-hai-duong--1841000-jv?source=searchResults&searchType=2&placement=1841050&sortBy=date',\n",
       " 'https://www.vietnamworks.com/software-support-engineer-microsoft-crm-erp--1834401-jv?source=searchResults&searchType=2&placement=1834451&sortBy=date',\n",
       " 'https://www.vietnamworks.com/sales-engineer-chinese-speaking--1837650-jv?source=searchResults&searchType=2&placement=1837700&sortBy=date',\n",
       " 'https://www.vietnamworks.com/global-it-sales-executive-juniorsenior-1840348-jv?source=searchResults&searchType=2&placement=1840398&sortBy=date',\n",
       " 'https://www.vietnamworks.com/ky-su-co-dien-luong-tu-14-den-25tr--1829464-jv?source=searchResults&searchType=2&placement=1829514&sortBy=date',\n",
       " 'https://www.vietnamworks.com/nhan-vien-logistic-logistics-officer-1842720-jv?source=searchResults&searchType=2&placement=1842770&sortBy=date',\n",
       " 'https://www.vietnamworks.com/ky-su-giam-sat-giam-sat-cong-truong-dieu-hoa-thong-gio-dien-dien-nhe-cap-thoat-nuoc-cuu-hoa-1837942-jv?source=searchResults&searchType=2&placement=1837992&sortBy=date',\n",
       " 'https://www.vietnamworks.com/software-security-engineer-vacancy-02-1841761-jv?source=searchResults&searchType=2&placement=1841811&sortBy=date',\n",
       " 'https://www.vietnamworks.com/health-and-nutrition-trainer-chuyen-gia-djao-tao-dinh-duong-1834628-jv?source=searchResults&searchType=2&placement=1834678&sortBy=date',\n",
       " 'https://www.vietnamworks.com/communication-supervisor--1834622-jv?source=searchResults&searchType=2&placement=1834672&sortBy=date',\n",
       " 'https://www.vietnamworks.com/tpm-engineer-technical-product-management-for-new-projects-in-2025-1841535-jv?source=searchResults&searchType=2&placement=1841585&sortBy=date',\n",
       " 'https://www.vietnamworks.com/cham-soc-khach-hang-lam-ca-dem-thuong-hap-dan-tong-thu-nhap-2x-tro-len--1835620-jv?source=searchResults&searchType=2&placement=1835670&sortBy=date',\n",
       " 'https://www.vietnamworks.com/mechanical-and-pipeline-engineer-1839787-jv?source=searchResults&searchType=2&placement=1839837&sortBy=date',\n",
       " 'https://www.vietnamworks.com/financial-controller-1838801-jv?source=searchResults&searchType=2&placement=1838851&sortBy=date',\n",
       " 'https://www.vietnamworks.com/truong-phong-tu-van-du-hoc-my-1830209-jv?source=searchResults&searchType=2&placement=1830259&sortBy=date',\n",
       " 'https://www.vietnamworks.com/application-engineer-up-to-1500dollar-1839555-jv?source=searchResults&searchType=2&placement=1839605&sortBy=date',\n",
       " 'https://www.vietnamworks.com/ky-su-m-e-cong-truong-upto-20m-1840417-jv?source=searchResults&searchType=2&placement=1840467&sortBy=date',\n",
       " 'https://www.vietnamworks.com/ic-test-development-engineer--1824159-jv?source=searchResults&searchType=2&placement=1824209&sortBy=date',\n",
       " 'https://www.vietnamworks.com/pho-phong-du-thau--1839380-jv?source=searchResults&searchType=2&placement=1839430&sortBy=date',\n",
       " 'https://www.vietnamworks.com/chuyen-vien-djao-tao-merchant-va-djoi-tac-kinh-doanh-1837396-jv?source=searchResults&searchType=2&placement=1837446&sortBy=date',\n",
       " 'https://www.vietnamworks.com/field-operator-tuyen-dung-sinh-vien-ki-thuat-moi-tot-nghiepchua-co-kinh-nghiem-1839396-jv?source=searchResults&searchType=2&placement=1839446&sortBy=date',\n",
       " 'https://www.vietnamworks.com/regulatory-engineer-1840347-jv?source=searchResults&searchType=2&placement=1840397&sortBy=date',\n",
       " 'https://www.vietnamworks.com/risk-management-assistant-manager--1838498-jv?source=searchResults&searchType=2&placement=1838548&sortBy=date',\n",
       " 'https://www.vietnamworks.com/ky-thuat-san-xuat-dinh-muc-nang-suat--1840529-jv?source=searchResults&searchType=2&placement=1840579&sortBy=date',\n",
       " 'https://www.vietnamworks.com/route-to-market-admin-1837386-jv?source=searchResults&searchType=2&placement=1837436&sortBy=date',\n",
       " 'https://www.vietnamworks.com/randd-engineer-1840411-jv?source=searchResults&searchType=2&placement=1840461&sortBy=date',\n",
       " 'https://www.vietnamworks.com/chuyen-vien-kinh-doanh--1837340-jv?source=searchResults&searchType=2&placement=1837390&sortBy=date',\n",
       " 'https://www.vietnamworks.com/software-engineer-integration-build-c-c-plus-plus-python-quantity-03-1838631-jv?source=searchResults&searchType=2&placement=1838681&sortBy=date',\n",
       " 'https://www.vietnamworks.com/software-test-engineer--1839004-jv?source=searchResults&searchType=2&placement=1839054&sortBy=date',\n",
       " 'https://www.vietnamworks.com/nhan-vien-ho-tro-kinh-doanh-va-hoi-hop-1827021-jv?source=searchResults&searchType=2&placement=1827071&sortBy=date',\n",
       " 'https://www.vietnamworks.com/chuyen-vien-ky-thuat-van-hanh-dien-1827709-jv?source=searchResults&searchType=2&placement=1827759&sortBy=date',\n",
       " 'https://www.vietnamworks.com/ky-su-may-plc-hmi-c-nghi-tat-ca-thu-7-chu-nhat-1837293-jv?source=searchResults&searchType=2&placement=1837343&sortBy=date',\n",
       " 'https://www.vietnamworks.com/software-architect-quantity-01-1838635-jv?source=searchResults&searchType=2&placement=1838685&sortBy=date',\n",
       " 'https://www.vietnamworks.com/pho-phong-ke-hoach-quan-ly-thuong-hieu-kn-trong-nganh-o-to-xe-may-1838554-jv?source=searchResults&searchType=2&placement=1838604&sortBy=date',\n",
       " 'https://www.vietnamworks.com/software-project-leader-project-manager-quantity-01-1838642-jv?source=searchResults&searchType=2&placement=1838692&sortBy=date',\n",
       " 'https://www.vietnamworks.com/software-engineer-android-python-quantity-02-1838621-jv?source=searchResults&searchType=2&placement=1838671&sortBy=date',\n",
       " 'https://www.vietnamworks.com/requirement-engineer-technical-business-analyst-quantity-02-1838627-jv?source=searchResults&searchType=2&placement=1838677&sortBy=date',\n",
       " 'https://www.vietnamworks.com/software-engineer-continuous-integration-engineer-git-gerrit-scripting-languages-quantity-02-1838634-jv?source=searchResults&searchType=2&placement=1838684&sortBy=date',\n",
       " 'https://www.vietnamworks.com/software-engineer-integration-build-opensource-system-c-c-plus-plus-python-quantity-04-1838633-jv?source=searchResults&searchType=2&placement=1838683&sortBy=date',\n",
       " 'https://www.vietnamworks.com/chuyen-vien-tich-hop-he-thong--1827666-jv?source=searchResults&searchType=2&placement=1827716&sortBy=date',\n",
       " 'https://www.vietnamworks.com/business-development-and-project-lead-1842491-jv?source=searchResults&searchType=2&placement=1842541&sortBy=date',\n",
       " 'https://www.vietnamworks.com/account-specialist-vietnamese-relocate-to-bangkok-1840467-jv?source=searchResults&searchType=2&placement=1840517&sortBy=date',\n",
       " 'https://www.vietnamworks.com/foxconn-bac-giang-tuyen-gap-ky-su-thiet-ke-co-khi--1841214-jv?source=searchResults&searchType=2&placement=1841264&sortBy=date',\n",
       " 'https://www.vietnamworks.com/production-engineer--1837549-jv?source=searchResults&searchType=2&placement=1837599&sortBy=date',\n",
       " 'https://www.vietnamworks.com/chuyen-vien-van-hanh-thanh-toan-bds-1837520-jv?source=searchResults&searchType=2&placement=1837570&sortBy=date',\n",
       " 'https://www.vietnamworks.com/chuyen-vien-kinh-doanh-xuat-khau-tieng-trung-hn-hcm-1829930-jv?source=searchResults&searchType=2&placement=1829980&sortBy=date',\n",
       " 'https://www.vietnamworks.com/hn-hcm-service-accountant-accounting-tax-service--1842528-jv?source=searchResults&searchType=2&placement=1842578&sortBy=date',\n",
       " 'https://www.vietnamworks.com/inax-product-marketing-staff-1835126-jv?source=searchResults&searchType=2&placement=1835176&sortBy=date',\n",
       " 'https://www.vietnamworks.com/senior-azure-java-engineer--1838569-jv?source=searchResults&searchType=2&placement=1838619&sortBy=date',\n",
       " 'https://www.vietnamworks.com/ke-toan-truong-nu-30-40-trieu-phong-van-di-lam-luon--1838427-jv?source=searchResults&searchType=2&placement=1838477&sortBy=date',\n",
       " 'https://www.vietnamworks.com/site-engineer-1839470-jv?source=searchResults&searchType=2&placement=1839570&sortBy=date',\n",
       " 'https://www.vietnamworks.com/chuyen-vien-tham-dinh-tin-dung-khach-hang-doanh-nghiep-khach-hang-ca-nhan--1842499-jv?source=searchResults&searchType=2&placement=1842599&sortBy=date',\n",
       " 'https://www.vietnamworks.com/nhan-vien-thiet-ke-djo-hoa-1842775-jv?source=searchResults&searchType=2&placement=1842875&sortBy=date',\n",
       " 'https://www.vietnamworks.com/recruitment-consultant-real-estate-education-or-hospitality-1835591-jv?source=searchResults&searchType=2&placement=1835691&sortBy=date',\n",
       " 'https://www.vietnamworks.com/nhan-vien-phong-mua-hang-biet-tieng-nhat-1837512-jv?source=searchResults&searchType=2&placement=1837612&sortBy=date',\n",
       " 'https://www.vietnamworks.com/sales-manager--1829096-jv?source=searchResults&searchType=2&placement=1829196&sortBy=date',\n",
       " 'https://www.vietnamworks.com/nhan-vien-ho-tro-khach-hang--1829528-jv?source=searchResults&searchType=2&placement=1829628&sortBy=date',\n",
       " 'https://www.vietnamworks.com/java-backend-senior-developer-1839500-jv?source=searchResults&searchType=2&placement=1839600&sortBy=date',\n",
       " 'https://www.vietnamworks.com/senior-data-analyst--1840704-jv?source=searchResults&searchType=2&placement=1840804&sortBy=date',\n",
       " 'https://www.vietnamworks.com/chuyen-vien-quan-he-nha-dau-tu-truyen-thong-tai-chinh-1841643-jv?source=searchResults&searchType=2&placement=1841743&sortBy=date',\n",
       " 'https://www.vietnamworks.com/supplier-quality-engineer-sqe-requires-chinese-1827228-jv?source=searchResults&searchType=2&placement=1827328&sortBy=date',\n",
       " 'https://www.vietnamworks.com/pho-phong-tai-chinh-ke-toan--1839532-jv?source=searchResults&searchType=2&placement=1839632&sortBy=date',\n",
       " 'https://www.vietnamworks.com/business-analyst--1838993-jv?source=searchResults&searchType=2&placement=1839093&sortBy=date',\n",
       " 'https://www.vietnamworks.com/chuyen-vien-quan-tri-thuong-hieu-va-digital-marketing-1841647-jv?source=searchResults&searchType=2&placement=1841747&sortBy=date',\n",
       " 'https://www.vietnamworks.com/trinh-duoc-vien-etc-hcm-an-giang-da-nang-1842541-jv?source=searchResults&searchType=2&placement=1842641&sortBy=date',\n",
       " 'https://www.vietnamworks.com/construction-supervisor-1839457-jv?source=searchResults&searchType=2&placement=1839557&sortBy=date',\n",
       " 'https://www.vietnamworks.com/senior-expert-private-client-relationship-management--1827518-jv?source=searchResults&searchType=2&placement=1827618&sortBy=date',\n",
       " 'https://www.vietnamworks.com/leasing-executive-hanoi-head-office-238--1842385-jv?source=searchResults&searchType=2&placement=1842485&sortBy=date',\n",
       " 'https://www.vietnamworks.com/giao-dich-vien-tai-quay-1-1-1--1842492-jv?source=searchResults&searchType=2&placement=1842592&sortBy=date',\n",
       " 'https://www.vietnamworks.com/regional-sales-manager-1842780-jv?source=searchResults&searchType=2&placement=1842880&sortBy=date',\n",
       " 'https://www.vietnamworks.com/quan-ly-ban-hang-khu-vuc-1842770-jv?source=searchResults&searchType=2&placement=1842870&sortBy=date',\n",
       " 'https://www.vietnamworks.com/enterprise-networking-solution-sales-manager-1835258-jv?source=searchResults&searchType=2&placement=1835358&sortBy=date',\n",
       " 'https://www.vietnamworks.com/costing-specialist-footwear-hcm-ninh-tan-district-1837437-jv?source=searchResults&searchType=2&placement=1837537&sortBy=date',\n",
       " 'https://www.vietnamworks.com/c-c-plus-plus-software-engineer-relocation-bonus-salary-up-to-2500-hybrid-working-1-2-1--1835548-jv?source=searchResults&searchType=2&placement=1835648&sortBy=date',\n",
       " 'https://www.vietnamworks.com/chuyen-vien-tu-van-tai-chinh-toan-thoi-gian-kenh-pruventure-thu-nhap-len-den-48-trieu-thang-ha-noi-da-nang-quang-ninh-1836079-jv?source=searchResults&searchType=2&placement=1836179&sortBy=date',\n",
       " 'https://www.vietnamworks.com/production-cell-leader-1828996-jv?source=searchResults&searchType=2&placement=1829096&sortBy=date',\n",
       " 'https://www.vietnamworks.com/chuyen-vien-tai-chinh-quan-he-nha-dau-tu-va-ho-tro-ipo-1840641-jv?source=searchResults&searchType=2&placement=1840741&sortBy=date',\n",
       " 'https://www.vietnamworks.com/data-scientist-khoi-du-lieu-holt-01-1842085-jv?source=searchResults&searchType=2&placement=1842185&sortBy=date',\n",
       " 'https://www.vietnamworks.com/data-engineer-khoi-du-lieu-holt-02-1842087-jv?source=searchResults&searchType=2&placement=1842187&sortBy=date',\n",
       " 'https://www.vietnamworks.com/nhan-vien-kinh-doanh-thiet-bi-y-te--1837475-jv?source=searchResults&searchType=2&placement=1837575&sortBy=date',\n",
       " 'https://www.vietnamworks.com/internal-audit-manager-37-1-1-1--1835114-jv?source=searchResults&searchType=2&placement=1835214&sortBy=date',\n",
       " 'https://www.vietnamworks.com/nhan-vien-kinh-doanh-thu-nhap-toi-30-trieu-thang-1839385-jv?source=searchResults&searchType=2&placement=1839485&sortBy=date',\n",
       " 'https://www.vietnamworks.com/stock-management-and-logistics-manager-1840621-jv?source=searchResults&searchType=2&placement=1840721&sortBy=date',\n",
       " 'https://www.vietnamworks.com/excellent-management-trainee-1842472-jv?source=searchResults&searchType=2&placement=1842572&sortBy=date',\n",
       " 'https://www.vietnamworks.com/nhan-vien-kinh-doanh-phat-trien-thi-truong-1842462-jv?source=searchResults&searchType=2&placement=1842562&sortBy=date',\n",
       " 'https://www.vietnamworks.com/part-supply-and-logistics-analyst-1842046-jv?source=searchResults&searchType=2&placement=1842146&sortBy=date',\n",
       " 'https://www.vietnamworks.com/nhan-vien-mua-hang-xuat-nhap-khau-nam-tieng-trung--1835250-jv?source=searchResults&searchType=2&placement=1835350&sortBy=date',\n",
       " 'https://www.vietnamworks.com/qa-game-tester--1836516-jv?source=searchResults&searchType=2&placement=1836616&sortBy=date',\n",
       " 'https://www.vietnamworks.com/supplier-quality-engineer--1829002-jv?source=searchResults&searchType=2&placement=1829102&sortBy=date',\n",
       " 'https://www.vietnamworks.com/purchasing-staff--1828989-jv?source=searchResults&searchType=2&placement=1829089&sortBy=date',\n",
       " 'https://www.vietnamworks.com/finance-accounting-manager--1840678-jv?source=searchResults&searchType=2&placement=1840778&sortBy=date',\n",
       " 'https://www.vietnamworks.com/chuyen-vien-erp-phan-he-tai-chinh-ke-toan-1842520-jv?source=searchResults&searchType=2&placement=1842620&sortBy=date',\n",
       " 'https://www.vietnamworks.com/payable-accountant--1834730-jv?source=searchResults&searchType=2&placement=1834830&sortBy=date',\n",
       " 'https://www.vietnamworks.com/hot-job-chuyen-gia-chinh-sach-va-phat-trien-to-chuc-1837953-jv?source=searchResults&searchType=2&placement=1838053&sortBy=date',\n",
       " 'https://www.vietnamworks.com/nhan-vien-quan-ly-chat-luong-nhom-oqc-tieng-nhat-biet-ky-thuat-va-khong-yeu-cau-kinh-nghiem--1826850-jv?source=searchResults&searchType=2&placement=1826950&sortBy=date',\n",
       " 'https://www.vietnamworks.com/python-test-automation-engineer-1823252-jv?source=searchResults&searchType=2&placement=1823352&sortBy=date',\n",
       " 'https://www.vietnamworks.com/senior-executive-sales-b2b-basic-salary-from-1-000-usd-monthly-bonus-sales-out-1828903-jv?source=searchResults&searchType=2&placement=1829003&sortBy=date',\n",
       " 'https://www.vietnamworks.com/junior-e-business-manager--1842524-jv?source=searchResults&searchType=2&placement=1842624&sortBy=date',\n",
       " 'https://www.vietnamworks.com/customer-service-upto-700--1834148-jv?source=searchResults&searchType=2&placement=1834248&sortBy=date',\n",
       " 'https://www.vietnamworks.com/shift-technician-leader-1837488-jv?source=searchResults&searchType=2&placement=1837588&sortBy=date',\n",
       " 'https://www.vietnamworks.com/interior-designer-urgent-2-1--1839447-jv?source=searchResults&searchType=2&placement=1839597&sortBy=date',\n",
       " 'https://www.vietnamworks.com/sales-executive--1838920-jv?source=searchResults&searchType=2&placement=1839070&sortBy=date',\n",
       " 'https://www.vietnamworks.com/chuyen-gia-thu-xep-von--1840425-jv?source=searchResults&searchType=2&placement=1840575&sortBy=date',\n",
       " 'https://www.vietnamworks.com/chuyen-vien-quan-tri-he-thong-va-bao-mat--1830525-jv?source=searchResults&searchType=2&placement=1830675&sortBy=date',\n",
       " 'https://www.vietnamworks.com/senior-ux-ui-designer--1843365-jv?source=searchResults&searchType=2&placement=1843515&sortBy=date',\n",
       " 'https://www.vietnamworks.com/ky-su-phat-trien-smart-factory-luong-upto-750-1843266-jv?source=searchResults&searchType=2&placement=1843416&sortBy=date',\n",
       " 'https://www.vietnamworks.com/ky-su-cong-nghe-djong-goi-cap-cao-du-an-chat-ban-dan-1838908-jv?source=searchResults&searchType=2&placement=1839058&sortBy=date',\n",
       " 'https://www.vietnamworks.com/chuyen-gia-kiem-soat-noi-bo-cao-cap--1827003-jv?source=searchResults&searchType=2&placement=1827153&sortBy=date',\n",
       " 'https://www.vietnamworks.com/manufacturing-engineer--1828638-jv?source=searchResults&searchType=2&placement=1828788&sortBy=date',\n",
       " 'https://www.vietnamworks.com/chuyen-vien-tai-chinh-doanh-nghiep--1842453-jv?source=searchResults&searchType=2&placement=1842603&sortBy=date',\n",
       " 'https://www.vietnamworks.com/business-intelligence-analyst-1842467-jv?source=searchResults&searchType=2&placement=1842617&sortBy=date',\n",
       " 'https://www.vietnamworks.com/chuyen-vien-kinh-doanh-bds-cong-nghiep--1835158-jv?source=searchResults&searchType=2&placement=1835308&sortBy=date',\n",
       " 'https://www.vietnamworks.com/hcm-pho-giam-doc-dao-tao-trung-tam-giao-duc-cong-nghe-steam-thu-nhap-40-50-trieu-1837904-jv?source=searchResults&searchType=2&placement=1838054&sortBy=date',\n",
       " 'https://www.vietnamworks.com/production-supervisor-2-3-years-of-experience--1840615-jv?source=searchResults&searchType=2&placement=1840765&sortBy=date',\n",
       " 'https://www.vietnamworks.com/senior-software-engineer-generative-ai-1840894-jv?source=searchResults&searchType=2&placement=1841044&sortBy=date',\n",
       " 'https://www.vietnamworks.com/chuyen-gia-bao-mat-security-expert-1831279-jv?source=searchResults&searchType=2&placement=1831429&sortBy=date',\n",
       " 'https://www.vietnamworks.com/flutter-software-engineer-1-000-2-400-1823242-jv?source=searchResults&searchType=2&placement=1823392&sortBy=date',\n",
       " 'https://www.vietnamworks.com/it-executive-hanoi-head-office-443-1834687-jv?source=searchResults&searchType=2&placement=1834837&sortBy=date',\n",
       " 'https://www.vietnamworks.com/senior-officer-purchasing-truong-nhom-thu-mua--1837284-jv?source=searchResults&searchType=2&placement=1837434&sortBy=date',\n",
       " 'https://www.vietnamworks.com/sales-service-operation-team-lead--1838892-jv?source=searchResults&searchType=2&placement=1839042&sortBy=date',\n",
       " 'https://www.vietnamworks.com/b2b-sales-executive-linh-vuc-it-camera-1838959-jv?source=searchResults&searchType=2&placement=1839109&sortBy=date',\n",
       " 'https://www.vietnamworks.com/admissions-intern-1840013-jv?source=searchResults&searchType=2&placement=1840163&sortBy=date',\n",
       " 'https://www.vietnamworks.com/elementary-vietnamese-language-teacher-1834741-jv?source=searchResults&searchType=2&placement=1834891&sortBy=date',\n",
       " 'https://www.vietnamworks.com/nhan-vien-tu-van-tuyen-sinh-chuong-trinh-tieng-anh-e-learning-luong-cung-10-12-trieu-luong-kinh-doanh-1837420-jv?source=searchResults&searchType=2&placement=1837570&sortBy=date',\n",
       " 'https://www.vietnamworks.com/nhan-vien-kiem-tra-chat-luong-inspection-staff-co-xe-dua-don-tu-ha-noi--1839437-jv?source=searchResults&searchType=2&placement=1839587&sortBy=date',\n",
       " 'https://www.vietnamworks.com/nhan-vien-kinh-doanh--1841042-jv?source=searchResults&searchType=2&placement=1841192&sortBy=date',\n",
       " 'https://www.vietnamworks.com/truong-phong-kinh-doanh-bdjs-inhouse-ha-noi-1836418-jv?source=searchResults&searchType=2&placement=1836568&sortBy=date',\n",
       " 'https://www.vietnamworks.com/purchasing-officer-130-2-2-1-1-1-1-2-1-1-1--1837366-jv?source=searchResults&searchType=2&placement=1837516&sortBy=date',\n",
       " 'https://www.vietnamworks.com/ha-noi-chuyen-vien-kinh-doanh-ban-xe-o-to-vinfast-1842027-jv?source=searchResults&searchType=2&placement=1842177&sortBy=date',\n",
       " 'https://www.vietnamworks.com/sales-logistics-nhan-vien-kinh-doanh--1841924-jv?source=searchResults&searchType=2&placement=1842074&sortBy=date',\n",
       " 'https://www.vietnamworks.com/chuyen-vien-cao-cap-phap-che-kiem-soat-tuan-thu-1839361-jv?source=searchResults&searchType=2&placement=1839511&sortBy=date',\n",
       " 'https://www.vietnamworks.com/project-manager-1842336-jv?source=searchResults&searchType=2&placement=1842486&sortBy=date',\n",
       " 'https://www.vietnamworks.com/continuous-improvement-lead-1837364-jv?source=searchResults&searchType=2&placement=1837514&sortBy=date',\n",
       " 'https://www.vietnamworks.com/giao-vien-tieng-anh-tieu-hoc-thcs-thpt--1837006-jv?source=searchResults&searchType=2&placement=1837156&sortBy=date',\n",
       " 'https://www.vietnamworks.com/chuyen-gia-quan-tri-rui-ro-tich-hop-phong-quan-tri-rui-ro-tich-hop-khoi-quan-tri-rui-ro--1839381-jv?source=searchResults&searchType=2&placement=1839531&sortBy=date',\n",
       " 'https://www.vietnamworks.com/ie-assistant-officer-1840570-jv?source=searchResults&searchType=2&placement=1840720&sortBy=date',\n",
       " 'https://www.vietnamworks.com/sap-abap-developer--1840579-jv?source=searchResults&searchType=2&placement=1840729&sortBy=date',\n",
       " 'https://www.vietnamworks.com/chuyen-vien-kinh-doanh-xuat-khau-tieng-trung-thu-nhap-15-20tr-thu-viec-100-luong-1842429-jv?source=searchResults&searchType=2&placement=1842579&sortBy=date',\n",
       " 'https://www.vietnamworks.com/nhan-vien-ky-thuat-co-giay-phep-bao-duong-may-bay-1842468-jv?source=searchResults&searchType=2&placement=1842618&sortBy=date',\n",
       " 'https://www.vietnamworks.com/ky-su-t-c--1834610-jv?source=searchResults&searchType=2&placement=1834760&sortBy=date',\n",
       " 'https://www.vietnamworks.com/chuyen-vien-phap-ly-nuoc-ngoai-1836422-jv?source=searchResults&searchType=2&placement=1836572&sortBy=date',\n",
       " 'https://www.vietnamworks.com/production-engineering-manager--1829380-jv?source=searchResults&searchType=2&placement=1829530&sortBy=date',\n",
       " 'https://www.vietnamworks.com/tuyen-gap-qa-staff--1839360-jv?source=searchResults&searchType=2&placement=1839510&sortBy=date',\n",
       " 'https://www.vietnamworks.com/bim-modeler-4-2--1839153-jv?source=searchResults&searchType=2&placement=1839303&sortBy=date',\n",
       " 'https://www.vietnamworks.com/junior-project-officer-jpo-in-aquaculture-i4ag-1841549-jv?source=searchResults&searchType=2&placement=1841699&sortBy=date',\n",
       " 'https://www.vietnamworks.com/pho-phong-dich-vu-khach-hang-bac-ninh-1831282-jv?source=searchResults&searchType=2&placement=1831432&sortBy=date',\n",
       " 'https://www.vietnamworks.com/truong-nhom-kinh-doanh-phat-trien-kenh-online-1831286-jv?source=searchResults&searchType=2&placement=1831436&sortBy=date',\n",
       " 'https://www.vietnamworks.com/event-marketing-1842397-jv?source=searchResults&searchType=2&placement=1842547&sortBy=date',\n",
       " 'https://www.vietnamworks.com/project-leader-japanese-n3-1834650-jv?source=searchResults&searchType=2&placement=1834800&sortBy=date',\n",
       " 'https://www.vietnamworks.com/certification-regulations-staff-1824516-jv?source=searchResults&searchType=2&placement=1824666&sortBy=date',\n",
       " 'https://www.vietnamworks.com/chuyen-vien-cao-cap-ngan-sach-va-chi-phi-phong-ke-hoach-va-quan-ly-hieu-qua-cong-viec-khoi-tai-chinh-ke-toan--1839404-jv?source=searchResults&searchType=2&placement=1839604&sortBy=date',\n",
       " 'https://www.vietnamworks.com/senior-expert-product-and-solution-1829328-jv?source=searchResults&searchType=2&placement=1829528&sortBy=date',\n",
       " 'https://www.vietnamworks.com/production-control-manager--1829367-jv?source=searchResults&searchType=2&placement=1829567&sortBy=date',\n",
       " 'https://www.vietnamworks.com/chuyen-gia-an-ninh-thong-tin-ha-noi-rm-1840595-jv?source=searchResults&searchType=2&placement=1840795&sortBy=date',\n",
       " 'https://www.vietnamworks.com/nhan-vien-quan-he-khach-hang-doanh-nghiep--1836429-jv?source=searchResults&searchType=2&placement=1836629&sortBy=date',\n",
       " 'https://www.vietnamworks.com/certification-regulations-staff-1824516-jv?source=searchResults&searchType=2&placement=1824716&sortBy=date',\n",
       " 'https://www.vietnamworks.com/vehicle-tester_automotive-domain-tester-1836380-jv?source=searchResults&searchType=2&placement=1836580&sortBy=date',\n",
       " 'https://www.vietnamworks.com/chuyen-vien-kinh-doanh--1838741-jv?source=searchResults&searchType=2&placement=1838941&sortBy=date',\n",
       " 'https://www.vietnamworks.com/ky-su-dien-tu-vien-thong-cong-nghe-thong-tin--1838744-jv?source=searchResults&searchType=2&placement=1838944&sortBy=date',\n",
       " 'https://www.vietnamworks.com/sales-executive-linh-vuc-kinh-doanh-vat-tu-trang-thiet-bi-y-te--1828873-jv?source=searchResults&searchType=2&placement=1829073&sortBy=date',\n",
       " 'https://www.vietnamworks.com/sales-tour-inbound-urgent-only-female-at-hanoi-1839416-jv?source=searchResults&searchType=2&placement=1839616&sortBy=date',\n",
       " 'https://www.vietnamworks.com/structural-engineer-52-1-1-1-1--1839163-jv?source=searchResults&searchType=2&placement=1839363&sortBy=date',\n",
       " 'https://www.vietnamworks.com/procurement-staff--1820197-jv?source=searchResults&searchType=2&placement=1820397&sortBy=date',\n",
       " 'https://www.vietnamworks.com/hot-job-truong-phong-kinh-doanh--1838944-jv?source=searchResults&searchType=2&placement=1839144&sortBy=date',\n",
       " 'https://www.vietnamworks.com/nhan-vien-ho-tro-kinh-doanh-phong-bao-hiem-insurance-admin--1838838-jv?source=searchResults&searchType=2&placement=1839038&sortBy=date',\n",
       " 'https://www.vietnamworks.com/chuyen-gia-quan-tri-co-so-du-lieu-phong-mis-khoi-tckt-1--1839401-jv?source=searchResults&searchType=2&placement=1839601&sortBy=date',\n",
       " 'https://www.vietnamworks.com/fpga-engineer-chance-to-become-leader-1830388-jv?source=searchResults&searchType=2&placement=1830588&sortBy=date',\n",
       " 'https://www.vietnamworks.com/ky-su-chuyen-giao-cong-nghe-va-phat-trien-san-pham-chap-nhan-ung-vien-chua-co-kinh-nghiem--1842371-jv?source=searchResults&searchType=2&placement=1842571&sortBy=date',\n",
       " 'https://www.vietnamworks.com/purchasing-staff-seasonal--1843503-jv?source=searchResults&searchType=2&placement=1843703&sortBy=date',\n",
       " 'https://www.vietnamworks.com/performance-stability-engineer-software-salary-up-to-2500-hybrid-working-relocation-bonus--1837820-jv?source=searchResults&searchType=2&placement=1838020&sortBy=date',\n",
       " 'https://www.vietnamworks.com/ky-su-co-khi-co-djien-tu-1838821-jv?source=searchResults&searchType=2&placement=1839021&sortBy=date',\n",
       " 'https://www.vietnamworks.com/khanh-hoa-project-sales-engineerhvac-sales-engineer-ky-su-kinh-doanh-du-an-1841978-jv?source=searchResults&searchType=2&placement=1842178&sortBy=date',\n",
       " 'https://www.vietnamworks.com/giam-doc-r-d-nguon--1839325-jv?source=searchResults&searchType=2&placement=1839525&sortBy=date',\n",
       " 'https://www.vietnamworks.com/trinh-duoc-vien-etc--1840531-jv?source=searchResults&searchType=2&placement=1840731&sortBy=date',\n",
       " 'https://www.vietnamworks.com/chuyen-vien-it-nhap-lieu-1842328-jv?source=searchResults&searchType=2&placement=1842528&sortBy=date',\n",
       " 'https://www.vietnamworks.com/-night-shift-implementation-specialist-edi-erp-sap-supply-chain-1842760-jv?source=searchResults&searchType=2&placement=1842960&sortBy=date',\n",
       " 'https://www.vietnamworks.com/hr-executive-recruitment--1835333-jv?source=searchResults&searchType=2&placement=1835533&sortBy=date',\n",
       " 'https://www.vietnamworks.com/logistics-staff--1835589-jv?source=searchResults&searchType=2&placement=1835789&sortBy=date',\n",
       " 'https://www.vietnamworks.com/nhan-vien-kinh-doanh-ky-su-ban-hang--1842769-jv?source=searchResults&searchType=2&placement=1842969&sortBy=date',\n",
       " 'https://www.vietnamworks.com/software-project-leader-up-to-2-500-hybrid-working-relocation-bonus-1--1837816-jv?source=searchResults&searchType=2&placement=1838016&sortBy=date',\n",
       " 'https://www.vietnamworks.com/chuyen-vien-quan-he-khach-hang-doanh-nghiep--1819793-jv?source=searchResults&searchType=2&placement=1819993&sortBy=date',\n",
       " 'https://www.vietnamworks.com/ky-su-phat-trien-san-pham-moi-1000-npi-engineer--1840420-jv?source=searchResults&searchType=2&placement=1840620&sortBy=date',\n",
       " 'https://www.vietnamworks.com/senior-net-developer--1840906-jv?source=searchResults&searchType=2&placement=1841106&sortBy=date',\n",
       " 'https://www.vietnamworks.com/sale-admin--1827880-jv?source=searchResults&searchType=2&placement=1828080&sortBy=date',\n",
       " 'https://www.vietnamworks.com/giam-doc-van-phong-dai-ly-agency-office-director-aod--1834024-jv?source=searchResults&searchType=2&placement=1834224&sortBy=date',\n",
       " 'https://www.vietnamworks.com/nhan-vien-it--1829323-jv?source=searchResults&searchType=2&placement=1829523&sortBy=date',\n",
       " 'https://www.vietnamworks.com/archicad-and-vectorworks-architects--1842250-jv?source=searchResults&searchType=2&placement=1842450&sortBy=date',\n",
       " 'https://www.vietnamworks.com/process-engineer-up-to-1000--1840416-jv?source=searchResults&searchType=2&placement=1840616&sortBy=date',\n",
       " 'https://www.vietnamworks.com/product-strategy-assistant-manager--1841479-jv?source=searchResults&searchType=2&placement=1841679&sortBy=date',\n",
       " 'https://www.vietnamworks.com/product-strategy-staff--1841478-jv?source=searchResults&searchType=2&placement=1841678&sortBy=date',\n",
       " 'https://www.vietnamworks.com/garment-merchandiser-nhan-vien-quan-ly-don-hang-may-mac-urgent--1836649-jv?source=searchResults&searchType=2&placement=1836849&sortBy=date',\n",
       " 'https://www.vietnamworks.com/quality-and-compliance-manager--1837338-jv?source=searchResults&searchType=2&placement=1837538&sortBy=date',\n",
       " 'https://www.vietnamworks.com/database-developer-dba-1840117-jv?source=searchResults&searchType=2&placement=1840317&sortBy=date',\n",
       " 'https://www.vietnamworks.com/business-development-officer-japanese-speaking-luong-700-1500-usd--1838740-jv?source=searchResults&searchType=2&placement=1838940&sortBy=date',\n",
       " 'https://www.vietnamworks.com/academic-officer-for-math--1840554-jv?source=searchResults&searchType=2&placement=1840754&sortBy=date',\n",
       " 'https://www.vietnamworks.com/nhan-vien-ke-toan-1-gt-3-nam-kinh-nghiem-1843496-jv?source=searchResults&searchType=2&placement=1843696&sortBy=date',\n",
       " 'https://www.vietnamworks.com/nhan-vien-quan-he-khach-hang-doanh-nghiep--1835786-jv?source=searchResults&searchType=2&placement=1835986&sortBy=date',\n",
       " 'https://www.vietnamworks.com/integration-staff-implementation-business-analyst-data-analyst-1842742-jv?source=searchResults&searchType=2&placement=1842942&sortBy=date',\n",
       " 'https://www.vietnamworks.com/r-d-engineer--1843493-jv?source=searchResults&searchType=2&placement=1843693&sortBy=date',\n",
       " 'https://www.vietnamworks.com/sap-fico-specialist--1835859-jv?source=searchResults&searchType=2&placement=1836059&sortBy=date',\n",
       " 'https://www.vietnamworks.com/cad-engineer-1835841-jv?source=searchResults&searchType=2&placement=1836091&sortBy=date',\n",
       " 'https://www.vietnamworks.com/software-test-engineer-1835835-jv?source=searchResults&searchType=2&placement=1836085&sortBy=date',\n",
       " 'https://www.vietnamworks.com/giam-doc-nha-may-san-xuat-mo-rong-san-xuat-1826069-jv?source=searchResults&searchType=2&placement=1826319&sortBy=date',\n",
       " 'https://www.vietnamworks.com/sap-mm-specialist--1835853-jv?source=searchResults&searchType=2&placement=1836103&sortBy=date',\n",
       " 'https://www.vietnamworks.com/marketing-staff-1838763-jv?source=searchResults&searchType=2&placement=1839013&sortBy=date',\n",
       " 'https://www.vietnamworks.com/nhan-vien-luu-ky-chung-khoan-phong-dich-vu-chung-khoan-1839258-jv?source=searchResults&searchType=2&placement=1839508&sortBy=date',\n",
       " 'https://www.vietnamworks.com/truong-phong-san-xuat-mo-rong-san-xuat-1826058-jv?source=searchResults&searchType=2&placement=1826308&sortBy=date',\n",
       " 'https://www.vietnamworks.com/expert-technology-and-digital-risk-management-2-1-1--1834511-jv?source=searchResults&searchType=2&placement=1834761&sortBy=date',\n",
       " 'https://www.vietnamworks.com/senior-backend-java-developer-1839712-jv?source=searchResults&searchType=2&placement=1839962&sortBy=date',\n",
       " 'https://www.vietnamworks.com/truong-phong-ky-thuat-pe-mo-rong-san-xuat-1826066-jv?source=searchResults&searchType=2&placement=1826316&sortBy=date',\n",
       " 'https://www.vietnamworks.com/truong-phong-ke-hoach-san-xuat-khsx-mo-rong-san-xuat-1826064-jv?source=searchResults&searchType=2&placement=1826314&sortBy=date',\n",
       " 'https://www.vietnamworks.com/senior-software-engineer--1837732-jv?source=searchResults&searchType=2&placement=1837982&sortBy=date',\n",
       " 'https://www.vietnamworks.com/chuyen-vien-phap-ly-thu-hoi-cong-no--1837741-jv?source=searchResults&searchType=2&placement=1837991&sortBy=date',\n",
       " 'https://www.vietnamworks.com/thuc-tap-sinh-quan-he-khach-hang-doanh-nghiep--1837743-jv?source=searchResults&searchType=2&placement=1837993&sortBy=date',\n",
       " 'https://www.vietnamworks.com/sales-executive-b2b--1842316-jv?source=searchResults&searchType=2&placement=1842566&sortBy=date',\n",
       " 'https://www.vietnamworks.com/senior-officer-market-and-liquidity-risk-analysis-1834508-jv?source=searchResults&searchType=2&placement=1834758&sortBy=date',\n",
       " 'https://www.vietnamworks.com/giam-sat-nhom-thau-1824073-jv?source=searchResults&searchType=2&placement=1824323&sortBy=date',\n",
       " 'https://www.vietnamworks.com/sales-and-marketing-director-for-fsel-an-edtech-co-of-atlantic-group--1835785-jv?source=searchResults&searchType=2&placement=1836035&sortBy=date',\n",
       " 'https://www.vietnamworks.com/manager-senior-consultant-operations-transformation-vn-1836665-jv?source=searchResults&searchType=2&placement=1836915&sortBy=date',\n",
       " 'https://www.vietnamworks.com/truong-phong-mua-hang--1837263-jv?source=searchResults&searchType=2&placement=1837513&sortBy=date',\n",
       " 'https://www.vietnamworks.com/chuyen-vien-cao-cap-quan-ly-va-ho-tro-dich-vu-khach-hang-doanh-nghiep-1836866-jv?source=searchResults&searchType=2&placement=1837116&sortBy=date',\n",
       " 'https://www.vietnamworks.com/truong-phong-quan-ly-chat-luong-qaqc-mo-rong-san-xuat-1826054-jv?source=searchResults&searchType=2&placement=1826304&sortBy=date',\n",
       " 'https://www.vietnamworks.com/senior-sales-executive-sales-enginner-1839205-jv?source=searchResults&searchType=2&placement=1839455&sortBy=date',\n",
       " 'https://www.vietnamworks.com/chuyen-vien-mua-ban-va-xu-ly-no--1840695-jv?source=searchResults&searchType=2&placement=1840945&sortBy=date',\n",
       " 'https://www.vietnamworks.com/chuyen-vien-le-tan-kiem-hanh-chinh-1842335-jv?source=searchResults&searchType=2&placement=1842585&sortBy=date',\n",
       " 'https://www.vietnamworks.com/nhan-vien-phap-ly-thu-hoi-cong-no--1842726-jv?source=searchResults&searchType=2&placement=1842976&sortBy=date',\n",
       " 'https://www.vietnamworks.com/toan-quoc-quan-ly-kinh-doanh-giao-duc-sales-manager-thu-nhap-hap-dan-len-toi-40-trieu-thang--1835356-jv?source=searchResults&searchType=2&placement=1835606&sortBy=date',\n",
       " 'https://www.vietnamworks.com/officer-it-operations-1837734-jv?source=searchResults&searchType=2&placement=1837984&sortBy=date',\n",
       " 'https://www.vietnamworks.com/production-assistant--1838571-jv?source=searchResults&searchType=2&placement=1838821&sortBy=date',\n",
       " 'https://www.vietnamworks.com/nhan-vien-giam-sat-va-quan-tri-quy-phong-dich-vu-chung-khoan-1839260-jv?source=searchResults&searchType=2&placement=1839510&sortBy=date',\n",
       " 'https://www.vietnamworks.com/senior-frontend-reactjs-developer-french-speaking--1843126-jv?source=searchResults&searchType=2&placement=1843376&sortBy=date',\n",
       " 'https://www.vietnamworks.com/facility-security-officer-aeon-mall-binh-tan-445-1842351-jv?source=searchResults&searchType=2&placement=1842601&sortBy=date',\n",
       " 'https://www.vietnamworks.com/truong-phong-kinh-doanh-phu-tung-va-hau-mai-o-to-1836169-jv?source=searchResults&searchType=2&placement=1836419&sortBy=date',\n",
       " 'https://www.vietnamworks.com/facebook-marketing-manager-1836675-jv?source=searchResults&searchType=2&placement=1836925&sortBy=date',\n",
       " 'https://www.vietnamworks.com/nhan-vien-phong-cong-nghe--1836632-jv?source=searchResults&searchType=2&placement=1836882&sortBy=date',\n",
       " 'https://www.vietnamworks.com/ky-su-co-dien-mua-hang-1836442-jv?source=searchResults&searchType=2&placement=1836692&sortBy=date',\n",
       " 'https://www.vietnamworks.com/kien-truc-su-chung-cu-cao-tang--1836572-jv?source=searchResults&searchType=2&placement=1836822&sortBy=date',\n",
       " 'https://www.vietnamworks.com/garment-technical-designer-nhan-vien-ky-thuat-may-mac-1836421-jv?source=searchResults&searchType=2&placement=1836671&sortBy=date',\n",
       " 'https://www.vietnamworks.com/ios-developer-junior-hcm-1836258-jv?source=searchResults&searchType=2&placement=1836508&sortBy=date',\n",
       " 'https://www.vietnamworks.com/tuyen-dung-ke-toan-cong-no-02-nguoi-1839766-jv?source=searchResults&searchType=2&placement=1840016&sortBy=date',\n",
       " 'https://www.vietnamworks.com/project-fas-dmo-engineer-mes-engineer-1839805-jv?source=searchResults&searchType=2&placement=1840055&sortBy=date',\n",
       " 'https://www.vietnamworks.com/misa-lending-product-manager-1839835-jv?source=searchResults&searchType=2&placement=1840085&sortBy=date',\n",
       " 'https://www.vietnamworks.com/tuyen-ky-su-ky-vua-tot-nghiep-dhbk-uu-tien-cac-nganh-dien-tu-tu-dong-hoa-co-khi-hoa-hoc--1839854-jv?source=searchResults&searchType=2&placement=1840104&sortBy=date',\n",
       " 'https://www.vietnamworks.com/claims-senior-executive-healthcare-1839862-jv?source=searchResults&searchType=2&placement=1840112&sortBy=date',\n",
       " 'https://www.vietnamworks.com/account-executive-1839867-jv?source=searchResults&searchType=2&placement=1840117&sortBy=date',\n",
       " 'https://www.vietnamworks.com/ky-su-trung-tam-thiet-bi-jig-fixture--1839899-jv?source=searchResults&searchType=2&placement=1840149&sortBy=date',\n",
       " 'https://www.vietnamworks.com/nhan-vien-kinh-doanh-b2b-biet-tieng-anh-hoac-nhat-1839771-jv?source=searchResults&searchType=2&placement=1840021&sortBy=date',\n",
       " 'https://www.vietnamworks.com/hot-nhan-vien-kinh-doanh-du-an-thu-nhap-len-den-20-trieu-thang--1839734-jv?source=searchResults&searchType=2&placement=1839984&sortBy=date',\n",
       " 'https://www.vietnamworks.com/nhan-vien-phu-trach-an-toan-moi-truong-hse-nha-may-san-xuat-1839736-jv?source=searchResults&searchType=2&placement=1839986&sortBy=date',\n",
       " 'https://www.vietnamworks.com/giao-dich-vien-tieng-han-teller-korean-speaking-1839655-jv?source=searchResults&searchType=2&placement=1839905&sortBy=date',\n",
       " 'https://www.vietnamworks.com/02-agritech-specialists-1839758-jv?source=searchResults&searchType=2&placement=1840058&sortBy=date',\n",
       " 'https://www.vietnamworks.com/project-refrigeration-engineer-1839740-jv?source=searchResults&searchType=2&placement=1840040&sortBy=date',\n",
       " 'https://www.vietnamworks.com/ky-su-bao-tri--1827408-jv?source=searchResults&searchType=2&placement=1827708&sortBy=date',\n",
       " 'https://www.vietnamworks.com/truong-ban-kinh-doanh-bat-dong-san-b2b-1827534-jv?source=searchResults&searchType=2&placement=1827834&sortBy=date',\n",
       " 'https://www.vietnamworks.com/quan-ly-phat-trien-kinh-doanh-partnership--1827673-jv?source=searchResults&searchType=2&placement=1827973&sortBy=date',\n",
       " 'https://www.vietnamworks.com/truong-phong-hanh-chinh-nhan-su-nganh-fandb-1827704-jv?source=searchResults&searchType=2&placement=1828004&sortBy=date',\n",
       " 'https://www.vietnamworks.com/nhan-vien-bao-tri-1828840-jv?source=searchResults&searchType=2&placement=1829140&sortBy=date',\n",
       " 'https://www.vietnamworks.com/phien-dich-vien-tieng-han-thu-nhap-upto-25tr-thang-1829397-jv?source=searchResults&searchType=2&placement=1829697&sortBy=date',\n",
       " 'https://www.vietnamworks.com/chuyen-vien-du-thau--1839567-jv?source=searchResults&searchType=2&placement=1839867&sortBy=date',\n",
       " 'https://www.vietnamworks.com/hvac-training-engineer-ky-su-dao-tao-dien-lanh-1828400-jv?source=searchResults&searchType=2&placement=1828700&sortBy=date',\n",
       " 'https://www.vietnamworks.com/relationship-manager-employee-banking-2-1-1-1-1-1-1-1-4--1839569-jv?source=searchResults&searchType=2&placement=1839869&sortBy=date',\n",
       " 'https://www.vietnamworks.com/cvc-quan-he-khach-hang-ca-nhan-mang-tin-dung-1829531-jv?source=searchResults&searchType=2&placement=1829831&sortBy=date',\n",
       " 'https://www.vietnamworks.com/giam-doc-ban-quan-ly-tttm--1839932-jv?source=searchResults&searchType=2&placement=1840232&sortBy=date',\n",
       " 'https://www.vietnamworks.com/commercial-finance-assistant-manager-1839923-jv?source=searchResults&searchType=2&placement=1840223&sortBy=date',\n",
       " 'https://www.vietnamworks.com/ky-su-san-xuat--1840912-jv?source=searchResults&searchType=2&placement=1841212&sortBy=date',\n",
       " 'https://www.vietnamworks.com/trinh-duoc-vien--1841016-jv?source=searchResults&searchType=2&placement=1841316&sortBy=date',\n",
       " 'https://www.vietnamworks.com/nhan-vien-kinh-doanh-khong-yeu-cau-kinh-nghiem--1829857-jv?source=searchResults&searchType=2&placement=1830157&sortBy=date',\n",
       " 'https://www.vietnamworks.com/it-staff--1830448-jv?source=searchResults&searchType=2&placement=1830748&sortBy=date',\n",
       " 'https://www.vietnamworks.com/quan-ly-kinh-doanh-kv-quoc-te-b2b-luong-cung-30-45tr-1830685-jv?source=searchResults&searchType=2&placement=1830985&sortBy=date',\n",
       " 'https://www.vietnamworks.com/project-manager--1840812-jv?source=searchResults&searchType=2&placement=1841112&sortBy=date',\n",
       " 'https://www.vietnamworks.com/gap-nhan-vien-xuat-nhap-khau-tieng-trung-1829472-jv?source=searchResults&searchType=2&placement=1829772&sortBy=date',\n",
       " 'https://www.vietnamworks.com/ts-technical-service--1840837-jv?source=searchResults&searchType=2&placement=1841137&sortBy=date',\n",
       " 'https://www.vietnamworks.com/nhan-vien-quan-ly-thiet-bi--1841011-jv?source=searchResults&searchType=2&placement=1841311&sortBy=date',\n",
       " 'https://www.vietnamworks.com/sap-support-executive-chuyen-vien-ho-tro-sap-1825206-jv?source=searchResults&searchType=2&placement=1825506&sortBy=date',\n",
       " 'https://www.vietnamworks.com/truong-phong-san-pham-va-giai-phap-muc-luong-tu-30-000-usd-nam-lam-viec-tai-mozambique--1836615-jv?source=searchResults&searchType=2&placement=1836915&sortBy=date',\n",
       " 'https://www.vietnamworks.com/chi-huy-truong--1836627-jv?source=searchResults&searchType=2&placement=1836927&sortBy=date',\n",
       " 'https://www.vietnamworks.com/kindergarten-teacher-giao-vien-mam-non--1836468-jv?source=searchResults&searchType=2&placement=1836768&sortBy=date',\n",
       " 'https://www.vietnamworks.com/ky-su-xay-dung-qs-cong-truong--1836570-jv?source=searchResults&searchType=2&placement=1836870&sortBy=date',\n",
       " 'https://www.vietnamworks.com/ky-su-an-toan-safety-engineer--1836225-jv?source=searchResults&searchType=2&placement=1836525&sortBy=date',\n",
       " 'https://www.vietnamworks.com/sales-engineer-ky-su-ban-hang-thu-nhap-1500-usd-tro-len-1839751-jv?source=searchResults&searchType=2&placement=1840051&sortBy=date',\n",
       " 'https://www.vietnamworks.com/truong-phong-kinh-doanh-pos-and-trung-gian-thanh-toan-1839631-jv?source=searchResults&searchType=2&placement=1839931&sortBy=date',\n",
       " 'https://www.vietnamworks.com/learning-talent-and-development-senior-officer-outsourcing-1839713-jv?source=searchResults&searchType=2&placement=1840013&sortBy=date',\n",
       " 'https://www.vietnamworks.com/tro-ly-hanh-chinh-san-xuat--1839662-jv?source=searchResults&searchType=2&placement=1839962&sortBy=date',\n",
       " 'https://www.vietnamworks.com/tro-ly-ca-san-xuat--1839660-jv?source=searchResults&searchType=2&placement=1839960&sortBy=date',\n",
       " 'https://www.vietnamworks.com/assistant-sales-manager-pho-phong-kinh-doanh--1839709-jv?source=searchResults&searchType=2&placement=1840009&sortBy=date',\n",
       " 'https://www.vietnamworks.com/quan-ly-and-giam-sat-thi-cong-noi-that-1839721-jv?source=searchResults&searchType=2&placement=1840021&sortBy=date',\n",
       " 'https://www.vietnamworks.com/chuyen-vien-nghien-cuu-cao-cap-chi-nhan-cv-tieng-anh--1828769-jv?source=searchResults&searchType=2&placement=1829069&sortBy=date',\n",
       " 'https://www.vietnamworks.com/supply-chain-executive--1839574-jv?source=searchResults&searchType=2&placement=1839874&sortBy=date',\n",
       " 'https://www.vietnamworks.com/chuyen-vien-cao-cap-xay-dung-mo-hinh-rui-ro-risk-modeling-senior-specialist-khoi-quan-tri-rui-ro-ho24-265-1829339-jv?source=searchResults&searchType=2&placement=1829639&sortBy=date',\n",
       " 'https://www.vietnamworks.com/engineering-and-compliance-manager-1835789-jv?source=searchResults&searchType=2&placement=1836089&sortBy=date',\n",
       " 'https://www.vietnamworks.com/nhan-vien-ke-toan-ngan-hang-tai-hang-gai-ha-noi--1839865-jv?source=searchResults&searchType=2&placement=1840165&sortBy=date',\n",
       " 'https://www.vietnamworks.com/manager-bancassurance-income-management-1839887-jv?source=searchResults&searchType=2&placement=1840187&sortBy=date',\n",
       " 'https://www.vietnamworks.com/pricing-logistics-hang-xuat-ha-noi-ho-chi-minh-1839798-jv?source=searchResults&searchType=2&placement=1840098&sortBy=date',\n",
       " 'https://www.vietnamworks.com/database-admin-oracle-linux-senior-level-1839811-jv?source=searchResults&searchType=2&placement=1840111&sortBy=date',\n",
       " 'https://www.vietnamworks.com/nhan-vien-kinh-doanh-nganh-hoa-chat-1839823-jv?source=searchResults&searchType=2&placement=1840123&sortBy=date',\n",
       " 'https://www.vietnamworks.com/retail-manager-lam-viec-tai-nuoc-ngoai-1839875-jv?source=searchResults&searchType=2&placement=1840175&sortBy=date',\n",
       " 'https://www.vietnamworks.com/senior-expert-private-client-relationship-management--1839781-jv?source=searchResults&searchType=2&placement=1840081&sortBy=date',\n",
       " 'https://www.vietnamworks.com/truong-phong-kinh-doanh-kenh-gt-san-pham-sua-thuc-pham-dinh-duong-1839831-jv?source=searchResults&searchType=2&placement=1840131&sortBy=date',\n",
       " 'https://www.vietnamworks.com/nhan-vien-ky-thuat-dieu-khien-tu-dong-hoa--1839838-jv?source=searchResults&searchType=2&placement=1840138&sortBy=date',\n",
       " 'https://www.vietnamworks.com/giam-sat-bao-tri-tay-ninh-1810245-jv?source=searchResults&searchType=2&placement=1810545&sortBy=date',\n",
       " 'https://www.vietnamworks.com/nhan-vien-phap-che-luong-15-20-trieu-1839836-jv?source=searchResults&searchType=2&placement=1840186&sortBy=date',\n",
       " 'https://www.vietnamworks.com/senior-expert-private-client-relationship-management--1839781-jv?source=searchResults&searchType=2&placement=1840131&sortBy=date',\n",
       " 'https://www.vietnamworks.com/truong-phong-kinh-doanh-kenh-gt-san-pham-sua-thuc-pham-dinh-duong-1839831-jv?source=searchResults&searchType=2&placement=1840181&sortBy=date',\n",
       " 'https://www.vietnamworks.com/nhan-vien-ky-thuat-dieu-khien-tu-dong-hoa--1839838-jv?source=searchResults&searchType=2&placement=1840188&sortBy=date',\n",
       " 'https://www.vietnamworks.com/sales-engineer-ky-su-ban-hang-thu-nhap-1500-usd-tro-len-1839751-jv?source=searchResults&searchType=2&placement=1840101&sortBy=date',\n",
       " 'https://www.vietnamworks.com/truong-phong-kinh-doanh-pos-and-trung-gian-thanh-toan-1839631-jv?source=searchResults&searchType=2&placement=1839981&sortBy=date',\n",
       " 'https://www.vietnamworks.com/learning-talent-and-development-senior-officer-outsourcing-1839713-jv?source=searchResults&searchType=2&placement=1840063&sortBy=date',\n",
       " 'https://www.vietnamworks.com/sales-staff-male-accepting-new-graduates-1841051-jv?source=searchResults&searchType=2&placement=1841401&sortBy=date',\n",
       " 'https://www.vietnamworks.com/urgent-distribution-center-supervisor-1841074-jv?source=searchResults&searchType=2&placement=1841424&sortBy=date',\n",
       " 'https://www.vietnamworks.com/senior-hr-specialist-l-d-chuyen-vien-nhan-su-cap-cao-dao-tao-va-phat-trien-1830595-jv?source=searchResults&searchType=2&placement=1830945&sortBy=date',\n",
       " 'https://www.vietnamworks.com/senior-software-engineer-development--1840829-jv?source=searchResults&searchType=2&placement=1841179&sortBy=date',\n",
       " 'https://www.vietnamworks.com/ky-su-co-khi-co-dien-tu-600-1-200-tieng-anh-giao-tiep--1840780-jv?source=searchResults&searchType=2&placement=1841130&sortBy=date',\n",
       " 'https://www.vietnamworks.com/senior-java-backend-developer--1841146-jv?source=searchResults&searchType=2&placement=1841496&sortBy=date',\n",
       " 'https://www.vietnamworks.com/giao-vien-khoa-hoc-cong-nghe-1821027-jv?source=searchResults&searchType=2&placement=1821377&sortBy=date',\n",
       " 'https://www.vietnamworks.com/ky-su-noi-nghiep--1823959-jv?source=searchResults&searchType=2&placement=1824309&sortBy=date',\n",
       " 'https://www.vietnamworks.com/chuyen-vien-quan-ly-khoa-hoc-cong-nghe-ban-nghien-cuu-doi-moi-va-chuyen-giao-cong-nghe-1825996-jv?source=searchResults&searchType=2&placement=1826346&sortBy=date',\n",
       " 'https://www.vietnamworks.com/ci-specialist-1828215-jv?source=searchResults&searchType=2&placement=1828565&sortBy=date',\n",
       " 'https://www.vietnamworks.com/senior-production-engineering-specialist-1828216-jv?source=searchResults&searchType=2&placement=1828566&sortBy=date',\n",
       " 'https://www.vietnamworks.com/thiet-ke-mep-chuyen-nganh-moi-truong-1836633-jv?source=searchResults&searchType=2&placement=1836983&sortBy=date',\n",
       " 'https://www.vietnamworks.com/process-engineer-5-positions-working-in-haiphong--1836676-jv?source=searchResults&searchType=2&placement=1837026&sortBy=date',\n",
       " 'https://www.vietnamworks.com/application-engineer-ky-su-ung-dung-thu-nhap-trung-binh-tu-35-40tr-thang--1839754-jv?source=searchResults&searchType=2&placement=1840104&sortBy=date',\n",
       " 'https://www.vietnamworks.com/specialist-agency-trainer-1839645-jv?source=searchResults&searchType=2&placement=1839995&sortBy=date',\n",
       " 'https://www.vietnamworks.com/nhan-vien-kinh-doanh-ky-thuat-thu-nhap-tu-30-40-trieu-dong--1839715-jv?source=searchResults&searchType=2&placement=1840065&sortBy=date',\n",
       " 'https://www.vietnamworks.com/truong-ban-phap-che--1839686-jv?source=searchResults&searchType=2&placement=1840036&sortBy=date',\n",
       " 'https://www.vietnamworks.com/wealth-banking-relationship-manager-1839701-jv?source=searchResults&searchType=2&placement=1840051&sortBy=date',\n",
       " 'https://www.vietnamworks.com/ky-su-danh-gia-san-pham-test-engineer-dao-tao-2-nam-tai-nhat-1839752-jv?source=searchResults&searchType=2&placement=1840102&sortBy=date',\n",
       " 'https://www.vietnamworks.com/chuyen-gia-phat-trien-kinh-doanh-phong-khach-hang-doanh-nghiep-lon-khoi-khach-hang-doanh-nghiep--1827090-jv?source=searchResults&searchType=2&placement=1827440&sortBy=date',\n",
       " 'https://www.vietnamworks.com/senior-linux-and-database-administrator-1839626-jv?source=searchResults&searchType=2&placement=1839976&sortBy=date',\n",
       " 'https://www.vietnamworks.com/truong-phong-tai-chinh-ke-toan-linh-vuc-san-xuat-xuat-nhap-khau-1839514-jv?source=searchResults&searchType=2&placement=1839864&sortBy=date',\n",
       " 'https://www.vietnamworks.com/chuyen-vien-trade-marketing--1839874-jv?source=searchResults&searchType=2&placement=1840224&sortBy=date',\n",
       " 'https://www.vietnamworks.com/chuyen-vien-phat-trien-nguon-luc-hrbp-specialist-khoi-to-chuc-nhan-su-ho24-274-1839807-jv?source=searchResults&searchType=2&placement=1840157&sortBy=date',\n",
       " 'https://www.vietnamworks.com/chuyen-vien-tu-van-tai-chinh-thu-nhap-hap-dan-upto-3xtr-1839608-jv?source=searchResults&searchType=2&placement=1839958&sortBy=date',\n",
       " 'https://www.vietnamworks.com/continuous-improvement-senior-specialist-1829115-jv?source=searchResults&searchType=2&placement=1829465&sortBy=date',\n",
       " 'https://www.vietnamworks.com/database-administrator-1840941-jv?source=searchResults&searchType=2&placement=1841291&sortBy=date',\n",
       " 'https://www.vietnamworks.com/group-investment-manager-1840842-jv?source=searchResults&searchType=2&placement=1841192&sortBy=date',\n",
       " 'https://www.vietnamworks.com/giam-sat-hien-truong-luong-upto-22-trieu--1840861-jv?source=searchResults&searchType=2&placement=1841211&sortBy=date',\n",
       " 'https://www.vietnamworks.com/ky-su-y-sinh-tai-cong-truong-site-engineer--1840946-jv?source=searchResults&searchType=2&placement=1841296&sortBy=date',\n",
       " 'https://www.vietnamworks.com/ie-senior-officer--1840868-jv?source=searchResults&searchType=2&placement=1841218&sortBy=date',\n",
       " 'https://www.vietnamworks.com/purchasing-sourcing-manager-truong-phong-mua-hang-1839906-jv?source=searchResults&searchType=2&placement=1840256&sortBy=date',\n",
       " 'https://www.vietnamworks.com/chuyen-gia-tu-van-khoi-nghiep-parttime-truong-dai-hoc-fpt--1828005-jv?source=searchResults&searchType=2&placement=1828355&sortBy=date',\n",
       " 'https://www.vietnamworks.com/software-quality-manager-1839915-jv?source=searchResults&searchType=2&placement=1840265&sortBy=date',\n",
       " 'https://www.vietnamworks.com/sales-tieng-trung-khoi-van-phong--1841133-jv?source=searchResults&searchType=2&placement=1841483&sortBy=date',\n",
       " 'https://www.vietnamworks.com/nhan-vien-qs-noi-that-ho-so-thanh-quyet-toan-luong-upto-18-trieu-thang-1840970-jv?source=searchResults&searchType=2&placement=1841320&sortBy=date',\n",
       " 'https://www.vietnamworks.com/chuyen-vien-quan-ly-quan-he-khach-hang-uu-tien-prm--1836453-jv?source=searchResults&searchType=2&placement=1836803&sortBy=date',\n",
       " 'https://www.vietnamworks.com/finance-assistant-manager--1836507-jv?source=searchResults&searchType=2&placement=1836857&sortBy=date',\n",
       " 'https://www.vietnamworks.com/giam-doc-sang-tao-phat-trien-san-pham-thoi-trang-nam-1836511-jv?source=searchResults&searchType=2&placement=1836861&sortBy=date',\n",
       " 'https://www.vietnamworks.com/packaging-design-engineer-1836310-jv?source=searchResults&searchType=2&placement=1836660&sortBy=date',\n",
       " 'https://www.vietnamworks.com/senior-card-transactions-device-monitoring-strategy-analytics-specialist--1836229-jv?source=searchResults&searchType=2&placement=1836579&sortBy=date',\n",
       " 'https://www.vietnamworks.com/nhan-vien-kinh-doanh-kenh-sieu-thi-1836347-jv?source=searchResults&searchType=2&placement=1836697&sortBy=date',\n",
       " 'https://www.vietnamworks.com/ruby-on-rails-developer--1836636-jv?source=searchResults&searchType=2&placement=1836986&sortBy=date',\n",
       " 'https://www.vietnamworks.com/ky-su-cong-truong-site-engineer--1836558-jv?source=searchResults&searchType=2&placement=1836958&sortBy=date',\n",
       " 'https://www.vietnamworks.com/ruby-on-rails-developer--1836636-jv?source=searchResults&searchType=2&placement=1837036&sortBy=date',\n",
       " 'https://www.vietnamworks.com/manager-van-hanh-san-thuong-mai-dien-tu-1836677-jv?source=searchResults&searchType=2&placement=1837077&sortBy=date',\n",
       " 'https://www.vietnamworks.com/manufacturing-excellence-coordinator--1836668-jv?source=searchResults&searchType=2&placement=1837068&sortBy=date',\n",
       " 'https://www.vietnamworks.com/urgent-sales-b2b-excecutive-good-income--1836326-jv?source=searchResults&searchType=2&placement=1836726&sortBy=date',\n",
       " 'https://www.vietnamworks.com/procurement-staff-nhan-vien-mua-hang-7-2-1572375-jv?source=searchResults&searchType=2&placement=1572775&sortBy=date',\n",
       " 'https://www.vietnamworks.com/chuyen-vien-ke-toan--1827877-jv?source=searchResults&searchType=2&placement=1828277&sortBy=date',\n",
       " 'https://www.vietnamworks.com/qa-supervisor-1839580-jv?source=searchResults&searchType=2&placement=1839980&sortBy=date',\n",
       " 'https://www.vietnamworks.com/nhan-vien-kinh-doanh-san-pham-hat-nhua-thu-nhap-1000-1400--1839586-jv?source=searchResults&searchType=2&placement=1839986&sortBy=date',\n",
       " 'https://www.vietnamworks.com/pho-giam-doc-trung-tam-khach-hang-ca-nhan-cao-cap-khoi-ngan-hang-ban-le-1839605-jv?source=searchResults&searchType=2&placement=1840005&sortBy=date',\n",
       " 'https://www.vietnamworks.com/cn-hoan-kiem-cn-ha-nam-tin-dung-doanh-nghiep-thu-nhap-tu-16-trieu-1828935-jv?source=searchResults&searchType=2&placement=1829335&sortBy=date',\n",
       " 'https://www.vietnamworks.com/chuyen-vien-cao-cap-quan-tri-no-debt-management-senior-specialist-khoi-quan-tri-rui-ro-ho24-267-1829352-jv?source=searchResults&searchType=2&placement=1829752&sortBy=date',\n",
       " 'https://www.vietnamworks.com/ky-su-qc-khuon--1827866-jv?source=searchResults&searchType=2&placement=1828266&sortBy=date',\n",
       " 'https://www.vietnamworks.com/supplier-quality-engineering-senior-engineer-1839682-jv?source=searchResults&searchType=2&placement=1840082&sortBy=date',\n",
       " 'https://www.vietnamworks.com/chuyen-vien-kinh-doanh-ngoai-khoa-vat-tu-tieu-hao-xet-nghiem-1839643-jv?source=searchResults&searchType=2&placement=1840043&sortBy=date',\n",
       " 'https://www.vietnamworks.com/air-pricing-logistics-ho-chi-minh-1839839-jv?source=searchResults&searchType=2&placement=1840239&sortBy=date',\n",
       " 'https://www.vietnamworks.com/product-manager-global-market-1839843-jv?source=searchResults&searchType=2&placement=1840243&sortBy=date',\n",
       " 'https://www.vietnamworks.com/hipp-brand-executive-chuyen-vien-thuong-hieu-hipp-thu-nhap-toi-20tr-thang--1839873-jv?source=searchResults&searchType=2&placement=1840273&sortBy=date',\n",
       " 'https://www.vietnamworks.com/le-tan-toa-nha--1839803-jv?source=searchResults&searchType=2&placement=1840203&sortBy=date',\n",
       " 'https://www.vietnamworks.com/chuyen-vien-khach-hang-uu-tien-two-chairs-1839883-jv?source=searchResults&searchType=2&placement=1840283&sortBy=date',\n",
       " 'https://www.vietnamworks.com/maintenance-manager-1839810-jv?source=searchResults&searchType=2&placement=1840210&sortBy=date',\n",
       " 'https://www.vietnamworks.com/marketing-staff-male-accepting-new-graduates-1841048-jv?source=searchResults&searchType=2&placement=1841448&sortBy=date',\n",
       " 'https://www.vietnamworks.com/2d-game-artist-1840921-jv?source=searchResults&searchType=2&placement=1841321&sortBy=date',\n",
       " 'https://www.vietnamworks.com/truong-phong-qa--1840889-jv?source=searchResults&searchType=2&placement=1841289&sortBy=date',\n",
       " 'https://www.vietnamworks.com/bien-phien-dich-tieng-han-korean-interpreter--1840959-jv?source=searchResults&searchType=2&placement=1841359&sortBy=date',\n",
       " 'https://www.vietnamworks.com/truong-nhom-chat-luong-qa-1840846-jv?source=searchResults&searchType=2&placement=1841246&sortBy=date',\n",
       " 'https://www.vietnamworks.com/product-marketing--1841045-jv?source=searchResults&searchType=2&placement=1841445&sortBy=date',\n",
       " 'https://www.vietnamworks.com/truong-bo-phan-tai-chinh-quan-ly-csdl-tai-san-bat-dong-san-1830301-jv?source=searchResults&searchType=2&placement=1830701&sortBy=date',\n",
       " 'https://www.vietnamworks.com/tuyen-gap-import-export-staff-temporary-8-months-1841086-jv?source=searchResults&searchType=2&placement=1841486&sortBy=date',\n",
       " 'https://www.vietnamworks.com/chuyen-vien-cao-cap-phat-trien-san-pham-senior-r-d-engineer-1830682-jv?source=searchResults&searchType=2&placement=1831082&sortBy=date',\n",
       " 'https://www.vietnamworks.com/assistant-to-internal-audit-director-1841037-jv?source=searchResults&searchType=2&placement=1841437&sortBy=date',\n",
       " 'https://www.vietnamworks.com/ruby-on-rails-3--1822850-jv?source=searchResults&searchType=2&placement=1823250&sortBy=date',\n",
       " 'https://www.vietnamworks.com/truong-phong-ki-thuat-phong-lab--1836596-jv?source=searchResults&searchType=2&placement=1836996&sortBy=date',\n",
       " 'https://www.vietnamworks.com/database-engineer-dba-1825858-jv?source=searchResults&searchType=2&placement=1826258&sortBy=date',\n",
       " 'https://www.vietnamworks.com/chi-huy-pho--1836631-jv?source=searchResults&searchType=2&placement=1837031&sortBy=date',\n",
       " 'https://www.vietnamworks.com/vpavp-trade-product-manager-global-transaction-banking-institutional-banking-group-dbs-vietnam-hcmc-1836670-jv?source=searchResults&searchType=2&placement=1837070&sortBy=date',\n",
       " 'https://www.vietnamworks.com/giao-vien-tieng-anh-luong-hap-dan-len-djen-30-trieu-co-hoi-thang-tien-cao-1836320-jv?source=searchResults&searchType=2&placement=1836720&sortBy=date',\n",
       " 'https://www.vietnamworks.com/nhan-vien-thiet-ke-co-khi-kinh-nghiem-duoi-1-nam-upto-11-trieu-1836254-jv?source=searchResults&searchType=2&placement=1836654&sortBy=date',\n",
       " 'https://www.vietnamworks.com/teaching-assistant-college-of-health-sciences--1836513-jv?source=searchResults&searchType=2&placement=1836913&sortBy=date',\n",
       " 'https://www.vietnamworks.com/salesman-1836531-jv?source=searchResults&searchType=2&placement=1836931&sortBy=date',\n",
       " 'https://www.vietnamworks.com/sales-executive-chinese-speaking--1836564-jv?source=searchResults&searchType=2&placement=1836964&sortBy=date',\n",
       " 'https://www.vietnamworks.com/chuyen-vien-cong-nghe-thong-tin-quan-ly-phan-mem-ung-dung-1836460-jv?source=searchResults&searchType=2&placement=1836860&sortBy=date',\n",
       " 'https://www.vietnamworks.com/chuyen-vien-kinh-doanh-khach-hang-cao-cap-chi-nhanh-kv-ha-noi-dvkd-khu-vuc-ha-noi--1836445-jv?source=searchResults&searchType=2&placement=1836845&sortBy=date',\n",
       " 'https://www.vietnamworks.com/warranty-senior-staff--1836553-jv?source=searchResults&searchType=2&placement=1836953&sortBy=date',\n",
       " 'https://www.vietnamworks.com/chuyen-vien-tien-luong-phuc-loi-1836110-jv?source=searchResults&searchType=2&placement=1836510&sortBy=date',\n",
       " 'https://www.vietnamworks.com/south-region-senior-clinical-application-executive--1836193-jv?source=searchResults&searchType=2&placement=1836593&sortBy=date',\n",
       " 'https://www.vietnamworks.com/giam-doc-kinh-doanh-uu-tien-manh-thuong-mai-dien-tu-va-mang-online-muc-luong-mo-xung-dang-theo-nang-luc-1839806-jv?source=searchResults&searchType=2&placement=1840206&sortBy=date',\n",
       " 'https://www.vietnamworks.com/it-communicator-full-time-part-time-1839814-jv?source=searchResults&searchType=2&placement=1840214&sortBy=date',\n",
       " 'https://www.vietnamworks.com/truong-trung-tam-center-lead-1839859-jv?source=searchResults&searchType=2&placement=1840259&sortBy=date',\n",
       " 'https://www.vietnamworks.com/leasing-assistant-manager--1839894-jv?source=searchResults&searchType=2&placement=1840294&sortBy=date',\n",
       " 'https://www.vietnamworks.com/chinese-speaking-intern-fresher-1839695-jv?source=searchResults&searchType=2&placement=1840145&sortBy=date',\n",
       " 'https://www.vietnamworks.com/commercial-contract-and-fulfillment-management-specialist-1839688-jv?source=searchResults&searchType=2&placement=1840138&sortBy=date',\n",
       " 'https://www.vietnamworks.com/senior-operations-performance-coordinator-8-month-contract-1829232-jv?source=searchResults&searchType=2&placement=1829682&sortBy=date',\n",
       " 'https://www.vietnamworks.com/truong-phong-ke-toan-1839595-jv?source=searchResults&searchType=2&placement=1840045&sortBy=date',\n",
       " 'https://www.vietnamworks.com/manufacturing-plant-production-manager-1839596-jv?source=searchResults&searchType=2&placement=1840046&sortBy=date',\n",
       " 'https://www.vietnamworks.com/truong-phong-san-pham-retail-1838965-jv?source=searchResults&searchType=2&placement=1839415&sortBy=date',\n",
       " 'https://www.vietnamworks.com/senior-sales--1839520-jv?source=searchResults&searchType=2&placement=1839970&sortBy=date',\n",
       " 'https://www.vietnamworks.com/ho-acquiring-clearing-and-settlement-payment-business-1839578-jv?source=searchResults&searchType=2&placement=1840028&sortBy=date',\n",
       " 'https://www.vietnamworks.com/thiet-ke-noi-that-3d--1839582-jv?source=searchResults&searchType=2&placement=1840032&sortBy=date',\n",
       " 'https://www.vietnamworks.com/ke-toan-truong-chef-accountant--1839587-jv?source=searchResults&searchType=2&placement=1840037&sortBy=date',\n",
       " 'https://www.vietnamworks.com/chuyen-gia-ke-toan-tong-hop--1827089-jv?source=searchResults&searchType=2&placement=1827539&sortBy=date',\n",
       " 'https://www.vietnamworks.com/ky-thuat-vien-bao-tri-may-maintenance-technician-1829152-jv?source=searchResults&searchType=2&placement=1829602&sortBy=date',\n",
       " 'https://www.vietnamworks.com/continuous-improvement-manager--1829114-jv?source=searchResults&searchType=2&placement=1829564&sortBy=date',\n",
       " 'https://www.vietnamworks.com/chuyen-vien-cao-cap-giai-phap-thu-hoi-no-collection-strategy-senior-specialist-khoi-quan-tri-rui-ro-ho24-268-1829357-jv?source=searchResults&searchType=2&placement=1829807&sortBy=date',\n",
       " 'https://www.vietnamworks.com/dai-dien-pt-kinh-doanh-mien-nam-chat-don-nganh-nhua-filler-masterbatch-1839509-jv?source=searchResults&searchType=2&placement=1839959&sortBy=date',\n",
       " 'https://www.vietnamworks.com/ky-thuat-vien-y-hoc-co-truyen-vat-ly-tri-lieu-1840840-jv?source=searchResults&searchType=2&placement=1841290&sortBy=date',\n",
       " 'https://www.vietnamworks.com/giam-doc-kinh-doanh-uu-tien-manh-thuong-mai-dien-tu-va-mang-online-muc-luong-mo-xung-dang-theo-nang-luc-1839806-jv?source=searchResults&searchType=2&placement=1840256&sortBy=date',\n",
       " 'https://www.vietnamworks.com/it-communicator-full-time-part-time-1839814-jv?source=searchResults&searchType=2&placement=1840264&sortBy=date',\n",
       " 'https://www.vietnamworks.com/truong-trung-tam-center-lead-1839859-jv?source=searchResults&searchType=2&placement=1840309&sortBy=date',\n",
       " 'https://www.vietnamworks.com/leasing-assistant-manager--1839894-jv?source=searchResults&searchType=2&placement=1840344&sortBy=date',\n",
       " 'https://www.vietnamworks.com/senior-it-supervisor-1839857-jv?source=searchResults&searchType=2&placement=1840307&sortBy=date',\n",
       " 'https://www.vietnamworks.com/business-specialist--1839860-jv?source=searchResults&searchType=2&placement=1840310&sortBy=date',\n",
       " 'https://www.vietnamworks.com/quan-ly-co-dien-mepf-1839783-jv?source=searchResults&searchType=2&placement=1840233&sortBy=date',\n",
       " 'https://www.vietnamworks.com/production-supervisor-shift-work-1839898-jv?source=searchResults&searchType=2&placement=1840348&sortBy=date',\n",
       " 'https://www.vietnamworks.com/database-administrator-1839644-jv?source=searchResults&searchType=2&placement=1840094&sortBy=date',\n",
       " 'https://www.vietnamworks.com/pricing-supervisor--1839678-jv?source=searchResults&searchType=2&placement=1840128&sortBy=date',\n",
       " 'https://www.vietnamworks.com/npd-manager-furniture-1840969-jv?source=searchResults&searchType=2&placement=1841419&sortBy=date',\n",
       " 'https://www.vietnamworks.com/it-compliance--1841003-jv?source=searchResults&searchType=2&placement=1841453&sortBy=date',\n",
       " 'https://www.vietnamworks.com/sales-manager-senior-sales-leader-1840996-jv?source=searchResults&searchType=2&placement=1841446&sortBy=date',\n",
       " 'https://www.vietnamworks.com/nhan-vien-khoi-khai-thac-logistics-hang-khong-khong-yeu-cau-kn-chap-nhan-sv-moi-ra-truong--1840763-jv?source=searchResults&searchType=2&placement=1841213&sortBy=date',\n",
       " 'https://www.vietnamworks.com/payable-accountant-ke-toan-thanh-toan--1840772-jv?source=searchResults&searchType=2&placement=1841222&sortBy=date',\n",
       " 'https://www.vietnamworks.com/bac-si-y-hoc-co-truyen-1840835-jv?source=searchResults&searchType=2&placement=1841285&sortBy=date',\n",
       " 'https://www.vietnamworks.com/nhan-vien-khai-thac-san-bay-noi-bai-khong-yeu-cau-kinh-nghiem--1841006-jv?source=searchResults&searchType=2&placement=1841456&sortBy=date',\n",
       " 'https://www.vietnamworks.com/sales-representative-dai-dien-kinh-doanh--1822131-jv?source=searchResults&searchType=2&placement=1822581&sortBy=date',\n",
       " 'https://www.vietnamworks.com/3-web-developer-net-or-app-mobile-1838760-jv?source=searchResults&searchType=2&placement=1839210&sortBy=date',\n",
       " 'https://www.vietnamworks.com/lap-trinh-vien-phan-mem-software-developer-ho-chi-minh-1836931-jv?source=searchResults&searchType=2&placement=1837381&sortBy=date',\n",
       " 'https://www.vietnamworks.com/2024-k-unicorn-global-conference-job-fair-a-challenge-for-a-greater-future-1841102-jv?source=searchResults&searchType=2&placement=1841552&sortBy=date',\n",
       " 'https://www.vietnamworks.com/experienced-salesforce-developer-french--1843077-jv?source=searchResults&searchType=2&placement=1843527&sortBy=date',\n",
       " 'https://www.vietnamworks.com/nhan-vien-bao-tri-khuon-mold-die-maintenance-staff--1843112-jv?source=searchResults&searchType=2&placement=1843562&sortBy=date',\n",
       " 'https://www.vietnamworks.com/senior-fullstack-net-reactjs-developer-french-speaking-1843124-jv?source=searchResults&searchType=2&placement=1843574&sortBy=date',\n",
       " 'https://www.vietnamworks.com/e-com-leader-1840652-jv?source=searchResults&searchType=2&placement=1841102&sortBy=date',\n",
       " 'https://www.vietnamworks.com/ke-toan-tong-hop-1835320-jv?source=searchResults&searchType=2&placement=1835770&sortBy=date',\n",
       " 'https://www.vietnamworks.com/experienced-automation-tester-freelancer-location-ha-noi--1837201-jv?source=searchResults&searchType=2&placement=1837651&sortBy=date',\n",
       " 'https://www.vietnamworks.com/mes-developer-1841369-jv?source=searchResults&searchType=2&placement=1841819&sortBy=date',\n",
       " 'https://www.vietnamworks.com/ky-su-xay-dung-civil-engineer--1842688-jv?source=searchResults&searchType=2&placement=1843138&sortBy=date',\n",
       " 'https://www.vietnamworks.com/ky-su-djien-electrical-engineer-1842694-jv?source=searchResults&searchType=2&placement=1843144&sortBy=date',\n",
       " 'https://www.vietnamworks.com/layout-engineer--1824151-jv?source=searchResults&searchType=2&placement=1824601&sortBy=date',\n",
       " 'https://www.vietnamworks.com/chuyen-vien-tu-van-bds-cao-cap-kenh-ngan-hang--1840446-jv?source=searchResults&searchType=2&placement=1840896&sortBy=date',\n",
       " 'https://www.vietnamworks.com/ky-su-boc-tach-khoi-luong-ve-ket-cau-thep-luong-upto-20-trieu-thang-1840424-jv?source=searchResults&searchType=2&placement=1840874&sortBy=date',\n",
       " 'https://www.vietnamworks.com/truong-phong-kinh-doanh-bds-ocean-park-smart-city-1840359-jv?source=searchResults&searchType=2&placement=1840809&sortBy=date',\n",
       " 'https://www.vietnamworks.com/chuyen-vien-tu-van-bds-cao-cap-kenh-ngan-hang--1840446-jv?source=searchResults&searchType=2&placement=1840946&sortBy=date',\n",
       " 'https://www.vietnamworks.com/ky-su-boc-tach-khoi-luong-ve-ket-cau-thep-luong-upto-20-trieu-thang-1840424-jv?source=searchResults&searchType=2&placement=1840924&sortBy=date',\n",
       " 'https://www.vietnamworks.com/truong-phong-kinh-doanh-bds-ocean-park-smart-city-1840359-jv?source=searchResults&searchType=2&placement=1840859&sortBy=date',\n",
       " 'https://www.vietnamworks.com/nhan-vien-tu-van-tuyen-sinh-educational-planner--1841517-jv?source=searchResults&searchType=2&placement=1842017&sortBy=date',\n",
       " 'https://www.vietnamworks.com/giao-vien-tieng-nhat-phu-trach-chuong-trinh-tieng-nhat-tren-nen-tang-so-japanese-academic-coordinator-1842677-jv?source=searchResults&searchType=2&placement=1843177&sortBy=date',\n",
       " 'https://www.vietnamworks.com/pho-phong-hanh-chinh-nhan-su-1835166-jv?source=searchResults&searchType=2&placement=1835666&sortBy=date',\n",
       " 'https://www.vietnamworks.com/senior-brand-manager-fmcg-industry--1838771-jv?source=searchResults&searchType=2&placement=1839271&sortBy=date',\n",
       " 'https://www.vietnamworks.com/chuyen-vien-chinh-chuyen-vien-cap-cao-nhan-su-1842251-jv?source=searchResults&searchType=2&placement=1842751&sortBy=date',\n",
       " 'https://www.vietnamworks.com/chuyen-vien-tu-van-bat-dong-san-khong-yeu-cau-kinh-nghiem--1840428-jv?source=searchResults&searchType=2&placement=1840928&sortBy=date',\n",
       " 'https://www.vietnamworks.com/nhan-vien-giam-sat-ve-sinh-cong-nghiep-tai-ha-noi--1841864-jv?source=searchResults&searchType=2&placement=1842364&sortBy=date',\n",
       " 'https://www.vietnamworks.com/senior-buyer--1834472-jv?source=searchResults&searchType=2&placement=1834972&sortBy=date',\n",
       " 'https://www.vietnamworks.com/application-engineer-power-management-field-1824154-jv?source=searchResults&searchType=2&placement=1824654&sortBy=date',\n",
       " 'https://www.vietnamworks.com/production-training-expert-1840426-jv?source=searchResults&searchType=2&placement=1840926&sortBy=date',\n",
       " 'https://www.vietnamworks.com/dieu-phoi-hoc-thuat-atlantic-five-star-english-center-1840838-jv?source=searchResults&searchType=2&placement=1841338&sortBy=date',\n",
       " 'https://www.vietnamworks.com/win-urgent-nhan-vien-kinh-doanh-kenh-gt-upto-15tr-1831629-jv?source=searchResults&searchType=2&placement=1832129&sortBy=date',\n",
       " 'https://www.vietnamworks.com/experienced-automation-tester--1843123-jv?source=searchResults&searchType=2&placement=1843623&sortBy=date',\n",
       " 'https://www.vietnamworks.com/salesforce-intern-with-french-speaking--1843078-jv?source=searchResults&searchType=2&placement=1843578&sortBy=date',\n",
       " 'https://www.vietnamworks.com/nhan-vien-djam-bao-chat-luong-chi-tiet-ban-djau-1843489-jv?source=searchResults&searchType=2&placement=1843989&sortBy=date',\n",
       " 'https://www.vietnamworks.com/quality-assurance-engineer--1835614-jv?source=searchResults&searchType=2&placement=1836114&sortBy=date',\n",
       " 'https://www.vietnamworks.com/data-center-solution-sales-engineer-1835255-jv?source=searchResults&searchType=2&placement=1835755&sortBy=date',\n",
       " 'https://www.vietnamworks.com/quality-assurance-engineer-accept-fresher--1835261-jv?source=searchResults&searchType=2&placement=1835761&sortBy=date',\n",
       " 'https://www.vietnamworks.com/nhan-vien-ban-hang-big-bike-hcm-1838761-jv?source=searchResults&searchType=2&placement=1839261&sortBy=date',\n",
       " 'https://www.vietnamworks.com/truong-phong-djao-tao-1841995-jv?source=searchResults&searchType=2&placement=1842495&sortBy=date',\n",
       " 'https://www.vietnamworks.com/technical-support-engineer-senior-level-techhub-vietnam-1834339-jv?source=searchResults&searchType=2&placement=1834839&sortBy=date',\n",
       " 'https://www.vietnamworks.com/ky-su-giai-phap-he-chieu-sang-dien-nhe--1842625-jv?source=searchResults&searchType=2&placement=1843125&sortBy=date',\n",
       " 'https://www.vietnamworks.com/technical-sales-engineer-solar-and-energy-storage-1835262-jv?source=searchResults&searchType=2&placement=1835762&sortBy=date',\n",
       " 'https://www.vietnamworks.com/hr-operations-manager-strong-in-candb-1842526-jv?source=searchResults&searchType=2&placement=1843026&sortBy=date',\n",
       " 'https://www.vietnamworks.com/thiet-ke-co-khi-lap-may-1822549-jv?source=searchResults&searchType=2&placement=1823049&sortBy=date',\n",
       " 'https://www.vietnamworks.com/qa-tester-korean-speaking--1839136-jv?source=searchResults&searchType=2&placement=1839636&sortBy=date',\n",
       " 'https://www.vietnamworks.com/ky-su-quan-ly-cong-trinh-mo-khai-thac-khoang-san-1835248-jv?source=searchResults&searchType=2&placement=1835748&sortBy=date',\n",
       " 'https://www.vietnamworks.com/chuyen-vien-phan-tich-nghiep-vu-san-pham-business-analyst-1837163-jv?source=searchResults&searchType=2&placement=1837663&sortBy=date',\n",
       " 'https://www.vietnamworks.com/manufacturing-engineer--1838729-jv?source=searchResults&searchType=2&placement=1839229&sortBy=date',\n",
       " 'https://www.vietnamworks.com/nhan-vien-phat-trien-dia-ban-product-account--1829205-jv?source=searchResults&searchType=2&placement=1829705&sortBy=date',\n",
       " 'https://www.vietnamworks.com/chuyen-vien-phan-tich-tin-dung--1840366-jv?source=searchResults&searchType=2&placement=1840866&sortBy=date',\n",
       " 'https://www.vietnamworks.com/large-industries-energy-transition-engineering-and-construction-business-developer-1842577-jv?source=searchResults&searchType=2&placement=1843077&sortBy=date',\n",
       " 'https://www.vietnamworks.com/lap-trinh-vien-full-stack--1823504-jv?source=searchResults&searchType=2&placement=1824004&sortBy=date',\n",
       " 'https://www.vietnamworks.com/giam-djoc-du-an-xay-dung-du-an-fdi-1827483-jv?source=searchResults&searchType=2&placement=1827983&sortBy=date',\n",
       " 'https://www.vietnamworks.com/phien-dich-tieng-trung-luong-tu-16-trieu-1842234-jv?source=searchResults&searchType=2&placement=1842734&sortBy=date',\n",
       " 'https://www.vietnamworks.com/mt-horeca-sales-manager-meat-food-vinabeef--1829726-jv?source=searchResults&searchType=2&placement=1830226&sortBy=date',\n",
       " 'https://www.vietnamworks.com/sales-planning-officer-aeon-mall-ha-dong-434-1833876-jv?source=searchResults&searchType=2&placement=1834376&sortBy=date',\n",
       " 'https://www.vietnamworks.com/nhan-vien-le-tan-hanh-chinh-ngan-han-8-thang-1837452-jv?source=searchResults&searchType=2&placement=1837952&sortBy=date',\n",
       " 'https://www.vietnamworks.com/nhan-vien-qa-1843481-jv?source=searchResults&searchType=2&placement=1843981&sortBy=date',\n",
       " 'https://www.vietnamworks.com/cityland-education-vice-dean-1840720-jv?source=searchResults&searchType=2&placement=1841220&sortBy=date',\n",
       " 'https://www.vietnamworks.com/03-project-manager-business-analyst-1838727-jv?source=searchResults&searchType=2&placement=1839227&sortBy=date',\n",
       " 'https://www.vietnamworks.com/urgent-hrbp-manager-1825001-jv?source=searchResults&searchType=2&placement=1825501&sortBy=date',\n",
       " 'https://www.vietnamworks.com/lead-generation-b2b-sdr-1843452-jv?source=searchResults&searchType=2&placement=1843952&sortBy=date',\n",
       " 'https://www.vietnamworks.com/ky-su-dien-tu-dong-hoa-khong-yc-kinh-nghiem--1827791-jv?source=searchResults&searchType=2&placement=1828291&sortBy=date',\n",
       " 'https://www.vietnamworks.com/customer-service-advisor-penang-malaysia--1838132-jv?source=searchResults&searchType=2&placement=1838632&sortBy=date',\n",
       " 'https://www.vietnamworks.com/truong-phong-phap-che-1838667-jv?source=searchResults&searchType=2&placement=1839167&sortBy=date',\n",
       " 'https://www.vietnamworks.com/nhan-vien-ky-thuat-bao-tri-tien-ich-theo-ca--1838487-jv?source=searchResults&searchType=2&placement=1838987&sortBy=date',\n",
       " 'https://www.vietnamworks.com/maintenance-staff--1838524-jv?source=searchResults&searchType=2&placement=1839074&sortBy=date',\n",
       " 'https://www.vietnamworks.com/ky-su-tu-dong-hoa-luong-len-toi-25-trieu-1838867-jv?source=searchResults&searchType=2&placement=1839417&sortBy=date',\n",
       " 'https://www.vietnamworks.com/ky-su-tu-dong-hoa-149--1838726-jv?source=searchResults&searchType=2&placement=1839276&sortBy=date',\n",
       " 'https://www.vietnamworks.com/nhan-vien-kinh-doanh-tieng-han-1836887-jv?source=searchResults&searchType=2&placement=1837437&sortBy=date',\n",
       " 'https://www.vietnamworks.com/logistics-staff-1836180-jv?source=searchResults&searchType=2&placement=1836730&sortBy=date',\n",
       " 'https://www.vietnamworks.com/giam-djoc-dich-vu-o-to-1838663-jv?source=searchResults&searchType=2&placement=1839213&sortBy=date',\n",
       " 'https://www.vietnamworks.com/giam-djoc-tai-chinh-1838664-jv?source=searchResults&searchType=2&placement=1839214&sortBy=date',\n",
       " 'https://www.vietnamworks.com/giam-djoc-marketing-1838666-jv?source=searchResults&searchType=2&placement=1839216&sortBy=date',\n",
       " 'https://www.vietnamworks.com/facilities-manager--1838636-jv?source=searchResults&searchType=2&placement=1839186&sortBy=date',\n",
       " 'https://www.vietnamworks.com/financial-analyst-auditing-experience--1838894-jv?source=searchResults&searchType=2&placement=1839444&sortBy=date',\n",
       " 'https://www.vietnamworks.com/sales-trainer-1838412-jv?source=searchResults&searchType=2&placement=1838962&sortBy=date',\n",
       " 'https://www.vietnamworks.com/chuyen-vien-cao-cap-phat-trien-nguon-cung--1840052-jv?source=searchResults&searchType=2&placement=1840602&sortBy=date',\n",
       " 'https://www.vietnamworks.com/ky-su-san-xuat--1840065-jv?source=searchResults&searchType=2&placement=1840615&sortBy=date',\n",
       " 'https://www.vietnamworks.com/vietnamese-interpreter-work-from-home-24-7-rotational-shift--1838133-jv?source=searchResults&searchType=2&placement=1838683&sortBy=date',\n",
       " 'https://www.vietnamworks.com/senior-digital-marketing-specialist-1836560-jv?source=searchResults&searchType=2&placement=1837110&sortBy=date',\n",
       " 'https://www.vietnamworks.com/giam-doc-kinh-doanh-nganh-o-to-co-khi-che-tao-1838661-jv?source=searchResults&searchType=2&placement=1839211&sortBy=date',\n",
       " 'https://www.vietnamworks.com/giam-doc-nha-may-nganh-o-to-co-khi-che-tao-1838662-jv?source=searchResults&searchType=2&placement=1839212&sortBy=date',\n",
       " 'https://www.vietnamworks.com/mice-event-lead--1836167-jv?source=searchResults&searchType=2&placement=1836717&sortBy=date',\n",
       " 'https://www.vietnamworks.com/pho-phong-thu-tuc-phap-ly-va-phat-trien-du-an-chu-dau-tu--1835982-jv?source=searchResults&searchType=2&placement=1836532&sortBy=date',\n",
       " 'https://www.vietnamworks.com/customer-service-staff--1827281-jv?source=searchResults&searchType=2&placement=1827831&sortBy=date',\n",
       " 'https://www.vietnamworks.com/hai-duong-nhan-vien-van-phong-san-xuat-biet-tieng-han-khong-yc-kinh-nghiem--1838817-jv?source=searchResults&searchType=2&placement=1839367&sortBy=date',\n",
       " 'https://www.vietnamworks.com/ky-su-co-dien-va-dieu-hoa-thong-gio-hvac-luong-15-25tr-phu-cap-thuong-doanh-so--1789941-jv?source=searchResults&searchType=2&placement=1790491&sortBy=date',\n",
       " 'https://www.vietnamworks.com/chuyen-vien-tai-chinh-cao-cap--1835999-jv?source=searchResults&searchType=2&placement=1836549&sortBy=date',\n",
       " 'https://www.vietnamworks.com/giam-djoc-hanh-chinh-nhan-su-1838670-jv?source=searchResults&searchType=2&placement=1839220&sortBy=date',\n",
       " 'https://www.vietnamworks.com/ngan-luong-pho-phong-ke-toan-1838881-jv?source=searchResults&searchType=2&placement=1839431&sortBy=date',\n",
       " 'https://www.vietnamworks.com/senior-data-governance-ha-noi-ta139-1830661-jv?source=searchResults&searchType=2&placement=1831211&sortBy=date',\n",
       " 'https://www.vietnamworks.com/technical-leader--1825469-jv?source=searchResults&searchType=2&placement=1826019&sortBy=date',\n",
       " 'https://www.vietnamworks.com/truong-chuyen-san-xuat-line-smt--1838560-jv?source=searchResults&searchType=2&placement=1839110&sortBy=date',\n",
       " 'https://www.vietnamworks.com/truong-nhom-kiem-toan-noi-bo-1839005-jv?source=searchResults&searchType=2&placement=1839555&sortBy=date',\n",
       " 'https://www.vietnamworks.com/truong-phong-chat-luong--1836613-jv?source=searchResults&searchType=2&placement=1837163&sortBy=date',\n",
       " 'https://www.vietnamworks.com/senior-business-analyst-co-kinh-nghiem-ve-banking-finance--1843419-jv?source=searchResults&searchType=2&placement=1843969&sortBy=date',\n",
       " 'https://www.vietnamworks.com/operation-manager-country-clubhouse-set-up-project-1835199-jv?source=searchResults&searchType=2&placement=1835749&sortBy=date',\n",
       " 'https://www.vietnamworks.com/chuyen-vien-cao-cap-quan-he-khach-hang-uu-tien-binh-djinh-nha-trang-quang-tri-1824308-jv?source=searchResults&searchType=2&placement=1824858&sortBy=date',\n",
       " 'https://www.vietnamworks.com/interpreter-and-assistant-to-group-ceo-english-japanese-1836607-jv?source=searchResults&searchType=2&placement=1837157&sortBy=date',\n",
       " 'https://www.vietnamworks.com/giam-doc-trung-tam-tiem-chung--1836601-jv?source=searchResults&searchType=2&placement=1837151&sortBy=date',\n",
       " 'https://www.vietnamworks.com/global-customer-support--1836475-jv?source=searchResults&searchType=2&placement=1837025&sortBy=date',\n",
       " 'https://www.vietnamworks.com/nhan-vien-kinh-doanh-hoa-chat-thiet-bi-muc-luong-tu-18-28-trieu-gross--1836357-jv?source=searchResults&searchType=2&placement=1836907&sortBy=date',\n",
       " 'https://www.vietnamworks.com/truong-nhom-ky-thuat-nha-may-ha-nam-nganh-thuc-pham-fmcg-1838988-jv?source=searchResults&searchType=2&placement=1839538&sortBy=date',\n",
       " 'https://www.vietnamworks.com/vinclub-senior-java-engineer-hcm-1842164-jv?source=searchResults&searchType=2&placement=1842714&sortBy=date',\n",
       " 'https://www.vietnamworks.com/nhan-vien-thuc-hien-hop-dong--1836597-jv?source=searchResults&searchType=2&placement=1837147&sortBy=date',\n",
       " 'https://www.vietnamworks.com/administration-executive-leasing-department-hcm-head-office-433-1827604-jv?source=searchResults&searchType=2&placement=1828154&sortBy=date',\n",
       " 'https://www.vietnamworks.com/nutrition-product-development-specialist-1836463-jv?source=searchResults&searchType=2&placement=1837013&sortBy=date',\n",
       " 'https://www.vietnamworks.com/nhan-vien-mua-hang-quoc-te-va-trong-nuoc-di-lam-ngay-1826859-jv?source=searchResults&searchType=2&placement=1827409&sortBy=date',\n",
       " 'https://www.vietnamworks.com/it-infrastructure-architecture-administrator-microsoft-365-administrator--1836411-jv?source=searchResults&searchType=2&placement=1836961&sortBy=date',\n",
       " 'https://www.vietnamworks.com/giam-sat-ban-hang-nganh-hang-tieu-dung-nhanh-fmcg--1838911-jv?source=searchResults&searchType=2&placement=1839461&sortBy=date',\n",
       " 'https://www.vietnamworks.com/nhan-vien-phong-tham-dinh-phat-hanh-hop-dong-1841106-jv?source=searchResults&searchType=2&placement=1841656&sortBy=date',\n",
       " 'https://www.vietnamworks.com/data-scientist-expert-ha-noi-ta133-1830665-jv?source=searchResults&searchType=2&placement=1831215&sortBy=date',\n",
       " 'https://www.vietnamworks.com/ha-nam-sales-admin-ho-tro-kinh-doanh-tieng-nhat-trung-han-anh-lam-viec-t2-t6-luong-hap-dan-600-1000-thang-1842474-jv?source=searchResults&searchType=2&placement=1843024&sortBy=date',\n",
       " 'https://www.vietnamworks.com/chuyen-vien-cao-cap-phap-che--1836609-jv?source=searchResults&searchType=2&placement=1837159&sortBy=date',\n",
       " 'https://www.vietnamworks.com/financial-analyst--1836610-jv?source=searchResults&searchType=2&placement=1837160&sortBy=date',\n",
       " 'https://www.vietnamworks.com/nhan-vien-phong-quan-ly-san-xuat-nam-djai-hoc-1821842-jv?source=searchResults&searchType=2&placement=1822442&sortBy=date',\n",
       " 'https://www.vietnamworks.com/ke-toan-tong-hop--1838968-jv?source=searchResults&searchType=2&placement=1839568&sortBy=date',\n",
       " 'https://www.vietnamworks.com/electrical-engineer-phong-ky-thuat-12-18tr-chua-tinh-overtime--1838548-jv?source=searchResults&searchType=2&placement=1839148&sortBy=date',\n",
       " 'https://www.vietnamworks.com/giam-doc-san-xuat-nganh-thuc-pham-fmcg-1838987-jv?source=searchResults&searchType=2&placement=1839587&sortBy=date',\n",
       " 'https://www.vietnamworks.com/fresher-service-engineer-ky-su-dich-vu-khong-yeu-cau-kinh-nghiem-1840111-jv?source=searchResults&searchType=2&placement=1840711&sortBy=date',\n",
       " 'https://www.vietnamworks.com/giam-doc-kinh-doanh-mang-fintech-luong-thuong-hap-dan-1841132-jv?source=searchResults&searchType=2&placement=1841732&sortBy=date',\n",
       " 'https://www.vietnamworks.com/special-process-quality-engineer-1842144-jv?source=searchResults&searchType=2&placement=1842744&sortBy=date',\n",
       " 'https://www.vietnamworks.com/truong-nhom-kho-thanh-pham--1836598-jv?source=searchResults&searchType=2&placement=1837198&sortBy=date',\n",
       " 'https://www.vietnamworks.com/truong-nhom-ke-toan-quan-tri-thu-nhap-hap-dan-1836608-jv?source=searchResults&searchType=2&placement=1837208&sortBy=date',\n",
       " 'https://www.vietnamworks.com/giam-doc-kinh-doanh-vung-bat-dong-san-1838584-jv?source=searchResults&searchType=2&placement=1839184&sortBy=date',\n",
       " 'https://www.vietnamworks.com/chuyen-vien-cao-cap-quan-he-khach-hang-uu-tien-ho-chi-minh-vung-tau-long-an-1824300-jv?source=searchResults&searchType=2&placement=1824900&sortBy=date',\n",
       " 'https://www.vietnamworks.com/chuyen-vien-ban-san-pham-cho-vay-ho-chi-minh-djong-nai-dja-nang-1824313-jv?source=searchResults&searchType=2&placement=1824913&sortBy=date',\n",
       " 'https://www.vietnamworks.com/tuyen-gap-ky-su-it-tieng-trung-anh-it-xiao-dael-yong-daelg-1835950-jv?source=searchResults&searchType=2&placement=1836550&sortBy=date',\n",
       " 'https://www.vietnamworks.com/fresh-speed-up-2025-staff-it-1839462-jv?source=searchResults&searchType=2&placement=1840062&sortBy=date',\n",
       " 'https://www.vietnamworks.com/senior-hrbp-8-2-1--1835186-jv?source=searchResults&searchType=2&placement=1835786&sortBy=date',\n",
       " 'https://www.vietnamworks.com/ky-su-smt--1836590-jv?source=searchResults&searchType=2&placement=1837190&sortBy=date',\n",
       " 'https://www.vietnamworks.com/truong-phong-dich-vu-khach-hang--1824286-jv?source=searchResults&searchType=2&placement=1824886&sortBy=date',\n",
       " 'https://www.vietnamworks.com/ke-toan-tong-hop--1838929-jv?source=searchResults&searchType=2&placement=1839529&sortBy=date',\n",
       " 'https://www.vietnamworks.com/f-b-management-assistant-1838984-jv?source=searchResults&searchType=2&placement=1839584&sortBy=date',\n",
       " 'https://www.vietnamworks.com/giao-vien-ielts-sat-up-to-25-trieu-thang-1838007-jv?source=searchResults&searchType=2&placement=1838607&sortBy=date',\n",
       " 'https://www.vietnamworks.com/fresh-speed-up-2025-fresh-graduated-engineer-1839368-jv?source=searchResults&searchType=2&placement=1839968&sortBy=date',\n",
       " 'https://www.vietnamworks.com/fresh-speed-up-2025-accounting-finance-1839458-jv?source=searchResults&searchType=2&placement=1840058&sortBy=date',\n",
       " 'https://www.vietnamworks.com/truong-nhom-tuyen-dung-recruitment-team-leader-1842143-jv?source=searchResults&searchType=2&placement=1842743&sortBy=date',\n",
       " 'https://www.vietnamworks.com/production-development-engineering-engineer--1843441-jv?source=searchResults&searchType=2&placement=1844041&sortBy=date',\n",
       " 'https://www.vietnamworks.com/fresher-3d-fashion-designer-lingerie-us-market-1843426-jv?source=searchResults&searchType=2&placement=1844026&sortBy=date',\n",
       " 'https://www.vietnamworks.com/global-customer-service-night-shift-and-day-shift-flexible-1832416-jv?source=searchResults&searchType=2&placement=1833016&sortBy=date',\n",
       " 'https://www.vietnamworks.com/ky-su-trien-khai-ban-ve-kien-truc-2d-3d-revit--1843431-jv?source=searchResults&searchType=2&placement=1844031&sortBy=date',\n",
       " 'https://www.vietnamworks.com/premier-relationship-manager-chinese-speaking-hanoi-based-1843432-jv?source=searchResults&searchType=2&placement=1844032&sortBy=date',\n",
       " 'https://www.vietnamworks.com/truong-bo-phan-qs-mep-1843351-jv?source=searchResults&searchType=2&placement=1843951&sortBy=date',\n",
       " 'https://www.vietnamworks.com/chuyen-vien-chung-tu-xuat-nhap-khau-1843414-jv?source=searchResults&searchType=2&placement=1844014&sortBy=date',\n",
       " 'https://www.vietnamworks.com/pm-mua-hang-nganh-hang-gia-dung-project-manager--1843423-jv?source=searchResults&searchType=2&placement=1844023&sortBy=date',\n",
       " 'https://www.vietnamworks.com/ky-su-npi-ky-su-quy-trinh-lam-viec-5-ngaytuan-muc-luong-tu-20tr-25tr-1843190-jv?source=searchResults&searchType=2&placement=1843790&sortBy=date',\n",
       " 'https://www.vietnamworks.com/giam-doc-phap-che--1843407-jv?source=searchResults&searchType=2&placement=1844007&sortBy=date',\n",
       " 'https://www.vietnamworks.com/bac-si-thu-y-luong-va-djai-ngo-hap-dan-1836111-jv?source=searchResults&searchType=2&placement=1836711&sortBy=date',\n",
       " 'https://www.vietnamworks.com/tro-ly-kinh-doanh-biet-tieng-han-1843387-jv?source=searchResults&searchType=2&placement=1843987&sortBy=date',\n",
       " 'https://www.vietnamworks.com/ky-su-trien-khai-ban-ve-xay-dung-cad-1831927-jv?source=searchResults&searchType=2&placement=1832527&sortBy=date',\n",
       " 'https://www.vietnamworks.com/java-web-application-training-program-1843384-jv?source=searchResults&searchType=2&placement=1843984&sortBy=date',\n",
       " 'https://www.vietnamworks.com/quan-ly-thu-giu-tai-san--1843402-jv?source=searchResults&searchType=2&placement=1844002&sortBy=date',\n",
       " 'https://www.vietnamworks.com/tan-binh-go-vap-quan-12-chuyen-vien-cao-cap-quan-he-khach-hang-uu-tien-1843334-jv?source=searchResults&searchType=2&placement=1843934&sortBy=date',\n",
       " 'https://www.vietnamworks.com/production-planning-assistant--1822400-jv?source=searchResults&searchType=2&placement=1823000&sortBy=date',\n",
       " 'https://www.vietnamworks.com/pho-phong-tham-dinh-van-ban-khoi-phap-che--1835140-jv?source=searchResults&searchType=2&placement=1835740&sortBy=date',\n",
       " 'https://www.vietnamworks.com/ky-su-thiet-ke-co-khi-may-tu-dong-3-1--1824450-jv?source=searchResults&searchType=2&placement=1825050&sortBy=date',\n",
       " 'https://www.vietnamworks.com/nhan-vien-phat-trien-thi-truong--1836209-jv?source=searchResults&searchType=2&placement=1836809&sortBy=date',\n",
       " 'https://www.vietnamworks.com/quan-ly-kenh-otc-khu-vuc-dong-bac-1838901-jv?source=searchResults&searchType=2&placement=1839501&sortBy=date',\n",
       " 'https://www.vietnamworks.com/customer-services-team-leader--1837045-jv?source=searchResults&searchType=2&placement=1837645&sortBy=date',\n",
       " 'https://www.vietnamworks.com/executive-customer-service-1837034-jv?source=searchResults&searchType=2&placement=1837634&sortBy=date',\n",
       " 'https://www.vietnamworks.com/learning-and-development-executive--1841105-jv?source=searchResults&searchType=2&placement=1841705&sortBy=date',\n",
       " 'https://www.vietnamworks.com/production-shift-leader--1842132-jv?source=searchResults&searchType=2&placement=1842732&sortBy=date',\n",
       " 'https://www.vietnamworks.com/business-academy-manager-1833916-jv?source=searchResults&searchType=2&placement=1834516&sortBy=date',\n",
       " 'https://www.vietnamworks.com/senior-environmental-engineer-1821515-jv?source=searchResults&searchType=2&placement=1822115&sortBy=date',\n",
       " 'https://www.vietnamworks.com/nhan-vien-kinh-doanh-nhuong-quyen-1836345-jv?source=searchResults&searchType=2&placement=1836995&sortBy=date',\n",
       " 'https://www.vietnamworks.com/system-engineer-1838942-jv?source=searchResults&searchType=2&placement=1839592&sortBy=date',\n",
       " 'https://www.vietnamworks.com/chief-egineering--1838948-jv?source=searchResults&searchType=2&placement=1839598&sortBy=date',\n",
       " 'https://www.vietnamworks.com/warehouse-section-manager--1841062-jv?source=searchResults&searchType=2&placement=1841712&sortBy=date',\n",
       " 'https://www.vietnamworks.com/purchasing-manager-1830380-jv?source=searchResults&searchType=2&placement=1831030&sortBy=date',\n",
       " 'https://www.vietnamworks.com/brand-marketing-director-1830373-jv?source=searchResults&searchType=2&placement=1831023&sortBy=date',\n",
       " 'https://www.vietnamworks.com/automation-engineers-1-1-1--1835081-jv?source=searchResults&searchType=2&placement=1835731&sortBy=date',\n",
       " 'https://www.vietnamworks.com/hr-manager-truong-phong-nhan-su--1836547-jv?source=searchResults&searchType=2&placement=1837197&sortBy=date',\n",
       " 'https://www.vietnamworks.com/nhan-vien-thiet-ke-jig-1830556-jv?source=searchResults&searchType=2&placement=1831206&sortBy=date',\n",
       " 'https://www.vietnamworks.com/truong-bo-phan-quan-ly-thiet-ke-xay-dung-dan-dung-cao-tang-head-of-design-management-high-rise-civil-construction--1841118-jv?source=searchResults&searchType=2&placement=1841768&sortBy=date',\n",
       " 'https://www.vietnamworks.com/receivable-accountant-1841069-jv?source=searchResults&searchType=2&placement=1841719&sortBy=date',\n",
       " 'https://www.vietnamworks.com/assistant-supervisor-1842045-jv?source=searchResults&searchType=2&placement=1842695&sortBy=date',\n",
       " 'https://www.vietnamworks.com/project-sales-executive--1835089-jv?source=searchResults&searchType=2&placement=1835739&sortBy=date',\n",
       " 'https://www.vietnamworks.com/giam-sat-ban-hang-mekong--1823810-jv?source=searchResults&searchType=2&placement=1824460&sortBy=date',\n",
       " 'https://www.vietnamworks.com/legal-assistant-manager-1837087-jv?source=searchResults&searchType=2&placement=1837737&sortBy=date',\n",
       " 'https://www.vietnamworks.com/rf-engineer-1840338-jv?source=searchResults&searchType=2&placement=1840988&sortBy=date',\n",
       " 'https://www.vietnamworks.com/business-development-manager-blended-solutions-sea--1841091-jv?source=searchResults&searchType=2&placement=1841741&sortBy=date',\n",
       " 'https://www.vietnamworks.com/global-accountant-upto-1800usd--1841093-jv?source=searchResults&searchType=2&placement=1841743&sortBy=date',\n",
       " 'https://www.vietnamworks.com/cmm-engineer-1842137-jv?source=searchResults&searchType=2&placement=1842787&sortBy=date',\n",
       " 'https://www.vietnamworks.com/part-quality-engineer-1842139-jv?source=searchResults&searchType=2&placement=1842789&sortBy=date',\n",
       " 'https://www.vietnamworks.com/business-development-executive-it-banking-market-luong-thuong-hap-dan-1838933-jv?source=searchResults&searchType=2&placement=1839583&sortBy=date',\n",
       " 'https://www.vietnamworks.com/trade-activity-lead-1838517-jv?source=searchResults&searchType=2&placement=1839167&sortBy=date',\n",
       " 'https://www.vietnamworks.com/hr-manager-strong-background-in-it-recruitment-1841025-jv?source=searchResults&searchType=2&placement=1841675&sortBy=date',\n",
       " 'https://www.vietnamworks.com/senior-marketing-officer--1841035-jv?source=searchResults&searchType=2&placement=1841685&sortBy=date',\n",
       " 'https://www.vietnamworks.com/chuyen-phat-nhanh-j-t-express-tuyen-dung-quan-ly-khu-vuc-kinh-doanh-thu-nhap-upto-35-trieu-1841056-jv?source=searchResults&searchType=2&placement=1841706&sortBy=date',\n",
       " 'https://www.vietnamworks.com/ke-toan-tong-hop-1840982-jv?source=searchResults&searchType=2&placement=1841632&sortBy=date',\n",
       " 'https://www.vietnamworks.com/chief-accountant--1840968-jv?source=searchResults&searchType=2&placement=1841618&sortBy=date',\n",
       " 'https://www.vietnamworks.com/4g-5g-ran-engineer--1840337-jv?source=searchResults&searchType=2&placement=1840987&sortBy=date',\n",
       " 'https://www.vietnamworks.com/ky-su-dien-khong-yeu-cau-kinh-nghiem--1843325-jv?source=searchResults&searchType=2&placement=1843975&sortBy=date',\n",
       " 'https://www.vietnamworks.com/manager-accounting-and-tax-serviceoutsourcing-service-1843393-jv?source=searchResults&searchType=2&placement=1844043&sortBy=date',\n",
       " 'https://www.vietnamworks.com/chuyen-vien-cao-cap-quan-ly-quan-he-khach-hang-uu-tien-gold-prm--1843405-jv?source=searchResults&searchType=2&placement=1844055&sortBy=date',\n",
       " 'https://www.vietnamworks.com/ho-chuyen-gia-quan-ly-hieu-suat-nhan-su-senior-level-1843404-jv?source=searchResults&searchType=2&placement=1844054&sortBy=date',\n",
       " 'https://www.vietnamworks.com/pho-giam-djoc-djon-vi-kinh-doanh-tren-toan-quoc-1842937-jv?source=searchResults&searchType=2&placement=1843587&sortBy=date',\n",
       " 'https://www.vietnamworks.com/chuyen-vien-cao-cap-khach-hang-ca-nhan--1843401-jv?source=searchResults&searchType=2&placement=1844051&sortBy=date',\n",
       " 'https://www.vietnamworks.com/chuyen-vien-cao-cap-quan-ly-quan-he-khach-hang-uu-tien-prm--1843332-jv?source=searchResults&searchType=2&placement=1843982&sortBy=date',\n",
       " 'https://www.vietnamworks.com/chuyen-vien-cao-cap-khach-hang-ca-nhan-srbo--1843400-jv?source=searchResults&searchType=2&placement=1844050&sortBy=date',\n",
       " 'https://www.vietnamworks.com/chuyen-vien-cao-cap-quan-ly-quan-he-khach-hang-uu-tien-gold--1843398-jv?source=searchResults&searchType=2&placement=1844048&sortBy=date',\n",
       " 'https://www.vietnamworks.com/chuyen-vien-cao-cap-khach-hang-ca-nhan-srbo--1843396-jv?source=searchResults&searchType=2&placement=1844046&sortBy=date',\n",
       " 'https://www.vietnamworks.com/chuyen-vien-cao-cap-khach-hang-ca-nhan-srbo--1843394-jv?source=searchResults&searchType=2&placement=1844044&sortBy=date',\n",
       " 'https://www.vietnamworks.com/automation-engineer-1843316-jv?source=searchResults&searchType=2&placement=1843966&sortBy=date',\n",
       " 'https://www.vietnamworks.com/pho-truong-phong-tai-chinh-ke-toan-phu-trach-mang-tai-chinh-luong-25-30tr--1843385-jv?source=searchResults&searchType=2&placement=1844035&sortBy=date',\n",
       " 'https://www.vietnamworks.com/maintenance-technician-1843327-jv?source=searchResults&searchType=2&placement=1843977&sortBy=date',\n",
       " 'https://www.vietnamworks.com/nhan-vien-kinh-doanh--1843342-jv?source=searchResults&searchType=2&placement=1843992&sortBy=date',\n",
       " 'https://www.vietnamworks.com/ke-toan-tong-hop-tai-hn-yeu-cau-kn-2-nam-tro-len-chi-tuyen-nu-1843367-jv?source=searchResults&searchType=2&placement=1844017&sortBy=date',\n",
       " 'https://www.vietnamworks.com/ke-toan-san-xuat-tai-hn-yc-kinh-nghiem-2-nam-tro-len-chi-tuyen-nu-1843359-jv?source=searchResults&searchType=2&placement=1844009&sortBy=date',\n",
       " 'https://www.vietnamworks.com/support-staff-1843228-jv?source=searchResults&searchType=2&placement=1843878&sortBy=date',\n",
       " 'https://www.vietnamworks.com/order-manager-merchandiser-backpack-and-bag-industry-1843310-jv?source=searchResults&searchType=2&placement=1843960&sortBy=date',\n",
       " 'https://www.vietnamworks.com/nhan-vien-cham-soc-khach-hang-tai-hn-yc-kn-2-nam-tro-len-chi-tuyen-nu-1843357-jv?source=searchResults&searchType=2&placement=1844007&sortBy=date',\n",
       " 'https://www.vietnamworks.com/nhan-vien-trien-khai-sau-thiet-ke-bo-phan-phat-trien-san-pham-nha-may-hung-yen--1843343-jv?source=searchResults&searchType=2&placement=1843993&sortBy=date',\n",
       " 'https://www.vietnamworks.com/technical-manager--1843335-jv?source=searchResults&searchType=2&placement=1843985&sortBy=date',\n",
       " 'https://www.vietnamworks.com/general-manager--1843347-jv?source=searchResults&searchType=2&placement=1844047&sortBy=date',\n",
       " 'https://www.vietnamworks.com/chuyen-vien-kinh-doanh-cao-cap-mang-xe-dien-luong-tu-20tr-thang-1843128-jv?source=searchResults&searchType=2&placement=1843828&sortBy=date',\n",
       " 'https://www.vietnamworks.com/nhan-vien-kinh-doanh-1843328-jv?source=searchResults&searchType=2&placement=1844028&sortBy=date',\n",
       " 'https://www.vietnamworks.com/nhan-vien-marketing-1843331-jv?source=searchResults&searchType=2&placement=1844031&sortBy=date',\n",
       " 'https://www.vietnamworks.com/planned-maintenance-team-leader-1828270-jv?source=searchResults&searchType=2&placement=1828970&sortBy=date',\n",
       " 'https://www.vietnamworks.com/service-support-engineer-ky-su-dich-vu-va-ho-tro-ky-thuat--1836376-jv?source=searchResults&searchType=2&placement=1837076&sortBy=date',\n",
       " 'https://www.vietnamworks.com/product-manager-bankhub-jetpay-1841594-jv?source=searchResults&searchType=2&placement=1842294&sortBy=date',\n",
       " 'https://www.vietnamworks.com/rs-tec-sector-manager-technical-supervisor-1841806-jv?source=searchResults&searchType=2&placement=1842506&sortBy=date',\n",
       " 'https://www.vietnamworks.com/qs-nhan-vien-du-toan-noi-that-do-go-1823997-jv?source=searchResults&searchType=2&placement=1824697&sortBy=date',\n",
       " 'https://www.vietnamworks.com/nhan-vien-mua-hang-luong-tu-14-18-trieu--1840197-jv?source=searchResults&searchType=2&placement=1840897&sortBy=date',\n",
       " 'https://www.vietnamworks.com/chuyen-vien-tien-luong--1840170-jv?source=searchResults&searchType=2&placement=1840870&sortBy=date',\n",
       " 'https://www.vietnamworks.com/senior-software-developer-javac-1840215-jv?source=searchResults&searchType=2&placement=1840915&sortBy=date',\n",
       " 'https://www.vietnamworks.com/group-hse-director--1841050-jv?source=searchResults&searchType=2&placement=1841750&sortBy=date',\n",
       " 'https://www.vietnamworks.com/nhan-vien-kinh-doanh--1840988-jv?source=searchResults&searchType=2&placement=1841688&sortBy=date',\n",
       " 'https://www.vietnamworks.com/giam-doc-marketing-mang-fintech-luong-thuong-hap-dan-1840943-jv?source=searchResults&searchType=2&placement=1841643&sortBy=date',\n",
       " 'https://www.vietnamworks.com/chuyen-vien-phan-tich-nghiep-vu-senior-business-analyst-upto-30m-1841459-jv?source=searchResults&searchType=2&placement=1842159&sortBy=date',\n",
       " 'https://www.vietnamworks.com/chuyen-vien-chuong-trinh-tieng-viet-trung-hoc-hieu-pho-chuyen-mon--1835100-jv?source=searchResults&searchType=2&placement=1835800&sortBy=date',\n",
       " 'https://www.vietnamworks.com/general-accountant--1825254-jv?source=searchResults&searchType=2&placement=1825954&sortBy=date',\n",
       " 'https://www.vietnamworks.com/senior-hr-executive-male-only-1838912-jv?source=searchResults&searchType=2&placement=1839612&sortBy=date',\n",
       " 'https://www.vietnamworks.com/ky-su-tiet-kiem-nang-luong-khong-yeu-cau-kinh-nghiem--1838425-jv?source=searchResults&searchType=2&placement=1839125&sortBy=date',\n",
       " 'https://www.vietnamworks.com/senior-associate-divisional-controls--1837885-jv?source=searchResults&searchType=2&placement=1838585&sortBy=date',\n",
       " 'https://www.vietnamworks.com/software-development-engineer-attractive-salary-benefits-1838362-jv?source=searchResults&searchType=2&placement=1839062&sortBy=date',\n",
       " 'https://www.vietnamworks.com/truong-phong-marketing--1838875-jv?source=searchResults&searchType=2&placement=1839575&sortBy=date',\n",
       " 'https://www.vietnamworks.com/quality-laboratory-supervisor--1838910-jv?source=searchResults&searchType=2&placement=1839610&sortBy=date',\n",
       " 'https://www.vietnamworks.com/hr-data-analytics-manager-1838445-jv?source=searchResults&searchType=2&placement=1839145&sortBy=date',\n",
       " 'https://www.vietnamworks.com/chuyen-vien-quan-tri-rui-ro-1838766-jv?source=searchResults&searchType=2&placement=1839466&sortBy=date',\n",
       " 'https://www.vietnamworks.com/sales-assistant-manager-consumer-electronic-1836444-jv?source=searchResults&searchType=2&placement=1837144&sortBy=date',\n",
       " 'https://www.vietnamworks.com/r-d-engineer-hardware-1838927-jv?source=searchResults&searchType=2&placement=1839627&sortBy=date',\n",
       " 'https://www.vietnamworks.com/operations-manager--1840145-jv?source=searchResults&searchType=2&placement=1840845&sortBy=date',\n",
       " 'https://www.vietnamworks.com/ke-toan-truong-1838733-jv?source=searchResults&searchType=2&placement=1839433&sortBy=date',\n",
       " 'https://www.vietnamworks.com/ky-su-du-toan-khong-yeu-cau-kinh-nghiem--1838424-jv?source=searchResults&searchType=2&placement=1839124&sortBy=date',\n",
       " 'https://www.vietnamworks.com/associate-it-is-1837889-jv?source=searchResults&searchType=2&placement=1838589&sortBy=date',\n",
       " 'https://www.vietnamworks.com/production-planning-staff-ke-hoach-san-xuat-1841013-jv?source=searchResults&searchType=2&placement=1841713&sortBy=date',\n",
       " 'https://www.vietnamworks.com/officer-1840042-jv?source=searchResults&searchType=2&placement=1840742&sortBy=date',\n",
       " 'https://www.vietnamworks.com/thuc-tap-sinh-tot-nghiep-chuan-bi-tot-nghiep-thuc-tap-chuyen-nganh-ky-thuat--1841621-jv?source=searchResults&searchType=2&placement=1842321&sortBy=date',\n",
       " 'https://www.vietnamworks.com/senior-project-manager-tech-non-tech-1843329-jv?source=searchResults&searchType=2&placement=1844029&sortBy=date',\n",
       " 'https://www.vietnamworks.com/r-d-specialist-coffee-beverage-products--1843330-jv?source=searchResults&searchType=2&placement=1844030&sortBy=date',\n",
       " 'https://www.vietnamworks.com/nhan-vien-kho-warehouse-executive-1843271-jv?source=searchResults&searchType=2&placement=1843971&sortBy=date',\n",
       " 'https://www.vietnamworks.com/procurement-and-contract-manager-1843273-jv?source=searchResults&searchType=2&placement=1843973&sortBy=date',\n",
       " 'https://www.vietnamworks.com/systems-development-senior-officer-1843265-jv?source=searchResults&searchType=2&placement=1843965&sortBy=date',\n",
       " 'https://www.vietnamworks.com/ky-su-phong-mc-phong-gia-cong-engineer-mc--1831899-jv?source=searchResults&searchType=2&placement=1832599&sortBy=date',\n",
       " 'https://www.vietnamworks.com/chuyen-vien-cao-cap-ho-tro-van-hanh-trai-phieu-it-savvy-1842304-jv?source=searchResults&searchType=2&placement=1843004&sortBy=date',\n",
       " 'https://www.vietnamworks.com/corporate-marketing-manager--1832607-jv?source=searchResults&searchType=2&placement=1833307&sortBy=date',\n",
       " 'https://www.vietnamworks.com/truong-phong-kinh-doanh-mang-logistics-1843307-jv?source=searchResults&searchType=2&placement=1844007&sortBy=date',\n",
       " 'https://www.vietnamworks.com/senior-tax-and-gl-accountant-1843242-jv?source=searchResults&searchType=2&placement=1843942&sortBy=date',\n",
       " 'https://www.vietnamworks.com/chuyen-vien-phat-trien-kinh-doanh-sme-factory-micro-lending-squad-business-development-specialist-micro-lending-squad-nha-may-so-khach-hang-doanh-nghiep-ho24-306-1843297-jv?source=searchResults&searchType=2&placement=1843997&sortBy=date',\n",
       " 'https://www.vietnamworks.com/senior-biomedical-engineering-ky-su-trang-thiet-bi-y-te-1835022-jv?source=searchResults&searchType=2&placement=1835722&sortBy=date',\n",
       " 'https://www.vietnamworks.com/nhan-vien-kinh-doanh-noi-that-hn-hcm-1826810-jv?source=searchResults&searchType=2&placement=1827510&sortBy=date',\n",
       " 'https://www.vietnamworks.com/procurement-staff-nhan-vien-phong-mua-hang--1836482-jv?source=searchResults&searchType=2&placement=1837182&sortBy=date',\n",
       " 'https://www.vietnamworks.com/senior-purchasing-officer--1836435-jv?source=searchResults&searchType=2&placement=1837135&sortBy=date',\n",
       " 'https://www.vietnamworks.com/sales-capability-development-manager-1836385-jv?source=searchResults&searchType=2&placement=1837135&sortBy=date',\n",
       " 'https://www.vietnamworks.com/tuyen-gap-ky-su-bao-duong--1836922-jv?source=searchResults&searchType=2&placement=1837672&sortBy=date',\n",
       " 'https://www.vietnamworks.com/sap-senior-consultant-sap-fi--1842026-jv?source=searchResults&searchType=2&placement=1842776&sortBy=date',\n",
       " 'https://www.vietnamworks.com/sap-senior-consultant-abap--1841999-jv?source=searchResults&searchType=2&placement=1842749&sortBy=date',\n",
       " 'https://www.vietnamworks.com/ky-su-hse--1840877-jv?source=searchResults&searchType=2&placement=1841627&sortBy=date',\n",
       " 'https://www.vietnamworks.com/pho-phong-truong-phong-it-1840908-jv?source=searchResults&searchType=2&placement=1841658&sortBy=date',\n",
       " 'https://www.vietnamworks.com/organizational-development-manager-od-manager-1841563-jv?source=searchResults&searchType=2&placement=1842313&sortBy=date',\n",
       " 'https://www.vietnamworks.com/hr-executive-hr-system--1835048-jv?source=searchResults&searchType=2&placement=1835798&sortBy=date',\n",
       " 'https://www.vietnamworks.com/ke-toan-truong-chief-accountant-tuyen-nu-1825276-jv?source=searchResults&searchType=2&placement=1826026&sortBy=date',\n",
       " 'https://www.vietnamworks.com/nutrition-lead-medical-nutrition-portfolio-1836324-jv?source=searchResults&searchType=2&placement=1837074&sortBy=date',\n",
       " 'https://www.vietnamworks.com/ky-su-qc--1840879-jv?source=searchResults&searchType=2&placement=1841629&sortBy=date',\n",
       " 'https://www.vietnamworks.com/nhan-vien-ke-toan-tong-hop-1840905-jv?source=searchResults&searchType=2&placement=1841655&sortBy=date',\n",
       " 'https://www.vietnamworks.com/truong-phong-dich-vu-ky-thuat--1838833-jv?source=searchResults&searchType=2&placement=1839583&sortBy=date',\n",
       " 'https://www.vietnamworks.com/tuyen-gap-it-staff--1827307-jv?source=searchResults&searchType=2&placement=1828057&sortBy=date',\n",
       " 'https://www.vietnamworks.com/claims-senior-manager-truong-phong-cap-cao-giai-quyet-quyen-loi-bao-hiem-1829716-jv?source=searchResults&searchType=2&placement=1830466&sortBy=date',\n",
       " 'https://www.vietnamworks.com/graphic-design-trainee--1842032-jv?source=searchResults&searchType=2&placement=1842782&sortBy=date',\n",
       " 'https://www.vietnamworks.com/nhan-vien-kinh-doanh-bat-dong-san-luong-cung-9tr-hoa-hong-thuong-1833577-jv?source=searchResults&searchType=2&placement=1834327&sortBy=date',\n",
       " 'https://www.vietnamworks.com/administration-staff-nhan-vien-hanh-chinh--1841923-jv?source=searchResults&searchType=2&placement=1842673&sortBy=date',\n",
       " 'https://www.vietnamworks.com/production-planning-analyst--1838352-jv?source=searchResults&searchType=2&placement=1839102&sortBy=date',\n",
       " 'https://www.vietnamworks.com/ky-su-thiet-ke-may-tu-dong-hoa-rdd-phong-nghien-cuu-va-phat-trien--1827285-jv?source=searchResults&searchType=2&placement=1828035&sortBy=date',\n",
       " 'https://www.vietnamworks.com/production-manager-1835490-jv?source=searchResults&searchType=2&placement=1836240&sortBy=date',\n",
       " 'https://www.vietnamworks.com/sr-supervisor-manufacturing-1838805-jv?source=searchResults&searchType=2&placement=1839555&sortBy=date',\n",
       " 'https://www.vietnamworks.com/csr-marketing-specialist-1838839-jv?source=searchResults&searchType=2&placement=1839589&sortBy=date',\n",
       " 'https://www.vietnamworks.com/accounting-staff-temporary-9-months--1840158-jv?source=searchResults&searchType=2&placement=1840908&sortBy=date',\n",
       " 'https://www.vietnamworks.com/japanese-interpreter--1843285-jv?source=searchResults&searchType=2&placement=1844035&sortBy=date',\n",
       " 'https://www.vietnamworks.com/chuyen-vien-cong-nghe-thong-tin-1843253-jv?source=searchResults&searchType=2&placement=1844003&sortBy=date',\n",
       " 'https://www.vietnamworks.com/on-site-production-material-control-manufactoring-garment--1830124-jv?source=searchResults&searchType=2&placement=1830874&sortBy=date',\n",
       " 'https://www.vietnamworks.com/chuyen-vien-ky-thuat--1843277-jv?source=searchResults&searchType=2&placement=1844027&sortBy=date',\n",
       " 'https://www.vietnamworks.com/assistant-m-e-manager-1829243-jv?source=searchResults&searchType=2&placement=1829993&sortBy=date',\n",
       " 'https://www.vietnamworks.com/area-nutrition-manager-1832813-jv?source=searchResults&searchType=2&placement=1833563&sortBy=date',\n",
       " 'https://www.vietnamworks.com/logistics-and-inventory-control-supervisor-1841472-jv?source=searchResults&searchType=2&placement=1842222&sortBy=date',\n",
       " 'https://www.vietnamworks.com/chuyen-vien-quan-ly-gian-hang-trade-marketing-tai-co-so-1843261-jv?source=searchResults&searchType=2&placement=1844011&sortBy=date',\n",
       " 'https://www.vietnamworks.com/quality-compliance-furniture-english-speaking-1843250-jv?source=searchResults&searchType=2&placement=1844000&sortBy=date',\n",
       " 'https://www.vietnamworks.com/chuyen-vien-kinh-doanh-sales-b2b-upto-1000-1843245-jv?source=searchResults&searchType=2&placement=1843995&sortBy=date',\n",
       " 'https://www.vietnamworks.com/business-development-manager-attractive-salary-1831214-jv?source=searchResults&searchType=2&placement=1831964&sortBy=date',\n",
       " 'https://www.vietnamworks.com/tro-ly-tong-giam-djoc-mang-kinh-doanh-1843225-jv?source=searchResults&searchType=2&placement=1843975&sortBy=date',\n",
       " 'https://www.vietnamworks.com/nhan-vien-kinh-doanh-sales-supervisor--1822201-jv?source=searchResults&searchType=2&placement=1822951&sortBy=date',\n",
       " 'https://www.vietnamworks.com/nhan-vien-kinh-doanh-sales-b2b-phan-mem-doanh-nghiep-thu-nhap-len-den-30-trieu-1833915-jv?source=searchResults&searchType=2&placement=1834665&sortBy=date',\n",
       " 'https://www.vietnamworks.com/accountant--1838753-jv?source=searchResults&searchType=2&placement=1839503&sortBy=date',\n",
       " 'https://www.vietnamworks.com/ha-noi-ky-su-xay-dung-can-bo-qs-qc-muc-luong-tu-18-trieu-thang-tro-len-1840440-jv?source=searchResults&searchType=2&placement=1841190&sortBy=date',\n",
       " 'https://www.vietnamworks.com/mm-dealer-treasury-team-1840949-jv?source=searchResults&searchType=2&placement=1841699&sortBy=date',\n",
       " 'https://www.vietnamworks.com/supply-chain-manager--1841954-jv?source=searchResults&searchType=2&placement=1842704&sortBy=date',\n",
       " 'https://www.vietnamworks.com/mro-procurement-officer-1836355-jv?source=searchResults&searchType=2&placement=1837105&sortBy=date',\n",
       " 'https://www.vietnamworks.com/chuyen-vien-kiem-soat-chat-luong-nha-cung-cap-1836899-jv?source=searchResults&searchType=2&placement=1837649&sortBy=date',\n",
       " 'https://www.vietnamworks.com/process-quality-assurance-it-software-1841952-jv?source=searchResults&searchType=2&placement=1842702&sortBy=date',\n",
       " 'https://www.vietnamworks.com/purchasing-staff-business-development-salary-up-to-1000-1827245-jv?source=searchResults&searchType=2&placement=1827995&sortBy=date',\n",
       " 'https://www.vietnamworks.com/content-manager-luong-cung-toi-80-trieu-1836881-jv?source=searchResults&searchType=2&placement=1837631&sortBy=date',\n",
       " 'https://www.vietnamworks.com/sales-executive-hot-job-attractive-salary-1826594-jv?source=searchResults&searchType=2&placement=1827344&sortBy=date',\n",
       " 'https://www.vietnamworks.com/tuyen-gap-to-truong-san-xuat--1836918-jv?source=searchResults&searchType=2&placement=1837668&sortBy=date',\n",
       " 'https://www.vietnamworks.com/nhan-vien-du-an--1840903-jv?source=searchResults&searchType=2&placement=1841653&sortBy=date',\n",
       " 'https://www.vietnamworks.com/jdi-head-of-customs-operations-1841662-jv?source=searchResults&searchType=2&placement=1842462&sortBy=date',\n",
       " 'https://www.vietnamworks.com/marketing-manager--1841930-jv?source=searchResults&searchType=2&placement=1842730&sortBy=date',\n",
       " 'https://www.vietnamworks.com/nhan-vien-kinh-doanh-sales-executive-1834871-jv?source=searchResults&searchType=2&placement=1835671&sortBy=date',\n",
       " 'https://www.vietnamworks.com/r-d-engineer-electric-electronic-parts--1836363-jv?source=searchResults&searchType=2&placement=1837163&sortBy=date',\n",
       " 'https://www.vietnamworks.com/tro-li-giam-djoc-quan-he-khach-hang-relationship-manager-assistant-1838800-jv?source=searchResults&searchType=2&placement=1839600&sortBy=date',\n",
       " 'https://www.vietnamworks.com/hr-business-partner-1841391-jv?source=searchResults&searchType=2&placement=1842191&sortBy=date',\n",
       " 'https://www.vietnamworks.com/ke-toan-noi-bo-1842359-jv?source=searchResults&searchType=2&placement=1843159&sortBy=date',\n",
       " 'https://www.vietnamworks.com/operations-manager-vietnam-1841671-jv?source=searchResults&searchType=2&placement=1842471&sortBy=date',\n",
       " 'https://www.vietnamworks.com/chuyen-vien-tai-chinh--1823526-jv?source=searchResults&searchType=2&placement=1824326&sortBy=date',\n",
       " 'https://www.vietnamworks.com/sales-procurement-executive-prefer-experience-in-international-rice-sales-1838799-jv?source=searchResults&searchType=2&placement=1839599&sortBy=date',\n",
       " 'https://www.vietnamworks.com/assitant-brand-manager-abm--1838246-jv?source=searchResults&searchType=2&placement=1839046&sortBy=date',\n",
       " 'https://www.vietnamworks.com/process-engineer--1841961-jv?source=searchResults&searchType=2&placement=1842761&sortBy=date',\n",
       " 'https://www.vietnamworks.com/key-account-manager-vietnam-1841666-jv?source=searchResults&searchType=2&placement=1842466&sortBy=date',\n",
       " 'https://www.vietnamworks.com/maintenance-production-supervisor-food-beverage-manufacturing--1841907-jv?source=searchResults&searchType=2&placement=1842707&sortBy=date',\n",
       " 'https://www.vietnamworks.com/nhan-vien-kinh-doanh-luong-cung-tu-10-15tr--1843234-jv?source=searchResults&searchType=2&placement=1844034&sortBy=date',\n",
       " 'https://www.vietnamworks.com/head-of-human-resources-open-for-expat-1843223-jv?source=searchResults&searchType=2&placement=1844023&sortBy=date',\n",
       " 'https://www.vietnamworks.com/quality-management-system-specialist-quality-engineer-1843226-jv?source=searchResults&searchType=2&placement=1844026&sortBy=date',\n",
       " 'https://www.vietnamworks.com/ky-su-lap-trinh-cam-nhan-vien-van-hanh-may-cnc-danh-cho-ca-ung-vien-moi-ra-truong-1843211-jv?source=searchResults&searchType=2&placement=1844011&sortBy=date',\n",
       " 'https://www.vietnamworks.com/trinh-duoc-vien-1843219-jv?source=searchResults&searchType=2&placement=1844019&sortBy=date',\n",
       " 'https://www.vietnamworks.com/strategic-planning-manager-1843130-jv?source=searchResults&searchType=2&placement=1843930&sortBy=date',\n",
       " 'https://www.vietnamworks.com/content-lead-1843131-jv?source=searchResults&searchType=2&placement=1843931&sortBy=date',\n",
       " 'https://www.vietnamworks.com/nhan-vien-sales-logistics-logistics-1843111-jv?source=searchResults&searchType=2&placement=1843911&sortBy=date',\n",
       " 'https://www.vietnamworks.com/chuyen-vien-cao-cap-quan-ly-rui-ro-cong-nghe-thong-tin-trung-tam-quan-ly-rui-ro-hoat-dong-khoi-quan-tri-rui-ro--1843214-jv?source=searchResults&searchType=2&placement=1844014&sortBy=date',\n",
       " 'https://www.vietnamworks.com/hoa-vien-kien-truc--1843178-jv?source=searchResults&searchType=2&placement=1843978&sortBy=date',\n",
       " 'https://www.vietnamworks.com/hr-admin-executive--1829783-jv?source=searchResults&searchType=2&placement=1830583&sortBy=date',\n",
       " 'https://www.vietnamworks.com/mep-intern-1843180-jv?source=searchResults&searchType=2&placement=1843980&sortBy=date',\n",
       " 'https://www.vietnamworks.com/full-stack-software-engineer--1843168-jv?source=searchResults&searchType=2&placement=1843968&sortBy=date',\n",
       " 'https://www.vietnamworks.com/program-manager--1827029-jv?source=searchResults&searchType=2&placement=1827829&sortBy=date',\n",
       " 'https://www.vietnamworks.com/chuyen-vien-cao-cap-dau-tu-va-m-a--1840870-jv?source=searchResults&searchType=2&placement=1841670&sortBy=date',\n",
       " 'https://www.vietnamworks.com/tester-nhan-vien-kiem-thu-phan-mem--1834996-jv?source=searchResults&searchType=2&placement=1835796&sortBy=date',\n",
       " 'https://www.vietnamworks.com/investment-banking-manager-up-to-100-trieu-vnd--1836859-jv?source=searchResults&searchType=2&placement=1837659&sortBy=date',\n",
       " 'https://www.vietnamworks.com/tuyen-gap-ky-su-qs-hien-truong-upto-23-trieu-1823953-jv?source=searchResults&searchType=2&placement=1824753&sortBy=date',\n",
       " 'https://www.vietnamworks.com/quality-assurance-executive-temporary-2-years-1840788-jv?source=searchResults&searchType=2&placement=1841588&sortBy=date',\n",
       " 'https://www.vietnamworks.com/country-it-manager-1834983-jv?source=searchResults&searchType=2&placement=1835783&sortBy=date',\n",
       " 'https://www.vietnamworks.com/content-moderator-vietnamese-bangkok--1834944-jv?source=searchResults&searchType=2&placement=1835744&sortBy=date',\n",
       " 'https://www.vietnamworks.com/service-training-senior-staff-1834911-jv?source=searchResults&searchType=2&placement=1835711&sortBy=date',\n",
       " 'https://www.vietnamworks.com/kien-truc-su-noi-that-1836318-jv?source=searchResults&searchType=2&placement=1837118&sortBy=date',\n",
       " 'https://www.vietnamworks.com/sr-field-service-engineer-1839074-jv?source=searchResults&searchType=2&placement=1839874&sortBy=date',\n",
       " 'https://www.vietnamworks.com/relationship-management-manager-up-to-50m--1836843-jv?source=searchResults&searchType=2&placement=1837643&sortBy=date',\n",
       " 'https://www.vietnamworks.com/ky-su-co-khi-co-dien-tu-1836762-jv?source=searchResults&searchType=2&placement=1837562&sortBy=date',\n",
       " 'https://www.vietnamworks.com/facility-engineer-1834973-jv?source=searchResults&searchType=2&placement=1835773&sortBy=date',\n",
       " 'https://www.vietnamworks.com/production-supervisor-giam-sat-san-xuat-1834981-jv?source=searchResults&searchType=2&placement=1835781&sortBy=date',\n",
       " 'https://www.vietnamworks.com/foxconn-tuyen-gap-ky-su-phat-trien-phan-mem-he-thong--1838776-jv?source=searchResults&searchType=2&placement=1839576&sortBy=date',\n",
       " 'https://www.vietnamworks.com/cg-cvcc-phan-tich-tin-dung-khoi-khdn-lon-and-djau-tu-1836839-jv?source=searchResults&searchType=2&placement=1837639&sortBy=date',\n",
       " 'https://www.vietnamworks.com/ke-toan-truong--1836325-jv?source=searchResults&searchType=2&placement=1837125&sortBy=date',\n",
       " 'https://www.vietnamworks.com/nhan-vien-bien-phien-dich-tieng-han-va-ho-tro-khach-hang-1836340-jv?source=searchResults&searchType=2&placement=1837140&sortBy=date',\n",
       " 'https://www.vietnamworks.com/senior-digital-marketing-saas-1840732-jv?source=searchResults&searchType=2&placement=1841532&sortBy=date',\n",
       " 'https://www.vietnamworks.com/senior-architect--1822612-jv?source=searchResults&searchType=2&placement=1823412&sortBy=date',\n",
       " 'https://www.vietnamworks.com/nhan-vien-thiet-ke-co-khi-ung-vien-co-the-di-lam-ngay-hoac-di-lam-sau-tet--1838017-jv?source=searchResults&searchType=2&placement=1838817&sortBy=date',\n",
       " 'https://www.vietnamworks.com/chuyen-gia-cao-cap-quan-ly-am-hieu-va-dinh-vi-gia-tri-khach-hang--1838615-jv?source=searchResults&searchType=2&placement=1839415&sortBy=date',\n",
       " 'https://www.vietnamworks.com/truong-ban-djau-tu-va-phat-trien-du-an-khu-vuc-mien-nam-1826008-jv?source=searchResults&searchType=2&placement=1826858&sortBy=date',\n",
       " 'https://www.vietnamworks.com/nhan-vien-thiet-ke-co-khi-ung-vien-co-the-di-lam-ngay-hoac-di-lam-sau-tet--1838017-jv?source=searchResults&searchType=2&placement=1838867&sortBy=date',\n",
       " 'https://www.vietnamworks.com/it-infrastructure-architecture-administrator-quan-tri-vien-kien-truc-va-ha-tang-it-1841780-jv?source=searchResults&searchType=2&placement=1842630&sortBy=date',\n",
       " 'https://www.vietnamworks.com/ky-su-phat-trien-san-pham--1843176-jv?source=searchResults&searchType=2&placement=1844026&sortBy=date',\n",
       " 'https://www.vietnamworks.com/facility-admin-specialist-1843175-jv?source=searchResults&searchType=2&placement=1844025&sortBy=date',\n",
       " 'https://www.vietnamworks.com/maintenance-management-system-specialist--1843172-jv?source=searchResults&searchType=2&placement=1844022&sortBy=date',\n",
       " 'https://www.vietnamworks.com/maintenance-equipment-engineer--1843171-jv?source=searchResults&searchType=2&placement=1844021&sortBy=date',\n",
       " 'https://www.vietnamworks.com/maintenance-supervisor--1843169-jv?source=searchResults&searchType=2&placement=1844019&sortBy=date',\n",
       " 'https://www.vietnamworks.com/truong-phong-kinh-doanh-1832532-jv?source=searchResults&searchType=2&placement=1833382&sortBy=date',\n",
       " 'https://www.vietnamworks.com/ky-su-it--1843000-jv?source=searchResults&searchType=2&placement=1843850&sortBy=date',\n",
       " 'https://www.vietnamworks.com/customer-service-supervisor-1841783-jv?source=searchResults&searchType=2&placement=1842633&sortBy=date',\n",
       " 'https://www.vietnamworks.com/application-engineer-senior-application-engineer-thanh-hoa-1843043-jv?source=searchResults&searchType=2&placement=1843893&sortBy=date',\n",
       " 'https://www.vietnamworks.com/quality-engineering-engineer-automobile-5-positions-working-in-haiphong--1835731-jv?source=searchResults&searchType=2&placement=1836581&sortBy=date',\n",
       " 'https://www.vietnamworks.com/senior-automation-tester--1835901-jv?source=searchResults&searchType=2&placement=1836751&sortBy=date',\n",
       " 'https://www.vietnamworks.com/sr-analyst-costing-excellence-smv-hanoi--1835760-jv?source=searchResults&searchType=2&placement=1836610&sortBy=date',\n",
       " 'https://www.vietnamworks.com/leader-lap-rap-co-khi-luong-12-16-trieu-1836003-jv?source=searchResults&searchType=2&placement=1836853&sortBy=date',\n",
       " 'https://www.vietnamworks.com/qa-manager--1835958-jv?source=searchResults&searchType=2&placement=1836808&sortBy=date',\n",
       " 'https://www.vietnamworks.com/nhan-vien-doi-ung-loi-khach-hang-phong-chat-luong-cong-ty-san-xuat-led-lam-hanh-chinh-1835946-jv?source=searchResults&searchType=2&placement=1836796&sortBy=date',\n",
       " 'https://www.vietnamworks.com/pho-phong-nghien-cuu-thi-truong-bat-dong-san-1836023-jv?source=searchResults&searchType=2&placement=1836873&sortBy=date',\n",
       " 'https://www.vietnamworks.com/hardware-design-engineer-lam-viec-chu-yeu-tai-nam-tu-liem-ha-noi-1836033-jv?source=searchResults&searchType=2&placement=1836883&sortBy=date',\n",
       " 'https://www.vietnamworks.com/nhan-vien-ke-toan-noi-bo-biet-tieng-trung-1824885-jv?source=searchResults&searchType=2&placement=1825735&sortBy=date',\n",
       " 'https://www.vietnamworks.com/chuyen-vien-an-toan-lao-dong--1824829-jv?source=searchResults&searchType=2&placement=1825679&sortBy=date',\n",
       " 'https://www.vietnamworks.com/senior-officer-legal-counsel-1825116-jv?source=searchResults&searchType=2&placement=1825966&sortBy=date',\n",
       " 'https://www.vietnamworks.com/ho-budget-management-controller-financial-planning-1836653-jv?source=searchResults&searchType=2&placement=1837503&sortBy=date',\n",
       " 'https://www.vietnamworks.com/devops-engineer--1836640-jv?source=searchResults&searchType=2&placement=1837490&sortBy=date',\n",
       " 'https://www.vietnamworks.com/data-engineer--1836639-jv?source=searchResults&searchType=2&placement=1837489&sortBy=date',\n",
       " 'https://www.vietnamworks.com/labor-management-tro-ly-phong-quan-ly-lao-dong-1836095-jv?source=searchResults&searchType=2&placement=1836945&sortBy=date',\n",
       " 'https://www.vietnamworks.com/truong-nhom-quan-ly-vung-1836503-jv?source=searchResults&searchType=2&placement=1837353&sortBy=date',\n",
       " 'https://www.vietnamworks.com/chief-expansion-officer-1836458-jv?source=searchResults&searchType=2&placement=1837308&sortBy=date',\n",
       " 'https://www.vietnamworks.com/sale-marketing-operation-manager-up-to-2500--1836317-jv?source=searchResults&searchType=2&placement=1837167&sortBy=date',\n",
       " 'https://www.vietnamworks.com/area-sales-manager--1836283-jv?source=searchResults&searchType=2&placement=1837133&sortBy=date',\n",
       " 'https://www.vietnamworks.com/fresh-speed-up-2025-staff-hr-1839476-jv?source=searchResults&searchType=2&placement=1840326&sortBy=date',\n",
       " 'https://www.vietnamworks.com/japanese-customer-support-support-only-via-online-chat-no-phone-support--1839495-jv?source=searchResults&searchType=2&placement=1840345&sortBy=date',\n",
       " 'https://www.vietnamworks.com/maintenance-technician--1839497-jv?source=searchResults&searchType=2&placement=1840347&sortBy=date',\n",
       " 'https://www.vietnamworks.com/purchasing-executive-fresher--1839467-jv?source=searchResults&searchType=2&placement=1840317&sortBy=date',\n",
       " 'https://www.vietnamworks.com/chuyen-vien-phan-tich-vi-mo-va-doi-thu-canh-tranh-macro-competitor-analyst-van-phong-hoi-dong-quan-tri-ho24-270-1828006-jv?source=searchResults&searchType=2&placement=1828856&sortBy=date',\n",
       " 'https://www.vietnamworks.com/ke-toan-tong-hop--1828813-jv?source=searchResults&searchType=2&placement=1829663&sortBy=date',\n",
       " 'https://www.vietnamworks.com/nhan-vien-ky-thuat-service-engineer-luong-tu-400-800-usd--1828982-jv?source=searchResults&searchType=2&placement=1829832&sortBy=date',\n",
       " 'https://www.vietnamworks.com/chuyen-vien-moi-gioi-chung-khoan-stock-broker-ho-chi-minh-ha-noi--1836331-jv?source=searchResults&searchType=2&placement=1837181&sortBy=date',\n",
       " 'https://www.vietnamworks.com/chuyen-gia-giai-quyet-khieu-nai-khach-hang-expert-customer-complaint-management--1826828-jv?source=searchResults&searchType=2&placement=1827678&sortBy=date',\n",
       " 'https://www.vietnamworks.com/business-intelligence-manager--1828089-jv?source=searchResults&searchType=2&placement=1828939&sortBy=date',\n",
       " 'https://www.vietnamworks.com/customer-quality-leader-1828355-jv?source=searchResults&searchType=2&placement=1829205&sortBy=date',\n",
       " 'https://www.vietnamworks.com/truong-nhom-tac-nghiep-kinh-doanh-xu-ly-don-hang-sales-operation-leader-1828527-jv?source=searchResults&searchType=2&placement=1829377&sortBy=date',\n",
       " 'https://www.vietnamworks.com/tuyen-nv-phong-hanh-chinh-phu-trach-dien-nuoc-dieu-hoa-he-thong-ve-sinh-1829872-jv?source=searchResults&searchType=2&placement=1830722&sortBy=date',\n",
       " 'https://www.vietnamworks.com/hr-manager-hanoi--1839135-jv?source=searchResults&searchType=2&placement=1839985&sortBy=date',\n",
       " 'https://www.vietnamworks.com/ky-thuat-van-hanh-va-bao-tri-he-thong-1839225-jv?source=searchResults&searchType=2&placement=1840075&sortBy=date',\n",
       " 'https://www.vietnamworks.com/truong-bo-phan-hcns--1839228-jv?source=searchResults&searchType=2&placement=1840078&sortBy=date',\n",
       " 'https://www.vietnamworks.com/binh-duong-dai-dien-kinh-doanh--1839342-jv?source=searchResults&searchType=2&placement=1840192&sortBy=date',\n",
       " 'https://www.vietnamworks.com/furniture-packaging-designer-1839353-jv?source=searchResults&searchType=2&placement=1840203&sortBy=date',\n",
       " 'https://www.vietnamworks.com/chuyen-vien-phat-trien-noi-dung-toan-pho-thong-1839429-jv?source=searchResults&searchType=2&placement=1840279&sortBy=date',\n",
       " 'https://www.vietnamworks.com/pho-giam-doc-tai-chinh-25--1839250-jv?source=searchResults&searchType=2&placement=1840150&sortBy=date',\n",
       " 'https://www.vietnamworks.com/audit-senior-1828017-jv?source=searchResults&searchType=2&placement=1828917&sortBy=date',\n",
       " 'https://www.vietnamworks.com/chuyen-vien-sap-basis--1840737-jv?source=searchResults&searchType=2&placement=1841637&sortBy=date',\n",
       " 'https://www.vietnamworks.com/chuyen-vien-tu-van-tai-chinh-kenh-fulltime-professional-thuong-hoa-hong-50-bonus--1840661-jv?source=searchResults&searchType=2&placement=1841561&sortBy=date',\n",
       " 'https://www.vietnamworks.com/to-truong-san-xuat-production-leader--1840687-jv?source=searchResults&searchType=2&placement=1841587&sortBy=date',\n",
       " 'https://www.vietnamworks.com/giam-djinh-vien-ky-thuat-ky-su-xay-dung-co-djien-tu-djong-hoa-1840536-jv?source=searchResults&searchType=2&placement=1841436&sortBy=date',\n",
       " 'https://www.vietnamworks.com/senior-seo-e-commerce-1840280-jv?source=searchResults&searchType=2&placement=1841180&sortBy=date',\n",
       " 'https://www.vietnamworks.com/front-end-leader-reactjs-nextjs-1840380-jv?source=searchResults&searchType=2&placement=1841280&sortBy=date',\n",
       " 'https://www.vietnamworks.com/general-manager-manufacturing-garment-working-in-vinh-long--1836591-jv?source=searchResults&searchType=2&placement=1837491&sortBy=date',\n",
       " 'https://www.vietnamworks.com/chuyen-vien-phap-che-doanh-nghiep--1840637-jv?source=searchResults&searchType=2&placement=1841537&sortBy=date',\n",
       " 'https://www.vietnamworks.com/phu-quoc-giam-sat-thi-cong-co-dien-du-an-park-hyatt--1835708-jv?source=searchResults&searchType=2&placement=1836608&sortBy=date',\n",
       " 'https://www.vietnamworks.com/product-solutions-manager-1835715-jv?source=searchResults&searchType=2&placement=1836615&sortBy=date',\n",
       " 'https://www.vietnamworks.com/web-developer-phat-trien-website-mang-giao-duc-1836162-jv?source=searchResults&searchType=2&placement=1837062&sortBy=date',\n",
       " 'https://www.vietnamworks.com/chuyen-vien-kiem-thu-1836166-jv?source=searchResults&searchType=2&placement=1837066&sortBy=date',\n",
       " 'https://www.vietnamworks.com/chuyen-vien-ke-toan-dich-vu-tu-4-nam-kinh-nghiem-tro-len-1836202-jv?source=searchResults&searchType=2&placement=1837102&sortBy=date',\n",
       " 'https://www.vietnamworks.com/senior-risk-internal-control-manager-1836220-jv?source=searchResults&searchType=2&placement=1837120&sortBy=date',\n",
       " 'https://www.vietnamworks.com/ke-toan-tong-hop--1825077-jv?source=searchResults&searchType=2&placement=1825977&sortBy=date',\n",
       " 'https://www.vietnamworks.com/giam-djoc-djieu-hanh-nha-may-san-xuat-khuon-1836150-jv?source=searchResults&searchType=2&placement=1837050&sortBy=date',\n",
       " 'https://www.vietnamworks.com/regional-sales-manager-central-vietnam--1836163-jv?source=searchResults&searchType=2&placement=1837063&sortBy=date',\n",
       " 'https://www.vietnamworks.com/infrastructure-architect-it-system-manufacturing-open-for-junior-level-freshers--1825359-jv?source=searchResults&searchType=2&placement=1826259&sortBy=date',\n",
       " 'https://www.vietnamworks.com/chi-huy-truong-giam-sat-mep-1836634-jv?source=searchResults&searchType=2&placement=1837534&sortBy=date',\n",
       " 'https://www.vietnamworks.com/back-end-developer--1836638-jv?source=searchResults&searchType=2&placement=1837538&sortBy=date',\n",
       " 'https://www.vietnamworks.com/nhan-vien-r-d-luong-10-15-trieu-thang-1835783-jv?source=searchResults&searchType=2&placement=1836683&sortBy=date',\n",
       " 'https://www.vietnamworks.com/devops-engineer--1835902-jv?source=searchResults&searchType=2&placement=1836802&sortBy=date',\n",
       " 'https://www.vietnamworks.com/senior-qc-engineer-1835733-jv?source=searchResults&searchType=2&placement=1836633&sortBy=date',\n",
       " 'https://www.vietnamworks.com/ke-toan-hang-ton-kho-1835774-jv?source=searchResults&searchType=2&placement=1836674&sortBy=date',\n",
       " 'https://www.vietnamworks.com/cvccvcc-phan-tich-kinh-doanh-mang-quan-tri-du-lieu-thn-1835801-jv?source=searchResults&searchType=2&placement=1836701&sortBy=date',\n",
       " 'https://www.vietnamworks.com/nhan-vien-bao-tri-dien--1835938-jv?source=searchResults&searchType=2&placement=1836838&sortBy=date',\n",
       " 'https://www.vietnamworks.com/chuyen-vien-thu-mua-1836025-jv?source=searchResults&searchType=2&placement=1836925&sortBy=date',\n",
       " 'https://www.vietnamworks.com/quan-doc-phan-xuong-sua-chua--1836053-jv?source=searchResults&searchType=2&placement=1836953&sortBy=date',\n",
       " 'https://www.vietnamworks.com/senior-business-analyst-1835707-jv?source=searchResults&searchType=2&placement=1836607&sortBy=date',\n",
       " 'https://www.vietnamworks.com/fixed-income-and-derivatives-trader-1836417-jv?source=searchResults&searchType=2&placement=1837317&sortBy=date',\n",
       " 'https://www.vietnamworks.com/chuyen-gia-tuan-thu-compliance-expert--1836452-jv?source=searchResults&searchType=2&placement=1837352&sortBy=date',\n",
       " 'https://www.vietnamworks.com/hcm-chief-financial-officer-expat-preferred-1836459-jv?source=searchResults&searchType=2&placement=1837359&sortBy=date',\n",
       " 'https://www.vietnamworks.com/technical-support-engineer-motion-control-800-1200-1836244-jv?source=searchResults&searchType=2&placement=1837144&sortBy=date',\n",
       " 'https://www.vietnamworks.com/nhan-vien-khai-bao-hai-quan--1839433-jv?source=searchResults&searchType=2&placement=1840333&sortBy=date',\n",
       " 'https://www.vietnamworks.com/truong-nhom-kinh-doanh-sales-team-leader-luong-cung-len-toi-30-trieu-hoa-hong-hap-dan--1839328-jv?source=searchResults&searchType=2&placement=1840228&sortBy=date',\n",
       " 'https://www.vietnamworks.com/nhan-vien-hanh-chinh-nhan-su-1839285-jv?source=searchResults&searchType=2&placement=1840185&sortBy=date',\n",
       " 'https://www.vietnamworks.com/pr-manager-1839265-jv?source=searchResults&searchType=2&placement=1840165&sortBy=date',\n",
       " 'https://www.vietnamworks.com/truong-phong-quan-tri-kpi--1839273-jv?source=searchResults&searchType=2&placement=1840173&sortBy=date',\n",
       " 'https://www.vietnamworks.com/ky-su-rf-1839498-jv?source=searchResults&searchType=2&placement=1840398&sortBy=date',\n",
       " 'https://www.vietnamworks.com/tuyen-gap-thu-kho-sua-1839506-jv?source=searchResults&searchType=2&placement=1840406&sortBy=date',\n",
       " 'https://www.vietnamworks.com/nhan-vien-ban-hang-retail-associates-khu-vuc-tp-hcm--1839481-jv?source=searchResults&searchType=2&placement=1840381&sortBy=date',\n",
       " 'https://www.vietnamworks.com/nhan-vien-chung-tu-tuyen-noi-chi-nhanh-ho-chi-minh-1829450-jv?source=searchResults&searchType=2&placement=1830350&sortBy=date',\n",
       " 'https://www.vietnamworks.com/chuyen-vien-ke-toan--1821976-jv?source=searchResults&searchType=2&placement=1822876&sortBy=date',\n",
       " 'https://www.vietnamworks.com/chuyen-vien-phat-trien-san-pham-tin-dung-bac-a-bank-khoi-khach-hang-doanh-nghiep--1828750-jv?source=searchResults&searchType=2&placement=1829650&sortBy=date',\n",
       " 'https://www.vietnamworks.com/phien-dich-tieng-nhat-1839132-jv?source=searchResults&searchType=2&placement=1840032&sortBy=date',\n",
       " 'https://www.vietnamworks.com/senior-finance-officer-1828408-jv?source=searchResults&searchType=2&placement=1829308&sortBy=date',\n",
       " 'https://www.vietnamworks.com/leap-2024-management-trainee-engineering-0-3-years-experience-1829429-jv?source=searchResults&searchType=2&placement=1830329&sortBy=date',\n",
       " 'https://www.vietnamworks.com/nhan-vien-kiem-soat-chat-luong-qc--1825208-jv?source=searchResults&searchType=2&placement=1826108&sortBy=date',\n",
       " 'https://www.vietnamworks.com/truong-phong-quan-tri-kpi--1839273-jv?source=searchResults&searchType=2&placement=1840223&sortBy=date',\n",
       " 'https://www.vietnamworks.com/nhan-vien-khai-bao-hai-quan--1839433-jv?source=searchResults&searchType=2&placement=1840383&sortBy=date',\n",
       " 'https://www.vietnamworks.com/truong-nhom-kinh-doanh-sales-team-leader-luong-cung-len-toi-30-trieu-hoa-hong-hap-dan--1839328-jv?source=searchResults&searchType=2&placement=1840278&sortBy=date',\n",
       " 'https://www.vietnamworks.com/truong-nhom-hub-1840564-jv?source=searchResults&searchType=2&placement=1841514&sortBy=date',\n",
       " 'https://www.vietnamworks.com/it-support-specialist--1840590-jv?source=searchResults&searchType=2&placement=1841540&sortBy=date',\n",
       " 'https://www.vietnamworks.com/nhan-vien-kinh-doanh-phu-tung-may-moc-thiet-bi-cau-duong--1840457-jv?source=searchResults&searchType=2&placement=1841407&sortBy=date',\n",
       " 'https://www.vietnamworks.com/internal-audit-manager--1836594-jv?source=searchResults&searchType=2&placement=1837544&sortBy=date',\n",
       " 'https://www.vietnamworks.com/nhan-vien-bo-phan-thiet-ke-shop-revit-1835667-jv?source=searchResults&searchType=2&placement=1836617&sortBy=date',\n",
       " 'https://www.vietnamworks.com/hcm-ky-su-bao-tri-co-khi--1835640-jv?source=searchResults&searchType=2&placement=1836590&sortBy=date',\n",
       " 'https://www.vietnamworks.com/ecommerce-and-digital-marketing-manager-1835959-jv?source=searchResults&searchType=2&placement=1836909&sortBy=date',\n",
       " 'https://www.vietnamworks.com/pre-sale-digital-marketing-vietnamese-speaker-based-on-malaysia-1836146-jv?source=searchResults&searchType=2&placement=1837096&sortBy=date',\n",
       " 'https://www.vietnamworks.com/cong-ty-han-quoc-tai-ha-nam-tuyen-gap-ky-su-co-dien-tu-1825204-jv?source=searchResults&searchType=2&placement=1826154&sortBy=date',\n",
       " 'https://www.vietnamworks.com/nhan-vien-nhan-su-hr-staff--1836173-jv?source=searchResults&searchType=2&placement=1837123&sortBy=date',\n",
       " 'https://www.vietnamworks.com/e-commerce-sales-leader--1836184-jv?source=searchResults&searchType=2&placement=1837134&sortBy=date',\n",
       " 'https://www.vietnamworks.com/pho-phong-nghiep-vu-tong-hop-1836190-jv?source=searchResults&searchType=2&placement=1837140&sortBy=date',\n",
       " 'https://www.vietnamworks.com/technical-service-engineer-repair-in-house-hcm--1836195-jv?source=searchResults&searchType=2&placement=1837145&sortBy=date',\n",
       " 'https://www.vietnamworks.com/giam-doc-van-hanh-tong-quan-ly-chuoi-nha-hang-1825071-jv?source=searchResults&searchType=2&placement=1826021&sortBy=date',\n",
       " 'https://www.vietnamworks.com/business-development-specialist-digital-marketing-vietnam-speaker-to-be-based-in-kuala-lumpur-1836145-jv?source=searchResults&searchType=2&placement=1837095&sortBy=date',\n",
       " 'https://www.vietnamworks.com/sales-engineer-cum-admin-for-project-sales-1836635-jv?source=searchResults&searchType=2&placement=1837585&sortBy=date',\n",
       " 'https://www.vietnamworks.com/chuyen-vien-kinh-doanh-sales-b2b--1836091-jv?source=searchResults&searchType=2&placement=1837041&sortBy=date',\n",
       " 'https://www.vietnamworks.com/sales-automation-engineer-iai-robot-truong-nhom-kinh-doanh-tu-djong-hoa-iai-robot-1836117-jv?source=searchResults&searchType=2&placement=1837067&sortBy=date',\n",
       " 'https://www.vietnamworks.com/ky-su-an-toan--1835625-jv?source=searchResults&searchType=2&placement=1836575&sortBy=date',\n",
       " 'https://www.vietnamworks.com/chuyen-vien-cao-cap-phan-tich-nganh-doanh-nghiep--1835713-jv?source=searchResults&searchType=2&placement=1836663&sortBy=date',\n",
       " 'https://www.vietnamworks.com/embedded-software-lead-delivery-manager-joining-bonus-1835873-jv?source=searchResults&searchType=2&placement=1836823&sortBy=date',\n",
       " 'https://www.vietnamworks.com/pho-giam-doc-chi-nhanh-36-1--1835803-jv?source=searchResults&searchType=2&placement=1836753&sortBy=date',\n",
       " 'https://www.vietnamworks.com/ke-toan-tong-hop--1835906-jv?source=searchResults&searchType=2&placement=1836856&sortBy=date',\n",
       " 'https://www.vietnamworks.com/xuong-truong-bao-duong-sua-chua-o-to-ho-chi-minh-1836335-jv?source=searchResults&searchType=2&placement=1837285&sortBy=date',\n",
       " 'https://www.vietnamworks.com/sale-admin-cum-sales--1836374-jv?source=searchResults&searchType=2&placement=1837324&sortBy=date',\n",
       " 'https://www.vietnamworks.com/director-private-and-priority-1839782-jv?source=searchResults&searchType=2&placement=1840732&sortBy=date',\n",
       " 'https://www.vietnamworks.com/giam-doc-kinh-doanh--1825053-jv?source=searchResults&searchType=2&placement=1826003&sortBy=date',\n",
       " 'https://www.vietnamworks.com/nhan-vien-ke-toan-luong-12-18-trieu-1839256-jv?source=searchResults&searchType=2&placement=1840206&sortBy=date',\n",
       " 'https://www.vietnamworks.com/gte-localize-accounts-receivable-accountant-cum-admin-5-working-days-week-1839202-jv?source=searchResults&searchType=2&placement=1840152&sortBy=date',\n",
       " 'https://www.vietnamworks.com/chuyen-vien-tiep-thi-truc-tuyen-digital-mkt-1839294-jv?source=searchResults&searchType=2&placement=1840244&sortBy=date',\n",
       " 'https://www.vietnamworks.com/ke-toan-truong-chief-accountant-1839200-jv?source=searchResults&searchType=2&placement=1840150&sortBy=date',\n",
       " 'https://www.vietnamworks.com/head-of-cs-cum-operations-executive-1839146-jv?source=searchResults&searchType=2&placement=1840096&sortBy=date',\n",
       " 'https://www.vietnamworks.com/chuyen-vien-chung-tu-van-chuyen-ainnshan-sha-me-1839185-jv?source=searchResults&searchType=2&placement=1840135&sortBy=date',\n",
       " 'https://www.vietnamworks.com/nhan-vien-kinh-doanh-va-tu-van-ruou-vang--1839430-jv?source=searchResults&searchType=2&placement=1840380&sortBy=date',\n",
       " 'https://www.vietnamworks.com/student-supervisor-1839403-jv?source=searchResults&searchType=2&placement=1840353&sortBy=date',\n",
       " 'https://www.vietnamworks.com/nhan-vien-mua-hang-tieng-anh-hoac-tieng-trung-hoac-tieng-han-1839549-jv?source=searchResults&searchType=2&placement=1840499&sortBy=date',\n",
       " 'https://www.vietnamworks.com/nhan-vien-kiem-soat-chat-luong-qc-binh-thuan-1828799-jv?source=searchResults&searchType=2&placement=1829749&sortBy=date',\n",
       " 'https://www.vietnamworks.com/pho-phong-ke-toan--1827396-jv?source=searchResults&searchType=2&placement=1828346&sortBy=date',\n",
       " 'https://www.vietnamworks.com/export-staff_nhan-vien-chung-tu-1828455-jv?source=searchResults&searchType=2&placement=1829405&sortBy=date',\n",
       " 'https://www.vietnamworks.com/chuyen-vien-cao-cap-dau-tu-chien-luoc-va-m-a-khoi-dau-tu-ho24-200-1829348-jv?source=searchResults&searchType=2&placement=1830298&sortBy=date',\n",
       " 'https://www.vietnamworks.com/chuyen-vien-cong-nghe-san-xuat-so-cap-junior-technologist-1828685-jv?source=searchResults&searchType=2&placement=1829635&sortBy=date',\n",
       " 'https://www.vietnamworks.com/ke-toan-san-xuat-luong-hap-dan-den-15-trieu-1825369-jv?source=searchResults&searchType=2&placement=1826319&sortBy=date',\n",
       " 'https://www.vietnamworks.com/chuyen-vien-c-b-cho-phong-kham-quoc-te-1827948-jv?source=searchResults&searchType=2&placement=1828898&sortBy=date',\n",
       " 'https://www.vietnamworks.com/nhan-vien-kinh-doanh-thu-nhap-hap-dan-khong-gioi-han-theo-doanh-so-1839490-jv?source=searchResults&searchType=2&placement=1840440&sortBy=date',\n",
       " 'https://www.vietnamworks.com/bridge-project-manager-bpm-1839407-jv?source=searchResults&searchType=2&placement=1840357&sortBy=date',\n",
       " 'https://www.vietnamworks.com/chuyen-vien-hanh-chinh-administrative-specialist-4-positions-working-in-hai-phong--1839409-jv?source=searchResults&searchType=2&placement=1840359&sortBy=date',\n",
       " 'https://www.vietnamworks.com/urgent-accountant--1839415-jv?source=searchResults&searchType=2&placement=1840365&sortBy=date',\n",
       " ...]"
      ]
     },
     "execution_count": 26,
     "metadata": {},
     "output_type": "execute_result"
    }
   ],
   "source": [
    "list_url_job_VNW"
   ]
  },
  {
   "cell_type": "code",
   "execution_count": null,
   "metadata": {},
   "outputs": [],
   "source": [
    "df_url_job_TCV = pd.DataFrame({'URL Job': list_url_job_VNW})"
   ]
  },
  {
   "cell_type": "code",
   "execution_count": 29,
   "metadata": {},
   "outputs": [],
   "source": [
    "df_url_job_TCV.to_csv(PATH+'/job_url_TCV.csv',index_label='ID')"
   ]
  },
  {
   "cell_type": "code",
   "execution_count": 3,
   "metadata": {},
   "outputs": [],
   "source": [
    "data = pd.read_csv(PATH + '/job_url_TCV.csv')"
   ]
  },
  {
   "cell_type": "code",
   "execution_count": 3,
   "metadata": {},
   "outputs": [],
   "source": [
    "def Crawl_job_data(url):\n",
    "    content_job = requests.get(url).content\n",
    "    soup_job = BeautifulSoup(content_job, 'html.parser')\n",
    "\n",
    "    # Tiêu đề công việc\n",
    "    job_title = soup_job.find('h1', {'class':'sc-df6f4dcb-0 bsKseP'}).text.strip()\n",
    "\n",
    "    # Tên công ty\n",
    "    company_name = soup_job.find('a', {'class': 'sc-df6f4dcb-0 dIdfPh sc-f0821106-0 gWSkfE'}).text.strip()\n",
    "\n",
    "    # Địa chỉ công ty\n",
    "    company_address = soup_job.select('div.sc-37577279-3.drWnZq > div > div:nth-child(1) > div:nth-child(2) > p')[0].text.strip()\n",
    "\n",
    "    # Mô tả công việc\n",
    "    description = soup_job.find_all('div', {'class': 'sc-4913d170-6 hlTVkb'})[0].find_all('p')\n",
    "    job_description = '. '.join(\n",
    "        p.get_text(strip=True).lstrip(\"•\").strip() for p in description if p.get_text(strip=True))\n",
    "    job_description = re.sub(r'\\.+', '.', job_description)\n",
    "    job_description = re.sub(r\"-\\s*\", \"\", job_description)\n",
    "\n",
    "    # Yêu cầu công việc\n",
    "    requirements = soup_job.find_all('div', {'class': 'sc-4913d170-6 hlTVkb'})[1].find_all('p')\n",
    "    job_requirement = '. '.join(\n",
    "        p.get_text(strip=True).lstrip(\"•\").strip() for p in requirements if p.get_text(strip=True)\n",
    "    )\n",
    "\n",
    "    job_requirement = re.sub(r'\\.+', '.', job_requirement)\n",
    "    job_requirement = re.sub(r\"-\\s*\", \"\", job_requirement)\n",
    "\n",
    "    # Phúc lợ\n",
    "    welfares = soup_job.find_all('div', {'class': 'sc-c683181c-2 fGxLZh'})\n",
    "    job_welfares = '. '.join(div.get_text(strip=True) for div in welfares) + '.'\n",
    "    job_welfares: str = re.sub(r\"-\\s*\", \"\", job_welfares)\n",
    "\n",
    "    # Mức lương\n",
    "    salary = soup_job.find_all('span', {'class': 'sc-df6f4dcb-0 iOaLcj'})[0].text.strip()\n",
    "\n",
    "    # Ngày hết hạn\n",
    "    expire_date = soup_job.find_all('span', {'class': 'sc-df6f4dcb-0 bgAmOO'})[0].text.strip()\n",
    "\n",
    "    elements = soup_job.find_all('p', {'class': 'sc-df6f4dcb-0 ioTZSy'})\n",
    "    employee_rank = elements[1].text.strip()  # Cấp bậc\n",
    "    job_field = elements[2].text.strip() # Ngành nghề\n",
    "    job_skill = elements[3].text.strip() # Kĩ năng\n",
    "    Industry = elements[4].text.strip() # Lĩnh vực\n",
    "    experiences = elements[6].text.strip() # Số năm kinh nghiệm\n",
    "    job_address = elements[-1].text.strip() # Địa chỉ làm việc\n",
    "\n",
    "\n",
    "    return [job_title, company_name, Industry, company_address, job_description, job_requirement, job_welfares, salary, expire_date, employee_rank, job_skill, job_field, experiences, job_address]"
   ]
  },
  {
   "cell_type": "code",
   "execution_count": 4,
   "metadata": {},
   "outputs": [],
   "source": [
    "job_url, job_title, company_name, Industry, company_address, job_description, job_requirement = [], [], [], [], [], [], []\n",
    "job_welfares, salary, expire_date, employee_rank, job_skill, job_field, experiences, job_address = [], [], [], [], [], [], [], []"
   ]
  },
  {
   "cell_type": "code",
   "execution_count": null,
   "metadata": {},
   "outputs": [
    {
     "name": "stderr",
     "output_type": "stream",
     "text": [
      "  1%|          | 44/6781 [00:18<45:44,  2.45it/s]  "
     ]
    },
    {
     "name": "stdout",
     "output_type": "stream",
     "text": [
      "Error\n"
     ]
    },
    {
     "name": "stderr",
     "output_type": "stream",
     "text": [
      "  1%|          | 72/6781 [00:32<51:08,  2.19it/s]  "
     ]
    },
    {
     "name": "stdout",
     "output_type": "stream",
     "text": [
      "Error\n"
     ]
    },
    {
     "name": "stderr",
     "output_type": "stream",
     "text": [
      "  2%|▏         | 103/6781 [00:46<44:51,  2.48it/s] "
     ]
    },
    {
     "name": "stdout",
     "output_type": "stream",
     "text": [
      "Error\n"
     ]
    },
    {
     "name": "stderr",
     "output_type": "stream",
     "text": [
      "  2%|▏         | 120/6781 [00:53<40:51,  2.72it/s]"
     ]
    },
    {
     "name": "stdout",
     "output_type": "stream",
     "text": [
      "Error\n"
     ]
    },
    {
     "name": "stderr",
     "output_type": "stream",
     "text": [
      "  3%|▎         | 223/6781 [01:39<48:08,  2.27it/s]  "
     ]
    },
    {
     "name": "stdout",
     "output_type": "stream",
     "text": [
      "Error\n"
     ]
    },
    {
     "name": "stderr",
     "output_type": "stream",
     "text": [
      "  4%|▍         | 283/6781 [02:05<52:30,  2.06it/s]"
     ]
    },
    {
     "name": "stdout",
     "output_type": "stream",
     "text": [
      "Error\n"
     ]
    },
    {
     "name": "stderr",
     "output_type": "stream",
     "text": [
      "  5%|▍         | 311/6781 [02:18<46:51,  2.30it/s]"
     ]
    },
    {
     "name": "stdout",
     "output_type": "stream",
     "text": [
      "Error\n"
     ]
    },
    {
     "name": "stderr",
     "output_type": "stream",
     "text": [
      "  5%|▍         | 333/6781 [02:27<39:32,  2.72it/s]"
     ]
    },
    {
     "name": "stdout",
     "output_type": "stream",
     "text": [
      "Error\n"
     ]
    },
    {
     "name": "stderr",
     "output_type": "stream",
     "text": [
      "  5%|▍         | 334/6781 [02:27<39:35,  2.71it/s]"
     ]
    },
    {
     "name": "stdout",
     "output_type": "stream",
     "text": [
      "Error\n"
     ]
    },
    {
     "name": "stderr",
     "output_type": "stream",
     "text": [
      "  5%|▌         | 340/6781 [02:30<41:31,  2.59it/s]"
     ]
    },
    {
     "name": "stdout",
     "output_type": "stream",
     "text": [
      "Error\n"
     ]
    },
    {
     "name": "stderr",
     "output_type": "stream",
     "text": [
      "  6%|▌         | 379/6781 [02:47<48:45,  2.19it/s]"
     ]
    },
    {
     "name": "stdout",
     "output_type": "stream",
     "text": [
      "Error\n"
     ]
    },
    {
     "name": "stderr",
     "output_type": "stream",
     "text": [
      "  6%|▌         | 383/6781 [02:49<43:45,  2.44it/s]"
     ]
    },
    {
     "name": "stdout",
     "output_type": "stream",
     "text": [
      "Error\n"
     ]
    },
    {
     "name": "stderr",
     "output_type": "stream",
     "text": [
      "  6%|▌         | 389/6781 [02:51<43:50,  2.43it/s]"
     ]
    },
    {
     "name": "stdout",
     "output_type": "stream",
     "text": [
      "Error\n"
     ]
    },
    {
     "name": "stderr",
     "output_type": "stream",
     "text": [
      "  6%|▌         | 391/6781 [02:52<38:37,  2.76it/s]"
     ]
    },
    {
     "name": "stdout",
     "output_type": "stream",
     "text": [
      "Error\n"
     ]
    },
    {
     "name": "stderr",
     "output_type": "stream",
     "text": [
      "  6%|▋         | 437/6781 [03:12<38:55,  2.72it/s]"
     ]
    },
    {
     "name": "stdout",
     "output_type": "stream",
     "text": [
      "Error\n"
     ]
    },
    {
     "name": "stderr",
     "output_type": "stream",
     "text": [
      "  6%|▋         | 439/6781 [03:13<40:27,  2.61it/s]"
     ]
    },
    {
     "name": "stdout",
     "output_type": "stream",
     "text": [
      "Error\n"
     ]
    },
    {
     "name": "stderr",
     "output_type": "stream",
     "text": [
      "  7%|▋         | 463/6781 [03:23<36:41,  2.87it/s]"
     ]
    },
    {
     "name": "stdout",
     "output_type": "stream",
     "text": [
      "Error\n"
     ]
    },
    {
     "name": "stderr",
     "output_type": "stream",
     "text": [
      "  7%|▋         | 507/6781 [03:40<45:46,  2.28it/s]"
     ]
    },
    {
     "name": "stdout",
     "output_type": "stream",
     "text": [
      "Error\n"
     ]
    },
    {
     "name": "stderr",
     "output_type": "stream",
     "text": [
      "  8%|▊         | 527/6781 [03:48<40:44,  2.56it/s]"
     ]
    },
    {
     "name": "stdout",
     "output_type": "stream",
     "text": [
      "Error\n"
     ]
    },
    {
     "name": "stderr",
     "output_type": "stream",
     "text": [
      "  9%|▉         | 605/6781 [04:25<44:43,  2.30it/s]  "
     ]
    },
    {
     "name": "stdout",
     "output_type": "stream",
     "text": [
      "Error\n"
     ]
    },
    {
     "name": "stderr",
     "output_type": "stream",
     "text": [
      " 10%|▉         | 673/6781 [04:56<47:02,  2.16it/s]  "
     ]
    },
    {
     "name": "stdout",
     "output_type": "stream",
     "text": [
      "Error\n"
     ]
    },
    {
     "name": "stderr",
     "output_type": "stream",
     "text": [
      " 11%|█         | 751/6781 [05:29<44:47,  2.24it/s]"
     ]
    },
    {
     "name": "stdout",
     "output_type": "stream",
     "text": [
      "Error\n"
     ]
    },
    {
     "name": "stderr",
     "output_type": "stream",
     "text": [
      " 11%|█         | 757/6781 [05:31<47:53,  2.10it/s]"
     ]
    },
    {
     "name": "stdout",
     "output_type": "stream",
     "text": [
      "Error\n"
     ]
    },
    {
     "name": "stderr",
     "output_type": "stream",
     "text": [
      " 12%|█▏        | 819/6781 [06:02<51:00,  1.95it/s]"
     ]
    },
    {
     "name": "stdout",
     "output_type": "stream",
     "text": [
      "Error\n"
     ]
    },
    {
     "name": "stderr",
     "output_type": "stream",
     "text": [
      " 13%|█▎        | 855/6781 [06:18<41:55,  2.36it/s]"
     ]
    },
    {
     "name": "stdout",
     "output_type": "stream",
     "text": [
      "Error\n"
     ]
    },
    {
     "name": "stderr",
     "output_type": "stream",
     "text": [
      " 13%|█▎        | 856/6781 [06:19<39:54,  2.47it/s]"
     ]
    },
    {
     "name": "stdout",
     "output_type": "stream",
     "text": [
      "Error\n"
     ]
    },
    {
     "name": "stderr",
     "output_type": "stream",
     "text": [
      " 13%|█▎        | 857/6781 [06:19<40:24,  2.44it/s]"
     ]
    },
    {
     "name": "stdout",
     "output_type": "stream",
     "text": [
      "Error\n"
     ]
    },
    {
     "name": "stderr",
     "output_type": "stream",
     "text": [
      " 13%|█▎        | 858/6781 [06:20<44:51,  2.20it/s]"
     ]
    },
    {
     "name": "stdout",
     "output_type": "stream",
     "text": [
      "Error\n"
     ]
    },
    {
     "name": "stderr",
     "output_type": "stream",
     "text": [
      " 13%|█▎        | 861/6781 [06:21<40:25,  2.44it/s]"
     ]
    },
    {
     "name": "stdout",
     "output_type": "stream",
     "text": [
      "Error\n"
     ]
    },
    {
     "name": "stderr",
     "output_type": "stream",
     "text": [
      " 13%|█▎        | 879/6781 [06:29<48:34,  2.03it/s]"
     ]
    },
    {
     "name": "stdout",
     "output_type": "stream",
     "text": [
      "Error\n"
     ]
    },
    {
     "name": "stderr",
     "output_type": "stream",
     "text": [
      " 13%|█▎        | 902/6781 [06:40<50:23,  1.94it/s]"
     ]
    },
    {
     "name": "stdout",
     "output_type": "stream",
     "text": [
      "Error\n"
     ]
    },
    {
     "name": "stderr",
     "output_type": "stream",
     "text": [
      " 14%|█▍        | 956/6781 [07:07<46:50,  2.07it/s]"
     ]
    },
    {
     "name": "stdout",
     "output_type": "stream",
     "text": [
      "Error\n"
     ]
    },
    {
     "name": "stderr",
     "output_type": "stream",
     "text": [
      " 14%|█▍        | 969/6781 [07:13<45:47,  2.12it/s]"
     ]
    },
    {
     "name": "stdout",
     "output_type": "stream",
     "text": [
      "Error\n"
     ]
    },
    {
     "name": "stderr",
     "output_type": "stream",
     "text": [
      " 15%|█▍        | 1004/6781 [07:29<43:02,  2.24it/s]"
     ]
    },
    {
     "name": "stdout",
     "output_type": "stream",
     "text": [
      "Error\n"
     ]
    },
    {
     "name": "stderr",
     "output_type": "stream",
     "text": [
      " 15%|█▍        | 1014/6781 [07:33<40:11,  2.39it/s]"
     ]
    },
    {
     "name": "stdout",
     "output_type": "stream",
     "text": [
      "Error\n"
     ]
    },
    {
     "name": "stderr",
     "output_type": "stream",
     "text": [
      " 15%|█▌        | 1023/6781 [07:38<53:25,  1.80it/s]"
     ]
    },
    {
     "name": "stdout",
     "output_type": "stream",
     "text": [
      "Error\n"
     ]
    },
    {
     "name": "stderr",
     "output_type": "stream",
     "text": [
      " 15%|█▌        | 1046/6781 [07:49<46:05,  2.07it/s]"
     ]
    },
    {
     "name": "stdout",
     "output_type": "stream",
     "text": [
      "Error\n"
     ]
    },
    {
     "name": "stderr",
     "output_type": "stream",
     "text": [
      " 16%|█▌        | 1078/6781 [08:04<40:42,  2.33it/s]"
     ]
    },
    {
     "name": "stdout",
     "output_type": "stream",
     "text": [
      "Error\n"
     ]
    },
    {
     "name": "stderr",
     "output_type": "stream",
     "text": [
      " 17%|█▋        | 1135/6781 [08:31<49:09,  1.91it/s]"
     ]
    },
    {
     "name": "stdout",
     "output_type": "stream",
     "text": [
      "Error\n"
     ]
    },
    {
     "name": "stderr",
     "output_type": "stream",
     "text": [
      " 17%|█▋        | 1143/6781 [08:35<44:21,  2.12it/s]"
     ]
    },
    {
     "name": "stdout",
     "output_type": "stream",
     "text": [
      "Error\n"
     ]
    },
    {
     "name": "stderr",
     "output_type": "stream",
     "text": [
      " 17%|█▋        | 1172/6781 [08:49<44:09,  2.12it/s]"
     ]
    },
    {
     "name": "stdout",
     "output_type": "stream",
     "text": [
      "Error\n"
     ]
    },
    {
     "name": "stderr",
     "output_type": "stream",
     "text": [
      " 18%|█▊        | 1204/6781 [09:05<42:00,  2.21it/s]"
     ]
    },
    {
     "name": "stdout",
     "output_type": "stream",
     "text": [
      "Error\n"
     ]
    },
    {
     "name": "stderr",
     "output_type": "stream",
     "text": [
      " 18%|█▊        | 1206/6781 [09:06<48:12,  1.93it/s]"
     ]
    },
    {
     "name": "stdout",
     "output_type": "stream",
     "text": [
      "Error\n"
     ]
    },
    {
     "name": "stderr",
     "output_type": "stream",
     "text": [
      " 18%|█▊        | 1225/6781 [09:15<45:08,  2.05it/s]"
     ]
    },
    {
     "name": "stdout",
     "output_type": "stream",
     "text": [
      "Error\n"
     ]
    },
    {
     "name": "stderr",
     "output_type": "stream",
     "text": [
      " 18%|█▊        | 1226/6781 [09:15<42:13,  2.19it/s]"
     ]
    },
    {
     "name": "stdout",
     "output_type": "stream",
     "text": [
      "Error\n"
     ]
    },
    {
     "name": "stderr",
     "output_type": "stream",
     "text": [
      " 18%|█▊        | 1227/6781 [09:16<38:58,  2.37it/s]"
     ]
    },
    {
     "name": "stdout",
     "output_type": "stream",
     "text": [
      "Error\n"
     ]
    },
    {
     "name": "stderr",
     "output_type": "stream",
     "text": [
      " 18%|█▊        | 1231/6781 [09:18<45:52,  2.02it/s]"
     ]
    },
    {
     "name": "stdout",
     "output_type": "stream",
     "text": [
      "Error\n"
     ]
    },
    {
     "name": "stderr",
     "output_type": "stream",
     "text": [
      " 18%|█▊        | 1250/6781 [09:26<44:44,  2.06it/s]"
     ]
    },
    {
     "name": "stdout",
     "output_type": "stream",
     "text": [
      "Error\n"
     ]
    },
    {
     "name": "stderr",
     "output_type": "stream",
     "text": [
      " 19%|█▉        | 1283/6781 [09:42<33:03,  2.77it/s]"
     ]
    },
    {
     "name": "stdout",
     "output_type": "stream",
     "text": [
      "Error\n"
     ]
    },
    {
     "name": "stderr",
     "output_type": "stream",
     "text": [
      " 19%|█▉        | 1312/6781 [09:54<40:36,  2.24it/s]"
     ]
    },
    {
     "name": "stdout",
     "output_type": "stream",
     "text": [
      "Error\n"
     ]
    },
    {
     "name": "stderr",
     "output_type": "stream",
     "text": [
      " 19%|█▉        | 1315/6781 [09:56<37:06,  2.46it/s]"
     ]
    },
    {
     "name": "stdout",
     "output_type": "stream",
     "text": [
      "Error\n"
     ]
    },
    {
     "name": "stderr",
     "output_type": "stream",
     "text": [
      " 19%|█▉        | 1321/6781 [09:59<47:32,  1.91it/s]"
     ]
    },
    {
     "name": "stdout",
     "output_type": "stream",
     "text": [
      "Error\n"
     ]
    },
    {
     "name": "stderr",
     "output_type": "stream",
     "text": [
      " 21%|██        | 1404/6781 [10:39<54:03,  1.66it/s]"
     ]
    },
    {
     "name": "stdout",
     "output_type": "stream",
     "text": [
      "Error\n"
     ]
    },
    {
     "name": "stderr",
     "output_type": "stream",
     "text": [
      " 21%|██        | 1421/6781 [10:47<40:59,  2.18it/s]"
     ]
    },
    {
     "name": "stdout",
     "output_type": "stream",
     "text": [
      "Error\n"
     ]
    },
    {
     "name": "stderr",
     "output_type": "stream",
     "text": [
      " 22%|██▏       | 1468/6781 [11:08<36:48,  2.41it/s]"
     ]
    },
    {
     "name": "stdout",
     "output_type": "stream",
     "text": [
      "Error\n"
     ]
    },
    {
     "name": "stderr",
     "output_type": "stream",
     "text": [
      " 22%|██▏       | 1490/6781 [11:19<45:31,  1.94it/s]"
     ]
    },
    {
     "name": "stdout",
     "output_type": "stream",
     "text": [
      "Error\n"
     ]
    },
    {
     "name": "stderr",
     "output_type": "stream",
     "text": [
      " 23%|██▎       | 1537/6781 [11:41<36:09,  2.42it/s]"
     ]
    },
    {
     "name": "stdout",
     "output_type": "stream",
     "text": [
      "Error\n"
     ]
    },
    {
     "name": "stderr",
     "output_type": "stream",
     "text": [
      " 23%|██▎       | 1552/6781 [11:49<43:48,  1.99it/s]"
     ]
    },
    {
     "name": "stdout",
     "output_type": "stream",
     "text": [
      "Error\n"
     ]
    },
    {
     "name": "stderr",
     "output_type": "stream",
     "text": [
      " 23%|██▎       | 1563/6781 [11:54<38:11,  2.28it/s]"
     ]
    },
    {
     "name": "stdout",
     "output_type": "stream",
     "text": [
      "Error\n"
     ]
    },
    {
     "name": "stderr",
     "output_type": "stream",
     "text": [
      " 23%|██▎       | 1568/6781 [11:56<36:19,  2.39it/s]"
     ]
    },
    {
     "name": "stdout",
     "output_type": "stream",
     "text": [
      "Error\n"
     ]
    },
    {
     "name": "stderr",
     "output_type": "stream",
     "text": [
      " 24%|██▍       | 1617/6781 [12:19<36:12,  2.38it/s]"
     ]
    },
    {
     "name": "stdout",
     "output_type": "stream",
     "text": [
      "Error\n"
     ]
    },
    {
     "name": "stderr",
     "output_type": "stream",
     "text": [
      " 24%|██▍       | 1629/6781 [12:24<30:47,  2.79it/s]"
     ]
    },
    {
     "name": "stdout",
     "output_type": "stream",
     "text": [
      "Error\n"
     ]
    },
    {
     "name": "stderr",
     "output_type": "stream",
     "text": [
      " 24%|██▍       | 1657/6781 [12:36<34:38,  2.47it/s]"
     ]
    },
    {
     "name": "stdout",
     "output_type": "stream",
     "text": [
      "Error\n"
     ]
    },
    {
     "name": "stderr",
     "output_type": "stream",
     "text": [
      " 24%|██▍       | 1660/6781 [12:37<30:52,  2.76it/s]"
     ]
    },
    {
     "name": "stdout",
     "output_type": "stream",
     "text": [
      "Error\n"
     ]
    },
    {
     "name": "stderr",
     "output_type": "stream",
     "text": [
      " 25%|██▍       | 1671/6781 [12:42<42:25,  2.01it/s]"
     ]
    },
    {
     "name": "stdout",
     "output_type": "stream",
     "text": [
      "Error\n"
     ]
    },
    {
     "name": "stderr",
     "output_type": "stream",
     "text": [
      " 25%|██▍       | 1689/6781 [12:49<34:56,  2.43it/s]"
     ]
    },
    {
     "name": "stdout",
     "output_type": "stream",
     "text": [
      "Error\n"
     ]
    },
    {
     "name": "stderr",
     "output_type": "stream",
     "text": [
      " 25%|██▌       | 1696/6781 [12:52<37:40,  2.25it/s]"
     ]
    },
    {
     "name": "stdout",
     "output_type": "stream",
     "text": [
      "Error\n"
     ]
    },
    {
     "name": "stderr",
     "output_type": "stream",
     "text": [
      " 25%|██▌       | 1701/6781 [12:54<35:54,  2.36it/s]"
     ]
    },
    {
     "name": "stdout",
     "output_type": "stream",
     "text": [
      "Error\n"
     ]
    },
    {
     "name": "stderr",
     "output_type": "stream",
     "text": [
      " 25%|██▌       | 1703/6781 [12:55<32:04,  2.64it/s]"
     ]
    },
    {
     "name": "stdout",
     "output_type": "stream",
     "text": [
      "Error\n"
     ]
    },
    {
     "name": "stderr",
     "output_type": "stream",
     "text": [
      " 26%|██▌       | 1779/6781 [13:26<32:55,  2.53it/s]"
     ]
    },
    {
     "name": "stdout",
     "output_type": "stream",
     "text": [
      "Error\n"
     ]
    },
    {
     "name": "stderr",
     "output_type": "stream",
     "text": [
      " 27%|██▋       | 1848/6781 [13:55<41:32,  1.98it/s]"
     ]
    },
    {
     "name": "stdout",
     "output_type": "stream",
     "text": [
      "Error\n"
     ]
    },
    {
     "name": "stderr",
     "output_type": "stream",
     "text": [
      " 27%|██▋       | 1864/6781 [14:00<30:12,  2.71it/s]"
     ]
    },
    {
     "name": "stdout",
     "output_type": "stream",
     "text": [
      "Error\n"
     ]
    },
    {
     "name": "stderr",
     "output_type": "stream",
     "text": [
      " 28%|██▊       | 1889/6781 [14:12<50:28,  1.62it/s]"
     ]
    },
    {
     "name": "stdout",
     "output_type": "stream",
     "text": [
      "Error\n"
     ]
    },
    {
     "name": "stderr",
     "output_type": "stream",
     "text": [
      " 28%|██▊       | 1908/6781 [14:20<27:52,  2.91it/s]"
     ]
    },
    {
     "name": "stdout",
     "output_type": "stream",
     "text": [
      "Error\n"
     ]
    },
    {
     "name": "stderr",
     "output_type": "stream",
     "text": [
      " 28%|██▊       | 1930/6781 [14:31<38:50,  2.08it/s]"
     ]
    },
    {
     "name": "stdout",
     "output_type": "stream",
     "text": [
      "Error\n"
     ]
    },
    {
     "name": "stderr",
     "output_type": "stream",
     "text": [
      " 29%|██▊       | 1937/6781 [14:34<35:24,  2.28it/s]"
     ]
    },
    {
     "name": "stdout",
     "output_type": "stream",
     "text": [
      "Error\n"
     ]
    },
    {
     "name": "stderr",
     "output_type": "stream",
     "text": [
      " 29%|██▊       | 1946/6781 [14:39<41:11,  1.96it/s]"
     ]
    },
    {
     "name": "stdout",
     "output_type": "stream",
     "text": [
      "Error\n"
     ]
    },
    {
     "name": "stderr",
     "output_type": "stream",
     "text": [
      " 29%|██▊       | 1949/6781 [14:40<38:51,  2.07it/s]"
     ]
    },
    {
     "name": "stdout",
     "output_type": "stream",
     "text": [
      "Error\n"
     ]
    },
    {
     "name": "stderr",
     "output_type": "stream",
     "text": [
      " 29%|██▉       | 1951/6781 [14:41<32:46,  2.46it/s]"
     ]
    },
    {
     "name": "stdout",
     "output_type": "stream",
     "text": [
      "Error\n"
     ]
    },
    {
     "name": "stderr",
     "output_type": "stream",
     "text": [
      " 29%|██▉       | 1976/6781 [14:52<40:13,  1.99it/s]"
     ]
    },
    {
     "name": "stdout",
     "output_type": "stream",
     "text": [
      "Error\n"
     ]
    },
    {
     "name": "stderr",
     "output_type": "stream",
     "text": [
      " 29%|██▉       | 1981/6781 [14:55<42:07,  1.90it/s]"
     ]
    },
    {
     "name": "stdout",
     "output_type": "stream",
     "text": [
      "Error\n"
     ]
    },
    {
     "name": "stderr",
     "output_type": "stream",
     "text": [
      " 29%|██▉       | 1982/6781 [14:55<38:00,  2.10it/s]"
     ]
    },
    {
     "name": "stdout",
     "output_type": "stream",
     "text": [
      "Error\n"
     ]
    },
    {
     "name": "stderr",
     "output_type": "stream",
     "text": [
      " 29%|██▉       | 2000/6781 [15:03<34:45,  2.29it/s]"
     ]
    },
    {
     "name": "stdout",
     "output_type": "stream",
     "text": [
      "Error\n"
     ]
    },
    {
     "name": "stderr",
     "output_type": "stream",
     "text": [
      " 30%|██▉       | 2002/6781 [15:05<42:33,  1.87it/s]"
     ]
    },
    {
     "name": "stdout",
     "output_type": "stream",
     "text": [
      "Error\n"
     ]
    },
    {
     "name": "stderr",
     "output_type": "stream",
     "text": [
      " 30%|███       | 2063/6781 [15:33<37:48,  2.08it/s]"
     ]
    },
    {
     "name": "stdout",
     "output_type": "stream",
     "text": [
      "Error\n"
     ]
    },
    {
     "name": "stderr",
     "output_type": "stream",
     "text": [
      " 31%|███       | 2071/6781 [15:37<35:50,  2.19it/s]"
     ]
    },
    {
     "name": "stdout",
     "output_type": "stream",
     "text": [
      "Error\n"
     ]
    },
    {
     "name": "stderr",
     "output_type": "stream",
     "text": [
      " 31%|███       | 2082/6781 [15:42<41:14,  1.90it/s]"
     ]
    },
    {
     "name": "stdout",
     "output_type": "stream",
     "text": [
      "Error\n"
     ]
    },
    {
     "name": "stderr",
     "output_type": "stream",
     "text": [
      " 31%|███▏      | 2123/6781 [16:02<38:24,  2.02it/s]"
     ]
    },
    {
     "name": "stdout",
     "output_type": "stream",
     "text": [
      "Error\n"
     ]
    },
    {
     "name": "stderr",
     "output_type": "stream",
     "text": [
      " 31%|███▏      | 2126/6781 [16:03<33:54,  2.29it/s]"
     ]
    },
    {
     "name": "stdout",
     "output_type": "stream",
     "text": [
      "Error\n"
     ]
    },
    {
     "name": "stderr",
     "output_type": "stream",
     "text": [
      " 32%|███▏      | 2198/6781 [16:37<39:13,  1.95it/s]"
     ]
    },
    {
     "name": "stdout",
     "output_type": "stream",
     "text": [
      "Error\n"
     ]
    },
    {
     "name": "stderr",
     "output_type": "stream",
     "text": [
      " 33%|███▎      | 2224/6781 [16:49<34:46,  2.18it/s]"
     ]
    },
    {
     "name": "stdout",
     "output_type": "stream",
     "text": [
      "Error\n"
     ]
    },
    {
     "name": "stderr",
     "output_type": "stream",
     "text": [
      " 33%|███▎      | 2228/6781 [16:51<37:10,  2.04it/s]"
     ]
    },
    {
     "name": "stdout",
     "output_type": "stream",
     "text": [
      "Error\n"
     ]
    },
    {
     "name": "stderr",
     "output_type": "stream",
     "text": [
      " 33%|███▎      | 2229/6781 [16:52<34:55,  2.17it/s]"
     ]
    },
    {
     "name": "stdout",
     "output_type": "stream",
     "text": [
      "Error\n"
     ]
    },
    {
     "name": "stderr",
     "output_type": "stream",
     "text": [
      " 33%|███▎      | 2243/6781 [16:59<37:49,  2.00it/s]"
     ]
    },
    {
     "name": "stdout",
     "output_type": "stream",
     "text": [
      "Error\n"
     ]
    },
    {
     "name": "stderr",
     "output_type": "stream",
     "text": [
      " 33%|███▎      | 2247/6781 [17:00<35:30,  2.13it/s]"
     ]
    },
    {
     "name": "stdout",
     "output_type": "stream",
     "text": [
      "Error\n"
     ]
    },
    {
     "name": "stderr",
     "output_type": "stream",
     "text": [
      " 34%|███▎      | 2284/6781 [17:17<34:00,  2.20it/s]"
     ]
    },
    {
     "name": "stdout",
     "output_type": "stream",
     "text": [
      "Error\n"
     ]
    },
    {
     "name": "stderr",
     "output_type": "stream",
     "text": [
      " 34%|███▎      | 2287/6781 [17:18<36:41,  2.04it/s]"
     ]
    },
    {
     "name": "stdout",
     "output_type": "stream",
     "text": [
      "Error\n"
     ]
    },
    {
     "name": "stderr",
     "output_type": "stream",
     "text": [
      " 34%|███▍      | 2289/6781 [17:19<35:33,  2.11it/s]"
     ]
    },
    {
     "name": "stdout",
     "output_type": "stream",
     "text": [
      "Error\n"
     ]
    },
    {
     "name": "stderr",
     "output_type": "stream",
     "text": [
      " 34%|███▍      | 2294/6781 [17:22<32:33,  2.30it/s]"
     ]
    },
    {
     "name": "stdout",
     "output_type": "stream",
     "text": [
      "Error\n"
     ]
    },
    {
     "name": "stderr",
     "output_type": "stream",
     "text": [
      " 34%|███▍      | 2295/6781 [17:22<38:01,  1.97it/s]"
     ]
    },
    {
     "name": "stdout",
     "output_type": "stream",
     "text": [
      "Error\n"
     ]
    },
    {
     "name": "stderr",
     "output_type": "stream",
     "text": [
      " 34%|███▍      | 2296/6781 [17:23<39:45,  1.88it/s]"
     ]
    },
    {
     "name": "stdout",
     "output_type": "stream",
     "text": [
      "Error\n"
     ]
    },
    {
     "name": "stderr",
     "output_type": "stream",
     "text": [
      " 34%|███▍      | 2298/6781 [17:24<38:33,  1.94it/s]"
     ]
    },
    {
     "name": "stdout",
     "output_type": "stream",
     "text": [
      "Error\n"
     ]
    },
    {
     "name": "stderr",
     "output_type": "stream",
     "text": [
      " 34%|███▍      | 2336/6781 [17:40<36:51,  2.01it/s]"
     ]
    },
    {
     "name": "stdout",
     "output_type": "stream",
     "text": [
      "Error\n"
     ]
    },
    {
     "name": "stderr",
     "output_type": "stream",
     "text": [
      " 35%|███▍      | 2352/6781 [17:47<30:03,  2.46it/s]"
     ]
    },
    {
     "name": "stdout",
     "output_type": "stream",
     "text": [
      "Error\n"
     ]
    },
    {
     "name": "stderr",
     "output_type": "stream",
     "text": [
      " 35%|███▌      | 2378/6781 [17:58<31:33,  2.33it/s]"
     ]
    },
    {
     "name": "stdout",
     "output_type": "stream",
     "text": [
      "Error\n"
     ]
    },
    {
     "name": "stderr",
     "output_type": "stream",
     "text": [
      " 35%|███▌      | 2406/6781 [18:10<33:01,  2.21it/s]"
     ]
    },
    {
     "name": "stdout",
     "output_type": "stream",
     "text": [
      "Error\n"
     ]
    },
    {
     "name": "stderr",
     "output_type": "stream",
     "text": [
      " 36%|███▌      | 2414/6781 [18:14<26:13,  2.78it/s]"
     ]
    },
    {
     "name": "stdout",
     "output_type": "stream",
     "text": [
      "Error\n"
     ]
    },
    {
     "name": "stderr",
     "output_type": "stream",
     "text": [
      " 36%|███▌      | 2435/6781 [18:23<36:18,  1.99it/s]"
     ]
    },
    {
     "name": "stdout",
     "output_type": "stream",
     "text": [
      "Error\n"
     ]
    },
    {
     "name": "stderr",
     "output_type": "stream",
     "text": [
      " 36%|███▌      | 2446/6781 [18:28<31:23,  2.30it/s]"
     ]
    },
    {
     "name": "stdout",
     "output_type": "stream",
     "text": [
      "Error\n"
     ]
    },
    {
     "name": "stderr",
     "output_type": "stream",
     "text": [
      " 37%|███▋      | 2479/6781 [18:43<25:50,  2.78it/s]"
     ]
    },
    {
     "name": "stdout",
     "output_type": "stream",
     "text": [
      "Error\n"
     ]
    },
    {
     "name": "stderr",
     "output_type": "stream",
     "text": [
      " 37%|███▋      | 2490/6781 [18:48<42:04,  1.70it/s]"
     ]
    },
    {
     "name": "stdout",
     "output_type": "stream",
     "text": [
      "Error\n"
     ]
    },
    {
     "name": "stderr",
     "output_type": "stream",
     "text": [
      " 37%|███▋      | 2500/6781 [18:53<33:49,  2.11it/s]"
     ]
    },
    {
     "name": "stdout",
     "output_type": "stream",
     "text": [
      "Error\n"
     ]
    },
    {
     "name": "stderr",
     "output_type": "stream",
     "text": [
      " 37%|███▋      | 2523/6781 [19:04<36:52,  1.92it/s]"
     ]
    },
    {
     "name": "stdout",
     "output_type": "stream",
     "text": [
      "Error\n"
     ]
    },
    {
     "name": "stderr",
     "output_type": "stream",
     "text": [
      " 37%|███▋      | 2525/6781 [19:05<34:28,  2.06it/s]"
     ]
    },
    {
     "name": "stdout",
     "output_type": "stream",
     "text": [
      "Error\n"
     ]
    },
    {
     "name": "stderr",
     "output_type": "stream",
     "text": [
      " 37%|███▋      | 2527/6781 [19:06<31:20,  2.26it/s]"
     ]
    },
    {
     "name": "stdout",
     "output_type": "stream",
     "text": [
      "Error\n"
     ]
    },
    {
     "name": "stderr",
     "output_type": "stream",
     "text": [
      " 37%|███▋      | 2538/6781 [19:10<30:06,  2.35it/s]"
     ]
    },
    {
     "name": "stdout",
     "output_type": "stream",
     "text": [
      "Error\n"
     ]
    },
    {
     "name": "stderr",
     "output_type": "stream",
     "text": [
      " 37%|███▋      | 2542/6781 [19:12<30:29,  2.32it/s]"
     ]
    },
    {
     "name": "stdout",
     "output_type": "stream",
     "text": [
      "Error\n"
     ]
    },
    {
     "name": "stderr",
     "output_type": "stream",
     "text": [
      " 38%|███▊      | 2563/6781 [19:22<28:34,  2.46it/s]"
     ]
    },
    {
     "name": "stdout",
     "output_type": "stream",
     "text": [
      "Error\n"
     ]
    },
    {
     "name": "stderr",
     "output_type": "stream",
     "text": [
      " 38%|███▊      | 2585/6781 [19:35<31:46,  2.20it/s]  "
     ]
    },
    {
     "name": "stdout",
     "output_type": "stream",
     "text": [
      "Error\n"
     ]
    },
    {
     "name": "stderr",
     "output_type": "stream",
     "text": [
      " 38%|███▊      | 2606/6781 [19:46<40:30,  1.72it/s]"
     ]
    },
    {
     "name": "stdout",
     "output_type": "stream",
     "text": [
      "Error\n"
     ]
    },
    {
     "name": "stderr",
     "output_type": "stream",
     "text": [
      " 38%|███▊      | 2607/6781 [19:46<34:44,  2.00it/s]"
     ]
    },
    {
     "name": "stdout",
     "output_type": "stream",
     "text": [
      "Error\n"
     ]
    },
    {
     "name": "stderr",
     "output_type": "stream",
     "text": [
      " 39%|███▊      | 2617/6781 [19:51<38:09,  1.82it/s]"
     ]
    },
    {
     "name": "stdout",
     "output_type": "stream",
     "text": [
      "Error\n"
     ]
    },
    {
     "name": "stderr",
     "output_type": "stream",
     "text": [
      " 39%|███▉      | 2645/6781 [20:06<31:06,  2.22it/s]"
     ]
    },
    {
     "name": "stdout",
     "output_type": "stream",
     "text": [
      "Error\n"
     ]
    },
    {
     "name": "stderr",
     "output_type": "stream",
     "text": [
      " 39%|███▉      | 2664/6781 [20:16<36:34,  1.88it/s]"
     ]
    },
    {
     "name": "stdout",
     "output_type": "stream",
     "text": [
      "Error\n"
     ]
    },
    {
     "name": "stderr",
     "output_type": "stream",
     "text": [
      " 39%|███▉      | 2665/6781 [20:17<35:06,  1.95it/s]"
     ]
    },
    {
     "name": "stdout",
     "output_type": "stream",
     "text": [
      "Error\n"
     ]
    },
    {
     "name": "stderr",
     "output_type": "stream",
     "text": [
      " 40%|███▉      | 2689/6781 [20:30<30:03,  2.27it/s]"
     ]
    },
    {
     "name": "stdout",
     "output_type": "stream",
     "text": [
      "Error\n"
     ]
    },
    {
     "name": "stderr",
     "output_type": "stream",
     "text": [
      " 40%|████      | 2744/6781 [20:56<30:32,  2.20it/s]"
     ]
    },
    {
     "name": "stdout",
     "output_type": "stream",
     "text": [
      "Error\n"
     ]
    },
    {
     "name": "stderr",
     "output_type": "stream",
     "text": [
      " 41%|████      | 2750/6781 [20:59<29:41,  2.26it/s]"
     ]
    },
    {
     "name": "stdout",
     "output_type": "stream",
     "text": [
      "Error\n"
     ]
    },
    {
     "name": "stderr",
     "output_type": "stream",
     "text": [
      " 41%|████      | 2758/6781 [21:03<28:34,  2.35it/s]"
     ]
    },
    {
     "name": "stdout",
     "output_type": "stream",
     "text": [
      "Error\n"
     ]
    },
    {
     "name": "stderr",
     "output_type": "stream",
     "text": [
      " 41%|████      | 2766/6781 [21:07<35:16,  1.90it/s]"
     ]
    },
    {
     "name": "stdout",
     "output_type": "stream",
     "text": [
      "Error\n"
     ]
    },
    {
     "name": "stderr",
     "output_type": "stream",
     "text": [
      " 41%|████      | 2768/6781 [21:08<33:29,  2.00it/s]"
     ]
    },
    {
     "name": "stdout",
     "output_type": "stream",
     "text": [
      "Error\n"
     ]
    },
    {
     "name": "stderr",
     "output_type": "stream",
     "text": [
      " 41%|████      | 2787/6781 [21:16<27:26,  2.43it/s]"
     ]
    },
    {
     "name": "stdout",
     "output_type": "stream",
     "text": [
      "Error\n"
     ]
    },
    {
     "name": "stderr",
     "output_type": "stream",
     "text": [
      " 41%|████▏     | 2808/6781 [21:26<34:40,  1.91it/s]"
     ]
    },
    {
     "name": "stdout",
     "output_type": "stream",
     "text": [
      "Error\n"
     ]
    },
    {
     "name": "stderr",
     "output_type": "stream",
     "text": [
      " 42%|████▏     | 2819/6781 [21:31<31:45,  2.08it/s]"
     ]
    },
    {
     "name": "stdout",
     "output_type": "stream",
     "text": [
      "Error\n"
     ]
    },
    {
     "name": "stderr",
     "output_type": "stream",
     "text": [
      " 42%|████▏     | 2830/6781 [21:35<25:27,  2.59it/s]"
     ]
    },
    {
     "name": "stdout",
     "output_type": "stream",
     "text": [
      "Error\n"
     ]
    },
    {
     "name": "stderr",
     "output_type": "stream",
     "text": [
      " 42%|████▏     | 2834/6781 [21:36<23:39,  2.78it/s]"
     ]
    },
    {
     "name": "stdout",
     "output_type": "stream",
     "text": [
      "Error\n"
     ]
    },
    {
     "name": "stderr",
     "output_type": "stream",
     "text": [
      " 42%|████▏     | 2838/6781 [21:38<28:48,  2.28it/s]"
     ]
    },
    {
     "name": "stdout",
     "output_type": "stream",
     "text": [
      "Error\n"
     ]
    },
    {
     "name": "stderr",
     "output_type": "stream",
     "text": [
      " 42%|████▏     | 2839/6781 [21:39<28:40,  2.29it/s]"
     ]
    },
    {
     "name": "stdout",
     "output_type": "stream",
     "text": [
      "Error\n"
     ]
    },
    {
     "name": "stderr",
     "output_type": "stream",
     "text": [
      " 42%|████▏     | 2851/6781 [21:44<22:42,  2.88it/s]"
     ]
    },
    {
     "name": "stdout",
     "output_type": "stream",
     "text": [
      "Error\n"
     ]
    },
    {
     "name": "stderr",
     "output_type": "stream",
     "text": [
      " 42%|████▏     | 2861/6781 [21:49<35:35,  1.84it/s]"
     ]
    },
    {
     "name": "stdout",
     "output_type": "stream",
     "text": [
      "Error\n"
     ]
    },
    {
     "name": "stderr",
     "output_type": "stream",
     "text": [
      " 44%|████▍     | 3013/6781 [23:03<33:14,  1.89it/s]"
     ]
    },
    {
     "name": "stdout",
     "output_type": "stream",
     "text": [
      "Error\n"
     ]
    },
    {
     "name": "stderr",
     "output_type": "stream",
     "text": [
      " 44%|████▍     | 3015/6781 [23:04<32:12,  1.95it/s]"
     ]
    },
    {
     "name": "stdout",
     "output_type": "stream",
     "text": [
      "Error\n"
     ]
    },
    {
     "name": "stderr",
     "output_type": "stream",
     "text": [
      " 44%|████▍     | 3016/6781 [23:04<28:53,  2.17it/s]"
     ]
    },
    {
     "name": "stdout",
     "output_type": "stream",
     "text": [
      "Error\n"
     ]
    },
    {
     "name": "stderr",
     "output_type": "stream",
     "text": [
      " 45%|████▍     | 3033/6781 [23:12<32:52,  1.90it/s]"
     ]
    },
    {
     "name": "stdout",
     "output_type": "stream",
     "text": [
      "Error\n"
     ]
    },
    {
     "name": "stderr",
     "output_type": "stream",
     "text": [
      " 45%|████▍     | 3040/6781 [23:16<35:25,  1.76it/s]"
     ]
    },
    {
     "name": "stdout",
     "output_type": "stream",
     "text": [
      "Error\n"
     ]
    },
    {
     "name": "stderr",
     "output_type": "stream",
     "text": [
      " 45%|████▌     | 3075/6781 [23:34<28:22,  2.18it/s]"
     ]
    },
    {
     "name": "stdout",
     "output_type": "stream",
     "text": [
      "Error\n"
     ]
    },
    {
     "name": "stderr",
     "output_type": "stream",
     "text": [
      " 45%|████▌     | 3083/6781 [23:39<34:42,  1.78it/s]"
     ]
    },
    {
     "name": "stdout",
     "output_type": "stream",
     "text": [
      "Error\n"
     ]
    },
    {
     "name": "stderr",
     "output_type": "stream",
     "text": [
      " 46%|████▌     | 3095/6781 [23:43<24:54,  2.47it/s]"
     ]
    },
    {
     "name": "stdout",
     "output_type": "stream",
     "text": [
      "Error\n"
     ]
    },
    {
     "name": "stderr",
     "output_type": "stream",
     "text": [
      " 46%|████▌     | 3101/6781 [23:46<28:48,  2.13it/s]"
     ]
    },
    {
     "name": "stdout",
     "output_type": "stream",
     "text": [
      "Error\n"
     ]
    },
    {
     "name": "stderr",
     "output_type": "stream",
     "text": [
      " 46%|████▌     | 3110/6781 [23:51<33:14,  1.84it/s]"
     ]
    },
    {
     "name": "stdout",
     "output_type": "stream",
     "text": [
      "Error\n"
     ]
    },
    {
     "name": "stderr",
     "output_type": "stream",
     "text": [
      " 46%|████▌     | 3116/6781 [23:54<34:07,  1.79it/s]"
     ]
    },
    {
     "name": "stdout",
     "output_type": "stream",
     "text": [
      "Error\n"
     ]
    },
    {
     "name": "stderr",
     "output_type": "stream",
     "text": [
      " 46%|████▌     | 3121/6781 [23:56<27:51,  2.19it/s]"
     ]
    },
    {
     "name": "stdout",
     "output_type": "stream",
     "text": [
      "Error\n"
     ]
    },
    {
     "name": "stderr",
     "output_type": "stream",
     "text": [
      " 46%|████▌     | 3130/6781 [24:00<24:06,  2.52it/s]"
     ]
    },
    {
     "name": "stdout",
     "output_type": "stream",
     "text": [
      "Error\n"
     ]
    },
    {
     "name": "stderr",
     "output_type": "stream",
     "text": [
      " 46%|████▋     | 3143/6781 [24:08<30:23,  1.99it/s]"
     ]
    },
    {
     "name": "stdout",
     "output_type": "stream",
     "text": [
      "Error\n"
     ]
    },
    {
     "name": "stderr",
     "output_type": "stream",
     "text": [
      " 47%|████▋     | 3157/6781 [24:14<29:43,  2.03it/s]"
     ]
    },
    {
     "name": "stdout",
     "output_type": "stream",
     "text": [
      "Error\n"
     ]
    },
    {
     "name": "stderr",
     "output_type": "stream",
     "text": [
      " 47%|████▋     | 3175/6781 [24:23<29:45,  2.02it/s]"
     ]
    },
    {
     "name": "stdout",
     "output_type": "stream",
     "text": [
      "Error\n"
     ]
    },
    {
     "name": "stderr",
     "output_type": "stream",
     "text": [
      " 47%|████▋     | 3206/6781 [24:38<34:34,  1.72it/s]"
     ]
    },
    {
     "name": "stdout",
     "output_type": "stream",
     "text": [
      "Error\n"
     ]
    },
    {
     "name": "stderr",
     "output_type": "stream",
     "text": [
      " 48%|████▊     | 3239/6781 [24:55<24:28,  2.41it/s]"
     ]
    },
    {
     "name": "stdout",
     "output_type": "stream",
     "text": [
      "Error\n"
     ]
    },
    {
     "name": "stderr",
     "output_type": "stream",
     "text": [
      " 48%|████▊     | 3267/6781 [25:08<30:06,  1.95it/s]"
     ]
    },
    {
     "name": "stdout",
     "output_type": "stream",
     "text": [
      "Error\n"
     ]
    },
    {
     "name": "stderr",
     "output_type": "stream",
     "text": [
      " 48%|████▊     | 3280/6781 [25:14<25:42,  2.27it/s]"
     ]
    },
    {
     "name": "stdout",
     "output_type": "stream",
     "text": [
      "Error\n"
     ]
    },
    {
     "name": "stderr",
     "output_type": "stream",
     "text": [
      " 50%|████▉     | 3357/6781 [25:52<28:59,  1.97it/s]"
     ]
    },
    {
     "name": "stdout",
     "output_type": "stream",
     "text": [
      "Error\n"
     ]
    },
    {
     "name": "stderr",
     "output_type": "stream",
     "text": [
      " 50%|████▉     | 3361/6781 [25:53<26:10,  2.18it/s]"
     ]
    },
    {
     "name": "stdout",
     "output_type": "stream",
     "text": [
      "Error\n"
     ]
    },
    {
     "name": "stderr",
     "output_type": "stream",
     "text": [
      " 50%|█████     | 3396/6781 [26:12<32:35,  1.73it/s]"
     ]
    },
    {
     "name": "stdout",
     "output_type": "stream",
     "text": [
      "Error\n"
     ]
    },
    {
     "name": "stderr",
     "output_type": "stream",
     "text": [
      " 50%|█████     | 3400/6781 [26:14<29:22,  1.92it/s]"
     ]
    },
    {
     "name": "stdout",
     "output_type": "stream",
     "text": [
      "Error\n"
     ]
    },
    {
     "name": "stderr",
     "output_type": "stream",
     "text": [
      " 50%|█████     | 3417/6781 [26:22<28:27,  1.97it/s]"
     ]
    },
    {
     "name": "stdout",
     "output_type": "stream",
     "text": [
      "Error\n"
     ]
    },
    {
     "name": "stderr",
     "output_type": "stream",
     "text": [
      " 50%|█████     | 3424/6781 [26:26<28:58,  1.93it/s]"
     ]
    },
    {
     "name": "stdout",
     "output_type": "stream",
     "text": [
      "Error\n"
     ]
    },
    {
     "name": "stderr",
     "output_type": "stream",
     "text": [
      " 51%|█████     | 3427/6781 [26:27<21:20,  2.62it/s]"
     ]
    },
    {
     "name": "stdout",
     "output_type": "stream",
     "text": [
      "Error\n"
     ]
    },
    {
     "name": "stderr",
     "output_type": "stream",
     "text": [
      " 51%|█████     | 3428/6781 [26:27<24:18,  2.30it/s]"
     ]
    },
    {
     "name": "stdout",
     "output_type": "stream",
     "text": [
      "Error\n"
     ]
    },
    {
     "name": "stderr",
     "output_type": "stream",
     "text": [
      " 51%|█████     | 3440/6781 [26:32<22:07,  2.52it/s]"
     ]
    },
    {
     "name": "stdout",
     "output_type": "stream",
     "text": [
      "Error\n"
     ]
    },
    {
     "name": "stderr",
     "output_type": "stream",
     "text": [
      " 51%|█████     | 3463/6781 [26:45<25:54,  2.13it/s]"
     ]
    },
    {
     "name": "stdout",
     "output_type": "stream",
     "text": [
      "Error\n"
     ]
    },
    {
     "name": "stderr",
     "output_type": "stream",
     "text": [
      " 51%|█████     | 3465/6781 [26:46<28:12,  1.96it/s]"
     ]
    },
    {
     "name": "stdout",
     "output_type": "stream",
     "text": [
      "Error\n"
     ]
    },
    {
     "name": "stderr",
     "output_type": "stream",
     "text": [
      " 51%|█████▏    | 3482/6781 [26:52<22:23,  2.46it/s]"
     ]
    },
    {
     "name": "stdout",
     "output_type": "stream",
     "text": [
      "Error\n"
     ]
    },
    {
     "name": "stderr",
     "output_type": "stream",
     "text": [
      " 51%|█████▏    | 3490/6781 [26:56<24:42,  2.22it/s]"
     ]
    },
    {
     "name": "stdout",
     "output_type": "stream",
     "text": [
      "Error\n"
     ]
    },
    {
     "name": "stderr",
     "output_type": "stream",
     "text": [
      " 52%|█████▏    | 3493/6781 [26:58<23:44,  2.31it/s]"
     ]
    },
    {
     "name": "stdout",
     "output_type": "stream",
     "text": [
      "Error\n"
     ]
    },
    {
     "name": "stderr",
     "output_type": "stream",
     "text": [
      " 52%|█████▏    | 3496/6781 [26:59<26:18,  2.08it/s]"
     ]
    },
    {
     "name": "stdout",
     "output_type": "stream",
     "text": [
      "Error\n"
     ]
    },
    {
     "name": "stderr",
     "output_type": "stream",
     "text": [
      " 52%|█████▏    | 3499/6781 [27:01<26:13,  2.09it/s]"
     ]
    },
    {
     "name": "stdout",
     "output_type": "stream",
     "text": [
      "Error\n"
     ]
    },
    {
     "name": "stderr",
     "output_type": "stream",
     "text": [
      " 52%|█████▏    | 3501/6781 [27:02<24:40,  2.22it/s]"
     ]
    },
    {
     "name": "stdout",
     "output_type": "stream",
     "text": [
      "Error\n"
     ]
    },
    {
     "name": "stderr",
     "output_type": "stream",
     "text": [
      " 52%|█████▏    | 3505/6781 [27:03<21:05,  2.59it/s]"
     ]
    },
    {
     "name": "stdout",
     "output_type": "stream",
     "text": [
      "Error\n"
     ]
    },
    {
     "name": "stderr",
     "output_type": "stream",
     "text": [
      " 52%|█████▏    | 3532/6781 [27:13<20:25,  2.65it/s]"
     ]
    },
    {
     "name": "stdout",
     "output_type": "stream",
     "text": [
      "Error\n"
     ]
    },
    {
     "name": "stderr",
     "output_type": "stream",
     "text": [
      " 52%|█████▏    | 3554/6781 [27:23<22:02,  2.44it/s]"
     ]
    },
    {
     "name": "stdout",
     "output_type": "stream",
     "text": [
      "Error\n"
     ]
    },
    {
     "name": "stderr",
     "output_type": "stream",
     "text": [
      " 53%|█████▎    | 3563/6781 [27:27<20:53,  2.57it/s]"
     ]
    },
    {
     "name": "stdout",
     "output_type": "stream",
     "text": [
      "Error\n"
     ]
    },
    {
     "name": "stderr",
     "output_type": "stream",
     "text": [
      " 53%|█████▎    | 3593/6781 [27:39<21:09,  2.51it/s]"
     ]
    },
    {
     "name": "stdout",
     "output_type": "stream",
     "text": [
      "Error\n"
     ]
    },
    {
     "name": "stderr",
     "output_type": "stream",
     "text": [
      " 54%|█████▎    | 3630/6781 [27:56<24:25,  2.15it/s]"
     ]
    },
    {
     "name": "stdout",
     "output_type": "stream",
     "text": [
      "Error\n"
     ]
    },
    {
     "name": "stderr",
     "output_type": "stream",
     "text": [
      " 54%|█████▎    | 3636/6781 [27:58<21:20,  2.46it/s]"
     ]
    },
    {
     "name": "stdout",
     "output_type": "stream",
     "text": [
      "Error\n"
     ]
    },
    {
     "name": "stderr",
     "output_type": "stream",
     "text": [
      " 54%|█████▍    | 3646/6781 [28:03<24:29,  2.13it/s]"
     ]
    },
    {
     "name": "stdout",
     "output_type": "stream",
     "text": [
      "Error\n"
     ]
    },
    {
     "name": "stderr",
     "output_type": "stream",
     "text": [
      " 54%|█████▍    | 3651/6781 [28:05<21:52,  2.39it/s]"
     ]
    },
    {
     "name": "stdout",
     "output_type": "stream",
     "text": [
      "Error\n"
     ]
    },
    {
     "name": "stderr",
     "output_type": "stream",
     "text": [
      " 54%|█████▍    | 3675/6781 [28:16<22:14,  2.33it/s]"
     ]
    },
    {
     "name": "stdout",
     "output_type": "stream",
     "text": [
      "Error\n"
     ]
    },
    {
     "name": "stderr",
     "output_type": "stream",
     "text": [
      " 54%|█████▍    | 3684/6781 [28:20<23:59,  2.15it/s]"
     ]
    },
    {
     "name": "stdout",
     "output_type": "stream",
     "text": [
      "Error\n"
     ]
    },
    {
     "name": "stderr",
     "output_type": "stream",
     "text": [
      " 56%|█████▌    | 3789/6781 [29:06<17:22,  2.87it/s]"
     ]
    },
    {
     "name": "stdout",
     "output_type": "stream",
     "text": [
      "Error\n"
     ]
    },
    {
     "name": "stderr",
     "output_type": "stream",
     "text": [
      " 56%|█████▌    | 3793/6781 [29:08<20:48,  2.39it/s]"
     ]
    },
    {
     "name": "stdout",
     "output_type": "stream",
     "text": [
      "Error\n"
     ]
    },
    {
     "name": "stderr",
     "output_type": "stream",
     "text": [
      " 56%|█████▌    | 3796/6781 [29:09<22:36,  2.20it/s]"
     ]
    },
    {
     "name": "stdout",
     "output_type": "stream",
     "text": [
      "Error\n"
     ]
    },
    {
     "name": "stderr",
     "output_type": "stream",
     "text": [
      " 56%|█████▌    | 3811/6781 [29:16<18:30,  2.67it/s]"
     ]
    },
    {
     "name": "stdout",
     "output_type": "stream",
     "text": [
      "Error\n"
     ]
    },
    {
     "name": "stderr",
     "output_type": "stream",
     "text": [
      " 57%|█████▋    | 3832/6781 [29:25<19:12,  2.56it/s]"
     ]
    },
    {
     "name": "stdout",
     "output_type": "stream",
     "text": [
      "Error\n"
     ]
    },
    {
     "name": "stderr",
     "output_type": "stream",
     "text": [
      " 57%|█████▋    | 3838/6781 [29:27<18:57,  2.59it/s]"
     ]
    },
    {
     "name": "stdout",
     "output_type": "stream",
     "text": [
      "Error\n"
     ]
    },
    {
     "name": "stderr",
     "output_type": "stream",
     "text": [
      " 57%|█████▋    | 3868/6781 [29:41<18:39,  2.60it/s]"
     ]
    },
    {
     "name": "stdout",
     "output_type": "stream",
     "text": [
      "Error\n"
     ]
    },
    {
     "name": "stderr",
     "output_type": "stream",
     "text": [
      " 57%|█████▋    | 3871/6781 [29:42<17:25,  2.78it/s]"
     ]
    },
    {
     "name": "stdout",
     "output_type": "stream",
     "text": [
      "Error\n"
     ]
    },
    {
     "name": "stderr",
     "output_type": "stream",
     "text": [
      " 57%|█████▋    | 3898/6781 [29:54<28:58,  1.66it/s]"
     ]
    },
    {
     "name": "stdout",
     "output_type": "stream",
     "text": [
      "Error\n"
     ]
    },
    {
     "name": "stderr",
     "output_type": "stream",
     "text": [
      " 58%|█████▊    | 3926/6781 [30:07<21:26,  2.22it/s]"
     ]
    },
    {
     "name": "stdout",
     "output_type": "stream",
     "text": [
      "Error\n"
     ]
    },
    {
     "name": "stderr",
     "output_type": "stream",
     "text": [
      " 58%|█████▊    | 3955/6781 [30:19<21:43,  2.17it/s]"
     ]
    },
    {
     "name": "stdout",
     "output_type": "stream",
     "text": [
      "Error\n"
     ]
    },
    {
     "name": "stderr",
     "output_type": "stream",
     "text": [
      " 58%|█████▊    | 3963/6781 [30:22<18:28,  2.54it/s]"
     ]
    },
    {
     "name": "stdout",
     "output_type": "stream",
     "text": [
      "Error\n"
     ]
    },
    {
     "name": "stderr",
     "output_type": "stream",
     "text": [
      " 59%|█████▉    | 3986/6781 [30:33<24:50,  1.87it/s]"
     ]
    },
    {
     "name": "stdout",
     "output_type": "stream",
     "text": [
      "Error\n"
     ]
    },
    {
     "name": "stderr",
     "output_type": "stream",
     "text": [
      " 59%|█████▉    | 4026/6781 [30:51<18:15,  2.51it/s]"
     ]
    },
    {
     "name": "stdout",
     "output_type": "stream",
     "text": [
      "Error\n"
     ]
    },
    {
     "name": "stderr",
     "output_type": "stream",
     "text": [
      " 59%|█████▉    | 4027/6781 [30:51<16:43,  2.74it/s]"
     ]
    },
    {
     "name": "stdout",
     "output_type": "stream",
     "text": [
      "Error\n"
     ]
    },
    {
     "name": "stderr",
     "output_type": "stream",
     "text": [
      " 60%|█████▉    | 4037/6781 [30:55<19:22,  2.36it/s]"
     ]
    },
    {
     "name": "stdout",
     "output_type": "stream",
     "text": [
      "Error\n"
     ]
    },
    {
     "name": "stderr",
     "output_type": "stream",
     "text": [
      " 60%|█████▉    | 4054/6781 [31:03<19:24,  2.34it/s]"
     ]
    },
    {
     "name": "stdout",
     "output_type": "stream",
     "text": [
      "Error\n"
     ]
    },
    {
     "name": "stderr",
     "output_type": "stream",
     "text": [
      " 60%|█████▉    | 4060/6781 [31:05<18:50,  2.41it/s]"
     ]
    },
    {
     "name": "stdout",
     "output_type": "stream",
     "text": [
      "Error\n"
     ]
    },
    {
     "name": "stderr",
     "output_type": "stream",
     "text": [
      " 60%|█████▉    | 4063/6781 [31:07<23:29,  1.93it/s]"
     ]
    },
    {
     "name": "stdout",
     "output_type": "stream",
     "text": [
      "Error\n"
     ]
    },
    {
     "name": "stderr",
     "output_type": "stream",
     "text": [
      " 61%|██████    | 4105/6781 [31:24<16:06,  2.77it/s]"
     ]
    },
    {
     "name": "stdout",
     "output_type": "stream",
     "text": [
      "Error\n"
     ]
    },
    {
     "name": "stderr",
     "output_type": "stream",
     "text": [
      " 61%|██████    | 4111/6781 [31:27<17:06,  2.60it/s]"
     ]
    },
    {
     "name": "stdout",
     "output_type": "stream",
     "text": [
      "Error\n"
     ]
    },
    {
     "name": "stderr",
     "output_type": "stream",
     "text": [
      " 61%|██████    | 4117/6781 [31:29<19:08,  2.32it/s]"
     ]
    },
    {
     "name": "stdout",
     "output_type": "stream",
     "text": [
      "Error\n"
     ]
    },
    {
     "name": "stderr",
     "output_type": "stream",
     "text": [
      " 61%|██████    | 4145/6781 [31:42<23:21,  1.88it/s]"
     ]
    },
    {
     "name": "stdout",
     "output_type": "stream",
     "text": [
      "Error\n"
     ]
    },
    {
     "name": "stderr",
     "output_type": "stream",
     "text": [
      " 61%|██████▏   | 4165/6781 [31:51<18:47,  2.32it/s]"
     ]
    },
    {
     "name": "stdout",
     "output_type": "stream",
     "text": [
      "Error\n"
     ]
    },
    {
     "name": "stderr",
     "output_type": "stream",
     "text": [
      " 61%|██████▏   | 4169/6781 [31:53<19:55,  2.19it/s]"
     ]
    },
    {
     "name": "stdout",
     "output_type": "stream",
     "text": [
      "Error\n"
     ]
    },
    {
     "name": "stderr",
     "output_type": "stream",
     "text": [
      " 62%|██████▏   | 4182/6781 [31:59<19:29,  2.22it/s]"
     ]
    },
    {
     "name": "stdout",
     "output_type": "stream",
     "text": [
      "Error\n"
     ]
    },
    {
     "name": "stderr",
     "output_type": "stream",
     "text": [
      " 62%|██████▏   | 4203/6781 [32:08<16:13,  2.65it/s]"
     ]
    },
    {
     "name": "stdout",
     "output_type": "stream",
     "text": [
      "Error\n"
     ]
    },
    {
     "name": "stderr",
     "output_type": "stream",
     "text": [
      " 63%|██████▎   | 4270/6781 [32:40<21:11,  1.97it/s]"
     ]
    },
    {
     "name": "stdout",
     "output_type": "stream",
     "text": [
      "Error\n"
     ]
    },
    {
     "name": "stderr",
     "output_type": "stream",
     "text": [
      " 63%|██████▎   | 4272/6781 [32:41<21:07,  1.98it/s]"
     ]
    },
    {
     "name": "stdout",
     "output_type": "stream",
     "text": [
      "Error\n"
     ]
    },
    {
     "name": "stderr",
     "output_type": "stream",
     "text": [
      " 63%|██████▎   | 4275/6781 [32:43<18:31,  2.25it/s]"
     ]
    },
    {
     "name": "stdout",
     "output_type": "stream",
     "text": [
      "Error\n"
     ]
    },
    {
     "name": "stderr",
     "output_type": "stream",
     "text": [
      " 63%|██████▎   | 4299/6781 [32:53<18:18,  2.26it/s]"
     ]
    },
    {
     "name": "stdout",
     "output_type": "stream",
     "text": [
      "Error\n"
     ]
    },
    {
     "name": "stderr",
     "output_type": "stream",
     "text": [
      " 63%|██████▎   | 4305/6781 [32:55<16:02,  2.57it/s]"
     ]
    },
    {
     "name": "stdout",
     "output_type": "stream",
     "text": [
      "Error\n"
     ]
    },
    {
     "name": "stderr",
     "output_type": "stream",
     "text": [
      " 64%|██████▎   | 4319/6781 [33:02<19:53,  2.06it/s]"
     ]
    },
    {
     "name": "stdout",
     "output_type": "stream",
     "text": [
      "Error\n"
     ]
    },
    {
     "name": "stderr",
     "output_type": "stream",
     "text": [
      " 64%|██████▍   | 4323/6781 [33:04<17:24,  2.35it/s]"
     ]
    },
    {
     "name": "stdout",
     "output_type": "stream",
     "text": [
      "Error\n"
     ]
    },
    {
     "name": "stderr",
     "output_type": "stream",
     "text": [
      " 64%|██████▍   | 4332/6781 [33:08<18:39,  2.19it/s]"
     ]
    },
    {
     "name": "stdout",
     "output_type": "stream",
     "text": [
      "Error\n"
     ]
    },
    {
     "name": "stderr",
     "output_type": "stream",
     "text": [
      " 64%|██████▍   | 4348/6781 [33:15<16:10,  2.51it/s]"
     ]
    },
    {
     "name": "stdout",
     "output_type": "stream",
     "text": [
      "Error\n"
     ]
    },
    {
     "name": "stderr",
     "output_type": "stream",
     "text": [
      " 64%|██████▍   | 4351/6781 [33:17<16:55,  2.39it/s]"
     ]
    },
    {
     "name": "stdout",
     "output_type": "stream",
     "text": [
      "Error\n"
     ]
    },
    {
     "name": "stderr",
     "output_type": "stream",
     "text": [
      " 65%|██████▍   | 4400/6781 [33:41<26:06,  1.52it/s]"
     ]
    },
    {
     "name": "stdout",
     "output_type": "stream",
     "text": [
      "Error\n"
     ]
    },
    {
     "name": "stderr",
     "output_type": "stream",
     "text": [
      " 65%|██████▌   | 4437/6781 [33:59<19:35,  1.99it/s]"
     ]
    },
    {
     "name": "stdout",
     "output_type": "stream",
     "text": [
      "Error\n"
     ]
    },
    {
     "name": "stderr",
     "output_type": "stream",
     "text": [
      " 66%|██████▌   | 4445/6781 [34:02<17:47,  2.19it/s]"
     ]
    },
    {
     "name": "stdout",
     "output_type": "stream",
     "text": [
      "Error\n"
     ]
    },
    {
     "name": "stderr",
     "output_type": "stream",
     "text": [
      " 66%|██████▌   | 4454/6781 [34:06<17:41,  2.19it/s]"
     ]
    },
    {
     "name": "stdout",
     "output_type": "stream",
     "text": [
      "Error\n"
     ]
    },
    {
     "name": "stderr",
     "output_type": "stream",
     "text": [
      " 66%|██████▌   | 4455/6781 [34:06<16:12,  2.39it/s]"
     ]
    },
    {
     "name": "stdout",
     "output_type": "stream",
     "text": [
      "Error\n"
     ]
    },
    {
     "name": "stderr",
     "output_type": "stream",
     "text": [
      " 66%|██████▌   | 4462/6781 [34:10<19:46,  1.95it/s]"
     ]
    },
    {
     "name": "stdout",
     "output_type": "stream",
     "text": [
      "Error\n"
     ]
    },
    {
     "name": "stderr",
     "output_type": "stream",
     "text": [
      " 66%|██████▌   | 4470/6781 [34:14<20:30,  1.88it/s]"
     ]
    },
    {
     "name": "stdout",
     "output_type": "stream",
     "text": [
      "Error\n"
     ]
    },
    {
     "name": "stderr",
     "output_type": "stream",
     "text": [
      " 66%|██████▌   | 4483/6781 [34:20<17:01,  2.25it/s]"
     ]
    },
    {
     "name": "stdout",
     "output_type": "stream",
     "text": [
      "Error\n"
     ]
    },
    {
     "name": "stderr",
     "output_type": "stream",
     "text": [
      " 66%|██████▌   | 4485/6781 [34:21<18:53,  2.03it/s]"
     ]
    },
    {
     "name": "stdout",
     "output_type": "stream",
     "text": [
      "Error\n"
     ]
    },
    {
     "name": "stderr",
     "output_type": "stream",
     "text": [
      " 66%|██████▌   | 4488/6781 [34:23<18:06,  2.11it/s]"
     ]
    },
    {
     "name": "stdout",
     "output_type": "stream",
     "text": [
      "Error\n"
     ]
    },
    {
     "name": "stderr",
     "output_type": "stream",
     "text": [
      " 66%|██████▋   | 4496/6781 [34:27<21:58,  1.73it/s]"
     ]
    },
    {
     "name": "stdout",
     "output_type": "stream",
     "text": [
      "Error\n"
     ]
    },
    {
     "name": "stderr",
     "output_type": "stream",
     "text": [
      " 66%|██████▋   | 4500/6781 [34:29<19:12,  1.98it/s]"
     ]
    },
    {
     "name": "stdout",
     "output_type": "stream",
     "text": [
      "Error\n"
     ]
    },
    {
     "name": "stderr",
     "output_type": "stream",
     "text": [
      " 67%|██████▋   | 4512/6781 [34:35<20:13,  1.87it/s]"
     ]
    },
    {
     "name": "stdout",
     "output_type": "stream",
     "text": [
      "Error\n"
     ]
    },
    {
     "name": "stderr",
     "output_type": "stream",
     "text": [
      " 67%|██████▋   | 4514/6781 [34:36<19:19,  1.95it/s]"
     ]
    },
    {
     "name": "stdout",
     "output_type": "stream",
     "text": [
      "Error\n"
     ]
    },
    {
     "name": "stderr",
     "output_type": "stream",
     "text": [
      " 67%|██████▋   | 4520/6781 [34:39<16:34,  2.27it/s]"
     ]
    },
    {
     "name": "stdout",
     "output_type": "stream",
     "text": [
      "Error\n"
     ]
    },
    {
     "name": "stderr",
     "output_type": "stream",
     "text": [
      " 67%|██████▋   | 4525/6781 [34:41<15:34,  2.41it/s]"
     ]
    },
    {
     "name": "stdout",
     "output_type": "stream",
     "text": [
      "Error\n"
     ]
    },
    {
     "name": "stderr",
     "output_type": "stream",
     "text": [
      " 67%|██████▋   | 4547/6781 [34:52<15:49,  2.35it/s]"
     ]
    },
    {
     "name": "stdout",
     "output_type": "stream",
     "text": [
      "Error\n"
     ]
    },
    {
     "name": "stderr",
     "output_type": "stream",
     "text": [
      " 67%|██████▋   | 4548/6781 [34:52<15:05,  2.47it/s]"
     ]
    },
    {
     "name": "stdout",
     "output_type": "stream",
     "text": [
      "Error\n"
     ]
    },
    {
     "name": "stderr",
     "output_type": "stream",
     "text": [
      " 67%|██████▋   | 4557/6781 [34:56<15:39,  2.37it/s]"
     ]
    },
    {
     "name": "stdout",
     "output_type": "stream",
     "text": [
      "Error\n"
     ]
    },
    {
     "name": "stderr",
     "output_type": "stream",
     "text": [
      " 68%|██████▊   | 4579/6781 [35:07<16:37,  2.21it/s]"
     ]
    },
    {
     "name": "stdout",
     "output_type": "stream",
     "text": [
      "Error\n"
     ]
    },
    {
     "name": "stderr",
     "output_type": "stream",
     "text": [
      " 68%|██████▊   | 4582/6781 [35:08<18:07,  2.02it/s]"
     ]
    },
    {
     "name": "stdout",
     "output_type": "stream",
     "text": [
      "Error\n"
     ]
    },
    {
     "name": "stderr",
     "output_type": "stream",
     "text": [
      " 68%|██████▊   | 4583/6781 [35:09<19:59,  1.83it/s]"
     ]
    },
    {
     "name": "stdout",
     "output_type": "stream",
     "text": [
      "Error\n"
     ]
    },
    {
     "name": "stderr",
     "output_type": "stream",
     "text": [
      " 68%|██████▊   | 4589/6781 [35:12<18:35,  1.97it/s]"
     ]
    },
    {
     "name": "stdout",
     "output_type": "stream",
     "text": [
      "Error\n"
     ]
    },
    {
     "name": "stderr",
     "output_type": "stream",
     "text": [
      " 68%|██████▊   | 4606/6781 [35:19<14:57,  2.42it/s]"
     ]
    },
    {
     "name": "stdout",
     "output_type": "stream",
     "text": [
      "Error\n"
     ]
    },
    {
     "name": "stderr",
     "output_type": "stream",
     "text": [
      " 68%|██████▊   | 4611/6781 [35:21<19:20,  1.87it/s]"
     ]
    },
    {
     "name": "stdout",
     "output_type": "stream",
     "text": [
      "Error\n"
     ]
    },
    {
     "name": "stderr",
     "output_type": "stream",
     "text": [
      " 68%|██████▊   | 4630/6781 [35:31<17:56,  2.00it/s]"
     ]
    },
    {
     "name": "stdout",
     "output_type": "stream",
     "text": [
      "Error\n"
     ]
    },
    {
     "name": "stderr",
     "output_type": "stream",
     "text": [
      " 68%|██████▊   | 4634/6781 [35:33<18:02,  1.98it/s]"
     ]
    },
    {
     "name": "stdout",
     "output_type": "stream",
     "text": [
      "Error\n"
     ]
    },
    {
     "name": "stderr",
     "output_type": "stream",
     "text": [
      " 68%|██████▊   | 4644/6781 [35:37<14:09,  2.52it/s]"
     ]
    },
    {
     "name": "stdout",
     "output_type": "stream",
     "text": [
      "Error\n"
     ]
    },
    {
     "name": "stderr",
     "output_type": "stream",
     "text": [
      " 69%|██████▊   | 4645/6781 [35:37<16:36,  2.14it/s]"
     ]
    },
    {
     "name": "stdout",
     "output_type": "stream",
     "text": [
      "Error\n"
     ]
    },
    {
     "name": "stderr",
     "output_type": "stream",
     "text": [
      " 69%|██████▊   | 4651/6781 [35:40<15:51,  2.24it/s]"
     ]
    },
    {
     "name": "stdout",
     "output_type": "stream",
     "text": [
      "Error\n"
     ]
    },
    {
     "name": "stderr",
     "output_type": "stream",
     "text": [
      " 69%|██████▊   | 4659/6781 [35:44<20:08,  1.76it/s]"
     ]
    },
    {
     "name": "stdout",
     "output_type": "stream",
     "text": [
      "Error\n"
     ]
    },
    {
     "name": "stderr",
     "output_type": "stream",
     "text": [
      " 69%|██████▉   | 4666/6781 [35:47<15:12,  2.32it/s]"
     ]
    },
    {
     "name": "stdout",
     "output_type": "stream",
     "text": [
      "Error\n"
     ]
    },
    {
     "name": "stderr",
     "output_type": "stream",
     "text": [
      " 70%|██████▉   | 4721/6781 [36:11<14:27,  2.38it/s]"
     ]
    },
    {
     "name": "stdout",
     "output_type": "stream",
     "text": [
      "Error\n"
     ]
    },
    {
     "name": "stderr",
     "output_type": "stream",
     "text": [
      " 70%|██████▉   | 4722/6781 [36:12<12:53,  2.66it/s]"
     ]
    },
    {
     "name": "stdout",
     "output_type": "stream",
     "text": [
      "Error\n"
     ]
    },
    {
     "name": "stderr",
     "output_type": "stream",
     "text": [
      " 70%|██████▉   | 4724/6781 [36:13<13:43,  2.50it/s]"
     ]
    },
    {
     "name": "stdout",
     "output_type": "stream",
     "text": [
      "Error\n"
     ]
    },
    {
     "name": "stderr",
     "output_type": "stream",
     "text": [
      " 70%|███████   | 4763/6781 [36:29<13:19,  2.52it/s]"
     ]
    },
    {
     "name": "stdout",
     "output_type": "stream",
     "text": [
      "Error\n"
     ]
    },
    {
     "name": "stderr",
     "output_type": "stream",
     "text": [
      " 70%|███████   | 4764/6781 [36:29<13:38,  2.46it/s]"
     ]
    },
    {
     "name": "stdout",
     "output_type": "stream",
     "text": [
      "Error\n"
     ]
    },
    {
     "name": "stderr",
     "output_type": "stream",
     "text": [
      " 70%|███████   | 4771/6781 [36:33<18:26,  1.82it/s]"
     ]
    },
    {
     "name": "stdout",
     "output_type": "stream",
     "text": [
      "Error\n"
     ]
    },
    {
     "name": "stderr",
     "output_type": "stream",
     "text": [
      " 70%|███████   | 4775/6781 [36:35<16:07,  2.07it/s]"
     ]
    },
    {
     "name": "stdout",
     "output_type": "stream",
     "text": [
      "Error\n"
     ]
    },
    {
     "name": "stderr",
     "output_type": "stream",
     "text": [
      " 70%|███████   | 4777/6781 [36:36<15:12,  2.20it/s]"
     ]
    },
    {
     "name": "stdout",
     "output_type": "stream",
     "text": [
      "Error\n"
     ]
    },
    {
     "name": "stderr",
     "output_type": "stream",
     "text": [
      " 71%|███████   | 4784/6781 [36:39<12:26,  2.68it/s]"
     ]
    },
    {
     "name": "stdout",
     "output_type": "stream",
     "text": [
      "Error\n"
     ]
    },
    {
     "name": "stderr",
     "output_type": "stream",
     "text": [
      " 71%|███████   | 4815/6781 [36:53<15:48,  2.07it/s]"
     ]
    },
    {
     "name": "stdout",
     "output_type": "stream",
     "text": [
      "Error\n"
     ]
    },
    {
     "name": "stderr",
     "output_type": "stream",
     "text": [
      " 71%|███████▏  | 4838/6781 [37:04<16:50,  1.92it/s]"
     ]
    },
    {
     "name": "stdout",
     "output_type": "stream",
     "text": [
      "Error\n"
     ]
    },
    {
     "name": "stderr",
     "output_type": "stream",
     "text": [
      " 71%|███████▏  | 4846/6781 [37:09<15:56,  2.02it/s]"
     ]
    },
    {
     "name": "stdout",
     "output_type": "stream",
     "text": [
      "Error\n"
     ]
    },
    {
     "name": "stderr",
     "output_type": "stream",
     "text": [
      " 72%|███████▏  | 4857/6781 [37:14<15:17,  2.10it/s]"
     ]
    },
    {
     "name": "stdout",
     "output_type": "stream",
     "text": [
      "Error\n"
     ]
    },
    {
     "name": "stderr",
     "output_type": "stream",
     "text": [
      " 72%|███████▏  | 4859/6781 [37:15<11:59,  2.67it/s]"
     ]
    },
    {
     "name": "stdout",
     "output_type": "stream",
     "text": [
      "Error\n"
     ]
    },
    {
     "name": "stderr",
     "output_type": "stream",
     "text": [
      " 72%|███████▏  | 4864/6781 [37:16<11:19,  2.82it/s]"
     ]
    },
    {
     "name": "stdout",
     "output_type": "stream",
     "text": [
      "Error\n"
     ]
    },
    {
     "name": "stderr",
     "output_type": "stream",
     "text": [
      " 72%|███████▏  | 4916/6781 [37:39<14:43,  2.11it/s]"
     ]
    },
    {
     "name": "stdout",
     "output_type": "stream",
     "text": [
      "Error\n"
     ]
    },
    {
     "name": "stderr",
     "output_type": "stream",
     "text": [
      " 73%|███████▎  | 4920/6781 [37:40<13:26,  2.31it/s]"
     ]
    },
    {
     "name": "stdout",
     "output_type": "stream",
     "text": [
      "Error\n"
     ]
    },
    {
     "name": "stderr",
     "output_type": "stream",
     "text": [
      " 73%|███████▎  | 4925/6781 [37:42<11:56,  2.59it/s]"
     ]
    },
    {
     "name": "stdout",
     "output_type": "stream",
     "text": [
      "Error\n"
     ]
    },
    {
     "name": "stderr",
     "output_type": "stream",
     "text": [
      " 73%|███████▎  | 4929/6781 [37:44<13:17,  2.32it/s]"
     ]
    },
    {
     "name": "stdout",
     "output_type": "stream",
     "text": [
      "Error\n"
     ]
    },
    {
     "name": "stderr",
     "output_type": "stream",
     "text": [
      " 73%|███████▎  | 4930/6781 [37:44<12:33,  2.46it/s]"
     ]
    },
    {
     "name": "stdout",
     "output_type": "stream",
     "text": [
      "Error\n"
     ]
    },
    {
     "name": "stderr",
     "output_type": "stream",
     "text": [
      " 73%|███████▎  | 4932/6781 [37:45<12:30,  2.47it/s]"
     ]
    },
    {
     "name": "stdout",
     "output_type": "stream",
     "text": [
      "Error\n"
     ]
    },
    {
     "name": "stderr",
     "output_type": "stream",
     "text": [
      " 73%|███████▎  | 4933/6781 [37:45<12:06,  2.54it/s]"
     ]
    },
    {
     "name": "stdout",
     "output_type": "stream",
     "text": [
      "Error\n"
     ]
    },
    {
     "name": "stderr",
     "output_type": "stream",
     "text": [
      " 73%|███████▎  | 4953/6781 [37:55<12:05,  2.52it/s]"
     ]
    },
    {
     "name": "stdout",
     "output_type": "stream",
     "text": [
      "Error\n"
     ]
    },
    {
     "name": "stderr",
     "output_type": "stream",
     "text": [
      " 73%|███████▎  | 4958/6781 [37:57<12:59,  2.34it/s]"
     ]
    },
    {
     "name": "stdout",
     "output_type": "stream",
     "text": [
      "Error\n"
     ]
    },
    {
     "name": "stderr",
     "output_type": "stream",
     "text": [
      " 74%|███████▎  | 4987/6781 [38:10<14:58,  2.00it/s]"
     ]
    },
    {
     "name": "stdout",
     "output_type": "stream",
     "text": [
      "Error\n"
     ]
    },
    {
     "name": "stderr",
     "output_type": "stream",
     "text": [
      " 74%|███████▎  | 4989/6781 [38:10<12:59,  2.30it/s]"
     ]
    },
    {
     "name": "stdout",
     "output_type": "stream",
     "text": [
      "Error\n"
     ]
    },
    {
     "name": "stderr",
     "output_type": "stream",
     "text": [
      " 74%|███████▎  | 4995/6781 [38:12<10:21,  2.87it/s]"
     ]
    },
    {
     "name": "stdout",
     "output_type": "stream",
     "text": [
      "Error\n"
     ]
    },
    {
     "name": "stderr",
     "output_type": "stream",
     "text": [
      " 74%|███████▎  | 4996/6781 [38:13<10:39,  2.79it/s]"
     ]
    },
    {
     "name": "stdout",
     "output_type": "stream",
     "text": [
      "Error\n"
     ]
    },
    {
     "name": "stderr",
     "output_type": "stream",
     "text": [
      " 74%|███████▎  | 4997/6781 [38:13<11:04,  2.68it/s]"
     ]
    },
    {
     "name": "stdout",
     "output_type": "stream",
     "text": [
      "Error\n"
     ]
    },
    {
     "name": "stderr",
     "output_type": "stream",
     "text": [
      " 74%|███████▎  | 5000/6781 [38:15<12:31,  2.37it/s]"
     ]
    },
    {
     "name": "stdout",
     "output_type": "stream",
     "text": [
      "Error\n"
     ]
    },
    {
     "name": "stderr",
     "output_type": "stream",
     "text": [
      " 74%|███████▍  | 5003/6781 [38:16<12:06,  2.45it/s]"
     ]
    },
    {
     "name": "stdout",
     "output_type": "stream",
     "text": [
      "Error\n"
     ]
    },
    {
     "name": "stderr",
     "output_type": "stream",
     "text": [
      " 74%|███████▍  | 5016/6781 [38:21<12:29,  2.35it/s]"
     ]
    },
    {
     "name": "stdout",
     "output_type": "stream",
     "text": [
      "Error\n"
     ]
    },
    {
     "name": "stderr",
     "output_type": "stream",
     "text": [
      " 74%|███████▍  | 5027/6781 [38:26<12:50,  2.27it/s]"
     ]
    },
    {
     "name": "stdout",
     "output_type": "stream",
     "text": [
      "Error\n"
     ]
    },
    {
     "name": "stderr",
     "output_type": "stream",
     "text": [
      " 74%|███████▍  | 5030/6781 [38:27<11:26,  2.55it/s]"
     ]
    },
    {
     "name": "stdout",
     "output_type": "stream",
     "text": [
      "Error\n"
     ]
    },
    {
     "name": "stderr",
     "output_type": "stream",
     "text": [
      " 74%|███████▍  | 5049/6781 [38:35<11:07,  2.59it/s]"
     ]
    },
    {
     "name": "stdout",
     "output_type": "stream",
     "text": [
      "Error\n"
     ]
    },
    {
     "name": "stderr",
     "output_type": "stream",
     "text": [
      " 74%|███████▍  | 5050/6781 [38:35<09:59,  2.89it/s]"
     ]
    },
    {
     "name": "stdout",
     "output_type": "stream",
     "text": [
      "Error\n"
     ]
    },
    {
     "name": "stderr",
     "output_type": "stream",
     "text": [
      " 74%|███████▍  | 5051/6781 [38:36<09:58,  2.89it/s]"
     ]
    },
    {
     "name": "stdout",
     "output_type": "stream",
     "text": [
      "Error\n"
     ]
    },
    {
     "name": "stderr",
     "output_type": "stream",
     "text": [
      " 75%|███████▍  | 5053/6781 [38:37<10:58,  2.62it/s]"
     ]
    },
    {
     "name": "stdout",
     "output_type": "stream",
     "text": [
      "Error\n"
     ]
    },
    {
     "name": "stderr",
     "output_type": "stream",
     "text": [
      " 75%|███████▌  | 5108/6781 [39:02<11:16,  2.47it/s]"
     ]
    },
    {
     "name": "stdout",
     "output_type": "stream",
     "text": [
      "Error\n"
     ]
    },
    {
     "name": "stderr",
     "output_type": "stream",
     "text": [
      " 76%|███████▌  | 5122/6781 [39:08<10:02,  2.75it/s]"
     ]
    },
    {
     "name": "stdout",
     "output_type": "stream",
     "text": [
      "Error\n"
     ]
    },
    {
     "name": "stderr",
     "output_type": "stream",
     "text": [
      " 76%|███████▌  | 5123/6781 [39:09<10:12,  2.71it/s]"
     ]
    },
    {
     "name": "stdout",
     "output_type": "stream",
     "text": [
      "Error\n"
     ]
    },
    {
     "name": "stderr",
     "output_type": "stream",
     "text": [
      " 76%|███████▌  | 5139/6781 [39:15<10:08,  2.70it/s]"
     ]
    },
    {
     "name": "stdout",
     "output_type": "stream",
     "text": [
      "Error\n"
     ]
    },
    {
     "name": "stderr",
     "output_type": "stream",
     "text": [
      " 76%|███████▌  | 5150/6781 [39:20<13:33,  2.01it/s]"
     ]
    },
    {
     "name": "stdout",
     "output_type": "stream",
     "text": [
      "Error\n"
     ]
    },
    {
     "name": "stderr",
     "output_type": "stream",
     "text": [
      " 76%|███████▌  | 5158/6781 [39:24<11:44,  2.30it/s]"
     ]
    },
    {
     "name": "stdout",
     "output_type": "stream",
     "text": [
      "Error\n"
     ]
    },
    {
     "name": "stderr",
     "output_type": "stream",
     "text": [
      " 76%|███████▌  | 5160/6781 [39:25<11:05,  2.44it/s]"
     ]
    },
    {
     "name": "stdout",
     "output_type": "stream",
     "text": [
      "Error\n"
     ]
    },
    {
     "name": "stderr",
     "output_type": "stream",
     "text": [
      " 76%|███████▌  | 5162/6781 [39:26<10:36,  2.54it/s]"
     ]
    },
    {
     "name": "stdout",
     "output_type": "stream",
     "text": [
      "Error\n"
     ]
    },
    {
     "name": "stderr",
     "output_type": "stream",
     "text": [
      " 77%|███████▋  | 5190/6781 [39:38<11:10,  2.37it/s]"
     ]
    },
    {
     "name": "stdout",
     "output_type": "stream",
     "text": [
      "Error\n"
     ]
    },
    {
     "name": "stderr",
     "output_type": "stream",
     "text": [
      " 77%|███████▋  | 5191/6781 [39:39<09:46,  2.71it/s]"
     ]
    },
    {
     "name": "stdout",
     "output_type": "stream",
     "text": [
      "Error\n"
     ]
    },
    {
     "name": "stderr",
     "output_type": "stream",
     "text": [
      " 77%|███████▋  | 5193/6781 [39:40<11:39,  2.27it/s]"
     ]
    },
    {
     "name": "stdout",
     "output_type": "stream",
     "text": [
      "Error\n"
     ]
    },
    {
     "name": "stderr",
     "output_type": "stream",
     "text": [
      " 77%|███████▋  | 5198/6781 [39:42<11:17,  2.34it/s]"
     ]
    },
    {
     "name": "stdout",
     "output_type": "stream",
     "text": [
      "Error\n"
     ]
    },
    {
     "name": "stderr",
     "output_type": "stream",
     "text": [
      " 77%|███████▋  | 5218/6781 [39:52<09:44,  2.67it/s]"
     ]
    },
    {
     "name": "stdout",
     "output_type": "stream",
     "text": [
      "Error\n"
     ]
    },
    {
     "name": "stderr",
     "output_type": "stream",
     "text": [
      " 77%|███████▋  | 5254/6781 [40:10<12:37,  2.01it/s]"
     ]
    },
    {
     "name": "stdout",
     "output_type": "stream",
     "text": [
      "Error\n"
     ]
    },
    {
     "name": "stderr",
     "output_type": "stream",
     "text": [
      " 78%|███████▊  | 5273/6781 [40:20<12:35,  2.00it/s]"
     ]
    },
    {
     "name": "stdout",
     "output_type": "stream",
     "text": [
      "Error\n"
     ]
    },
    {
     "name": "stderr",
     "output_type": "stream",
     "text": [
      " 78%|███████▊  | 5290/6781 [40:29<11:48,  2.10it/s]"
     ]
    },
    {
     "name": "stdout",
     "output_type": "stream",
     "text": [
      "Error\n"
     ]
    },
    {
     "name": "stderr",
     "output_type": "stream",
     "text": [
      " 78%|███████▊  | 5308/6781 [40:38<11:22,  2.16it/s]"
     ]
    },
    {
     "name": "stdout",
     "output_type": "stream",
     "text": [
      "Error\n"
     ]
    },
    {
     "name": "stderr",
     "output_type": "stream",
     "text": [
      " 79%|███████▊  | 5336/6781 [40:52<10:09,  2.37it/s]"
     ]
    },
    {
     "name": "stdout",
     "output_type": "stream",
     "text": [
      "Error\n"
     ]
    },
    {
     "name": "stderr",
     "output_type": "stream",
     "text": [
      " 79%|███████▊  | 5338/6781 [40:53<12:01,  2.00it/s]"
     ]
    },
    {
     "name": "stdout",
     "output_type": "stream",
     "text": [
      "Error\n"
     ]
    },
    {
     "name": "stderr",
     "output_type": "stream",
     "text": [
      " 79%|███████▉  | 5344/6781 [40:56<10:55,  2.19it/s]"
     ]
    },
    {
     "name": "stdout",
     "output_type": "stream",
     "text": [
      "Error\n"
     ]
    },
    {
     "name": "stderr",
     "output_type": "stream",
     "text": [
      " 79%|███████▉  | 5352/6781 [41:00<11:49,  2.01it/s]"
     ]
    },
    {
     "name": "stdout",
     "output_type": "stream",
     "text": [
      "Error\n"
     ]
    },
    {
     "name": "stderr",
     "output_type": "stream",
     "text": [
      " 79%|███████▉  | 5366/6781 [41:05<10:27,  2.26it/s]"
     ]
    },
    {
     "name": "stdout",
     "output_type": "stream",
     "text": [
      "Error\n"
     ]
    },
    {
     "name": "stderr",
     "output_type": "stream",
     "text": [
      " 79%|███████▉  | 5368/6781 [41:07<11:56,  1.97it/s]"
     ]
    },
    {
     "name": "stdout",
     "output_type": "stream",
     "text": [
      "Error\n"
     ]
    },
    {
     "name": "stderr",
     "output_type": "stream",
     "text": [
      " 79%|███████▉  | 5383/6781 [41:13<11:19,  2.06it/s]"
     ]
    },
    {
     "name": "stdout",
     "output_type": "stream",
     "text": [
      "Error\n"
     ]
    },
    {
     "name": "stderr",
     "output_type": "stream",
     "text": [
      " 80%|███████▉  | 5393/6781 [41:18<10:11,  2.27it/s]"
     ]
    },
    {
     "name": "stdout",
     "output_type": "stream",
     "text": [
      "Error\n"
     ]
    },
    {
     "name": "stderr",
     "output_type": "stream",
     "text": [
      " 80%|███████▉  | 5399/6781 [41:21<12:57,  1.78it/s]"
     ]
    },
    {
     "name": "stdout",
     "output_type": "stream",
     "text": [
      "Error\n"
     ]
    },
    {
     "name": "stderr",
     "output_type": "stream",
     "text": [
      " 80%|███████▉  | 5403/6781 [41:23<10:28,  2.19it/s]"
     ]
    },
    {
     "name": "stdout",
     "output_type": "stream",
     "text": [
      "Error\n"
     ]
    },
    {
     "name": "stderr",
     "output_type": "stream",
     "text": [
      " 80%|███████▉  | 5408/6781 [41:25<10:02,  2.28it/s]"
     ]
    },
    {
     "name": "stdout",
     "output_type": "stream",
     "text": [
      "Error\n"
     ]
    },
    {
     "name": "stderr",
     "output_type": "stream",
     "text": [
      " 80%|████████  | 5437/6781 [41:40<11:16,  1.99it/s]"
     ]
    },
    {
     "name": "stdout",
     "output_type": "stream",
     "text": [
      "Error\n"
     ]
    },
    {
     "name": "stderr",
     "output_type": "stream",
     "text": [
      " 81%|████████  | 5469/6781 [41:57<12:37,  1.73it/s]"
     ]
    },
    {
     "name": "stdout",
     "output_type": "stream",
     "text": [
      "Error\n"
     ]
    },
    {
     "name": "stderr",
     "output_type": "stream",
     "text": [
      " 81%|████████  | 5474/6781 [42:00<12:11,  1.79it/s]"
     ]
    },
    {
     "name": "stdout",
     "output_type": "stream",
     "text": [
      "Error\n"
     ]
    },
    {
     "name": "stderr",
     "output_type": "stream",
     "text": [
      " 81%|████████  | 5475/6781 [42:01<11:12,  1.94it/s]"
     ]
    },
    {
     "name": "stdout",
     "output_type": "stream",
     "text": [
      "Error\n"
     ]
    },
    {
     "name": "stderr",
     "output_type": "stream",
     "text": [
      " 81%|████████  | 5478/6781 [42:02<08:16,  2.63it/s]"
     ]
    },
    {
     "name": "stdout",
     "output_type": "stream",
     "text": [
      "Error\n"
     ]
    },
    {
     "name": "stderr",
     "output_type": "stream",
     "text": [
      " 82%|████████▏ | 5533/6781 [42:27<07:53,  2.63it/s]"
     ]
    },
    {
     "name": "stdout",
     "output_type": "stream",
     "text": [
      "Error\n"
     ]
    },
    {
     "name": "stderr",
     "output_type": "stream",
     "text": [
      " 82%|████████▏ | 5585/6781 [42:51<11:34,  1.72it/s]"
     ]
    },
    {
     "name": "stdout",
     "output_type": "stream",
     "text": [
      "Error\n"
     ]
    },
    {
     "name": "stderr",
     "output_type": "stream",
     "text": [
      " 83%|████████▎ | 5616/6781 [43:06<09:38,  2.02it/s]"
     ]
    },
    {
     "name": "stdout",
     "output_type": "stream",
     "text": [
      "Error\n"
     ]
    },
    {
     "name": "stderr",
     "output_type": "stream",
     "text": [
      " 83%|████████▎ | 5630/6781 [43:12<08:55,  2.15it/s]"
     ]
    },
    {
     "name": "stdout",
     "output_type": "stream",
     "text": [
      "Error\n"
     ]
    },
    {
     "name": "stderr",
     "output_type": "stream",
     "text": [
      " 83%|████████▎ | 5632/6781 [43:13<08:08,  2.35it/s]"
     ]
    },
    {
     "name": "stdout",
     "output_type": "stream",
     "text": [
      "Error\n"
     ]
    },
    {
     "name": "stderr",
     "output_type": "stream",
     "text": [
      " 83%|████████▎ | 5633/6781 [43:14<13:49,  1.38it/s]"
     ]
    },
    {
     "name": "stdout",
     "output_type": "stream",
     "text": [
      "Error\n"
     ]
    },
    {
     "name": "stderr",
     "output_type": "stream",
     "text": [
      " 84%|████████▎ | 5667/6781 [43:30<06:32,  2.84it/s]"
     ]
    },
    {
     "name": "stdout",
     "output_type": "stream",
     "text": [
      "Error\n"
     ]
    },
    {
     "name": "stderr",
     "output_type": "stream",
     "text": [
      " 84%|████████▎ | 5670/6781 [43:31<07:27,  2.48it/s]"
     ]
    },
    {
     "name": "stdout",
     "output_type": "stream",
     "text": [
      "Error\n"
     ]
    },
    {
     "name": "stderr",
     "output_type": "stream",
     "text": [
      " 84%|████████▍ | 5684/6781 [43:37<07:17,  2.51it/s]"
     ]
    },
    {
     "name": "stdout",
     "output_type": "stream",
     "text": [
      "Error\n"
     ]
    },
    {
     "name": "stderr",
     "output_type": "stream",
     "text": [
      " 84%|████████▍ | 5689/6781 [43:39<07:01,  2.59it/s]"
     ]
    },
    {
     "name": "stdout",
     "output_type": "stream",
     "text": [
      "Error\n"
     ]
    },
    {
     "name": "stderr",
     "output_type": "stream",
     "text": [
      " 84%|████████▍ | 5706/6781 [43:48<09:57,  1.80it/s]"
     ]
    },
    {
     "name": "stdout",
     "output_type": "stream",
     "text": [
      "Error\n"
     ]
    },
    {
     "name": "stderr",
     "output_type": "stream",
     "text": [
      " 84%|████████▍ | 5708/6781 [43:49<08:10,  2.19it/s]"
     ]
    },
    {
     "name": "stdout",
     "output_type": "stream",
     "text": [
      "Error\n"
     ]
    },
    {
     "name": "stderr",
     "output_type": "stream",
     "text": [
      " 84%|████████▍ | 5720/6781 [43:54<07:06,  2.49it/s]"
     ]
    },
    {
     "name": "stdout",
     "output_type": "stream",
     "text": [
      "Error\n"
     ]
    },
    {
     "name": "stderr",
     "output_type": "stream",
     "text": [
      " 85%|████████▍ | 5736/6781 [44:01<06:41,  2.60it/s]"
     ]
    },
    {
     "name": "stdout",
     "output_type": "stream",
     "text": [
      "Error\n"
     ]
    },
    {
     "name": "stderr",
     "output_type": "stream",
     "text": [
      " 85%|████████▍ | 5741/6781 [44:03<07:25,  2.33it/s]"
     ]
    },
    {
     "name": "stdout",
     "output_type": "stream",
     "text": [
      "Error\n"
     ]
    },
    {
     "name": "stderr",
     "output_type": "stream",
     "text": [
      " 85%|████████▌ | 5778/6781 [44:20<08:06,  2.06it/s]"
     ]
    },
    {
     "name": "stdout",
     "output_type": "stream",
     "text": [
      "Error\n"
     ]
    },
    {
     "name": "stderr",
     "output_type": "stream",
     "text": [
      " 86%|████████▋ | 5851/6781 [44:54<05:31,  2.81it/s]"
     ]
    },
    {
     "name": "stdout",
     "output_type": "stream",
     "text": [
      "Error\n"
     ]
    },
    {
     "name": "stderr",
     "output_type": "stream",
     "text": [
      " 86%|████████▋ | 5862/6781 [44:59<06:51,  2.23it/s]"
     ]
    },
    {
     "name": "stdout",
     "output_type": "stream",
     "text": [
      "Error\n"
     ]
    },
    {
     "name": "stderr",
     "output_type": "stream",
     "text": [
      " 87%|████████▋ | 5882/6781 [45:07<05:27,  2.75it/s]"
     ]
    },
    {
     "name": "stdout",
     "output_type": "stream",
     "text": [
      "Error\n"
     ]
    },
    {
     "name": "stderr",
     "output_type": "stream",
     "text": [
      " 87%|████████▋ | 5892/6781 [45:12<06:01,  2.46it/s]"
     ]
    },
    {
     "name": "stdout",
     "output_type": "stream",
     "text": [
      "Error\n"
     ]
    },
    {
     "name": "stderr",
     "output_type": "stream",
     "text": [
      " 87%|████████▋ | 5917/6781 [45:23<06:54,  2.09it/s]"
     ]
    },
    {
     "name": "stdout",
     "output_type": "stream",
     "text": [
      "Error\n"
     ]
    },
    {
     "name": "stderr",
     "output_type": "stream",
     "text": [
      " 88%|████████▊ | 5949/6781 [45:37<06:12,  2.23it/s]"
     ]
    },
    {
     "name": "stdout",
     "output_type": "stream",
     "text": [
      "Error\n"
     ]
    },
    {
     "name": "stderr",
     "output_type": "stream",
     "text": [
      " 89%|████████▊ | 6007/6781 [46:05<05:44,  2.25it/s]"
     ]
    },
    {
     "name": "stdout",
     "output_type": "stream",
     "text": [
      "Error\n"
     ]
    },
    {
     "name": "stderr",
     "output_type": "stream",
     "text": [
      " 89%|████████▉ | 6019/6781 [46:10<06:45,  1.88it/s]"
     ]
    },
    {
     "name": "stdout",
     "output_type": "stream",
     "text": [
      "Error\n"
     ]
    },
    {
     "name": "stderr",
     "output_type": "stream",
     "text": [
      " 89%|████████▉ | 6051/6781 [46:24<06:22,  1.91it/s]"
     ]
    },
    {
     "name": "stdout",
     "output_type": "stream",
     "text": [
      "Error\n"
     ]
    },
    {
     "name": "stderr",
     "output_type": "stream",
     "text": [
      " 89%|████████▉ | 6067/6781 [46:31<05:33,  2.14it/s]"
     ]
    },
    {
     "name": "stdout",
     "output_type": "stream",
     "text": [
      "Error\n"
     ]
    },
    {
     "name": "stderr",
     "output_type": "stream",
     "text": [
      " 90%|█████████ | 6114/6781 [46:51<04:40,  2.38it/s]"
     ]
    },
    {
     "name": "stdout",
     "output_type": "stream",
     "text": [
      "Error\n"
     ]
    },
    {
     "name": "stderr",
     "output_type": "stream",
     "text": [
      " 90%|█████████ | 6130/6781 [46:58<04:27,  2.43it/s]"
     ]
    },
    {
     "name": "stdout",
     "output_type": "stream",
     "text": [
      "Error\n"
     ]
    },
    {
     "name": "stderr",
     "output_type": "stream",
     "text": [
      " 91%|█████████ | 6184/6781 [47:21<03:57,  2.51it/s]"
     ]
    },
    {
     "name": "stdout",
     "output_type": "stream",
     "text": [
      "Error\n"
     ]
    },
    {
     "name": "stderr",
     "output_type": "stream",
     "text": [
      " 92%|█████████▏| 6207/6781 [47:31<03:48,  2.51it/s]"
     ]
    },
    {
     "name": "stdout",
     "output_type": "stream",
     "text": [
      "Error\n"
     ]
    },
    {
     "name": "stderr",
     "output_type": "stream",
     "text": [
      " 92%|█████████▏| 6228/6781 [47:40<04:02,  2.28it/s]"
     ]
    },
    {
     "name": "stdout",
     "output_type": "stream",
     "text": [
      "Error\n"
     ]
    },
    {
     "name": "stderr",
     "output_type": "stream",
     "text": [
      " 92%|█████████▏| 6234/6781 [47:43<03:46,  2.41it/s]"
     ]
    },
    {
     "name": "stdout",
     "output_type": "stream",
     "text": [
      "Error\n"
     ]
    },
    {
     "name": "stderr",
     "output_type": "stream",
     "text": [
      " 92%|█████████▏| 6241/6781 [47:46<04:38,  1.94it/s]"
     ]
    },
    {
     "name": "stdout",
     "output_type": "stream",
     "text": [
      "Error\n"
     ]
    },
    {
     "name": "stderr",
     "output_type": "stream",
     "text": [
      " 92%|█████████▏| 6242/6781 [47:46<04:35,  1.96it/s]"
     ]
    },
    {
     "name": "stdout",
     "output_type": "stream",
     "text": [
      "Error\n"
     ]
    },
    {
     "name": "stderr",
     "output_type": "stream",
     "text": [
      " 92%|█████████▏| 6248/6781 [47:49<03:25,  2.60it/s]"
     ]
    },
    {
     "name": "stdout",
     "output_type": "stream",
     "text": [
      "Error\n"
     ]
    },
    {
     "name": "stderr",
     "output_type": "stream",
     "text": [
      " 92%|█████████▏| 6257/6781 [47:53<03:40,  2.37it/s]"
     ]
    },
    {
     "name": "stdout",
     "output_type": "stream",
     "text": [
      "Error\n"
     ]
    },
    {
     "name": "stderr",
     "output_type": "stream",
     "text": [
      " 92%|█████████▏| 6262/6781 [47:55<03:34,  2.42it/s]"
     ]
    },
    {
     "name": "stdout",
     "output_type": "stream",
     "text": [
      "Error\n"
     ]
    },
    {
     "name": "stderr",
     "output_type": "stream",
     "text": [
      " 93%|█████████▎| 6277/6781 [48:01<04:09,  2.02it/s]"
     ]
    },
    {
     "name": "stdout",
     "output_type": "stream",
     "text": [
      "Error\n"
     ]
    },
    {
     "name": "stderr",
     "output_type": "stream",
     "text": [
      " 93%|█████████▎| 6288/6781 [48:07<03:55,  2.09it/s]"
     ]
    },
    {
     "name": "stdout",
     "output_type": "stream",
     "text": [
      "Error\n"
     ]
    },
    {
     "name": "stderr",
     "output_type": "stream",
     "text": [
      " 93%|█████████▎| 6302/6781 [48:12<02:49,  2.82it/s]"
     ]
    },
    {
     "name": "stdout",
     "output_type": "stream",
     "text": [
      "Error\n"
     ]
    },
    {
     "name": "stderr",
     "output_type": "stream",
     "text": [
      " 93%|█████████▎| 6304/6781 [48:13<02:44,  2.90it/s]"
     ]
    },
    {
     "name": "stdout",
     "output_type": "stream",
     "text": [
      "Error\n"
     ]
    },
    {
     "name": "stderr",
     "output_type": "stream",
     "text": [
      " 93%|█████████▎| 6307/6781 [48:14<03:07,  2.52it/s]"
     ]
    },
    {
     "name": "stdout",
     "output_type": "stream",
     "text": [
      "Error\n"
     ]
    },
    {
     "name": "stderr",
     "output_type": "stream",
     "text": [
      " 93%|█████████▎| 6318/6781 [48:21<04:59,  1.54it/s]"
     ]
    },
    {
     "name": "stdout",
     "output_type": "stream",
     "text": [
      "Error\n"
     ]
    },
    {
     "name": "stderr",
     "output_type": "stream",
     "text": [
      " 93%|█████████▎| 6333/6781 [48:28<03:25,  2.18it/s]"
     ]
    },
    {
     "name": "stdout",
     "output_type": "stream",
     "text": [
      "Error\n"
     ]
    },
    {
     "name": "stderr",
     "output_type": "stream",
     "text": [
      " 94%|█████████▍| 6360/6781 [48:39<03:08,  2.23it/s]"
     ]
    },
    {
     "name": "stdout",
     "output_type": "stream",
     "text": [
      "Error\n"
     ]
    },
    {
     "name": "stderr",
     "output_type": "stream",
     "text": [
      " 94%|█████████▍| 6368/6781 [48:43<03:26,  2.00it/s]"
     ]
    },
    {
     "name": "stdout",
     "output_type": "stream",
     "text": [
      "Error\n"
     ]
    },
    {
     "name": "stderr",
     "output_type": "stream",
     "text": [
      " 94%|█████████▍| 6369/6781 [48:43<03:14,  2.11it/s]"
     ]
    },
    {
     "name": "stdout",
     "output_type": "stream",
     "text": [
      "Error\n"
     ]
    },
    {
     "name": "stderr",
     "output_type": "stream",
     "text": [
      " 94%|█████████▍| 6370/6781 [48:44<03:29,  1.96it/s]"
     ]
    },
    {
     "name": "stdout",
     "output_type": "stream",
     "text": [
      "Error\n"
     ]
    },
    {
     "name": "stderr",
     "output_type": "stream",
     "text": [
      " 94%|█████████▍| 6376/6781 [48:47<03:39,  1.85it/s]"
     ]
    },
    {
     "name": "stdout",
     "output_type": "stream",
     "text": [
      "Error\n"
     ]
    },
    {
     "name": "stderr",
     "output_type": "stream",
     "text": [
      " 94%|█████████▍| 6380/6781 [48:49<03:24,  1.96it/s]"
     ]
    },
    {
     "name": "stdout",
     "output_type": "stream",
     "text": [
      "Error\n"
     ]
    },
    {
     "name": "stderr",
     "output_type": "stream",
     "text": [
      " 95%|█████████▍| 6420/6781 [49:07<02:56,  2.04it/s]"
     ]
    },
    {
     "name": "stdout",
     "output_type": "stream",
     "text": [
      "Error\n"
     ]
    },
    {
     "name": "stderr",
     "output_type": "stream",
     "text": [
      " 95%|█████████▍| 6426/6781 [49:10<02:58,  1.99it/s]"
     ]
    },
    {
     "name": "stdout",
     "output_type": "stream",
     "text": [
      "Error\n"
     ]
    },
    {
     "name": "stderr",
     "output_type": "stream",
     "text": [
      " 95%|█████████▍| 6428/6781 [49:11<03:13,  1.82it/s]"
     ]
    },
    {
     "name": "stdout",
     "output_type": "stream",
     "text": [
      "Error\n"
     ]
    },
    {
     "name": "stderr",
     "output_type": "stream",
     "text": [
      " 95%|█████████▍| 6438/6781 [49:16<02:25,  2.35it/s]"
     ]
    },
    {
     "name": "stdout",
     "output_type": "stream",
     "text": [
      "Error\n"
     ]
    },
    {
     "name": "stderr",
     "output_type": "stream",
     "text": [
      " 95%|█████████▌| 6447/6781 [49:20<02:49,  1.98it/s]"
     ]
    },
    {
     "name": "stdout",
     "output_type": "stream",
     "text": [
      "Error\n"
     ]
    },
    {
     "name": "stderr",
     "output_type": "stream",
     "text": [
      " 96%|█████████▌| 6478/6781 [49:34<02:08,  2.36it/s]"
     ]
    },
    {
     "name": "stdout",
     "output_type": "stream",
     "text": [
      "Error\n"
     ]
    },
    {
     "name": "stderr",
     "output_type": "stream",
     "text": [
      " 96%|█████████▌| 6503/6781 [49:46<01:54,  2.43it/s]"
     ]
    },
    {
     "name": "stdout",
     "output_type": "stream",
     "text": [
      "Error\n"
     ]
    },
    {
     "name": "stderr",
     "output_type": "stream",
     "text": [
      " 96%|█████████▋| 6536/6781 [50:00<01:39,  2.45it/s]"
     ]
    },
    {
     "name": "stdout",
     "output_type": "stream",
     "text": [
      "Error\n"
     ]
    },
    {
     "name": "stderr",
     "output_type": "stream",
     "text": [
      " 96%|█████████▋| 6539/6781 [50:02<01:37,  2.49it/s]"
     ]
    },
    {
     "name": "stdout",
     "output_type": "stream",
     "text": [
      "Error\n"
     ]
    },
    {
     "name": "stderr",
     "output_type": "stream",
     "text": [
      " 97%|█████████▋| 6550/6781 [50:06<01:28,  2.61it/s]"
     ]
    },
    {
     "name": "stdout",
     "output_type": "stream",
     "text": [
      "Error\n"
     ]
    },
    {
     "name": "stderr",
     "output_type": "stream",
     "text": [
      " 97%|█████████▋| 6559/6781 [50:10<01:21,  2.74it/s]"
     ]
    },
    {
     "name": "stdout",
     "output_type": "stream",
     "text": [
      "Error\n"
     ]
    },
    {
     "name": "stderr",
     "output_type": "stream",
     "text": [
      " 97%|█████████▋| 6583/6781 [50:21<01:32,  2.14it/s]"
     ]
    },
    {
     "name": "stdout",
     "output_type": "stream",
     "text": [
      "Error\n"
     ]
    },
    {
     "name": "stderr",
     "output_type": "stream",
     "text": [
      " 97%|█████████▋| 6588/6781 [50:23<01:27,  2.20it/s]"
     ]
    },
    {
     "name": "stdout",
     "output_type": "stream",
     "text": [
      "Error\n"
     ]
    },
    {
     "name": "stderr",
     "output_type": "stream",
     "text": [
      " 97%|█████████▋| 6590/6781 [50:24<01:26,  2.21it/s]"
     ]
    },
    {
     "name": "stdout",
     "output_type": "stream",
     "text": [
      "Error\n"
     ]
    },
    {
     "name": "stderr",
     "output_type": "stream",
     "text": [
      " 97%|█████████▋| 6596/6781 [50:27<01:16,  2.42it/s]"
     ]
    },
    {
     "name": "stdout",
     "output_type": "stream",
     "text": [
      "Error\n"
     ]
    },
    {
     "name": "stderr",
     "output_type": "stream",
     "text": [
      " 98%|█████████▊| 6626/6781 [50:42<01:17,  2.00it/s]"
     ]
    },
    {
     "name": "stdout",
     "output_type": "stream",
     "text": [
      "Error\n"
     ]
    },
    {
     "name": "stderr",
     "output_type": "stream",
     "text": [
      " 98%|█████████▊| 6628/6781 [50:43<01:17,  1.96it/s]"
     ]
    },
    {
     "name": "stdout",
     "output_type": "stream",
     "text": [
      "Error\n"
     ]
    },
    {
     "name": "stderr",
     "output_type": "stream",
     "text": [
      " 98%|█████████▊| 6659/6781 [50:58<01:08,  1.77it/s]"
     ]
    },
    {
     "name": "stdout",
     "output_type": "stream",
     "text": [
      "Error\n"
     ]
    },
    {
     "name": "stderr",
     "output_type": "stream",
     "text": [
      "100%|█████████▉| 6758/6781 [51:47<00:09,  2.33it/s]"
     ]
    },
    {
     "name": "stdout",
     "output_type": "stream",
     "text": [
      "Error\n"
     ]
    },
    {
     "name": "stderr",
     "output_type": "stream",
     "text": [
      "100%|█████████▉| 6763/6781 [51:51<00:13,  1.34it/s]"
     ]
    },
    {
     "name": "stdout",
     "output_type": "stream",
     "text": [
      "Error\n"
     ]
    },
    {
     "name": "stderr",
     "output_type": "stream",
     "text": [
      "100%|█████████▉| 6766/6781 [51:52<00:08,  1.70it/s]"
     ]
    },
    {
     "name": "stdout",
     "output_type": "stream",
     "text": [
      "Error\n"
     ]
    },
    {
     "name": "stderr",
     "output_type": "stream",
     "text": [
      "100%|██████████| 6781/6781 [52:00<00:00,  2.17it/s]\n"
     ]
    }
   ],
   "source": [
    "for url in tqdm(data[\"URL Job\"]):\n",
    "  try:\n",
    "    job_data_TCV = Crawl_job_data(url)\n",
    "    job_url.append(url)\n",
    "    job_title.append(job_data_TCV[0])\n",
    "    company_name.append(job_data_TCV[1])\n",
    "    Industry.append(job_data_TCV[2])\n",
    "    company_address.append(job_data_TCV[3])\n",
    "    job_description.append(job_data_TCV[4])\n",
    "    job_requirement.append(job_data_TCV[5])\n",
    "    job_welfares.append(job_data_TCV[6])\n",
    "    salary.append(job_data_TCV[7])\n",
    "    expire_date.append(job_data_TCV[8])\n",
    "    employee_rank.append(job_data_TCV[9])\n",
    "    job_skill.append(job_data_TCV[10])\n",
    "    job_field.append(job_data_TCV[11])\n",
    "    experiences.append(job_data_TCV[12])\n",
    "    job_address.append(job_data_TCV[13])\n",
    "  except:\n",
    "    print('Error')"
   ]
  },
  {
   "cell_type": "code",
   "execution_count": null,
   "metadata": {},
   "outputs": [],
   "source": [
    "Dataset_VNW = pd.DataFrame({'URL Job': job_url,\n",
    "                            'Job Title': job_title,\n",
    "                            'Company Name': company_name,\n",
    "                            'Industry': Industry,\n",
    "                            'Company Address': company_address,\n",
    "                            'Job Description': job_description,\n",
    "                            'Job Requirements': job_requirement,\n",
    "                            'Benefits': job_welfares,\n",
    "                            'Salary': salary,\n",
    "                            'Expire date': expire_date,\n",
    "                            'Employee Rank': employee_rank,\n",
    "                            'Job Skill': job_skill,\n",
    "                            'Job Field': job_field,\n",
    "                            'Years of Experience': experiences,\n",
    "                            'Job Address': job_address})"
   ]
  },
  {
   "cell_type": "code",
   "execution_count": 10,
   "metadata": {},
   "outputs": [
    {
     "data": {
      "text/html": [
       "<div>\n",
       "<style scoped>\n",
       "    .dataframe tbody tr th:only-of-type {\n",
       "        vertical-align: middle;\n",
       "    }\n",
       "\n",
       "    .dataframe tbody tr th {\n",
       "        vertical-align: top;\n",
       "    }\n",
       "\n",
       "    .dataframe thead th {\n",
       "        text-align: right;\n",
       "    }\n",
       "</style>\n",
       "<table border=\"1\" class=\"dataframe\">\n",
       "  <thead>\n",
       "    <tr style=\"text-align: right;\">\n",
       "      <th></th>\n",
       "      <th>URL Job</th>\n",
       "      <th>Job Title</th>\n",
       "      <th>Name Company</th>\n",
       "      <th>Company Size</th>\n",
       "      <th>Company Address</th>\n",
       "      <th>City</th>\n",
       "      <th>Job Description</th>\n",
       "      <th>Job Requirements</th>\n",
       "      <th>Benefits</th>\n",
       "      <th>Salary</th>\n",
       "      <th>Expire date</th>\n",
       "      <th>Employee Rank</th>\n",
       "      <th>Job Skill</th>\n",
       "      <th>Job Field</th>\n",
       "      <th>Years of Experience</th>\n",
       "      <th>Job Address</th>\n",
       "    </tr>\n",
       "  </thead>\n",
       "  <tbody>\n",
       "    <tr>\n",
       "      <th>0</th>\n",
       "      <td>https://www.vietnamworks.com/bd-ux-researcher-...</td>\n",
       "      <td>BD - UX Researcher (Service Design)</td>\n",
       "      <td>Bosch Global Software Technologies Company Lim...</td>\n",
       "      <td>1.000-4.999 nhân viên</td>\n",
       "      <td>Etown 2, 364 Cong Hoa street, ward 13, Tan Bin...</td>\n",
       "      <td>Hồ Chí Minh</td>\n",
       "      <td>Your Contribution to Something Big. Shape the ...</td>\n",
       "      <td>Diploma or Bachelor’s/Master’s degree in Psych...</td>\n",
       "      <td>13th-month salary bonus + attractive performan...</td>\n",
       "      <td>Thương lượng</td>\n",
       "      <td>Hết hạn trong 3 ngày</td>\n",
       "      <td>Nhân viên</td>\n",
       "      <td>Communication, Critical Thinking, Service Desi...</td>\n",
       "      <td>Phần Mềm CNTT/Dịch vụ Phần mềm</td>\n",
       "      <td>Bất kỳ</td>\n",
       "      <td>Etown 2, HCMC</td>\n",
       "    </tr>\n",
       "    <tr>\n",
       "      <th>1</th>\n",
       "      <td>https://www.vietnamworks.com/senior-expert-eco...</td>\n",
       "      <td>Senior Expert, Economics and Financial Markets...</td>\n",
       "      <td>Techcombank</td>\n",
       "      <td>5.000-9.999 nhân viên</td>\n",
       "      <td>Head Office: 6 Quang Trung Street, Hoan Kiem D...</td>\n",
       "      <td>Hà Nội</td>\n",
       "      <td>Job Purpose. The job holder responsible for:. ...</td>\n",
       "      <td>- Degree: University degree in Finance, Econom...</td>\n",
       "      <td>13th month salary + performance bonus. Advance...</td>\n",
       "      <td>$ 1,000-2,500 /tháng</td>\n",
       "      <td>Hết hạn trong 7 ngày</td>\n",
       "      <td>Trưởng phòng</td>\n",
       "      <td>Banking, Financial Analysis, Macro Analysis, F...</td>\n",
       "      <td>Ngân hàng</td>\n",
       "      <td>Tiếng Anh</td>\n",
       "      <td>Số 6 Quang Trung, Hoàn Kiếm, HN</td>\n",
       "    </tr>\n",
       "    <tr>\n",
       "      <th>2</th>\n",
       "      <td>https://www.vietnamworks.com/audit-senior-ha-n...</td>\n",
       "      <td>Audit Senior ( Ha Noi &amp; HCM)</td>\n",
       "      <td>Crowe Vietnam Co., Ltd</td>\n",
       "      <td>100-499 nhân viên</td>\n",
       "      <td>HAN Office: Room 1205, 12th Floor, IPH Tower, ...</td>\n",
       "      <td>Hà Nội, Hồ Chí Minh</td>\n",
       "      <td>1. The primary responsibility is to assist aud...</td>\n",
       "      <td>- University degree in Auditing/Accounting/ Fi...</td>\n",
       "      <td>Work for an international brand that frequentl...</td>\n",
       "      <td>Thương lượng</td>\n",
       "      <td>Hết hạn trong 3 ngày</td>\n",
       "      <td>Nhân viên</td>\n",
       "      <td>Audit, Analytical Skills, Kiểm Toán Nội Bộ, En...</td>\n",
       "      <td>Kế toán/Kiểm toán</td>\n",
       "      <td>Tiếng Anh</td>\n",
       "      <td>Hồ Chí Minh, Việt Nam</td>\n",
       "    </tr>\n",
       "    <tr>\n",
       "      <th>3</th>\n",
       "      <td>https://www.vietnamworks.com/qa-engineer-ky-su...</td>\n",
       "      <td>QA Engineer (Kỹ Sư Chất Lượng, Tiếng Anh Thành...</td>\n",
       "      <td>Công Ty TNHH LG Innotek Việt Nam Hải Phòng</td>\n",
       "      <td>1.000-4.999 nhân viên</td>\n",
       "      <td>Lô I, 4, Khu công nghiệp Tràng Duệ, Xã Hồng Ph...</td>\n",
       "      <td>Hải Phòng</td>\n",
       "      <td>Process Quality Assurance. - The Process Quali...</td>\n",
       "      <td>- Well basis quality concept. - English commun...</td>\n",
       "      <td>Công ty cung cấp ký túc xá (nếu cần thiết). Xe...</td>\n",
       "      <td>Tới $ 1,000 /tháng</td>\n",
       "      <td>Hết hạn trong 20 ngày</td>\n",
       "      <td>Nhân viên</td>\n",
       "      <td>Process Quality Assurance, Excel, Test Plannin...</td>\n",
       "      <td>Điện/Điện tử</td>\n",
       "      <td>Bất kỳ</td>\n",
       "      <td>Hai Phong, Vietnam</td>\n",
       "    </tr>\n",
       "    <tr>\n",
       "      <th>4</th>\n",
       "      <td>https://www.vietnamworks.com/truong-nhom-kinh-...</td>\n",
       "      <td>Trưởng Nhóm Kinh Doanh</td>\n",
       "      <td>AIA Exchange HCM</td>\n",
       "      <td>Mr Đoàn Ngọc Hưng</td>\n",
       "      <td>Vincom Center, 45 Lý Tự Trọng, Phường Bến Nghé...</td>\n",
       "      <td>Hồ Chí Minh</td>\n",
       "      <td>Lên kế hoạch tuyển dụng và phát triển đội ngũ ...</td>\n",
       "      <td>Độ tuổi: 27 - 40. Có kinh nghiệm ít nhất 1 năm...</td>\n",
       "      <td>Thu nhập: Ít nhất từ 25 - 40 triệu mỗi tháng. ...</td>\n",
       "      <td>25tr-40tr ₫/tháng</td>\n",
       "      <td>Hết hạn trong 28 ngày</td>\n",
       "      <td>Nhân viên</td>\n",
       "      <td>Quản Trị Đội Ngũ, Kỹ năng bán hàng, Quản Lý Tà...</td>\n",
       "      <td>Bảo hiểm</td>\n",
       "      <td>Tiếng Việt</td>\n",
       "      <td>Tầng 15, Vincom Đồng Khởi, 45A Lý Tự Trọng, Q1...</td>\n",
       "    </tr>\n",
       "    <tr>\n",
       "      <th>...</th>\n",
       "      <td>...</td>\n",
       "      <td>...</td>\n",
       "      <td>...</td>\n",
       "      <td>...</td>\n",
       "      <td>...</td>\n",
       "      <td>...</td>\n",
       "      <td>...</td>\n",
       "      <td>...</td>\n",
       "      <td>...</td>\n",
       "      <td>...</td>\n",
       "      <td>...</td>\n",
       "      <td>...</td>\n",
       "      <td>...</td>\n",
       "      <td>...</td>\n",
       "      <td>...</td>\n",
       "      <td>...</td>\n",
       "    </tr>\n",
       "    <tr>\n",
       "      <th>6377</th>\n",
       "      <td>https://www.vietnamworks.com/internal-auditor-...</td>\n",
       "      <td>Internal Auditor- APAC region ( fluent in Engl...</td>\n",
       "      <td>Navigos Search</td>\n",
       "      <td>1.000-4.999 nhân viên</td>\n",
       "      <td>HCMC</td>\n",
       "      <td>Hồ Chí Minh, Đồng Nai</td>\n",
       "      <td>Main Responsibilities. Plan and execute audits...</td>\n",
       "      <td>Minimum 4 years of experience. Ideally having ...</td>\n",
       "      <td>Professional and personal development through ...</td>\n",
       "      <td>$ 1,500-2,000 /tháng</td>\n",
       "      <td>Hết hạn trong 7 giờ</td>\n",
       "      <td>Nhân viên</td>\n",
       "      <td>Analytical Skills, Audit Management, English F...</td>\n",
       "      <td>Sản xuất</td>\n",
       "      <td>Bất kỳ</td>\n",
       "      <td>khu công nghiệp tam phước</td>\n",
       "    </tr>\n",
       "    <tr>\n",
       "      <th>6378</th>\n",
       "      <td>https://www.vietnamworks.com/urgent-production...</td>\n",
       "      <td>[Urgent] Production Manager working in Củ Chi</td>\n",
       "      <td>Navigos Search</td>\n",
       "      <td>1.000-4.999 nhân viên</td>\n",
       "      <td>HCMC</td>\n",
       "      <td>Hồ Chí Minh</td>\n",
       "      <td>Assures production shift target are met or exc...</td>\n",
       "      <td>Bachelor's degree or higher in engineering or ...</td>\n",
       "      <td>Fixed 13th salary.. Personal healthcare insura...</td>\n",
       "      <td>Thương lượng</td>\n",
       "      <td>Hết hạn trong 7 giờ</td>\n",
       "      <td>Nhân viên</td>\n",
       "      <td>English Fluency, Leadership Skills, Manufactur...</td>\n",
       "      <td>Sản xuất</td>\n",
       "      <td>Tiếng Anh</td>\n",
       "      <td>Củ Chi, Thành phố Hồ Chí Minh, Vietnam</td>\n",
       "    </tr>\n",
       "    <tr>\n",
       "      <th>6379</th>\n",
       "      <td>https://www.vietnamworks.com/urgent-production...</td>\n",
       "      <td>[Urgent] Production Supervisor working in Củ Chi</td>\n",
       "      <td>Navigos Search</td>\n",
       "      <td>1.000-4.999 nhân viên</td>\n",
       "      <td>HCMC</td>\n",
       "      <td>Hồ Chí Minh</td>\n",
       "      <td>Plan and manage equipment and manpower to meet...</td>\n",
       "      <td>Education: A Bachelor’s degree or equivalent i...</td>\n",
       "      <td>Fixed 13th salary.. Personal healthcare insura...</td>\n",
       "      <td>Tới $ 1,500 /tháng</td>\n",
       "      <td>Hết hạn trong 7 giờ</td>\n",
       "      <td>Nhân viên</td>\n",
       "      <td>Manufacturing Operations Management, Problem-s...</td>\n",
       "      <td>Sản xuất</td>\n",
       "      <td>Tiếng Anh</td>\n",
       "      <td>Củ Chi, Thành phố Hồ Chí Minh, Vietnam</td>\n",
       "    </tr>\n",
       "    <tr>\n",
       "      <th>6380</th>\n",
       "      <td>https://www.vietnamworks.com/assistant-sales-a...</td>\n",
       "      <td>Assistant Sales Administration Support</td>\n",
       "      <td>Công Ty TNHH Dược Phẩm Gigamed</td>\n",
       "      <td>HR Department</td>\n",
       "      <td>Tầng 13 Toà nhà Viettel, 285 Hẻm 285 Cách Mạng...</td>\n",
       "      <td>Hồ Chí Minh</td>\n",
       "      <td>Hỗ trợ đội ngũ kinh doanh về quy trình thanh t...</td>\n",
       "      <td>Tốt nghiệp từ Cao Đẳng/Đại học trở lên. Có kin...</td>\n",
       "      <td>13th payment. Premium healthcare for you and y...</td>\n",
       "      <td>Thương lượng</td>\n",
       "      <td>Hết hạn trong 7 giờ</td>\n",
       "      <td>Nhân viên</td>\n",
       "      <td>Admin, Administrative Reporting, Sales Admin, ...</td>\n",
       "      <td>Dược phẩm</td>\n",
       "      <td>Bất kỳ</td>\n",
       "      <td>Tầng 13 Toà nhà Viettel, 285 Hẻm 285 Cách Mạng...</td>\n",
       "    </tr>\n",
       "    <tr>\n",
       "      <th>6381</th>\n",
       "      <td>https://www.vietnamworks.com/asst-manager-hcm-...</td>\n",
       "      <td>Asst. Manager HCM</td>\n",
       "      <td>Navigos Search's Client</td>\n",
       "      <td>500-999 nhân viên</td>\n",
       "      <td>Hanoi</td>\n",
       "      <td>Vĩnh Phúc</td>\n",
       "      <td>Key Accountabilities. 1. Talent &amp; Succession M...</td>\n",
       "      <td>Bachelor’s and/or master’s degree preferably i...</td>\n",
       "      <td>Daily bus.</td>\n",
       "      <td>$ 1,000-1,200 /tháng</td>\n",
       "      <td>Hết hạn trong 7 giờ</td>\n",
       "      <td>Trưởng phòng</td>\n",
       "      <td>Effective Communication, Hcm Strategy, Perform...</td>\n",
       "      <td>Giáo dục/Đào Tạo</td>\n",
       "      <td>Bất kỳ</td>\n",
       "      <td>Bình Xuyên, Vĩnh Phúc, Việt Nam</td>\n",
       "    </tr>\n",
       "  </tbody>\n",
       "</table>\n",
       "<p>6382 rows × 16 columns</p>\n",
       "</div>"
      ],
      "text/plain": [
       "                                                URL Job  \\\n",
       "0     https://www.vietnamworks.com/bd-ux-researcher-...   \n",
       "1     https://www.vietnamworks.com/senior-expert-eco...   \n",
       "2     https://www.vietnamworks.com/audit-senior-ha-n...   \n",
       "3     https://www.vietnamworks.com/qa-engineer-ky-su...   \n",
       "4     https://www.vietnamworks.com/truong-nhom-kinh-...   \n",
       "...                                                 ...   \n",
       "6377  https://www.vietnamworks.com/internal-auditor-...   \n",
       "6378  https://www.vietnamworks.com/urgent-production...   \n",
       "6379  https://www.vietnamworks.com/urgent-production...   \n",
       "6380  https://www.vietnamworks.com/assistant-sales-a...   \n",
       "6381  https://www.vietnamworks.com/asst-manager-hcm-...   \n",
       "\n",
       "                                              Job Title  \\\n",
       "0                   BD - UX Researcher (Service Design)   \n",
       "1     Senior Expert, Economics and Financial Markets...   \n",
       "2                          Audit Senior ( Ha Noi & HCM)   \n",
       "3     QA Engineer (Kỹ Sư Chất Lượng, Tiếng Anh Thành...   \n",
       "4                                Trưởng Nhóm Kinh Doanh   \n",
       "...                                                 ...   \n",
       "6377  Internal Auditor- APAC region ( fluent in Engl...   \n",
       "6378      [Urgent] Production Manager working in Củ Chi   \n",
       "6379   [Urgent] Production Supervisor working in Củ Chi   \n",
       "6380             Assistant Sales Administration Support   \n",
       "6381                                  Asst. Manager HCM   \n",
       "\n",
       "                                           Name Company  \\\n",
       "0     Bosch Global Software Technologies Company Lim...   \n",
       "1                                           Techcombank   \n",
       "2                                Crowe Vietnam Co., Ltd   \n",
       "3            Công Ty TNHH LG Innotek Việt Nam Hải Phòng   \n",
       "4                                      AIA Exchange HCM   \n",
       "...                                                 ...   \n",
       "6377                                     Navigos Search   \n",
       "6378                                     Navigos Search   \n",
       "6379                                     Navigos Search   \n",
       "6380                     Công Ty TNHH Dược Phẩm Gigamed   \n",
       "6381                            Navigos Search's Client   \n",
       "\n",
       "               Company Size  \\\n",
       "0     1.000-4.999 nhân viên   \n",
       "1     5.000-9.999 nhân viên   \n",
       "2         100-499 nhân viên   \n",
       "3     1.000-4.999 nhân viên   \n",
       "4         Mr Đoàn Ngọc Hưng   \n",
       "...                     ...   \n",
       "6377  1.000-4.999 nhân viên   \n",
       "6378  1.000-4.999 nhân viên   \n",
       "6379  1.000-4.999 nhân viên   \n",
       "6380          HR Department   \n",
       "6381      500-999 nhân viên   \n",
       "\n",
       "                                        Company Address  \\\n",
       "0     Etown 2, 364 Cong Hoa street, ward 13, Tan Bin...   \n",
       "1     Head Office: 6 Quang Trung Street, Hoan Kiem D...   \n",
       "2     HAN Office: Room 1205, 12th Floor, IPH Tower, ...   \n",
       "3     Lô I, 4, Khu công nghiệp Tràng Duệ, Xã Hồng Ph...   \n",
       "4     Vincom Center, 45 Lý Tự Trọng, Phường Bến Nghé...   \n",
       "...                                                 ...   \n",
       "6377                                               HCMC   \n",
       "6378                                               HCMC   \n",
       "6379                                               HCMC   \n",
       "6380  Tầng 13 Toà nhà Viettel, 285 Hẻm 285 Cách Mạng...   \n",
       "6381                                              Hanoi   \n",
       "\n",
       "                       City  \\\n",
       "0               Hồ Chí Minh   \n",
       "1                    Hà Nội   \n",
       "2       Hà Nội, Hồ Chí Minh   \n",
       "3                 Hải Phòng   \n",
       "4               Hồ Chí Minh   \n",
       "...                     ...   \n",
       "6377  Hồ Chí Minh, Đồng Nai   \n",
       "6378            Hồ Chí Minh   \n",
       "6379            Hồ Chí Minh   \n",
       "6380            Hồ Chí Minh   \n",
       "6381              Vĩnh Phúc   \n",
       "\n",
       "                                        Job Description  \\\n",
       "0     Your Contribution to Something Big. Shape the ...   \n",
       "1     Job Purpose. The job holder responsible for:. ...   \n",
       "2     1. The primary responsibility is to assist aud...   \n",
       "3     Process Quality Assurance. - The Process Quali...   \n",
       "4     Lên kế hoạch tuyển dụng và phát triển đội ngũ ...   \n",
       "...                                                 ...   \n",
       "6377  Main Responsibilities. Plan and execute audits...   \n",
       "6378  Assures production shift target are met or exc...   \n",
       "6379  Plan and manage equipment and manpower to meet...   \n",
       "6380  Hỗ trợ đội ngũ kinh doanh về quy trình thanh t...   \n",
       "6381  Key Accountabilities. 1. Talent & Succession M...   \n",
       "\n",
       "                                       Job Requirements  \\\n",
       "0     Diploma or Bachelor’s/Master’s degree in Psych...   \n",
       "1     - Degree: University degree in Finance, Econom...   \n",
       "2     - University degree in Auditing/Accounting/ Fi...   \n",
       "3     - Well basis quality concept. - English commun...   \n",
       "4     Độ tuổi: 27 - 40. Có kinh nghiệm ít nhất 1 năm...   \n",
       "...                                                 ...   \n",
       "6377  Minimum 4 years of experience. Ideally having ...   \n",
       "6378  Bachelor's degree or higher in engineering or ...   \n",
       "6379  Education: A Bachelor’s degree or equivalent i...   \n",
       "6380  Tốt nghiệp từ Cao Đẳng/Đại học trở lên. Có kin...   \n",
       "6381  Bachelor’s and/or master’s degree preferably i...   \n",
       "\n",
       "                                               Benefits                Salary  \\\n",
       "0     13th-month salary bonus + attractive performan...          Thương lượng   \n",
       "1     13th month salary + performance bonus. Advance...  $ 1,000-2,500 /tháng   \n",
       "2     Work for an international brand that frequentl...          Thương lượng   \n",
       "3     Công ty cung cấp ký túc xá (nếu cần thiết). Xe...    Tới $ 1,000 /tháng   \n",
       "4     Thu nhập: Ít nhất từ 25 - 40 triệu mỗi tháng. ...     25tr-40tr ₫/tháng   \n",
       "...                                                 ...                   ...   \n",
       "6377  Professional and personal development through ...  $ 1,500-2,000 /tháng   \n",
       "6378  Fixed 13th salary.. Personal healthcare insura...          Thương lượng   \n",
       "6379  Fixed 13th salary.. Personal healthcare insura...    Tới $ 1,500 /tháng   \n",
       "6380  13th payment. Premium healthcare for you and y...          Thương lượng   \n",
       "6381                                         Daily bus.  $ 1,000-1,200 /tháng   \n",
       "\n",
       "                Expire date Employee Rank  \\\n",
       "0      Hết hạn trong 3 ngày     Nhân viên   \n",
       "1      Hết hạn trong 7 ngày  Trưởng phòng   \n",
       "2      Hết hạn trong 3 ngày     Nhân viên   \n",
       "3     Hết hạn trong 20 ngày     Nhân viên   \n",
       "4     Hết hạn trong 28 ngày     Nhân viên   \n",
       "...                     ...           ...   \n",
       "6377    Hết hạn trong 7 giờ     Nhân viên   \n",
       "6378    Hết hạn trong 7 giờ     Nhân viên   \n",
       "6379    Hết hạn trong 7 giờ     Nhân viên   \n",
       "6380    Hết hạn trong 7 giờ     Nhân viên   \n",
       "6381    Hết hạn trong 7 giờ  Trưởng phòng   \n",
       "\n",
       "                                              Job Skill  \\\n",
       "0     Communication, Critical Thinking, Service Desi...   \n",
       "1     Banking, Financial Analysis, Macro Analysis, F...   \n",
       "2     Audit, Analytical Skills, Kiểm Toán Nội Bộ, En...   \n",
       "3     Process Quality Assurance, Excel, Test Plannin...   \n",
       "4     Quản Trị Đội Ngũ, Kỹ năng bán hàng, Quản Lý Tà...   \n",
       "...                                                 ...   \n",
       "6377  Analytical Skills, Audit Management, English F...   \n",
       "6378  English Fluency, Leadership Skills, Manufactur...   \n",
       "6379  Manufacturing Operations Management, Problem-s...   \n",
       "6380  Admin, Administrative Reporting, Sales Admin, ...   \n",
       "6381  Effective Communication, Hcm Strategy, Perform...   \n",
       "\n",
       "                           Job Field Years of Experience  \\\n",
       "0     Phần Mềm CNTT/Dịch vụ Phần mềm              Bất kỳ   \n",
       "1                          Ngân hàng           Tiếng Anh   \n",
       "2                  Kế toán/Kiểm toán           Tiếng Anh   \n",
       "3                       Điện/Điện tử              Bất kỳ   \n",
       "4                           Bảo hiểm          Tiếng Việt   \n",
       "...                              ...                 ...   \n",
       "6377                        Sản xuất              Bất kỳ   \n",
       "6378                        Sản xuất           Tiếng Anh   \n",
       "6379                        Sản xuất           Tiếng Anh   \n",
       "6380                       Dược phẩm              Bất kỳ   \n",
       "6381                Giáo dục/Đào Tạo              Bất kỳ   \n",
       "\n",
       "                                            Job Address  \n",
       "0                                         Etown 2, HCMC  \n",
       "1                       Số 6 Quang Trung, Hoàn Kiếm, HN  \n",
       "2                                 Hồ Chí Minh, Việt Nam  \n",
       "3                                    Hai Phong, Vietnam  \n",
       "4     Tầng 15, Vincom Đồng Khởi, 45A Lý Tự Trọng, Q1...  \n",
       "...                                                 ...  \n",
       "6377                          khu công nghiệp tam phước  \n",
       "6378             Củ Chi, Thành phố Hồ Chí Minh, Vietnam  \n",
       "6379             Củ Chi, Thành phố Hồ Chí Minh, Vietnam  \n",
       "6380  Tầng 13 Toà nhà Viettel, 285 Hẻm 285 Cách Mạng...  \n",
       "6381                    Bình Xuyên, Vĩnh Phúc, Việt Nam  \n",
       "\n",
       "[6382 rows x 16 columns]"
      ]
     },
     "execution_count": 10,
     "metadata": {},
     "output_type": "execute_result"
    }
   ],
   "source": [
    "Dataset_VNW"
   ]
  },
  {
   "cell_type": "code",
   "execution_count": 11,
   "metadata": {},
   "outputs": [],
   "source": [
    "Dataset_VNW.to_csv(PATH+'/Dataset_VNW', index = False)"
   ]
  },
  {
   "cell_type": "code",
   "execution_count": 40,
   "metadata": {},
   "outputs": [],
   "source": [
    "data = pd.read_csv(PATH+'/Dataset_VNW')"
   ]
  },
  {
   "cell_type": "code",
   "execution_count": 48,
   "metadata": {},
   "outputs": [
    {
     "data": {
      "text/plain": [
       "Years of Experience\n",
       "Bất kỳ              4370\n",
       "Tiếng Anh           1552\n",
       "Tiếng Việt           372\n",
       "Tiếng Trung Quốc      47\n",
       "Tiếng Nhật            29\n",
       "Tiếng Hàn Quốc        11\n",
       "Tiếng Pháp             1\n",
       "Name: count, dtype: int64"
      ]
     },
     "execution_count": 48,
     "metadata": {},
     "output_type": "execute_result"
    }
   ],
   "source": [
    "data['Years of Experience'].value_counts()"
   ]
  },
  {
   "cell_type": "markdown",
   "metadata": {},
   "source": [
    "# Crawl job data from Jobsgo\n"
   ]
  },
  {
   "cell_type": "code",
   "execution_count": 2,
   "metadata": {},
   "outputs": [],
   "source": [
    "def get_url_page_Jobsgo(num_page):\n",
    "  list_url_page = []\n",
    "  for i in range(1,num_page+1):\n",
    "    list_url_page.append(f'https://jobsgo.vn/viec-lam.html?utm_source=job_list&utm_medium=&utm_term=&utm_campaign=&page={i}')\n",
    "  return list_url_page"
   ]
  },
  {
   "cell_type": "code",
   "execution_count": 3,
   "metadata": {},
   "outputs": [],
   "source": [
    "list_url_page = get_url_page_Jobsgo(200)"
   ]
  },
  {
   "cell_type": "code",
   "execution_count": 4,
   "metadata": {},
   "outputs": [],
   "source": [
    "# Viết hàm lấy url job của các công việc\n",
    "def get_url_job_Jobsgo(url_page):\n",
    "  # Khởi tạo danh sách url các công việc\n",
    "  list_url_job = []\n",
    "  # Lấy nội dung của page\n",
    "  Content = requests.get(url_page).content\n",
    "  Soup = BeautifulSoup(Content, 'html.parser')\n",
    "  # Lấy url job\n",
    "  url_jobs = Soup.select('body > section.section.wrap-1 > div > div > div > div > div > div > div.col-sm-9 > div.row-ajax > div.clearfix.colorgb-carousel-bk.v2 > div.item-bk.mrg-top-10 > div > div > div > article > div.brows-job-list > div > div > div.brows-job-position > h3 > a')\n",
    "  for job in url_jobs:\n",
    "    list_url_job.append(job['href'])\n",
    "  \n",
    "  return list_url_job"
   ]
  },
  {
   "cell_type": "code",
   "execution_count": null,
   "metadata": {},
   "outputs": [
    {
     "name": "stderr",
     "output_type": "stream",
     "text": [
      "100%|██████████| 200/200 [00:00<00:00, 117983.23it/s]"
     ]
    },
    {
     "name": "stdout",
     "output_type": "stream",
     "text": [
      "https://jobsgo.vn/viec-lam.html?utm_source=job_list&utm_medium=&utm_term=&utm_campaign=&page=1 -> Error\n",
      "https://jobsgo.vn/viec-lam.html?utm_source=job_list&utm_medium=&utm_term=&utm_campaign=&page=2 -> Error\n",
      "https://jobsgo.vn/viec-lam.html?utm_source=job_list&utm_medium=&utm_term=&utm_campaign=&page=3 -> Error\n",
      "https://jobsgo.vn/viec-lam.html?utm_source=job_list&utm_medium=&utm_term=&utm_campaign=&page=4 -> Error\n",
      "https://jobsgo.vn/viec-lam.html?utm_source=job_list&utm_medium=&utm_term=&utm_campaign=&page=5 -> Error\n",
      "https://jobsgo.vn/viec-lam.html?utm_source=job_list&utm_medium=&utm_term=&utm_campaign=&page=6 -> Error\n",
      "https://jobsgo.vn/viec-lam.html?utm_source=job_list&utm_medium=&utm_term=&utm_campaign=&page=7 -> Error\n",
      "https://jobsgo.vn/viec-lam.html?utm_source=job_list&utm_medium=&utm_term=&utm_campaign=&page=8 -> Error\n",
      "https://jobsgo.vn/viec-lam.html?utm_source=job_list&utm_medium=&utm_term=&utm_campaign=&page=9 -> Error\n",
      "https://jobsgo.vn/viec-lam.html?utm_source=job_list&utm_medium=&utm_term=&utm_campaign=&page=10 -> Error\n",
      "https://jobsgo.vn/viec-lam.html?utm_source=job_list&utm_medium=&utm_term=&utm_campaign=&page=11 -> Error\n",
      "https://jobsgo.vn/viec-lam.html?utm_source=job_list&utm_medium=&utm_term=&utm_campaign=&page=12 -> Error\n",
      "https://jobsgo.vn/viec-lam.html?utm_source=job_list&utm_medium=&utm_term=&utm_campaign=&page=13 -> Error\n",
      "https://jobsgo.vn/viec-lam.html?utm_source=job_list&utm_medium=&utm_term=&utm_campaign=&page=14 -> Error\n",
      "https://jobsgo.vn/viec-lam.html?utm_source=job_list&utm_medium=&utm_term=&utm_campaign=&page=15 -> Error\n",
      "https://jobsgo.vn/viec-lam.html?utm_source=job_list&utm_medium=&utm_term=&utm_campaign=&page=16 -> Error\n",
      "https://jobsgo.vn/viec-lam.html?utm_source=job_list&utm_medium=&utm_term=&utm_campaign=&page=17 -> Error\n",
      "https://jobsgo.vn/viec-lam.html?utm_source=job_list&utm_medium=&utm_term=&utm_campaign=&page=18 -> Error\n",
      "https://jobsgo.vn/viec-lam.html?utm_source=job_list&utm_medium=&utm_term=&utm_campaign=&page=19 -> Error\n",
      "https://jobsgo.vn/viec-lam.html?utm_source=job_list&utm_medium=&utm_term=&utm_campaign=&page=20 -> Error\n",
      "https://jobsgo.vn/viec-lam.html?utm_source=job_list&utm_medium=&utm_term=&utm_campaign=&page=21 -> Error\n",
      "https://jobsgo.vn/viec-lam.html?utm_source=job_list&utm_medium=&utm_term=&utm_campaign=&page=22 -> Error\n",
      "https://jobsgo.vn/viec-lam.html?utm_source=job_list&utm_medium=&utm_term=&utm_campaign=&page=23 -> Error\n",
      "https://jobsgo.vn/viec-lam.html?utm_source=job_list&utm_medium=&utm_term=&utm_campaign=&page=24 -> Error\n",
      "https://jobsgo.vn/viec-lam.html?utm_source=job_list&utm_medium=&utm_term=&utm_campaign=&page=25 -> Error\n",
      "https://jobsgo.vn/viec-lam.html?utm_source=job_list&utm_medium=&utm_term=&utm_campaign=&page=26 -> Error\n",
      "https://jobsgo.vn/viec-lam.html?utm_source=job_list&utm_medium=&utm_term=&utm_campaign=&page=27 -> Error\n",
      "https://jobsgo.vn/viec-lam.html?utm_source=job_list&utm_medium=&utm_term=&utm_campaign=&page=28 -> Error\n",
      "https://jobsgo.vn/viec-lam.html?utm_source=job_list&utm_medium=&utm_term=&utm_campaign=&page=29 -> Error\n",
      "https://jobsgo.vn/viec-lam.html?utm_source=job_list&utm_medium=&utm_term=&utm_campaign=&page=30 -> Error\n",
      "https://jobsgo.vn/viec-lam.html?utm_source=job_list&utm_medium=&utm_term=&utm_campaign=&page=31 -> Error\n",
      "https://jobsgo.vn/viec-lam.html?utm_source=job_list&utm_medium=&utm_term=&utm_campaign=&page=32 -> Error\n",
      "https://jobsgo.vn/viec-lam.html?utm_source=job_list&utm_medium=&utm_term=&utm_campaign=&page=33 -> Error\n",
      "https://jobsgo.vn/viec-lam.html?utm_source=job_list&utm_medium=&utm_term=&utm_campaign=&page=34 -> Error\n",
      "https://jobsgo.vn/viec-lam.html?utm_source=job_list&utm_medium=&utm_term=&utm_campaign=&page=35 -> Error\n",
      "https://jobsgo.vn/viec-lam.html?utm_source=job_list&utm_medium=&utm_term=&utm_campaign=&page=36 -> Error\n",
      "https://jobsgo.vn/viec-lam.html?utm_source=job_list&utm_medium=&utm_term=&utm_campaign=&page=37 -> Error\n",
      "https://jobsgo.vn/viec-lam.html?utm_source=job_list&utm_medium=&utm_term=&utm_campaign=&page=38 -> Error\n",
      "https://jobsgo.vn/viec-lam.html?utm_source=job_list&utm_medium=&utm_term=&utm_campaign=&page=39 -> Error\n",
      "https://jobsgo.vn/viec-lam.html?utm_source=job_list&utm_medium=&utm_term=&utm_campaign=&page=40 -> Error\n",
      "https://jobsgo.vn/viec-lam.html?utm_source=job_list&utm_medium=&utm_term=&utm_campaign=&page=41 -> Error\n",
      "https://jobsgo.vn/viec-lam.html?utm_source=job_list&utm_medium=&utm_term=&utm_campaign=&page=42 -> Error\n",
      "https://jobsgo.vn/viec-lam.html?utm_source=job_list&utm_medium=&utm_term=&utm_campaign=&page=43 -> Error\n",
      "https://jobsgo.vn/viec-lam.html?utm_source=job_list&utm_medium=&utm_term=&utm_campaign=&page=44 -> Error\n",
      "https://jobsgo.vn/viec-lam.html?utm_source=job_list&utm_medium=&utm_term=&utm_campaign=&page=45 -> Error\n",
      "https://jobsgo.vn/viec-lam.html?utm_source=job_list&utm_medium=&utm_term=&utm_campaign=&page=46 -> Error\n",
      "https://jobsgo.vn/viec-lam.html?utm_source=job_list&utm_medium=&utm_term=&utm_campaign=&page=47 -> Error\n",
      "https://jobsgo.vn/viec-lam.html?utm_source=job_list&utm_medium=&utm_term=&utm_campaign=&page=48 -> Error\n",
      "https://jobsgo.vn/viec-lam.html?utm_source=job_list&utm_medium=&utm_term=&utm_campaign=&page=49 -> Error\n",
      "https://jobsgo.vn/viec-lam.html?utm_source=job_list&utm_medium=&utm_term=&utm_campaign=&page=50 -> Error\n",
      "https://jobsgo.vn/viec-lam.html?utm_source=job_list&utm_medium=&utm_term=&utm_campaign=&page=51 -> Error\n",
      "https://jobsgo.vn/viec-lam.html?utm_source=job_list&utm_medium=&utm_term=&utm_campaign=&page=52 -> Error\n",
      "https://jobsgo.vn/viec-lam.html?utm_source=job_list&utm_medium=&utm_term=&utm_campaign=&page=53 -> Error\n",
      "https://jobsgo.vn/viec-lam.html?utm_source=job_list&utm_medium=&utm_term=&utm_campaign=&page=54 -> Error\n",
      "https://jobsgo.vn/viec-lam.html?utm_source=job_list&utm_medium=&utm_term=&utm_campaign=&page=55 -> Error\n",
      "https://jobsgo.vn/viec-lam.html?utm_source=job_list&utm_medium=&utm_term=&utm_campaign=&page=56 -> Error\n",
      "https://jobsgo.vn/viec-lam.html?utm_source=job_list&utm_medium=&utm_term=&utm_campaign=&page=57 -> Error\n",
      "https://jobsgo.vn/viec-lam.html?utm_source=job_list&utm_medium=&utm_term=&utm_campaign=&page=58 -> Error\n",
      "https://jobsgo.vn/viec-lam.html?utm_source=job_list&utm_medium=&utm_term=&utm_campaign=&page=59 -> Error\n",
      "https://jobsgo.vn/viec-lam.html?utm_source=job_list&utm_medium=&utm_term=&utm_campaign=&page=60 -> Error\n",
      "https://jobsgo.vn/viec-lam.html?utm_source=job_list&utm_medium=&utm_term=&utm_campaign=&page=61 -> Error\n",
      "https://jobsgo.vn/viec-lam.html?utm_source=job_list&utm_medium=&utm_term=&utm_campaign=&page=62 -> Error\n",
      "https://jobsgo.vn/viec-lam.html?utm_source=job_list&utm_medium=&utm_term=&utm_campaign=&page=63 -> Error\n",
      "https://jobsgo.vn/viec-lam.html?utm_source=job_list&utm_medium=&utm_term=&utm_campaign=&page=64 -> Error\n",
      "https://jobsgo.vn/viec-lam.html?utm_source=job_list&utm_medium=&utm_term=&utm_campaign=&page=65 -> Error\n",
      "https://jobsgo.vn/viec-lam.html?utm_source=job_list&utm_medium=&utm_term=&utm_campaign=&page=66 -> Error\n",
      "https://jobsgo.vn/viec-lam.html?utm_source=job_list&utm_medium=&utm_term=&utm_campaign=&page=67 -> Error\n",
      "https://jobsgo.vn/viec-lam.html?utm_source=job_list&utm_medium=&utm_term=&utm_campaign=&page=68 -> Error\n",
      "https://jobsgo.vn/viec-lam.html?utm_source=job_list&utm_medium=&utm_term=&utm_campaign=&page=69 -> Error\n",
      "https://jobsgo.vn/viec-lam.html?utm_source=job_list&utm_medium=&utm_term=&utm_campaign=&page=70 -> Error\n",
      "https://jobsgo.vn/viec-lam.html?utm_source=job_list&utm_medium=&utm_term=&utm_campaign=&page=71 -> Error\n",
      "https://jobsgo.vn/viec-lam.html?utm_source=job_list&utm_medium=&utm_term=&utm_campaign=&page=72 -> Error\n",
      "https://jobsgo.vn/viec-lam.html?utm_source=job_list&utm_medium=&utm_term=&utm_campaign=&page=73 -> Error\n",
      "https://jobsgo.vn/viec-lam.html?utm_source=job_list&utm_medium=&utm_term=&utm_campaign=&page=74 -> Error\n",
      "https://jobsgo.vn/viec-lam.html?utm_source=job_list&utm_medium=&utm_term=&utm_campaign=&page=75 -> Error\n",
      "https://jobsgo.vn/viec-lam.html?utm_source=job_list&utm_medium=&utm_term=&utm_campaign=&page=76 -> Error\n",
      "https://jobsgo.vn/viec-lam.html?utm_source=job_list&utm_medium=&utm_term=&utm_campaign=&page=77 -> Error\n",
      "https://jobsgo.vn/viec-lam.html?utm_source=job_list&utm_medium=&utm_term=&utm_campaign=&page=78 -> Error\n",
      "https://jobsgo.vn/viec-lam.html?utm_source=job_list&utm_medium=&utm_term=&utm_campaign=&page=79 -> Error\n",
      "https://jobsgo.vn/viec-lam.html?utm_source=job_list&utm_medium=&utm_term=&utm_campaign=&page=80 -> Error\n",
      "https://jobsgo.vn/viec-lam.html?utm_source=job_list&utm_medium=&utm_term=&utm_campaign=&page=81 -> Error\n",
      "https://jobsgo.vn/viec-lam.html?utm_source=job_list&utm_medium=&utm_term=&utm_campaign=&page=82 -> Error\n",
      "https://jobsgo.vn/viec-lam.html?utm_source=job_list&utm_medium=&utm_term=&utm_campaign=&page=83 -> Error\n",
      "https://jobsgo.vn/viec-lam.html?utm_source=job_list&utm_medium=&utm_term=&utm_campaign=&page=84 -> Error\n",
      "https://jobsgo.vn/viec-lam.html?utm_source=job_list&utm_medium=&utm_term=&utm_campaign=&page=85 -> Error\n",
      "https://jobsgo.vn/viec-lam.html?utm_source=job_list&utm_medium=&utm_term=&utm_campaign=&page=86 -> Error\n",
      "https://jobsgo.vn/viec-lam.html?utm_source=job_list&utm_medium=&utm_term=&utm_campaign=&page=87 -> Error\n",
      "https://jobsgo.vn/viec-lam.html?utm_source=job_list&utm_medium=&utm_term=&utm_campaign=&page=88 -> Error\n",
      "https://jobsgo.vn/viec-lam.html?utm_source=job_list&utm_medium=&utm_term=&utm_campaign=&page=89 -> Error\n",
      "https://jobsgo.vn/viec-lam.html?utm_source=job_list&utm_medium=&utm_term=&utm_campaign=&page=90 -> Error\n",
      "https://jobsgo.vn/viec-lam.html?utm_source=job_list&utm_medium=&utm_term=&utm_campaign=&page=91 -> Error\n",
      "https://jobsgo.vn/viec-lam.html?utm_source=job_list&utm_medium=&utm_term=&utm_campaign=&page=92 -> Error\n",
      "https://jobsgo.vn/viec-lam.html?utm_source=job_list&utm_medium=&utm_term=&utm_campaign=&page=93 -> Error\n",
      "https://jobsgo.vn/viec-lam.html?utm_source=job_list&utm_medium=&utm_term=&utm_campaign=&page=94 -> Error\n",
      "https://jobsgo.vn/viec-lam.html?utm_source=job_list&utm_medium=&utm_term=&utm_campaign=&page=95 -> Error\n",
      "https://jobsgo.vn/viec-lam.html?utm_source=job_list&utm_medium=&utm_term=&utm_campaign=&page=96 -> Error\n",
      "https://jobsgo.vn/viec-lam.html?utm_source=job_list&utm_medium=&utm_term=&utm_campaign=&page=97 -> Error\n",
      "https://jobsgo.vn/viec-lam.html?utm_source=job_list&utm_medium=&utm_term=&utm_campaign=&page=98 -> Error\n",
      "https://jobsgo.vn/viec-lam.html?utm_source=job_list&utm_medium=&utm_term=&utm_campaign=&page=99 -> Error\n",
      "https://jobsgo.vn/viec-lam.html?utm_source=job_list&utm_medium=&utm_term=&utm_campaign=&page=100 -> Error\n",
      "https://jobsgo.vn/viec-lam.html?utm_source=job_list&utm_medium=&utm_term=&utm_campaign=&page=101 -> Error\n",
      "https://jobsgo.vn/viec-lam.html?utm_source=job_list&utm_medium=&utm_term=&utm_campaign=&page=102 -> Error\n",
      "https://jobsgo.vn/viec-lam.html?utm_source=job_list&utm_medium=&utm_term=&utm_campaign=&page=103 -> Error\n",
      "https://jobsgo.vn/viec-lam.html?utm_source=job_list&utm_medium=&utm_term=&utm_campaign=&page=104 -> Error\n",
      "https://jobsgo.vn/viec-lam.html?utm_source=job_list&utm_medium=&utm_term=&utm_campaign=&page=105 -> Error\n",
      "https://jobsgo.vn/viec-lam.html?utm_source=job_list&utm_medium=&utm_term=&utm_campaign=&page=106 -> Error\n",
      "https://jobsgo.vn/viec-lam.html?utm_source=job_list&utm_medium=&utm_term=&utm_campaign=&page=107 -> Error\n",
      "https://jobsgo.vn/viec-lam.html?utm_source=job_list&utm_medium=&utm_term=&utm_campaign=&page=108 -> Error\n",
      "https://jobsgo.vn/viec-lam.html?utm_source=job_list&utm_medium=&utm_term=&utm_campaign=&page=109 -> Error\n",
      "https://jobsgo.vn/viec-lam.html?utm_source=job_list&utm_medium=&utm_term=&utm_campaign=&page=110 -> Error\n",
      "https://jobsgo.vn/viec-lam.html?utm_source=job_list&utm_medium=&utm_term=&utm_campaign=&page=111 -> Error\n",
      "https://jobsgo.vn/viec-lam.html?utm_source=job_list&utm_medium=&utm_term=&utm_campaign=&page=112 -> Error\n",
      "https://jobsgo.vn/viec-lam.html?utm_source=job_list&utm_medium=&utm_term=&utm_campaign=&page=113 -> Error\n",
      "https://jobsgo.vn/viec-lam.html?utm_source=job_list&utm_medium=&utm_term=&utm_campaign=&page=114 -> Error\n",
      "https://jobsgo.vn/viec-lam.html?utm_source=job_list&utm_medium=&utm_term=&utm_campaign=&page=115 -> Error\n",
      "https://jobsgo.vn/viec-lam.html?utm_source=job_list&utm_medium=&utm_term=&utm_campaign=&page=116 -> Error\n",
      "https://jobsgo.vn/viec-lam.html?utm_source=job_list&utm_medium=&utm_term=&utm_campaign=&page=117 -> Error\n",
      "https://jobsgo.vn/viec-lam.html?utm_source=job_list&utm_medium=&utm_term=&utm_campaign=&page=118 -> Error\n",
      "https://jobsgo.vn/viec-lam.html?utm_source=job_list&utm_medium=&utm_term=&utm_campaign=&page=119 -> Error\n",
      "https://jobsgo.vn/viec-lam.html?utm_source=job_list&utm_medium=&utm_term=&utm_campaign=&page=120 -> Error\n",
      "https://jobsgo.vn/viec-lam.html?utm_source=job_list&utm_medium=&utm_term=&utm_campaign=&page=121 -> Error\n",
      "https://jobsgo.vn/viec-lam.html?utm_source=job_list&utm_medium=&utm_term=&utm_campaign=&page=122 -> Error\n",
      "https://jobsgo.vn/viec-lam.html?utm_source=job_list&utm_medium=&utm_term=&utm_campaign=&page=123 -> Error\n",
      "https://jobsgo.vn/viec-lam.html?utm_source=job_list&utm_medium=&utm_term=&utm_campaign=&page=124 -> Error\n",
      "https://jobsgo.vn/viec-lam.html?utm_source=job_list&utm_medium=&utm_term=&utm_campaign=&page=125 -> Error\n",
      "https://jobsgo.vn/viec-lam.html?utm_source=job_list&utm_medium=&utm_term=&utm_campaign=&page=126 -> Error\n",
      "https://jobsgo.vn/viec-lam.html?utm_source=job_list&utm_medium=&utm_term=&utm_campaign=&page=127 -> Error\n",
      "https://jobsgo.vn/viec-lam.html?utm_source=job_list&utm_medium=&utm_term=&utm_campaign=&page=128 -> Error\n",
      "https://jobsgo.vn/viec-lam.html?utm_source=job_list&utm_medium=&utm_term=&utm_campaign=&page=129 -> Error\n",
      "https://jobsgo.vn/viec-lam.html?utm_source=job_list&utm_medium=&utm_term=&utm_campaign=&page=130 -> Error\n",
      "https://jobsgo.vn/viec-lam.html?utm_source=job_list&utm_medium=&utm_term=&utm_campaign=&page=131 -> Error\n",
      "https://jobsgo.vn/viec-lam.html?utm_source=job_list&utm_medium=&utm_term=&utm_campaign=&page=132 -> Error\n",
      "https://jobsgo.vn/viec-lam.html?utm_source=job_list&utm_medium=&utm_term=&utm_campaign=&page=133 -> Error\n",
      "https://jobsgo.vn/viec-lam.html?utm_source=job_list&utm_medium=&utm_term=&utm_campaign=&page=134 -> Error\n",
      "https://jobsgo.vn/viec-lam.html?utm_source=job_list&utm_medium=&utm_term=&utm_campaign=&page=135 -> Error\n",
      "https://jobsgo.vn/viec-lam.html?utm_source=job_list&utm_medium=&utm_term=&utm_campaign=&page=136 -> Error\n",
      "https://jobsgo.vn/viec-lam.html?utm_source=job_list&utm_medium=&utm_term=&utm_campaign=&page=137 -> Error\n",
      "https://jobsgo.vn/viec-lam.html?utm_source=job_list&utm_medium=&utm_term=&utm_campaign=&page=138 -> Error\n",
      "https://jobsgo.vn/viec-lam.html?utm_source=job_list&utm_medium=&utm_term=&utm_campaign=&page=139 -> Error\n",
      "https://jobsgo.vn/viec-lam.html?utm_source=job_list&utm_medium=&utm_term=&utm_campaign=&page=140 -> Error\n",
      "https://jobsgo.vn/viec-lam.html?utm_source=job_list&utm_medium=&utm_term=&utm_campaign=&page=141 -> Error\n",
      "https://jobsgo.vn/viec-lam.html?utm_source=job_list&utm_medium=&utm_term=&utm_campaign=&page=142 -> Error\n",
      "https://jobsgo.vn/viec-lam.html?utm_source=job_list&utm_medium=&utm_term=&utm_campaign=&page=143 -> Error\n",
      "https://jobsgo.vn/viec-lam.html?utm_source=job_list&utm_medium=&utm_term=&utm_campaign=&page=144 -> Error\n",
      "https://jobsgo.vn/viec-lam.html?utm_source=job_list&utm_medium=&utm_term=&utm_campaign=&page=145 -> Error\n",
      "https://jobsgo.vn/viec-lam.html?utm_source=job_list&utm_medium=&utm_term=&utm_campaign=&page=146 -> Error\n",
      "https://jobsgo.vn/viec-lam.html?utm_source=job_list&utm_medium=&utm_term=&utm_campaign=&page=147 -> Error\n",
      "https://jobsgo.vn/viec-lam.html?utm_source=job_list&utm_medium=&utm_term=&utm_campaign=&page=148 -> Error\n",
      "https://jobsgo.vn/viec-lam.html?utm_source=job_list&utm_medium=&utm_term=&utm_campaign=&page=149 -> Error\n",
      "https://jobsgo.vn/viec-lam.html?utm_source=job_list&utm_medium=&utm_term=&utm_campaign=&page=150 -> Error\n",
      "https://jobsgo.vn/viec-lam.html?utm_source=job_list&utm_medium=&utm_term=&utm_campaign=&page=151 -> Error\n",
      "https://jobsgo.vn/viec-lam.html?utm_source=job_list&utm_medium=&utm_term=&utm_campaign=&page=152 -> Error\n",
      "https://jobsgo.vn/viec-lam.html?utm_source=job_list&utm_medium=&utm_term=&utm_campaign=&page=153 -> Error\n",
      "https://jobsgo.vn/viec-lam.html?utm_source=job_list&utm_medium=&utm_term=&utm_campaign=&page=154 -> Error\n",
      "https://jobsgo.vn/viec-lam.html?utm_source=job_list&utm_medium=&utm_term=&utm_campaign=&page=155 -> Error\n",
      "https://jobsgo.vn/viec-lam.html?utm_source=job_list&utm_medium=&utm_term=&utm_campaign=&page=156 -> Error\n",
      "https://jobsgo.vn/viec-lam.html?utm_source=job_list&utm_medium=&utm_term=&utm_campaign=&page=157 -> Error\n",
      "https://jobsgo.vn/viec-lam.html?utm_source=job_list&utm_medium=&utm_term=&utm_campaign=&page=158 -> Error\n",
      "https://jobsgo.vn/viec-lam.html?utm_source=job_list&utm_medium=&utm_term=&utm_campaign=&page=159 -> Error\n",
      "https://jobsgo.vn/viec-lam.html?utm_source=job_list&utm_medium=&utm_term=&utm_campaign=&page=160 -> Error\n",
      "https://jobsgo.vn/viec-lam.html?utm_source=job_list&utm_medium=&utm_term=&utm_campaign=&page=161 -> Error\n",
      "https://jobsgo.vn/viec-lam.html?utm_source=job_list&utm_medium=&utm_term=&utm_campaign=&page=162 -> Error\n",
      "https://jobsgo.vn/viec-lam.html?utm_source=job_list&utm_medium=&utm_term=&utm_campaign=&page=163 -> Error\n",
      "https://jobsgo.vn/viec-lam.html?utm_source=job_list&utm_medium=&utm_term=&utm_campaign=&page=164 -> Error\n",
      "https://jobsgo.vn/viec-lam.html?utm_source=job_list&utm_medium=&utm_term=&utm_campaign=&page=165 -> Error\n",
      "https://jobsgo.vn/viec-lam.html?utm_source=job_list&utm_medium=&utm_term=&utm_campaign=&page=166 -> Error\n",
      "https://jobsgo.vn/viec-lam.html?utm_source=job_list&utm_medium=&utm_term=&utm_campaign=&page=167 -> Error\n",
      "https://jobsgo.vn/viec-lam.html?utm_source=job_list&utm_medium=&utm_term=&utm_campaign=&page=168 -> Error\n",
      "https://jobsgo.vn/viec-lam.html?utm_source=job_list&utm_medium=&utm_term=&utm_campaign=&page=169 -> Error\n",
      "https://jobsgo.vn/viec-lam.html?utm_source=job_list&utm_medium=&utm_term=&utm_campaign=&page=170 -> Error\n",
      "https://jobsgo.vn/viec-lam.html?utm_source=job_list&utm_medium=&utm_term=&utm_campaign=&page=171 -> Error\n",
      "https://jobsgo.vn/viec-lam.html?utm_source=job_list&utm_medium=&utm_term=&utm_campaign=&page=172 -> Error\n",
      "https://jobsgo.vn/viec-lam.html?utm_source=job_list&utm_medium=&utm_term=&utm_campaign=&page=173 -> Error\n",
      "https://jobsgo.vn/viec-lam.html?utm_source=job_list&utm_medium=&utm_term=&utm_campaign=&page=174 -> Error\n",
      "https://jobsgo.vn/viec-lam.html?utm_source=job_list&utm_medium=&utm_term=&utm_campaign=&page=175 -> Error\n",
      "https://jobsgo.vn/viec-lam.html?utm_source=job_list&utm_medium=&utm_term=&utm_campaign=&page=176 -> Error\n",
      "https://jobsgo.vn/viec-lam.html?utm_source=job_list&utm_medium=&utm_term=&utm_campaign=&page=177 -> Error\n",
      "https://jobsgo.vn/viec-lam.html?utm_source=job_list&utm_medium=&utm_term=&utm_campaign=&page=178 -> Error\n",
      "https://jobsgo.vn/viec-lam.html?utm_source=job_list&utm_medium=&utm_term=&utm_campaign=&page=179 -> Error\n",
      "https://jobsgo.vn/viec-lam.html?utm_source=job_list&utm_medium=&utm_term=&utm_campaign=&page=180 -> Error\n",
      "https://jobsgo.vn/viec-lam.html?utm_source=job_list&utm_medium=&utm_term=&utm_campaign=&page=181 -> Error\n",
      "https://jobsgo.vn/viec-lam.html?utm_source=job_list&utm_medium=&utm_term=&utm_campaign=&page=182 -> Error\n",
      "https://jobsgo.vn/viec-lam.html?utm_source=job_list&utm_medium=&utm_term=&utm_campaign=&page=183 -> Error\n",
      "https://jobsgo.vn/viec-lam.html?utm_source=job_list&utm_medium=&utm_term=&utm_campaign=&page=184 -> Error\n",
      "https://jobsgo.vn/viec-lam.html?utm_source=job_list&utm_medium=&utm_term=&utm_campaign=&page=185 -> Error\n",
      "https://jobsgo.vn/viec-lam.html?utm_source=job_list&utm_medium=&utm_term=&utm_campaign=&page=186 -> Error\n",
      "https://jobsgo.vn/viec-lam.html?utm_source=job_list&utm_medium=&utm_term=&utm_campaign=&page=187 -> Error\n",
      "https://jobsgo.vn/viec-lam.html?utm_source=job_list&utm_medium=&utm_term=&utm_campaign=&page=188 -> Error\n",
      "https://jobsgo.vn/viec-lam.html?utm_source=job_list&utm_medium=&utm_term=&utm_campaign=&page=189 -> Error\n",
      "https://jobsgo.vn/viec-lam.html?utm_source=job_list&utm_medium=&utm_term=&utm_campaign=&page=190 -> Error\n",
      "https://jobsgo.vn/viec-lam.html?utm_source=job_list&utm_medium=&utm_term=&utm_campaign=&page=191 -> Error\n",
      "https://jobsgo.vn/viec-lam.html?utm_source=job_list&utm_medium=&utm_term=&utm_campaign=&page=192 -> Error\n",
      "https://jobsgo.vn/viec-lam.html?utm_source=job_list&utm_medium=&utm_term=&utm_campaign=&page=193 -> Error\n",
      "https://jobsgo.vn/viec-lam.html?utm_source=job_list&utm_medium=&utm_term=&utm_campaign=&page=194 -> Error\n",
      "https://jobsgo.vn/viec-lam.html?utm_source=job_list&utm_medium=&utm_term=&utm_campaign=&page=195 -> Error\n",
      "https://jobsgo.vn/viec-lam.html?utm_source=job_list&utm_medium=&utm_term=&utm_campaign=&page=196 -> Error\n",
      "https://jobsgo.vn/viec-lam.html?utm_source=job_list&utm_medium=&utm_term=&utm_campaign=&page=197 -> Error\n",
      "https://jobsgo.vn/viec-lam.html?utm_source=job_list&utm_medium=&utm_term=&utm_campaign=&page=198 -> Error\n",
      "https://jobsgo.vn/viec-lam.html?utm_source=job_list&utm_medium=&utm_term=&utm_campaign=&page=199 -> Error\n",
      "https://jobsgo.vn/viec-lam.html?utm_source=job_list&utm_medium=&utm_term=&utm_campaign=&page=200 -> Error\n"
     ]
    },
    {
     "name": "stderr",
     "output_type": "stream",
     "text": [
      "\n"
     ]
    }
   ],
   "source": [
    "list_url_job_Jobsgo = []\n",
    "for url_page in tqdm(list_url_page):\n",
    "  try:\n",
    "    list_url_job_Jobsgo.extend(get_url_job_Jobsgo(url_page))\n",
    "  except:\n",
    "    print(f'{url_page} -> Error')"
   ]
  },
  {
   "cell_type": "code",
   "execution_count": 150,
   "metadata": {},
   "outputs": [
    {
     "data": {
      "text/plain": [
       "9944"
      ]
     },
     "execution_count": 150,
     "metadata": {},
     "output_type": "execute_result"
    }
   ],
   "source": [
    "len(list_url_job_Jobsgo)"
   ]
  },
  {
   "cell_type": "code",
   "execution_count": null,
   "metadata": {},
   "outputs": [
    {
     "data": {
      "text/plain": [
       "['https://jobsgo.vn/viec-lam/nhan-vien-tu-van-tra-gop-ha-noi-dong-nai-binh-duong-tp-ho-chi-minh-quang-ngai-tien-giang-19293803624.html?utm_source=job_list',\n",
       " 'https://jobsgo.vn/viec-lam/nhan-vien-telesales-cho-vay-tien-mat-19330222502.html?utm_source=job_list',\n",
       " 'https://jobsgo.vn/viec-lam/nhan-vien-kinh-doanh-sales-cham-soc-khach-hang-luong-cung-upto-12-trieu-thuong-19310247793.html?utm_source=job_list',\n",
       " 'https://jobsgo.vn/viec-lam/ke-toan-tong-hop-di-lam-ngay-chi-chap-nhan-ung-vien-co-kinh-nghiem-nganh-du-lich-19310370004.html?utm_source=job_list',\n",
       " 'https://jobsgo.vn/viec-lam/ke-toan-ban-hang-19354461017.html?utm_source=job_list',\n",
       " 'https://jobsgo.vn/viec-lam/chuyen-vien-cham-soc-khach-hang-19245924070.html?utm_source=job_list',\n",
       " 'https://jobsgo.vn/viec-lam/hcm-chuyen-vien-telesale-thu-nhap-tu-10-20tr-nghi-t7-cn-19336550316.html?utm_source=job_list',\n",
       " 'https://jobsgo.vn/viec-lam/hcm-nhan-vien-kinh-doanh-thi-truong-trinh-duoc-vien-thu-nhap-len-den-25-trieu-19139777027.html?utm_source=job_list',\n",
       " 'https://jobsgo.vn/viec-lam/thiet-ke-ui-ux-19303390398.html?utm_source=job_list',\n",
       " 'https://jobsgo.vn/viec-lam/toan-quoc-chuyen-vien-tu-van-thu-nhap-20-30-trieu-di-lam-ngay-19170533462.html?utm_source=job_list',\n",
       " 'https://jobsgo.vn/viec-lam/hcm-truong-phong-kinh-doanh-sale-manager-19283836638.html?utm_source=job_list',\n",
       " 'https://jobsgo.vn/viec-lam/vpbank-hn-chuyen-vien-tu-van-tai-chinh-lien-ket-ngan-hang-vpbank-19061901462.html?utm_source=job_list',\n",
       " 'https://jobsgo.vn/viec-lam/nhan-vien-sale-online-mang-do-gia-dung-lam-viec-tai-van-phong-ha-noi-di-lam-ngay-fulltime-19050562997.html?utm_source=job_list',\n",
       " 'https://jobsgo.vn/viec-lam/ha-noi-chuyen-vien-tu-van-bao-hiem-kenh-hop-tac-ngan-hang-mb-ky-hop-dong-lao-dong-luong-cung-co-dinh-19334486308.html?utm_source=job_list',\n",
       " 'https://jobsgo.vn/viec-lam/truong-phong-kinh-doanh-tai-chinh-bao-hiem-luong-20-trieu-30-trieu-hoa-hong-19210577933.html?utm_source=job_list',\n",
       " 'https://jobsgo.vn/viec-lam/team-leader-tmdt-lcb-10-15tr-hh-cao-19350441633.html?utm_source=job_list',\n",
       " 'https://jobsgo.vn/viec-lam/office-administrator-19354895545.html?utm_source=job_list',\n",
       " 'https://jobsgo.vn/viec-lam/nhan-vien-kinh-doanh-logistic-quoc-te-19033765774.html?utm_source=job_list',\n",
       " 'https://jobsgo.vn/viec-lam/nhan-vien-marketing-san-tmdt-shoppe-facebook-ads-thu-nhap-tu-15-50-trieu-thang-19314525178.html?utm_source=job_list',\n",
       " 'https://jobsgo.vn/viec-lam/da-nang-content-creator-19332571669.html?utm_source=job_list',\n",
       " 'https://jobsgo.vn/viec-lam/dong-nai-nhan-vien-kinh-doanh-thi-truong-b2b-18987013277.html?utm_source=job_list',\n",
       " 'https://jobsgo.vn/viec-lam/nhan-vien-khai-thac-hang-hoa-19317200241.html?utm_source=job_list',\n",
       " 'https://jobsgo.vn/viec-lam/nhan-vien-tu-van-web-marketing-thu-nhap-10-20-trieu-thang-19354420280.html?utm_source=job_list',\n",
       " 'https://jobsgo.vn/viec-lam/nhan-vien-kinh-doanh-luong-cung-7-10m-19344697716.html?utm_source=job_list',\n",
       " 'https://jobsgo.vn/viec-lam/sale-supervisor-18836395009.html?utm_source=job_list',\n",
       " 'https://jobsgo.vn/viec-lam/quan-1-nhan-vien-kinh-doanh-cham-soc-khach-hang-tu-van-tai-chinh-sales-co-luong-co-dinh-thu-nhap-tu-16-45-trieu-18704963868.html?utm_source=job_list',\n",
       " 'https://jobsgo.vn/viec-lam/seabank-chuyen-vien-khach-hang-ca-nhan-19355560916.html?utm_source=job_list',\n",
       " 'https://jobsgo.vn/viec-lam/ho-chi-minh-chuyen-vien-tu-van-bao-hiem-kenh-hop-tac-ngan-hang-mb-ky-hop-dong-lao-dong-luong-cung-co-dinh-19334554203.html?utm_source=job_list',\n",
       " 'https://jobsgo.vn/viec-lam/dong-thap-giao-vien-tieng-anh-fulltime-parttime-18528260341.html?utm_source=job_list',\n",
       " 'https://jobsgo.vn/viec-lam/truong-phong-bao-tri-tieng-nhat-n2-n3-19159643104.html?utm_source=job_list',\n",
       " 'https://jobsgo.vn/viec-lam/tro-ky-kinh-doanh-fulltime-thu-nhap-upto-15m-19221183132.html?utm_source=job_list',\n",
       " 'https://jobsgo.vn/viec-lam/tro-ly-phien-dich-tieng-trung-19273014175.html?utm_source=job_list',\n",
       " 'https://jobsgo.vn/viec-lam/dieu-duong-than-nhan-tao-19221427554.html?utm_source=job_list',\n",
       " 'https://jobsgo.vn/viec-lam/nhan-vien-can-bo-ky-thuat-phong-du-an-19252143252.html?utm_source=job_list',\n",
       " 'https://jobsgo.vn/viec-lam/nhan-vien-kinh-doanh-bat-dong-san-thu-nhap-tu-20-trieu-19274507865.html?utm_source=job_list',\n",
       " 'https://jobsgo.vn/viec-lam/cham-soc-khach-hang-biet-tieng-trung-19263115084.html?utm_source=job_list',\n",
       " 'https://jobsgo.vn/viec-lam/chuyen-vien-ke-toan-thue-19314688126.html?utm_source=job_list',\n",
       " 'https://jobsgo.vn/viec-lam/chuyen-vien-kinh-doanh-tu-van-tai-chinh-thu-nhap-tu-18-trieu-19319209933.html?utm_source=job_list',\n",
       " 'https://jobsgo.vn/viec-lam/chu-quan-qc-18629437470.html?utm_source=job_list',\n",
       " 'https://jobsgo.vn/viec-lam/nhan-vien-kinh-doanh-b2b-business-development-executive-lcb-7-12-trieu-18808558059.html?utm_source=job_list',\n",
       " 'https://jobsgo.vn/viec-lam/quan-cau-giay-hn-nhan-vien-kinh-doanh-cham-soc-khach-hang-tinh-dau-nuoc-hoa-hoa-my-pham-19019534982.html?utm_source=job_list',\n",
       " 'https://jobsgo.vn/viec-lam/chuyen-vien-xu-ly-no-the-chap-tien-giang-ha-noi-thai-binh-ben-tre-binh-duong-long-an-19224333460.html?utm_source=job_list',\n",
       " 'https://jobsgo.vn/viec-lam/chuyen-vien-quan-ly-no-tai-hien-truong-ha-noi-dong-thap-phu-tho-hai-phong-kien-giang-dong-nai-tien-giang-quang-tri-binh-dinh-quang-ngai-19224727251.html?utm_source=job_list',\n",
       " 'https://jobsgo.vn/viec-lam/nhan-vien-call-center-tong-dai-vien-ban-hang-telesales-data-tiem-nang-thu-nhap-tu-15tr-25tr-19233662233.html?utm_source=job_list',\n",
       " 'https://jobsgo.vn/viec-lam/ke-toan-tong-hop-19171701256.html?utm_source=job_list',\n",
       " 'https://jobsgo.vn/viec-lam/nhan-vien-kinh-doanh-thi-truong-lc-8tr-thu-nhap-tb-12-17tr-19283374952.html?utm_source=job_list',\n",
       " 'https://jobsgo.vn/viec-lam/nhan-vien-tu-dong-hoa-nganh-ep-nhua-19297809429.html?utm_source=job_list',\n",
       " 'https://jobsgo.vn/viec-lam/beauty-trainer-lush-19302833659.html?utm_source=job_list',\n",
       " 'https://jobsgo.vn/viec-lam/quang-ninh-ky-thuat-may-19304870509.html?utm_source=job_list',\n",
       " 'https://jobsgo.vn/viec-lam/nhan-vien-thiet-ke-noi-that-19316507712.html?utm_source=job_list',\n",
       " 'https://jobsgo.vn/viec-lam/ke-toan-noi-bo-nu-lam-viec-quan-12-19318286561.html?utm_source=job_list',\n",
       " 'https://jobsgo.vn/viec-lam/quan-1-ho-chi-minh-nhan-vien-marketing-kiem-sale-19348296151.html?utm_source=job_list',\n",
       " 'https://jobsgo.vn/viec-lam/ky-su-qs-du-toan-xay-dung-noi-that-quan-10-19352668589.html?utm_source=job_list',\n",
       " 'https://jobsgo.vn/viec-lam/hn-ke-toan-thanh-toan-ngan-hang-tai-hoang-mai-19332734617.html?utm_source=job_list',\n",
       " 'https://jobsgo.vn/viec-lam/nhan-vien-kinh-doanh-thi-truong-thu-nhap-15-20tr-19333915990.html?utm_source=job_list',\n",
       " 'https://jobsgo.vn/viec-lam/game-producer-thu-nhap-40tr-75tr-19322523209.html?utm_source=job_list',\n",
       " 'https://jobsgo.vn/viec-lam/ke-toan-noi-bo-18913985415.html?utm_source=job_list',\n",
       " 'https://jobsgo.vn/viec-lam/nhan-vien-kinh-doanh-duoc-pham-otc-etc-thu-nhap-len-den-18-trieu-19128642247.html?utm_source=job_list',\n",
       " 'https://jobsgo.vn/viec-lam/kien-truc-su-thiet-ke-y-tuong-cac-bieu-tuong-trang-tri-19164205648.html?utm_source=job_list',\n",
       " 'https://jobsgo.vn/viec-lam/chuyen-vien-phan-tich-thong-ke-19246874600.html?utm_source=job_list',\n",
       " 'https://jobsgo.vn/viec-lam/nhan-vien-tu-van-tai-chinh-du-an-mcredit-thu-nhap-tu-10tr-thang-19304259454.html?utm_source=job_list',\n",
       " 'https://jobsgo.vn/viec-lam/nhan-vien-kinh-doanh-hang-hang-khong-all-nippon-airways-19313846228.html?utm_source=job_list',\n",
       " 'https://jobsgo.vn/viec-lam/nhan-vien-hanh-chinh-nhan-su-19315855920.html?utm_source=job_list',\n",
       " 'https://jobsgo.vn/viec-lam/nhan-vien-kinh-doanh-tu-van-ban-hang-noi-that-19316602765.html?utm_source=job_list',\n",
       " 'https://jobsgo.vn/viec-lam/tro-ly-phien-bien-dich-tieng-trung-khong-yeu-cau-kinh-nghiem-19319006248.html?utm_source=job_list',\n",
       " 'https://jobsgo.vn/viec-lam/nhan-vien-telesale-tai-chinh-thu-viec-full-luong-khong-yeu-cau-kinh-nghiem-19352885853.html?utm_source=job_list',\n",
       " 'https://jobsgo.vn/viec-lam/quan-ly-san-xuat-19355778180.html?utm_source=job_list',\n",
       " 'https://jobsgo.vn/viec-lam/nhan-vien-video-editor-19359811143.html?utm_source=job_list',\n",
       " 'https://jobsgo.vn/viec-lam/ha-noi-nhan-vien-le-tan-chi-tuyen-nu-19328810286.html?utm_source=job_list',\n",
       " 'https://jobsgo.vn/viec-lam/nhan-vien-xuat-nhap-khau-thu-nhap-8-20m-19332082825.html?utm_source=job_list',\n",
       " 'https://jobsgo.vn/viec-lam/thu-ngan-kiem-cham-soc-khach-hang-18588754786.html?utm_source=job_list',\n",
       " 'https://jobsgo.vn/viec-lam/senior-account-executive-18784930599.html?utm_source=job_list',\n",
       " 'https://jobsgo.vn/viec-lam/thuc-tap-sinh-khach-san-tai-bulgaria-co-co-hoi-dinh-cu-chau-au-gia-re-nhat-2024-2025-18861000157.html?utm_source=job_list',\n",
       " 'https://jobsgo.vn/viec-lam/ho-chi-minh-nhan-vien-ban-hang-19134997219.html?utm_source=job_list',\n",
       " 'https://jobsgo.vn/viec-lam/giam-sat-cong-trinh-19286878334.html?utm_source=job_list',\n",
       " 'https://jobsgo.vn/viec-lam/ky-su-xay-dung-lam-viec-tai-nhat-ban-19314430125.html?utm_source=job_list',\n",
       " 'https://jobsgo.vn/viec-lam/ky-thuat-noi-nghiep-chuyen-ho-so-thu-nhap-upto-20m-19344656979.html?utm_source=job_list',\n",
       " 'https://jobsgo.vn/viec-lam/hcm-truong-nhom-kinh-doanh-thu-nhap-trung-binh-40000000d-18858189304.html?utm_source=job_list',\n",
       " 'https://jobsgo.vn/viec-lam/truong-bo-phan-thu-hoi-no-hien-truong-can-tho-vung-tau-19224048301.html?utm_source=job_list',\n",
       " 'https://jobsgo.vn/viec-lam/tro-ly-phien-dich-tieng-trung-19237790249.html?utm_source=job_list',\n",
       " 'https://jobsgo.vn/viec-lam/mien-tay-nhan-vien-kinh-doanh-thi-truong-thu-nhap-len-den-35tr-19302629974.html?utm_source=job_list',\n",
       " 'https://jobsgo.vn/viec-lam/nhan-vien-nam-dong-goi-hang-hoa-kdol-tai-ha-noi-parttime-fulltime-19310981059.html?utm_source=job_list',\n",
       " 'https://jobsgo.vn/viec-lam/chuyen-vien-marketing-tuyen-sinh-19336754001.html?utm_source=job_list',\n",
       " 'https://jobsgo.vn/viec-lam/ky-thuat-thi-cong-hien-truong-thu-nhap-upto-22m-19344684137.html?utm_source=job_list',\n",
       " 'https://jobsgo.vn/viec-lam/nhan-vien-kinh-doanh-nganh-duoc-pham-thu-nhap-tu-9tr-20tr-thang-19332788933.html?utm_source=job_list',\n",
       " 'https://jobsgo.vn/viec-lam/truong-phong-kinh-doanh-19185008676.html?utm_source=job_list',\n",
       " 'https://jobsgo.vn/viec-lam/nhan-vien-ky-thuat-spa-massage-19305060615.html?utm_source=job_list',\n",
       " 'https://jobsgo.vn/viec-lam/nhan-vien-kinh-doanh-bds-luong-cb-6-12tr-thuong-nong-tu-30tr-50tr-19323989741.html?utm_source=job_list',\n",
       " 'https://jobsgo.vn/viec-lam/long-bienhn-nhan-vien-kinh-doanh-luong-cung-12-15-trieu-thang-nam-nu-19233499285.html?utm_source=job_list',\n",
       " 'https://jobsgo.vn/viec-lam/giam-sat-ky-thuat-kinh-nghiem-son-nuoc-thach-cao-chong-chay-19235536135.html?utm_source=job_list',\n",
       " 'https://jobsgo.vn/viec-lam/bien-phien-dich-tieng-nhat-duoc-dao-tao-tro-thanh-designer-19294346784.html?utm_source=job_list',\n",
       " 'https://jobsgo.vn/viec-lam/nhan-vien-bao-tri-dien-co-khi-19315869499.html?utm_source=job_list',\n",
       " 'https://jobsgo.vn/viec-lam/nhan-vien-kinh-doanh-tai-ba-ria-vung-tau-luong-cung-15m-19363491052.html?utm_source=job_list',\n",
       " 'https://jobsgo.vn/viec-lam/nhan-vien-ke-toan-nhan-viec-ngay-19322821947.html?utm_source=job_list',\n",
       " 'https://jobsgo.vn/viec-lam/giam-doc-nghiep-vu-18470658223.html?utm_source=job_list',\n",
       " 'https://jobsgo.vn/viec-lam/nhan-vien-tu-van-ban-hang-luong-cung-7tr-thu-nhap-up-to-30tr-hh-den-60-18982070521.html?utm_source=job_list',\n",
       " 'https://jobsgo.vn/viec-lam/nhan-vien-van-hanh-may-khoan-cnc-luong-7-18-tr-19034947147.html?utm_source=job_list',\n",
       " 'https://jobsgo.vn/viec-lam/chuyen-vien-kinh-doanh-thu-nhap-trung-binh-20-50tr-thang-ho-tro-chi-phi-mkt-len-toi-100-19207875712.html?utm_source=job_list',\n",
       " 'https://jobsgo.vn/viec-lam/quan-ly-kinh-doanh-linh-vuc-my-pham-19241361526.html?utm_source=job_list',\n",
       " 'https://jobsgo.vn/viec-lam/ky-su-kinh-te-nganh-co-khi-xay-dung-thu-nhap-15-18tr-thang-18985940536.html?utm_source=job_list',\n",
       " 'https://jobsgo.vn/viec-lam/nhan-vien-thiet-ke-khuon-ep-nhua-19080178796.html?utm_source=job_list',\n",
       " 'https://jobsgo.vn/viec-lam/nhan-vien-marketing-tieng-anh-giao-tiep-luong-cung-10-18-trieu-hoa-hong-thuong-19171932099.html?utm_source=job_list',\n",
       " 'https://jobsgo.vn/viec-lam/nhan-vien-kinh-doanh-bat-dong-san-19294251731.html?utm_source=job_list',\n",
       " 'https://jobsgo.vn/viec-lam/nhan-vien-marketing-lam-viec-tai-lam-dong-19132838158.html?utm_source=job_list',\n",
       " 'https://jobsgo.vn/viec-lam/truong-nhom-marketing-nu-thu-nhap-15-20tr-19238632147.html?utm_source=job_list',\n",
       " 'https://jobsgo.vn/viec-lam/chuyen-vien-xu-ly-no-thu-nhap-upto-40-trieu-19248653449.html?utm_source=job_list',\n",
       " 'https://jobsgo.vn/viec-lam/nhan-vien-sale-kinh-doanh-nam-luong-co-ban-12m-15m-tro-len-thuong-19203000851.html?utm_source=job_list',\n",
       " 'https://jobsgo.vn/viec-lam/chuyen-vien-kinh-doanh-19124595705.html?utm_source=job_list',\n",
       " 'https://jobsgo.vn/viec-lam/chuyen-vien-marketing-19360666620.html?utm_source=job_list',\n",
       " 'https://jobsgo.vn/viec-lam/tai-xe-giao-hang-xe-may-19341221492.html?utm_source=job_list',\n",
       " 'https://jobsgo.vn/viec-lam/nhan-vien-seo-google-chuyen-sau-co-kinh-nghiem-tu-2-nam-tro-len-19077109942.html?utm_source=job_list',\n",
       " 'https://jobsgo.vn/viec-lam/ky-su-xay-dung-dan-dung-nhan-viec-ngay-19240601102.html?utm_source=job_list',\n",
       " 'https://jobsgo.vn/viec-lam/truong-nhom-it-it-team-leader-tu-son-bac-ninh-19285724119.html?utm_source=job_list',\n",
       " 'https://jobsgo.vn/viec-lam/nhan-vien-ban-hang-ky-thuat-cong-cu-cat-got-kim-loai-thiet-bi-co-khi-19263848350.html?utm_source=job_list',\n",
       " 'https://jobsgo.vn/viec-lam/chuyen-vien-tu-van-bao-hiem-thu-nhap-tren-20-tr-di-lam-ngay-19043610549.html?utm_source=job_list',\n",
       " 'https://jobsgo.vn/viec-lam/chuyen-vien-dang-ky-san-pham-19219988180.html?utm_source=job_list',\n",
       " 'https://jobsgo.vn/viec-lam/tro-ly-tong-giam-doc-18954070623.html?utm_source=job_list',\n",
       " 'https://jobsgo.vn/viec-lam/quan-ly-kinh-doanh-thu-nhap-tu-15-trieu-khong-y-c-kinh-nghiem-19020091721.html?utm_source=job_list',\n",
       " 'https://jobsgo.vn/viec-lam/nhan-vien-kinh-doanh-bao-bi-nhua-plastic-yeu-cau-kinh-nghiem-19026147955.html?utm_source=job_list',\n",
       " 'https://jobsgo.vn/viec-lam/thu-ki-bo-phan-kho-cu-chi-19026473851.html?utm_source=job_list',\n",
       " 'https://jobsgo.vn/viec-lam/nhan-vien-thi-truong-thuoc-bao-ve-thuc-vat-va-phan-bon-kv-tay-nguyen-va-mien-dong-19070334021.html?utm_source=job_list',\n",
       " 'https://jobsgo.vn/viec-lam/marketing-executive-tai-da-nang-di-lam-ngay-19073769508.html?utm_source=job_list',\n",
       " 'https://jobsgo.vn/viec-lam/long-an-nhan-vien-qc-kiem-soat-chat-luong-san-pham-19075629831.html?utm_source=job_list',\n",
       " 'https://jobsgo.vn/viec-lam/me-technician-ky-thuat-vien-bao-tri-work-at-cu-chi-19139016603.html?utm_source=job_list',\n",
       " 'https://jobsgo.vn/viec-lam/tan-binh-nhan-vientelesales-thu-nhap-8-20-trieu-19158448152.html?utm_source=job_list',\n",
       " 'https://jobsgo.vn/viec-lam/an-nhon-binh-dinh-ke-toan-truong-19264065614.html?utm_source=job_list',\n",
       " 'https://jobsgo.vn/viec-lam/sales-logistics-forwarding-18987542858.html?utm_source=job_list',\n",
       " 'https://jobsgo.vn/viec-lam/nhan-vien-tu-van-kinh-doanh-khach-hang-cao-cap-ho-tro-ipad-luong-tu-12-18-trieu-hoa-hong-19114465771.html?utm_source=job_list',\n",
       " 'https://jobsgo.vn/viec-lam/nhan-vien-telesales-kenh-topup-xsell-the-tin-dung-ho-tro-100-data-19115877987.html?utm_source=job_list',\n",
       " 'https://jobsgo.vn/viec-lam/q7--tp-hcm-truong-phong-chartering-quan-ly-khai-thac-tau-bien-tuyen-noi-dia-19281324523.html?utm_source=job_list',\n",
       " 'https://jobsgo.vn/viec-lam/kiem-soat-noi-bo-tong-cong-ty-19264364352.html?utm_source=job_list',\n",
       " 'https://jobsgo.vn/viec-lam/chuyen-vien-quan-ly-du-an-thu-nhap-18-25tr-19350061421.html?utm_source=job_list',\n",
       " 'https://jobsgo.vn/viec-lam/nhan-vien-tu-van-tai-chinh-bao-hiem-thoi-gian-linh-dong-18537086691.html?utm_source=job_list',\n",
       " 'https://jobsgo.vn/viec-lam/nhan-vien-kinh-doanh-18998854165.html?utm_source=job_list',\n",
       " 'https://jobsgo.vn/viec-lam/nhan-vien-kinh-doanh-ha-noi-thu-nhap-1000-usd-3000-usd-19113148608.html?utm_source=job_list',\n",
       " 'https://jobsgo.vn/viec-lam/senior-sales-staff-b2b-basic-30mil-3-5-years-experience-19155270666.html?utm_source=job_list',\n",
       " 'https://jobsgo.vn/viec-lam/nhan-vien-kinh-doanh-thi-truong-tphcm-kenh-ka-gt-19243262586.html?utm_source=job_list',\n",
       " 'https://jobsgo.vn/viec-lam/truong-phong-kinh-doanh-18976462394.html?utm_source=job_list',\n",
       " 'https://jobsgo.vn/viec-lam/bac-si-phuc-hoi-chuc-nang-vltl-co-huu-18995581626.html?utm_source=job_list',\n",
       " 'https://jobsgo.vn/viec-lam/ke-toan-tong-hop-di-lam-ngay-19110134070.html?utm_source=job_list',\n",
       " 'https://jobsgo.vn/viec-lam/quan-ly-kinh-doanh-branch-manager-thu-nhap-20-30-trieu-hoa-hong-19158977733.html?utm_source=job_list',\n",
       " 'https://jobsgo.vn/viec-lam/quan-ly-kinh-doanh-aff-18650702184.html?utm_source=job_list',\n",
       " 'https://jobsgo.vn/viec-lam/quan-ly-doi-xe-dieu-phoi-van-tai-18782499958.html?utm_source=job_list',\n",
       " 'https://jobsgo.vn/viec-lam/bac-ninh-truong-phong-marketing-19103887730.html?utm_source=job_list',\n",
       " 'https://jobsgo.vn/viec-lam/nhan-vien-cham-soc-khach-hang-customer-support-tai-thai-nguyen-thu-nhap-hap-dan-di-lam-ngay-19263318769.html?utm_source=job_list',\n",
       " 'https://jobsgo.vn/viec-lam/chuyen-vien-tu-van-moi-truong-nhan-viec-ngay-19091720946.html?utm_source=job_list',\n",
       " 'https://jobsgo.vn/viec-lam/nhan-vien-ban-hang-nha-phan-phoi-unilever-19215833006.html?utm_source=job_list',\n",
       " 'https://jobsgo.vn/viec-lam/nhan-vien-thiet-ke-di-lam-ngay-18218251771.html?utm_source=job_list',\n",
       " 'https://jobsgo.vn/viec-lam/nhan-vien-bep-nhiet-chao-thu-nhap-up-to-20tr-thang-18818294202.html?utm_source=job_list',\n",
       " 'https://jobsgo.vn/viec-lam/nhan-vien-kinh-doanh-bds-luong-cung-75-85-khong-yeu-cau-kinh-nghiem-19162847748.html?utm_source=job_list',\n",
       " 'https://jobsgo.vn/viec-lam/nhan-vien-kinh-doanh-tu-van-bat-dong-san-ho-tro-data-tiem-nang-thu-nhap-15-50-trieu-19208785505.html?utm_source=job_list',\n",
       " 'https://jobsgo.vn/viec-lam/giam-sat-du-an-19315367076.html?utm_source=job_list',\n",
       " 'https://jobsgo.vn/viec-lam/nhan-vien-kinh-doanh-b2b-mang-hoa-chat-son-cong-nghiep-ha-noi-mien-bac-19020594144.html?utm_source=job_list',\n",
       " 'https://jobsgo.vn/viec-lam/nhan-vien-tu-van-cham-soc-khach-hang-luong-14-17-trieu-hoa-hong-19007666936.html?utm_source=job_list',\n",
       " 'https://jobsgo.vn/viec-lam/nhan-vien-kinh-doanh-luong-cung-9-13tr-thu-viec-18728441959.html?utm_source=job_list',\n",
       " 'https://jobsgo.vn/viec-lam/quan-ly-nha-hang-restaurant-management-19348649205.html?utm_source=job_list',\n",
       " 'https://jobsgo.vn/viec-lam/vinwonders-nha-trang-truong-bo-phan-cham-soc-dong-vat-19149160116.html?utm_source=job_list',\n",
       " 'https://jobsgo.vn/viec-lam/hcm-chuyen-vien-tu-van-bao-hiem-thu-15-40tr-19235780557.html?utm_source=job_list',\n",
       " 'https://jobsgo.vn/viec-lam/nhan-vien-kinh-doanh-thu-nhap-15-30tr-19207644869.html?utm_source=job_list',\n",
       " 'https://jobsgo.vn/viec-lam/hcm-binh-tan-tro-ly-giam-doc-biet-tieng-trung-luong-15m-thang-19216878589.html?utm_source=job_list',\n",
       " 'https://jobsgo.vn/viec-lam/ke-toan-thue-tong-hop-19282926845.html?utm_source=job_list',\n",
       " 'https://jobsgo.vn/viec-lam/quan-7-nam-sales-engineer-kinh-doanh-ky-thuat-thu-nhap-20-30tr-19295188682.html?utm_source=job_list',\n",
       " 'https://jobsgo.vn/viec-lam/nhan-vien-kinh-doanh-tu-van-cham-soc-khach-hang-bds-luong-cung-den-12-trieu-hoa-hong-thuong-nong-19304395244.html?utm_source=job_list',\n",
       " 'https://jobsgo.vn/viec-lam/ky-su-co-khi-thiet-ke-khuon-ga-18963005605.html?utm_source=job_list',\n",
       " 'https://jobsgo.vn/viec-lam/nhan-vien-content-youtube-content-marketing-19194283133.html?utm_source=job_list',\n",
       " 'https://jobsgo.vn/viec-lam/chuyen-vien-kinh-doanh-tu-van-tai-chinh-bao-hiem-19304164401.html?utm_source=job_list',\n",
       " 'https://jobsgo.vn/viec-lam/nhan-vien-bartender-pha-che-cafetra-18977358608.html?utm_source=job_list',\n",
       " 'https://jobsgo.vn/viec-lam/vung-tau-nhan-vien-thiet-ke-designer-19034023775.html?utm_source=job_list',\n",
       " 'https://jobsgo.vn/viec-lam/nhan-vien-do-luong-hieu-chuan-19139057340.html?utm_source=job_list',\n",
       " 'https://jobsgo.vn/viec-lam/quan-1-hcm-chuyen-vien-tu-van-tai-chinh-luong-cung-tu-12tr-20tr-19145385154.html?utm_source=job_list',\n",
       " 'https://jobsgo.vn/viec-lam/chuyen-vien-dao-tao-linh-vuc-my-pham-thuc-pham-chuc-nang-di-lam-ngay-19163160065.html?utm_source=job_list',\n",
       " 'https://jobsgo.vn/viec-lam/nhan-vien-kinh-doanh-tu-van-tin-dung-di-lam-ngay-19234626342.html?utm_source=job_list',\n",
       " 'https://jobsgo.vn/viec-lam/ho-chi-minh-nhan-vien-ban-hang-luong-upto-8-trieu-19235929926.html?utm_source=job_list',\n",
       " 'https://jobsgo.vn/viec-lam/nhan-vien-kinh-doanh-tu-van-tin-dung-van-phong-smbc-19199076520.html?utm_source=job_list',\n",
       " 'https://jobsgo.vn/viec-lam/nhan-vien-kinh-doanh-thu-nhap-15-20-trieu-khong-yc-kinh-nghiem-19199117257.html?utm_source=job_list',\n",
       " 'https://jobsgo.vn/viec-lam/nhan-vien-kinh-doanh-tu-van-tai-ky-tai-chinh-di-lam-ngay-thu-nhap-tren-15tr-19209274349.html?utm_source=job_list',\n",
       " 'https://jobsgo.vn/viec-lam/nhan-vien-ky-thuat-co-dien-19210795197.html?utm_source=job_list',\n",
       " 'https://jobsgo.vn/viec-lam/thu-duc-ke-toan-truong-luong-tu-18tr-25tr-19217774803.html?utm_source=job_list',\n",
       " 'https://jobsgo.vn/viec-lam/le-tan-kiem-thu-ngan-cung-he-thong-spa-khiem-thi-tam-dac-19242162687.html?utm_source=job_list',\n",
       " 'https://jobsgo.vn/viec-lam/nhan-vien-kinh-doanh-luong-cung-tu-10m-thu-nhap-khong-gioi-han-19247349865.html?utm_source=job_list',\n",
       " 'https://jobsgo.vn/viec-lam/nhan-vien-tu-van-cham-soc-khach-hang-thu-nhap-8-11-trieu-19289050974.html?utm_source=job_list',\n",
       " 'https://jobsgo.vn/viec-lam/nhan-vien-kinh-doanh-nam-khong-can-kinh-nghiem-19337365056.html?utm_source=job_list',\n",
       " 'https://jobsgo.vn/viec-lam/nhan-vien-ban-hang-fmcg-toan-quoc-thu-nhap-tu-10-trieu-19332530932.html?utm_source=job_list',\n",
       " 'https://jobsgo.vn/viec-lam/chi-huy-truong-19157646991.html?utm_source=job_list',\n",
       " 'https://jobsgo.vn/viec-lam/nhan-vien-kinh-doanh-luong-cung-tu-9-20trieu-hoa-hong-khong-gioi-han-19158380257.html?utm_source=job_list',\n",
       " 'https://jobsgo.vn/viec-lam/overseas-educational-consultant-chuyen-vien-tu-van-du-hoc-luong-tu-13-20-trieu-thuong-19238197619.html?utm_source=job_list',\n",
       " 'https://jobsgo.vn/viec-lam/vinpearl-resort-golf-nam-hoi-an-guest-ambassador-dai-su-trai-nghiem-dich-vu-khach-hang-19204236540.html?utm_source=job_list',\n",
       " 'https://jobsgo.vn/viec-lam/nhan-vien-quay-dung-video-editor-mang-trang-suc-19216226797.html?utm_source=job_list',\n",
       " 'https://jobsgo.vn/viec-lam/tong-giam-sat-kinh-doanh-19243330481.html?utm_source=job_list',\n",
       " 'https://jobsgo.vn/viec-lam/bag-order-staff-nhan-vien-theo-doi-don-hang-linh-vuc-tui-19285900646.html?utm_source=job_list',\n",
       " 'https://jobsgo.vn/viec-lam/chuyen-vien-tu-van-khach-hang-khong-yeu-cau-kinh-nghiem-thu-nhap-den-20tr-19287828864.html?utm_source=job_list',\n",
       " 'https://jobsgo.vn/viec-lam/quan-3-quan-1-nhan-vien-phuc-vu-part-time-full-time-19296288581.html?utm_source=job_list',\n",
       " 'https://jobsgo.vn/viec-lam/nhan-vien-bao-gia-19267175205.html?utm_source=job_list',\n",
       " 'https://jobsgo.vn/viec-lam/nhan-vien-it-phan-mem-lcb-20-30tr-19307871468.html?utm_source=job_list',\n",
       " 'https://jobsgo.vn/viec-lam/thuc-tap-sinh-bao-tri-19358086610.html?utm_source=job_list',\n",
       " 'https://jobsgo.vn/viec-lam/chuyen-vien-tu-van-co-tu-6-thang-kinh-nghiem-trong-nganh-tai-chinh-19325143956.html?utm_source=job_list',\n",
       " 'https://jobsgo.vn/viec-lam/chuyen-vien-cap-cao-phat-trien-kinh-doanh-contract-logistics-b2b-19058683239.html?utm_source=job_list',\n",
       " 'https://jobsgo.vn/viec-lam/vinpearl-golf-hai-phong-vu-yen-hai-phong-quan-ly-dao-tao-19132987527.html?utm_source=job_list',\n",
       " 'https://jobsgo.vn/viec-lam/ha-noi-nhan-vien-ban-hang-thiet-bi-gia-dung-tai-showroom-19135241641.html?utm_source=job_list',\n",
       " 'https://jobsgo.vn/viec-lam/ke-toan-tong-hop-19139138814.html?utm_source=job_list',\n",
       " 'https://jobsgo.vn/viec-lam/cong-nhan-san-xuat-mai-sua-nguoi-san-pham-co-khi-19237966776.html?utm_source=job_list',\n",
       " 'https://jobsgo.vn/viec-lam/chuyen-vien-kinh-doanh-quoc-te-logistics-overseas-sales-19184832149.html?utm_source=job_list',\n",
       " 'https://jobsgo.vn/viec-lam/dong-nai-nhan-vien-kinh-doanh-xang-dau-thu-nhap-15-20trieu-thang-19186583840.html?utm_source=job_list',\n",
       " 'https://jobsgo.vn/viec-lam/nhan-vien-ke-toan-cong-no-di-lam-ngay-19246820284.html?utm_source=job_list',\n",
       " 'https://jobsgo.vn/viec-lam/nhan-vien-kiem-soat-noi-bo-19273869652.html?utm_source=job_list',\n",
       " 'https://jobsgo.vn/viec-lam/junior-middle-android-developer-kotlin-java-19306499989.html?utm_source=job_list',\n",
       " 'https://jobsgo.vn/viec-lam/chuyen-vien-tu-van-khach-hang-thu-nhap-tu-15tr-thang-19360612304.html?utm_source=job_list',\n",
       " 'https://jobsgo.vn/viec-lam/tro-ly-giam-doc-biet-tieng-anh-19225188937.html?utm_source=job_list',\n",
       " 'https://jobsgo.vn/viec-lam/nhan-vien-van-hanh-19243493429.html?utm_source=job_list',\n",
       " 'https://jobsgo.vn/viec-lam/ke-toan-noi-bo-di-lam-ngay-19246453651.html?utm_source=job_list',\n",
       " 'https://jobsgo.vn/viec-lam/quan-ly-kinh-doanh-sale-manager-19250337245.html?utm_source=job_list',\n",
       " 'https://jobsgo.vn/viec-lam/nhan-vien-ban-hang-showroom-full-time-19305440827.html?utm_source=job_list',\n",
       " 'https://jobsgo.vn/viec-lam/nhan-vien-phat-trien-thi-truong-mien-trung-tay-nguyen-19313628964.html?utm_source=job_list',\n",
       " 'https://jobsgo.vn/viec-lam/ha-noi-giam-sat-cua-hang-19314036334.html?utm_source=job_list',\n",
       " 'https://jobsgo.vn/viec-lam/nhan-vien-sale-thiet-bi-y-te-nha-khoa-19239053096.html?utm_source=job_list',\n",
       " 'https://jobsgo.vn/viec-lam/nhan-vien-ban-hang-thoi-trang-pedro-aeon-mall-long-bien-19283252741.html?utm_source=job_list',\n",
       " 'https://jobsgo.vn/viec-lam/sale-admin-19288439919.html?utm_source=job_list',\n",
       " 'https://jobsgo.vn/viec-lam/thuc-tap-sinh-van-hanh-may-19357584187.html?utm_source=job_list',\n",
       " 'https://jobsgo.vn/viec-lam/chuyen-vien-kinh-doanh-dich-vu-chuyen-phat-nhanh-dong-nai-19329000392.html?utm_source=job_list',\n",
       " 'https://jobsgo.vn/viec-lam/ke-toan-tong-hop-thu-nhap-12-15m-thang-19139641237.html?utm_source=job_list',\n",
       " 'https://jobsgo.vn/viec-lam/quan-ly-nha-hang-19221074500.html?utm_source=job_list',\n",
       " 'https://jobsgo.vn/viec-lam/nhan-vien-cham-soc-khach-hang-19284732852.html?utm_source=job_list',\n",
       " 'https://jobsgo.vn/viec-lam/nhan-vien-tu-van-the-hoi-vien-thu-nhap-trung-binh-10-25-trieu-19339184642.html?utm_source=job_list',\n",
       " 'https://jobsgo.vn/viec-lam/nhan-vien-ke-hoach-san-xuat-19322849105.html?utm_source=job_list',\n",
       " 'https://jobsgo.vn/viec-lam/chuyen-vien-kinh-doanh-tu-van-tai-chinh-bao-hiem-19294645522.html?utm_source=job_list',\n",
       " 'https://jobsgo.vn/viec-lam/nhan-vien-kinh-doanh-tuy-phuoc-binh-dinh-19265586462.html?utm_source=job_list',\n",
       " 'https://jobsgo.vn/viec-lam/chuyen-vien-kinh-doanh-chuyen-phat-nhanh-logistics-19010029682.html?utm_source=job_list',\n",
       " 'https://jobsgo.vn/viec-lam/sale-tour-inbound-19182849615.html?utm_source=job_list',\n",
       " 'https://jobsgo.vn/viec-lam/chuyen-vien-xuat-nhap-khau-19268723211.html?utm_source=job_list',\n",
       " 'https://jobsgo.vn/viec-lam/quan-binh-tan-hcm-nhan-vien-kinh-doanh-thep-den-19348431941.html?utm_source=job_list',\n",
       " 'https://jobsgo.vn/viec-lam/nhan-vien-kinh-doanh-online-19311252639.html?utm_source=job_list',\n",
       " 'https://jobsgo.vn/viec-lam/ha-noi-nhan-vien-kinh-doanh-thu-nhap-tu-15-20m-19187670160.html?utm_source=job_list',\n",
       " 'https://jobsgo.vn/viec-lam/ke-toan-tong-hop-thu-nhap-22-25tr-19288304129.html?utm_source=job_list',\n",
       " 'https://jobsgo.vn/viec-lam/ky-su-thi-cong-canh-quan-19304938404.html?utm_source=job_list',\n",
       " 'https://jobsgo.vn/viec-lam/nhan-vien-kinh-doanh-nganh-in-an-19344643400.html?utm_source=job_list',\n",
       " 'https://jobsgo.vn/viec-lam/nhan-vien-kinh-doanh-luong-co-ban-tu-10-15-trieu-di-lam-ngay-18806045944.html?utm_source=job_list',\n",
       " 'https://jobsgo.vn/viec-lam/phat-trien-kinh-doanh-khu-vuc-19311768641.html?utm_source=job_list',\n",
       " 'https://jobsgo.vn/viec-lam/nhan-vien-kinh-doanh-thiet-bi-y-te-19360245671.html?utm_source=job_list',\n",
       " 'https://jobsgo.vn/viec-lam/nhan-vien-qc-phong-thi-nghiem-19243602061.html?utm_source=job_list',\n",
       " 'https://jobsgo.vn/viec-lam/ha-noi-truong-phong-nghien-cuu-va-phat-trien-san-pham-tu-dien-cong-nghiep-san-pham-co-khi-thu-nhap-15-20tr-19136273645.html?utm_source=job_list',\n",
       " 'https://jobsgo.vn/viec-lam/ke-toan-noi-bo-19147870111.html?utm_source=job_list',\n",
       " 'https://jobsgo.vn/viec-lam/kien-truc-su-19225202516.html?utm_source=job_list',\n",
       " 'https://jobsgo.vn/viec-lam/ky-su-thiet-ke-pccc-19195858297.html?utm_source=job_list',\n",
       " 'https://jobsgo.vn/viec-lam/e1-chuyen-vien-kiem-duyet-ho-so-khach-hang-doi-tac-nha-mang-vien-thong-viettel-19196523668.html?utm_source=job_list',\n",
       " 'https://jobsgo.vn/viec-lam/h2-customer-service-team-leader-vietjet-air-19286226542.html?utm_source=job_list',\n",
       " 'https://jobsgo.vn/viec-lam/content-marketing-19292662988.html?utm_source=job_list',\n",
       " 'https://jobsgo.vn/viec-lam/binh-duong-chuyen-vien-tu-van-can-ho-luong-co-ban-6tr-19309066420.html?utm_source=job_list',\n",
       " 'https://jobsgo.vn/viec-lam/truong-phong-merchandiser-19313140120.html?utm_source=job_list',\n",
       " 'https://jobsgo.vn/viec-lam/ho-chi-minh-chuyen-vien-tu-van-bao-hiem-kenh-hop-tac-ngan-hang-mb-19314375809.html?utm_source=job_list',\n",
       " 'https://jobsgo.vn/viec-lam/nhan-vien-luu-ky-chung-khoan-19328375758.html?utm_source=job_list',\n",
       " 'https://jobsgo.vn/viec-lam/chuyen-vien-tu-van-chuyen-vien-kinh-doanh-sales-ban-hang-nganh-bao-hiem-thu-nhap-tu-16-trieu-tro-len-ho-chi-minh-19333237040.html?utm_source=job_list',\n",
       " 'https://jobsgo.vn/viec-lam/chuyen-vien-tu-van-nganh-bao-hiem-thu-nhap-tu-16-trieu-tro-len-ho-chi-minh-19333250619.html?utm_source=job_list',\n",
       " 'https://jobsgo.vn/viec-lam/tong-dai-vien-nhac-phi-tre-han-khong-yeu-cau-kinh-nghiem-19232684545.html?utm_source=job_list',\n",
       " 'https://jobsgo.vn/viec-lam/ky-thuat-vien-ky-thuat-chat-luong-19178069807.html?utm_source=job_list',\n",
       " 'https://jobsgo.vn/viec-lam/nhan-vien-kinh-doanh-19219445020.html?utm_source=job_list',\n",
       " 'https://jobsgo.vn/viec-lam/ki-su-thiet-ke-co-khi-di-lam-ngay-19243520587.html?utm_source=job_list',\n",
       " 'https://jobsgo.vn/viec-lam/sourcing-executive-19243778588.html?utm_source=job_list',\n",
       " 'https://jobsgo.vn/viec-lam/nhan-vien-thiet-ke-rap-thu-nhap-12-15-trieu-19292472882.html?utm_source=job_list',\n",
       " 'https://jobsgo.vn/viec-lam/chuyen-vien-nghien-cuu-phat-trien-19294496153.html?utm_source=job_list',\n",
       " 'https://jobsgo.vn/viec-lam/ha-noi-nhan-vien-kho-tong-53-duc-giang-long-bien-19303363240.html?utm_source=job_list',\n",
       " 'https://jobsgo.vn/viec-lam/chuyen-vien-tu-van-bao-hiem-thu-nhap-tren-20-trieu-19332164299.html?utm_source=job_list',\n",
       " 'https://jobsgo.vn/viec-lam/nhan-vien-tu-van-khoa-hoc-19134019531.html?utm_source=job_list',\n",
       " 'https://jobsgo.vn/viec-lam/thua-thien-hue-tro-ly-giam-sat-dich-vu-khach-hang-19141854614.html?utm_source=job_list',\n",
       " 'https://jobsgo.vn/viec-lam/nhan-vien-kinh-doanh-quoc-te-thu-nhap-len-den-25tr-19159398682.html?utm_source=job_list',\n",
       " 'https://jobsgo.vn/viec-lam/chuyen-vien-cham-soc-khach-hang-tai-hcm-luong-tu-12tr-18tr-phu-cap-hoa-hong-thuong-19221943556.html?utm_source=job_list',\n",
       " 'https://jobsgo.vn/viec-lam/nhan-vien-kinh-doanh-thiet-bi-dien-tu-am-thanh-19222038609.html?utm_source=job_list',\n",
       " 'https://jobsgo.vn/viec-lam/nhan-vien-ky-thuat-va-bao-tri-khu-cong-nghiep-binh-minh-vinh-long-19222120083.html?utm_source=job_list',\n",
       " 'https://jobsgo.vn/viec-lam/nhan-vien-qc-ky-su-san-xuat-co-khi-ong-gio-dien-lanh-19232168543.html?utm_source=job_list',\n",
       " 'https://jobsgo.vn/viec-lam/thu-ky-giam-doc-thu-nhap-8-15tr-19233051178.html?utm_source=job_list',\n",
       " 'https://jobsgo.vn/viec-lam/nhan-vien-chuyen-vien-quan-ly-nghiep-vu-tai-san-ky-thuat-19235631188.html?utm_source=job_list',\n",
       " 'https://jobsgo.vn/viec-lam/tro-ly-tong-giam-doc-tieng-trung-nhan-viec-ngay-19171741993.html?utm_source=job_list',\n",
       " 'https://jobsgo.vn/viec-lam/nhan-vien-tu-van-tai-chinh-cham-soc-khach-hang-thu-nhap-tu-12-18-trieu-hoa-hong-19182129928.html?utm_source=job_list',\n",
       " 'https://jobsgo.vn/viec-lam/ky-su-thiet-ke-hvac-19195695349.html?utm_source=job_list',\n",
       " 'https://jobsgo.vn/viec-lam/ky-su-thiet-ke-dien-19197284092.html?utm_source=job_list',\n",
       " 'https://jobsgo.vn/viec-lam/chuyen-vien-kho-phan-loai-19199782628.html?utm_source=job_list',\n",
       " 'https://jobsgo.vn/viec-lam/nhan-vien-ban-hang-tai-sieu-thi-19207006656.html?utm_source=job_list',\n",
       " 'https://jobsgo.vn/viec-lam/thu-ky-kinh-doanh-di-lam-ngay-19207943607.html?utm_source=job_list',\n",
       " 'https://jobsgo.vn/viec-lam/nhan-vien-kinh-doanh-mang-cho-thue-bds-khong-yeu-cau-kinh-nghiem-co-nguoi-huong-dan-den-khi-chot-hop-dong-19219893127.html?utm_source=job_list',\n",
       " 'https://jobsgo.vn/viec-lam/aeon-xuan-thuy-nhan-vien-ky-thuat-19252048199.html?utm_source=job_list',\n",
       " 'https://jobsgo.vn/viec-lam/nhan-vien-sales-tieng-nhat-han-nganh-nghe-hat-nhua-compound-19272145119.html?utm_source=job_list',\n",
       " 'https://jobsgo.vn/viec-lam/bac-ninh-ha-nam-hai-duong-nam-dinh-quang-ninh-thai-binh-nhan-vien-tu-van-tai-chinh-truc-tai-shop-19295881211.html?utm_source=job_list',\n",
       " 'https://jobsgo.vn/viec-lam/production-control-planner-dau-giay-co-xe-dua-ruoc-19296886057.html?utm_source=job_list',\n",
       " 'https://jobsgo.vn/viec-lam/nhan-vien-kinh-doanh-duoc-19297632902.html?utm_source=job_list',\n",
       " 'https://jobsgo.vn/viec-lam/nhan-vien-livestream-tiktok-van-hanh-san-tmdt-khong-can-kinh-nghiem-duoc-dao-tao-19311863694.html?utm_source=job_list',\n",
       " 'https://jobsgo.vn/viec-lam/nhan-vien-tu-van-tra-gop-kv-ben-treca-mausoc-trangtra-vinhvinh-longdong-thap-19311958747.html?utm_source=job_list',\n",
       " 'https://jobsgo.vn/viec-lam/ho-chi-minh-chuyen-vien-tu-van-bao-hiem-kenh-hop-tac-ngan-hang-ocean-bank-19314416546.html?utm_source=job_list',\n",
       " 'https://jobsgo.vn/viec-lam/nhan-vien-lai-xe-nang-19317268136.html?utm_source=job_list',\n",
       " 'https://jobsgo.vn/viec-lam/admin-staff-19318313719.html?utm_source=job_list',\n",
       " 'https://jobsgo.vn/viec-lam/thu-ky-kho-dau-giay-dong-nai-19318463088.html?utm_source=job_list',\n",
       " 'https://jobsgo.vn/viec-lam/ke-toan-tong-hop-19344928559.html?utm_source=job_list',\n",
       " 'https://jobsgo.vn/viec-lam/chuyen-vien-sme-19345634667.html?utm_source=job_list',\n",
       " 'https://jobsgo.vn/viec-lam/nhan-vien-kinh-doanh-khong-yeu-cau-kinh-nghiem-luong-co-ban-14-17-trieu-19347019725.html?utm_source=job_list',\n",
       " 'https://jobsgo.vn/viec-lam/nhan-vien-kinh-doanh-telesale-tu-van-tuyen-sinh-khoa-hoc-data-san-ty-le-chot-cao-thu-viec-100-lcb-lam-viec-tai-thanh-xuan-nam-tu-liem-19359105035.html?utm_source=job_list',\n",
       " 'https://jobsgo.vn/viec-lam/nhan-vien-ban-hang-19360748094.html?utm_source=job_list',\n",
       " 'https://jobsgo.vn/viec-lam/chuyen-vien-an-toan-hse-spx-express-da-nang-binh-duong-19328402916.html?utm_source=job_list',\n",
       " 'https://jobsgo.vn/viec-lam/nhan-vien-giam-sat-va-quan-tri-quy-19328443653.html?utm_source=job_list',\n",
       " 'https://jobsgo.vn/viec-lam/social-media-marketing-excutive-19332340826.html?utm_source=job_list',\n",
       " 'https://jobsgo.vn/viec-lam/mazda-lang-ha-nhan-vien-ky-thuat-son-go-han-o-to-19332476616.html?utm_source=job_list',\n",
       " 'https://jobsgo.vn/viec-lam/da-nang-sales-representative-19332761775.html?utm_source=job_list',\n",
       " 'https://jobsgo.vn/viec-lam/hai-duong-hung-yen-chuyen-vien-tu-van-bao-hiem-kenh-hop-tac-ngan-hang-mb-19334377676.html?utm_source=job_list',\n",
       " 'https://jobsgo.vn/viec-lam/nhan-vien-san-xuat-lao-dong-pho-thong-19128669405.html?utm_source=job_list',\n",
       " 'https://jobsgo.vn/viec-lam/telesale-nganh-tham-my-thu-nhap-up-to-20tr-19128737300.html?utm_source=job_list',\n",
       " 'https://jobsgo.vn/viec-lam/nhan-vien-van-phong-tieng-trung-19128791616.html?utm_source=job_list',\n",
       " 'https://jobsgo.vn/viec-lam/truong-bo-phan-thuc-day-ban-bancassurance-mien-nam-mien-trung-19133720793.html?utm_source=job_list',\n",
       " 'https://jobsgo.vn/viec-lam/quan-7-cham-soc-khach-hang-nu-ca-dem-luong-can-ban-tu-17-trieu-tro-len-19162168798.html?utm_source=job_list',\n",
       " 'https://jobsgo.vn/viec-lam/nhan-vien-kinh-doanh-thu-nhap-10-15-trieu-19234137498.html?utm_source=job_list',\n",
       " 'https://jobsgo.vn/viec-lam/binh-duong-nhan-vien-hanh-chinh-van-phong-mang-logistic-lcb-10tr-den-13tr-bat-buoc-gui-cv-bang-tieng-anh-19174444214.html?utm_source=job_list',\n",
       " 'https://jobsgo.vn/viec-lam/quan-ly-doi-xe-dieu-phoi-van-tai-19197732199.html?utm_source=job_list',\n",
       " 'https://jobsgo.vn/viec-lam/nhan-vien-kinh-doanh-ecom-tmdt-van-chuyen-luong-cung-tu-10tr-hoa-hong-19199225889.html?utm_source=job_list',\n",
       " 'https://jobsgo.vn/viec-lam/nhan-su-cnc-fiber-van-hanh-chan-han-laser-fibe-19199931997.html?utm_source=job_list',\n",
       " 'https://jobsgo.vn/viec-lam/tro-ly-giam-doc-nu-19208812663.html?utm_source=job_list',\n",
       " 'https://jobsgo.vn/viec-lam/ke-toan-kho-lam-viec-gan-ben-xe-quan-8-19298243957.html?utm_source=job_list',\n",
       " 'https://jobsgo.vn/viec-lam/quan-ly-nha-hang-woomaster-19267731944.html?utm_source=job_list',\n",
       " 'https://jobsgo.vn/viec-lam/quan-ly-thiet-ke-thi-cong-noi-that-19303295345.html?utm_source=job_list',\n",
       " 'https://jobsgo.vn/viec-lam/quang-ninh-nhan-vien-kinh-doanh-nganh-may-mac-19304734719.html?utm_source=job_list',\n",
       " 'https://jobsgo.vn/viec-lam/mc-host-live-nhom-dance-tiktok-19306839464.html?utm_source=job_list',\n",
       " 'https://jobsgo.vn/viec-lam/chuyen-vien-khach-hang-ca-nhan-tap-su-19345526035.html?utm_source=job_list',\n",
       " 'https://jobsgo.vn/viec-lam/chuyen-vien-kinh-doanh-19347033304.html?utm_source=job_list',\n",
       " 'https://jobsgo.vn/viec-lam/nhan-vien-bao-tri-co-khi-19350468791.html?utm_source=job_list',\n",
       " 'https://jobsgo.vn/viec-lam/house-keeping-nhan-vien-buong-phong-lam-viec-tren-tau-du-lich-19354148700.html?utm_source=job_list',\n",
       " 'https://jobsgo.vn/viec-lam/ky-su-may-tau-thuy-lam-viec-tai-hcm-vung-tau-19323867530.html?utm_source=job_list',\n",
       " 'https://jobsgo.vn/viec-lam/nhan-vien-kinh-doanh-khong-yeu-cau-kinh-nghiem-duoc-dao-tao-co-luong-cung-ho-tro-marketing-hoa-hong-cao-thu-nhap-len-den-80-trieu-19324763744.html?utm_source=job_list',\n",
       " 'https://jobsgo.vn/viec-lam/nhan-vien-van-hanh-may-phay-cnc-19328172073.html?utm_source=job_list',\n",
       " 'https://jobsgo.vn/viec-lam/nhan-vien-cham-soc-khach-hang-19328294284.html?utm_source=job_list',\n",
       " 'https://jobsgo.vn/viec-lam/upholstery-product-engineer-manager-19332014930.html?utm_source=job_list',\n",
       " 'https://jobsgo.vn/viec-lam/nhan-vien-kinh-doanh-du-lich-19333875253.html?utm_source=job_list',\n",
       " 'https://jobsgo.vn/viec-lam/nhan-vien-kinh-doanh-thi-truong-b2b-19334241886.html?utm_source=job_list',\n",
       " 'https://jobsgo.vn/viec-lam/digital-marketing-specialist-ad-optimization-chi-toi-uu-chien-dich-19334364097.html?utm_source=job_list',\n",
       " 'https://jobsgo.vn/viec-lam/nhan-vien-kho-19335409680.html?utm_source=job_list',\n",
       " 'https://jobsgo.vn/viec-lam/dong-nai-nhan-vien-kinh-doanh-thu-nhap-10-20-trieu-19322781210.html?utm_source=job_list',\n",
       " 'https://jobsgo.vn/viec-lam/nhan-vien-tap-vu-truong-hoc-quoc-te-19071773395.html?utm_source=job_list',\n",
       " 'https://jobsgo.vn/viec-lam/can-bo-ky-thuat-hien-truong-19125383287.html?utm_source=job_list',\n",
       " 'https://jobsgo.vn/viec-lam/nhan-vien-tuyen-dung-19128560773.html?utm_source=job_list',\n",
       " 'https://jobsgo.vn/viec-lam/nhan-vien-tu-van-ban-hang-di-thi-truong-19223464404.html?utm_source=job_list',\n",
       " 'https://jobsgo.vn/viec-lam/hai-phong-ha-noi-nhan-vien-kinh-doanh-xe-tai-thu-nhap-15-30-trieu-19175842851.html?utm_source=job_list',\n",
       " 'https://jobsgo.vn/viec-lam/nhan-vien-tu-van-kinh-doanh-khong-yeu-cau-kinh-nghiem-luong-6-18-trieu-thang-19207821396.html?utm_source=job_list',\n",
       " 'https://jobsgo.vn/viec-lam/tan-binh-nhan-vien-tu-van-tin-dung-qua-dien-thoai-di-lam-ngay-19211080356.html?utm_source=job_list',\n",
       " 'https://jobsgo.vn/viec-lam/nhan-vien-ky-thuat-dien-khong-yeu-cau-kinh-nghiem-19296139212.html?utm_source=job_list',\n",
       " 'https://jobsgo.vn/viec-lam/nhan-vien-sale-admin-nhan-viec-ngay-19303824926.html?utm_source=job_list',\n",
       " 'https://jobsgo.vn/viec-lam/nhan-vien-dat-lich-hen-thu-nhap-trung-binh-10-25-trieu-19339211800.html?utm_source=job_list',\n",
       " 'https://jobsgo.vn/viec-lam/chuyen-vien-khach-hang-ca-nhan-19345498877.html?utm_source=job_list',\n",
       " 'https://jobsgo.vn/viec-lam/nhan-vien-nhan-su-19352383430.html?utm_source=job_list',\n",
       " 'https://jobsgo.vn/viec-lam/chuyen-vien-phe-duyet-tin-dung-19328307863.html?utm_source=job_list',\n",
       " 'https://jobsgo.vn/viec-lam/hcm-nhan-vien-quan-ly-cua-hang-tap-su-store-management-trainee-luong-co-ban-tu-95-trieu-den-115-trieu-19333386409.html?utm_source=job_list',\n",
       " 'https://jobsgo.vn/viec-lam/quan-ly-kinh-doanh-thu-nhap-den-30-trieu-hoa-hong-19161435532.html?utm_source=job_list',\n",
       " 'https://jobsgo.vn/viec-lam/nhan-vien-tham-dinh-qua-dien-thoai-uu-tien-giong-bac-thu-nhap-10-15tr-19232738861.html?utm_source=job_list',\n",
       " 'https://jobsgo.vn/viec-lam/chuyen-vien-hanh-chinh-hse-19170995148.html?utm_source=job_list',\n",
       " 'https://jobsgo.vn/viec-lam/nhan-vien-van-hanh-san-tmdt-di-lam-ngay-19178056228.html?utm_source=job_list',\n",
       " 'https://jobsgo.vn/viec-lam/h2-nhan-vien-cham-soc-khach-hang-line-tieng-anh-ung-dung-sky-joy-19184709938.html?utm_source=job_list',\n",
       " 'https://jobsgo.vn/viec-lam/chuyen-vien-kinh-doanh-thu-nhap-tu-10-25-trieu-19193373340.html?utm_source=job_list',\n",
       " 'https://jobsgo.vn/viec-lam/nhan-vien-ky-thuat-co-khi-di-lam-ngay-19295175103.html?utm_source=job_list',\n",
       " 'https://jobsgo.vn/viec-lam/ky-thuat-vien-iqc-cu-chi-19302371973.html?utm_source=job_list',\n",
       " 'https://jobsgo.vn/viec-lam/chuyen-vien-nhan-su-19305590196.html?utm_source=job_list',\n",
       " 'https://jobsgo.vn/viec-lam/nhan-vien-kinh-doanh-nam-khong-can-kinh-nghiem-19337500846.html?utm_source=job_list',\n",
       " 'https://jobsgo.vn/viec-lam/truong-phong-kinh-doanh-19344412557.html?utm_source=job_list',\n",
       " 'https://jobsgo.vn/viec-lam/nhan-vien-sales-thu-nhap-len-den-30-trieu-nhan-viec-ngay-19323718161.html?utm_source=job_list',\n",
       " 'https://jobsgo.vn/viec-lam/nhan-vien-van-hanh-may-tien-co-19328117757.html?utm_source=job_list',\n",
       " 'https://jobsgo.vn/viec-lam/ke-toan-tong-hop-nu-19331987772.html?utm_source=job_list',\n",
       " 'https://jobsgo.vn/viec-lam/nhan-vien-kinh-doanh-kenh-mt-luong-co-ban-9-17tr-19150273594.html?utm_source=job_list',\n",
       " 'https://jobsgo.vn/viec-lam/ke-toan-truong-luong-26-30-trieu-19156574250.html?utm_source=job_list',\n",
       " 'https://jobsgo.vn/viec-lam/ky-thuat-vien-qc-cu-chi-19297537849.html?utm_source=job_list',\n",
       " 'https://jobsgo.vn/viec-lam/nhan-vien-content-marketing-19302711448.html?utm_source=job_list',\n",
       " 'https://jobsgo.vn/viec-lam/phien-dich-tieng-han-19306106198.html?utm_source=job_list',\n",
       " 'https://jobsgo.vn/viec-lam/tro-li-tieng-trung-19307980100.html?utm_source=job_list',\n",
       " 'https://jobsgo.vn/viec-lam/quan-1-chuyen-vien-tu-van-can-ho-luong-co-ban-8tr-19309052841.html?utm_source=job_list',\n",
       " 'https://jobsgo.vn/viec-lam/cong-tac-vien-call-center-19318666773.html?utm_source=job_list',\n",
       " 'https://jobsgo.vn/viec-lam/chuyen-vien-quan-he-khach-hang-fdi-tieng-trung-19328497969.html?utm_source=job_list',\n",
       " 'https://jobsgo.vn/viec-lam/general-accountant-19335477575.html?utm_source=job_list',\n",
       " 'https://jobsgo.vn/viec-lam/chuyen-vien-quan-ly-nhan-su-nam-19133286265.html?utm_source=job_list',\n",
       " 'https://jobsgo.vn/viec-lam/nhan-vien-giao-nhan-di-lam-ngay-19225161779.html?utm_source=job_list',\n",
       " 'https://jobsgo.vn/viec-lam/nhan-vien-ke-toan-tong-hop-thu-nhap-500-usd-700-usd-19185755521.html?utm_source=job_list',\n",
       " 'https://jobsgo.vn/viec-lam/nhan-vien-kinh-doanh-19218820386.html?utm_source=job_list',\n",
       " 'https://jobsgo.vn/viec-lam/nhan-vien-ho-tro-kinh-doanh-khong-yeu-cau-kinh-nghiem-19303607662.html?utm_source=job_list',\n",
       " 'https://jobsgo.vn/viec-lam/quan-ly-san-xuat-to-truong-san-xuat-tieng-trung-19310492215.html?utm_source=job_list',\n",
       " 'https://jobsgo.vn/viec-lam/hoang-mai-hoai-duc-nhan-vien-tu-van-khoa-hoc-nhan-vien-kinh-doanh-direct-sales-khong-yeu-cau-kinh-nghiem-thu-nhap-tu-upto-30-trieu-19358738402.html?utm_source=job_list',\n",
       " 'https://jobsgo.vn/viec-lam/giam-sat-bo-phan-ke-hoach-san-xuat-pmc-supervisor-nhon-trach-dong-19327289438.html?utm_source=job_list',\n",
       " 'https://jobsgo.vn/viec-lam/nhan-vien-thiet-ke-co-khi-nhom-kinh-nhan-viec-ngay-19172882629.html?utm_source=job_list',\n",
       " 'https://jobsgo.vn/viec-lam/chuyen-vien-kinh-doanh-tu-van-tai-chinh-tro-cap-co-dinh-12-18-trieu-hoa-hong-19188403426.html?utm_source=job_list',\n",
       " 'https://jobsgo.vn/viec-lam/thuc-tap-sinh-nhan-su-tuyen-dung-19307124623.html?utm_source=job_list',\n",
       " 'https://jobsgo.vn/viec-lam/nhan-vien-cham-soc-khach-hang-vien-thong-thu-nhap-len-den-9-trieu-19307912205.html?utm_source=job_list',\n",
       " 'https://jobsgo.vn/viec-lam/truong-phong-marketing-19324790902.html?utm_source=job_list',\n",
       " 'https://jobsgo.vn/viec-lam/nhan-vien-tu-van-bao-hiem-thu-di-lam-ngay-19332897565.html?utm_source=job_list',\n",
       " 'https://jobsgo.vn/viec-lam/event-manager-quan-ly-to-chuc-su-kien-19208432451.html?utm_source=job_list',\n",
       " 'https://jobsgo.vn/viec-lam/ke-toan-noi-bo-19314891811.html?utm_source=job_list',\n",
       " 'https://jobsgo.vn/viec-lam/nhan-vien-thu-hoi-no-qua-dien-thoai-tai-chinh-19345824773.html?utm_source=job_list',\n",
       " 'https://jobsgo.vn/viec-lam/nhan-vien-kho-tai-dong-nai-nam-tieng-trung-thanh-thao-thu-nhap-tu-10-20-trieu-19357964399.html?utm_source=job_list',\n",
       " 'https://jobsgo.vn/viec-lam/sales-admin-19334106096.html?utm_source=job_list',\n",
       " 'https://jobsgo.vn/viec-lam/nhan-vien-pr-truyen-thong-koc-quan-he-cong-chung-19231801910.html?utm_source=job_list',\n",
       " 'https://jobsgo.vn/viec-lam/nhan-vien-thiet-ke-2d-3d-noi-that-kim-loai-karaoke-bar-19199728312.html?utm_source=job_list',\n",
       " 'https://jobsgo.vn/viec-lam/ky-su-tu-dong-hoa-19318150771.html?utm_source=job_list',\n",
       " 'https://jobsgo.vn/viec-lam/hcm-sale-admin-19303743452.html?utm_source=job_list',\n",
       " 'https://jobsgo.vn/viec-lam/nhan-vien-trien-khai-hoa-vien-2d-xay-dung-noi-that-19352695747.html?utm_source=job_list',\n",
       " 'https://jobsgo.vn/viec-lam/tro-ly-tong-giam-doc-19340012961.html?utm_source=job_list',\n",
       " 'https://jobsgo.vn/viec-lam/truong-phong-kinh-doanh-19324818060.html?utm_source=job_list',\n",
       " 'https://jobsgo.vn/viec-lam/nhan-vien-kinh-doanh-bao-bi-nhua-thu-nhap-tren-20tr-yeu-cau-kinh-nghiem-19325456273.html?utm_source=job_list',\n",
       " 'https://jobsgo.vn/viec-lam/nhan-vien-qa-thu-nhap-7-10m-19332137141.html?utm_source=job_list',\n",
       " 'https://jobsgo.vn/viec-lam/quan-10-nhan-vien-kinh-doanh-thu-nhap-tu-8tr-den-25tr-19207169604.html?utm_source=job_list',\n",
       " 'https://jobsgo.vn/viec-lam/ky-su-thiet-ke-htkt-cap-thoat-nuoc-19307681362.html?utm_source=job_list',\n",
       " 'https://jobsgo.vn/viec-lam/chuyen-vien-nhan-vien-lap-trinh-vien-19338818009.html?utm_source=job_list',\n",
       " 'https://jobsgo.vn/viec-lam/chuyen-vien-phong-ke-hoach-dau-thau-19129103933.html?utm_source=job_list',\n",
       " 'https://jobsgo.vn/viec-lam/ky-su-thiet-ke-co-dien-thu-nhap-8-15tr-19136368698.html?utm_source=job_list',\n",
       " 'https://jobsgo.vn/viec-lam/thu-ki-bo-phan-kho-cu-chi-19138514180.html?utm_source=job_list',\n",
       " 'https://jobsgo.vn/viec-lam/ha-noi-nhan-vien-giao-hang-bang-xe-may-19151645073.html?utm_source=job_list',\n",
       " 'https://jobsgo.vn/viec-lam/ke-toan-ban-hang-19151658652.html?utm_source=job_list',\n",
       " 'https://jobsgo.vn/viec-lam/nhan-vien-van-hanh-may-may-dap-vien-ep-goi-ep-vi-vo-nang-nganh-duoc-pham-19155094139.html?utm_source=job_list',\n",
       " 'https://jobsgo.vn/viec-lam/ky-su-co-dien-mien-bac-mien-trung-19222826191.html?utm_source=job_list',\n",
       " 'https://jobsgo.vn/viec-lam/sales-admin-19233852339.html?utm_source=job_list',\n",
       " 'https://jobsgo.vn/viec-lam/nhan-vien-marketing-chay-ads-19235223818.html?utm_source=job_list',\n",
       " 'https://jobsgo.vn/viec-lam/nhan-vien-telesales-van-phong-thu-nhap-tu-12-25-trieu-19238604989.html?utm_source=job_list',\n",
       " 'https://jobsgo.vn/viec-lam/nhan-vien-telesales-van-phong-lam-full-time-ba-dinh-ha-noi-19171565466.html?utm_source=job_list',\n",
       " 'https://jobsgo.vn/viec-lam/nhan-vien-kho-quan-ly-nhien-lieu-19171823467.html?utm_source=job_list',\n",
       " 'https://jobsgo.vn/viec-lam/nhan-vien-mua-hang-nhap-khau-19179156127.html?utm_source=job_list',\n",
       " 'https://jobsgo.vn/viec-lam/ky-su-me-19184954360.html?utm_source=job_list',\n",
       " 'https://jobsgo.vn/viec-lam/nhan-vien-ky-thuat-dien-me-di-lam-ngay-19187697318.html?utm_source=job_list',\n",
       " 'https://jobsgo.vn/viec-lam/chuyen-vien-cham-soc-khach-hang-tai-hcm-luong-tu-12tr-18tr-thuong-nhan-full-luong-thu-viec-19194799135.html?utm_source=job_list',\n",
       " 'https://jobsgo.vn/viec-lam/nhan-vien-ky-thuat-co-dien-tu-dien-tu-vien-thong-19199904839.html?utm_source=job_list',\n",
       " 'https://jobsgo.vn/viec-lam/nhan-vien-ban-hang-qua-dien-thoai-19209708877.html?utm_source=job_list',\n",
       " 'https://jobsgo.vn/viec-lam/aeon-mall-long-bien-ha-noi-nhan-vien-dich-vu-khach-hang-19214556580.html?utm_source=job_list',\n",
       " 'https://jobsgo.vn/viec-lam/ky-su-hien-truong-luong-15-20-trieu-thang-19287149914.html?utm_source=job_list',\n",
       " 'https://jobsgo.vn/viec-lam/nhan-vien-tu-van-nganh-moi-truong-thu-nhap-upto-30-trieu-19293328359.html?utm_source=job_list',\n",
       " 'https://jobsgo.vn/viec-lam/qm-clerk-cu-chi-factory-19263590349.html?utm_source=job_list',\n",
       " 'https://jobsgo.vn/viec-lam/nhan-vien-ky-thuat-dien-me-di-lam-ngay-19336794738.html?utm_source=job_list',\n",
       " 'https://jobsgo.vn/viec-lam/truong-phong-kinh-doanh-bat-dong-san-can-ho-cao-cap-19324885955.html?utm_source=job_list',\n",
       " 'https://jobsgo.vn/viec-lam/nhan-vien-ke-toan-tong-hop-19332490195.html?utm_source=job_list',\n",
       " 'https://jobsgo.vn/viec-lam/technical-sales-nhan-vien-kinh-doanh-phu-gia-nguyen-lieu-thuc-pham-nghi-t7-cn-19334459150.html?utm_source=job_list',\n",
       " 'https://jobsgo.vn/viec-lam/nhan-vien-kinh-doanh-tphcm-19139790606.html?utm_source=job_list',\n",
       " 'https://jobsgo.vn/viec-lam/nhan-vien-ky-thuat-may-chan-nganh-kim-loai-tam-19143647042.html?utm_source=job_list',\n",
       " 'https://jobsgo.vn/viec-lam/nhan-vien-ke-toan-tong-hop-19145806103.html?utm_source=job_list',\n",
       " 'https://jobsgo.vn/viec-lam/nhan-vien-kinh-doanh-khong-yeu-cau-kinh-nghiem-19159045628.html?utm_source=job_list',\n",
       " 'https://jobsgo.vn/viec-lam/nhan-vien-kinh-doanh-bds-khong-yeu-cau-kinh-nghiem-19163051433.html?utm_source=job_list',\n",
       " 'https://jobsgo.vn/viec-lam/chuyen-vien-kinh-doanh-tu-van-tai-chinh-bao-hiem-thu-nhap-tu-15m-tro-len-19229344111.html?utm_source=job_list',\n",
       " 'https://jobsgo.vn/viec-lam/ke-toan-kho-19171714835.html?utm_source=job_list',\n",
       " 'https://jobsgo.vn/viec-lam/truong-phong-nhan-su-19171755572.html?utm_source=job_list',\n",
       " 'https://jobsgo.vn/viec-lam/nhan-vien-marketing-san-tmdt-shoppe-facebook-ads-19195736086.html?utm_source=job_list',\n",
       " 'https://jobsgo.vn/viec-lam/quan-6-ke-toan-tong-hop-biet-tieng-trung-thu-nhap-tu-15-18-trieu-19204684647.html?utm_source=job_list',\n",
       " 'https://jobsgo.vn/viec-lam/thai-nguyen-video-editor-nhan-vien-dung-chinh-sua-video-thu-nhap-len-den-15-trieu-dong-19205146333.html?utm_source=job_list',\n",
       " 'https://jobsgo.vn/viec-lam/binh-duong-nhan-vien-kinh-doanh-biet-tieng-trung-19216851431.html?utm_source=job_list',\n",
       " 'https://jobsgo.vn/viec-lam/ke-toan-tong-hop-19217190906.html?utm_source=job_list',\n",
       " 'https://jobsgo.vn/viec-lam/nhan-vien-tu-van-van-phong-thu-nhap-den-20-trieu-19217543960.html?utm_source=job_list',\n",
       " 'https://jobsgo.vn/viec-lam/chuyen-vien-content-marketing-mang-giao-duc-luong-upto-15-trieu-19238930885.html?utm_source=job_list',\n",
       " 'https://jobsgo.vn/viec-lam/nhan-vien-ban-hang-thoi-trang-ceci-vincom-ba-trieu-19283239162.html?utm_source=job_list',\n",
       " 'https://jobsgo.vn/viec-lam/nhan-vien-kinh-doanh-tphcm-19297673639.html?utm_source=job_list',\n",
       " 'https://jobsgo.vn/viec-lam/nhan-vien-nghien-cuu-phat-trien-san-pham-rd-nhon-trach-dong-nai-19264201404.html?utm_source=job_list',\n",
       " 'https://jobsgo.vn/viec-lam/ke-toan-thu-chi-thu-quy-19269442898.html?utm_source=job_list',\n",
       " 'https://jobsgo.vn/viec-lam/nhan-vien-ky-thuat-giam-sat-cong-trinh-cua-nhom-19335844208.html?utm_source=job_list',\n",
       " 'https://jobsgo.vn/viec-lam/ha-noi-nhan-vien-ky-thuat-lap-dat-nam-19328199231.html?utm_source=job_list',\n",
       " 'https://jobsgo.vn/viec-lam/nhan-vien-tu-van-qua-dien-thoai-tai-ky-tai-chinh-thu-nhap-tu-15tr-30tr-19332965460.html?utm_source=job_list',\n",
       " 'https://jobsgo.vn/viec-lam/giao-vien-toeic-luong-khoi-diem-12-14-trieu-19335694839.html?utm_source=job_list',\n",
       " 'https://jobsgo.vn/viec-lam/chuyen-vien-cham-soc-khach-hang-tieng-anh-tieng-trung-thu-nhap-12-25tr-19319454355.html?utm_source=job_list',\n",
       " 'https://jobsgo.vn/viec-lam/nhan-vien-marketing-13576759465.html?utm_source=job_list',\n",
       " 'https://jobsgo.vn/viec-lam/nhan-vien-sale-logistics-luong-co-ban-tu-10-trieu-thang-19124745074.html?utm_source=job_list',\n",
       " 'https://jobsgo.vn/viec-lam/ky-su-qs-19125505498.html?utm_source=job_list',\n",
       " 'https://jobsgo.vn/viec-lam/fullstack-developer-rust-javascript-c-19128547194.html?utm_source=job_list',\n",
       " 'https://jobsgo.vn/viec-lam/nhan-vien-phu-trach-dieu-phoi-va-phat-trien-kinh-doanh-kenh-duoc-etc-otc-19128750879.html?utm_source=job_list',\n",
       " 'https://jobsgo.vn/viec-lam/nhan-vien-ky-thuat-bao-tri-nha-hang-chap-nhan-sinh-vien-moi-ra-truong-19130909940.html?utm_source=job_list',\n",
       " 'https://jobsgo.vn/viec-lam/phu-bep-nhat-full-khong-yeu-cau-kinh-nghiem-tai-q1-19131466679.html?utm_source=job_list',\n",
       " 'https://jobsgo.vn/viec-lam/chuyen-vien-kinh-doanh-tu-van-fulltime-thu-nhap-den-48tr-19133177633.html?utm_source=job_list',\n",
       " 'https://jobsgo.vn/viec-lam/ha-noi-nhan-vien-kinh-doanh-19135160167.html?utm_source=job_list',\n",
       " 'https://jobsgo.vn/viec-lam/nhan-vien-kinh-doanh-nu-duoc-pham-otc-etc-thu-nhap-tu-12-trieu-19135363852.html?utm_source=job_list',\n",
       " 'https://jobsgo.vn/viec-lam/ha-noi-truong-nhom-lap-rap-tu-dien-cong-nghiep-thu-nhap-8-10tr-19136341540.html?utm_source=job_list',\n",
       " 'https://jobsgo.vn/viec-lam/da-nang-quan-ly-chi-nhanh-linh-vuc-tham-my-luong-15-30-trieu-19139084498.html?utm_source=job_list',\n",
       " 'https://jobsgo.vn/viec-lam/kiem-dinh-vien-19139125235.html?utm_source=job_list',\n",
       " 'https://jobsgo.vn/viec-lam/buon-me-thuot-chuyen-vien-tu-van-di-lam-ngay-19139505447.html?utm_source=job_list',\n",
       " 'https://jobsgo.vn/viec-lam/ky-su-xay-dung-19151129071.html?utm_source=job_list',\n",
       " 'https://jobsgo.vn/viec-lam/nhan-vien-thiet-ke-3d-co-khi-thu-nhap-len-den-12-trieu-khong-yeu-cau-kinh-nghiem-tuyen-tu-trinh-do-cao-dang-19152038864.html?utm_source=job_list',\n",
       " 'https://jobsgo.vn/viec-lam/nhan-vien-kinh-doanh-hcm-thu-nhap-1000-usd-3000-usd-19152744972.html?utm_source=job_list',\n",
       " 'https://jobsgo.vn/viec-lam/ky-thuat-thi-cong-19165142599.html?utm_source=job_list',\n",
       " 'https://jobsgo.vn/viec-lam/quang-ngai-chuyen-vien-kinh-doanh-thi-truong-luong-co-ban-9-10-trieu-19220748604.html?utm_source=job_list',\n",
       " 'https://jobsgo.vn/viec-lam/phien-dich-vien-tieng-han-19223342193.html?utm_source=job_list',\n",
       " 'https://jobsgo.vn/viec-lam/nhan-vien-kho-kiem-giao-nhan-xe-may-19229520638.html?utm_source=job_list',\n",
       " 'https://jobsgo.vn/viec-lam/nhan-vien-kinh-doanh-thu-nhap-tu-8-12-trieu-lam-viec-ngay-19230987170.html?utm_source=job_list',\n",
       " 'https://jobsgo.vn/viec-lam/digital-marketing-specialist-nhan-vien-digital-marketing-biet-tieng-trung-biet-tieng-anh-19231788331.html?utm_source=job_list',\n",
       " 'https://jobsgo.vn/viec-lam/quan-ly-khach-san-thu-nhap-15tr-30tr-19170669252.html?utm_source=job_list',\n",
       " 'https://jobsgo.vn/viec-lam/nghe-an-quan-ly-chi-nhanh-linh-vuc-tham-my-luong-15-30-trieu-19172556733.html?utm_source=job_list',\n",
       " 'https://jobsgo.vn/viec-lam/hcm-tap-su-quan-ly-cua-hang-19175612008.html?utm_source=job_list',\n",
       " 'https://jobsgo.vn/viec-lam/nhan-vien-tu-van-va-cham-soc-khach-hang-gio-hanh-chinh-data-nong-thu-nhap-116-trieu-tai-tan-binh-19177608121.html?utm_source=job_list',\n",
       " 'https://jobsgo.vn/viec-lam/hcm-nhan-vien-kinh-doanh-phat-trien-thi-truong-lcb-tu-12-trieu-tro-len-19184872886.html?utm_source=job_list',\n",
       " 'https://jobsgo.vn/viec-lam/nhan-vien-lai-xe-ha-noi-thu-nhap-15000000-20000000-d-19186244365.html?utm_source=job_list',\n",
       " 'https://jobsgo.vn/viec-lam/nhan-vien-tu-van-giai-phap-lap-dat-dien-mat-troi-19200475157.html?utm_source=job_list',\n",
       " 'https://jobsgo.vn/viec-lam/nhan-vien-hanh-chinh-nhan-su-thu-nhap-15m-thuong-19203028009.html?utm_source=job_list',\n",
       " 'https://jobsgo.vn/viec-lam/dong-nai-nhan-vien-ke-toan-chi-phi-19205336439.html?utm_source=job_list',\n",
       " 'https://jobsgo.vn/viec-lam/ky-thuat-vien-dien-tu-19205499387.html?utm_source=job_list',\n",
       " 'https://jobsgo.vn/viec-lam/nhan-vien-kinh-te-ky-thuat-thu-nhap-10-15tr-19206477075.html?utm_source=job_list',\n",
       " 'https://jobsgo.vn/viec-lam/quan-ly-kinh-doanh-sale-manager-19208527504.html?utm_source=job_list',\n",
       " 'https://jobsgo.vn/viec-lam/can-bo-ky-thuat-hien-truong-di-lam-ngay-19211406252.html?utm_source=job_list',\n",
       " 'https://jobsgo.vn/viec-lam/giao-vien-toan-hoc-hop-tac-noi-bo-19214991108.html?utm_source=job_list',\n",
       " 'https://jobsgo.vn/viec-lam/truong-phong-quan-ly-chat-luong-19215181214.html?utm_source=job_list',\n",
       " 'https://jobsgo.vn/viec-lam/hcm-ky-su-thiet-ke-mep-luong-18-20m-19217055116.html?utm_source=job_list',\n",
       " 'https://jobsgo.vn/viec-lam/nhan-vien-thiet-ke-wedding-design-2d-19218888281.html?utm_source=job_list',\n",
       " 'https://jobsgo.vn/viec-lam/nam-quan-ly-giam-sat-nha-hang-panda-thu-nhap-tren-16m-19218983334.html?utm_source=job_list',\n",
       " 'https://jobsgo.vn/viec-lam/nhan-vien-marketing-khong-yeu-cau-kinh-nghiem-19219241335.html?utm_source=job_list',\n",
       " 'https://jobsgo.vn/viec-lam/nhan-vien-tu-van-dich-vu-xe-19246087018.html?utm_source=job_list',\n",
       " 'https://jobsgo.vn/viec-lam/truong-nhom-setup-cua-hang-tap-su-store-setup-leader-trainee-19283442847.html?utm_source=job_list',\n",
       " 'https://jobsgo.vn/viec-lam/nhan-vien-thay-than-midam-korean-premium-bbq-19284746431.html?utm_source=job_list',\n",
       " 'https://jobsgo.vn/viec-lam/thiet-ke-noi-that-19286810439.html?utm_source=job_list',\n",
       " 'https://jobsgo.vn/viec-lam/truong-bo-phan-tuyen-dung-19288548551.html?utm_source=job_list',\n",
       " 'https://jobsgo.vn/viec-lam/nhan-vien-nghiep-vu-hanh-chinh-van-phong-19293274043.html?utm_source=job_list',\n",
       " 'https://jobsgo.vn/viec-lam/chuyen-vien-kinh-doanh-thang-may-tai-ha-noi-ho-chi-minh-muc-luong-11tr-30tr-19263237295.html?utm_source=job_list',\n",
       " 'https://jobsgo.vn/viec-lam/chuyen-vien-tu-van-co-tu-6-thang-kinh-nghiem-trong-nganh-tai-chinh-19263278032.html?utm_source=job_list',\n",
       " 'https://jobsgo.vn/viec-lam/nhan-vien-quan-ly-vat-tu-19264540879.html?utm_source=job_list',\n",
       " 'https://jobsgo.vn/viec-lam/sales-admin-chuyen-nganh-thuoc-bvtv-phan-bon-19264690248.html?utm_source=job_list',\n",
       " 'https://jobsgo.vn/viec-lam/nhan-vien-kinh-doanh-khu-vuc-mien-tay-19310790953.html?utm_source=job_list',\n",
       " 'https://jobsgo.vn/viec-lam/nhan-vien-kinh-doanh-tu-van-19311782220.html?utm_source=job_list',\n",
       " 'https://jobsgo.vn/viec-lam/qa-qc-quan-ly-chat-luong-19313466016.html?utm_source=job_list',\n",
       " 'https://jobsgo.vn/viec-lam/nhan-vien-kinh-doanh-phat-trien-thi-truong-toan-quoc-thu-nhap-hap-dan-tu-15-trieu-19313737596.html?utm_source=job_list',\n",
       " 'https://jobsgo.vn/viec-lam/nhan-vien-tu-van-ban-hang-kyc-kinh-nghiem-thu-nhap-tren-10-trieu-19314063492.html?utm_source=job_list',\n",
       " 'https://jobsgo.vn/viec-lam/nhan-vien-ban-hang-tai-sieu-thi-19315883078.html?utm_source=job_list',\n",
       " 'https://jobsgo.vn/viec-lam/nhan-vien-qs-lam-viec-tai-hai-phong-quang-ninh-va-cac-tinh-phia-bac-19345933405.html?utm_source=job_list',\n",
       " 'https://jobsgo.vn/viec-lam/nhan-vien-le-tan-van-thu-19349355313.html?utm_source=job_list',\n",
       " 'https://jobsgo.vn/viec-lam/truong-pho-phong-ky-thuat-it-sua-pc-laptop-may-in-19349803420.html?utm_source=job_list',\n",
       " 'https://jobsgo.vn/viec-lam/ky-thuat-it-sua-pc-laptop-may-in-19349830578.html?utm_source=job_list',\n",
       " 'https://jobsgo.vn/viec-lam/chuyen-vien-tu-van-tuyen-sinh-kinh-doanh-sales-consultant-thu-nhap-len-den-30-trieu-ila-quan-6-19350333001.html?utm_source=job_list',\n",
       " 'https://jobsgo.vn/viec-lam/merchandising-executive-19356280603.html?utm_source=job_list',\n",
       " 'https://jobsgo.vn/viec-lam/ky-su-hien-truong-19364631688.html?utm_source=job_list',\n",
       " 'https://jobsgo.vn/viec-lam/chuyen-vien-tu-van-khach-hang-ca-nhan-19327805440.html?utm_source=job_list',\n",
       " 'https://jobsgo.vn/viec-lam/da-nang-giao-vien-chu-nhiem-tieng-anh-thu-nhap-len-toi-12tr-19334051780.html?utm_source=job_list',\n",
       " 'https://jobsgo.vn/viec-lam/nhan-vien-ky-thuat-dien-tu-19057936394.html?utm_source=job_list',\n",
       " 'https://jobsgo.vn/viec-lam/tu-van-vien-thu-nhap-tu-20-trieu-tro-len-khong-yeu-cau-kinh-nghiem-19128601510.html?utm_source=job_list',\n",
       " 'https://jobsgo.vn/viec-lam/nhan-vien-thiet-ke-designer-video-editor-19130339622.html?utm_source=job_list',\n",
       " 'https://jobsgo.vn/viec-lam/tai-xe-xe-nang-xe-kep-19133571424.html?utm_source=job_list',\n",
       " 'https://jobsgo.vn/viec-lam/ky-su-dien-giam-sat-duong-day-va-tram-bien-ap-19148535482.html?utm_source=job_list',\n",
       " 'https://jobsgo.vn/viec-lam/nhan-vien-thiet-ke-do-hoa-designer-19157606254.html?utm_source=job_list',\n",
       " 'https://jobsgo.vn/viec-lam/nhan-vien-dat-lich-hen-thu-nhap-10-15tr-19162725537.html?utm_source=job_list',\n",
       " 'https://jobsgo.vn/viec-lam/truong-phong-marketing-19163092170.html?utm_source=job_list',\n",
       " 'https://jobsgo.vn/viec-lam/nhan-vien-tu-van-tai-chinh-bao-hiem-19164517965.html?utm_source=job_list',\n",
       " 'https://jobsgo.vn/viec-lam/dong-nai-nhan-vien-giao-nhan-kiem-thu-tien-19223939669.html?utm_source=job_list',\n",
       " 'https://jobsgo.vn/viec-lam/binh-duong-nhan-vien-bao-tri-dien-co-khi-19229466322.html?utm_source=job_list',\n",
       " 'https://jobsgo.vn/viec-lam/nhan-vien-le-tan-chao-khach-ca-toi-bar-tay-19231842647.html?utm_source=job_list',\n",
       " 'https://jobsgo.vn/viec-lam/chuyen-vien-ky-thuat-rd-qc-19232250017.html?utm_source=job_list',\n",
       " 'https://jobsgo.vn/viec-lam/truong-bo-phan-ke-toan-thue-tap-doan-19235970663.html?utm_source=job_list',\n",
       " 'https://jobsgo.vn/viec-lam/nu-nhan-vien-y-te-binh-duong-19236011400.html?utm_source=job_list',\n",
       " 'https://jobsgo.vn/viec-lam/tro-ly-phap-ly-thue-5-nam-kinh-nghiem-19238686463.html?utm_source=job_list',\n",
       " 'https://jobsgo.vn/viec-lam/nhan-vien-quay-thuc-pham-tuoi-song-tai-ha-noi-luong-co-ban-tu-62-trieu-phu-cap-thuong-19170967990.html?utm_source=job_list',\n",
       " 'https://jobsgo.vn/viec-lam/bac-ninh-ldpt-cong-nhan-san-xuat-linh-kien-dien-tu-di-lam-ngay-thu-nhap-7-10tr-19171619782.html?utm_source=job_list',\n",
       " 'https://jobsgo.vn/viec-lam/nhan-vien-tu-van-ban-hang-19177920438.html?utm_source=job_list',\n",
       " 'https://jobsgo.vn/viec-lam/truong-bo-phan-tuyen-dung-kiem-phat-trien-thi-truong-nganh-du-thuyen-19177934017.html?utm_source=job_list',\n",
       " 'https://jobsgo.vn/viec-lam/san-golf-cu-chi-thu-ky-cong-truong-uu-tien-nu-thu-nhap-8-15-trieu-19182075612.html?utm_source=job_list',\n",
       " 'https://jobsgo.vn/viec-lam/chuyen-vien-cham-soc-khach-hang-tai-hcm-luong-tu-12tr-18tr-thuong-nhan-full-luong-thu-viec-19193739973.html?utm_source=job_list',\n",
       " 'https://jobsgo.vn/viec-lam/ecopark-hung-yen-nhan-vien-bao-ve-ho-tro-cho-o-cho-nguoi-o-xa-di-lam-ngay-19197990200.html?utm_source=job_list',\n",
       " 'https://jobsgo.vn/viec-lam/line-leader-chuyen-truong-san-xuat-19199171573.html?utm_source=job_list',\n",
       " 'https://jobsgo.vn/viec-lam/ke-toan-noi-bo-khong-kinh-nghiem-se-duoc-dao-tao-19199755470.html?utm_source=job_list',\n",
       " 'https://jobsgo.vn/viec-lam/nhan-vien-tu-van-tuyen-sinh-quang-ngai-19204657489.html?utm_source=job_list',\n",
       " 'https://jobsgo.vn/viec-lam/chuyen-vien-phap-che-19206898024.html?utm_source=job_list',\n",
       " 'https://jobsgo.vn/viec-lam/giam-sat-kinh-doanh-chi-nhanh-ha-noi-van-phong-pham-19207278236.html?utm_source=job_list',\n",
       " 'https://jobsgo.vn/viec-lam/nhan-vien-marketing-thi-truong-quoc-te-19207318973.html?utm_source=job_list',\n",
       " 'https://jobsgo.vn/viec-lam/truong-nhom-tram-giao-nhan-quan-ly-buu-cuc-mien-nam-19209640982.html?utm_source=job_list',\n",
       " 'https://jobsgo.vn/viec-lam/giao-vien-day-nang-khieu-19210252037.html?utm_source=job_list',\n",
       " 'https://jobsgo.vn/viec-lam/nhan-vien-kinh-doanh-hoa-chat-cong-nghiep-19217706908.html?utm_source=job_list',\n",
       " 'https://jobsgo.vn/viec-lam/nhan-vien-van-hanh-may-cnc-laser-may-cat-19217883435.html?utm_source=job_list',\n",
       " 'https://jobsgo.vn/viec-lam/thu-duc-nhan-vien-marketing-thu-nhap-den-17-trieu-19239066675.html?utm_source=job_list',\n",
       " 'https://jobsgo.vn/viec-lam/chuyen-vien-tu-van-cham-soc-khach-hang-luong-co-ban-den-12-trieu-thuong-nong-va-hoa-hong-19239569098.html?utm_source=job_list',\n",
       " 'https://jobsgo.vn/viec-lam/nhan-vien-telesale-dat-lich-hen-cskh-linh-vuc-tham-my-thu-nhap-trung-binh-tu-13-trieu-19242244161.html?utm_source=job_list',\n",
       " 'https://jobsgo.vn/viec-lam/ky-thuat-vien-cham-soc-xe-detailer-19246100597.html?utm_source=job_list',\n",
       " 'https://jobsgo.vn/viec-lam/nhan-vien-lap-rap-may-mang-dien-5-nam-kinh-nghiem-19247567129.html?utm_source=job_list',\n",
       " 'https://jobsgo.vn/viec-lam/digital-analytics-and-quality-analyst-19248517659.html?utm_source=job_list',\n",
       " 'https://jobsgo.vn/viec-lam/giam-doc-kinh-doanh-vung-biet-tieng-trung-19272267330.html?utm_source=job_list',\n",
       " 'https://jobsgo.vn/viec-lam/chuyen-vien-quan-ly-thi-ielts-70-tro-len-19281473892.html?utm_source=job_list',\n",
       " 'https://jobsgo.vn/viec-lam/customer-service-call-center-19285357486.html?utm_source=job_list',\n",
       " 'https://jobsgo.vn/viec-lam/admin-office-19286457385.html?utm_source=job_list',\n",
       " 'https://jobsgo.vn/viec-lam/chuyen-vien-hanh-chinh-nhan-su-19288820131.html?utm_source=job_list',\n",
       " 'https://jobsgo.vn/viec-lam/nhan-vien-ban-hang-19303960716.html?utm_source=job_list',\n",
       " 'https://jobsgo.vn/viec-lam/quan-ly-ky-thuat-chuyen-may-19315462129.html?utm_source=job_list',\n",
       " 'https://jobsgo.vn/viec-lam/nhan-vien-kinh-doanh-noi-that-di-lam-ngay-19315557182.html?utm_source=job_list',\n",
       " 'https://jobsgo.vn/viec-lam/ky-thuat-toa-nha-19318884037.html?utm_source=job_list',\n",
       " 'https://jobsgo.vn/viec-lam/nhan-vien-kinh-doanh-phan-bon-di-lam-ngay-19345308771.html?utm_source=job_list',\n",
       " 'https://jobsgo.vn/viec-lam/thuc-tap-content-seo-marketing-lam-viec-online-chi-tuyen-thuc-tap-sinh-lam-bao-cao-thuc-tap-co-tro-cap-cap-dau-moc-lam-bao-cao-19346327196.html?utm_source=job_list',\n",
       " 'https://jobsgo.vn/viec-lam/pho-bo-phan-qc-19349857736.html?utm_source=job_list',\n",
       " 'https://jobsgo.vn/viec-lam/thuc-tap-sinh-tu-van-trien-khai-phan-mem-19356674394.html?utm_source=job_list',\n",
       " 'https://jobsgo.vn/viec-lam/nhan-vien-hanh-chinh-nhan-su-19360014828.html?utm_source=job_list',\n",
       " 'https://jobsgo.vn/viec-lam/nhan-vien-tu-van-khong-yeu-cau-kinh-nghiem-thu-nhap-tu-15-trieu-tro-len-19322428156.html?utm_source=job_list',\n",
       " 'https://jobsgo.vn/viec-lam/ha-noi-nhan-vien-tu-van-cham-soc-khach-hang-khong-yeu-cau-kinh-nghiem-18981921152.html?utm_source=job_list',\n",
       " 'https://jobsgo.vn/viec-lam/nhan-vien-kinh-doanh-nhan-vien-sales-nhan-vien-tu-van-bao-hiem-oto-tasco-thu-nhap-tren-10-trieu-19025536900.html?utm_source=job_list',\n",
       " 'https://jobsgo.vn/viec-lam/ke-toan-tong-hop-di-lam-ngay-19066735586.html?utm_source=job_list',\n",
       " 'https://jobsgo.vn/viec-lam/sales-executives-19127555927.html?utm_source=job_list',\n",
       " 'https://jobsgo.vn/viec-lam/nhan-vien-thu-mua-tieng-trung-so-cap-19130298885.html?utm_source=job_list',\n",
       " 'https://jobsgo.vn/viec-lam/ky-thuat-vien-19139111656.html?utm_source=job_list',\n",
       " 'https://jobsgo.vn/viec-lam/toan-quoc-chuyen-vien-tu-van-thu-nhap-20-30-trieu-di-lam-ngay-19139491868.html?utm_source=job_list',\n",
       " 'https://jobsgo.vn/viec-lam/nhan-vien-mobile-developer-19141881772.html?utm_source=job_list',\n",
       " 'https://jobsgo.vn/viec-lam/nhan-vien-tu-van-ban-hang-lcb-7-11tr-19141922509.html?utm_source=job_list',\n",
       " 'https://jobsgo.vn/viec-lam/sales-admin-chuyen-nganh-thuoc-bvtv-phan-bon-19143742095.html?utm_source=job_list',\n",
       " 'https://jobsgo.vn/viec-lam/nhan-vien-thiet-ke-he-thong-19144258097.html?utm_source=job_list',\n",
       " 'https://jobsgo.vn/viec-lam/nhan-vien-hanh-chinh-le-tan-di-lam-ngay-vp-tai-tan-binh-19150762438.html?utm_source=job_list',\n",
       " 'https://jobsgo.vn/viec-lam/telesale-tu-van-the-tin-dung-ho-tro-100-data-19157945729.html?utm_source=job_list',\n",
       " 'https://jobsgo.vn/viec-lam/chuyen-vien-tu-van-the-tin-dung-19158040782.html?utm_source=job_list',\n",
       " 'https://jobsgo.vn/viec-lam/ke-toan-noi-bo-19162318167.html?utm_source=job_list',\n",
       " 'https://jobsgo.vn/viec-lam/binh-thanh-hcm-content-creator-tiktok-fb-19230593379.html?utm_source=job_list',\n",
       " 'https://jobsgo.vn/viec-lam/thanh-tri-ha-noi-nhan-vien-thiet-ke-ky-thuat-co-khi-o-to-19231367382.html?utm_source=job_list',\n",
       " 'https://jobsgo.vn/viec-lam/nhan-vien-ke-toan-kiem-hanh-chinh-acountant-19231829068.html?utm_source=job_list',\n",
       " 'https://jobsgo.vn/viec-lam/nhan-vien-kinh-doanh-mang-nong-nghiep-luong-18-30m-19235128765.html?utm_source=job_list',\n",
       " 'https://jobsgo.vn/viec-lam/nhan-vien-tuyen-dung-19235183081.html?utm_source=job_list',\n",
       " 'https://jobsgo.vn/viec-lam/nhan-vien-phuc-vu-partime-nu-ca-toi-19238523515.html?utm_source=job_list',\n",
       " 'https://jobsgo.vn/viec-lam/tro-ly-phan-tich-du-lieu-19238835832.html?utm_source=job_list',\n",
       " 'https://jobsgo.vn/viec-lam/nhan-vien-tuyen-dung-19182333613.html?utm_source=job_list',\n",
       " 'https://jobsgo.vn/viec-lam/giam-sat-thi-cong-19183677934.html?utm_source=job_list',\n",
       " 'https://jobsgo.vn/viec-lam/nhan-vien-cham-soc-cay-ngoai-troi-di-lam-ngay-19186991210.html?utm_source=job_list',\n",
       " 'https://jobsgo.vn/viec-lam/nhan-vien-support-customer-support-cham-soc-khach-hang-ca-dem-thu-nhap-len-tu-9tr-30tr-19194296712.html?utm_source=job_list',\n",
       " 'https://jobsgo.vn/viec-lam/nhan-vien-mua-hang-duoc-19196700195.html?utm_source=job_list',\n",
       " 'https://jobsgo.vn/viec-lam/hcm-hn-nhan-vien-kinh-doanh-thuong-mai-dien-tu-di-lam-ngay-19198071674.html?utm_source=job_list',\n",
       " 'https://jobsgo.vn/viec-lam/ky-su-qa-qc-xay-dung-luong-up-to-20-trieu-19207997923.html?utm_source=job_list',\n",
       " 'https://jobsgo.vn/viec-lam/truong-phong-kinh-doanh-thu-nhap-tu-20-40-trieu-19210523617.html?utm_source=job_list',\n",
       " 'https://jobsgo.vn/viec-lam/nhan-vien-cham-soc-khach-hang-tu-van-thu-nhap-8-18-trieu-19211161830.html?utm_source=job_list',\n",
       " 'https://jobsgo.vn/viec-lam/dieu-duong-ngoai-vien-19211216146.html?utm_source=job_list',\n",
       " 'https://jobsgo.vn/viec-lam/ky-su-thiet-ke-gia-cong-che-tao-may-di-lam-ngay-19217299538.html?utm_source=job_list',\n",
       " 'https://jobsgo.vn/viec-lam/content-seo-junior-19220001759.html?utm_source=job_list',\n",
       " 'https://jobsgo.vn/viec-lam/nhan-vien-kinh-doanh-nganh-duoc-19297714376.html?utm_source=job_list',\n",
       " 'https://jobsgo.vn/viec-lam/hcm-nhan-vien-kinh-doanh-thi-truong-trinh-duoc-vien-thu-nhap-len-den-25-trieu-19297727955.html?utm_source=job_list',\n",
       " 'https://jobsgo.vn/viec-lam/nhan-vien-lai-xe-kiem-tro-ly-tong-hop-19306608621.html?utm_source=job_list',\n",
       " 'https://jobsgo.vn/viec-lam/nhan-vien-ky-thuat-co-kinh-nghiem-di-lam-ngay-19313819070.html?utm_source=job_list',\n",
       " 'https://jobsgo.vn/viec-lam/quan-ly-nhan-su-luong-co-ban-tu-18-trieu-19317661927.html?utm_source=job_list',\n",
       " 'https://jobsgo.vn/viec-lam/nhan-vien-kinh-doanh-tu-van-nganh-thuc-pham-di-lam-ngay-19341235071.html?utm_source=job_list',\n",
       " 'https://jobsgo.vn/viec-lam/nhan-vien-kinh-doanh-mang-nong-nghiep-luong-18-30m-19344466873.html?utm_source=job_list',\n",
       " 'https://jobsgo.vn/viec-lam/nhan-vien-kinh-doanh-thu-nhap-tu-12-20tr-thang-19345050770.html?utm_source=job_list',\n",
       " 'https://jobsgo.vn/viec-lam/ke-toan-doanh-thu-19350876161.html?utm_source=job_list',\n",
       " 'https://jobsgo.vn/viec-lam/tro-ly-tieng-trung-19360653041.html?utm_source=job_list',\n",
       " 'https://jobsgo.vn/viec-lam/nhan-vien-seo-marketing-19323147843.html?utm_source=job_list',\n",
       " 'https://jobsgo.vn/viec-lam/nhan-vien-sale-marketing-hoc-mon-di-lam-ngay-19332069246.html?utm_source=job_list',\n",
       " 'https://jobsgo.vn/viec-lam/hoang-mai-hn-ke-toan-tong-hop-19332938302.html?utm_source=job_list',\n",
       " 'https://jobsgo.vn/viec-lam/nhan-vien-qc-kiem-xuat-kho-q7-19334092517.html?utm_source=job_list',\n",
       " 'https://jobsgo.vn/viec-lam/nhan-vien-ky-thuat-19140795452.html?utm_source=job_list',\n",
       " 'https://jobsgo.vn/viec-lam/ke-toan-noi-bo-19147530636.html?utm_source=job_list',\n",
       " 'https://jobsgo.vn/viec-lam/al-engineer-20m-40-thang-tai-ha-noi-19156370565.html?utm_source=job_list',\n",
       " 'https://jobsgo.vn/viec-lam/ky-su-phat-trien-backend-java-ngan-hang-luong-30-trieu-thang-tai-ha-noi-19156872988.html?utm_source=job_list',\n",
       " 'https://jobsgo.vn/viec-lam/nhan-su-hanh-chinh-tong-vu-biet-tieng-trung-19158420994.html?utm_source=job_list',\n",
       " 'https://jobsgo.vn/viec-lam/nhan-vien-kinh-doanh-phat-trien-thi-truong-b2b-san-tmdt-alibaba-luong-cung-11m7-hoa-hong-khong-gioi-han-sales-executive-19162671221.html?utm_source=job_list',\n",
       " 'https://jobsgo.vn/viec-lam/cong-tac-vien-the-tin-dung-online-toan-quoc-ngan-hang-quoc-te-vib-19224591461.html?utm_source=job_list',\n",
       " 'https://jobsgo.vn/viec-lam/customer-loyalty-retention-cham-soc-khach-hang-di-lam-ngay-19224849462.html?utm_source=job_list',\n",
       " 'https://jobsgo.vn/viec-lam/chuyen-vien-thu-hoi-no-qua-dien-thoai-ha-noi-19225351885.html?utm_source=job_list',\n",
       " 'https://jobsgo.vn/viec-lam/quan-ly-kinh-doanh-tiem-nang-di-lam-ngay-19226927049.html?utm_source=job_list',\n",
       " 'https://jobsgo.vn/viec-lam/nhan-vien-kinh-doanh-cau-giay-ha-noi-19174064002.html?utm_source=job_list',\n",
       " 'https://jobsgo.vn/viec-lam/truong-phong-ky-thuat-thu-nhap-den-20tr-19186271523.html?utm_source=job_list',\n",
       " 'https://jobsgo.vn/viec-lam/nhan-vien-kinh-doanh-thi-truong-nhom-kinh-19188362689.html?utm_source=job_list',\n",
       " 'https://jobsgo.vn/viec-lam/quan-ly-kho-van-19197555672.html?utm_source=job_list',\n",
       " 'https://jobsgo.vn/viec-lam/tai-xe-khu-vuc-long-an-19205214228.html?utm_source=job_list',\n",
       " 'https://jobsgo.vn/viec-lam/aeon-mall-ha-dong-truong-nhom-hanh-chinh-khoi-van-hanh-site-admin-19208894137.html?utm_source=job_list',\n",
       " 'https://jobsgo.vn/viec-lam/truong-phong-kinh-doanh-bat-dong-san-thu-nhap-tu-25-trieu-thang-19209043506.html?utm_source=job_list',\n",
       " 'https://jobsgo.vn/viec-lam/nhan-vien-phu-bep-khong-yeu-cau-kinh-nghiem-duoc-dao-tao-19239949310.html?utm_source=job_list',\n",
       " 'https://jobsgo.vn/viec-lam/nhan-vien-dieu-phoi-logistics-19247037548.html?utm_source=job_list',\n",
       " 'https://jobsgo.vn/viec-lam/hcm-nhan-vien-quan-ly-cua-hang-tap-su-store-management-trainee-luong-co-ban-tu-95-trieu-den-115-trieu-19283687269.html?utm_source=job_list',\n",
       " 'https://jobsgo.vn/viec-lam/nhan-vien-phu-bep-full-time-part-time-19284800747.html?utm_source=job_list',\n",
       " 'https://jobsgo.vn/viec-lam/nhan-vien-kinh-doanh-sales-tu-van-marketing-thu-nhap-khong-gioi-han-luong-cung-tu-7-trieu-tro-len-tai-ha-noi-19266686361.html?utm_source=job_list',\n",
       " 'https://jobsgo.vn/viec-lam/nhan-vien-kinh-doanh-thuoc-bao-ve-thuc-vat-phan-bon-khu-vuc-dong-nam-bo-tay-nam-bo-tay-nguyen-19266794993.html?utm_source=job_list',\n",
       " 'https://jobsgo.vn/viec-lam/nhan-vien-qc-nhan-viec-ngay-19311320534.html?utm_source=job_list',\n",
       " 'https://jobsgo.vn/viec-lam/phu-bep-commis-cheflam-viec-nha-hang-5-nuoc-ngoai-19354121542.html?utm_source=job_list',\n",
       " 'https://jobsgo.vn/viec-lam/nhan-vien-nam-kiem-kho-cong-cu-cat-got-kim-loai-thiet-bi-co-khi-19325931538.html?utm_source=job_list',\n",
       " 'https://jobsgo.vn/viec-lam/tro-ly-phien-dich-ca-dem-biet-tieng-trung-thu-nhap-20-trieu-tro-len-19160539318.html?utm_source=job_list',\n",
       " 'https://jobsgo.vn/viec-lam/tro-giang-tin-hoc-tai-tp-ho-chi-minh-tot-nghiep-nganh-cong-nghe-thong-tin-19162603326.html?utm_source=job_list',\n",
       " 'https://jobsgo.vn/viec-lam/nhan-vien-ky-thuat-hoa-chat-19224944515.html?utm_source=job_list',\n",
       " 'https://jobsgo.vn/viec-lam/nhan-vien-kinh-doanh-sales-representative-19173833159.html?utm_source=job_list',\n",
       " 'https://jobsgo.vn/viec-lam/tap-vu-tai-phong-kham-19205770967.html?utm_source=job_list',\n",
       " 'https://jobsgo.vn/viec-lam/ky-su-qs-xay-dung-luong-up-to-20-trieu-19207930028.html?utm_source=job_list',\n",
       " 'https://jobsgo.vn/viec-lam/nhan-vien-phien-dich-tieng-trung-19213551734.html?utm_source=job_list',\n",
       " 'https://jobsgo.vn/viec-lam/dau-bep-part-time-19219947443.html?utm_source=job_list',\n",
       " 'https://jobsgo.vn/viec-lam/nhan-vien-kinh-doanh-biet-tieng-nhat-19264432247.html?utm_source=job_list',\n",
       " 'https://jobsgo.vn/viec-lam/chuyen-vien-kinh-doanh-cham-soc-khach-hang-nghi-t7-cn-luong-co-dinh-thu-nhap-tu-16-45tr-19264744564.html?utm_source=job_list',\n",
       " 'https://jobsgo.vn/viec-lam/dak-lak-nhan-vien-kinh-doanh-phat-trien-thi-truong-thu-nhap-tu-10-trieu-19305685249.html?utm_source=job_list',\n",
       " 'https://jobsgo.vn/viec-lam/ky-su-nong-nghiep-khu-vuc-mien-nam-di-lam-ngay-19313547490.html?utm_source=job_list',\n",
       " 'https://jobsgo.vn/viec-lam/ky-su-giam-sat-cong-trinh-19345621088.html?utm_source=job_list',\n",
       " 'https://jobsgo.vn/viec-lam/nhan-vien-buong-phong-housekeeping-lam-viec-tren-du-thuyen-5-sao-19346300038.html?utm_source=job_list',\n",
       " 'https://jobsgo.vn/viec-lam/dieu-duong-vien-19347359200.html?utm_source=job_list',\n",
       " 'https://jobsgo.vn/viec-lam/giao-vien-19355493021.html?utm_source=job_list',\n",
       " 'https://jobsgo.vn/viec-lam/nhan-vien-telesale-bat-dong-san-luong-cung-25-30k-gio-luan-phien-ca-19327248701.html?utm_source=job_list',\n",
       " 'https://jobsgo.vn/viec-lam/nhan-vien-kinh-doanh-thi-truong-hang-gia-dung-19327819019.html?utm_source=job_list',\n",
       " 'https://jobsgo.vn/viec-lam/nhan-vien-kinh-doanh-online-19333522199.html?utm_source=job_list',\n",
       " 'https://jobsgo.vn/viec-lam/ke-toan-tong-hop-tam-bo-di-linh-lam-dong-19335070205.html?utm_source=job_list',\n",
       " 'https://jobsgo.vn/viec-lam/truong-phong-kinh-doanh-thuoc-bvtv-phan-bon-19143837148.html?utm_source=job_list',\n",
       " 'https://jobsgo.vn/viec-lam/nhan-vien-xu-ly-ho-so-co-kha-nang-su-dung-tieng-anh-tot-19155881721.html?utm_source=job_list',\n",
       " 'https://jobsgo.vn/viec-lam/system-engineer-19158149414.html?utm_source=job_list',\n",
       " 'https://jobsgo.vn/viec-lam/quan-ly-qa-qc-19220775762.html?utm_source=job_list',\n",
       " 'https://jobsgo.vn/viec-lam/supervisor-production-19234246130.html?utm_source=job_list',\n",
       " 'https://jobsgo.vn/viec-lam/nhan-vien-kinh-doanh-hoa-chat-moi-truong-19174131897.html?utm_source=job_list',\n",
       " 'https://jobsgo.vn/viec-lam/ke-toan-cong-no-ban-hang-tai-tan-binh-19214814581.html?utm_source=job_list',\n",
       " 'https://jobsgo.vn/viec-lam/nhan-vien-digital-marketing-19215398478.html?utm_source=job_list',\n",
       " 'https://jobsgo.vn/viec-lam/nhan-vien-quan-ly-va-cho-thue-toa-nha-ha-noi-19218521648.html?utm_source=job_list',\n",
       " 'https://jobsgo.vn/viec-lam/truong-phong-marketing-19274249864.html?utm_source=job_list',\n",
       " 'https://jobsgo.vn/viec-lam/intern-it-business-development-19286009278.html?utm_source=job_list',\n",
       " 'https://jobsgo.vn/viec-lam/nhan-vien-kinh-doanh-tai-van-phong-chuyen-nganh-thuoc-bao-ve-thuc-vat-phan-bon-19264730985.html?utm_source=job_list',\n",
       " 'https://jobsgo.vn/viec-lam/chuyen-vien-kinh-doanh-tu-van-tai-chinh-cung-cap-ipad-thu-nhap-tren-16-trieu-19264758143.html?utm_source=job_list',\n",
       " 'https://jobsgo.vn/viec-lam/ho-chi-minh-nhan-vien-y-ta-dieu-duong-yeu-cau-chung-chi-thu-nhap-15-30-trieu-19311239060.html?utm_source=job_list',\n",
       " 'https://jobsgo.vn/viec-lam/nhan-vien-ke-hoach-san-xuat-nganh-hang-may-mac-xuat-khau-co-kinh-nghiem-19315950973.html?utm_source=job_list',\n",
       " 'https://jobsgo.vn/viec-lam/chef-de-partie-viec-lam-khach-san-5-nuoc-ngoai-19354107963.html?utm_source=job_list',\n",
       " 'https://jobsgo.vn/viec-lam/nhan-vien-ky-thuat-co-khi-19326298171.html?utm_source=job_list',\n",
       " 'https://jobsgo.vn/viec-lam/dak-lak-nhan-vien-kinh-doanh-tu-van-ban-hang-san-pham-ong-tuoi-tu-dong-ong-tuoi-nong-nhiep-19328701654.html?utm_source=job_list',\n",
       " 'https://jobsgo.vn/viec-lam/nhan-vien-kinh-doanh-noi-that-o-to-19138745023.html?utm_source=job_list',\n",
       " 'https://jobsgo.vn/viec-lam/nhan-vien-chung-tu-xuat-nhap-khau-19147517057.html?utm_source=job_list',\n",
       " 'https://jobsgo.vn/viec-lam/nhan-vien-phong-thi-nghiem-hse-19150979702.html?utm_source=job_list',\n",
       " 'https://jobsgo.vn/viec-lam/nhan-vien-telesales-ha-noi-va-ho-chi-minh-19199524627.html?utm_source=job_list',\n",
       " 'https://jobsgo.vn/viec-lam/ky-su-dien-19200488736.html?utm_source=job_list',\n",
       " 'https://jobsgo.vn/viec-lam/ha-noi-thanh-hoa-hai-duong-son-la-hung-yen-vinh-phuc-nhan-vien-tu-van-tra-gop-dien-may-xe-may-19217516802.html?utm_source=job_list',\n",
       " 'https://jobsgo.vn/viec-lam/tro-ly-kinh-doanh-luong-12-15-trieu-19218073541.html?utm_source=job_list',\n",
       " 'https://jobsgo.vn/viec-lam/nhan-vien-kinh-doanh-sales-cham-soc-khach-hang-luong-cung-upto-12-trieu-thuong-19284406956.html?utm_source=job_list',\n",
       " 'https://jobsgo.vn/viec-lam/long-an-ke-toan-truong-19336591053.html?utm_source=job_list',\n",
       " 'https://jobsgo.vn/viec-lam/ky-su-vo-tau-thuy-lam-viec-tai-hcm-vung-tau-19323826793.html?utm_source=job_list',\n",
       " 'https://jobsgo.vn/viec-lam/nhan-vien-cham-soc-khach-hang-19133965215.html?utm_source=job_list',\n",
       " 'https://jobsgo.vn/viec-lam/middle-fullstack-engineer-php-react-typescript-19135065114.html?utm_source=job_list',\n",
       " 'https://jobsgo.vn/viec-lam/production-training-coordinator-dau-giay-19186814683.html?utm_source=job_list',\n",
       " 'https://jobsgo.vn/viec-lam/tro-ly-giam-doc-kiem-tro-ly-kinh-doanh-thu-duc-luong-tu-10tr-15tr-19217734066.html?utm_source=job_list',\n",
       " 'https://jobsgo.vn/viec-lam/ke-toan-tong-hop-quan-7-19273326492.html?utm_source=job_list',\n",
       " 'https://jobsgo.vn/viec-lam/thu-ki-bo-phan-kho-cu-chi-19282030631.html?utm_source=job_list',\n",
       " 'https://jobsgo.vn/viec-lam/truong-phong-kinh-doanh-kinh-nghiem-bao-bi-nhua-thu-nhap-tren-25tr-19325564905.html?utm_source=job_list',\n",
       " 'https://jobsgo.vn/viec-lam/ke-toan-noi-bo-nhan-viec-ngay-19088312617.html?utm_source=job_list',\n",
       " 'https://jobsgo.vn/viec-lam/le-tan-tai-phong-kham-19142927355.html?utm_source=job_list',\n",
       " 'https://jobsgo.vn/viec-lam/hcm-cham-soc-khach-hang-thu-nhap-10tr-20tr-19156587829.html?utm_source=job_list',\n",
       " 'https://jobsgo.vn/viec-lam/teamlead-telesale-nhan-viec-ngay-19158095098.html?utm_source=job_list',\n",
       " 'https://jobsgo.vn/viec-lam/quan-ly-tong-vu-nhan-su-tieng-anh-19221780608.html?utm_source=job_list',\n",
       " 'https://jobsgo.vn/viec-lam/nhan-vien-ban-hang-luu-dong-khong-yeu-cau-bang-cap-khong-yeu-cau-kinh-nghiem-19232141385.html?utm_source=job_list',\n",
       " 'https://jobsgo.vn/viec-lam/nhan-vien-quan-ly-don-hang-merchandiser-19215221951.html?utm_source=job_list',\n",
       " 'https://jobsgo.vn/viec-lam/chuyen-vien-tuyen-dung-uu-tien-nam-thu-nhap-8-10-trieu-19246928916.html?utm_source=job_list',\n",
       " 'https://jobsgo.vn/viec-lam/truong-phong-marketing-lam-viec-tai-binh-duong-19270379849.html?utm_source=job_list',\n",
       " 'https://jobsgo.vn/viec-lam/nhan-vien-kinh-doanh-19222948402.html?utm_source=job_list',\n",
       " 'https://jobsgo.vn/viec-lam/hcm-truong-nhom-kinh-doanh-thu-nhap-15-30tr-19235794136.html?utm_source=job_list',\n",
       " 'https://jobsgo.vn/viec-lam/nhan-vien-kinh-doanh-kiem-tuyen-dung-19203774854.html?utm_source=job_list',\n",
       " 'https://jobsgo.vn/viec-lam/tan-binh-truong-nhom-kinh-doanh-thu-nhap-20-30-trieu-19130013726.html?utm_source=job_list',\n",
       " 'https://jobsgo.vn/viec-lam/nhan-vien-phuc-vu-sport-bar-tay-ca-toi-nu-19238577831.html?utm_source=job_list',\n",
       " 'https://jobsgo.vn/viec-lam/tro-ly-giam-doc-19218901860.html?utm_source=job_list',\n",
       " 'https://jobsgo.vn/viec-lam/nhan-vien-van-hanh-san-tiktok-19241375105.html?utm_source=job_list',\n",
       " 'https://jobsgo.vn/viec-lam/chuyen-vien-tu-van-bao-hiem-kenh-bancassurance-toan-quoc-du-an-vietcombank-19245557437.html?utm_source=job_list',\n",
       " 'https://jobsgo.vn/viec-lam/thu-dau-mot-binh-duong-nhan-vien-ho-so-thau-19357855767.html?utm_source=job_list',\n",
       " 'https://jobsgo.vn/viec-lam/junior-sales-executive-19239799941.html?utm_source=job_list',\n",
       " 'https://jobsgo.vn/viec-lam/huan-luyen-vien-strength-yoga-movement-combat-19239935731.html?utm_source=job_list',\n",
       " 'https://jobsgo.vn/viec-lam/sale-executive-male-remote-nganh-vat-lieu-noi-that-cua-nhat-19049843310.html?utm_source=job_list',\n",
       " 'https://jobsgo.vn/viec-lam/binh-duong-nhan-vien-kho-co-kinh-nghiem-linh-vuc-hoa-chat-19130244569.html?utm_source=job_list',\n",
       " 'https://jobsgo.vn/viec-lam/nhan-vien-kinh-doanh-nong-nghiep-lam-viec-o-hcm-19296410792.html?utm_source=job_list',\n",
       " 'https://jobsgo.vn/viec-lam/tro-ly-giam-doc-nhan-viec-ngay-19087796615.html?utm_source=job_list',\n",
       " 'https://jobsgo.vn/viec-lam/ky-su-giam-sat-co-khi-19337690952.html?utm_source=job_list',\n",
       " 'https://jobsgo.vn/viec-lam/quan-1-chuyen-vien-tu-van-tai-chinh-thu-nhap-co-dinh-tu-12-trieu-tro-len-19151034018.html?utm_source=job_list',\n",
       " 'https://jobsgo.vn/viec-lam/sales-intern-19119666528.html?utm_source=job_list',\n",
       " 'https://jobsgo.vn/viec-lam/ky-su-thiet-ke-ho-tro-ky-thuat-he-thong-phong-chay-chua-chay-19124296967.html?utm_source=job_list',\n",
       " 'https://jobsgo.vn/viec-lam/nhan-vien-van-hanh-may-co-khi-19129877936.html?utm_source=job_list',\n",
       " 'https://jobsgo.vn/viec-lam/ha-noi-nhan-vien-kinh-doanh-mang-fitness-19131344468.html?utm_source=job_list',\n",
       " 'https://jobsgo.vn/viec-lam/tuyen-thu-c-tap-sinh-kinh-doanh-19132362893.html?utm_source=job_list',\n",
       " 'https://jobsgo.vn/viec-lam/nhan-vien-dieu-duong-tai-phong-kham-19132851737.html?utm_source=job_list',\n",
       " 'https://jobsgo.vn/viec-lam/nhan-vien-ke-toan-tong-hop-thu-nhap-tu-13-trieu-3-nam-kinh-nghiem-ha-noi-di-lam-ngay-19133734372.html?utm_source=job_list',\n",
       " 'https://jobsgo.vn/viec-lam/nhan-vien-tu-van-tuyen-sinh-19135594695.html?utm_source=job_list',\n",
       " 'https://jobsgo.vn/viec-lam/nhan-vien-san-xuat-khong-yeu-cau-kinh-nghiem-19135744064.html?utm_source=job_list',\n",
       " 'https://jobsgo.vn/viec-lam/thuc-tap-sinh-nhan-su-19139301762.html?utm_source=job_list',\n",
       " 'https://jobsgo.vn/viec-lam/giam-sat-noi-that-xuong-go-19140876926.html?utm_source=job_list',\n",
       " 'https://jobsgo.vn/viec-lam/sinh-quan-tieng-trung-khuon-19142180510.html?utm_source=job_list',\n",
       " 'https://jobsgo.vn/viec-lam/truong-phong-marketing-19143524831.html?utm_source=job_list',\n",
       " 'https://jobsgo.vn/viec-lam/nhan-vien-sale-19143606305.html?utm_source=job_list',\n",
       " 'https://jobsgo.vn/viec-lam/nhan-vien-ban-hang-thoi-trang-cao-cap-luong-up-to-9-trieu-19145181469.html?utm_source=job_list',\n",
       " 'https://jobsgo.vn/viec-lam/tuyen-telesales-lam-part-time-19145317259.html?utm_source=job_list',\n",
       " 'https://jobsgo.vn/viec-lam/cau-giay-ha-noi-cong-tac-vien-content-seo-thu-nhap-3000000vnd-5000000vnd-19145575260.html?utm_source=job_list',\n",
       " 'https://jobsgo.vn/viec-lam/ha-noi-nhan-vien-kinh-doanh-mang-fitness-ban-the-tap-19148712009.html?utm_source=job_list',\n",
       " 'https://jobsgo.vn/viec-lam/ky-thuat-vien-dien-19149228011.html?utm_source=job_list',\n",
       " 'https://jobsgo.vn/viec-lam/ky-su-thiet-bi-test-aoi-19152717814.html?utm_source=job_list',\n",
       " 'https://jobsgo.vn/viec-lam/nhan-vien-ky-thuat-thi-cong-dien-co-khi-19155705194.html?utm_source=job_list',\n",
       " 'https://jobsgo.vn/viec-lam/ky-thuat-thiet-ke-lam-rap-giac-so-do-19160091211.html?utm_source=job_list',\n",
       " 'https://jobsgo.vn/viec-lam/giam-doc-kinh-doanh-khu-vuc-19165305547.html?utm_source=job_list',\n",
       " 'https://jobsgo.vn/viec-lam/ky-thuat-vien-may-dong-luc-19168618823.html?utm_source=job_list',\n",
       " 'https://jobsgo.vn/viec-lam/nhan-vien-mua-hang-nhap-khau-19168659560.html?utm_source=job_list',\n",
       " 'https://jobsgo.vn/viec-lam/nam-nhan-vien-ban-hang-tiep-thi-san-pham-thu-nhap-10-30-trieu-thang-19222812612.html?utm_source=job_list',\n",
       " 'https://jobsgo.vn/viec-lam/nhan-vien-ho-tro-kinh-doanh-19222866928.html?utm_source=job_list',\n",
       " 'https://jobsgo.vn/viec-lam/nhan-vien-van-hanh-nha-may-di-lam-ngay-19223002718.html?utm_source=job_list',\n",
       " 'https://jobsgo.vn/viec-lam/ky-su-thiet-ke-co-khi-khanh-hoa-di-lam-ngay-19223029876.html?utm_source=job_list',\n",
       " 'https://jobsgo.vn/viec-lam/ky-su-co-khi-19223152087.html?utm_source=job_list',\n",
       " 'https://jobsgo.vn/viec-lam/nhan-vien-tu-van-van-phong-fecredit-thu-nhap-tu-12-25-trieu-19223803879.html?utm_source=job_list',\n",
       " 'https://jobsgo.vn/viec-lam/ho-chi-minh-nhan-vien-kinh-doanh-thi-truong-khong-yeu-cau-kinh-nghiem-19223966827.html?utm_source=job_list',\n",
       " 'https://jobsgo.vn/viec-lam/tho-lam-banh-sandwich-paris-baguette-my-dinh-19226139467.html?utm_source=job_list',\n",
       " 'https://jobsgo.vn/viec-lam/tu-van-tuyen-sinh-quan-binh-tan-luong-cung-tu-9tr-12tr-19226818417.html?utm_source=job_list',\n",
       " 'https://jobsgo.vn/viec-lam/nhan-vien-kiem-tra-chat-luong-san-pham-19227089997.html?utm_source=job_list',\n",
       " 'https://jobsgo.vn/viec-lam/truong-cua-hang-my-pham-19227347998.html?utm_source=job_list',\n",
       " 'https://jobsgo.vn/viec-lam/nhan-vien-quan-sinh-19229724323.html?utm_source=job_list',\n",
       " 'https://jobsgo.vn/viec-lam/can-bo-tu-van-tuyen-sinh-khong-yeu-cau-kinh-nghiem-19229792218.html?utm_source=job_list',\n",
       " 'https://jobsgo.vn/viec-lam/nhan-vien-qc-19230077377.html?utm_source=job_list',\n",
       " 'https://jobsgo.vn/viec-lam/nhan-vien-kinh-doanh-vung-mien-bac-tay-nguyen-19230226746.html?utm_source=job_list',\n",
       " 'https://jobsgo.vn/viec-lam/thuc-tap-sinh-kinh-doanh-19230606958.html?utm_source=job_list',\n",
       " 'https://jobsgo.vn/viec-lam/chuyen-vien-quan-ly-khach-hang-cap-cao-thu-nhap-tren-18-trieu-19231122960.html?utm_source=job_list',\n",
       " 'https://jobsgo.vn/viec-lam/center-director-giam-doc-phat-trien-kinh-doanh-19231136539.html?utm_source=job_list',\n",
       " 'https://jobsgo.vn/viec-lam/hai-phong-bac-giang-nam-dinh-lang-son-cao-bang-ha-noi-nhan-vien-tu-van-tra-gop-truc-tai-shop-19231272329.html?utm_source=job_list',\n",
       " 'https://jobsgo.vn/viec-lam/sustainability-representative-19231557488.html?utm_source=job_list',\n",
       " 'https://jobsgo.vn/viec-lam/sales-executive-19233472127.html?utm_source=job_list',\n",
       " 'https://jobsgo.vn/viec-lam/media-intern-19233485706.html?utm_source=job_list',\n",
       " 'https://jobsgo.vn/viec-lam/thuc-tap-sinh-hr-19235142344.html?utm_source=job_list',\n",
       " 'https://jobsgo.vn/viec-lam/cong-ty-tnhh-san-xuat-nhom-truong-thanh-19235712662.html?utm_source=job_list',\n",
       " 'https://jobsgo.vn/viec-lam/nhan-vien-nam-dong-goi-hang-hoa-kdol-tai-ha-noi-parttime-19237084141.html?utm_source=job_list',\n",
       " 'https://jobsgo.vn/viec-lam/nhan-vien-hanh-chinh-kho-mang-kdol-do-gia-dung-19237111299.html?utm_source=job_list',\n",
       " 'https://jobsgo.vn/viec-lam/nhan-vien-lap-dat-van-hanh-he-thong-xu-ly-nuoc-thai-19237124878.html?utm_source=job_list',\n",
       " 'https://jobsgo.vn/viec-lam/nhan-vien-ke-toan-cong-no-di-lam-ngay-19237600143.html?utm_source=job_list',\n",
       " 'https://jobsgo.vn/viec-lam/nhan-vien-kinh-doanh-thuc-an-chan-nuoi-19237763091.html?utm_source=job_list',\n",
       " 'https://jobsgo.vn/viec-lam/kcn-vinh-loc-binh-chanh-cong-nhan-thuc-pham-lam-banh-cuon-cha-gio-19170356935.html?utm_source=job_list',\n",
       " 'https://jobsgo.vn/viec-lam/cong-nhan-thuc-pham-lam-banh-cuon-cha-gio-19170397672.html?utm_source=job_list',\n",
       " 'https://jobsgo.vn/viec-lam/nhan-vien-thiet-ke-khuon-ep-nhua-19170424830.html?utm_source=job_list',\n",
       " 'https://jobsgo.vn/viec-lam/thuc-tap-sinh-tu-van-marketing-co-luong-qtsc-q12-19171348202.html?utm_source=job_list',\n",
       " 'https://jobsgo.vn/viec-lam/nhan-vien-kinh-doanh-19173140630.html?utm_source=job_list',\n",
       " 'https://jobsgo.vn/viec-lam/thuc-tap-sinh-hanh-chinh-nhan-su-19173901054.html?utm_source=job_list',\n",
       " 'https://jobsgo.vn/viec-lam/quan-ly-cua-hang-thoi-trang-tre-em-cao-cap-19176576117.html?utm_source=job_list',\n",
       " 'https://jobsgo.vn/viec-lam/vinpearl-luxury-nha-trang-hotel-ambassador-19177037803.html?utm_source=job_list',\n",
       " 'https://jobsgo.vn/viec-lam/chuyen-vien-kinh-doanh-phan-mem-19179807919.html?utm_source=job_list',\n",
       " 'https://jobsgo.vn/viec-lam/phuc-vu-quan-an-nuoc-19180989292.html?utm_source=job_list',\n",
       " 'https://jobsgo.vn/viec-lam/ky-su-san-xuat-19182958247.html?utm_source=job_list',\n",
       " 'https://jobsgo.vn/viec-lam/nhan-vien-thiet-ke-co-khi-19184791412.html?utm_source=job_list',\n",
       " 'https://jobsgo.vn/viec-lam/nhan-vien-kinh-doanh-logistics-19184886465.html?utm_source=job_list',\n",
       " 'https://jobsgo.vn/viec-lam/dong-nai-nhan-vien-hanh-chinh-van-phong-biet-tieng-trung-19187941740.html?utm_source=job_list',\n",
       " 'https://jobsgo.vn/viec-lam/nhan-vien-cham-soc-khach-hang-19190195854.html?utm_source=job_list',\n",
       " 'https://jobsgo.vn/viec-lam/nhan-vien-kinh-doanh-sale-tour-inbound-sale-ota-19192504284.html?utm_source=job_list',\n",
       " 'https://jobsgo.vn/viec-lam/nu-ke-toan-hanh-chinh-19195084294.html?utm_source=job_list',\n",
       " 'https://jobsgo.vn/viec-lam/nhan-vien-tu-van-nganh-dich-vu-dao-tao-an-toan-lao-dong-19195926192.html?utm_source=job_list',\n",
       " 'https://jobsgo.vn/viec-lam/nhan-vien-cham-soc-khach-hang-ngan-hang-mb-bank-tai-dong-da-tp-ha-noi-19196482931.html?utm_source=job_list',\n",
       " 'https://jobsgo.vn/viec-lam/nhan-vien-truc-tong-dai-mang-di-dong-viettel-tai-hoa-lac-thach-that-ha-noi-19196496510.html?utm_source=job_list',\n",
       " 'https://jobsgo.vn/viec-lam/thuc-tap-sinh-hanh-chinh-nhan-su-19198506202.html?utm_source=job_list',\n",
       " 'https://jobsgo.vn/viec-lam/thuc-tap-sinh-hanh-chinh-van-phong-19199483890.html?utm_source=job_list',\n",
       " 'https://jobsgo.vn/viec-lam/bep-truong-can-tin-19200040629.html?utm_source=job_list',\n",
       " 'https://jobsgo.vn/viec-lam/nhan-vien-kinh-doanh-khu-vuc-da-nang-19200108524.html?utm_source=job_list',\n",
       " 'https://jobsgo.vn/viec-lam/nhan-vien-ke-toan-noi-bo-19200122103.html?utm_source=job_list',\n",
       " 'https://jobsgo.vn/viec-lam/nhan-vien-kinh-doanh-xuat-nhap-khau-sales-logistics-19200162840.html?utm_source=job_list',\n",
       " 'https://jobsgo.vn/viec-lam/thuc-tap-nhan-vien-kinh-doanh-tai-trung-tam-tieng-anh-19201452845.html?utm_source=job_list',\n",
       " 'https://jobsgo.vn/viec-lam/nhan-vien-van-hanh-san-xuat-phong-dong-bao-19202457691.html?utm_source=job_list',\n",
       " 'https://jobsgo.vn/viec-lam/nhan-vien-kinh-doanh-19202512007.html?utm_source=job_list',\n",
       " 'https://jobsgo.vn/viec-lam/nhan-vien-van-hanh-san-thuong-mai-dien-tu-19202919377.html?utm_source=job_list',\n",
       " 'https://jobsgo.vn/viec-lam/nhan-vien-kho-van-19204100750.html?utm_source=job_list',\n",
       " 'https://jobsgo.vn/viec-lam/mazda-lang-ha-nhan-vien-kinh-doanh-tu-van-ban-hang-o-to-khong-yeu-cau-kinh-nghiem-thu-nhap-tu-20-40tr-19205743809.html?utm_source=job_list',\n",
       " 'https://jobsgo.vn/viec-lam/nhan-vien-kinh-doanh-khong-yeu-cau-kinh-nghiem-luong-tu-12-18-trieu-hoa-hong-19205838862.html?utm_source=job_list',\n",
       " 'https://jobsgo.vn/viec-lam/ke-toan-tong-hop-thu-nhap-10-15-trieu-19205893178.html?utm_source=job_list',\n",
       " 'https://jobsgo.vn/viec-lam/ke-toan-tong-hop-19206232653.html?utm_source=job_list',\n",
       " 'https://jobsgo.vn/viec-lam/nhan-vien-booking-kol-koc-19206640023.html?utm_source=job_list',\n",
       " 'https://jobsgo.vn/viec-lam/truong-nhom-kiem-toan-19206857287.html?utm_source=job_list',\n",
       " 'https://jobsgo.vn/viec-lam/chuyen-vien-kinh-doanh-quoc-te-19207848554.html?utm_source=job_list',\n",
       " 'https://jobsgo.vn/viec-lam/bac-si-tai-mui-hong-19210387827.html?utm_source=job_list',\n",
       " 'https://jobsgo.vn/viec-lam/dieu-duong-gay-me-hoi-suc-19210414985.html?utm_source=job_list',\n",
       " 'https://jobsgo.vn/viec-lam/nhan-vien-kinh-doanh-duoc-pham-otc-etc-thu-nhap-len-den-18-trieu-19210496459.html?utm_source=job_list',\n",
       " 'https://jobsgo.vn/viec-lam/truong-phong-bao-tri-tieng-nhat-n2-n3-19210632249.html?utm_source=job_list',\n",
       " 'https://jobsgo.vn/viec-lam/nhan-vien-truyen-thong-marketing-19210917408.html?utm_source=job_list',\n",
       " 'https://jobsgo.vn/viec-lam/huan-luyen-vien-ca-nhan-di-lam-ngay-19211134672.html?utm_source=job_list',\n",
       " 'https://jobsgo.vn/viec-lam/nhan-vien-an-ninh-tuan-tra-19211392673.html?utm_source=job_list',\n",
       " 'https://jobsgo.vn/viec-lam/chuyen-vien-tu-van-giao-duc-tai-thai-nguyen-19211555621.html?utm_source=job_list',\n",
       " 'https://jobsgo.vn/viec-lam/truong-nhom-marketing-ads-leader-marketing-19213334470.html?utm_source=job_list',\n",
       " 'https://jobsgo.vn/viec-lam/marketing-leader-19213388786.html?utm_source=job_list',\n",
       " 'https://jobsgo.vn/viec-lam/ke-toan-tong-hop-19214515843.html?utm_source=job_list',\n",
       " 'https://jobsgo.vn/viec-lam/talent-livestream-parttime-19215330583.html?utm_source=job_list',\n",
       " 'https://jobsgo.vn/viec-lam/nhan-vien-ban-hang-19215887322.html?utm_source=job_list',\n",
       " 'https://jobsgo.vn/viec-lam/tho-lam-may-gam-19215982375.html?utm_source=job_list',\n",
       " 'https://jobsgo.vn/viec-lam/truong-nhom-kiem-toan-19216091007.html?utm_source=job_list',\n",
       " 'https://jobsgo.vn/viec-lam/nhan-vien-thiet-ke-co-khi-nhom-kinh-nhan-viec-ngay-19217095853.html?utm_source=job_list',\n",
       " 'https://jobsgo.vn/viec-lam/tro-ly-luat-su-19217530381.html?utm_source=job_list',\n",
       " 'https://jobsgo.vn/viec-lam/nhan-vien-tu-van-ban-hang-part-time-19219512915.html?utm_source=job_list',\n",
       " 'https://jobsgo.vn/viec-lam/chuyen-vien-tu-van-moi-truong-nhan-viec-ngay-19219540073.html?utm_source=job_list',\n",
       " 'https://jobsgo.vn/viec-lam/nhan-vien-kinh-doanh-vat-lieu-hoan-thien-khong-yeu-cau-kinh-nghiem-19219865969.html?utm_source=job_list',\n",
       " 'https://jobsgo.vn/viec-lam/nu-nhan-vien-telesales-19219920285.html?utm_source=job_list',\n",
       " 'https://jobsgo.vn/viec-lam/nhan-vien-ky-thuat-bao-duong-sua-chua-thiet-bi-dien-tu-19220219023.html?utm_source=job_list',\n",
       " 'https://jobsgo.vn/viec-lam/chuyen-vien-kinh-doanh-my-pham-b2b-thu-nhap-15-20tr-19239406150.html?utm_source=job_list',\n",
       " 'https://jobsgo.vn/viec-lam/hcm-binh-tan-junior-accountantenglish-required-19239894994.html?utm_source=job_list',\n",
       " 'https://jobsgo.vn/viec-lam/cham-soc-khach-hang-19240275206.html?utm_source=job_list',\n",
       " 'https://jobsgo.vn/viec-lam/thuc-tap-sinh-kinh-doanh-quoc-te-19240831945.html?utm_source=job_list',\n",
       " 'https://jobsgo.vn/viec-lam/nhan-vien-seeding-part-time-19241959002.html?utm_source=job_list',\n",
       " 'https://jobsgo.vn/viec-lam/thuc-tap-sinh-cong-tac-vien-19243452692.html?utm_source=job_list',\n",
       " 'https://jobsgo.vn/viec-lam/nhan-vien-van-hanh-lai-xe-nang-19243642798.html?utm_source=job_list',\n",
       " 'https://jobsgo.vn/viec-lam/remote-toan-quoc-gia-su-luyen-thi-chung-chi-fe-online-part-time-19244294590.html?utm_source=job_list',\n",
       " 'https://jobsgo.vn/viec-lam/hcm-binh-thanh-video-editor-19245150067.html?utm_source=job_list',\n",
       " 'https://jobsgo.vn/viec-lam/tho-phu-co-khi-di-lam-ngay-19246480809.html?utm_source=job_list',\n",
       " 'https://jobsgo.vn/viec-lam/bac-ninh-nhan-vien-thiet-ke-3d-19247865867.html?utm_source=job_list',\n",
       " 'https://jobsgo.vn/viec-lam/kien-truc-su-trien-khai-ky-thuat-19251749461.html?utm_source=job_list',\n",
       " 'https://jobsgo.vn/viec-lam/tro-ly-giam-doc-19252496306.html?utm_source=job_list',\n",
       " 'https://jobsgo.vn/viec-lam/product-manager-19269972479.html?utm_source=job_list',\n",
       " 'https://jobsgo.vn/viec-lam/online-thuc-tap-sinh-tro-li-ca-nhan-part-time-full-time-19270407007.html?utm_source=job_list',\n",
       " 'https://jobsgo.vn/viec-lam/nhan-vien-phuc-vu-yen-tiec-khong-yeu-cau-kinh-nghiem-phuc-vu-san-vuon-19272946280.html?utm_source=job_list',\n",
       " 'https://jobsgo.vn/viec-lam/nhan-vien-cham-soc-khach-hang-19274983130.html?utm_source=job_list',\n",
       " 'https://jobsgo.vn/viec-lam/thuc-tap-sinh-marketing-19275051025.html?utm_source=job_list',\n",
       " 'https://jobsgo.vn/viec-lam/ky-su-xay-dung-dan-dung-thu-nhap-upto-18-trieu-19283972428.html?utm_source=job_list',\n",
       " 'https://jobsgo.vn/viec-lam/chuyen-vien-kinh-doanh-19286362332.html?utm_source=job_list',\n",
       " 'https://jobsgo.vn/viec-lam/tp-thai-nguyen-tro-ly-giam-doc-co-tieng-anh-thu-nhap-up-to-20m-19287462231.html?utm_source=job_list',\n",
       " 'https://jobsgo.vn/viec-lam/cham-soc-khach-hang-19288412761.html?utm_source=job_list',\n",
       " 'https://jobsgo.vn/viec-lam/online-python-technology-internship-part-time-full-time-19291698879.html?utm_source=job_list',\n",
       " 'https://jobsgo.vn/viec-lam/nhan-vien-thiet-ke-khuon-ep-nhua-19292445724.html?utm_source=job_list',\n",
       " 'https://jobsgo.vn/viec-lam/giao-vien-tieng-anh-19292486461.html?utm_source=job_list',\n",
       " 'https://jobsgo.vn/viec-lam/can-tho-nu-thu-ky-giam-doc-thu-nhap-8-15tr-19295433104.html?utm_source=job_list',\n",
       " 'https://jobsgo.vn/viec-lam/dieu-duong-vien-19297402059.html?utm_source=job_list',\n",
       " 'https://jobsgo.vn/viec-lam/nhan-vien-kinh-doanh-19298162483.html?utm_source=job_list',\n",
       " 'https://jobsgo.vn/viec-lam/chuyen-vien-it-ho-tro-ung-dung-19298189641.html?utm_source=job_list',\n",
       " 'https://jobsgo.vn/viec-lam/a9-bellsystem24-viet-nam-tuyen-thuc-tap-sinh-tuyen-dung-tai-vu-pham-ham-cau-giay-19299574699.html?utm_source=job_list',\n",
       " 'https://jobsgo.vn/viec-lam/nhan-vien-telesale-mb-bank-tai-so-21-cat-linh-dong-da-ha-noi-19265396356.html?utm_source=job_list',\n",
       " 'https://jobsgo.vn/viec-lam/online-huan-luyen-vien-tieng-anh-part-time-19303200292.html?utm_source=job_list',\n",
       " 'https://jobsgo.vn/viec-lam/content-seo-website-part-time-19303254608.html?utm_source=job_list',\n",
       " 'https://jobsgo.vn/viec-lam/thuc-tap-sinh-kinh-doanh-19304381665.html?utm_source=job_list',\n",
       " 'https://jobsgo.vn/viec-lam/nhan-vien-sale-admin-thu-ky-kinh-doanh-thu-nhap-12-15-trieu-19304422402.html?utm_source=job_list',\n",
       " 'https://jobsgo.vn/viec-lam/nhan-vien-kinh-doanh-bat-dong-san-nha-pho-19304775456.html?utm_source=job_list',\n",
       " 'https://jobsgo.vn/viec-lam/project-manager-tieng-nhat-mang-kien-truc-xay-dung-19304789035.html?utm_source=job_list',\n",
       " 'https://jobsgo.vn/viec-lam/nhan-vien-kinh-doanh-tu-van-bao-hiem-kenh-dai-ly-19306024724.html?utm_source=job_list',\n",
       " 'https://jobsgo.vn/viec-lam/nhan-vien-kinh-doanh-19311510640.html?utm_source=job_list',\n",
       " 'https://jobsgo.vn/viec-lam/nhan-vien-thiet-ke-rap-19311578535.html?utm_source=job_list',\n",
       " 'https://jobsgo.vn/viec-lam/remote-toan-quoc-giao-vien-gia-su-online-cac-mon-toan-ly-hoa-sinh-ngu-van-cho-hoc-sinh-lop-12-part-time-19312909277.html?utm_source=job_list',\n",
       " 'https://jobsgo.vn/viec-lam/tro-giang-tieng-anh-online-19314647389.html?utm_source=job_list',\n",
       " 'https://jobsgo.vn/viec-lam/dieu-hanh-tour-du-lich-19315027601.html?utm_source=job_list',\n",
       " 'https://jobsgo.vn/viec-lam/talent-sourcing-intern-19316629923.html?utm_source=job_list',\n",
       " 'https://jobsgo.vn/viec-lam/nam-nhan-vien-ky-thuat-dien-di-lam-ngay-19316724976.html?utm_source=job_list',\n",
       " 'https://jobsgo.vn/viec-lam/tts-business-development-part-time-full-time-19338682219.html?utm_source=job_list',\n",
       " 'https://jobsgo.vn/viec-lam/yen-bai-ke-toan-tong-hop-19345268034.html?utm_source=job_list',\n",
       " 'https://jobsgo.vn/viec-lam/vflinvest-nhan-vien-cham-soc-khach-hang-19347101199.html?utm_source=job_list',\n",
       " 'https://jobsgo.vn/viec-lam/nhan-vien-ky-thuat-ghep-phoi-thu-nhap-8-12-trieu-19348852890.html?utm_source=job_list',\n",
       " 'https://jobsgo.vn/viec-lam/binh-duong-ho-chi-minh-chuyen-vien-tu-van-kinh-doanh-can-ho-luong-co-ban-8tr-19349912052.html?utm_source=job_list',\n",
       " 'https://jobsgo.vn/viec-lam/senior-sales-executive-19351650164.html?utm_source=job_list',\n",
       " 'https://jobsgo.vn/viec-lam/nhan-vien-ke-toan-luong-10-15-trieu-thang-19351853849.html?utm_source=job_list',\n",
       " 'https://jobsgo.vn/viec-lam/tro-ly-tong-giam-doc-tieng-trung-nhan-viec-ngay-19352193324.html?utm_source=job_list',\n",
       " 'https://jobsgo.vn/viec-lam/video-editor-19353198170.html?utm_source=job_list',\n",
       " 'https://jobsgo.vn/viec-lam/nhan-vien-scan-tai-lieu-lam-viec-tai-quang-ngai-19355126388.html?utm_source=job_list',\n",
       " 'https://jobsgo.vn/viec-lam/nhan-vien-dong-goi-theo-gio-19355180704.html?utm_source=job_list',\n",
       " 'https://jobsgo.vn/viec-lam/shyne-store-tuyen-nhan-vien-ban-hang-tai-thu-duc-part-time-fulltime-thu-nhap-on-dinh-19355981865.html?utm_source=job_list',\n",
       " 'https://jobsgo.vn/viec-lam/truong-nhom-kinh-doanh-phu-cap-kinh-doanh-tu-20-trieu-19357000290.html?utm_source=job_list',\n",
       " 'https://jobsgo.vn/viec-lam/chuyen-vien-dang-ky-san-pham-19359824722.html?utm_source=job_list',\n",
       " 'https://jobsgo.vn/viec-lam/nhan-vien-kinh-doanh-19360965358.html?utm_source=job_list',\n",
       " 'https://jobsgo.vn/viec-lam/nhan-vien-kinh-doanh-19360978937.html?utm_source=job_list',\n",
       " 'https://jobsgo.vn/viec-lam/remote-toan-quoc-giao-vien-gia-su-tieng-trung-online-part-time-19365853798.html?utm_source=job_list',\n",
       " 'https://jobsgo.vn/viec-lam/shyne-store-tuyen-dung-nhan-su-quan-9-nhan-vien-ban-hang-part-time-thoi-vu-moi-truong-nang-dong-19366383379.html?utm_source=job_list',\n",
       " 'https://jobsgo.vn/viec-lam/shyne-store-dai-li-quan-11-can-tuyen-nhan-vien-ban-hang-part-time-thoi-vu-moi-truong-nang-dong-19366396958.html?utm_source=job_list',\n",
       " 'https://jobsgo.vn/viec-lam/shyne-store-tuyen-dung-nhan-su-quan-binh-thanh-nhan-vien-ban-hang-part-time-thoi-vu-moi-truong-nang-dong-19366437695.html?utm_source=job_list',\n",
       " 'https://jobsgo.vn/viec-lam/shyne-store-tuyen-dung-nhan-vien-ban-hang-tai-tan-binh-part-time-thoi-vu-moi-truong-nang-dong-19366464853.html?utm_source=job_list',\n",
       " 'https://jobsgo.vn/viec-lam/thuc-tap-sinh-phat-trien-khach-hang-19324125531.html?utm_source=job_list',\n",
       " 'https://jobsgo.vn/viec-lam/nhan-vien-telesale-parttime-19324274900.html?utm_source=job_list',\n",
       " 'https://jobsgo.vn/viec-lam/tho-phu-co-khi-di-lam-ngay-19325714274.html?utm_source=job_list',\n",
       " 'https://jobsgo.vn/viec-lam/truong-phong-chuyen-mon-trung-tam-tieng-anh-19327262280.html?utm_source=job_list',\n",
       " 'https://jobsgo.vn/viec-lam/nhan-vien-quan-ly-nha-partime-ca-toi-19327370912.html?utm_source=job_list',\n",
       " 'https://jobsgo.vn/viec-lam/cong-tac-vien-tu-van-ban-khoa-hoc-parttime-19327561018.html?utm_source=job_list',\n",
       " 'https://jobsgo.vn/viec-lam/thuc-tap-sinh-phap-ly-intern-phap-ly-19329244814.html?utm_source=job_list',\n",
       " 'https://jobsgo.vn/viec-lam/ha-noi-nhan-vien-kho-tong-53-duc-giang-long-bien-19329855869.html?utm_source=job_list',\n",
       " 'https://jobsgo.vn/viec-lam/ha-noi-nhan-vien-kho-tong-53-duc-giang-long-bien-19329869448.html?utm_source=job_list',\n",
       " 'https://jobsgo.vn/viec-lam/nhan-vien-kinh-doanh-he-thong-chuoi-van-phong-cho-thue-19333848095.html?utm_source=job_list',\n",
       " 'https://jobsgo.vn/viec-lam/chuyen-vien-kinh-doanh-phan-mem-tmdt-fnb-mien-bac-thu-nhap-upto-25tr-chap-nhan-sinh-vien-moi-ra-truong-19334920836.html?utm_source=job_list',\n",
       " 'https://jobsgo.vn/viec-lam/nhan-vien-sale-online-mang-tmdt-dak-lak-gia-lai-thu-nhap-upto-15tr-khong-yeu-cau-kinh-nghiem-19335138100.html?utm_source=job_list',\n",
       " 'https://jobsgo.vn/viec-lam/nhan-vien-kinh-doanh-chuyen-phat-nhanh-co-kinh-nghiem-19335273890.html?utm_source=job_list',\n",
       " 'https://jobsgo.vn/viec-lam/quan-ly-canteen-biet-tieng-trung-19129660672.html?utm_source=job_list',\n",
       " 'https://jobsgo.vn/viec-lam/ky-thuat-du-an-19129714988.html?utm_source=job_list',\n",
       " 'https://jobsgo.vn/viec-lam/truong-phong-kinh-doanh-mang-fitness-thu-nhap-tu-20-50m-19131453100.html?utm_source=job_list',\n",
       " 'https://jobsgo.vn/viec-lam/tho-dien-cong-trinh-19132973948.html?utm_source=job_list',\n",
       " 'https://jobsgo.vn/viec-lam/thuc-tap-sinh-kinh-doanh-part-time-19135608274.html?utm_source=job_list',\n",
       " 'https://jobsgo.vn/viec-lam/nhan-vien-sales-tu-van-khoa-hoc-tieng-phap-19135635432.html?utm_source=job_list',\n",
       " 'https://jobsgo.vn/viec-lam/giam-sat-ban-hang-thi-truong-19139342499.html?utm_source=job_list',\n",
       " 'https://jobsgo.vn/viec-lam/video-editor-19139586921.html?utm_source=job_list',\n",
       " 'https://jobsgo.vn/viec-lam/nhan-vien-content-marketing-2-nam-kinh-nghiem-muc-luong-upto-15-trieu-ha-noi-19142017562.html?utm_source=job_list',\n",
       " 'https://jobsgo.vn/viec-lam/nhan-vien-kinh-doanh-sale-tu-van-du-lich-ho-tro-100-data-thu-nhap-20-50-trieu-thang-lam-viec-tai-van-phong-nhan-ung-vien-moi-ra-truong-19142615038.html?utm_source=job_list',\n",
       " 'https://jobsgo.vn/viec-lam/nhan-vien-thiet-ke-co-khi-che-tao-chi-tiet-may-tu-dong-hoa-tai-ben-cat-binh-duong-19142940934.html?utm_source=job_list',\n",
       " 'https://jobsgo.vn/viec-lam/nhan-vien-kinh-doanh-tu-van-sales-bat-dong-san-ho-tro-data-tiem-nang-thu-nhap-tu-15-50-trieu-thuong-ha-noi-hai-phong-19143266830.html?utm_source=job_list',\n",
       " 'https://jobsgo.vn/viec-lam/nhan-vien-ads-facebook-tiktok-19145357996.html?utm_source=job_list',\n",
       " 'https://jobsgo.vn/viec-lam/nhan-vien-content-marketing-san-pham-19148725588.html?utm_source=job_list',\n",
       " 'https://jobsgo.vn/viec-lam/nhan-vien-kinh-doanh-19150667385.html?utm_source=job_list',\n",
       " 'https://jobsgo.vn/viec-lam/thuc-tap-sinh-tap-su-cong-tac-vien-phong-khach-hang-doanh-nghiep-19152324023.html?utm_source=job_list',\n",
       " 'https://jobsgo.vn/viec-lam/nhan-vien-nhan-su-19152704235.html?utm_source=job_list',\n",
       " 'https://jobsgo.vn/viec-lam/quan-ly-kinh-doanh-luong-15-20tr-phan-phoi-my-pham-noi-dia-nhat-kenh-mt-19152731393.html?utm_source=job_list',\n",
       " 'https://jobsgo.vn/viec-lam/ho-chi-minh-nhan-vien-kinh-doanh-thi-truong-khong-yeu-cau-kinh-nghiem-19159303629.html?utm_source=job_list',\n",
       " 'https://jobsgo.vn/viec-lam/bac-ninh-truong-phong-marketing-19159941842.html?utm_source=job_list',\n",
       " 'https://jobsgo.vn/viec-lam/ky-thuat-san-xuat-dinh-muc-nang-suat-19160186264.html?utm_source=job_list',\n",
       " 'https://jobsgo.vn/viec-lam/nhan-vien-designer-19162752695.html?utm_source=job_list',\n",
       " 'https://jobsgo.vn/viec-lam/nhan-vien-kinh-doanh-nganh-quan-trac-moi-truong-19222703980.html?utm_source=job_list',\n",
       " 'https://jobsgo.vn/viec-lam/nhan-vien-kinh-doanh-luong-co-ban-08-10tr-thang-thu-nhap-15-20tr-thang-19222921244.html?utm_source=job_list',\n",
       " 'https://jobsgo.vn/viec-lam/thuc-tap-sinh-tuyen-dung-manh-ve-thiet-ke-19223477983.html?utm_source=job_list',\n",
       " 'https://jobsgo.vn/viec-lam/cong-ty-tnhh-san-xuat-nhom-truong-thanh-can-tuyen-02-nvkd-19223559457.html?utm_source=job_list',\n",
       " 'https://jobsgo.vn/viec-lam/nhan-vien-co-dong-thu-nhap-tren-9tr-19223885353.html?utm_source=job_list',\n",
       " 'https://jobsgo.vn/viec-lam/thuc-tap-sinh-tap-su-cong-tac-vien-phong-khach-hang-doanh-nghiep-19223926090.html?utm_source=job_list',\n",
       " 'https://jobsgo.vn/viec-lam/ky-thuat-thiet-ke-lam-rap-giac-so-do-19224007564.html?utm_source=job_list',\n",
       " 'https://jobsgo.vn/viec-lam/pg-ban-hang-kenh-sieu-thi-19225066726.html?utm_source=job_list',\n",
       " 'https://jobsgo.vn/viec-lam/truong-kenh-19225121042.html?utm_source=job_list',\n",
       " 'https://jobsgo.vn/viec-lam/cong-tac-vien-ban-hang-yakult-tien-giang-19226302415.html?utm_source=job_list',\n",
       " 'https://jobsgo.vn/viec-lam/ky-su-trac-dac-19227076418.html?utm_source=job_list',\n",
       " 'https://jobsgo.vn/viec-lam/hn-chuyen-vien-facebook-ads-full-time-2024-19228149159.html?utm_source=job_list',\n",
       " 'https://jobsgo.vn/viec-lam/quan-1-chuyen-vien-tu-van-tai-chinh-thu-nhap-co-dinh-tu-12-trieu-tro-len-19230335378.html?utm_source=job_list',\n",
       " 'https://jobsgo.vn/viec-lam/nhan-vien-ban-hang-19231041486.html?utm_source=job_list',\n",
       " 'https://jobsgo.vn/viec-lam/thuc-tap-sinh-kinh-doanh-bat-dong-san-19232236438.html?utm_source=job_list',\n",
       " 'https://jobsgo.vn/viec-lam/nhan-vien-ke-toan-thue-19232467281.html?utm_source=job_list',\n",
       " 'https://jobsgo.vn/viec-lam/nhan-vien-ban-hang-kenh-gt-ban-sua-co-gai-ha-lan-khong-bi-ap-doanh-so-19233309179.html?utm_source=job_list',\n",
       " 'https://jobsgo.vn/viec-lam/cong-tac-vien-editor-quay-dung-19234612763.html?utm_source=job_list',\n",
       " 'https://jobsgo.vn/viec-lam/dong-nai-sales-manager-19235699083.html?utm_source=job_list',\n",
       " 'https://jobsgo.vn/viec-lam/nhan-vien-kinh-doanh-o-to-hyundai-19235753399.html?utm_source=job_list',\n",
       " 'https://jobsgo.vn/viec-lam/nhan-vien-kinh-doanh-thiet-bi-tu-dong-hoa-19237056983.html?utm_source=job_list',\n",
       " 'https://jobsgo.vn/viec-lam/nhan-vien-ban-hang-tai-cua-hang-chan-ga-goi-nem-lullaby-19237165615.html?utm_source=job_list',\n",
       " 'https://jobsgo.vn/viec-lam/remote-toan-quoc-giao-vien-gia-su-tieng-thai-online-part-time-19238618568.html?utm_source=job_list',\n",
       " 'https://jobsgo.vn/viec-lam/phu-tho-ky-su-thiet-ke-kien-truc-ket-cau-19238808674.html?utm_source=job_list',\n",
       " 'https://jobsgo.vn/viec-lam/nhan-vien-kho-thanh-tri-ha-noi-19172896208.html?utm_source=job_list',\n",
       " 'https://jobsgo.vn/viec-lam/nhan-vien-ke-toan-19173289999.html?utm_source=job_list',\n",
       " 'https://jobsgo.vn/viec-lam/thuc-tap-sinh-tuyen-dung-19173548000.html?utm_source=job_list',\n",
       " 'https://jobsgo.vn/viec-lam/nhan-vien-kinh-doanh-logistics-19173982528.html?utm_source=job_list',\n",
       " 'https://jobsgo.vn/viec-lam/nhan-vien-phuc-vu-order-ban-19177825385.html?utm_source=job_list',\n",
       " 'https://jobsgo.vn/viec-lam/nhan-vien-tu-van-ban-hang-19179726445.html?utm_source=job_list',\n",
       " 'https://jobsgo.vn/viec-lam/can-bo-nghien-cuu-du-an-19182482982.html?utm_source=job_list',\n",
       " 'https://jobsgo.vn/viec-lam/chuyen-gia-ky-thuat-quan-trac-moi-truong-19183935935.html?utm_source=job_list',\n",
       " 'https://jobsgo.vn/viec-lam/nhan-vien-kinh-doanh-phat-trien-thi-truong-19184737096.html?utm_source=job_list',\n",
       " 'https://jobsgo.vn/viec-lam/chuyen-vien-can-bo-thi-truong-nganh-gach-men-19184927202.html?utm_source=job_list',\n",
       " 'https://jobsgo.vn/viec-lam/nhan-vien-cham-soc-khach-hang-ngan-hang-mb-bank-tai-dong-da-ha-noi-19186896157.html?utm_source=job_list',\n",
       " 'https://jobsgo.vn/viec-lam/hoang-mai-hoai-duc-nhan-vien-tu-van-khoa-hoc-nhan-vien-kinh-doanh-direct-sales-thu-nhap-tu-upto-30-trieu-19187656581.html?utm_source=job_list',\n",
       " 'https://jobsgo.vn/viec-lam/tu-van-vien-thu-nhap-tu-20-trieu-tro-len-khong-yeu-cau-kinh-nghiem-19187751634.html?utm_source=job_list',\n",
       " 'https://jobsgo.vn/viec-lam/quang-ngai-nam-nhan-vien-ky-thuat-qa-qc-19188131846.html?utm_source=job_list',\n",
       " 'https://jobsgo.vn/viec-lam/thuc-tap-sinh-tester-kiem-thu-phan-mem-19189639115.html?utm_source=job_list',\n",
       " 'https://jobsgo.vn/viec-lam/nhan-vien-phu-kho-19190032906.html?utm_source=job_list',\n",
       " 'https://jobsgo.vn/viec-lam/nhan-vien-kinh-doanh-thi-truong-sales-thi-truong-nhan-vien-ban-hang-thu-nhap-trung-binh-tu-15-25m-do-tuoi-9x-co-tu-1-nam-kinh-nghiem-19193454814.html?utm_source=job_list',\n",
       " 'https://jobsgo.vn/viec-lam/long-an-nhan-vien-ke-toan-19197840831.html?utm_source=job_list',\n",
       " 'https://jobsgo.vn/viec-lam/thiet-ke-ky-thuat-nganh-go-xk-19198153148.html?utm_source=job_list',\n",
       " 'https://jobsgo.vn/viec-lam/nhan-vien-tu-van-van-phong-fecredit-thu-nhap-tu-12-25-trieu-19199090099.html?utm_source=job_list',\n",
       " 'https://jobsgo.vn/viec-lam/quan-ly-kinh-doanh-luong-15-20tr-phan-phoi-my-pham-noi-dia-nhat-kenh-mt-19202430533.html?utm_source=job_list',\n",
       " 'https://jobsgo.vn/viec-lam/kien-truc-su-19202484849.html?utm_source=job_list',\n",
       " 'https://jobsgo.vn/viec-lam/nhan-vien-mua-hang-nhap-khau-19202552744.html?utm_source=job_list',\n",
       " 'https://jobsgo.vn/viec-lam/nhan-vien-quay-dung-di-an-binh-duong-19205553703.html?utm_source=job_list',\n",
       " 'https://jobsgo.vn/viec-lam/thuc-tap-sinh-nhan-su-19205594440.html?utm_source=job_list',\n",
       " 'https://jobsgo.vn/viec-lam/thuc-tap-sinh-content-marketing-19205662335.html?utm_source=job_list',\n",
       " 'https://jobsgo.vn/viec-lam/lap-trinh-vien-net-winforms-wpf-api-core-19206612865.html?utm_source=job_list',\n",
       " 'https://jobsgo.vn/viec-lam/nhan-vien-ke-toan-19207576974.html?utm_source=job_list',\n",
       " 'https://jobsgo.vn/viec-lam/hn-nhan-vien-khao-sat-qua-dien-thoai-19207957186.html?utm_source=job_list',\n",
       " 'https://jobsgo.vn/viec-lam/ke-toan-tong-hop-19212438256.html?utm_source=job_list',\n",
       " 'https://jobsgo.vn/viec-lam/cham-soc-khach-hang-biet-tieng-nhat-n2-thu-viec-full-luong-19212669099.html?utm_source=job_list',\n",
       " 'https://jobsgo.vn/viec-lam/ha-noi-chuyen-vien-kinh-doanh-bds-19212954258.html?utm_source=job_list',\n",
       " 'https://jobsgo.vn/viec-lam/chuyen-vien-tu-van-chuyen-vien-kinh-doanh-sales-ban-hang-nganh-bao-hiem-thu-nhap-tu-16-trieu-tro-len-ho-chi-minh-19213035732.html?utm_source=job_list',\n",
       " 'https://jobsgo.vn/viec-lam/ky-su-co-khi-19213144364.html?utm_source=job_list',\n",
       " 'https://jobsgo.vn/viec-lam/nhan-vien-media-video-editor-full-time-19213320891.html?utm_source=job_list',\n",
       " 'https://jobsgo.vn/viec-lam/truong-nhom-kinh-doanh-19213402365.html?utm_source=job_list',\n",
       " ...]"
      ]
     },
     "execution_count": 151,
     "metadata": {},
     "output_type": "execute_result"
    }
   ],
   "source": [
    "list_url_job_Jobsgo"
   ]
  },
  {
   "cell_type": "code",
   "execution_count": 152,
   "metadata": {},
   "outputs": [],
   "source": [
    "df_url_job_Jobsgo = pd.DataFrame({'URL Job Jobsgo': list_url_job_Jobsgo})"
   ]
  },
  {
   "cell_type": "code",
   "execution_count": 153,
   "metadata": {},
   "outputs": [],
   "source": [
    "df_url_job_Jobsgo.to_csv(PATH+'/job_url_Jobsgo.csv',index_label='ID')"
   ]
  },
  {
   "cell_type": "code",
   "execution_count": 3,
   "metadata": {},
   "outputs": [],
   "source": [
    "data = pd.read_csv(PATH+'/job_url_Jobsgo.csv')"
   ]
  },
  {
   "cell_type": "code",
   "execution_count": null,
   "metadata": {},
   "outputs": [],
   "source": [
    "def Crawl_job_data(url):\n",
    "    content_job = requests.get(url).content\n",
    "    soup_job = BeautifulSoup(content_job, 'html.parser')\n",
    "\n",
    "    # Tiêu đề công việc\n",
    "    job_title = soup_job.find('h1', {'class': 'media-heading text-semibold'}).text.strip()\n",
    "    job_title = re.sub(r\"\\[.*?\\]\", \"\", job_title).strip()\n",
    "\n",
    "    # Tên công ty\n",
    "    try:\n",
    "        company_name = soup_job.select('body > section.section.colorgb-single.wrap-1.padd-top-0 > div > div > div > div > div.col-sm-4.job-detail-col-2 > div > div.panel.mb-15.panel-flat > div > div.profile-cover > div.media > div.media-body > h2 > a')[0].text.strip()\n",
    "    except:\n",
    "        company_name = soup_job.select('body > section.section.colorgb-single.wrap-1.padd-top-0 > div > div > div > div > div.col-sm-4.job-detail-col-2 > div > div.panel.mb-15.panel-flat.hidden-xs > div > div.media > div.media-body > h2 > a')[0].text.strip()\n",
    "\n",
    "    # Quy mô công ty\n",
    "    company_info = soup_job.select('body > section.section.colorgb-single.wrap-1.padd-top-0 > div > div > div > div > div.col-sm-4.job-detail-col-2 > div > div.panel.mb-15.panel-flat > div > div.company-info.text-grey > div.padd-20.padd-t-0 > div > span')\n",
    "    if company_info:\n",
    "        pass\n",
    "    else:\n",
    "        company_info = soup_job.select('body > section.section.colorgb-single.wrap-1.padd-top-0 > div > div > div > div > div.col-sm-4.job-detail-col-2 > div > div.panel.mb-15.panel-flat.hidden-xs > div > div.company-info.text-grey > div.padd-20.padd-0 > div > span')\n",
    "    Industry = company_info[0].text.strip()\n",
    "    if len(company_info) == 2:\n",
    "        company_address = company_info[1].text.strip()\n",
    "    else:\n",
    "        company_address = company_info[2].text.strip()\n",
    "\n",
    "\n",
    "    # Mô tả công việc\n",
    "    description = soup_job.select('div.content-group > div.clearfix')[0]\n",
    "    job_description = '. '.join(\n",
    "            p.get_text(strip=True).lstrip(\"•\").strip() for p in description if p.get_text(strip=True))\n",
    "\n",
    "    job_description = re.sub(r'\\.+', '.', job_description)\n",
    "    job_description = re.sub(r\"-\\s*\", \"\", job_description)\n",
    "        \n",
    "\n",
    "    # Yêu cầu công việc\n",
    "    requirements = soup_job.select('div.content-group > div.clearfix')[1]\n",
    "    job_requirement = '. '.join(\n",
    "            p.get_text(strip=True).lstrip(\"•\").strip() for p in requirements if p.get_text(strip=True))\n",
    "    job_requirement = re.sub(r'\\.+', '.', job_requirement)\n",
    "    job_requirement = re.sub(r\"-\\s*\", \"\", job_requirement)\n",
    "\n",
    "    # Phúc lợ\n",
    "    benefits = soup_job.select('div.content-group > div.clearfix')[2]\n",
    "    job_welfares = '. '.join(\n",
    "            p.get_text(strip=True).lstrip(\"•\").strip() for p in benefits if p.get_text(strip=True))\n",
    "    job_welfares = re.sub(r'\\.+', '.', job_welfares)\n",
    "    job_welfares: str = re.sub(r\"-\\s*\", \"\", job_welfares)\n",
    "\n",
    "    # Mức lương\n",
    "    salary = soup_job.find('span', {'class': 'saraly'}).text.strip()\n",
    "    \n",
    "    # Ngày hết hạn\n",
    "    expire_date = soup_job.select('body > section.section.colorgb-single.wrap-1.padd-top-0 > div > div > div > div > div.col-sm-8.pr0.job-detail-col-1 > div > div > div.media.stack-media-on-mobile.text-left.content-group.pb-0.mrg-top-10 > div.media-body-2 > ul > li:nth-child(1) > span')\n",
    "    expire_date = ' '.join(\n",
    "        p.get_text(strip=True).lstrip(\"•\").strip() for p in expire_date if p.get_text(strip=True))\n",
    "\n",
    "    elements = soup_job.find_all('p', {'class': 'sc-df6f4dcb-0 ioTZSy'})\n",
    "    employee_rank = soup_job.select('body > section.section.colorgb-single.wrap-1.padd-top-0 > div > div > div > div > div.col-sm-8.pr0.job-detail-col-1 > div > div > div:nth-child(5) > div:nth-child(2) > div > p:nth-child(3)')[0].text.strip()  # Cấp bậc\n",
    "    job_skill = soup_job.select('body > section.section.colorgb-single.wrap-1.padd-top-0 > div > div > div > div > div.col-sm-8.pr0.job-detail-col-1 > div > div > div:nth-child(6) > div:nth-child(2) > div > div > a')\n",
    "    job_skill = ', '.join(\n",
    "            p.get_text(strip=True).lstrip(\"•\").strip() for p in job_skill if p.get_text(strip=True)) # Kĩ năng\n",
    "    job_field = soup_job.select('body > section.section.colorgb-single.wrap-1.padd-top-0 > div > div > div > div > div.col-sm-8.pr0.job-detail-col-1 > div > div > div:nth-child(6) > div:nth-child(1) > div > div > a')\n",
    "    job_field = ', '.join(\n",
    "            p.get_text(strip=True).lstrip(\"•\").strip() for p in job_field if p.get_text(strip=True)) # Lĩnh vực\n",
    "    experiences = soup_job.select('body > section.section.colorgb-single.wrap-1.padd-top-0 > div > div > div > div > div.col-sm-8.pr0.job-detail-col-1 > div > div > div:nth-child(5) > div:nth-child(4) > div > p:nth-child(3)')[0].text.strip() # Số năm kinh nghiệm\n",
    "    job_address = soup_job.select('body > section.section.colorgb-single.wrap-1.padd-top-0 > div > div > div > div > div.col-sm-8.pr0.job-detail-col-1 > div > div > div:nth-child(7) > div > div.div > div > div > p:nth-child(1)')[0].text.strip() # Địa chỉ làm việc\n",
    "    job_address = re.split(r\"\\n\", job_address)[0].strip()\n",
    "    job_address = re.sub(r\"-\\s*\", \"\", job_address)\n",
    "\n",
    "    return [job_title, company_name, Industry, company_address, job_description, job_requirement, job_welfares, salary, expire_date, employee_rank, job_skill, job_field, experiences, job_address]"
   ]
  },
  {
   "cell_type": "code",
   "execution_count": 153,
   "metadata": {},
   "outputs": [],
   "source": [
    "job_url, job_title, company_name, Industry, company_address, job_description, job_requirement = [], [], [], [], [], [], []\n",
    "job_welfares, salary, expire_date, employee_rank, job_skill, job_field, experiences, job_address = [], [], [], [], [], [], [], []"
   ]
  },
  {
   "cell_type": "code",
   "execution_count": 154,
   "metadata": {},
   "outputs": [
    {
     "name": "stderr",
     "output_type": "stream",
     "text": [
      "  0%|          | 0/9944 [00:00<?, ?it/s]"
     ]
    },
    {
     "name": "stderr",
     "output_type": "stream",
     "text": [
      "  0%|          | 26/9944 [00:08<52:48,  3.13it/s] "
     ]
    },
    {
     "name": "stdout",
     "output_type": "stream",
     "text": [
      "Error\n"
     ]
    },
    {
     "name": "stderr",
     "output_type": "stream",
     "text": [
      "  1%|          | 56/9944 [00:17<51:40,  3.19it/s]"
     ]
    },
    {
     "name": "stdout",
     "output_type": "stream",
     "text": [
      "Error\n"
     ]
    },
    {
     "name": "stderr",
     "output_type": "stream",
     "text": [
      "  1%|          | 73/9944 [00:22<48:13,  3.41it/s]"
     ]
    },
    {
     "name": "stdout",
     "output_type": "stream",
     "text": [
      "Error\n"
     ]
    },
    {
     "name": "stderr",
     "output_type": "stream",
     "text": [
      "  1%|          | 74/9944 [00:22<49:07,  3.35it/s]"
     ]
    },
    {
     "name": "stdout",
     "output_type": "stream",
     "text": [
      "Error\n"
     ]
    },
    {
     "name": "stderr",
     "output_type": "stream",
     "text": [
      "  1%|          | 104/9944 [00:32<49:12,  3.33it/s]"
     ]
    },
    {
     "name": "stdout",
     "output_type": "stream",
     "text": [
      "Error\n"
     ]
    },
    {
     "name": "stderr",
     "output_type": "stream",
     "text": [
      "  1%|          | 118/9944 [00:36<47:19,  3.46it/s]"
     ]
    },
    {
     "name": "stdout",
     "output_type": "stream",
     "text": [
      "Error\n"
     ]
    },
    {
     "name": "stderr",
     "output_type": "stream",
     "text": [
      "  1%|▏         | 142/9944 [00:44<49:11,  3.32it/s]  "
     ]
    },
    {
     "name": "stdout",
     "output_type": "stream",
     "text": [
      "Error\n"
     ]
    },
    {
     "name": "stderr",
     "output_type": "stream",
     "text": [
      "  2%|▏         | 198/9944 [01:02<59:08,  2.75it/s]  "
     ]
    },
    {
     "name": "stdout",
     "output_type": "stream",
     "text": [
      "Error\n"
     ]
    },
    {
     "name": "stderr",
     "output_type": "stream",
     "text": [
      "  2%|▏         | 199/9944 [01:03<58:10,  2.79it/s]"
     ]
    },
    {
     "name": "stdout",
     "output_type": "stream",
     "text": [
      "Error\n"
     ]
    },
    {
     "name": "stderr",
     "output_type": "stream",
     "text": [
      "  3%|▎         | 262/9944 [01:37<48:10,  3.35it/s]  "
     ]
    },
    {
     "name": "stdout",
     "output_type": "stream",
     "text": [
      "Error\n"
     ]
    },
    {
     "name": "stderr",
     "output_type": "stream",
     "text": [
      "  3%|▎         | 271/9944 [01:40<44:45,  3.60it/s]"
     ]
    },
    {
     "name": "stdout",
     "output_type": "stream",
     "text": [
      "Error\n"
     ]
    },
    {
     "name": "stderr",
     "output_type": "stream",
     "text": [
      "  3%|▎         | 301/9944 [01:49<52:30,  3.06it/s]"
     ]
    },
    {
     "name": "stdout",
     "output_type": "stream",
     "text": [
      "Error\n"
     ]
    },
    {
     "name": "stderr",
     "output_type": "stream",
     "text": [
      "  3%|▎         | 302/9944 [01:50<1:11:28,  2.25it/s]"
     ]
    },
    {
     "name": "stdout",
     "output_type": "stream",
     "text": [
      "Error\n"
     ]
    },
    {
     "name": "stderr",
     "output_type": "stream",
     "text": [
      "  3%|▎         | 303/9944 [01:51<1:25:12,  1.89it/s]"
     ]
    },
    {
     "name": "stdout",
     "output_type": "stream",
     "text": [
      "Error\n"
     ]
    },
    {
     "name": "stderr",
     "output_type": "stream",
     "text": [
      "  3%|▎         | 331/9944 [02:10<1:12:08,  2.22it/s]"
     ]
    },
    {
     "name": "stdout",
     "output_type": "stream",
     "text": [
      "Error\n"
     ]
    },
    {
     "name": "stderr",
     "output_type": "stream",
     "text": [
      "  3%|▎         | 332/9944 [02:10<1:04:15,  2.49it/s]"
     ]
    },
    {
     "name": "stdout",
     "output_type": "stream",
     "text": [
      "Error\n"
     ]
    },
    {
     "name": "stderr",
     "output_type": "stream",
     "text": [
      "  3%|▎         | 333/9944 [02:11<1:10:06,  2.28it/s]"
     ]
    },
    {
     "name": "stdout",
     "output_type": "stream",
     "text": [
      "Error\n"
     ]
    },
    {
     "name": "stderr",
     "output_type": "stream",
     "text": [
      "  4%|▎         | 369/9944 [02:22<53:18,  2.99it/s]  "
     ]
    },
    {
     "name": "stdout",
     "output_type": "stream",
     "text": [
      "Error\n"
     ]
    },
    {
     "name": "stderr",
     "output_type": "stream",
     "text": [
      "  4%|▍         | 400/9944 [02:32<47:07,  3.38it/s]  "
     ]
    },
    {
     "name": "stdout",
     "output_type": "stream",
     "text": [
      "Error\n"
     ]
    },
    {
     "name": "stderr",
     "output_type": "stream",
     "text": [
      "  4%|▍         | 401/9944 [02:33<1:01:44,  2.58it/s]"
     ]
    },
    {
     "name": "stdout",
     "output_type": "stream",
     "text": [
      "Error\n"
     ]
    },
    {
     "name": "stderr",
     "output_type": "stream",
     "text": [
      "  5%|▍         | 452/9944 [02:49<48:15,  3.28it/s]  "
     ]
    },
    {
     "name": "stdout",
     "output_type": "stream",
     "text": [
      "Error\n"
     ]
    },
    {
     "name": "stderr",
     "output_type": "stream",
     "text": [
      "  5%|▍         | 453/9944 [02:49<48:22,  3.27it/s]"
     ]
    },
    {
     "name": "stdout",
     "output_type": "stream",
     "text": [
      "Error\n"
     ]
    },
    {
     "name": "stderr",
     "output_type": "stream",
     "text": [
      "  5%|▍         | 454/9944 [02:50<48:17,  3.28it/s]"
     ]
    },
    {
     "name": "stdout",
     "output_type": "stream",
     "text": [
      "Error\n"
     ]
    },
    {
     "name": "stderr",
     "output_type": "stream",
     "text": [
      "  5%|▍         | 455/9944 [02:50<48:48,  3.24it/s]"
     ]
    },
    {
     "name": "stdout",
     "output_type": "stream",
     "text": [
      "Error\n"
     ]
    },
    {
     "name": "stderr",
     "output_type": "stream",
     "text": [
      "  5%|▍         | 456/9944 [02:50<54:25,  2.91it/s]"
     ]
    },
    {
     "name": "stdout",
     "output_type": "stream",
     "text": [
      "Error\n"
     ]
    },
    {
     "name": "stderr",
     "output_type": "stream",
     "text": [
      "  5%|▍         | 457/9944 [02:51<56:02,  2.82it/s]"
     ]
    },
    {
     "name": "stdout",
     "output_type": "stream",
     "text": [
      "Error\n"
     ]
    },
    {
     "name": "stderr",
     "output_type": "stream",
     "text": [
      "  5%|▍         | 458/9944 [02:51<53:49,  2.94it/s]"
     ]
    },
    {
     "name": "stdout",
     "output_type": "stream",
     "text": [
      "Error\n"
     ]
    },
    {
     "name": "stderr",
     "output_type": "stream",
     "text": [
      "  5%|▍         | 460/9944 [02:52<51:11,  3.09it/s]"
     ]
    },
    {
     "name": "stdout",
     "output_type": "stream",
     "text": [
      "Error\n"
     ]
    },
    {
     "name": "stderr",
     "output_type": "stream",
     "text": [
      "  5%|▍         | 479/9944 [02:58<47:41,  3.31it/s]"
     ]
    },
    {
     "name": "stdout",
     "output_type": "stream",
     "text": [
      "Error\n"
     ]
    },
    {
     "name": "stderr",
     "output_type": "stream",
     "text": [
      "  5%|▌         | 520/9944 [03:10<46:12,  3.40it/s]"
     ]
    },
    {
     "name": "stdout",
     "output_type": "stream",
     "text": [
      "Error\n"
     ]
    },
    {
     "name": "stderr",
     "output_type": "stream",
     "text": [
      "  5%|▌         | 542/9944 [03:17<51:13,  3.06it/s]"
     ]
    },
    {
     "name": "stdout",
     "output_type": "stream",
     "text": [
      "Error\n"
     ]
    },
    {
     "name": "stderr",
     "output_type": "stream",
     "text": [
      "  6%|▌         | 574/9944 [03:27<49:40,  3.14it/s]"
     ]
    },
    {
     "name": "stdout",
     "output_type": "stream",
     "text": [
      "Error\n"
     ]
    },
    {
     "name": "stderr",
     "output_type": "stream",
     "text": [
      "  6%|▌         | 575/9944 [03:28<55:38,  2.81it/s]"
     ]
    },
    {
     "name": "stdout",
     "output_type": "stream",
     "text": [
      "Error\n"
     ]
    },
    {
     "name": "stderr",
     "output_type": "stream",
     "text": [
      "  7%|▋         | 687/9944 [04:05<48:20,  3.19it/s]  "
     ]
    },
    {
     "name": "stdout",
     "output_type": "stream",
     "text": [
      "Error\n"
     ]
    },
    {
     "name": "stderr",
     "output_type": "stream",
     "text": [
      "  7%|▋         | 693/9944 [04:07<54:43,  2.82it/s]"
     ]
    },
    {
     "name": "stdout",
     "output_type": "stream",
     "text": [
      "Error\n"
     ]
    },
    {
     "name": "stderr",
     "output_type": "stream",
     "text": [
      "  7%|▋         | 694/9944 [04:07<52:27,  2.94it/s]"
     ]
    },
    {
     "name": "stdout",
     "output_type": "stream",
     "text": [
      "Error\n"
     ]
    },
    {
     "name": "stderr",
     "output_type": "stream",
     "text": [
      "  7%|▋         | 720/9944 [04:15<46:33,  3.30it/s]"
     ]
    },
    {
     "name": "stdout",
     "output_type": "stream",
     "text": [
      "Error\n"
     ]
    },
    {
     "name": "stderr",
     "output_type": "stream",
     "text": [
      "  7%|▋         | 721/9944 [04:15<47:17,  3.25it/s]"
     ]
    },
    {
     "name": "stdout",
     "output_type": "stream",
     "text": [
      "Error\n"
     ]
    },
    {
     "name": "stderr",
     "output_type": "stream",
     "text": [
      "  7%|▋         | 726/9944 [04:17<50:18,  3.05it/s]"
     ]
    },
    {
     "name": "stdout",
     "output_type": "stream",
     "text": [
      "Error\n"
     ]
    },
    {
     "name": "stderr",
     "output_type": "stream",
     "text": [
      "  7%|▋         | 727/9944 [04:17<49:08,  3.13it/s]"
     ]
    },
    {
     "name": "stdout",
     "output_type": "stream",
     "text": [
      "Error\n"
     ]
    },
    {
     "name": "stderr",
     "output_type": "stream",
     "text": [
      "  7%|▋         | 728/9944 [04:18<48:45,  3.15it/s]"
     ]
    },
    {
     "name": "stdout",
     "output_type": "stream",
     "text": [
      "Error\n"
     ]
    },
    {
     "name": "stderr",
     "output_type": "stream",
     "text": [
      "  7%|▋         | 729/9944 [04:18<48:51,  3.14it/s]"
     ]
    },
    {
     "name": "stdout",
     "output_type": "stream",
     "text": [
      "Error\n"
     ]
    },
    {
     "name": "stderr",
     "output_type": "stream",
     "text": [
      "  7%|▋         | 731/9944 [04:19<52:21,  2.93it/s]"
     ]
    },
    {
     "name": "stdout",
     "output_type": "stream",
     "text": [
      "Error\n"
     ]
    },
    {
     "name": "stderr",
     "output_type": "stream",
     "text": [
      "  7%|▋         | 732/9944 [04:19<50:46,  3.02it/s]"
     ]
    },
    {
     "name": "stdout",
     "output_type": "stream",
     "text": [
      "Error\n"
     ]
    },
    {
     "name": "stderr",
     "output_type": "stream",
     "text": [
      "  7%|▋         | 733/9944 [04:19<50:01,  3.07it/s]"
     ]
    },
    {
     "name": "stdout",
     "output_type": "stream",
     "text": [
      "Error\n"
     ]
    },
    {
     "name": "stderr",
     "output_type": "stream",
     "text": [
      "  7%|▋         | 734/9944 [04:19<48:57,  3.14it/s]"
     ]
    },
    {
     "name": "stdout",
     "output_type": "stream",
     "text": [
      "Error\n"
     ]
    },
    {
     "name": "stderr",
     "output_type": "stream",
     "text": [
      "  9%|▉         | 883/9944 [05:10<43:16,  3.49it/s]  "
     ]
    },
    {
     "name": "stdout",
     "output_type": "stream",
     "text": [
      "Error\n"
     ]
    },
    {
     "name": "stderr",
     "output_type": "stream",
     "text": [
      "  9%|▉         | 919/9944 [05:23<58:27,  2.57it/s]  "
     ]
    },
    {
     "name": "stdout",
     "output_type": "stream",
     "text": [
      "Error\n"
     ]
    },
    {
     "name": "stderr",
     "output_type": "stream",
     "text": [
      "  9%|▉         | 921/9944 [05:23<54:46,  2.75it/s]"
     ]
    },
    {
     "name": "stdout",
     "output_type": "stream",
     "text": [
      "Error\n"
     ]
    },
    {
     "name": "stderr",
     "output_type": "stream",
     "text": [
      "  9%|▉         | 922/9944 [05:24<52:59,  2.84it/s]"
     ]
    },
    {
     "name": "stdout",
     "output_type": "stream",
     "text": [
      "Error\n"
     ]
    },
    {
     "name": "stderr",
     "output_type": "stream",
     "text": [
      "  9%|▉         | 923/9944 [05:24<51:41,  2.91it/s]"
     ]
    },
    {
     "name": "stdout",
     "output_type": "stream",
     "text": [
      "Error\n"
     ]
    },
    {
     "name": "stderr",
     "output_type": "stream",
     "text": [
      "  9%|▉         | 924/9944 [05:24<50:39,  2.97it/s]"
     ]
    },
    {
     "name": "stdout",
     "output_type": "stream",
     "text": [
      "Error\n"
     ]
    },
    {
     "name": "stderr",
     "output_type": "stream",
     "text": [
      " 11%|█         | 1069/9944 [06:18<2:37:42,  1.07s/it]"
     ]
    },
    {
     "name": "stdout",
     "output_type": "stream",
     "text": [
      "Error\n"
     ]
    },
    {
     "name": "stderr",
     "output_type": "stream",
     "text": [
      " 11%|█         | 1079/9944 [06:31<3:37:24,  1.47s/it]"
     ]
    },
    {
     "name": "stdout",
     "output_type": "stream",
     "text": [
      "Error\n"
     ]
    },
    {
     "name": "stderr",
     "output_type": "stream",
     "text": [
      " 11%|█         | 1080/9944 [06:31<2:46:35,  1.13s/it]"
     ]
    },
    {
     "name": "stdout",
     "output_type": "stream",
     "text": [
      "Error\n"
     ]
    },
    {
     "name": "stderr",
     "output_type": "stream",
     "text": [
      " 11%|█         | 1081/9944 [06:32<2:11:38,  1.12it/s]"
     ]
    },
    {
     "name": "stdout",
     "output_type": "stream",
     "text": [
      "Error\n"
     ]
    },
    {
     "name": "stderr",
     "output_type": "stream",
     "text": [
      " 11%|█         | 1082/9944 [06:32<2:03:11,  1.20it/s]"
     ]
    },
    {
     "name": "stdout",
     "output_type": "stream",
     "text": [
      "Error\n"
     ]
    },
    {
     "name": "stderr",
     "output_type": "stream",
     "text": [
      " 11%|█         | 1083/9944 [06:33<2:16:18,  1.08it/s]"
     ]
    },
    {
     "name": "stdout",
     "output_type": "stream",
     "text": [
      "Error\n"
     ]
    },
    {
     "name": "stderr",
     "output_type": "stream",
     "text": [
      " 11%|█         | 1084/9944 [06:34<1:53:49,  1.30it/s]"
     ]
    },
    {
     "name": "stdout",
     "output_type": "stream",
     "text": [
      "Error\n"
     ]
    },
    {
     "name": "stderr",
     "output_type": "stream",
     "text": [
      " 11%|█         | 1085/9944 [06:34<1:33:12,  1.58it/s]"
     ]
    },
    {
     "name": "stdout",
     "output_type": "stream",
     "text": [
      "Error\n"
     ]
    },
    {
     "name": "stderr",
     "output_type": "stream",
     "text": [
      " 11%|█         | 1086/9944 [06:35<1:24:32,  1.75it/s]"
     ]
    },
    {
     "name": "stdout",
     "output_type": "stream",
     "text": [
      "Error\n"
     ]
    },
    {
     "name": "stderr",
     "output_type": "stream",
     "text": [
      " 11%|█         | 1087/9944 [06:35<1:12:29,  2.04it/s]"
     ]
    },
    {
     "name": "stdout",
     "output_type": "stream",
     "text": [
      "Error\n"
     ]
    },
    {
     "name": "stderr",
     "output_type": "stream",
     "text": [
      " 11%|█         | 1088/9944 [06:35<1:03:46,  2.31it/s]"
     ]
    },
    {
     "name": "stdout",
     "output_type": "stream",
     "text": [
      "Error\n"
     ]
    },
    {
     "name": "stderr",
     "output_type": "stream",
     "text": [
      " 11%|█         | 1089/9944 [06:35<58:32,  2.52it/s]  "
     ]
    },
    {
     "name": "stdout",
     "output_type": "stream",
     "text": [
      "Error\n"
     ]
    },
    {
     "name": "stderr",
     "output_type": "stream",
     "text": [
      " 11%|█         | 1090/9944 [06:36<1:05:44,  2.24it/s]"
     ]
    },
    {
     "name": "stdout",
     "output_type": "stream",
     "text": [
      "Error\n"
     ]
    },
    {
     "name": "stderr",
     "output_type": "stream",
     "text": [
      " 11%|█         | 1091/9944 [06:36<1:00:18,  2.45it/s]"
     ]
    },
    {
     "name": "stdout",
     "output_type": "stream",
     "text": [
      "Error\n"
     ]
    },
    {
     "name": "stderr",
     "output_type": "stream",
     "text": [
      " 11%|█         | 1092/9944 [06:37<56:47,  2.60it/s]  "
     ]
    },
    {
     "name": "stdout",
     "output_type": "stream",
     "text": [
      "Error\n"
     ]
    },
    {
     "name": "stderr",
     "output_type": "stream",
     "text": [
      " 11%|█         | 1093/9944 [06:37<53:10,  2.77it/s]"
     ]
    },
    {
     "name": "stdout",
     "output_type": "stream",
     "text": [
      "Error\n"
     ]
    },
    {
     "name": "stderr",
     "output_type": "stream",
     "text": [
      " 11%|█         | 1094/9944 [06:37<50:46,  2.90it/s]"
     ]
    },
    {
     "name": "stdout",
     "output_type": "stream",
     "text": [
      "Error\n"
     ]
    },
    {
     "name": "stderr",
     "output_type": "stream",
     "text": [
      " 11%|█         | 1095/9944 [06:38<49:00,  3.01it/s]"
     ]
    },
    {
     "name": "stdout",
     "output_type": "stream",
     "text": [
      "Error\n"
     ]
    },
    {
     "name": "stderr",
     "output_type": "stream",
     "text": [
      " 11%|█         | 1096/9944 [06:38<48:19,  3.05it/s]"
     ]
    },
    {
     "name": "stdout",
     "output_type": "stream",
     "text": [
      "Error\n"
     ]
    },
    {
     "name": "stderr",
     "output_type": "stream",
     "text": [
      " 11%|█         | 1097/9944 [06:38<49:17,  2.99it/s]"
     ]
    },
    {
     "name": "stdout",
     "output_type": "stream",
     "text": [
      "Error\n"
     ]
    },
    {
     "name": "stderr",
     "output_type": "stream",
     "text": [
      " 11%|█         | 1098/9944 [06:39<58:11,  2.53it/s]"
     ]
    },
    {
     "name": "stdout",
     "output_type": "stream",
     "text": [
      "Error\n"
     ]
    },
    {
     "name": "stderr",
     "output_type": "stream",
     "text": [
      " 11%|█         | 1099/9944 [06:39<54:05,  2.73it/s]"
     ]
    },
    {
     "name": "stdout",
     "output_type": "stream",
     "text": [
      "Error\n"
     ]
    },
    {
     "name": "stderr",
     "output_type": "stream",
     "text": [
      " 11%|█         | 1100/9944 [06:40<57:13,  2.58it/s]"
     ]
    },
    {
     "name": "stdout",
     "output_type": "stream",
     "text": [
      "Error\n"
     ]
    },
    {
     "name": "stderr",
     "output_type": "stream",
     "text": [
      " 11%|█         | 1101/9944 [06:40<59:11,  2.49it/s]"
     ]
    },
    {
     "name": "stdout",
     "output_type": "stream",
     "text": [
      "Error\n"
     ]
    },
    {
     "name": "stderr",
     "output_type": "stream",
     "text": [
      " 11%|█         | 1102/9944 [06:40<59:06,  2.49it/s]"
     ]
    },
    {
     "name": "stdout",
     "output_type": "stream",
     "text": [
      "Error\n"
     ]
    },
    {
     "name": "stderr",
     "output_type": "stream",
     "text": [
      " 11%|█         | 1103/9944 [06:41<1:00:27,  2.44it/s]"
     ]
    },
    {
     "name": "stdout",
     "output_type": "stream",
     "text": [
      "Error\n"
     ]
    },
    {
     "name": "stderr",
     "output_type": "stream",
     "text": [
      " 11%|█         | 1104/9944 [06:41<55:55,  2.63it/s]  "
     ]
    },
    {
     "name": "stdout",
     "output_type": "stream",
     "text": [
      "Error\n"
     ]
    },
    {
     "name": "stderr",
     "output_type": "stream",
     "text": [
      " 11%|█         | 1105/9944 [06:41<52:59,  2.78it/s]"
     ]
    },
    {
     "name": "stdout",
     "output_type": "stream",
     "text": [
      "Error\n"
     ]
    },
    {
     "name": "stderr",
     "output_type": "stream",
     "text": [
      " 11%|█         | 1106/9944 [06:42<50:36,  2.91it/s]"
     ]
    },
    {
     "name": "stdout",
     "output_type": "stream",
     "text": [
      "Error\n"
     ]
    },
    {
     "name": "stderr",
     "output_type": "stream",
     "text": [
      " 11%|█         | 1107/9944 [06:42<48:36,  3.03it/s]"
     ]
    },
    {
     "name": "stdout",
     "output_type": "stream",
     "text": [
      "Error\n"
     ]
    },
    {
     "name": "stderr",
     "output_type": "stream",
     "text": [
      " 11%|█         | 1108/9944 [06:42<50:08,  2.94it/s]"
     ]
    },
    {
     "name": "stdout",
     "output_type": "stream",
     "text": [
      "Error\n"
     ]
    },
    {
     "name": "stderr",
     "output_type": "stream",
     "text": [
      " 11%|█         | 1109/9944 [06:43<48:36,  3.03it/s]"
     ]
    },
    {
     "name": "stdout",
     "output_type": "stream",
     "text": [
      "Error\n"
     ]
    },
    {
     "name": "stderr",
     "output_type": "stream",
     "text": [
      " 11%|█         | 1110/9944 [06:43<46:56,  3.14it/s]"
     ]
    },
    {
     "name": "stdout",
     "output_type": "stream",
     "text": [
      "Error\n"
     ]
    },
    {
     "name": "stderr",
     "output_type": "stream",
     "text": [
      " 11%|█         | 1111/9944 [06:43<52:12,  2.82it/s]"
     ]
    },
    {
     "name": "stdout",
     "output_type": "stream",
     "text": [
      "Error\n"
     ]
    },
    {
     "name": "stderr",
     "output_type": "stream",
     "text": [
      " 11%|█         | 1112/9944 [06:44<51:16,  2.87it/s]"
     ]
    },
    {
     "name": "stdout",
     "output_type": "stream",
     "text": [
      "Error\n"
     ]
    },
    {
     "name": "stderr",
     "output_type": "stream",
     "text": [
      " 11%|█         | 1113/9944 [06:44<49:09,  2.99it/s]"
     ]
    },
    {
     "name": "stdout",
     "output_type": "stream",
     "text": [
      "Error\n"
     ]
    },
    {
     "name": "stderr",
     "output_type": "stream",
     "text": [
      " 11%|█         | 1114/9944 [06:44<48:59,  3.00it/s]"
     ]
    },
    {
     "name": "stdout",
     "output_type": "stream",
     "text": [
      "Error\n"
     ]
    },
    {
     "name": "stderr",
     "output_type": "stream",
     "text": [
      " 11%|█         | 1115/9944 [06:45<47:38,  3.09it/s]"
     ]
    },
    {
     "name": "stdout",
     "output_type": "stream",
     "text": [
      "Error\n"
     ]
    },
    {
     "name": "stderr",
     "output_type": "stream",
     "text": [
      " 11%|█         | 1116/9944 [06:45<47:23,  3.10it/s]"
     ]
    },
    {
     "name": "stdout",
     "output_type": "stream",
     "text": [
      "Error\n"
     ]
    },
    {
     "name": "stderr",
     "output_type": "stream",
     "text": [
      " 11%|█         | 1117/9944 [06:45<46:25,  3.17it/s]"
     ]
    },
    {
     "name": "stdout",
     "output_type": "stream",
     "text": [
      "Error\n"
     ]
    },
    {
     "name": "stderr",
     "output_type": "stream",
     "text": [
      " 11%|█▏        | 1119/9944 [06:46<44:02,  3.34it/s]"
     ]
    },
    {
     "name": "stdout",
     "output_type": "stream",
     "text": [
      "Error\n"
     ]
    },
    {
     "name": "stderr",
     "output_type": "stream",
     "text": [
      " 11%|█▏        | 1120/9944 [06:46<43:53,  3.35it/s]"
     ]
    },
    {
     "name": "stdout",
     "output_type": "stream",
     "text": [
      "Error\n"
     ]
    },
    {
     "name": "stderr",
     "output_type": "stream",
     "text": [
      " 11%|█▏        | 1121/9944 [06:46<44:39,  3.29it/s]"
     ]
    },
    {
     "name": "stdout",
     "output_type": "stream",
     "text": [
      "Error\n"
     ]
    },
    {
     "name": "stderr",
     "output_type": "stream",
     "text": [
      " 11%|█▏        | 1122/9944 [06:47<50:59,  2.88it/s]"
     ]
    },
    {
     "name": "stdout",
     "output_type": "stream",
     "text": [
      "Error\n"
     ]
    },
    {
     "name": "stderr",
     "output_type": "stream",
     "text": [
      " 11%|█▏        | 1123/9944 [06:47<50:41,  2.90it/s]"
     ]
    },
    {
     "name": "stdout",
     "output_type": "stream",
     "text": [
      "Error\n"
     ]
    },
    {
     "name": "stderr",
     "output_type": "stream",
     "text": [
      " 11%|█▏        | 1124/9944 [06:48<49:28,  2.97it/s]"
     ]
    },
    {
     "name": "stdout",
     "output_type": "stream",
     "text": [
      "Error\n"
     ]
    },
    {
     "name": "stderr",
     "output_type": "stream",
     "text": [
      " 11%|█▏        | 1125/9944 [06:48<48:24,  3.04it/s]"
     ]
    },
    {
     "name": "stdout",
     "output_type": "stream",
     "text": [
      "Error\n"
     ]
    },
    {
     "name": "stderr",
     "output_type": "stream",
     "text": [
      " 11%|█▏        | 1126/9944 [06:48<46:38,  3.15it/s]"
     ]
    },
    {
     "name": "stdout",
     "output_type": "stream",
     "text": [
      "Error\n"
     ]
    },
    {
     "name": "stderr",
     "output_type": "stream",
     "text": [
      " 11%|█▏        | 1127/9944 [06:48<45:41,  3.22it/s]"
     ]
    },
    {
     "name": "stdout",
     "output_type": "stream",
     "text": [
      "Error\n"
     ]
    },
    {
     "name": "stderr",
     "output_type": "stream",
     "text": [
      " 11%|█▏        | 1128/9944 [06:49<45:26,  3.23it/s]"
     ]
    },
    {
     "name": "stdout",
     "output_type": "stream",
     "text": [
      "Error\n"
     ]
    },
    {
     "name": "stderr",
     "output_type": "stream",
     "text": [
      " 11%|█▏        | 1130/9944 [06:49<47:25,  3.10it/s]"
     ]
    },
    {
     "name": "stdout",
     "output_type": "stream",
     "text": [
      "Error\n"
     ]
    },
    {
     "name": "stderr",
     "output_type": "stream",
     "text": [
      " 11%|█▏        | 1131/9944 [06:50<47:35,  3.09it/s]"
     ]
    },
    {
     "name": "stdout",
     "output_type": "stream",
     "text": [
      "Error\n"
     ]
    },
    {
     "name": "stderr",
     "output_type": "stream",
     "text": [
      " 13%|█▎        | 1254/9944 [07:30<48:12,  3.00it/s]  "
     ]
    },
    {
     "name": "stdout",
     "output_type": "stream",
     "text": [
      "Error\n"
     ]
    },
    {
     "name": "stderr",
     "output_type": "stream",
     "text": [
      " 15%|█▌        | 1508/9944 [08:56<51:56,  2.71it/s]  "
     ]
    },
    {
     "name": "stdout",
     "output_type": "stream",
     "text": [
      "Error\n"
     ]
    },
    {
     "name": "stderr",
     "output_type": "stream",
     "text": [
      " 25%|██▍       | 2449/9944 [14:35<38:08,  3.28it/s]  "
     ]
    },
    {
     "name": "stdout",
     "output_type": "stream",
     "text": [
      "Error\n"
     ]
    },
    {
     "name": "stderr",
     "output_type": "stream",
     "text": [
      " 25%|██▍       | 2468/9944 [14:42<40:30,  3.08it/s]"
     ]
    },
    {
     "name": "stdout",
     "output_type": "stream",
     "text": [
      "Error\n"
     ]
    },
    {
     "name": "stderr",
     "output_type": "stream",
     "text": [
      " 27%|██▋       | 2702/9944 [16:02<37:18,  3.24it/s]"
     ]
    },
    {
     "name": "stdout",
     "output_type": "stream",
     "text": [
      "Error\n"
     ]
    },
    {
     "name": "stderr",
     "output_type": "stream",
     "text": [
      " 27%|██▋       | 2703/9944 [16:02<35:53,  3.36it/s]"
     ]
    },
    {
     "name": "stdout",
     "output_type": "stream",
     "text": [
      "Error\n"
     ]
    },
    {
     "name": "stderr",
     "output_type": "stream",
     "text": [
      " 27%|██▋       | 2712/9944 [16:05<45:10,  2.67it/s]"
     ]
    },
    {
     "name": "stdout",
     "output_type": "stream",
     "text": [
      "Error\n"
     ]
    },
    {
     "name": "stderr",
     "output_type": "stream",
     "text": [
      " 27%|██▋       | 2713/9944 [16:06<42:09,  2.86it/s]"
     ]
    },
    {
     "name": "stdout",
     "output_type": "stream",
     "text": [
      "Error\n"
     ]
    },
    {
     "name": "stderr",
     "output_type": "stream",
     "text": [
      " 27%|██▋       | 2714/9944 [16:06<37:52,  3.18it/s]"
     ]
    },
    {
     "name": "stdout",
     "output_type": "stream",
     "text": [
      "Error\n"
     ]
    },
    {
     "name": "stderr",
     "output_type": "stream",
     "text": [
      " 28%|██▊       | 2788/9944 [16:43<47:48,  2.49it/s]  "
     ]
    },
    {
     "name": "stdout",
     "output_type": "stream",
     "text": [
      "Error\n"
     ]
    },
    {
     "name": "stderr",
     "output_type": "stream",
     "text": [
      " 29%|██▉       | 2893/9944 [17:28<34:34,  3.40it/s]  "
     ]
    },
    {
     "name": "stdout",
     "output_type": "stream",
     "text": [
      "Error\n"
     ]
    },
    {
     "name": "stderr",
     "output_type": "stream",
     "text": [
      " 29%|██▉       | 2894/9944 [17:29<35:22,  3.32it/s]"
     ]
    },
    {
     "name": "stdout",
     "output_type": "stream",
     "text": [
      "Error\n"
     ]
    },
    {
     "name": "stderr",
     "output_type": "stream",
     "text": [
      " 29%|██▉       | 2895/9944 [17:29<35:44,  3.29it/s]"
     ]
    },
    {
     "name": "stdout",
     "output_type": "stream",
     "text": [
      "Error\n"
     ]
    },
    {
     "name": "stderr",
     "output_type": "stream",
     "text": [
      " 29%|██▉       | 2897/9944 [17:30<43:00,  2.73it/s]"
     ]
    },
    {
     "name": "stdout",
     "output_type": "stream",
     "text": [
      "Error\n"
     ]
    },
    {
     "name": "stderr",
     "output_type": "stream",
     "text": [
      " 29%|██▉       | 2898/9944 [17:30<40:42,  2.88it/s]"
     ]
    },
    {
     "name": "stdout",
     "output_type": "stream",
     "text": [
      "Error\n"
     ]
    },
    {
     "name": "stderr",
     "output_type": "stream",
     "text": [
      " 29%|██▉       | 2899/9944 [17:31<42:22,  2.77it/s]"
     ]
    },
    {
     "name": "stdout",
     "output_type": "stream",
     "text": [
      "Error\n"
     ]
    },
    {
     "name": "stderr",
     "output_type": "stream",
     "text": [
      " 29%|██▉       | 2900/9944 [17:31<40:22,  2.91it/s]"
     ]
    },
    {
     "name": "stdout",
     "output_type": "stream",
     "text": [
      "Error\n"
     ]
    },
    {
     "name": "stderr",
     "output_type": "stream",
     "text": [
      " 29%|██▉       | 2901/9944 [17:31<44:29,  2.64it/s]"
     ]
    },
    {
     "name": "stdout",
     "output_type": "stream",
     "text": [
      "Error\n"
     ]
    },
    {
     "name": "stderr",
     "output_type": "stream",
     "text": [
      " 29%|██▉       | 2902/9944 [17:32<43:35,  2.69it/s]"
     ]
    },
    {
     "name": "stdout",
     "output_type": "stream",
     "text": [
      "Error\n"
     ]
    },
    {
     "name": "stderr",
     "output_type": "stream",
     "text": [
      " 29%|██▉       | 2903/9944 [17:32<45:48,  2.56it/s]"
     ]
    },
    {
     "name": "stdout",
     "output_type": "stream",
     "text": [
      "Error\n"
     ]
    },
    {
     "name": "stderr",
     "output_type": "stream",
     "text": [
      " 29%|██▉       | 2904/9944 [17:32<42:44,  2.75it/s]"
     ]
    },
    {
     "name": "stdout",
     "output_type": "stream",
     "text": [
      "Error\n"
     ]
    },
    {
     "name": "stderr",
     "output_type": "stream",
     "text": [
      " 29%|██▉       | 2906/9944 [17:33<43:54,  2.67it/s]"
     ]
    },
    {
     "name": "stdout",
     "output_type": "stream",
     "text": [
      "Error\n"
     ]
    },
    {
     "name": "stderr",
     "output_type": "stream",
     "text": [
      " 29%|██▉       | 2907/9944 [17:33<42:12,  2.78it/s]"
     ]
    },
    {
     "name": "stdout",
     "output_type": "stream",
     "text": [
      "Error\n"
     ]
    },
    {
     "name": "stderr",
     "output_type": "stream",
     "text": [
      " 29%|██▉       | 2908/9944 [17:34<40:39,  2.88it/s]"
     ]
    },
    {
     "name": "stdout",
     "output_type": "stream",
     "text": [
      "Error\n"
     ]
    },
    {
     "name": "stderr",
     "output_type": "stream",
     "text": [
      " 29%|██▉       | 2909/9944 [17:34<42:49,  2.74it/s]"
     ]
    },
    {
     "name": "stdout",
     "output_type": "stream",
     "text": [
      "Error\n"
     ]
    },
    {
     "name": "stderr",
     "output_type": "stream",
     "text": [
      " 29%|██▉       | 2911/9944 [17:35<39:45,  2.95it/s]"
     ]
    },
    {
     "name": "stdout",
     "output_type": "stream",
     "text": [
      "Error\n"
     ]
    },
    {
     "name": "stderr",
     "output_type": "stream",
     "text": [
      " 29%|██▉       | 2912/9944 [17:35<38:46,  3.02it/s]"
     ]
    },
    {
     "name": "stdout",
     "output_type": "stream",
     "text": [
      "Error\n"
     ]
    },
    {
     "name": "stderr",
     "output_type": "stream",
     "text": [
      " 29%|██▉       | 2913/9944 [17:35<37:41,  3.11it/s]"
     ]
    },
    {
     "name": "stdout",
     "output_type": "stream",
     "text": [
      "Error\n"
     ]
    },
    {
     "name": "stderr",
     "output_type": "stream",
     "text": [
      " 29%|██▉       | 2914/9944 [17:36<36:57,  3.17it/s]"
     ]
    },
    {
     "name": "stdout",
     "output_type": "stream",
     "text": [
      "Error\n"
     ]
    },
    {
     "name": "stderr",
     "output_type": "stream",
     "text": [
      " 29%|██▉       | 2915/9944 [17:36<36:16,  3.23it/s]"
     ]
    },
    {
     "name": "stdout",
     "output_type": "stream",
     "text": [
      "Error\n"
     ]
    },
    {
     "name": "stderr",
     "output_type": "stream",
     "text": [
      " 29%|██▉       | 2916/9944 [17:36<35:52,  3.27it/s]"
     ]
    },
    {
     "name": "stdout",
     "output_type": "stream",
     "text": [
      "Error\n"
     ]
    },
    {
     "name": "stderr",
     "output_type": "stream",
     "text": [
      " 29%|██▉       | 2917/9944 [17:37<41:13,  2.84it/s]"
     ]
    },
    {
     "name": "stdout",
     "output_type": "stream",
     "text": [
      "Error\n"
     ]
    },
    {
     "name": "stderr",
     "output_type": "stream",
     "text": [
      " 29%|██▉       | 2918/9944 [17:37<40:08,  2.92it/s]"
     ]
    },
    {
     "name": "stdout",
     "output_type": "stream",
     "text": [
      "Error\n"
     ]
    },
    {
     "name": "stderr",
     "output_type": "stream",
     "text": [
      " 29%|██▉       | 2919/9944 [17:37<39:13,  2.98it/s]"
     ]
    },
    {
     "name": "stdout",
     "output_type": "stream",
     "text": [
      "Error\n"
     ]
    },
    {
     "name": "stderr",
     "output_type": "stream",
     "text": [
      " 29%|██▉       | 2920/9944 [17:38<38:18,  3.06it/s]"
     ]
    },
    {
     "name": "stdout",
     "output_type": "stream",
     "text": [
      "Error\n"
     ]
    },
    {
     "name": "stderr",
     "output_type": "stream",
     "text": [
      " 29%|██▉       | 2921/9944 [17:38<52:45,  2.22it/s]"
     ]
    },
    {
     "name": "stdout",
     "output_type": "stream",
     "text": [
      "Error\n"
     ]
    },
    {
     "name": "stderr",
     "output_type": "stream",
     "text": [
      " 29%|██▉       | 2922/9944 [17:39<47:30,  2.46it/s]"
     ]
    },
    {
     "name": "stdout",
     "output_type": "stream",
     "text": [
      "Error\n"
     ]
    },
    {
     "name": "stderr",
     "output_type": "stream",
     "text": [
      " 29%|██▉       | 2923/9944 [17:39<47:28,  2.46it/s]"
     ]
    },
    {
     "name": "stdout",
     "output_type": "stream",
     "text": [
      "Error\n"
     ]
    },
    {
     "name": "stderr",
     "output_type": "stream",
     "text": [
      " 29%|██▉       | 2924/9944 [17:40<44:18,  2.64it/s]"
     ]
    },
    {
     "name": "stdout",
     "output_type": "stream",
     "text": [
      "Error\n"
     ]
    },
    {
     "name": "stderr",
     "output_type": "stream",
     "text": [
      " 29%|██▉       | 2925/9944 [17:40<41:31,  2.82it/s]"
     ]
    },
    {
     "name": "stdout",
     "output_type": "stream",
     "text": [
      "Error\n"
     ]
    },
    {
     "name": "stderr",
     "output_type": "stream",
     "text": [
      " 29%|██▉       | 2926/9944 [17:40<39:21,  2.97it/s]"
     ]
    },
    {
     "name": "stdout",
     "output_type": "stream",
     "text": [
      "Error\n"
     ]
    },
    {
     "name": "stderr",
     "output_type": "stream",
     "text": [
      " 29%|██▉       | 2927/9944 [17:40<38:26,  3.04it/s]"
     ]
    },
    {
     "name": "stdout",
     "output_type": "stream",
     "text": [
      "Error\n"
     ]
    },
    {
     "name": "stderr",
     "output_type": "stream",
     "text": [
      " 29%|██▉       | 2928/9944 [17:41<43:08,  2.71it/s]"
     ]
    },
    {
     "name": "stdout",
     "output_type": "stream",
     "text": [
      "Error\n"
     ]
    },
    {
     "name": "stderr",
     "output_type": "stream",
     "text": [
      " 29%|██▉       | 2929/9944 [17:41<40:20,  2.90it/s]"
     ]
    },
    {
     "name": "stdout",
     "output_type": "stream",
     "text": [
      "Error\n"
     ]
    },
    {
     "name": "stderr",
     "output_type": "stream",
     "text": [
      " 29%|██▉       | 2931/9944 [17:42<37:59,  3.08it/s]"
     ]
    },
    {
     "name": "stdout",
     "output_type": "stream",
     "text": [
      "Error\n"
     ]
    },
    {
     "name": "stderr",
     "output_type": "stream",
     "text": [
      " 29%|██▉       | 2932/9944 [17:42<37:27,  3.12it/s]"
     ]
    },
    {
     "name": "stdout",
     "output_type": "stream",
     "text": [
      "Error\n"
     ]
    },
    {
     "name": "stderr",
     "output_type": "stream",
     "text": [
      " 29%|██▉       | 2933/9944 [17:42<36:52,  3.17it/s]"
     ]
    },
    {
     "name": "stdout",
     "output_type": "stream",
     "text": [
      "Error\n"
     ]
    },
    {
     "name": "stderr",
     "output_type": "stream",
     "text": [
      " 30%|██▉       | 2934/9944 [17:43<37:27,  3.12it/s]"
     ]
    },
    {
     "name": "stdout",
     "output_type": "stream",
     "text": [
      "Error\n"
     ]
    },
    {
     "name": "stderr",
     "output_type": "stream",
     "text": [
      " 30%|██▉       | 2935/9944 [17:43<37:38,  3.10it/s]"
     ]
    },
    {
     "name": "stdout",
     "output_type": "stream",
     "text": [
      "Error\n"
     ]
    },
    {
     "name": "stderr",
     "output_type": "stream",
     "text": [
      " 31%|███       | 3041/9944 [18:19<38:33,  2.98it/s]"
     ]
    },
    {
     "name": "stdout",
     "output_type": "stream",
     "text": [
      "Error\n"
     ]
    },
    {
     "name": "stderr",
     "output_type": "stream",
     "text": [
      " 31%|███       | 3043/9944 [18:19<35:03,  3.28it/s]"
     ]
    },
    {
     "name": "stdout",
     "output_type": "stream",
     "text": [
      "Error\n"
     ]
    },
    {
     "name": "stderr",
     "output_type": "stream",
     "text": [
      " 33%|███▎      | 3277/9944 [19:39<34:37,  3.21it/s]"
     ]
    },
    {
     "name": "stdout",
     "output_type": "stream",
     "text": [
      "Error\n"
     ]
    },
    {
     "name": "stderr",
     "output_type": "stream",
     "text": [
      " 34%|███▍      | 3383/9944 [20:16<35:03,  3.12it/s]"
     ]
    },
    {
     "name": "stdout",
     "output_type": "stream",
     "text": [
      "Error\n"
     ]
    },
    {
     "name": "stderr",
     "output_type": "stream",
     "text": [
      " 34%|███▍      | 3408/9944 [20:24<31:53,  3.42it/s]"
     ]
    },
    {
     "name": "stdout",
     "output_type": "stream",
     "text": [
      "Error\n"
     ]
    },
    {
     "name": "stderr",
     "output_type": "stream",
     "text": [
      " 37%|███▋      | 3634/9944 [21:55<35:12,  2.99it/s]  "
     ]
    },
    {
     "name": "stdout",
     "output_type": "stream",
     "text": [
      "Error\n"
     ]
    },
    {
     "name": "stderr",
     "output_type": "stream",
     "text": [
      " 37%|███▋      | 3664/9944 [22:05<30:38,  3.42it/s]"
     ]
    },
    {
     "name": "stdout",
     "output_type": "stream",
     "text": [
      "Error\n"
     ]
    },
    {
     "name": "stderr",
     "output_type": "stream",
     "text": [
      " 39%|███▊      | 3849/9944 [23:10<30:59,  3.28it/s]  "
     ]
    },
    {
     "name": "stdout",
     "output_type": "stream",
     "text": [
      "Error\n"
     ]
    },
    {
     "name": "stderr",
     "output_type": "stream",
     "text": [
      " 41%|████      | 4058/9944 [24:20<36:35,  2.68it/s]"
     ]
    },
    {
     "name": "stdout",
     "output_type": "stream",
     "text": [
      "Error\n"
     ]
    },
    {
     "name": "stderr",
     "output_type": "stream",
     "text": [
      " 41%|████      | 4080/9944 [24:27<39:02,  2.50it/s]"
     ]
    },
    {
     "name": "stdout",
     "output_type": "stream",
     "text": [
      "Error\n"
     ]
    },
    {
     "name": "stderr",
     "output_type": "stream",
     "text": [
      " 41%|████▏     | 4107/9944 [24:36<29:58,  3.25it/s]"
     ]
    },
    {
     "name": "stdout",
     "output_type": "stream",
     "text": [
      "Error\n"
     ]
    },
    {
     "name": "stderr",
     "output_type": "stream",
     "text": [
      " 42%|████▏     | 4158/9944 [24:54<32:52,  2.93it/s]"
     ]
    },
    {
     "name": "stdout",
     "output_type": "stream",
     "text": [
      "Error\n"
     ]
    },
    {
     "name": "stderr",
     "output_type": "stream",
     "text": [
      " 42%|████▏     | 4205/9944 [25:10<30:13,  3.16it/s]"
     ]
    },
    {
     "name": "stdout",
     "output_type": "stream",
     "text": [
      "Error\n"
     ]
    },
    {
     "name": "stderr",
     "output_type": "stream",
     "text": [
      " 43%|████▎     | 4262/9944 [25:28<26:39,  3.55it/s]"
     ]
    },
    {
     "name": "stdout",
     "output_type": "stream",
     "text": [
      "Error\n"
     ]
    },
    {
     "name": "stderr",
     "output_type": "stream",
     "text": [
      " 43%|████▎     | 4288/9944 [25:37<30:30,  3.09it/s]"
     ]
    },
    {
     "name": "stdout",
     "output_type": "stream",
     "text": [
      "Error\n"
     ]
    },
    {
     "name": "stderr",
     "output_type": "stream",
     "text": [
      " 43%|████▎     | 4292/9944 [25:38<29:52,  3.15it/s]"
     ]
    },
    {
     "name": "stdout",
     "output_type": "stream",
     "text": [
      "Error\n"
     ]
    },
    {
     "name": "stderr",
     "output_type": "stream",
     "text": [
      " 43%|████▎     | 4293/9944 [25:38<31:21,  3.00it/s]"
     ]
    },
    {
     "name": "stdout",
     "output_type": "stream",
     "text": [
      "Error\n"
     ]
    },
    {
     "name": "stderr",
     "output_type": "stream",
     "text": [
      " 43%|████▎     | 4294/9944 [25:39<31:26,  3.00it/s]"
     ]
    },
    {
     "name": "stdout",
     "output_type": "stream",
     "text": [
      "Error\n"
     ]
    },
    {
     "name": "stderr",
     "output_type": "stream",
     "text": [
      " 43%|████▎     | 4295/9944 [25:39<40:24,  2.33it/s]"
     ]
    },
    {
     "name": "stdout",
     "output_type": "stream",
     "text": [
      "Error\n"
     ]
    },
    {
     "name": "stderr",
     "output_type": "stream",
     "text": [
      " 43%|████▎     | 4297/9944 [25:40<41:57,  2.24it/s]"
     ]
    },
    {
     "name": "stdout",
     "output_type": "stream",
     "text": [
      "Error\n"
     ]
    },
    {
     "name": "stderr",
     "output_type": "stream",
     "text": [
      " 43%|████▎     | 4298/9944 [25:41<42:29,  2.21it/s]"
     ]
    },
    {
     "name": "stdout",
     "output_type": "stream",
     "text": [
      "Error\n"
     ]
    },
    {
     "name": "stderr",
     "output_type": "stream",
     "text": [
      " 43%|████▎     | 4299/9944 [25:41<40:53,  2.30it/s]"
     ]
    },
    {
     "name": "stdout",
     "output_type": "stream",
     "text": [
      "Error\n"
     ]
    },
    {
     "name": "stderr",
     "output_type": "stream",
     "text": [
      " 43%|████▎     | 4300/9944 [25:41<39:51,  2.36it/s]"
     ]
    },
    {
     "name": "stdout",
     "output_type": "stream",
     "text": [
      "Error\n"
     ]
    },
    {
     "name": "stderr",
     "output_type": "stream",
     "text": [
      " 43%|████▎     | 4301/9944 [25:42<40:54,  2.30it/s]"
     ]
    },
    {
     "name": "stdout",
     "output_type": "stream",
     "text": [
      "Error\n"
     ]
    },
    {
     "name": "stderr",
     "output_type": "stream",
     "text": [
      " 43%|████▎     | 4302/9944 [25:42<38:38,  2.43it/s]"
     ]
    },
    {
     "name": "stdout",
     "output_type": "stream",
     "text": [
      "Error\n"
     ]
    },
    {
     "name": "stderr",
     "output_type": "stream",
     "text": [
      " 43%|████▎     | 4303/9944 [25:43<37:10,  2.53it/s]"
     ]
    },
    {
     "name": "stdout",
     "output_type": "stream",
     "text": [
      "Error\n"
     ]
    },
    {
     "name": "stderr",
     "output_type": "stream",
     "text": [
      " 43%|████▎     | 4304/9944 [25:43<36:48,  2.55it/s]"
     ]
    },
    {
     "name": "stdout",
     "output_type": "stream",
     "text": [
      "Error\n"
     ]
    },
    {
     "name": "stderr",
     "output_type": "stream",
     "text": [
      " 43%|████▎     | 4305/9944 [25:43<35:38,  2.64it/s]"
     ]
    },
    {
     "name": "stdout",
     "output_type": "stream",
     "text": [
      "Error\n"
     ]
    },
    {
     "name": "stderr",
     "output_type": "stream",
     "text": [
      " 43%|████▎     | 4306/9944 [25:44<41:23,  2.27it/s]"
     ]
    },
    {
     "name": "stdout",
     "output_type": "stream",
     "text": [
      "Error\n"
     ]
    },
    {
     "name": "stderr",
     "output_type": "stream",
     "text": [
      " 43%|████▎     | 4307/9944 [25:44<40:41,  2.31it/s]"
     ]
    },
    {
     "name": "stdout",
     "output_type": "stream",
     "text": [
      "Error\n"
     ]
    },
    {
     "name": "stderr",
     "output_type": "stream",
     "text": [
      " 43%|████▎     | 4308/9944 [25:45<37:35,  2.50it/s]"
     ]
    },
    {
     "name": "stdout",
     "output_type": "stream",
     "text": [
      "Error\n"
     ]
    },
    {
     "name": "stderr",
     "output_type": "stream",
     "text": [
      " 43%|████▎     | 4309/9944 [25:45<35:41,  2.63it/s]"
     ]
    },
    {
     "name": "stdout",
     "output_type": "stream",
     "text": [
      "Error\n"
     ]
    },
    {
     "name": "stderr",
     "output_type": "stream",
     "text": [
      " 43%|████▎     | 4310/9944 [25:45<34:04,  2.76it/s]"
     ]
    },
    {
     "name": "stdout",
     "output_type": "stream",
     "text": [
      "Error\n"
     ]
    },
    {
     "name": "stderr",
     "output_type": "stream",
     "text": [
      " 43%|████▎     | 4311/9944 [25:46<33:11,  2.83it/s]"
     ]
    },
    {
     "name": "stdout",
     "output_type": "stream",
     "text": [
      "Error\n"
     ]
    },
    {
     "name": "stderr",
     "output_type": "stream",
     "text": [
      " 43%|████▎     | 4312/9944 [25:46<32:30,  2.89it/s]"
     ]
    },
    {
     "name": "stdout",
     "output_type": "stream",
     "text": [
      "Error\n"
     ]
    },
    {
     "name": "stderr",
     "output_type": "stream",
     "text": [
      " 43%|████▎     | 4314/9944 [25:47<35:42,  2.63it/s]"
     ]
    },
    {
     "name": "stdout",
     "output_type": "stream",
     "text": [
      "Error\n"
     ]
    },
    {
     "name": "stderr",
     "output_type": "stream",
     "text": [
      " 43%|████▎     | 4315/9944 [25:47<37:41,  2.49it/s]"
     ]
    },
    {
     "name": "stdout",
     "output_type": "stream",
     "text": [
      "Error\n"
     ]
    },
    {
     "name": "stderr",
     "output_type": "stream",
     "text": [
      " 43%|████▎     | 4316/9944 [25:48<37:03,  2.53it/s]"
     ]
    },
    {
     "name": "stdout",
     "output_type": "stream",
     "text": [
      "Error\n"
     ]
    },
    {
     "name": "stderr",
     "output_type": "stream",
     "text": [
      " 43%|████▎     | 4317/9944 [25:48<42:51,  2.19it/s]"
     ]
    },
    {
     "name": "stdout",
     "output_type": "stream",
     "text": [
      "Error\n"
     ]
    },
    {
     "name": "stderr",
     "output_type": "stream",
     "text": [
      " 43%|████▎     | 4318/9944 [25:49<39:45,  2.36it/s]"
     ]
    },
    {
     "name": "stdout",
     "output_type": "stream",
     "text": [
      "Error\n"
     ]
    },
    {
     "name": "stderr",
     "output_type": "stream",
     "text": [
      " 43%|████▎     | 4319/9944 [25:49<37:11,  2.52it/s]"
     ]
    },
    {
     "name": "stdout",
     "output_type": "stream",
     "text": [
      "Error\n"
     ]
    },
    {
     "name": "stderr",
     "output_type": "stream",
     "text": [
      " 43%|████▎     | 4320/9944 [25:49<34:50,  2.69it/s]"
     ]
    },
    {
     "name": "stdout",
     "output_type": "stream",
     "text": [
      "Error\n"
     ]
    },
    {
     "name": "stderr",
     "output_type": "stream",
     "text": [
      " 43%|████▎     | 4321/9944 [25:50<33:20,  2.81it/s]"
     ]
    },
    {
     "name": "stdout",
     "output_type": "stream",
     "text": [
      "Error\n"
     ]
    },
    {
     "name": "stderr",
     "output_type": "stream",
     "text": [
      " 43%|████▎     | 4322/9944 [25:50<32:49,  2.86it/s]"
     ]
    },
    {
     "name": "stdout",
     "output_type": "stream",
     "text": [
      "Error\n"
     ]
    },
    {
     "name": "stderr",
     "output_type": "stream",
     "text": [
      " 43%|████▎     | 4323/9944 [25:50<32:18,  2.90it/s]"
     ]
    },
    {
     "name": "stdout",
     "output_type": "stream",
     "text": [
      "Error\n"
     ]
    },
    {
     "name": "stderr",
     "output_type": "stream",
     "text": [
      " 43%|████▎     | 4324/9944 [25:51<31:12,  3.00it/s]"
     ]
    },
    {
     "name": "stdout",
     "output_type": "stream",
     "text": [
      "Error\n"
     ]
    },
    {
     "name": "stderr",
     "output_type": "stream",
     "text": [
      " 43%|████▎     | 4325/9944 [25:51<30:31,  3.07it/s]"
     ]
    },
    {
     "name": "stdout",
     "output_type": "stream",
     "text": [
      "Error\n"
     ]
    },
    {
     "name": "stderr",
     "output_type": "stream",
     "text": [
      " 44%|████▎     | 4326/9944 [25:51<29:50,  3.14it/s]"
     ]
    },
    {
     "name": "stdout",
     "output_type": "stream",
     "text": [
      "Error\n"
     ]
    },
    {
     "name": "stderr",
     "output_type": "stream",
     "text": [
      " 44%|████▎     | 4327/9944 [25:51<29:22,  3.19it/s]"
     ]
    },
    {
     "name": "stdout",
     "output_type": "stream",
     "text": [
      "Error\n"
     ]
    },
    {
     "name": "stderr",
     "output_type": "stream",
     "text": [
      " 45%|████▍     | 4439/9944 [26:43<28:21,  3.23it/s]  "
     ]
    },
    {
     "name": "stdout",
     "output_type": "stream",
     "text": [
      "Error\n"
     ]
    },
    {
     "name": "stderr",
     "output_type": "stream",
     "text": [
      " 45%|████▍     | 4440/9944 [26:44<26:14,  3.49it/s]"
     ]
    },
    {
     "name": "stdout",
     "output_type": "stream",
     "text": [
      "Error\n"
     ]
    },
    {
     "name": "stderr",
     "output_type": "stream",
     "text": [
      " 47%|████▋     | 4664/9944 [27:56<26:55,  3.27it/s]"
     ]
    },
    {
     "name": "stdout",
     "output_type": "stream",
     "text": [
      "Error\n"
     ]
    },
    {
     "name": "stderr",
     "output_type": "stream",
     "text": [
      " 48%|████▊     | 4741/9944 [28:22<28:42,  3.02it/s]"
     ]
    },
    {
     "name": "stdout",
     "output_type": "stream",
     "text": [
      "Error\n"
     ]
    },
    {
     "name": "stderr",
     "output_type": "stream",
     "text": [
      " 50%|████▉     | 4941/9944 [29:28<25:54,  3.22it/s]"
     ]
    },
    {
     "name": "stdout",
     "output_type": "stream",
     "text": [
      "Error\n"
     ]
    },
    {
     "name": "stderr",
     "output_type": "stream",
     "text": [
      " 51%|█████     | 5084/9944 [30:16<25:49,  3.14it/s]"
     ]
    },
    {
     "name": "stdout",
     "output_type": "stream",
     "text": [
      "Error\n"
     ]
    },
    {
     "name": "stderr",
     "output_type": "stream",
     "text": [
      " 52%|█████▏    | 5124/9944 [30:29<23:40,  3.39it/s]"
     ]
    },
    {
     "name": "stdout",
     "output_type": "stream",
     "text": [
      "Error\n"
     ]
    },
    {
     "name": "stderr",
     "output_type": "stream",
     "text": [
      " 52%|█████▏    | 5131/9944 [30:31<25:28,  3.15it/s]"
     ]
    },
    {
     "name": "stdout",
     "output_type": "stream",
     "text": [
      "Error\n"
     ]
    },
    {
     "name": "stderr",
     "output_type": "stream",
     "text": [
      " 53%|█████▎    | 5293/9944 [31:41<21:56,  3.53it/s]  "
     ]
    },
    {
     "name": "stdout",
     "output_type": "stream",
     "text": [
      "Error\n"
     ]
    },
    {
     "name": "stderr",
     "output_type": "stream",
     "text": [
      " 53%|█████▎    | 5294/9944 [31:41<23:14,  3.33it/s]"
     ]
    },
    {
     "name": "stdout",
     "output_type": "stream",
     "text": [
      "Error\n"
     ]
    },
    {
     "name": "stderr",
     "output_type": "stream",
     "text": [
      " 53%|█████▎    | 5304/9944 [31:44<23:42,  3.26it/s]"
     ]
    },
    {
     "name": "stdout",
     "output_type": "stream",
     "text": [
      "Error\n"
     ]
    },
    {
     "name": "stderr",
     "output_type": "stream",
     "text": [
      " 53%|█████▎    | 5305/9944 [31:45<24:20,  3.18it/s]"
     ]
    },
    {
     "name": "stdout",
     "output_type": "stream",
     "text": [
      "Error\n"
     ]
    },
    {
     "name": "stderr",
     "output_type": "stream",
     "text": [
      " 53%|█████▎    | 5308/9944 [31:46<23:34,  3.28it/s]"
     ]
    },
    {
     "name": "stdout",
     "output_type": "stream",
     "text": [
      "Error\n"
     ]
    },
    {
     "name": "stderr",
     "output_type": "stream",
     "text": [
      " 53%|█████▎    | 5309/9944 [31:46<24:18,  3.18it/s]"
     ]
    },
    {
     "name": "stdout",
     "output_type": "stream",
     "text": [
      "Error\n"
     ]
    },
    {
     "name": "stderr",
     "output_type": "stream",
     "text": [
      " 53%|█████▎    | 5310/9944 [31:46<28:12,  2.74it/s]"
     ]
    },
    {
     "name": "stdout",
     "output_type": "stream",
     "text": [
      "Error\n"
     ]
    },
    {
     "name": "stderr",
     "output_type": "stream",
     "text": [
      " 53%|█████▎    | 5311/9944 [31:47<29:08,  2.65it/s]"
     ]
    },
    {
     "name": "stdout",
     "output_type": "stream",
     "text": [
      "Error\n"
     ]
    },
    {
     "name": "stderr",
     "output_type": "stream",
     "text": [
      " 53%|█████▎    | 5312/9944 [31:47<32:23,  2.38it/s]"
     ]
    },
    {
     "name": "stdout",
     "output_type": "stream",
     "text": [
      "Error\n"
     ]
    },
    {
     "name": "stderr",
     "output_type": "stream",
     "text": [
      " 53%|█████▎    | 5313/9944 [31:48<30:29,  2.53it/s]"
     ]
    },
    {
     "name": "stdout",
     "output_type": "stream",
     "text": [
      "Error\n"
     ]
    },
    {
     "name": "stderr",
     "output_type": "stream",
     "text": [
      " 53%|█████▎    | 5314/9944 [31:48<39:27,  1.96it/s]"
     ]
    },
    {
     "name": "stdout",
     "output_type": "stream",
     "text": [
      "Error\n"
     ]
    },
    {
     "name": "stderr",
     "output_type": "stream",
     "text": [
      " 53%|█████▎    | 5315/9944 [31:49<48:56,  1.58it/s]"
     ]
    },
    {
     "name": "stdout",
     "output_type": "stream",
     "text": [
      "Error\n"
     ]
    },
    {
     "name": "stderr",
     "output_type": "stream",
     "text": [
      " 53%|█████▎    | 5316/9944 [31:50<49:02,  1.57it/s]"
     ]
    },
    {
     "name": "stdout",
     "output_type": "stream",
     "text": [
      "Error\n"
     ]
    },
    {
     "name": "stderr",
     "output_type": "stream",
     "text": [
      " 53%|█████▎    | 5317/9944 [31:50<41:32,  1.86it/s]"
     ]
    },
    {
     "name": "stdout",
     "output_type": "stream",
     "text": [
      "Error\n"
     ]
    },
    {
     "name": "stderr",
     "output_type": "stream",
     "text": [
      " 53%|█████▎    | 5318/9944 [31:51<36:49,  2.09it/s]"
     ]
    },
    {
     "name": "stdout",
     "output_type": "stream",
     "text": [
      "Error\n"
     ]
    },
    {
     "name": "stderr",
     "output_type": "stream",
     "text": [
      " 53%|█████▎    | 5319/9944 [31:52<49:56,  1.54it/s]"
     ]
    },
    {
     "name": "stdout",
     "output_type": "stream",
     "text": [
      "Error\n"
     ]
    },
    {
     "name": "stderr",
     "output_type": "stream",
     "text": [
      " 54%|█████▎    | 5321/9944 [31:53<48:26,  1.59it/s]"
     ]
    },
    {
     "name": "stdout",
     "output_type": "stream",
     "text": [
      "Error\n"
     ]
    },
    {
     "name": "stderr",
     "output_type": "stream",
     "text": [
      " 54%|█████▎    | 5323/9944 [31:55<1:06:07,  1.16it/s]"
     ]
    },
    {
     "name": "stdout",
     "output_type": "stream",
     "text": [
      "Error\n"
     ]
    },
    {
     "name": "stderr",
     "output_type": "stream",
     "text": [
      " 54%|█████▎    | 5324/9944 [31:55<53:26,  1.44it/s]  "
     ]
    },
    {
     "name": "stdout",
     "output_type": "stream",
     "text": [
      "Error\n"
     ]
    },
    {
     "name": "stderr",
     "output_type": "stream",
     "text": [
      " 54%|█████▎    | 5326/9944 [31:57<56:12,  1.37it/s]"
     ]
    },
    {
     "name": "stdout",
     "output_type": "stream",
     "text": [
      "Error\n"
     ]
    },
    {
     "name": "stderr",
     "output_type": "stream",
     "text": [
      " 54%|█████▎    | 5327/9944 [31:58<1:10:10,  1.10it/s]"
     ]
    },
    {
     "name": "stdout",
     "output_type": "stream",
     "text": [
      "Error\n"
     ]
    },
    {
     "name": "stderr",
     "output_type": "stream",
     "text": [
      " 58%|█████▊    | 5747/9944 [34:31<23:30,  2.98it/s]  "
     ]
    },
    {
     "name": "stdout",
     "output_type": "stream",
     "text": [
      "Error\n"
     ]
    },
    {
     "name": "stderr",
     "output_type": "stream",
     "text": [
      " 58%|█████▊    | 5811/9944 [34:53<21:38,  3.18it/s]"
     ]
    },
    {
     "name": "stdout",
     "output_type": "stream",
     "text": [
      "Error\n"
     ]
    },
    {
     "name": "stderr",
     "output_type": "stream",
     "text": [
      " 59%|█████▊    | 5837/9944 [35:01<22:36,  3.03it/s]"
     ]
    },
    {
     "name": "stdout",
     "output_type": "stream",
     "text": [
      "Error\n"
     ]
    },
    {
     "name": "stderr",
     "output_type": "stream",
     "text": [
      " 60%|█████▉    | 5962/9944 [35:43<18:43,  3.54it/s]"
     ]
    },
    {
     "name": "stdout",
     "output_type": "stream",
     "text": [
      "Error\n"
     ]
    },
    {
     "name": "stderr",
     "output_type": "stream",
     "text": [
      " 60%|██████    | 5978/9944 [35:49<23:24,  2.82it/s]"
     ]
    },
    {
     "name": "stdout",
     "output_type": "stream",
     "text": [
      "Error\n"
     ]
    },
    {
     "name": "stderr",
     "output_type": "stream",
     "text": [
      " 61%|██████▏   | 6110/9944 [36:47<20:06,  3.18it/s]  "
     ]
    },
    {
     "name": "stdout",
     "output_type": "stream",
     "text": [
      "Error\n"
     ]
    },
    {
     "name": "stderr",
     "output_type": "stream",
     "text": [
      " 61%|██████▏   | 6114/9944 [36:48<20:09,  3.17it/s]"
     ]
    },
    {
     "name": "stdout",
     "output_type": "stream",
     "text": [
      "Error\n"
     ]
    },
    {
     "name": "stderr",
     "output_type": "stream",
     "text": [
      " 61%|██████▏   | 6115/9944 [36:49<25:50,  2.47it/s]"
     ]
    },
    {
     "name": "stdout",
     "output_type": "stream",
     "text": [
      "Error\n"
     ]
    },
    {
     "name": "stderr",
     "output_type": "stream",
     "text": [
      " 62%|██████▏   | 6116/9944 [36:49<24:25,  2.61it/s]"
     ]
    },
    {
     "name": "stdout",
     "output_type": "stream",
     "text": [
      "Error\n"
     ]
    },
    {
     "name": "stderr",
     "output_type": "stream",
     "text": [
      " 62%|██████▏   | 6117/9944 [36:49<22:48,  2.80it/s]"
     ]
    },
    {
     "name": "stdout",
     "output_type": "stream",
     "text": [
      "Error\n"
     ]
    },
    {
     "name": "stderr",
     "output_type": "stream",
     "text": [
      " 62%|██████▏   | 6118/9944 [36:50<22:39,  2.82it/s]"
     ]
    },
    {
     "name": "stdout",
     "output_type": "stream",
     "text": [
      "Error\n"
     ]
    },
    {
     "name": "stderr",
     "output_type": "stream",
     "text": [
      " 62%|██████▏   | 6119/9944 [36:50<21:54,  2.91it/s]"
     ]
    },
    {
     "name": "stdout",
     "output_type": "stream",
     "text": [
      "Error\n"
     ]
    },
    {
     "name": "stderr",
     "output_type": "stream",
     "text": [
      " 62%|██████▏   | 6121/9944 [36:51<23:05,  2.76it/s]"
     ]
    },
    {
     "name": "stdout",
     "output_type": "stream",
     "text": [
      "Error\n"
     ]
    },
    {
     "name": "stderr",
     "output_type": "stream",
     "text": [
      " 62%|██████▏   | 6122/9944 [36:51<22:06,  2.88it/s]"
     ]
    },
    {
     "name": "stdout",
     "output_type": "stream",
     "text": [
      "Error\n"
     ]
    },
    {
     "name": "stderr",
     "output_type": "stream",
     "text": [
      " 62%|██████▏   | 6123/9944 [36:51<21:51,  2.91it/s]"
     ]
    },
    {
     "name": "stdout",
     "output_type": "stream",
     "text": [
      "Error\n"
     ]
    },
    {
     "name": "stderr",
     "output_type": "stream",
     "text": [
      " 62%|██████▏   | 6124/9944 [36:52<21:15,  2.99it/s]"
     ]
    },
    {
     "name": "stdout",
     "output_type": "stream",
     "text": [
      "Error\n"
     ]
    },
    {
     "name": "stderr",
     "output_type": "stream",
     "text": [
      " 62%|██████▏   | 6125/9944 [36:52<22:41,  2.80it/s]"
     ]
    },
    {
     "name": "stdout",
     "output_type": "stream",
     "text": [
      "Error\n"
     ]
    },
    {
     "name": "stderr",
     "output_type": "stream",
     "text": [
      " 62%|██████▏   | 6126/9944 [36:53<28:54,  2.20it/s]"
     ]
    },
    {
     "name": "stdout",
     "output_type": "stream",
     "text": [
      "Error\n"
     ]
    },
    {
     "name": "stderr",
     "output_type": "stream",
     "text": [
      " 62%|██████▏   | 6127/9944 [36:53<26:01,  2.44it/s]"
     ]
    },
    {
     "name": "stdout",
     "output_type": "stream",
     "text": [
      "Error\n"
     ]
    },
    {
     "name": "stderr",
     "output_type": "stream",
     "text": [
      " 62%|██████▏   | 6128/9944 [36:53<24:29,  2.60it/s]"
     ]
    },
    {
     "name": "stdout",
     "output_type": "stream",
     "text": [
      "Error\n"
     ]
    },
    {
     "name": "stderr",
     "output_type": "stream",
     "text": [
      " 62%|██████▏   | 6130/9944 [36:54<22:01,  2.89it/s]"
     ]
    },
    {
     "name": "stdout",
     "output_type": "stream",
     "text": [
      "Error\n"
     ]
    },
    {
     "name": "stderr",
     "output_type": "stream",
     "text": [
      " 63%|██████▎   | 6220/9944 [37:24<19:55,  3.11it/s]"
     ]
    },
    {
     "name": "stdout",
     "output_type": "stream",
     "text": [
      "Error\n"
     ]
    },
    {
     "name": "stderr",
     "output_type": "stream",
     "text": [
      " 63%|██████▎   | 6274/9944 [37:43<23:25,  2.61it/s]"
     ]
    },
    {
     "name": "stdout",
     "output_type": "stream",
     "text": [
      "Error\n"
     ]
    },
    {
     "name": "stderr",
     "output_type": "stream",
     "text": [
      " 64%|██████▍   | 6387/9944 [38:24<18:21,  3.23it/s]"
     ]
    },
    {
     "name": "stdout",
     "output_type": "stream",
     "text": [
      "Error\n"
     ]
    },
    {
     "name": "stderr",
     "output_type": "stream",
     "text": [
      " 67%|██████▋   | 6680/9944 [40:07<19:00,  2.86it/s]"
     ]
    },
    {
     "name": "stdout",
     "output_type": "stream",
     "text": [
      "Error\n"
     ]
    },
    {
     "name": "stderr",
     "output_type": "stream",
     "text": [
      " 67%|██████▋   | 6681/9944 [40:07<18:25,  2.95it/s]"
     ]
    },
    {
     "name": "stdout",
     "output_type": "stream",
     "text": [
      "Error\n"
     ]
    },
    {
     "name": "stderr",
     "output_type": "stream",
     "text": [
      " 67%|██████▋   | 6682/9944 [40:07<18:04,  3.01it/s]"
     ]
    },
    {
     "name": "stdout",
     "output_type": "stream",
     "text": [
      "Error\n"
     ]
    },
    {
     "name": "stderr",
     "output_type": "stream",
     "text": [
      " 67%|██████▋   | 6683/9944 [40:08<19:34,  2.78it/s]"
     ]
    },
    {
     "name": "stdout",
     "output_type": "stream",
     "text": [
      "Error\n"
     ]
    },
    {
     "name": "stderr",
     "output_type": "stream",
     "text": [
      " 67%|██████▋   | 6684/9944 [40:08<19:17,  2.82it/s]"
     ]
    },
    {
     "name": "stdout",
     "output_type": "stream",
     "text": [
      "Error\n"
     ]
    },
    {
     "name": "stderr",
     "output_type": "stream",
     "text": [
      " 67%|██████▋   | 6686/9944 [40:09<19:25,  2.79it/s]"
     ]
    },
    {
     "name": "stdout",
     "output_type": "stream",
     "text": [
      "Error\n"
     ]
    },
    {
     "name": "stderr",
     "output_type": "stream",
     "text": [
      " 67%|██████▋   | 6687/9944 [40:09<18:16,  2.97it/s]"
     ]
    },
    {
     "name": "stdout",
     "output_type": "stream",
     "text": [
      "Error\n"
     ]
    },
    {
     "name": "stderr",
     "output_type": "stream",
     "text": [
      " 67%|██████▋   | 6688/9944 [40:10<18:20,  2.96it/s]"
     ]
    },
    {
     "name": "stdout",
     "output_type": "stream",
     "text": [
      "Error\n"
     ]
    },
    {
     "name": "stderr",
     "output_type": "stream",
     "text": [
      " 67%|██████▋   | 6689/9944 [40:10<20:13,  2.68it/s]"
     ]
    },
    {
     "name": "stdout",
     "output_type": "stream",
     "text": [
      "Error\n"
     ]
    },
    {
     "name": "stderr",
     "output_type": "stream",
     "text": [
      " 67%|██████▋   | 6690/9944 [40:10<20:10,  2.69it/s]"
     ]
    },
    {
     "name": "stdout",
     "output_type": "stream",
     "text": [
      "Error\n"
     ]
    },
    {
     "name": "stderr",
     "output_type": "stream",
     "text": [
      " 67%|██████▋   | 6691/9944 [40:11<19:35,  2.77it/s]"
     ]
    },
    {
     "name": "stdout",
     "output_type": "stream",
     "text": [
      "Error\n"
     ]
    },
    {
     "name": "stderr",
     "output_type": "stream",
     "text": [
      " 67%|██████▋   | 6692/9944 [40:11<18:45,  2.89it/s]"
     ]
    },
    {
     "name": "stdout",
     "output_type": "stream",
     "text": [
      "Error\n"
     ]
    },
    {
     "name": "stderr",
     "output_type": "stream",
     "text": [
      " 67%|██████▋   | 6693/9944 [40:11<18:37,  2.91it/s]"
     ]
    },
    {
     "name": "stdout",
     "output_type": "stream",
     "text": [
      "Error\n"
     ]
    },
    {
     "name": "stderr",
     "output_type": "stream",
     "text": [
      " 67%|██████▋   | 6694/9944 [40:12<17:59,  3.01it/s]"
     ]
    },
    {
     "name": "stdout",
     "output_type": "stream",
     "text": [
      "Error\n"
     ]
    },
    {
     "name": "stderr",
     "output_type": "stream",
     "text": [
      " 67%|██████▋   | 6695/9944 [40:12<19:18,  2.81it/s]"
     ]
    },
    {
     "name": "stdout",
     "output_type": "stream",
     "text": [
      "Error\n"
     ]
    },
    {
     "name": "stderr",
     "output_type": "stream",
     "text": [
      " 67%|██████▋   | 6696/9944 [40:12<18:17,  2.96it/s]"
     ]
    },
    {
     "name": "stdout",
     "output_type": "stream",
     "text": [
      "Error\n"
     ]
    },
    {
     "name": "stderr",
     "output_type": "stream",
     "text": [
      " 67%|██████▋   | 6697/9944 [40:13<18:07,  2.99it/s]"
     ]
    },
    {
     "name": "stdout",
     "output_type": "stream",
     "text": [
      "Error\n"
     ]
    },
    {
     "name": "stderr",
     "output_type": "stream",
     "text": [
      " 70%|██████▉   | 6937/9944 [41:49<17:00,  2.95it/s]  "
     ]
    },
    {
     "name": "stdout",
     "output_type": "stream",
     "text": [
      "Error\n"
     ]
    },
    {
     "name": "stderr",
     "output_type": "stream",
     "text": [
      " 70%|███████   | 6975/9944 [42:01<15:15,  3.24it/s]"
     ]
    },
    {
     "name": "stdout",
     "output_type": "stream",
     "text": [
      "Error\n"
     ]
    },
    {
     "name": "stderr",
     "output_type": "stream",
     "text": [
      " 72%|███████▏  | 7114/9944 [42:47<14:32,  3.24it/s]"
     ]
    },
    {
     "name": "stdout",
     "output_type": "stream",
     "text": [
      "Error\n"
     ]
    },
    {
     "name": "stderr",
     "output_type": "stream",
     "text": [
      " 72%|███████▏  | 7116/9944 [42:47<15:31,  3.04it/s]"
     ]
    },
    {
     "name": "stdout",
     "output_type": "stream",
     "text": [
      "Error\n"
     ]
    },
    {
     "name": "stderr",
     "output_type": "stream",
     "text": [
      " 72%|███████▏  | 7117/9944 [42:48<16:53,  2.79it/s]"
     ]
    },
    {
     "name": "stdout",
     "output_type": "stream",
     "text": [
      "Error\n"
     ]
    },
    {
     "name": "stderr",
     "output_type": "stream",
     "text": [
      " 72%|███████▏  | 7118/9944 [42:48<16:26,  2.87it/s]"
     ]
    },
    {
     "name": "stdout",
     "output_type": "stream",
     "text": [
      "Error\n"
     ]
    },
    {
     "name": "stderr",
     "output_type": "stream",
     "text": [
      " 72%|███████▏  | 7120/9944 [42:49<16:36,  2.84it/s]"
     ]
    },
    {
     "name": "stdout",
     "output_type": "stream",
     "text": [
      "Error\n"
     ]
    },
    {
     "name": "stderr",
     "output_type": "stream",
     "text": [
      " 72%|███████▏  | 7121/9944 [42:49<17:43,  2.65it/s]"
     ]
    },
    {
     "name": "stdout",
     "output_type": "stream",
     "text": [
      "Error\n"
     ]
    },
    {
     "name": "stderr",
     "output_type": "stream",
     "text": [
      " 72%|███████▏  | 7122/9944 [42:50<16:52,  2.79it/s]"
     ]
    },
    {
     "name": "stdout",
     "output_type": "stream",
     "text": [
      "Error\n"
     ]
    },
    {
     "name": "stderr",
     "output_type": "stream",
     "text": [
      " 72%|███████▏  | 7123/9944 [42:50<16:24,  2.87it/s]"
     ]
    },
    {
     "name": "stdout",
     "output_type": "stream",
     "text": [
      "Error\n"
     ]
    },
    {
     "name": "stderr",
     "output_type": "stream",
     "text": [
      " 75%|███████▍  | 7444/9944 [44:34<13:48,  3.02it/s]"
     ]
    },
    {
     "name": "stdout",
     "output_type": "stream",
     "text": [
      "Error\n"
     ]
    },
    {
     "name": "stderr",
     "output_type": "stream",
     "text": [
      " 75%|███████▍  | 7445/9944 [44:35<14:50,  2.81it/s]"
     ]
    },
    {
     "name": "stdout",
     "output_type": "stream",
     "text": [
      "Error\n"
     ]
    },
    {
     "name": "stderr",
     "output_type": "stream",
     "text": [
      " 75%|███████▍  | 7446/9944 [44:35<14:20,  2.90it/s]"
     ]
    },
    {
     "name": "stdout",
     "output_type": "stream",
     "text": [
      "Error\n"
     ]
    },
    {
     "name": "stderr",
     "output_type": "stream",
     "text": [
      " 75%|███████▍  | 7447/9944 [44:36<13:58,  2.98it/s]"
     ]
    },
    {
     "name": "stdout",
     "output_type": "stream",
     "text": [
      "Error\n"
     ]
    },
    {
     "name": "stderr",
     "output_type": "stream",
     "text": [
      " 75%|███████▍  | 7448/9944 [44:36<13:46,  3.02it/s]"
     ]
    },
    {
     "name": "stdout",
     "output_type": "stream",
     "text": [
      "Error\n"
     ]
    },
    {
     "name": "stderr",
     "output_type": "stream",
     "text": [
      " 75%|███████▍  | 7449/9944 [44:36<13:44,  3.03it/s]"
     ]
    },
    {
     "name": "stdout",
     "output_type": "stream",
     "text": [
      "Error\n"
     ]
    },
    {
     "name": "stderr",
     "output_type": "stream",
     "text": [
      " 75%|███████▍  | 7450/9944 [44:37<14:43,  2.82it/s]"
     ]
    },
    {
     "name": "stdout",
     "output_type": "stream",
     "text": [
      "Error\n"
     ]
    },
    {
     "name": "stderr",
     "output_type": "stream",
     "text": [
      " 75%|███████▍  | 7451/9944 [44:37<14:01,  2.96it/s]"
     ]
    },
    {
     "name": "stdout",
     "output_type": "stream",
     "text": [
      "Error\n"
     ]
    },
    {
     "name": "stderr",
     "output_type": "stream",
     "text": [
      " 75%|███████▍  | 7452/9944 [44:37<13:36,  3.05it/s]"
     ]
    },
    {
     "name": "stdout",
     "output_type": "stream",
     "text": [
      "Error\n"
     ]
    },
    {
     "name": "stderr",
     "output_type": "stream",
     "text": [
      " 75%|███████▍  | 7453/9944 [44:38<15:03,  2.76it/s]"
     ]
    },
    {
     "name": "stdout",
     "output_type": "stream",
     "text": [
      "Error\n"
     ]
    },
    {
     "name": "stderr",
     "output_type": "stream",
     "text": [
      " 75%|███████▍  | 7454/9944 [44:38<14:31,  2.86it/s]"
     ]
    },
    {
     "name": "stdout",
     "output_type": "stream",
     "text": [
      "Error\n"
     ]
    },
    {
     "name": "stderr",
     "output_type": "stream",
     "text": [
      " 77%|███████▋  | 7656/9944 [45:45<11:57,  3.19it/s]"
     ]
    },
    {
     "name": "stdout",
     "output_type": "stream",
     "text": [
      "Error\n"
     ]
    },
    {
     "name": "stderr",
     "output_type": "stream",
     "text": [
      " 78%|███████▊  | 7708/9944 [46:03<11:25,  3.26it/s]"
     ]
    },
    {
     "name": "stdout",
     "output_type": "stream",
     "text": [
      "Error\n"
     ]
    },
    {
     "name": "stderr",
     "output_type": "stream",
     "text": [
      " 78%|███████▊  | 7709/9944 [46:03<11:18,  3.29it/s]"
     ]
    },
    {
     "name": "stdout",
     "output_type": "stream",
     "text": [
      "Error\n"
     ]
    },
    {
     "name": "stderr",
     "output_type": "stream",
     "text": [
      " 78%|███████▊  | 7710/9944 [46:04<11:29,  3.24it/s]"
     ]
    },
    {
     "name": "stdout",
     "output_type": "stream",
     "text": [
      "Error\n"
     ]
    },
    {
     "name": "stderr",
     "output_type": "stream",
     "text": [
      " 78%|███████▊  | 7711/9944 [46:04<14:42,  2.53it/s]"
     ]
    },
    {
     "name": "stdout",
     "output_type": "stream",
     "text": [
      "Error\n"
     ]
    },
    {
     "name": "stderr",
     "output_type": "stream",
     "text": [
      " 78%|███████▊  | 7712/9944 [46:05<14:03,  2.64it/s]"
     ]
    },
    {
     "name": "stdout",
     "output_type": "stream",
     "text": [
      "Error\n"
     ]
    },
    {
     "name": "stderr",
     "output_type": "stream",
     "text": [
      " 78%|███████▊  | 7713/9944 [46:05<13:21,  2.78it/s]"
     ]
    },
    {
     "name": "stdout",
     "output_type": "stream",
     "text": [
      "Error\n"
     ]
    },
    {
     "name": "stderr",
     "output_type": "stream",
     "text": [
      " 79%|███████▉  | 7878/9944 [47:43<10:29,  3.28it/s]"
     ]
    },
    {
     "name": "stdout",
     "output_type": "stream",
     "text": [
      "Error\n"
     ]
    },
    {
     "name": "stderr",
     "output_type": "stream",
     "text": [
      " 79%|███████▉  | 7900/9944 [47:49<10:20,  3.29it/s]"
     ]
    },
    {
     "name": "stdout",
     "output_type": "stream",
     "text": [
      "Error\n"
     ]
    },
    {
     "name": "stderr",
     "output_type": "stream",
     "text": [
      " 79%|███████▉  | 7901/9944 [47:50<10:34,  3.22it/s]"
     ]
    },
    {
     "name": "stdout",
     "output_type": "stream",
     "text": [
      "Error\n"
     ]
    },
    {
     "name": "stderr",
     "output_type": "stream",
     "text": [
      " 79%|███████▉  | 7902/9944 [47:50<10:30,  3.24it/s]"
     ]
    },
    {
     "name": "stdout",
     "output_type": "stream",
     "text": [
      "Error\n"
     ]
    },
    {
     "name": "stderr",
     "output_type": "stream",
     "text": [
      " 80%|███████▉  | 7914/9944 [47:54<09:42,  3.48it/s]"
     ]
    },
    {
     "name": "stdout",
     "output_type": "stream",
     "text": [
      "Error\n"
     ]
    },
    {
     "name": "stderr",
     "output_type": "stream",
     "text": [
      " 80%|████████  | 7959/9944 [48:09<11:01,  3.00it/s]"
     ]
    },
    {
     "name": "stdout",
     "output_type": "stream",
     "text": [
      "Error\n"
     ]
    },
    {
     "name": "stderr",
     "output_type": "stream",
     "text": [
      " 81%|████████  | 8015/9944 [48:33<21:07,  1.52it/s]"
     ]
    },
    {
     "name": "stdout",
     "output_type": "stream",
     "text": [
      "Error\n"
     ]
    },
    {
     "name": "stderr",
     "output_type": "stream",
     "text": [
      " 81%|████████  | 8016/9944 [48:33<20:02,  1.60it/s]"
     ]
    },
    {
     "name": "stdout",
     "output_type": "stream",
     "text": [
      "Error\n"
     ]
    },
    {
     "name": "stderr",
     "output_type": "stream",
     "text": [
      " 81%|████████  | 8053/9944 [48:46<09:55,  3.18it/s]"
     ]
    },
    {
     "name": "stdout",
     "output_type": "stream",
     "text": [
      "Error\n"
     ]
    },
    {
     "name": "stderr",
     "output_type": "stream",
     "text": [
      " 82%|████████▏ | 8124/9944 [49:22<10:25,  2.91it/s]"
     ]
    },
    {
     "name": "stdout",
     "output_type": "stream",
     "text": [
      "Error\n"
     ]
    },
    {
     "name": "stderr",
     "output_type": "stream",
     "text": [
      " 82%|████████▏ | 8125/9944 [49:23<09:52,  3.07it/s]"
     ]
    },
    {
     "name": "stdout",
     "output_type": "stream",
     "text": [
      "Error\n"
     ]
    },
    {
     "name": "stderr",
     "output_type": "stream",
     "text": [
      " 82%|████████▏ | 8126/9944 [49:23<09:39,  3.14it/s]"
     ]
    },
    {
     "name": "stdout",
     "output_type": "stream",
     "text": [
      "Error\n"
     ]
    },
    {
     "name": "stderr",
     "output_type": "stream",
     "text": [
      " 83%|████████▎ | 8211/9944 [49:53<10:55,  2.64it/s]"
     ]
    },
    {
     "name": "stdout",
     "output_type": "stream",
     "text": [
      "Error\n"
     ]
    },
    {
     "name": "stderr",
     "output_type": "stream",
     "text": [
      " 83%|████████▎ | 8215/9944 [49:54<10:20,  2.79it/s]"
     ]
    },
    {
     "name": "stdout",
     "output_type": "stream",
     "text": [
      "Error\n"
     ]
    },
    {
     "name": "stderr",
     "output_type": "stream",
     "text": [
      " 83%|████████▎ | 8266/9944 [50:11<08:48,  3.17it/s]"
     ]
    },
    {
     "name": "stdout",
     "output_type": "stream",
     "text": [
      "Error\n"
     ]
    },
    {
     "name": "stderr",
     "output_type": "stream",
     "text": [
      " 83%|████████▎ | 8267/9944 [50:11<08:47,  3.18it/s]"
     ]
    },
    {
     "name": "stdout",
     "output_type": "stream",
     "text": [
      "Error\n"
     ]
    },
    {
     "name": "stderr",
     "output_type": "stream",
     "text": [
      " 83%|████████▎ | 8268/9944 [50:12<08:50,  3.16it/s]"
     ]
    },
    {
     "name": "stdout",
     "output_type": "stream",
     "text": [
      "Error\n"
     ]
    },
    {
     "name": "stderr",
     "output_type": "stream",
     "text": [
      " 84%|████████▍ | 8341/9944 [50:35<08:33,  3.12it/s]"
     ]
    },
    {
     "name": "stdout",
     "output_type": "stream",
     "text": [
      "Error\n"
     ]
    },
    {
     "name": "stderr",
     "output_type": "stream",
     "text": [
      " 84%|████████▍ | 8368/9944 [50:44<08:10,  3.21it/s]"
     ]
    },
    {
     "name": "stdout",
     "output_type": "stream",
     "text": [
      "Error\n"
     ]
    },
    {
     "name": "stderr",
     "output_type": "stream",
     "text": [
      " 85%|████████▍ | 8430/9944 [51:05<08:47,  2.87it/s]"
     ]
    },
    {
     "name": "stdout",
     "output_type": "stream",
     "text": [
      "Error\n"
     ]
    },
    {
     "name": "stderr",
     "output_type": "stream",
     "text": [
      " 85%|████████▌ | 8453/9944 [51:14<12:45,  1.95it/s]"
     ]
    },
    {
     "name": "stdout",
     "output_type": "stream",
     "text": [
      "Error\n"
     ]
    },
    {
     "name": "stderr",
     "output_type": "stream",
     "text": [
      " 85%|████████▌ | 8464/9944 [51:27<35:49,  1.45s/it]"
     ]
    },
    {
     "name": "stdout",
     "output_type": "stream",
     "text": [
      "Error\n"
     ]
    },
    {
     "name": "stderr",
     "output_type": "stream",
     "text": [
      " 85%|████████▌ | 8471/9944 [51:32<16:16,  1.51it/s]"
     ]
    },
    {
     "name": "stdout",
     "output_type": "stream",
     "text": [
      "Error\n"
     ]
    },
    {
     "name": "stderr",
     "output_type": "stream",
     "text": [
      " 85%|████████▌ | 8483/9944 [51:36<06:49,  3.57it/s]"
     ]
    },
    {
     "name": "stdout",
     "output_type": "stream",
     "text": [
      "Error\n"
     ]
    },
    {
     "name": "stderr",
     "output_type": "stream",
     "text": [
      " 86%|████████▌ | 8505/9944 [51:42<06:44,  3.55it/s]"
     ]
    },
    {
     "name": "stdout",
     "output_type": "stream",
     "text": [
      "Error\n"
     ]
    },
    {
     "name": "stderr",
     "output_type": "stream",
     "text": [
      " 86%|████████▌ | 8508/9944 [51:43<07:10,  3.34it/s]"
     ]
    },
    {
     "name": "stdout",
     "output_type": "stream",
     "text": [
      "Error\n"
     ]
    },
    {
     "name": "stderr",
     "output_type": "stream",
     "text": [
      " 86%|████████▌ | 8509/9944 [51:44<06:46,  3.53it/s]"
     ]
    },
    {
     "name": "stdout",
     "output_type": "stream",
     "text": [
      "Error\n"
     ]
    },
    {
     "name": "stderr",
     "output_type": "stream",
     "text": [
      " 86%|████████▌ | 8521/9944 [51:47<07:03,  3.36it/s]"
     ]
    },
    {
     "name": "stdout",
     "output_type": "stream",
     "text": [
      "Error\n"
     ]
    },
    {
     "name": "stderr",
     "output_type": "stream",
     "text": [
      " 86%|████████▌ | 8527/9944 [51:49<06:28,  3.65it/s]"
     ]
    },
    {
     "name": "stdout",
     "output_type": "stream",
     "text": [
      "Error\n"
     ]
    },
    {
     "name": "stderr",
     "output_type": "stream",
     "text": [
      " 86%|████████▌ | 8558/9944 [51:58<06:26,  3.59it/s]"
     ]
    },
    {
     "name": "stdout",
     "output_type": "stream",
     "text": [
      "Error\n"
     ]
    },
    {
     "name": "stderr",
     "output_type": "stream",
     "text": [
      " 86%|████████▋ | 8594/9944 [52:09<06:13,  3.62it/s]"
     ]
    },
    {
     "name": "stdout",
     "output_type": "stream",
     "text": [
      "Error\n"
     ]
    },
    {
     "name": "stderr",
     "output_type": "stream",
     "text": [
      " 87%|████████▋ | 8645/9944 [52:25<06:14,  3.47it/s]"
     ]
    },
    {
     "name": "stdout",
     "output_type": "stream",
     "text": [
      "Error\n"
     ]
    },
    {
     "name": "stderr",
     "output_type": "stream",
     "text": [
      " 88%|████████▊ | 8748/9944 [52:58<05:44,  3.47it/s]"
     ]
    },
    {
     "name": "stdout",
     "output_type": "stream",
     "text": [
      "Error\n"
     ]
    },
    {
     "name": "stderr",
     "output_type": "stream",
     "text": [
      " 89%|████████▊ | 8803/9944 [53:14<05:13,  3.64it/s]"
     ]
    },
    {
     "name": "stdout",
     "output_type": "stream",
     "text": [
      "Error\n"
     ]
    },
    {
     "name": "stderr",
     "output_type": "stream",
     "text": [
      " 89%|████████▊ | 8804/9944 [53:15<05:55,  3.21it/s]"
     ]
    },
    {
     "name": "stdout",
     "output_type": "stream",
     "text": [
      "Error\n"
     ]
    },
    {
     "name": "stderr",
     "output_type": "stream",
     "text": [
      " 89%|████████▉ | 8856/9944 [53:32<04:55,  3.68it/s]"
     ]
    },
    {
     "name": "stdout",
     "output_type": "stream",
     "text": [
      "Error\n"
     ]
    },
    {
     "name": "stderr",
     "output_type": "stream",
     "text": [
      " 89%|████████▉ | 8861/9944 [53:33<05:19,  3.39it/s]"
     ]
    },
    {
     "name": "stdout",
     "output_type": "stream",
     "text": [
      "Error\n"
     ]
    },
    {
     "name": "stderr",
     "output_type": "stream",
     "text": [
      " 89%|████████▉ | 8862/9944 [53:34<05:10,  3.49it/s]"
     ]
    },
    {
     "name": "stdout",
     "output_type": "stream",
     "text": [
      "Error\n"
     ]
    },
    {
     "name": "stderr",
     "output_type": "stream",
     "text": [
      " 89%|████████▉ | 8871/9944 [53:36<05:44,  3.12it/s]"
     ]
    },
    {
     "name": "stdout",
     "output_type": "stream",
     "text": [
      "Error\n"
     ]
    },
    {
     "name": "stderr",
     "output_type": "stream",
     "text": [
      " 89%|████████▉ | 8872/9944 [53:37<05:22,  3.33it/s]"
     ]
    },
    {
     "name": "stdout",
     "output_type": "stream",
     "text": [
      "Error\n"
     ]
    },
    {
     "name": "stderr",
     "output_type": "stream",
     "text": [
      " 89%|████████▉ | 8874/9944 [53:37<05:11,  3.44it/s]"
     ]
    },
    {
     "name": "stdout",
     "output_type": "stream",
     "text": [
      "Error\n"
     ]
    },
    {
     "name": "stderr",
     "output_type": "stream",
     "text": [
      " 89%|████████▉ | 8876/9944 [53:38<04:56,  3.60it/s]"
     ]
    },
    {
     "name": "stdout",
     "output_type": "stream",
     "text": [
      "Error\n"
     ]
    },
    {
     "name": "stderr",
     "output_type": "stream",
     "text": [
      " 89%|████████▉ | 8888/9944 [53:41<04:54,  3.58it/s]"
     ]
    },
    {
     "name": "stdout",
     "output_type": "stream",
     "text": [
      "Error\n"
     ]
    },
    {
     "name": "stderr",
     "output_type": "stream",
     "text": [
      " 90%|████████▉ | 8935/9944 [53:55<04:33,  3.69it/s]"
     ]
    },
    {
     "name": "stdout",
     "output_type": "stream",
     "text": [
      "Error\n"
     ]
    },
    {
     "name": "stderr",
     "output_type": "stream",
     "text": [
      " 90%|█████████ | 8962/9944 [54:04<04:31,  3.62it/s]"
     ]
    },
    {
     "name": "stdout",
     "output_type": "stream",
     "text": [
      "Error\n"
     ]
    },
    {
     "name": "stderr",
     "output_type": "stream",
     "text": [
      " 90%|█████████ | 8963/9944 [54:04<04:20,  3.76it/s]"
     ]
    },
    {
     "name": "stdout",
     "output_type": "stream",
     "text": [
      "Error\n"
     ]
    },
    {
     "name": "stderr",
     "output_type": "stream",
     "text": [
      " 90%|█████████ | 8964/9944 [54:04<04:17,  3.80it/s]"
     ]
    },
    {
     "name": "stdout",
     "output_type": "stream",
     "text": [
      "Error\n"
     ]
    },
    {
     "name": "stderr",
     "output_type": "stream",
     "text": [
      " 90%|█████████ | 8967/9944 [54:05<04:21,  3.73it/s]"
     ]
    },
    {
     "name": "stdout",
     "output_type": "stream",
     "text": [
      "Error\n"
     ]
    },
    {
     "name": "stderr",
     "output_type": "stream",
     "text": [
      " 90%|█████████ | 8975/9944 [54:07<04:27,  3.62it/s]"
     ]
    },
    {
     "name": "stdout",
     "output_type": "stream",
     "text": [
      "Error\n"
     ]
    },
    {
     "name": "stderr",
     "output_type": "stream",
     "text": [
      " 91%|█████████ | 9030/9944 [54:23<04:13,  3.61it/s]"
     ]
    },
    {
     "name": "stdout",
     "output_type": "stream",
     "text": [
      "Error\n"
     ]
    },
    {
     "name": "stderr",
     "output_type": "stream",
     "text": [
      " 91%|█████████ | 9035/9944 [54:25<04:08,  3.66it/s]"
     ]
    },
    {
     "name": "stdout",
     "output_type": "stream",
     "text": [
      "Error\n"
     ]
    },
    {
     "name": "stderr",
     "output_type": "stream",
     "text": [
      " 91%|█████████ | 9036/9944 [54:25<04:42,  3.22it/s]"
     ]
    },
    {
     "name": "stdout",
     "output_type": "stream",
     "text": [
      "Error\n"
     ]
    },
    {
     "name": "stderr",
     "output_type": "stream",
     "text": [
      " 91%|█████████ | 9038/9944 [54:26<04:15,  3.55it/s]"
     ]
    },
    {
     "name": "stdout",
     "output_type": "stream",
     "text": [
      "Error\n",
      "Error\n"
     ]
    },
    {
     "name": "stderr",
     "output_type": "stream",
     "text": [
      " 91%|█████████ | 9044/9944 [54:27<04:06,  3.65it/s]"
     ]
    },
    {
     "name": "stdout",
     "output_type": "stream",
     "text": [
      "Error\n"
     ]
    },
    {
     "name": "stderr",
     "output_type": "stream",
     "text": [
      " 91%|█████████▏| 9082/9944 [54:39<04:03,  3.53it/s]"
     ]
    },
    {
     "name": "stdout",
     "output_type": "stream",
     "text": [
      "Error\n"
     ]
    },
    {
     "name": "stderr",
     "output_type": "stream",
     "text": [
      " 91%|█████████▏| 9083/9944 [54:39<03:52,  3.70it/s]"
     ]
    },
    {
     "name": "stdout",
     "output_type": "stream",
     "text": [
      "Error\n"
     ]
    },
    {
     "name": "stderr",
     "output_type": "stream",
     "text": [
      " 91%|█████████▏| 9085/9944 [54:40<03:44,  3.83it/s]"
     ]
    },
    {
     "name": "stdout",
     "output_type": "stream",
     "text": [
      "Error\n"
     ]
    },
    {
     "name": "stderr",
     "output_type": "stream",
     "text": [
      " 91%|█████████▏| 9087/9944 [54:40<03:44,  3.82it/s]"
     ]
    },
    {
     "name": "stdout",
     "output_type": "stream",
     "text": [
      "Error\n"
     ]
    },
    {
     "name": "stderr",
     "output_type": "stream",
     "text": [
      " 91%|█████████▏| 9098/9944 [54:43<03:50,  3.68it/s]"
     ]
    },
    {
     "name": "stdout",
     "output_type": "stream",
     "text": [
      "Error\n"
     ]
    },
    {
     "name": "stderr",
     "output_type": "stream",
     "text": [
      " 92%|█████████▏| 9100/9944 [54:44<04:16,  3.29it/s]"
     ]
    },
    {
     "name": "stdout",
     "output_type": "stream",
     "text": [
      "Error\n"
     ]
    },
    {
     "name": "stderr",
     "output_type": "stream",
     "text": [
      " 92%|█████████▏| 9122/9944 [54:51<04:24,  3.11it/s]"
     ]
    },
    {
     "name": "stdout",
     "output_type": "stream",
     "text": [
      "Error\n"
     ]
    },
    {
     "name": "stderr",
     "output_type": "stream",
     "text": [
      " 92%|█████████▏| 9128/9944 [54:52<03:55,  3.46it/s]"
     ]
    },
    {
     "name": "stdout",
     "output_type": "stream",
     "text": [
      "Error\n"
     ]
    },
    {
     "name": "stderr",
     "output_type": "stream",
     "text": [
      " 92%|█████████▏| 9134/9944 [54:54<03:55,  3.44it/s]"
     ]
    },
    {
     "name": "stdout",
     "output_type": "stream",
     "text": [
      "Error\n"
     ]
    },
    {
     "name": "stderr",
     "output_type": "stream",
     "text": [
      " 92%|█████████▏| 9147/9944 [54:58<03:45,  3.54it/s]"
     ]
    },
    {
     "name": "stdout",
     "output_type": "stream",
     "text": [
      "Error\n"
     ]
    },
    {
     "name": "stderr",
     "output_type": "stream",
     "text": [
      " 92%|█████████▏| 9160/9944 [55:02<03:34,  3.65it/s]"
     ]
    },
    {
     "name": "stdout",
     "output_type": "stream",
     "text": [
      "Error\n"
     ]
    },
    {
     "name": "stderr",
     "output_type": "stream",
     "text": [
      " 92%|█████████▏| 9170/9944 [55:05<03:44,  3.44it/s]"
     ]
    },
    {
     "name": "stdout",
     "output_type": "stream",
     "text": [
      "Error\n"
     ]
    },
    {
     "name": "stderr",
     "output_type": "stream",
     "text": [
      " 92%|█████████▏| 9171/9944 [55:05<03:31,  3.66it/s]"
     ]
    },
    {
     "name": "stdout",
     "output_type": "stream",
     "text": [
      "Error\n"
     ]
    },
    {
     "name": "stderr",
     "output_type": "stream",
     "text": [
      " 92%|█████████▏| 9182/9944 [55:08<03:32,  3.59it/s]"
     ]
    },
    {
     "name": "stdout",
     "output_type": "stream",
     "text": [
      "Error\n"
     ]
    },
    {
     "name": "stderr",
     "output_type": "stream",
     "text": [
      " 92%|█████████▏| 9183/9944 [55:08<03:29,  3.63it/s]"
     ]
    },
    {
     "name": "stdout",
     "output_type": "stream",
     "text": [
      "Error\n"
     ]
    },
    {
     "name": "stderr",
     "output_type": "stream",
     "text": [
      " 92%|█████████▏| 9193/9944 [55:11<03:22,  3.71it/s]"
     ]
    },
    {
     "name": "stdout",
     "output_type": "stream",
     "text": [
      "Error\n"
     ]
    },
    {
     "name": "stderr",
     "output_type": "stream",
     "text": [
      " 92%|█████████▏| 9197/9944 [55:13<03:36,  3.46it/s]"
     ]
    },
    {
     "name": "stdout",
     "output_type": "stream",
     "text": [
      "Error\n"
     ]
    },
    {
     "name": "stderr",
     "output_type": "stream",
     "text": [
      " 93%|█████████▎| 9226/9944 [55:21<03:13,  3.70it/s]"
     ]
    },
    {
     "name": "stdout",
     "output_type": "stream",
     "text": [
      "Error\n"
     ]
    },
    {
     "name": "stderr",
     "output_type": "stream",
     "text": [
      " 93%|█████████▎| 9227/9944 [55:21<03:07,  3.82it/s]"
     ]
    },
    {
     "name": "stdout",
     "output_type": "stream",
     "text": [
      "Error\n"
     ]
    },
    {
     "name": "stderr",
     "output_type": "stream",
     "text": [
      " 93%|█████████▎| 9229/9944 [55:22<03:53,  3.06it/s]"
     ]
    },
    {
     "name": "stdout",
     "output_type": "stream",
     "text": [
      "Error\n"
     ]
    },
    {
     "name": "stderr",
     "output_type": "stream",
     "text": [
      " 93%|█████████▎| 9237/9944 [55:25<03:17,  3.58it/s]"
     ]
    },
    {
     "name": "stdout",
     "output_type": "stream",
     "text": [
      "Error\n"
     ]
    },
    {
     "name": "stderr",
     "output_type": "stream",
     "text": [
      " 93%|█████████▎| 9292/9944 [55:42<03:15,  3.34it/s]"
     ]
    },
    {
     "name": "stdout",
     "output_type": "stream",
     "text": [
      "Error\n"
     ]
    },
    {
     "name": "stderr",
     "output_type": "stream",
     "text": [
      " 94%|█████████▍| 9334/9944 [55:55<02:52,  3.53it/s]"
     ]
    },
    {
     "name": "stdout",
     "output_type": "stream",
     "text": [
      "Error\n"
     ]
    },
    {
     "name": "stderr",
     "output_type": "stream",
     "text": [
      " 94%|█████████▍| 9345/9944 [55:58<02:50,  3.51it/s]"
     ]
    },
    {
     "name": "stdout",
     "output_type": "stream",
     "text": [
      "Error\n"
     ]
    },
    {
     "name": "stderr",
     "output_type": "stream",
     "text": [
      " 94%|█████████▍| 9359/9944 [56:02<03:05,  3.16it/s]"
     ]
    },
    {
     "name": "stdout",
     "output_type": "stream",
     "text": [
      "Error\n"
     ]
    },
    {
     "name": "stderr",
     "output_type": "stream",
     "text": [
      " 94%|█████████▍| 9364/9944 [56:04<02:39,  3.64it/s]"
     ]
    },
    {
     "name": "stdout",
     "output_type": "stream",
     "text": [
      "Error\n"
     ]
    },
    {
     "name": "stderr",
     "output_type": "stream",
     "text": [
      " 94%|█████████▍| 9368/9944 [56:05<02:35,  3.70it/s]"
     ]
    },
    {
     "name": "stdout",
     "output_type": "stream",
     "text": [
      "Error\n"
     ]
    },
    {
     "name": "stderr",
     "output_type": "stream",
     "text": [
      " 94%|█████████▍| 9372/9944 [56:06<02:47,  3.41it/s]"
     ]
    },
    {
     "name": "stdout",
     "output_type": "stream",
     "text": [
      "Error\n"
     ]
    },
    {
     "name": "stderr",
     "output_type": "stream",
     "text": [
      " 94%|█████████▍| 9385/9944 [56:10<02:36,  3.58it/s]"
     ]
    },
    {
     "name": "stdout",
     "output_type": "stream",
     "text": [
      "Error\n"
     ]
    },
    {
     "name": "stderr",
     "output_type": "stream",
     "text": [
      " 94%|█████████▍| 9387/9944 [56:10<02:57,  3.14it/s]"
     ]
    },
    {
     "name": "stdout",
     "output_type": "stream",
     "text": [
      "Error\n"
     ]
    },
    {
     "name": "stderr",
     "output_type": "stream",
     "text": [
      " 95%|█████████▍| 9403/9944 [56:27<08:47,  1.03it/s]"
     ]
    },
    {
     "name": "stdout",
     "output_type": "stream",
     "text": [
      "Error\n"
     ]
    },
    {
     "name": "stderr",
     "output_type": "stream",
     "text": [
      " 95%|█████████▍| 9413/9944 [56:36<05:16,  1.68it/s]"
     ]
    },
    {
     "name": "stdout",
     "output_type": "stream",
     "text": [
      "Error\n"
     ]
    },
    {
     "name": "stderr",
     "output_type": "stream",
     "text": [
      " 95%|█████████▍| 9423/9944 [56:39<02:26,  3.56it/s]"
     ]
    },
    {
     "name": "stdout",
     "output_type": "stream",
     "text": [
      "Error\n"
     ]
    },
    {
     "name": "stderr",
     "output_type": "stream",
     "text": [
      " 95%|█████████▍| 9438/9944 [56:43<02:27,  3.42it/s]"
     ]
    },
    {
     "name": "stdout",
     "output_type": "stream",
     "text": [
      "Error\n"
     ]
    },
    {
     "name": "stderr",
     "output_type": "stream",
     "text": [
      " 95%|█████████▌| 9451/9944 [56:47<02:16,  3.62it/s]"
     ]
    },
    {
     "name": "stdout",
     "output_type": "stream",
     "text": [
      "Error\n"
     ]
    },
    {
     "name": "stderr",
     "output_type": "stream",
     "text": [
      " 95%|█████████▌| 9455/9944 [56:48<02:19,  3.51it/s]"
     ]
    },
    {
     "name": "stdout",
     "output_type": "stream",
     "text": [
      "Error\n"
     ]
    },
    {
     "name": "stderr",
     "output_type": "stream",
     "text": [
      " 95%|█████████▌| 9469/9944 [56:52<02:18,  3.43it/s]"
     ]
    },
    {
     "name": "stdout",
     "output_type": "stream",
     "text": [
      "Error\n",
      "Error\n"
     ]
    },
    {
     "name": "stderr",
     "output_type": "stream",
     "text": [
      " 95%|█████████▌| 9475/9944 [56:54<02:04,  3.75it/s]"
     ]
    },
    {
     "name": "stdout",
     "output_type": "stream",
     "text": [
      "Error\n"
     ]
    },
    {
     "name": "stderr",
     "output_type": "stream",
     "text": [
      " 95%|█████████▌| 9476/9944 [56:54<01:59,  3.90it/s]"
     ]
    },
    {
     "name": "stdout",
     "output_type": "stream",
     "text": [
      "Error\n"
     ]
    },
    {
     "name": "stderr",
     "output_type": "stream",
     "text": [
      " 95%|█████████▌| 9487/9944 [56:57<01:59,  3.82it/s]"
     ]
    },
    {
     "name": "stdout",
     "output_type": "stream",
     "text": [
      "Error\n"
     ]
    },
    {
     "name": "stderr",
     "output_type": "stream",
     "text": [
      " 96%|█████████▌| 9505/9944 [57:03<02:04,  3.52it/s]"
     ]
    },
    {
     "name": "stdout",
     "output_type": "stream",
     "text": [
      "Error\n"
     ]
    },
    {
     "name": "stderr",
     "output_type": "stream",
     "text": [
      " 96%|█████████▌| 9506/9944 [57:03<01:58,  3.69it/s]"
     ]
    },
    {
     "name": "stdout",
     "output_type": "stream",
     "text": [
      "Error\n"
     ]
    },
    {
     "name": "stderr",
     "output_type": "stream",
     "text": [
      " 96%|█████████▌| 9508/9944 [57:04<01:53,  3.84it/s]"
     ]
    },
    {
     "name": "stdout",
     "output_type": "stream",
     "text": [
      "Error\n"
     ]
    },
    {
     "name": "stderr",
     "output_type": "stream",
     "text": [
      " 96%|█████████▌| 9518/9944 [57:07<02:00,  3.55it/s]"
     ]
    },
    {
     "name": "stdout",
     "output_type": "stream",
     "text": [
      "Error\n"
     ]
    },
    {
     "name": "stderr",
     "output_type": "stream",
     "text": [
      " 96%|█████████▌| 9523/9944 [57:08<02:05,  3.35it/s]"
     ]
    },
    {
     "name": "stdout",
     "output_type": "stream",
     "text": [
      "Error\n"
     ]
    },
    {
     "name": "stderr",
     "output_type": "stream",
     "text": [
      " 96%|█████████▌| 9529/9944 [57:10<01:53,  3.66it/s]"
     ]
    },
    {
     "name": "stdout",
     "output_type": "stream",
     "text": [
      "Error\n"
     ]
    },
    {
     "name": "stderr",
     "output_type": "stream",
     "text": [
      " 96%|█████████▌| 9530/9944 [57:10<01:49,  3.77it/s]"
     ]
    },
    {
     "name": "stdout",
     "output_type": "stream",
     "text": [
      "Error\n"
     ]
    },
    {
     "name": "stderr",
     "output_type": "stream",
     "text": [
      " 96%|█████████▌| 9553/9944 [57:18<02:05,  3.13it/s]"
     ]
    },
    {
     "name": "stdout",
     "output_type": "stream",
     "text": [
      "Error\n"
     ]
    },
    {
     "name": "stderr",
     "output_type": "stream",
     "text": [
      " 96%|█████████▌| 9569/9944 [57:22<01:45,  3.55it/s]"
     ]
    },
    {
     "name": "stdout",
     "output_type": "stream",
     "text": [
      "Error\n"
     ]
    },
    {
     "name": "stderr",
     "output_type": "stream",
     "text": [
      " 97%|█████████▋| 9637/9944 [57:43<01:29,  3.43it/s]"
     ]
    },
    {
     "name": "stdout",
     "output_type": "stream",
     "text": [
      "Error\n"
     ]
    },
    {
     "name": "stderr",
     "output_type": "stream",
     "text": [
      " 97%|█████████▋| 9666/9944 [57:52<01:18,  3.53it/s]"
     ]
    },
    {
     "name": "stdout",
     "output_type": "stream",
     "text": [
      "Error\n"
     ]
    },
    {
     "name": "stderr",
     "output_type": "stream",
     "text": [
      " 97%|█████████▋| 9670/9944 [57:54<01:17,  3.53it/s]"
     ]
    },
    {
     "name": "stdout",
     "output_type": "stream",
     "text": [
      "Error\n"
     ]
    },
    {
     "name": "stderr",
     "output_type": "stream",
     "text": [
      " 97%|█████████▋| 9686/9944 [57:58<01:15,  3.40it/s]"
     ]
    },
    {
     "name": "stdout",
     "output_type": "stream",
     "text": [
      "Error\n"
     ]
    },
    {
     "name": "stderr",
     "output_type": "stream",
     "text": [
      " 97%|█████████▋| 9693/9944 [58:01<01:15,  3.32it/s]"
     ]
    },
    {
     "name": "stdout",
     "output_type": "stream",
     "text": [
      "Error\n"
     ]
    },
    {
     "name": "stderr",
     "output_type": "stream",
     "text": [
      " 98%|█████████▊| 9718/9944 [58:08<01:04,  3.50it/s]"
     ]
    },
    {
     "name": "stdout",
     "output_type": "stream",
     "text": [
      "Error\n"
     ]
    },
    {
     "name": "stderr",
     "output_type": "stream",
     "text": [
      " 98%|█████████▊| 9721/9944 [58:09<01:00,  3.68it/s]"
     ]
    },
    {
     "name": "stdout",
     "output_type": "stream",
     "text": [
      "Error\n"
     ]
    },
    {
     "name": "stderr",
     "output_type": "stream",
     "text": [
      " 98%|█████████▊| 9729/9944 [58:12<01:01,  3.48it/s]"
     ]
    },
    {
     "name": "stdout",
     "output_type": "stream",
     "text": [
      "Error\n"
     ]
    },
    {
     "name": "stderr",
     "output_type": "stream",
     "text": [
      " 98%|█████████▊| 9737/9944 [58:14<01:04,  3.22it/s]"
     ]
    },
    {
     "name": "stdout",
     "output_type": "stream",
     "text": [
      "Error\n"
     ]
    },
    {
     "name": "stderr",
     "output_type": "stream",
     "text": [
      " 98%|█████████▊| 9746/9944 [58:17<01:01,  3.22it/s]"
     ]
    },
    {
     "name": "stdout",
     "output_type": "stream",
     "text": [
      "Error\n"
     ]
    },
    {
     "name": "stderr",
     "output_type": "stream",
     "text": [
      " 98%|█████████▊| 9767/9944 [58:30<01:03,  2.80it/s]"
     ]
    },
    {
     "name": "stdout",
     "output_type": "stream",
     "text": [
      "Error\n"
     ]
    },
    {
     "name": "stderr",
     "output_type": "stream",
     "text": [
      " 99%|█████████▊| 9800/9944 [58:40<00:40,  3.55it/s]"
     ]
    },
    {
     "name": "stdout",
     "output_type": "stream",
     "text": [
      "Error\n"
     ]
    },
    {
     "name": "stderr",
     "output_type": "stream",
     "text": [
      " 99%|█████████▉| 9832/9944 [58:50<00:34,  3.29it/s]"
     ]
    },
    {
     "name": "stdout",
     "output_type": "stream",
     "text": [
      "Error\n"
     ]
    },
    {
     "name": "stderr",
     "output_type": "stream",
     "text": [
      " 99%|█████████▉| 9837/9944 [58:52<00:31,  3.43it/s]"
     ]
    },
    {
     "name": "stdout",
     "output_type": "stream",
     "text": [
      "Error\n"
     ]
    },
    {
     "name": "stderr",
     "output_type": "stream",
     "text": [
      " 99%|█████████▉| 9865/9944 [59:01<00:22,  3.59it/s]"
     ]
    },
    {
     "name": "stdout",
     "output_type": "stream",
     "text": [
      "Error\n"
     ]
    },
    {
     "name": "stderr",
     "output_type": "stream",
     "text": [
      " 99%|█████████▉| 9881/9944 [59:06<00:19,  3.21it/s]"
     ]
    },
    {
     "name": "stdout",
     "output_type": "stream",
     "text": [
      "Error\n"
     ]
    },
    {
     "name": "stderr",
     "output_type": "stream",
     "text": [
      " 99%|█████████▉| 9886/9944 [59:07<00:16,  3.57it/s]"
     ]
    },
    {
     "name": "stdout",
     "output_type": "stream",
     "text": [
      "Error\n"
     ]
    },
    {
     "name": "stderr",
     "output_type": "stream",
     "text": [
      "100%|█████████▉| 9913/9944 [59:15<00:09,  3.33it/s]"
     ]
    },
    {
     "name": "stdout",
     "output_type": "stream",
     "text": [
      "Error\n"
     ]
    },
    {
     "name": "stderr",
     "output_type": "stream",
     "text": [
      "100%|█████████▉| 9914/9944 [59:15<00:08,  3.49it/s]"
     ]
    },
    {
     "name": "stdout",
     "output_type": "stream",
     "text": [
      "Error\n"
     ]
    },
    {
     "name": "stderr",
     "output_type": "stream",
     "text": [
      "100%|█████████▉| 9915/9944 [59:16<00:07,  3.64it/s]"
     ]
    },
    {
     "name": "stdout",
     "output_type": "stream",
     "text": [
      "Error\n"
     ]
    },
    {
     "name": "stderr",
     "output_type": "stream",
     "text": [
      "100%|█████████▉| 9922/9944 [59:18<00:07,  2.95it/s]"
     ]
    },
    {
     "name": "stdout",
     "output_type": "stream",
     "text": [
      "Error\n"
     ]
    },
    {
     "name": "stderr",
     "output_type": "stream",
     "text": [
      "100%|█████████▉| 9932/9944 [59:21<00:03,  3.62it/s]"
     ]
    },
    {
     "name": "stdout",
     "output_type": "stream",
     "text": [
      "Error\n"
     ]
    },
    {
     "name": "stderr",
     "output_type": "stream",
     "text": [
      "100%|█████████▉| 9943/9944 [59:24<00:00,  3.61it/s]"
     ]
    },
    {
     "name": "stdout",
     "output_type": "stream",
     "text": [
      "Error\n"
     ]
    },
    {
     "name": "stderr",
     "output_type": "stream",
     "text": [
      "100%|██████████| 9944/9944 [59:25<00:00,  2.79it/s]\n"
     ]
    }
   ],
   "source": [
    "for url in tqdm(data[\"URL Job Jobsgo\"]):\n",
    "  try:\n",
    "    job_data_TCV = Crawl_job_data(url)\n",
    "    job_url.append(url)\n",
    "    job_title.append(job_data_TCV[0])\n",
    "    company_name.append(job_data_TCV[1])\n",
    "    Industry.append(job_data_TCV[2])\n",
    "    company_address.append(job_data_TCV[3])\n",
    "    job_description.append(job_data_TCV[4])\n",
    "    job_requirement.append(job_data_TCV[5])\n",
    "    job_welfares.append(job_data_TCV[6])\n",
    "    salary.append(job_data_TCV[7])\n",
    "    expire_date.append(job_data_TCV[8])\n",
    "    employee_rank.append(job_data_TCV[9])\n",
    "    job_skill.append(job_data_TCV[10])\n",
    "    job_field.append(job_data_TCV[11])\n",
    "    experiences.append(job_data_TCV[12])\n",
    "    job_address.append(job_data_TCV[13])\n",
    "  except:\n",
    "    print('Error')"
   ]
  },
  {
   "cell_type": "code",
   "execution_count": 155,
   "metadata": {},
   "outputs": [],
   "source": [
    "Dataset_Jobsgo = pd.DataFrame({'URL Job': job_url,\n",
    "                            'Job Title': job_title,\n",
    "                            'Company Name': company_name,\n",
    "                            'Industry': Industry,\n",
    "                            'Company Address': company_address,\n",
    "                            'Job Description': job_description,\n",
    "                            'Job Requirements': job_requirement,\n",
    "                            'Benefits': job_welfares,\n",
    "                            'Salary': salary,\n",
    "                            'Expire date': expire_date,\n",
    "                            'Employee Rank': employee_rank,\n",
    "                            'Job Skill': job_skill,\n",
    "                            'Job Field': job_field,\n",
    "                            'Years of Experience': experiences,\n",
    "                            'Job Address': job_address})\n",
    "\n"
   ]
  },
  {
   "cell_type": "code",
   "execution_count": null,
   "metadata": {},
   "outputs": [],
   "source": [
    "Dataset_Jobsgo.to_csv(PATH+'/Dataset_Jobsgo', index = False)"
   ]
  },
  {
   "cell_type": "code",
   "execution_count": 157,
   "metadata": {},
   "outputs": [
    {
     "data": {
      "text/html": [
       "<div>\n",
       "<style scoped>\n",
       "    .dataframe tbody tr th:only-of-type {\n",
       "        vertical-align: middle;\n",
       "    }\n",
       "\n",
       "    .dataframe tbody tr th {\n",
       "        vertical-align: top;\n",
       "    }\n",
       "\n",
       "    .dataframe thead th {\n",
       "        text-align: right;\n",
       "    }\n",
       "</style>\n",
       "<table border=\"1\" class=\"dataframe\">\n",
       "  <thead>\n",
       "    <tr style=\"text-align: right;\">\n",
       "      <th></th>\n",
       "      <th>URL Job</th>\n",
       "      <th>Job Title</th>\n",
       "      <th>Company Name</th>\n",
       "      <th>Industry</th>\n",
       "      <th>Company Address</th>\n",
       "      <th>Job Description</th>\n",
       "      <th>Job Requirements</th>\n",
       "      <th>Benefits</th>\n",
       "      <th>Salary</th>\n",
       "      <th>Expire date</th>\n",
       "      <th>Employee Rank</th>\n",
       "      <th>Job Skill</th>\n",
       "      <th>Job Field</th>\n",
       "      <th>Years of Experience</th>\n",
       "      <th>Job Address</th>\n",
       "    </tr>\n",
       "  </thead>\n",
       "  <tbody>\n",
       "    <tr>\n",
       "      <th>0</th>\n",
       "      <td>https://jobsgo.vn/viec-lam/nhan-vien-tu-van-tr...</td>\n",
       "      <td>Nhân Viên Tư Vấn Trả Góp - Hà Nội, Đồng Nai, B...</td>\n",
       "      <td>Công ty Tài Chính TNHH MTV Home Credit Việt Nam</td>\n",
       "      <td>Tài chính</td>\n",
       "      <td>20 Nguyễn Đăng Giai, P.Thảo Điền, Tp.Thủ Đức, ...</td>\n",
       "      <td>Tìm kiếm khách hàng thông qua data công công t...</td>\n",
       "      <td>Nam/Nữ, từ 18 – 33 tuổi. Tốt nghiệp THPT trở l...</td>\n",
       "      <td>Thu nhập từ8.000.000 15.000.000đồng/tháng (hưở...</td>\n",
       "      <td>8 - 15 triệu VNĐ</td>\n",
       "      <td>Hết hạn trong 20 ngày nữa</td>\n",
       "      <td>Nhân Viên/Chuyên Viên</td>\n",
       "      <td>Chăm Sóc Khách Hàng, Tư Vấn Bán Hàng, Bán Lẻ</td>\n",
       "      <td>Chăm Sóc Khách Hàng, Kinh Doanh/Bán Hàng, Bán ...</td>\n",
       "      <td>Không yêu cầu</td>\n",
       "      <td>Đồng Nai</td>\n",
       "    </tr>\n",
       "    <tr>\n",
       "      <th>1</th>\n",
       "      <td>https://jobsgo.vn/viec-lam/nhan-vien-telesales...</td>\n",
       "      <td>Nhân Viên Telesales (Cho Vay Tiền Mặt)</td>\n",
       "      <td>Công Ty Tài chính TNHH HD SAISON</td>\n",
       "      <td>Kinh doanh</td>\n",
       "      <td>Lầu 8,9,10 Tòa nhà Gilimex, số 24C đường Phan ...</td>\n",
       "      <td>Đại diện HD SAISON trao đổi với khách hàng tro...</td>\n",
       "      <td>1. Trình độ học vấn:Tốt nghiệp Trung học phổ t...</td>\n",
       "      <td>Thử việc 100% lương;Ký hợp đồng lao động chính...</td>\n",
       "      <td>8 - 15 triệu VNĐ</td>\n",
       "      <td>Hết hạn trong 25 ngày nữa</td>\n",
       "      <td>Nhân Viên/Chuyên Viên</td>\n",
       "      <td>Tư Vấn Bán Hàng, Bán Hàng Qua Điện Thoại (Tele...</td>\n",
       "      <td>Tài Chính/Ngân Hàng, Kinh Doanh/Bán Hàng, Bán ...</td>\n",
       "      <td>Không yêu cầu</td>\n",
       "      <td>Tầng 8, 24C Phan Đăng Lưu, P6, Bình Thạnh, HCM</td>\n",
       "    </tr>\n",
       "    <tr>\n",
       "      <th>2</th>\n",
       "      <td>https://jobsgo.vn/viec-lam/nhan-vien-kinh-doan...</td>\n",
       "      <td>Nhân Viên Kinh Doanh/ Sales/ Chăm Sóc Khách Hà...</td>\n",
       "      <td>Công Ty TNHH Tư Vấn &amp; Đào Tạo Đại Dương</td>\n",
       "      <td>Giáo dục/ Đào tạo/ Tin học</td>\n",
       "      <td>46A Đường 385, Phường Tăng Nhơn Phú A, Thành p...</td>\n",
       "      <td>1. Tìm kiếm, xây dựng mối quan hệ và phát triể...</td>\n",
       "      <td>Tốt nghiệp Cao Đẳng trở lên.Tuổi không quá 30....</td>\n",
       "      <td>Lương cứng từ9.000.000 – 12.000.000VNĐ/tháng+ ...</td>\n",
       "      <td>9 - 12 triệu VNĐ</td>\n",
       "      <td>Hết hạn trong 22 ngày nữa</td>\n",
       "      <td>Nhân Viên/Chuyên Viên</td>\n",
       "      <td>Chăm Sóc Khách Hàng, Tư Vấn Bán Hàng</td>\n",
       "      <td>Tài Chính/Ngân Hàng, Giáo Dục/Đào Tạo, Kinh Do...</td>\n",
       "      <td>Trên 1 năm</td>\n",
       "      <td>25 Đường Số 23, Linh Chiểu, Thủ Đức, Hồ Chí Minh</td>\n",
       "    </tr>\n",
       "    <tr>\n",
       "      <th>3</th>\n",
       "      <td>https://jobsgo.vn/viec-lam/ke-toan-tong-hop-di...</td>\n",
       "      <td>Kế Toán Tổng Hợp - Đi Làm Ngay (Chỉ Chấp Nhận ...</td>\n",
       "      <td>Công Ty TNHH TravelCraft</td>\n",
       "      <td>Kinh doanh</td>\n",
       "      <td>L18-11-13, Tầng 18, Tòa nhà Vincom Center Đồng...</td>\n",
       "      <td>Phụ trách thực hiện các công việc kế toán của ...</td>\n",
       "      <td>Nam/Nữ, 25 40 tuổi;Tốt nghiệp Đại học chuyên n...</td>\n",
       "      <td>Lương: 25 Tr 30 Tr (Thỏa thuận theo năng lực ứ...</td>\n",
       "      <td>25 - 30 triệu VNĐ</td>\n",
       "      <td>Hết hạn trong 22 ngày nữa</td>\n",
       "      <td>Nhân Viên/Chuyên Viên</td>\n",
       "      <td>Kế Toán Tổng Hợp, Kế Toán Quản Trị, Misa</td>\n",
       "      <td>Tài Chính/Ngân Hàng, Du Lịch, Kế Toán/Kiểm Toán</td>\n",
       "      <td>Trên 5 năm</td>\n",
       "      <td>64 Bà Huyện Thanh Quan, Võ Thị Sáu, Quận 3, Hồ...</td>\n",
       "    </tr>\n",
       "    <tr>\n",
       "      <th>4</th>\n",
       "      <td>https://jobsgo.vn/viec-lam/ke-toan-ban-hang-19...</td>\n",
       "      <td>Kế Toán Bán Hàng</td>\n",
       "      <td>Công Ty TNHH Thương Mại Và Xuất Nhập Khẩu Bình...</td>\n",
       "      <td>Sản xuất/Vận hành sản xuất</td>\n",
       "      <td>Số 248, đường Nguyễn Văn Linh, tổ 17, Phường T...</td>\n",
       "      <td>Thực hiện các nghiệp vụ kế toán liên quan đến ...</td>\n",
       "      <td>Nữ tuổi từ 22 – 33KHÔNG CÓ KINH NGHIỆM CÓ THỂ ...</td>\n",
       "      <td>Thu Nhập: 8 10 triệu ( có thể deal theo năng l...</td>\n",
       "      <td>8 - 10 triệu VNĐ</td>\n",
       "      <td>Hết hạn trong 28 ngày nữa</td>\n",
       "      <td>Nhân Viên/Chuyên Viên</td>\n",
       "      <td>Kế Toán Tổng Hợp, Kế Toán Bán Hàng, Tư Vấn Bán...</td>\n",
       "      <td>Kế Toán/Kiểm Toán, Kinh Doanh/Bán Hàng, Bán Sỉ...</td>\n",
       "      <td>Không yêu cầu</td>\n",
       "      <td>244 Nguyễn Văn Linh, Cổ Bi, Gia Lâm, Hà Nội</td>\n",
       "    </tr>\n",
       "    <tr>\n",
       "      <th>...</th>\n",
       "      <td>...</td>\n",
       "      <td>...</td>\n",
       "      <td>...</td>\n",
       "      <td>...</td>\n",
       "      <td>...</td>\n",
       "      <td>...</td>\n",
       "      <td>...</td>\n",
       "      <td>...</td>\n",
       "      <td>...</td>\n",
       "      <td>...</td>\n",
       "      <td>...</td>\n",
       "      <td>...</td>\n",
       "      <td>...</td>\n",
       "      <td>...</td>\n",
       "      <td>...</td>\n",
       "    </tr>\n",
       "    <tr>\n",
       "      <th>9511</th>\n",
       "      <td>https://jobsgo.vn/viec-lam/nhan-vien-sale-1920...</td>\n",
       "      <td>Nhân Viên Sale</td>\n",
       "      <td>Công Ty TNHH Nhôm Tiến Đạt</td>\n",
       "      <td>Sản xuất/Vận hành sản xuất</td>\n",
       "      <td>135A/3 KP.Bình Đường 3, Bình An, Dĩ An, Bình D...</td>\n",
       "      <td>Đi khắp 13 tỉnh ( có hỗ trợ xe hơi đi) tiếp th...</td>\n",
       "      <td>Liên hệ [protected info]( a duc) để xếp lịch p...</td>\n",
       "      <td>Môi trường làm việc dân chủ, hiện đại, chuyên ...</td>\n",
       "      <td>10 - 12 triệu VNĐ</td>\n",
       "      <td>Hết hạn trong 8 ngày nữa</td>\n",
       "      <td>Nhân viên/Chuyên viên</td>\n",
       "      <td>Tư Vấn Bán Hàng, Bán Hàng Qua Điện Thoại (Tele...</td>\n",
       "      <td>Chăm Sóc Khách Hàng, Kinh Doanh/Bán Hàng</td>\n",
       "      <td>Không yêu cầu</td>\n",
       "      <td>Hậu Giang</td>\n",
       "    </tr>\n",
       "    <tr>\n",
       "      <th>9512</th>\n",
       "      <td>https://jobsgo.vn/viec-lam/fresher-mobile-flut...</td>\n",
       "      <td>Fresher Mobile (Flutter)</td>\n",
       "      <td>Công Ty Cổ Phần Voyager</td>\n",
       "      <td>Công nghệ thông tin</td>\n",
       "      <td>Floor 07, HOSE Building, Street 03, Quang Trun...</td>\n",
       "      <td>Tham gia học hỏi, xây dựng, phát triển các ứng...</td>\n",
       "      <td>Tốt nghiệp Đại học hoặc Cao đẳng trở lên các c...</td>\n",
       "      <td>Sẽ trở thành thành viên của một Đại Gia Đình đ...</td>\n",
       "      <td>Thỏa thuận</td>\n",
       "      <td>Hết hạn trong 8 ngày nữa</td>\n",
       "      <td>Mới tốt nghiệp/Thực tập sinh</td>\n",
       "      <td>iOS, Android, Triển Khai Phần Mềm</td>\n",
       "      <td>IT Phần Mềm</td>\n",
       "      <td>Không yêu cầu</td>\n",
       "      <td>Công viên phần mềm Quang Trung,Hồ Chí Minh</td>\n",
       "    </tr>\n",
       "    <tr>\n",
       "      <th>9513</th>\n",
       "      <td>https://jobsgo.vn/viec-lam/chuyen-vien-pha-che...</td>\n",
       "      <td>Chuyên Viên Pha Chế</td>\n",
       "      <td>Công TY TNHH Một Thành Viên Nlink Việt Nam</td>\n",
       "      <td>Mỹ phẩm</td>\n",
       "      <td>76 Trần Đình Xu, P. Cô Giang, Q.1, TP.HCM</td>\n",
       "      <td>Tiếp nhận order và thực hiện pha chế các loại ...</td>\n",
       "      <td>Có kinh nghiệm pha chế từ 1 năm trở lên.Có kiế...</td>\n",
       "      <td>Được Tham gia BHXH, BHYT và các chế độ phúc lợ...</td>\n",
       "      <td>8 - 12 triệu VNĐ</td>\n",
       "      <td>Hết hạn trong 8 ngày nữa</td>\n",
       "      <td>Nhân viên/Chuyên viên</td>\n",
       "      <td>Pha Chế Cafe (Barista), Pha Chế Rượu (Bartender)</td>\n",
       "      <td>Lao Động Phổ Thông, Nhà Hàng/Khách Sạn</td>\n",
       "      <td>Trên 1 năm</td>\n",
       "      <td>Hồ Chí Minh</td>\n",
       "    </tr>\n",
       "    <tr>\n",
       "      <th>9514</th>\n",
       "      <td>https://jobsgo.vn/viec-lam/quan-ly-ke-toan-192...</td>\n",
       "      <td>Quản Lý Kế Toán</td>\n",
       "      <td>CÔNG TY CỔ PHẦN PHÁT TRIỂN LOGISTICS Á CHÂU</td>\n",
       "      <td>Kinh doanh</td>\n",
       "      <td>Trụ sở chính: Số 44, Đường Trương Định, Phường...</td>\n",
       "      <td>Quản lý phòng kế toán, trực tiếp lên kế hoạch ...</td>\n",
       "      <td>Tốt nghiệp Đại học trở lên chuyên ngành Kế toá...</td>\n",
       "      <td>Lương cơ bản: 18 tr + thưởng (thưởng quý + thư...</td>\n",
       "      <td>18 - 23 triệu VNĐ</td>\n",
       "      <td>Hết hạn trong 8 ngày nữa</td>\n",
       "      <td>Trưởng nhóm/Trưởng phòng</td>\n",
       "      <td>Kế Toán Tổng Hợp, Kế Toán Thuế, Kế Toán Quản T...</td>\n",
       "      <td>Kế Toán/Kiểm Toán, Spa/Làm Đẹp, Sản Xuất/Lắp R...</td>\n",
       "      <td>Trên 3 năm</td>\n",
       "      <td>45 Trần Thái Tông,Hà Nội</td>\n",
       "    </tr>\n",
       "    <tr>\n",
       "      <th>9515</th>\n",
       "      <td>https://jobsgo.vn/viec-lam/nhan-vien-kinh-doan...</td>\n",
       "      <td>Nhân Viên Kinh Doanh / Sales</td>\n",
       "      <td>Công Ty TNHH Ắc Quy GS Việt Nam</td>\n",
       "      <td>Kinh doanh</td>\n",
       "      <td>18 Đường số 3, KCN Việt Nam Singapore (VSIP1),...</td>\n",
       "      <td>Conduct market research to identify potential ...</td>\n",
       "      <td>Bachelor’s degree in Mechanical Engineering, M...</td>\n",
       "      <td>Working hours: Mon Fri: 7h40 16:35Location: No...</td>\n",
       "      <td>12 - 15 triệu VNĐ</td>\n",
       "      <td>Hết hạn trong 8 ngày nữa</td>\n",
       "      <td>Nhân viên/Chuyên viên</td>\n",
       "      <td>Tư Vấn Bán Hàng, Bán Hàng Qua Điện Thoại (Tele...</td>\n",
       "      <td>Chăm Sóc Khách Hàng, Kinh Doanh/Bán Hàng</td>\n",
       "      <td>Không yêu cầu</td>\n",
       "      <td>Số 18, Đường số 3, KCN Việt Nam Singapore, Phư...</td>\n",
       "    </tr>\n",
       "  </tbody>\n",
       "</table>\n",
       "<p>9516 rows × 15 columns</p>\n",
       "</div>"
      ],
      "text/plain": [
       "                                                URL Job  \\\n",
       "0     https://jobsgo.vn/viec-lam/nhan-vien-tu-van-tr...   \n",
       "1     https://jobsgo.vn/viec-lam/nhan-vien-telesales...   \n",
       "2     https://jobsgo.vn/viec-lam/nhan-vien-kinh-doan...   \n",
       "3     https://jobsgo.vn/viec-lam/ke-toan-tong-hop-di...   \n",
       "4     https://jobsgo.vn/viec-lam/ke-toan-ban-hang-19...   \n",
       "...                                                 ...   \n",
       "9511  https://jobsgo.vn/viec-lam/nhan-vien-sale-1920...   \n",
       "9512  https://jobsgo.vn/viec-lam/fresher-mobile-flut...   \n",
       "9513  https://jobsgo.vn/viec-lam/chuyen-vien-pha-che...   \n",
       "9514  https://jobsgo.vn/viec-lam/quan-ly-ke-toan-192...   \n",
       "9515  https://jobsgo.vn/viec-lam/nhan-vien-kinh-doan...   \n",
       "\n",
       "                                              Job Title  \\\n",
       "0     Nhân Viên Tư Vấn Trả Góp - Hà Nội, Đồng Nai, B...   \n",
       "1                Nhân Viên Telesales (Cho Vay Tiền Mặt)   \n",
       "2     Nhân Viên Kinh Doanh/ Sales/ Chăm Sóc Khách Hà...   \n",
       "3     Kế Toán Tổng Hợp - Đi Làm Ngay (Chỉ Chấp Nhận ...   \n",
       "4                                      Kế Toán Bán Hàng   \n",
       "...                                                 ...   \n",
       "9511                                     Nhân Viên Sale   \n",
       "9512                           Fresher Mobile (Flutter)   \n",
       "9513                                Chuyên Viên Pha Chế   \n",
       "9514                                    Quản Lý Kế Toán   \n",
       "9515                       Nhân Viên Kinh Doanh / Sales   \n",
       "\n",
       "                                           Company Name  \\\n",
       "0       Công ty Tài Chính TNHH MTV Home Credit Việt Nam   \n",
       "1                      Công Ty Tài chính TNHH HD SAISON   \n",
       "2               Công Ty TNHH Tư Vấn & Đào Tạo Đại Dương   \n",
       "3                              Công Ty TNHH TravelCraft   \n",
       "4     Công Ty TNHH Thương Mại Và Xuất Nhập Khẩu Bình...   \n",
       "...                                                 ...   \n",
       "9511                         Công Ty TNHH Nhôm Tiến Đạt   \n",
       "9512                            Công Ty Cổ Phần Voyager   \n",
       "9513         Công TY TNHH Một Thành Viên Nlink Việt Nam   \n",
       "9514        CÔNG TY CỔ PHẦN PHÁT TRIỂN LOGISTICS Á CHÂU   \n",
       "9515                    Công Ty TNHH Ắc Quy GS Việt Nam   \n",
       "\n",
       "                        Industry  \\\n",
       "0                      Tài chính   \n",
       "1                     Kinh doanh   \n",
       "2     Giáo dục/ Đào tạo/ Tin học   \n",
       "3                     Kinh doanh   \n",
       "4     Sản xuất/Vận hành sản xuất   \n",
       "...                          ...   \n",
       "9511  Sản xuất/Vận hành sản xuất   \n",
       "9512         Công nghệ thông tin   \n",
       "9513                     Mỹ phẩm   \n",
       "9514                  Kinh doanh   \n",
       "9515                  Kinh doanh   \n",
       "\n",
       "                                        Company Address  \\\n",
       "0     20 Nguyễn Đăng Giai, P.Thảo Điền, Tp.Thủ Đức, ...   \n",
       "1     Lầu 8,9,10 Tòa nhà Gilimex, số 24C đường Phan ...   \n",
       "2     46A Đường 385, Phường Tăng Nhơn Phú A, Thành p...   \n",
       "3     L18-11-13, Tầng 18, Tòa nhà Vincom Center Đồng...   \n",
       "4     Số 248, đường Nguyễn Văn Linh, tổ 17, Phường T...   \n",
       "...                                                 ...   \n",
       "9511  135A/3 KP.Bình Đường 3, Bình An, Dĩ An, Bình D...   \n",
       "9512  Floor 07, HOSE Building, Street 03, Quang Trun...   \n",
       "9513          76 Trần Đình Xu, P. Cô Giang, Q.1, TP.HCM   \n",
       "9514  Trụ sở chính: Số 44, Đường Trương Định, Phường...   \n",
       "9515  18 Đường số 3, KCN Việt Nam Singapore (VSIP1),...   \n",
       "\n",
       "                                        Job Description  \\\n",
       "0     Tìm kiếm khách hàng thông qua data công công t...   \n",
       "1     Đại diện HD SAISON trao đổi với khách hàng tro...   \n",
       "2     1. Tìm kiếm, xây dựng mối quan hệ và phát triể...   \n",
       "3     Phụ trách thực hiện các công việc kế toán của ...   \n",
       "4     Thực hiện các nghiệp vụ kế toán liên quan đến ...   \n",
       "...                                                 ...   \n",
       "9511  Đi khắp 13 tỉnh ( có hỗ trợ xe hơi đi) tiếp th...   \n",
       "9512  Tham gia học hỏi, xây dựng, phát triển các ứng...   \n",
       "9513  Tiếp nhận order và thực hiện pha chế các loại ...   \n",
       "9514  Quản lý phòng kế toán, trực tiếp lên kế hoạch ...   \n",
       "9515  Conduct market research to identify potential ...   \n",
       "\n",
       "                                       Job Requirements  \\\n",
       "0     Nam/Nữ, từ 18 – 33 tuổi. Tốt nghiệp THPT trở l...   \n",
       "1     1. Trình độ học vấn:Tốt nghiệp Trung học phổ t...   \n",
       "2     Tốt nghiệp Cao Đẳng trở lên.Tuổi không quá 30....   \n",
       "3     Nam/Nữ, 25 40 tuổi;Tốt nghiệp Đại học chuyên n...   \n",
       "4     Nữ tuổi từ 22 – 33KHÔNG CÓ KINH NGHIỆM CÓ THỂ ...   \n",
       "...                                                 ...   \n",
       "9511  Liên hệ [protected info]( a duc) để xếp lịch p...   \n",
       "9512  Tốt nghiệp Đại học hoặc Cao đẳng trở lên các c...   \n",
       "9513  Có kinh nghiệm pha chế từ 1 năm trở lên.Có kiế...   \n",
       "9514  Tốt nghiệp Đại học trở lên chuyên ngành Kế toá...   \n",
       "9515  Bachelor’s degree in Mechanical Engineering, M...   \n",
       "\n",
       "                                               Benefits             Salary  \\\n",
       "0     Thu nhập từ8.000.000 15.000.000đồng/tháng (hưở...   8 - 15 triệu VNĐ   \n",
       "1     Thử việc 100% lương;Ký hợp đồng lao động chính...   8 - 15 triệu VNĐ   \n",
       "2     Lương cứng từ9.000.000 – 12.000.000VNĐ/tháng+ ...   9 - 12 triệu VNĐ   \n",
       "3     Lương: 25 Tr 30 Tr (Thỏa thuận theo năng lực ứ...  25 - 30 triệu VNĐ   \n",
       "4     Thu Nhập: 8 10 triệu ( có thể deal theo năng l...   8 - 10 triệu VNĐ   \n",
       "...                                                 ...                ...   \n",
       "9511  Môi trường làm việc dân chủ, hiện đại, chuyên ...  10 - 12 triệu VNĐ   \n",
       "9512  Sẽ trở thành thành viên của một Đại Gia Đình đ...         Thỏa thuận   \n",
       "9513  Được Tham gia BHXH, BHYT và các chế độ phúc lợ...   8 - 12 triệu VNĐ   \n",
       "9514  Lương cơ bản: 18 tr + thưởng (thưởng quý + thư...  18 - 23 triệu VNĐ   \n",
       "9515  Working hours: Mon Fri: 7h40 16:35Location: No...  12 - 15 triệu VNĐ   \n",
       "\n",
       "                    Expire date                 Employee Rank  \\\n",
       "0     Hết hạn trong 20 ngày nữa         Nhân Viên/Chuyên Viên   \n",
       "1     Hết hạn trong 25 ngày nữa         Nhân Viên/Chuyên Viên   \n",
       "2     Hết hạn trong 22 ngày nữa         Nhân Viên/Chuyên Viên   \n",
       "3     Hết hạn trong 22 ngày nữa         Nhân Viên/Chuyên Viên   \n",
       "4     Hết hạn trong 28 ngày nữa         Nhân Viên/Chuyên Viên   \n",
       "...                         ...                           ...   \n",
       "9511   Hết hạn trong 8 ngày nữa         Nhân viên/Chuyên viên   \n",
       "9512   Hết hạn trong 8 ngày nữa  Mới tốt nghiệp/Thực tập sinh   \n",
       "9513   Hết hạn trong 8 ngày nữa         Nhân viên/Chuyên viên   \n",
       "9514   Hết hạn trong 8 ngày nữa      Trưởng nhóm/Trưởng phòng   \n",
       "9515   Hết hạn trong 8 ngày nữa         Nhân viên/Chuyên viên   \n",
       "\n",
       "                                              Job Skill  \\\n",
       "0          Chăm Sóc Khách Hàng, Tư Vấn Bán Hàng, Bán Lẻ   \n",
       "1     Tư Vấn Bán Hàng, Bán Hàng Qua Điện Thoại (Tele...   \n",
       "2                  Chăm Sóc Khách Hàng, Tư Vấn Bán Hàng   \n",
       "3              Kế Toán Tổng Hợp, Kế Toán Quản Trị, Misa   \n",
       "4     Kế Toán Tổng Hợp, Kế Toán Bán Hàng, Tư Vấn Bán...   \n",
       "...                                                 ...   \n",
       "9511  Tư Vấn Bán Hàng, Bán Hàng Qua Điện Thoại (Tele...   \n",
       "9512                  iOS, Android, Triển Khai Phần Mềm   \n",
       "9513   Pha Chế Cafe (Barista), Pha Chế Rượu (Bartender)   \n",
       "9514  Kế Toán Tổng Hợp, Kế Toán Thuế, Kế Toán Quản T...   \n",
       "9515  Tư Vấn Bán Hàng, Bán Hàng Qua Điện Thoại (Tele...   \n",
       "\n",
       "                                              Job Field Years of Experience  \\\n",
       "0     Chăm Sóc Khách Hàng, Kinh Doanh/Bán Hàng, Bán ...       Không yêu cầu   \n",
       "1     Tài Chính/Ngân Hàng, Kinh Doanh/Bán Hàng, Bán ...       Không yêu cầu   \n",
       "2     Tài Chính/Ngân Hàng, Giáo Dục/Đào Tạo, Kinh Do...          Trên 1 năm   \n",
       "3       Tài Chính/Ngân Hàng, Du Lịch, Kế Toán/Kiểm Toán          Trên 5 năm   \n",
       "4     Kế Toán/Kiểm Toán, Kinh Doanh/Bán Hàng, Bán Sỉ...       Không yêu cầu   \n",
       "...                                                 ...                 ...   \n",
       "9511           Chăm Sóc Khách Hàng, Kinh Doanh/Bán Hàng       Không yêu cầu   \n",
       "9512                                        IT Phần Mềm       Không yêu cầu   \n",
       "9513             Lao Động Phổ Thông, Nhà Hàng/Khách Sạn          Trên 1 năm   \n",
       "9514  Kế Toán/Kiểm Toán, Spa/Làm Đẹp, Sản Xuất/Lắp R...          Trên 3 năm   \n",
       "9515           Chăm Sóc Khách Hàng, Kinh Doanh/Bán Hàng       Không yêu cầu   \n",
       "\n",
       "                                            Job Address  \n",
       "0                                              Đồng Nai  \n",
       "1        Tầng 8, 24C Phan Đăng Lưu, P6, Bình Thạnh, HCM  \n",
       "2      25 Đường Số 23, Linh Chiểu, Thủ Đức, Hồ Chí Minh  \n",
       "3     64 Bà Huyện Thanh Quan, Võ Thị Sáu, Quận 3, Hồ...  \n",
       "4           244 Nguyễn Văn Linh, Cổ Bi, Gia Lâm, Hà Nội  \n",
       "...                                                 ...  \n",
       "9511                                          Hậu Giang  \n",
       "9512         Công viên phần mềm Quang Trung,Hồ Chí Minh  \n",
       "9513                                        Hồ Chí Minh  \n",
       "9514                           45 Trần Thái Tông,Hà Nội  \n",
       "9515  Số 18, Đường số 3, KCN Việt Nam Singapore, Phư...  \n",
       "\n",
       "[9516 rows x 15 columns]"
      ]
     },
     "execution_count": 157,
     "metadata": {},
     "output_type": "execute_result"
    }
   ],
   "source": [
    "Dataset_Jobsgo"
   ]
  },
  {
   "cell_type": "code",
   "execution_count": 9,
   "metadata": {},
   "outputs": [
    {
     "data": {
      "text/html": [
       "<div>\n",
       "<style scoped>\n",
       "    .dataframe tbody tr th:only-of-type {\n",
       "        vertical-align: middle;\n",
       "    }\n",
       "\n",
       "    .dataframe tbody tr th {\n",
       "        vertical-align: top;\n",
       "    }\n",
       "\n",
       "    .dataframe thead th {\n",
       "        text-align: right;\n",
       "    }\n",
       "</style>\n",
       "<table border=\"1\" class=\"dataframe\">\n",
       "  <thead>\n",
       "    <tr style=\"text-align: right;\">\n",
       "      <th></th>\n",
       "      <th>URL Job</th>\n",
       "      <th>Job Title</th>\n",
       "      <th>Company Name</th>\n",
       "      <th>Industry</th>\n",
       "      <th>Company Address</th>\n",
       "      <th>Job Description</th>\n",
       "      <th>Job Requirements</th>\n",
       "      <th>Benefits</th>\n",
       "      <th>Salary</th>\n",
       "      <th>Expire date</th>\n",
       "      <th>Employee Rank</th>\n",
       "      <th>Job Skill</th>\n",
       "      <th>Job Field</th>\n",
       "      <th>Years of Experience</th>\n",
       "      <th>Job Address</th>\n",
       "    </tr>\n",
       "  </thead>\n",
       "  <tbody>\n",
       "    <tr>\n",
       "      <th>0</th>\n",
       "      <td>https://www.vietnamworks.com/senior-expert-eco...</td>\n",
       "      <td>Senior Expert, Economics and Financial Markets...</td>\n",
       "      <td>Techcombank</td>\n",
       "      <td>Ngân hàng</td>\n",
       "      <td>Head Office: 6 Quang Trung Street, Hoan Kiem D...</td>\n",
       "      <td>Job Purpose. The job holder responsible for:. ...</td>\n",
       "      <td>Degree: University degree in Finance, Economic...</td>\n",
       "      <td>13th month salary + performance bonus. Advance...</td>\n",
       "      <td>$ 1,000-2,500 /tháng</td>\n",
       "      <td>Hết hạn trong 6 ngày</td>\n",
       "      <td>Trưởng phòng</td>\n",
       "      <td>Banking, Financial Analysis, Macro Analysis, F...</td>\n",
       "      <td>Ngân Hàng &amp; Dịch Vụ Tài Chính &gt; Phân Tích &amp; Bá...</td>\n",
       "      <td>10</td>\n",
       "      <td>Số 6 Quang Trung, Hoàn Kiếm, HN</td>\n",
       "    </tr>\n",
       "    <tr>\n",
       "      <th>1</th>\n",
       "      <td>https://www.vietnamworks.com/audit-senior-ha-n...</td>\n",
       "      <td>Audit Senior ( Ha Noi &amp; HCM)</td>\n",
       "      <td>Crowe Vietnam Co., Ltd</td>\n",
       "      <td>Kế toán/Kiểm toán</td>\n",
       "      <td>HAN Office: Room 1205, 12th Floor, IPH Tower, ...</td>\n",
       "      <td>1. The primary responsibility is to assist aud...</td>\n",
       "      <td>University degree in Auditing/Accounting/ Fina...</td>\n",
       "      <td>Work for an international brand that frequentl...</td>\n",
       "      <td>Thương lượng</td>\n",
       "      <td>Hết hạn trong 2 ngày</td>\n",
       "      <td>Nhân viên</td>\n",
       "      <td>Audit, Analytical Skills, Kiểm Toán Nội Bộ, En...</td>\n",
       "      <td>Kế Toán/Kiểm Toán &gt; Kiểm Toán</td>\n",
       "      <td>3</td>\n",
       "      <td>Hồ Chí Minh, Việt Nam</td>\n",
       "    </tr>\n",
       "    <tr>\n",
       "      <th>2</th>\n",
       "      <td>https://www.vietnamworks.com/qa-engineer-ky-su...</td>\n",
       "      <td>QA Engineer (Kỹ Sư Chất Lượng, Tiếng Anh Thành...</td>\n",
       "      <td>Công Ty TNHH LG Innotek Việt Nam Hải Phòng</td>\n",
       "      <td>Điện/Điện tử</td>\n",
       "      <td>Lô I, 4, Khu công nghiệp Tràng Duệ, Xã Hồng Ph...</td>\n",
       "      <td>Process Quality Assurance. The Process Quality...</td>\n",
       "      <td>Well basis quality concept. English communicat...</td>\n",
       "      <td>Công ty cung cấp ký túc xá (nếu cần thiết). Xe...</td>\n",
       "      <td>Tới $ 1,000 /tháng</td>\n",
       "      <td>Hết hạn trong 19 ngày</td>\n",
       "      <td>Nhân viên</td>\n",
       "      <td>Process Quality Assurance, Excel, Test Plannin...</td>\n",
       "      <td>Sản Xuất &gt; Đảm Bảo Chất Lượng/Kiểm Soát Chất L...</td>\n",
       "      <td>1</td>\n",
       "      <td>Hai Phong, Vietnam</td>\n",
       "    </tr>\n",
       "    <tr>\n",
       "      <th>3</th>\n",
       "      <td>https://www.vietnamworks.com/truong-nhom-kinh-...</td>\n",
       "      <td>Trưởng Nhóm Kinh Doanh</td>\n",
       "      <td>AIA Exchange HCM</td>\n",
       "      <td>Bảo hiểm</td>\n",
       "      <td>Vincom Center, 45 Lý Tự Trọng, Phường Bến Nghé...</td>\n",
       "      <td>Lên kế hoạch tuyển dụng và phát triển đội ngũ ...</td>\n",
       "      <td>Độ tuổi: 27 40. Có kinh nghiệm ít nhất 1 năm l...</td>\n",
       "      <td>Thu nhập: Ít nhất từ 25 40 triệu mỗi tháng. Tr...</td>\n",
       "      <td>25tr-40tr ₫/tháng</td>\n",
       "      <td>Hết hạn trong 27 ngày</td>\n",
       "      <td>Nhân viên</td>\n",
       "      <td>Quản Trị Đội Ngũ, Kỹ năng bán hàng, Quản Lý Tà...</td>\n",
       "      <td>Kinh Doanh &gt; Bán Hàng/Phát Triển Kinh Doanh</td>\n",
       "      <td>1</td>\n",
       "      <td>Tầng 15, Vincom Đồng Khởi, 45A Lý Tự Trọng, Q1...</td>\n",
       "    </tr>\n",
       "    <tr>\n",
       "      <th>4</th>\n",
       "      <td>https://www.vietnamworks.com/truong-phong-kinh...</td>\n",
       "      <td>Trưởng Phòng Kinh Doanh Kênh Lẻ (Chi nhánh Miề...</td>\n",
       "      <td>Công Ty Cổ Phần Anh Khuê Watch</td>\n",
       "      <td>Bán lẻ/Bán sỉ</td>\n",
       "      <td>20 đường 3/2 Phường 12, quận 10, TP.HCM</td>\n",
       "      <td>Xây dựng và triển khai kế hoạch kinh doanh địn...</td>\n",
       "      <td>Giới tính: Nam/ Nữ (1990 – 1980). Tốt nghiệp Đ...</td>\n",
       "      <td>Thưởng theo hiệu quả công việc. Đầy đủ các chế...</td>\n",
       "      <td>Thương lượng</td>\n",
       "      <td>Hết hạn trong 23 ngày</td>\n",
       "      <td>Trưởng phòng</td>\n",
       "      <td>Quản Lý Kinh Doanh Chuỗi, Kinh Doanh, Lập Kế H...</td>\n",
       "      <td>Kinh Doanh &gt; Bán Hàng/Phát Triển Kinh Doanh</td>\n",
       "      <td>5</td>\n",
       "      <td>Số 35 phố Cự Lộc, Km 6 Nguyễn Trãi, Phường Thư...</td>\n",
       "    </tr>\n",
       "    <tr>\n",
       "      <th>...</th>\n",
       "      <td>...</td>\n",
       "      <td>...</td>\n",
       "      <td>...</td>\n",
       "      <td>...</td>\n",
       "      <td>...</td>\n",
       "      <td>...</td>\n",
       "      <td>...</td>\n",
       "      <td>...</td>\n",
       "      <td>...</td>\n",
       "      <td>...</td>\n",
       "      <td>...</td>\n",
       "      <td>...</td>\n",
       "      <td>...</td>\n",
       "      <td>...</td>\n",
       "      <td>...</td>\n",
       "    </tr>\n",
       "    <tr>\n",
       "      <th>6174</th>\n",
       "      <td>https://www.vietnamworks.com/pqa-manager-staff...</td>\n",
       "      <td>PQA Manager/ Staff</td>\n",
       "      <td>Navigos Search's Client</td>\n",
       "      <td>Điện/Điện tử</td>\n",
       "      <td>Hanoi</td>\n",
       "      <td>Làm việc với các bộ phận liên quan để tiến hàn...</td>\n",
       "      <td>1. Tốt nghiệp trường đại học chuyên ngành tươn...</td>\n",
       "      <td>13th monthly salary, Performance Bonus. Health...</td>\n",
       "      <td>$ 1,100-1,800 /tháng</td>\n",
       "      <td>Hết hạn trong 4 ngày</td>\n",
       "      <td>Nhân viên</td>\n",
       "      <td>Quality Assurance, Product Quality Assurance, ...</td>\n",
       "      <td>Sản Xuất &gt; Đảm Bảo Chất Lượng/Kiểm Soát Chất L...</td>\n",
       "      <td>Không yêu cầu</td>\n",
       "      <td>Ha Nam</td>\n",
       "    </tr>\n",
       "    <tr>\n",
       "      <th>6175</th>\n",
       "      <td>https://www.vietnamworks.com/export-sales-exec...</td>\n",
       "      <td>Export Sales Executive</td>\n",
       "      <td>Navigos Search's Client</td>\n",
       "      <td>Nông nghiệp/Lâm nghiệp/Nuôi trồng thủy sản</td>\n",
       "      <td>Hanoi</td>\n",
       "      <td>Navigos Search's client, FDI company in Bac Ni...</td>\n",
       "      <td>Male, 2530 years old. Have experience in expor...</td>\n",
       "      <td>13th monthly salary, Performance Bonus. Health...</td>\n",
       "      <td>$ 700-1,000 /tháng</td>\n",
       "      <td>Hết hạn trong 4 ngày</td>\n",
       "      <td>Nhân viên</td>\n",
       "      <td>Export, Sales, English</td>\n",
       "      <td>Kinh Doanh &gt; Bán Hàng/Phát Triển Kinh Doanh</td>\n",
       "      <td>Không yêu cầu</td>\n",
       "      <td>Thành phố Hà Nội</td>\n",
       "    </tr>\n",
       "    <tr>\n",
       "      <th>6176</th>\n",
       "      <td>https://www.vietnamworks.com/hot-job-demand-pl...</td>\n",
       "      <td>Hot Job! Demand Planner (SAP S/4 Hana)</td>\n",
       "      <td>Navigos Search's Client</td>\n",
       "      <td>Hoá chất/Hoá sinh</td>\n",
       "      <td>Hanoi / HCMC</td>\n",
       "      <td>NaN</td>\n",
       "      <td>NaN</td>\n",
       "      <td>13th monthly salary, Performance Bonus. Health...</td>\n",
       "      <td>$ 1,200-1,800 /tháng</td>\n",
       "      <td>Hết hạn trong 4 ngày</td>\n",
       "      <td>Nhân viên</td>\n",
       "      <td>Supply Planning, Inventory Control, SAP S/4HAN...</td>\n",
       "      <td>Hậu Cần/Xuất Nhập Khẩu/Kho Bãi &gt; Quản Lý Chuỗi...</td>\n",
       "      <td>5</td>\n",
       "      <td>Hà Nội, Việt Nam</td>\n",
       "    </tr>\n",
       "    <tr>\n",
       "      <th>6177</th>\n",
       "      <td>https://www.vietnamworks.com/assistant-manager...</td>\n",
       "      <td>Assistant Manager, Sales (Tic Industry)</td>\n",
       "      <td>Navigos Search</td>\n",
       "      <td>Bán lẻ/Bán sỉ</td>\n",
       "      <td>Hanoi / HCMC</td>\n",
       "      <td>NaN</td>\n",
       "      <td>NaN</td>\n",
       "      <td>13thmonth salary.</td>\n",
       "      <td>$ 1,000-2,000 /tháng</td>\n",
       "      <td>Hết hạn trong 3 ngày</td>\n",
       "      <td>Nhân viên</td>\n",
       "      <td>Academic Program Management</td>\n",
       "      <td>Kinh Doanh &gt; Bán Hàng/Phát Triển Kinh Doanh</td>\n",
       "      <td>5</td>\n",
       "      <td>Ho Chi Minh</td>\n",
       "    </tr>\n",
       "    <tr>\n",
       "      <th>6178</th>\n",
       "      <td>https://www.vietnamworks.com/sales-tieng-trung...</td>\n",
       "      <td>Sales Tiếng Trung (HCM)</td>\n",
       "      <td>Navigos Search</td>\n",
       "      <td>Dệt may/May mặc/Giày dép</td>\n",
       "      <td>Hanoi / HCMC</td>\n",
       "      <td>NaN</td>\n",
       "      <td>NaN</td>\n",
       "      <td>Phụ cấp ngoại ngữ.</td>\n",
       "      <td>$ 500-1,000 /tháng</td>\n",
       "      <td>Hết hạn trong 3 ngày</td>\n",
       "      <td>Nhân viên</td>\n",
       "      <td>Sales, Chinese proficiency</td>\n",
       "      <td>Kinh Doanh &gt; Bán Hàng/Phát Triển Kinh Doanh</td>\n",
       "      <td>1</td>\n",
       "      <td>Ho Chi Minh</td>\n",
       "    </tr>\n",
       "  </tbody>\n",
       "</table>\n",
       "<p>6179 rows × 15 columns</p>\n",
       "</div>"
      ],
      "text/plain": [
       "                                                URL Job  \\\n",
       "0     https://www.vietnamworks.com/senior-expert-eco...   \n",
       "1     https://www.vietnamworks.com/audit-senior-ha-n...   \n",
       "2     https://www.vietnamworks.com/qa-engineer-ky-su...   \n",
       "3     https://www.vietnamworks.com/truong-nhom-kinh-...   \n",
       "4     https://www.vietnamworks.com/truong-phong-kinh...   \n",
       "...                                                 ...   \n",
       "6174  https://www.vietnamworks.com/pqa-manager-staff...   \n",
       "6175  https://www.vietnamworks.com/export-sales-exec...   \n",
       "6176  https://www.vietnamworks.com/hot-job-demand-pl...   \n",
       "6177  https://www.vietnamworks.com/assistant-manager...   \n",
       "6178  https://www.vietnamworks.com/sales-tieng-trung...   \n",
       "\n",
       "                                              Job Title  \\\n",
       "0     Senior Expert, Economics and Financial Markets...   \n",
       "1                          Audit Senior ( Ha Noi & HCM)   \n",
       "2     QA Engineer (Kỹ Sư Chất Lượng, Tiếng Anh Thành...   \n",
       "3                                Trưởng Nhóm Kinh Doanh   \n",
       "4     Trưởng Phòng Kinh Doanh Kênh Lẻ (Chi nhánh Miề...   \n",
       "...                                                 ...   \n",
       "6174                                 PQA Manager/ Staff   \n",
       "6175                             Export Sales Executive   \n",
       "6176             Hot Job! Demand Planner (SAP S/4 Hana)   \n",
       "6177            Assistant Manager, Sales (Tic Industry)   \n",
       "6178                            Sales Tiếng Trung (HCM)   \n",
       "\n",
       "                                    Company Name  \\\n",
       "0                                    Techcombank   \n",
       "1                         Crowe Vietnam Co., Ltd   \n",
       "2     Công Ty TNHH LG Innotek Việt Nam Hải Phòng   \n",
       "3                               AIA Exchange HCM   \n",
       "4                 Công Ty Cổ Phần Anh Khuê Watch   \n",
       "...                                          ...   \n",
       "6174                     Navigos Search's Client   \n",
       "6175                     Navigos Search's Client   \n",
       "6176                     Navigos Search's Client   \n",
       "6177                              Navigos Search   \n",
       "6178                              Navigos Search   \n",
       "\n",
       "                                        Industry  \\\n",
       "0                                      Ngân hàng   \n",
       "1                              Kế toán/Kiểm toán   \n",
       "2                                   Điện/Điện tử   \n",
       "3                                       Bảo hiểm   \n",
       "4                                  Bán lẻ/Bán sỉ   \n",
       "...                                          ...   \n",
       "6174                                Điện/Điện tử   \n",
       "6175  Nông nghiệp/Lâm nghiệp/Nuôi trồng thủy sản   \n",
       "6176                           Hoá chất/Hoá sinh   \n",
       "6177                               Bán lẻ/Bán sỉ   \n",
       "6178                    Dệt may/May mặc/Giày dép   \n",
       "\n",
       "                                        Company Address  \\\n",
       "0     Head Office: 6 Quang Trung Street, Hoan Kiem D...   \n",
       "1     HAN Office: Room 1205, 12th Floor, IPH Tower, ...   \n",
       "2     Lô I, 4, Khu công nghiệp Tràng Duệ, Xã Hồng Ph...   \n",
       "3     Vincom Center, 45 Lý Tự Trọng, Phường Bến Nghé...   \n",
       "4               20 đường 3/2 Phường 12, quận 10, TP.HCM   \n",
       "...                                                 ...   \n",
       "6174                                              Hanoi   \n",
       "6175                                              Hanoi   \n",
       "6176                                       Hanoi / HCMC   \n",
       "6177                                       Hanoi / HCMC   \n",
       "6178                                       Hanoi / HCMC   \n",
       "\n",
       "                                        Job Description  \\\n",
       "0     Job Purpose. The job holder responsible for:. ...   \n",
       "1     1. The primary responsibility is to assist aud...   \n",
       "2     Process Quality Assurance. The Process Quality...   \n",
       "3     Lên kế hoạch tuyển dụng và phát triển đội ngũ ...   \n",
       "4     Xây dựng và triển khai kế hoạch kinh doanh địn...   \n",
       "...                                                 ...   \n",
       "6174  Làm việc với các bộ phận liên quan để tiến hàn...   \n",
       "6175  Navigos Search's client, FDI company in Bac Ni...   \n",
       "6176                                                NaN   \n",
       "6177                                                NaN   \n",
       "6178                                                NaN   \n",
       "\n",
       "                                       Job Requirements  \\\n",
       "0     Degree: University degree in Finance, Economic...   \n",
       "1     University degree in Auditing/Accounting/ Fina...   \n",
       "2     Well basis quality concept. English communicat...   \n",
       "3     Độ tuổi: 27 40. Có kinh nghiệm ít nhất 1 năm l...   \n",
       "4     Giới tính: Nam/ Nữ (1990 – 1980). Tốt nghiệp Đ...   \n",
       "...                                                 ...   \n",
       "6174  1. Tốt nghiệp trường đại học chuyên ngành tươn...   \n",
       "6175  Male, 2530 years old. Have experience in expor...   \n",
       "6176                                                NaN   \n",
       "6177                                                NaN   \n",
       "6178                                                NaN   \n",
       "\n",
       "                                               Benefits                Salary  \\\n",
       "0     13th month salary + performance bonus. Advance...  $ 1,000-2,500 /tháng   \n",
       "1     Work for an international brand that frequentl...          Thương lượng   \n",
       "2     Công ty cung cấp ký túc xá (nếu cần thiết). Xe...    Tới $ 1,000 /tháng   \n",
       "3     Thu nhập: Ít nhất từ 25 40 triệu mỗi tháng. Tr...     25tr-40tr ₫/tháng   \n",
       "4     Thưởng theo hiệu quả công việc. Đầy đủ các chế...          Thương lượng   \n",
       "...                                                 ...                   ...   \n",
       "6174  13th monthly salary, Performance Bonus. Health...  $ 1,100-1,800 /tháng   \n",
       "6175  13th monthly salary, Performance Bonus. Health...    $ 700-1,000 /tháng   \n",
       "6176  13th monthly salary, Performance Bonus. Health...  $ 1,200-1,800 /tháng   \n",
       "6177                                  13thmonth salary.  $ 1,000-2,000 /tháng   \n",
       "6178                                 Phụ cấp ngoại ngữ.    $ 500-1,000 /tháng   \n",
       "\n",
       "                Expire date Employee Rank  \\\n",
       "0      Hết hạn trong 6 ngày  Trưởng phòng   \n",
       "1      Hết hạn trong 2 ngày     Nhân viên   \n",
       "2     Hết hạn trong 19 ngày     Nhân viên   \n",
       "3     Hết hạn trong 27 ngày     Nhân viên   \n",
       "4     Hết hạn trong 23 ngày  Trưởng phòng   \n",
       "...                     ...           ...   \n",
       "6174   Hết hạn trong 4 ngày     Nhân viên   \n",
       "6175   Hết hạn trong 4 ngày     Nhân viên   \n",
       "6176   Hết hạn trong 4 ngày     Nhân viên   \n",
       "6177   Hết hạn trong 3 ngày     Nhân viên   \n",
       "6178   Hết hạn trong 3 ngày     Nhân viên   \n",
       "\n",
       "                                              Job Skill  \\\n",
       "0     Banking, Financial Analysis, Macro Analysis, F...   \n",
       "1     Audit, Analytical Skills, Kiểm Toán Nội Bộ, En...   \n",
       "2     Process Quality Assurance, Excel, Test Plannin...   \n",
       "3     Quản Trị Đội Ngũ, Kỹ năng bán hàng, Quản Lý Tà...   \n",
       "4     Quản Lý Kinh Doanh Chuỗi, Kinh Doanh, Lập Kế H...   \n",
       "...                                                 ...   \n",
       "6174  Quality Assurance, Product Quality Assurance, ...   \n",
       "6175                             Export, Sales, English   \n",
       "6176  Supply Planning, Inventory Control, SAP S/4HAN...   \n",
       "6177                        Academic Program Management   \n",
       "6178                         Sales, Chinese proficiency   \n",
       "\n",
       "                                              Job Field Years of Experience  \\\n",
       "0     Ngân Hàng & Dịch Vụ Tài Chính > Phân Tích & Bá...                  10   \n",
       "1                         Kế Toán/Kiểm Toán > Kiểm Toán                   3   \n",
       "2     Sản Xuất > Đảm Bảo Chất Lượng/Kiểm Soát Chất L...                   1   \n",
       "3           Kinh Doanh > Bán Hàng/Phát Triển Kinh Doanh                   1   \n",
       "4           Kinh Doanh > Bán Hàng/Phát Triển Kinh Doanh                   5   \n",
       "...                                                 ...                 ...   \n",
       "6174  Sản Xuất > Đảm Bảo Chất Lượng/Kiểm Soát Chất L...       Không yêu cầu   \n",
       "6175        Kinh Doanh > Bán Hàng/Phát Triển Kinh Doanh       Không yêu cầu   \n",
       "6176  Hậu Cần/Xuất Nhập Khẩu/Kho Bãi > Quản Lý Chuỗi...                   5   \n",
       "6177        Kinh Doanh > Bán Hàng/Phát Triển Kinh Doanh                   5   \n",
       "6178        Kinh Doanh > Bán Hàng/Phát Triển Kinh Doanh                   1   \n",
       "\n",
       "                                            Job Address  \n",
       "0                       Số 6 Quang Trung, Hoàn Kiếm, HN  \n",
       "1                                 Hồ Chí Minh, Việt Nam  \n",
       "2                                    Hai Phong, Vietnam  \n",
       "3     Tầng 15, Vincom Đồng Khởi, 45A Lý Tự Trọng, Q1...  \n",
       "4     Số 35 phố Cự Lộc, Km 6 Nguyễn Trãi, Phường Thư...  \n",
       "...                                                 ...  \n",
       "6174                                             Ha Nam  \n",
       "6175                                   Thành phố Hà Nội  \n",
       "6176                                   Hà Nội, Việt Nam  \n",
       "6177                                        Ho Chi Minh  \n",
       "6178                                        Ho Chi Minh  \n",
       "\n",
       "[6179 rows x 15 columns]"
      ]
     },
     "execution_count": 9,
     "metadata": {},
     "output_type": "execute_result"
    }
   ],
   "source": [
    "data_VNW = pd.read_csv(PATH + \"Dataset_VNW\")\n",
    "data_VNW"
   ]
  },
  {
   "cell_type": "code",
   "execution_count": 10,
   "metadata": {},
   "outputs": [],
   "source": [
    "data_Jobsgo = pd.read_csv(PATH + \"Dataset_Jobsgo\")"
   ]
  },
  {
   "cell_type": "code",
   "execution_count": 11,
   "metadata": {},
   "outputs": [
    {
     "data": {
      "text/html": [
       "<div>\n",
       "<style scoped>\n",
       "    .dataframe tbody tr th:only-of-type {\n",
       "        vertical-align: middle;\n",
       "    }\n",
       "\n",
       "    .dataframe tbody tr th {\n",
       "        vertical-align: top;\n",
       "    }\n",
       "\n",
       "    .dataframe thead th {\n",
       "        text-align: right;\n",
       "    }\n",
       "</style>\n",
       "<table border=\"1\" class=\"dataframe\">\n",
       "  <thead>\n",
       "    <tr style=\"text-align: right;\">\n",
       "      <th></th>\n",
       "      <th>URL Job</th>\n",
       "      <th>Job Title</th>\n",
       "      <th>Company Name</th>\n",
       "      <th>Industry</th>\n",
       "      <th>Company Address</th>\n",
       "      <th>Job Description</th>\n",
       "      <th>Job Requirements</th>\n",
       "      <th>Benefits</th>\n",
       "      <th>Salary</th>\n",
       "      <th>Expire date</th>\n",
       "      <th>Employee Rank</th>\n",
       "      <th>Job Skill</th>\n",
       "      <th>Job Field</th>\n",
       "      <th>Years of Experience</th>\n",
       "      <th>Job Address</th>\n",
       "    </tr>\n",
       "  </thead>\n",
       "  <tbody>\n",
       "    <tr>\n",
       "      <th>0</th>\n",
       "      <td>https://jobsgo.vn/viec-lam/nhan-vien-tu-van-tr...</td>\n",
       "      <td>Nhân Viên Tư Vấn Trả Góp - Hà Nội, Đồng Nai, B...</td>\n",
       "      <td>Công ty Tài Chính TNHH MTV Home Credit Việt Nam</td>\n",
       "      <td>Tài chính</td>\n",
       "      <td>20 Nguyễn Đăng Giai, P.Thảo Điền, Tp.Thủ Đức, ...</td>\n",
       "      <td>Tìm kiếm khách hàng thông qua data công công t...</td>\n",
       "      <td>Nam/Nữ, từ 18 – 33 tuổi. Tốt nghiệp THPT trở l...</td>\n",
       "      <td>Thu nhập từ8.000.000 15.000.000đồng/tháng (hưở...</td>\n",
       "      <td>8 - 15 triệu VNĐ</td>\n",
       "      <td>Hết hạn trong 20 ngày nữa</td>\n",
       "      <td>Nhân Viên/Chuyên Viên</td>\n",
       "      <td>Chăm Sóc Khách Hàng, Tư Vấn Bán Hàng, Bán Lẻ</td>\n",
       "      <td>Chăm Sóc Khách Hàng, Kinh Doanh/Bán Hàng, Bán ...</td>\n",
       "      <td>Không yêu cầu</td>\n",
       "      <td>Đồng Nai</td>\n",
       "    </tr>\n",
       "    <tr>\n",
       "      <th>1</th>\n",
       "      <td>https://jobsgo.vn/viec-lam/nhan-vien-telesales...</td>\n",
       "      <td>Nhân Viên Telesales (Cho Vay Tiền Mặt)</td>\n",
       "      <td>Công Ty Tài chính TNHH HD SAISON</td>\n",
       "      <td>Kinh doanh</td>\n",
       "      <td>Lầu 8,9,10 Tòa nhà Gilimex, số 24C đường Phan ...</td>\n",
       "      <td>Đại diện HD SAISON trao đổi với khách hàng tro...</td>\n",
       "      <td>1. Trình độ học vấn:Tốt nghiệp Trung học phổ t...</td>\n",
       "      <td>Thử việc 100% lương;Ký hợp đồng lao động chính...</td>\n",
       "      <td>8 - 15 triệu VNĐ</td>\n",
       "      <td>Hết hạn trong 25 ngày nữa</td>\n",
       "      <td>Nhân Viên/Chuyên Viên</td>\n",
       "      <td>Tư Vấn Bán Hàng, Bán Hàng Qua Điện Thoại (Tele...</td>\n",
       "      <td>Tài Chính/Ngân Hàng, Kinh Doanh/Bán Hàng, Bán ...</td>\n",
       "      <td>Không yêu cầu</td>\n",
       "      <td>Tầng 8, 24C Phan Đăng Lưu, P6, Bình Thạnh, HCM</td>\n",
       "    </tr>\n",
       "    <tr>\n",
       "      <th>2</th>\n",
       "      <td>https://jobsgo.vn/viec-lam/nhan-vien-kinh-doan...</td>\n",
       "      <td>Nhân Viên Kinh Doanh/ Sales/ Chăm Sóc Khách Hà...</td>\n",
       "      <td>Công Ty TNHH Tư Vấn &amp; Đào Tạo Đại Dương</td>\n",
       "      <td>Giáo dục/ Đào tạo/ Tin học</td>\n",
       "      <td>46A Đường 385, Phường Tăng Nhơn Phú A, Thành p...</td>\n",
       "      <td>1. Tìm kiếm, xây dựng mối quan hệ và phát triể...</td>\n",
       "      <td>Tốt nghiệp Cao Đẳng trở lên.Tuổi không quá 30....</td>\n",
       "      <td>Lương cứng từ9.000.000 – 12.000.000VNĐ/tháng+ ...</td>\n",
       "      <td>9 - 12 triệu VNĐ</td>\n",
       "      <td>Hết hạn trong 22 ngày nữa</td>\n",
       "      <td>Nhân Viên/Chuyên Viên</td>\n",
       "      <td>Chăm Sóc Khách Hàng, Tư Vấn Bán Hàng</td>\n",
       "      <td>Tài Chính/Ngân Hàng, Giáo Dục/Đào Tạo, Kinh Do...</td>\n",
       "      <td>Trên 1 năm</td>\n",
       "      <td>25 Đường Số 23, Linh Chiểu, Thủ Đức, Hồ Chí Minh</td>\n",
       "    </tr>\n",
       "    <tr>\n",
       "      <th>3</th>\n",
       "      <td>https://jobsgo.vn/viec-lam/ke-toan-tong-hop-di...</td>\n",
       "      <td>Kế Toán Tổng Hợp - Đi Làm Ngay (Chỉ Chấp Nhận ...</td>\n",
       "      <td>Công Ty TNHH TravelCraft</td>\n",
       "      <td>Kinh doanh</td>\n",
       "      <td>L18-11-13, Tầng 18, Tòa nhà Vincom Center Đồng...</td>\n",
       "      <td>Phụ trách thực hiện các công việc kế toán của ...</td>\n",
       "      <td>Nam/Nữ, 25 40 tuổi;Tốt nghiệp Đại học chuyên n...</td>\n",
       "      <td>Lương: 25 Tr 30 Tr (Thỏa thuận theo năng lực ứ...</td>\n",
       "      <td>25 - 30 triệu VNĐ</td>\n",
       "      <td>Hết hạn trong 22 ngày nữa</td>\n",
       "      <td>Nhân Viên/Chuyên Viên</td>\n",
       "      <td>Kế Toán Tổng Hợp, Kế Toán Quản Trị, Misa</td>\n",
       "      <td>Tài Chính/Ngân Hàng, Du Lịch, Kế Toán/Kiểm Toán</td>\n",
       "      <td>Trên 5 năm</td>\n",
       "      <td>64 Bà Huyện Thanh Quan, Võ Thị Sáu, Quận 3, Hồ...</td>\n",
       "    </tr>\n",
       "    <tr>\n",
       "      <th>4</th>\n",
       "      <td>https://jobsgo.vn/viec-lam/ke-toan-ban-hang-19...</td>\n",
       "      <td>Kế Toán Bán Hàng</td>\n",
       "      <td>Công Ty TNHH Thương Mại Và Xuất Nhập Khẩu Bình...</td>\n",
       "      <td>Sản xuất/Vận hành sản xuất</td>\n",
       "      <td>Số 248, đường Nguyễn Văn Linh, tổ 17, Phường T...</td>\n",
       "      <td>Thực hiện các nghiệp vụ kế toán liên quan đến ...</td>\n",
       "      <td>Nữ tuổi từ 22 – 33KHÔNG CÓ KINH NGHIỆM CÓ THỂ ...</td>\n",
       "      <td>Thu Nhập: 8 10 triệu ( có thể deal theo năng l...</td>\n",
       "      <td>8 - 10 triệu VNĐ</td>\n",
       "      <td>Hết hạn trong 28 ngày nữa</td>\n",
       "      <td>Nhân Viên/Chuyên Viên</td>\n",
       "      <td>Kế Toán Tổng Hợp, Kế Toán Bán Hàng, Tư Vấn Bán...</td>\n",
       "      <td>Kế Toán/Kiểm Toán, Kinh Doanh/Bán Hàng, Bán Sỉ...</td>\n",
       "      <td>Không yêu cầu</td>\n",
       "      <td>244 Nguyễn Văn Linh, Cổ Bi, Gia Lâm, Hà Nội</td>\n",
       "    </tr>\n",
       "    <tr>\n",
       "      <th>...</th>\n",
       "      <td>...</td>\n",
       "      <td>...</td>\n",
       "      <td>...</td>\n",
       "      <td>...</td>\n",
       "      <td>...</td>\n",
       "      <td>...</td>\n",
       "      <td>...</td>\n",
       "      <td>...</td>\n",
       "      <td>...</td>\n",
       "      <td>...</td>\n",
       "      <td>...</td>\n",
       "      <td>...</td>\n",
       "      <td>...</td>\n",
       "      <td>...</td>\n",
       "      <td>...</td>\n",
       "    </tr>\n",
       "    <tr>\n",
       "      <th>9511</th>\n",
       "      <td>https://jobsgo.vn/viec-lam/nhan-vien-sale-1920...</td>\n",
       "      <td>Nhân Viên Sale</td>\n",
       "      <td>Công Ty TNHH Nhôm Tiến Đạt</td>\n",
       "      <td>Sản xuất/Vận hành sản xuất</td>\n",
       "      <td>135A/3 KP.Bình Đường 3, Bình An, Dĩ An, Bình D...</td>\n",
       "      <td>Đi khắp 13 tỉnh ( có hỗ trợ xe hơi đi) tiếp th...</td>\n",
       "      <td>Liên hệ [protected info]( a duc) để xếp lịch p...</td>\n",
       "      <td>Môi trường làm việc dân chủ, hiện đại, chuyên ...</td>\n",
       "      <td>10 - 12 triệu VNĐ</td>\n",
       "      <td>Hết hạn trong 8 ngày nữa</td>\n",
       "      <td>Nhân viên/Chuyên viên</td>\n",
       "      <td>Tư Vấn Bán Hàng, Bán Hàng Qua Điện Thoại (Tele...</td>\n",
       "      <td>Chăm Sóc Khách Hàng, Kinh Doanh/Bán Hàng</td>\n",
       "      <td>Không yêu cầu</td>\n",
       "      <td>Hậu Giang</td>\n",
       "    </tr>\n",
       "    <tr>\n",
       "      <th>9512</th>\n",
       "      <td>https://jobsgo.vn/viec-lam/fresher-mobile-flut...</td>\n",
       "      <td>Fresher Mobile (Flutter)</td>\n",
       "      <td>Công Ty Cổ Phần Voyager</td>\n",
       "      <td>Công nghệ thông tin</td>\n",
       "      <td>Floor 07, HOSE Building, Street 03, Quang Trun...</td>\n",
       "      <td>Tham gia học hỏi, xây dựng, phát triển các ứng...</td>\n",
       "      <td>Tốt nghiệp Đại học hoặc Cao đẳng trở lên các c...</td>\n",
       "      <td>Sẽ trở thành thành viên của một Đại Gia Đình đ...</td>\n",
       "      <td>Thỏa thuận</td>\n",
       "      <td>Hết hạn trong 8 ngày nữa</td>\n",
       "      <td>Mới tốt nghiệp/Thực tập sinh</td>\n",
       "      <td>iOS, Android, Triển Khai Phần Mềm</td>\n",
       "      <td>IT Phần Mềm</td>\n",
       "      <td>Không yêu cầu</td>\n",
       "      <td>Công viên phần mềm Quang Trung,Hồ Chí Minh</td>\n",
       "    </tr>\n",
       "    <tr>\n",
       "      <th>9513</th>\n",
       "      <td>https://jobsgo.vn/viec-lam/chuyen-vien-pha-che...</td>\n",
       "      <td>Chuyên Viên Pha Chế</td>\n",
       "      <td>Công TY TNHH Một Thành Viên Nlink Việt Nam</td>\n",
       "      <td>Mỹ phẩm</td>\n",
       "      <td>76 Trần Đình Xu, P. Cô Giang, Q.1, TP.HCM</td>\n",
       "      <td>Tiếp nhận order và thực hiện pha chế các loại ...</td>\n",
       "      <td>Có kinh nghiệm pha chế từ 1 năm trở lên.Có kiế...</td>\n",
       "      <td>Được Tham gia BHXH, BHYT và các chế độ phúc lợ...</td>\n",
       "      <td>8 - 12 triệu VNĐ</td>\n",
       "      <td>Hết hạn trong 8 ngày nữa</td>\n",
       "      <td>Nhân viên/Chuyên viên</td>\n",
       "      <td>Pha Chế Cafe (Barista), Pha Chế Rượu (Bartender)</td>\n",
       "      <td>Lao Động Phổ Thông, Nhà Hàng/Khách Sạn</td>\n",
       "      <td>Trên 1 năm</td>\n",
       "      <td>Hồ Chí Minh</td>\n",
       "    </tr>\n",
       "    <tr>\n",
       "      <th>9514</th>\n",
       "      <td>https://jobsgo.vn/viec-lam/quan-ly-ke-toan-192...</td>\n",
       "      <td>Quản Lý Kế Toán</td>\n",
       "      <td>CÔNG TY CỔ PHẦN PHÁT TRIỂN LOGISTICS Á CHÂU</td>\n",
       "      <td>Kinh doanh</td>\n",
       "      <td>Trụ sở chính: Số 44, Đường Trương Định, Phường...</td>\n",
       "      <td>Quản lý phòng kế toán, trực tiếp lên kế hoạch ...</td>\n",
       "      <td>Tốt nghiệp Đại học trở lên chuyên ngành Kế toá...</td>\n",
       "      <td>Lương cơ bản: 18 tr + thưởng (thưởng quý + thư...</td>\n",
       "      <td>18 - 23 triệu VNĐ</td>\n",
       "      <td>Hết hạn trong 8 ngày nữa</td>\n",
       "      <td>Trưởng nhóm/Trưởng phòng</td>\n",
       "      <td>Kế Toán Tổng Hợp, Kế Toán Thuế, Kế Toán Quản T...</td>\n",
       "      <td>Kế Toán/Kiểm Toán, Spa/Làm Đẹp, Sản Xuất/Lắp R...</td>\n",
       "      <td>Trên 3 năm</td>\n",
       "      <td>45 Trần Thái Tông,Hà Nội</td>\n",
       "    </tr>\n",
       "    <tr>\n",
       "      <th>9515</th>\n",
       "      <td>https://jobsgo.vn/viec-lam/nhan-vien-kinh-doan...</td>\n",
       "      <td>Nhân Viên Kinh Doanh / Sales</td>\n",
       "      <td>Công Ty TNHH Ắc Quy GS Việt Nam</td>\n",
       "      <td>Kinh doanh</td>\n",
       "      <td>18 Đường số 3, KCN Việt Nam Singapore (VSIP1),...</td>\n",
       "      <td>Conduct market research to identify potential ...</td>\n",
       "      <td>Bachelor’s degree in Mechanical Engineering, M...</td>\n",
       "      <td>Working hours: Mon Fri: 7h40 16:35Location: No...</td>\n",
       "      <td>12 - 15 triệu VNĐ</td>\n",
       "      <td>Hết hạn trong 8 ngày nữa</td>\n",
       "      <td>Nhân viên/Chuyên viên</td>\n",
       "      <td>Tư Vấn Bán Hàng, Bán Hàng Qua Điện Thoại (Tele...</td>\n",
       "      <td>Chăm Sóc Khách Hàng, Kinh Doanh/Bán Hàng</td>\n",
       "      <td>Không yêu cầu</td>\n",
       "      <td>Số 18, Đường số 3, KCN Việt Nam Singapore, Phư...</td>\n",
       "    </tr>\n",
       "  </tbody>\n",
       "</table>\n",
       "<p>9516 rows × 15 columns</p>\n",
       "</div>"
      ],
      "text/plain": [
       "                                                URL Job  \\\n",
       "0     https://jobsgo.vn/viec-lam/nhan-vien-tu-van-tr...   \n",
       "1     https://jobsgo.vn/viec-lam/nhan-vien-telesales...   \n",
       "2     https://jobsgo.vn/viec-lam/nhan-vien-kinh-doan...   \n",
       "3     https://jobsgo.vn/viec-lam/ke-toan-tong-hop-di...   \n",
       "4     https://jobsgo.vn/viec-lam/ke-toan-ban-hang-19...   \n",
       "...                                                 ...   \n",
       "9511  https://jobsgo.vn/viec-lam/nhan-vien-sale-1920...   \n",
       "9512  https://jobsgo.vn/viec-lam/fresher-mobile-flut...   \n",
       "9513  https://jobsgo.vn/viec-lam/chuyen-vien-pha-che...   \n",
       "9514  https://jobsgo.vn/viec-lam/quan-ly-ke-toan-192...   \n",
       "9515  https://jobsgo.vn/viec-lam/nhan-vien-kinh-doan...   \n",
       "\n",
       "                                              Job Title  \\\n",
       "0     Nhân Viên Tư Vấn Trả Góp - Hà Nội, Đồng Nai, B...   \n",
       "1                Nhân Viên Telesales (Cho Vay Tiền Mặt)   \n",
       "2     Nhân Viên Kinh Doanh/ Sales/ Chăm Sóc Khách Hà...   \n",
       "3     Kế Toán Tổng Hợp - Đi Làm Ngay (Chỉ Chấp Nhận ...   \n",
       "4                                      Kế Toán Bán Hàng   \n",
       "...                                                 ...   \n",
       "9511                                     Nhân Viên Sale   \n",
       "9512                           Fresher Mobile (Flutter)   \n",
       "9513                                Chuyên Viên Pha Chế   \n",
       "9514                                    Quản Lý Kế Toán   \n",
       "9515                       Nhân Viên Kinh Doanh / Sales   \n",
       "\n",
       "                                           Company Name  \\\n",
       "0       Công ty Tài Chính TNHH MTV Home Credit Việt Nam   \n",
       "1                      Công Ty Tài chính TNHH HD SAISON   \n",
       "2               Công Ty TNHH Tư Vấn & Đào Tạo Đại Dương   \n",
       "3                              Công Ty TNHH TravelCraft   \n",
       "4     Công Ty TNHH Thương Mại Và Xuất Nhập Khẩu Bình...   \n",
       "...                                                 ...   \n",
       "9511                         Công Ty TNHH Nhôm Tiến Đạt   \n",
       "9512                            Công Ty Cổ Phần Voyager   \n",
       "9513         Công TY TNHH Một Thành Viên Nlink Việt Nam   \n",
       "9514        CÔNG TY CỔ PHẦN PHÁT TRIỂN LOGISTICS Á CHÂU   \n",
       "9515                    Công Ty TNHH Ắc Quy GS Việt Nam   \n",
       "\n",
       "                        Industry  \\\n",
       "0                      Tài chính   \n",
       "1                     Kinh doanh   \n",
       "2     Giáo dục/ Đào tạo/ Tin học   \n",
       "3                     Kinh doanh   \n",
       "4     Sản xuất/Vận hành sản xuất   \n",
       "...                          ...   \n",
       "9511  Sản xuất/Vận hành sản xuất   \n",
       "9512         Công nghệ thông tin   \n",
       "9513                     Mỹ phẩm   \n",
       "9514                  Kinh doanh   \n",
       "9515                  Kinh doanh   \n",
       "\n",
       "                                        Company Address  \\\n",
       "0     20 Nguyễn Đăng Giai, P.Thảo Điền, Tp.Thủ Đức, ...   \n",
       "1     Lầu 8,9,10 Tòa nhà Gilimex, số 24C đường Phan ...   \n",
       "2     46A Đường 385, Phường Tăng Nhơn Phú A, Thành p...   \n",
       "3     L18-11-13, Tầng 18, Tòa nhà Vincom Center Đồng...   \n",
       "4     Số 248, đường Nguyễn Văn Linh, tổ 17, Phường T...   \n",
       "...                                                 ...   \n",
       "9511  135A/3 KP.Bình Đường 3, Bình An, Dĩ An, Bình D...   \n",
       "9512  Floor 07, HOSE Building, Street 03, Quang Trun...   \n",
       "9513          76 Trần Đình Xu, P. Cô Giang, Q.1, TP.HCM   \n",
       "9514  Trụ sở chính: Số 44, Đường Trương Định, Phường...   \n",
       "9515  18 Đường số 3, KCN Việt Nam Singapore (VSIP1),...   \n",
       "\n",
       "                                        Job Description  \\\n",
       "0     Tìm kiếm khách hàng thông qua data công công t...   \n",
       "1     Đại diện HD SAISON trao đổi với khách hàng tro...   \n",
       "2     1. Tìm kiếm, xây dựng mối quan hệ và phát triể...   \n",
       "3     Phụ trách thực hiện các công việc kế toán của ...   \n",
       "4     Thực hiện các nghiệp vụ kế toán liên quan đến ...   \n",
       "...                                                 ...   \n",
       "9511  Đi khắp 13 tỉnh ( có hỗ trợ xe hơi đi) tiếp th...   \n",
       "9512  Tham gia học hỏi, xây dựng, phát triển các ứng...   \n",
       "9513  Tiếp nhận order và thực hiện pha chế các loại ...   \n",
       "9514  Quản lý phòng kế toán, trực tiếp lên kế hoạch ...   \n",
       "9515  Conduct market research to identify potential ...   \n",
       "\n",
       "                                       Job Requirements  \\\n",
       "0     Nam/Nữ, từ 18 – 33 tuổi. Tốt nghiệp THPT trở l...   \n",
       "1     1. Trình độ học vấn:Tốt nghiệp Trung học phổ t...   \n",
       "2     Tốt nghiệp Cao Đẳng trở lên.Tuổi không quá 30....   \n",
       "3     Nam/Nữ, 25 40 tuổi;Tốt nghiệp Đại học chuyên n...   \n",
       "4     Nữ tuổi từ 22 – 33KHÔNG CÓ KINH NGHIỆM CÓ THỂ ...   \n",
       "...                                                 ...   \n",
       "9511  Liên hệ [protected info]( a duc) để xếp lịch p...   \n",
       "9512  Tốt nghiệp Đại học hoặc Cao đẳng trở lên các c...   \n",
       "9513  Có kinh nghiệm pha chế từ 1 năm trở lên.Có kiế...   \n",
       "9514  Tốt nghiệp Đại học trở lên chuyên ngành Kế toá...   \n",
       "9515  Bachelor’s degree in Mechanical Engineering, M...   \n",
       "\n",
       "                                               Benefits             Salary  \\\n",
       "0     Thu nhập từ8.000.000 15.000.000đồng/tháng (hưở...   8 - 15 triệu VNĐ   \n",
       "1     Thử việc 100% lương;Ký hợp đồng lao động chính...   8 - 15 triệu VNĐ   \n",
       "2     Lương cứng từ9.000.000 – 12.000.000VNĐ/tháng+ ...   9 - 12 triệu VNĐ   \n",
       "3     Lương: 25 Tr 30 Tr (Thỏa thuận theo năng lực ứ...  25 - 30 triệu VNĐ   \n",
       "4     Thu Nhập: 8 10 triệu ( có thể deal theo năng l...   8 - 10 triệu VNĐ   \n",
       "...                                                 ...                ...   \n",
       "9511  Môi trường làm việc dân chủ, hiện đại, chuyên ...  10 - 12 triệu VNĐ   \n",
       "9512  Sẽ trở thành thành viên của một Đại Gia Đình đ...         Thỏa thuận   \n",
       "9513  Được Tham gia BHXH, BHYT và các chế độ phúc lợ...   8 - 12 triệu VNĐ   \n",
       "9514  Lương cơ bản: 18 tr + thưởng (thưởng quý + thư...  18 - 23 triệu VNĐ   \n",
       "9515  Working hours: Mon Fri: 7h40 16:35Location: No...  12 - 15 triệu VNĐ   \n",
       "\n",
       "                    Expire date                 Employee Rank  \\\n",
       "0     Hết hạn trong 20 ngày nữa         Nhân Viên/Chuyên Viên   \n",
       "1     Hết hạn trong 25 ngày nữa         Nhân Viên/Chuyên Viên   \n",
       "2     Hết hạn trong 22 ngày nữa         Nhân Viên/Chuyên Viên   \n",
       "3     Hết hạn trong 22 ngày nữa         Nhân Viên/Chuyên Viên   \n",
       "4     Hết hạn trong 28 ngày nữa         Nhân Viên/Chuyên Viên   \n",
       "...                         ...                           ...   \n",
       "9511   Hết hạn trong 8 ngày nữa         Nhân viên/Chuyên viên   \n",
       "9512   Hết hạn trong 8 ngày nữa  Mới tốt nghiệp/Thực tập sinh   \n",
       "9513   Hết hạn trong 8 ngày nữa         Nhân viên/Chuyên viên   \n",
       "9514   Hết hạn trong 8 ngày nữa      Trưởng nhóm/Trưởng phòng   \n",
       "9515   Hết hạn trong 8 ngày nữa         Nhân viên/Chuyên viên   \n",
       "\n",
       "                                              Job Skill  \\\n",
       "0          Chăm Sóc Khách Hàng, Tư Vấn Bán Hàng, Bán Lẻ   \n",
       "1     Tư Vấn Bán Hàng, Bán Hàng Qua Điện Thoại (Tele...   \n",
       "2                  Chăm Sóc Khách Hàng, Tư Vấn Bán Hàng   \n",
       "3              Kế Toán Tổng Hợp, Kế Toán Quản Trị, Misa   \n",
       "4     Kế Toán Tổng Hợp, Kế Toán Bán Hàng, Tư Vấn Bán...   \n",
       "...                                                 ...   \n",
       "9511  Tư Vấn Bán Hàng, Bán Hàng Qua Điện Thoại (Tele...   \n",
       "9512                  iOS, Android, Triển Khai Phần Mềm   \n",
       "9513   Pha Chế Cafe (Barista), Pha Chế Rượu (Bartender)   \n",
       "9514  Kế Toán Tổng Hợp, Kế Toán Thuế, Kế Toán Quản T...   \n",
       "9515  Tư Vấn Bán Hàng, Bán Hàng Qua Điện Thoại (Tele...   \n",
       "\n",
       "                                              Job Field Years of Experience  \\\n",
       "0     Chăm Sóc Khách Hàng, Kinh Doanh/Bán Hàng, Bán ...       Không yêu cầu   \n",
       "1     Tài Chính/Ngân Hàng, Kinh Doanh/Bán Hàng, Bán ...       Không yêu cầu   \n",
       "2     Tài Chính/Ngân Hàng, Giáo Dục/Đào Tạo, Kinh Do...          Trên 1 năm   \n",
       "3       Tài Chính/Ngân Hàng, Du Lịch, Kế Toán/Kiểm Toán          Trên 5 năm   \n",
       "4     Kế Toán/Kiểm Toán, Kinh Doanh/Bán Hàng, Bán Sỉ...       Không yêu cầu   \n",
       "...                                                 ...                 ...   \n",
       "9511           Chăm Sóc Khách Hàng, Kinh Doanh/Bán Hàng       Không yêu cầu   \n",
       "9512                                        IT Phần Mềm       Không yêu cầu   \n",
       "9513             Lao Động Phổ Thông, Nhà Hàng/Khách Sạn          Trên 1 năm   \n",
       "9514  Kế Toán/Kiểm Toán, Spa/Làm Đẹp, Sản Xuất/Lắp R...          Trên 3 năm   \n",
       "9515           Chăm Sóc Khách Hàng, Kinh Doanh/Bán Hàng       Không yêu cầu   \n",
       "\n",
       "                                            Job Address  \n",
       "0                                              Đồng Nai  \n",
       "1        Tầng 8, 24C Phan Đăng Lưu, P6, Bình Thạnh, HCM  \n",
       "2      25 Đường Số 23, Linh Chiểu, Thủ Đức, Hồ Chí Minh  \n",
       "3     64 Bà Huyện Thanh Quan, Võ Thị Sáu, Quận 3, Hồ...  \n",
       "4           244 Nguyễn Văn Linh, Cổ Bi, Gia Lâm, Hà Nội  \n",
       "...                                                 ...  \n",
       "9511                                          Hậu Giang  \n",
       "9512         Công viên phần mềm Quang Trung,Hồ Chí Minh  \n",
       "9513                                        Hồ Chí Minh  \n",
       "9514                           45 Trần Thái Tông,Hà Nội  \n",
       "9515  Số 18, Đường số 3, KCN Việt Nam Singapore, Phư...  \n",
       "\n",
       "[9516 rows x 15 columns]"
      ]
     },
     "execution_count": 11,
     "metadata": {},
     "output_type": "execute_result"
    }
   ],
   "source": [
    "data_Jobsgo"
   ]
  },
  {
   "cell_type": "code",
   "execution_count": 16,
   "metadata": {},
   "outputs": [
    {
     "name": "stdout",
     "output_type": "stream",
     "text": [
      "<class 'pandas.core.frame.DataFrame'>\n",
      "RangeIndex: 9516 entries, 0 to 9515\n",
      "Data columns (total 15 columns):\n",
      " #   Column               Non-Null Count  Dtype \n",
      "---  ------               --------------  ----- \n",
      " 0   URL Job              9516 non-null   object\n",
      " 1   Job Title            9516 non-null   object\n",
      " 2   Company Name         9516 non-null   object\n",
      " 3   Industry             9440 non-null   object\n",
      " 4   Company Address      9516 non-null   object\n",
      " 5   Job Description      9516 non-null   object\n",
      " 6   Job Requirements     9516 non-null   object\n",
      " 7   Benefits             9510 non-null   object\n",
      " 8   Salary               9516 non-null   object\n",
      " 9   Expire date          9516 non-null   object\n",
      " 10  Employee Rank        9516 non-null   object\n",
      " 11  Job Skill            9405 non-null   object\n",
      " 12  Job Field            9447 non-null   object\n",
      " 13  Years of Experience  9516 non-null   object\n",
      " 14  Job Address          9516 non-null   object\n",
      "dtypes: object(15)\n",
      "memory usage: 1.1+ MB\n"
     ]
    }
   ],
   "source": [
    "data_Jobsgo.info()"
   ]
  },
  {
   "cell_type": "markdown",
   "metadata": {},
   "source": [
    "# Crawl user data"
   ]
  },
  {
   "cell_type": "code",
   "execution_count": 3,
   "metadata": {},
   "outputs": [],
   "source": [
    "# Viết hàm lấy url page chứa danh sách các công việc\n",
    "def get_url_page_user(num_page):\n",
    "  list_url_page = []\n",
    "  for i in range(1,num_page+1):\n",
    "    list_url_page.append('https://www.alojob.com/ung-vien?page='+str(i))\n",
    "  return list_url_page"
   ]
  },
  {
   "cell_type": "code",
   "execution_count": 4,
   "metadata": {},
   "outputs": [],
   "source": [
    "list_url_page = get_url_page_user(1000)"
   ]
  },
  {
   "cell_type": "code",
   "execution_count": 21,
   "metadata": {},
   "outputs": [
    {
     "data": {
      "text/plain": [
       "['https://www.alojob.com/ung-vien?page=1',\n",
       " 'https://www.alojob.com/ung-vien?page=2',\n",
       " 'https://www.alojob.com/ung-vien?page=3',\n",
       " 'https://www.alojob.com/ung-vien?page=4',\n",
       " 'https://www.alojob.com/ung-vien?page=5',\n",
       " 'https://www.alojob.com/ung-vien?page=6',\n",
       " 'https://www.alojob.com/ung-vien?page=7',\n",
       " 'https://www.alojob.com/ung-vien?page=8',\n",
       " 'https://www.alojob.com/ung-vien?page=9',\n",
       " 'https://www.alojob.com/ung-vien?page=10',\n",
       " 'https://www.alojob.com/ung-vien?page=11',\n",
       " 'https://www.alojob.com/ung-vien?page=12',\n",
       " 'https://www.alojob.com/ung-vien?page=13',\n",
       " 'https://www.alojob.com/ung-vien?page=14',\n",
       " 'https://www.alojob.com/ung-vien?page=15',\n",
       " 'https://www.alojob.com/ung-vien?page=16',\n",
       " 'https://www.alojob.com/ung-vien?page=17',\n",
       " 'https://www.alojob.com/ung-vien?page=18',\n",
       " 'https://www.alojob.com/ung-vien?page=19',\n",
       " 'https://www.alojob.com/ung-vien?page=20',\n",
       " 'https://www.alojob.com/ung-vien?page=21',\n",
       " 'https://www.alojob.com/ung-vien?page=22',\n",
       " 'https://www.alojob.com/ung-vien?page=23',\n",
       " 'https://www.alojob.com/ung-vien?page=24',\n",
       " 'https://www.alojob.com/ung-vien?page=25',\n",
       " 'https://www.alojob.com/ung-vien?page=26',\n",
       " 'https://www.alojob.com/ung-vien?page=27',\n",
       " 'https://www.alojob.com/ung-vien?page=28',\n",
       " 'https://www.alojob.com/ung-vien?page=29',\n",
       " 'https://www.alojob.com/ung-vien?page=30',\n",
       " 'https://www.alojob.com/ung-vien?page=31',\n",
       " 'https://www.alojob.com/ung-vien?page=32',\n",
       " 'https://www.alojob.com/ung-vien?page=33',\n",
       " 'https://www.alojob.com/ung-vien?page=34',\n",
       " 'https://www.alojob.com/ung-vien?page=35',\n",
       " 'https://www.alojob.com/ung-vien?page=36',\n",
       " 'https://www.alojob.com/ung-vien?page=37',\n",
       " 'https://www.alojob.com/ung-vien?page=38',\n",
       " 'https://www.alojob.com/ung-vien?page=39',\n",
       " 'https://www.alojob.com/ung-vien?page=40',\n",
       " 'https://www.alojob.com/ung-vien?page=41',\n",
       " 'https://www.alojob.com/ung-vien?page=42',\n",
       " 'https://www.alojob.com/ung-vien?page=43',\n",
       " 'https://www.alojob.com/ung-vien?page=44',\n",
       " 'https://www.alojob.com/ung-vien?page=45',\n",
       " 'https://www.alojob.com/ung-vien?page=46',\n",
       " 'https://www.alojob.com/ung-vien?page=47',\n",
       " 'https://www.alojob.com/ung-vien?page=48',\n",
       " 'https://www.alojob.com/ung-vien?page=49',\n",
       " 'https://www.alojob.com/ung-vien?page=50',\n",
       " 'https://www.alojob.com/ung-vien?page=51',\n",
       " 'https://www.alojob.com/ung-vien?page=52',\n",
       " 'https://www.alojob.com/ung-vien?page=53',\n",
       " 'https://www.alojob.com/ung-vien?page=54',\n",
       " 'https://www.alojob.com/ung-vien?page=55',\n",
       " 'https://www.alojob.com/ung-vien?page=56',\n",
       " 'https://www.alojob.com/ung-vien?page=57',\n",
       " 'https://www.alojob.com/ung-vien?page=58',\n",
       " 'https://www.alojob.com/ung-vien?page=59',\n",
       " 'https://www.alojob.com/ung-vien?page=60',\n",
       " 'https://www.alojob.com/ung-vien?page=61',\n",
       " 'https://www.alojob.com/ung-vien?page=62',\n",
       " 'https://www.alojob.com/ung-vien?page=63',\n",
       " 'https://www.alojob.com/ung-vien?page=64',\n",
       " 'https://www.alojob.com/ung-vien?page=65',\n",
       " 'https://www.alojob.com/ung-vien?page=66',\n",
       " 'https://www.alojob.com/ung-vien?page=67',\n",
       " 'https://www.alojob.com/ung-vien?page=68',\n",
       " 'https://www.alojob.com/ung-vien?page=69',\n",
       " 'https://www.alojob.com/ung-vien?page=70',\n",
       " 'https://www.alojob.com/ung-vien?page=71',\n",
       " 'https://www.alojob.com/ung-vien?page=72',\n",
       " 'https://www.alojob.com/ung-vien?page=73',\n",
       " 'https://www.alojob.com/ung-vien?page=74',\n",
       " 'https://www.alojob.com/ung-vien?page=75',\n",
       " 'https://www.alojob.com/ung-vien?page=76',\n",
       " 'https://www.alojob.com/ung-vien?page=77',\n",
       " 'https://www.alojob.com/ung-vien?page=78',\n",
       " 'https://www.alojob.com/ung-vien?page=79',\n",
       " 'https://www.alojob.com/ung-vien?page=80',\n",
       " 'https://www.alojob.com/ung-vien?page=81',\n",
       " 'https://www.alojob.com/ung-vien?page=82',\n",
       " 'https://www.alojob.com/ung-vien?page=83',\n",
       " 'https://www.alojob.com/ung-vien?page=84',\n",
       " 'https://www.alojob.com/ung-vien?page=85',\n",
       " 'https://www.alojob.com/ung-vien?page=86',\n",
       " 'https://www.alojob.com/ung-vien?page=87',\n",
       " 'https://www.alojob.com/ung-vien?page=88',\n",
       " 'https://www.alojob.com/ung-vien?page=89',\n",
       " 'https://www.alojob.com/ung-vien?page=90',\n",
       " 'https://www.alojob.com/ung-vien?page=91',\n",
       " 'https://www.alojob.com/ung-vien?page=92',\n",
       " 'https://www.alojob.com/ung-vien?page=93',\n",
       " 'https://www.alojob.com/ung-vien?page=94',\n",
       " 'https://www.alojob.com/ung-vien?page=95',\n",
       " 'https://www.alojob.com/ung-vien?page=96',\n",
       " 'https://www.alojob.com/ung-vien?page=97',\n",
       " 'https://www.alojob.com/ung-vien?page=98',\n",
       " 'https://www.alojob.com/ung-vien?page=99',\n",
       " 'https://www.alojob.com/ung-vien?page=100',\n",
       " 'https://www.alojob.com/ung-vien?page=101',\n",
       " 'https://www.alojob.com/ung-vien?page=102',\n",
       " 'https://www.alojob.com/ung-vien?page=103',\n",
       " 'https://www.alojob.com/ung-vien?page=104',\n",
       " 'https://www.alojob.com/ung-vien?page=105',\n",
       " 'https://www.alojob.com/ung-vien?page=106',\n",
       " 'https://www.alojob.com/ung-vien?page=107',\n",
       " 'https://www.alojob.com/ung-vien?page=108',\n",
       " 'https://www.alojob.com/ung-vien?page=109',\n",
       " 'https://www.alojob.com/ung-vien?page=110',\n",
       " 'https://www.alojob.com/ung-vien?page=111',\n",
       " 'https://www.alojob.com/ung-vien?page=112',\n",
       " 'https://www.alojob.com/ung-vien?page=113',\n",
       " 'https://www.alojob.com/ung-vien?page=114',\n",
       " 'https://www.alojob.com/ung-vien?page=115',\n",
       " 'https://www.alojob.com/ung-vien?page=116',\n",
       " 'https://www.alojob.com/ung-vien?page=117',\n",
       " 'https://www.alojob.com/ung-vien?page=118',\n",
       " 'https://www.alojob.com/ung-vien?page=119',\n",
       " 'https://www.alojob.com/ung-vien?page=120',\n",
       " 'https://www.alojob.com/ung-vien?page=121',\n",
       " 'https://www.alojob.com/ung-vien?page=122',\n",
       " 'https://www.alojob.com/ung-vien?page=123',\n",
       " 'https://www.alojob.com/ung-vien?page=124',\n",
       " 'https://www.alojob.com/ung-vien?page=125',\n",
       " 'https://www.alojob.com/ung-vien?page=126',\n",
       " 'https://www.alojob.com/ung-vien?page=127',\n",
       " 'https://www.alojob.com/ung-vien?page=128',\n",
       " 'https://www.alojob.com/ung-vien?page=129',\n",
       " 'https://www.alojob.com/ung-vien?page=130',\n",
       " 'https://www.alojob.com/ung-vien?page=131',\n",
       " 'https://www.alojob.com/ung-vien?page=132',\n",
       " 'https://www.alojob.com/ung-vien?page=133',\n",
       " 'https://www.alojob.com/ung-vien?page=134',\n",
       " 'https://www.alojob.com/ung-vien?page=135',\n",
       " 'https://www.alojob.com/ung-vien?page=136',\n",
       " 'https://www.alojob.com/ung-vien?page=137',\n",
       " 'https://www.alojob.com/ung-vien?page=138',\n",
       " 'https://www.alojob.com/ung-vien?page=139',\n",
       " 'https://www.alojob.com/ung-vien?page=140',\n",
       " 'https://www.alojob.com/ung-vien?page=141',\n",
       " 'https://www.alojob.com/ung-vien?page=142',\n",
       " 'https://www.alojob.com/ung-vien?page=143',\n",
       " 'https://www.alojob.com/ung-vien?page=144',\n",
       " 'https://www.alojob.com/ung-vien?page=145',\n",
       " 'https://www.alojob.com/ung-vien?page=146',\n",
       " 'https://www.alojob.com/ung-vien?page=147',\n",
       " 'https://www.alojob.com/ung-vien?page=148',\n",
       " 'https://www.alojob.com/ung-vien?page=149',\n",
       " 'https://www.alojob.com/ung-vien?page=150',\n",
       " 'https://www.alojob.com/ung-vien?page=151',\n",
       " 'https://www.alojob.com/ung-vien?page=152',\n",
       " 'https://www.alojob.com/ung-vien?page=153',\n",
       " 'https://www.alojob.com/ung-vien?page=154',\n",
       " 'https://www.alojob.com/ung-vien?page=155',\n",
       " 'https://www.alojob.com/ung-vien?page=156',\n",
       " 'https://www.alojob.com/ung-vien?page=157',\n",
       " 'https://www.alojob.com/ung-vien?page=158',\n",
       " 'https://www.alojob.com/ung-vien?page=159',\n",
       " 'https://www.alojob.com/ung-vien?page=160',\n",
       " 'https://www.alojob.com/ung-vien?page=161',\n",
       " 'https://www.alojob.com/ung-vien?page=162',\n",
       " 'https://www.alojob.com/ung-vien?page=163',\n",
       " 'https://www.alojob.com/ung-vien?page=164',\n",
       " 'https://www.alojob.com/ung-vien?page=165',\n",
       " 'https://www.alojob.com/ung-vien?page=166',\n",
       " 'https://www.alojob.com/ung-vien?page=167',\n",
       " 'https://www.alojob.com/ung-vien?page=168',\n",
       " 'https://www.alojob.com/ung-vien?page=169',\n",
       " 'https://www.alojob.com/ung-vien?page=170',\n",
       " 'https://www.alojob.com/ung-vien?page=171',\n",
       " 'https://www.alojob.com/ung-vien?page=172',\n",
       " 'https://www.alojob.com/ung-vien?page=173',\n",
       " 'https://www.alojob.com/ung-vien?page=174',\n",
       " 'https://www.alojob.com/ung-vien?page=175',\n",
       " 'https://www.alojob.com/ung-vien?page=176',\n",
       " 'https://www.alojob.com/ung-vien?page=177',\n",
       " 'https://www.alojob.com/ung-vien?page=178',\n",
       " 'https://www.alojob.com/ung-vien?page=179',\n",
       " 'https://www.alojob.com/ung-vien?page=180',\n",
       " 'https://www.alojob.com/ung-vien?page=181',\n",
       " 'https://www.alojob.com/ung-vien?page=182',\n",
       " 'https://www.alojob.com/ung-vien?page=183',\n",
       " 'https://www.alojob.com/ung-vien?page=184',\n",
       " 'https://www.alojob.com/ung-vien?page=185',\n",
       " 'https://www.alojob.com/ung-vien?page=186',\n",
       " 'https://www.alojob.com/ung-vien?page=187',\n",
       " 'https://www.alojob.com/ung-vien?page=188',\n",
       " 'https://www.alojob.com/ung-vien?page=189',\n",
       " 'https://www.alojob.com/ung-vien?page=190',\n",
       " 'https://www.alojob.com/ung-vien?page=191',\n",
       " 'https://www.alojob.com/ung-vien?page=192',\n",
       " 'https://www.alojob.com/ung-vien?page=193',\n",
       " 'https://www.alojob.com/ung-vien?page=194',\n",
       " 'https://www.alojob.com/ung-vien?page=195',\n",
       " 'https://www.alojob.com/ung-vien?page=196',\n",
       " 'https://www.alojob.com/ung-vien?page=197',\n",
       " 'https://www.alojob.com/ung-vien?page=198',\n",
       " 'https://www.alojob.com/ung-vien?page=199',\n",
       " 'https://www.alojob.com/ung-vien?page=200',\n",
       " 'https://www.alojob.com/ung-vien?page=201',\n",
       " 'https://www.alojob.com/ung-vien?page=202',\n",
       " 'https://www.alojob.com/ung-vien?page=203',\n",
       " 'https://www.alojob.com/ung-vien?page=204',\n",
       " 'https://www.alojob.com/ung-vien?page=205',\n",
       " 'https://www.alojob.com/ung-vien?page=206',\n",
       " 'https://www.alojob.com/ung-vien?page=207',\n",
       " 'https://www.alojob.com/ung-vien?page=208',\n",
       " 'https://www.alojob.com/ung-vien?page=209',\n",
       " 'https://www.alojob.com/ung-vien?page=210',\n",
       " 'https://www.alojob.com/ung-vien?page=211',\n",
       " 'https://www.alojob.com/ung-vien?page=212',\n",
       " 'https://www.alojob.com/ung-vien?page=213',\n",
       " 'https://www.alojob.com/ung-vien?page=214',\n",
       " 'https://www.alojob.com/ung-vien?page=215',\n",
       " 'https://www.alojob.com/ung-vien?page=216',\n",
       " 'https://www.alojob.com/ung-vien?page=217',\n",
       " 'https://www.alojob.com/ung-vien?page=218',\n",
       " 'https://www.alojob.com/ung-vien?page=219',\n",
       " 'https://www.alojob.com/ung-vien?page=220',\n",
       " 'https://www.alojob.com/ung-vien?page=221',\n",
       " 'https://www.alojob.com/ung-vien?page=222',\n",
       " 'https://www.alojob.com/ung-vien?page=223',\n",
       " 'https://www.alojob.com/ung-vien?page=224',\n",
       " 'https://www.alojob.com/ung-vien?page=225',\n",
       " 'https://www.alojob.com/ung-vien?page=226',\n",
       " 'https://www.alojob.com/ung-vien?page=227',\n",
       " 'https://www.alojob.com/ung-vien?page=228',\n",
       " 'https://www.alojob.com/ung-vien?page=229',\n",
       " 'https://www.alojob.com/ung-vien?page=230',\n",
       " 'https://www.alojob.com/ung-vien?page=231',\n",
       " 'https://www.alojob.com/ung-vien?page=232',\n",
       " 'https://www.alojob.com/ung-vien?page=233',\n",
       " 'https://www.alojob.com/ung-vien?page=234',\n",
       " 'https://www.alojob.com/ung-vien?page=235',\n",
       " 'https://www.alojob.com/ung-vien?page=236',\n",
       " 'https://www.alojob.com/ung-vien?page=237',\n",
       " 'https://www.alojob.com/ung-vien?page=238',\n",
       " 'https://www.alojob.com/ung-vien?page=239',\n",
       " 'https://www.alojob.com/ung-vien?page=240',\n",
       " 'https://www.alojob.com/ung-vien?page=241',\n",
       " 'https://www.alojob.com/ung-vien?page=242',\n",
       " 'https://www.alojob.com/ung-vien?page=243',\n",
       " 'https://www.alojob.com/ung-vien?page=244',\n",
       " 'https://www.alojob.com/ung-vien?page=245',\n",
       " 'https://www.alojob.com/ung-vien?page=246',\n",
       " 'https://www.alojob.com/ung-vien?page=247',\n",
       " 'https://www.alojob.com/ung-vien?page=248',\n",
       " 'https://www.alojob.com/ung-vien?page=249',\n",
       " 'https://www.alojob.com/ung-vien?page=250',\n",
       " 'https://www.alojob.com/ung-vien?page=251',\n",
       " 'https://www.alojob.com/ung-vien?page=252',\n",
       " 'https://www.alojob.com/ung-vien?page=253',\n",
       " 'https://www.alojob.com/ung-vien?page=254',\n",
       " 'https://www.alojob.com/ung-vien?page=255',\n",
       " 'https://www.alojob.com/ung-vien?page=256',\n",
       " 'https://www.alojob.com/ung-vien?page=257',\n",
       " 'https://www.alojob.com/ung-vien?page=258',\n",
       " 'https://www.alojob.com/ung-vien?page=259',\n",
       " 'https://www.alojob.com/ung-vien?page=260',\n",
       " 'https://www.alojob.com/ung-vien?page=261',\n",
       " 'https://www.alojob.com/ung-vien?page=262',\n",
       " 'https://www.alojob.com/ung-vien?page=263',\n",
       " 'https://www.alojob.com/ung-vien?page=264',\n",
       " 'https://www.alojob.com/ung-vien?page=265',\n",
       " 'https://www.alojob.com/ung-vien?page=266',\n",
       " 'https://www.alojob.com/ung-vien?page=267',\n",
       " 'https://www.alojob.com/ung-vien?page=268',\n",
       " 'https://www.alojob.com/ung-vien?page=269',\n",
       " 'https://www.alojob.com/ung-vien?page=270',\n",
       " 'https://www.alojob.com/ung-vien?page=271',\n",
       " 'https://www.alojob.com/ung-vien?page=272',\n",
       " 'https://www.alojob.com/ung-vien?page=273',\n",
       " 'https://www.alojob.com/ung-vien?page=274',\n",
       " 'https://www.alojob.com/ung-vien?page=275',\n",
       " 'https://www.alojob.com/ung-vien?page=276',\n",
       " 'https://www.alojob.com/ung-vien?page=277',\n",
       " 'https://www.alojob.com/ung-vien?page=278',\n",
       " 'https://www.alojob.com/ung-vien?page=279',\n",
       " 'https://www.alojob.com/ung-vien?page=280',\n",
       " 'https://www.alojob.com/ung-vien?page=281',\n",
       " 'https://www.alojob.com/ung-vien?page=282',\n",
       " 'https://www.alojob.com/ung-vien?page=283',\n",
       " 'https://www.alojob.com/ung-vien?page=284',\n",
       " 'https://www.alojob.com/ung-vien?page=285',\n",
       " 'https://www.alojob.com/ung-vien?page=286',\n",
       " 'https://www.alojob.com/ung-vien?page=287',\n",
       " 'https://www.alojob.com/ung-vien?page=288',\n",
       " 'https://www.alojob.com/ung-vien?page=289',\n",
       " 'https://www.alojob.com/ung-vien?page=290',\n",
       " 'https://www.alojob.com/ung-vien?page=291',\n",
       " 'https://www.alojob.com/ung-vien?page=292',\n",
       " 'https://www.alojob.com/ung-vien?page=293',\n",
       " 'https://www.alojob.com/ung-vien?page=294',\n",
       " 'https://www.alojob.com/ung-vien?page=295',\n",
       " 'https://www.alojob.com/ung-vien?page=296',\n",
       " 'https://www.alojob.com/ung-vien?page=297',\n",
       " 'https://www.alojob.com/ung-vien?page=298',\n",
       " 'https://www.alojob.com/ung-vien?page=299',\n",
       " 'https://www.alojob.com/ung-vien?page=300',\n",
       " 'https://www.alojob.com/ung-vien?page=301',\n",
       " 'https://www.alojob.com/ung-vien?page=302',\n",
       " 'https://www.alojob.com/ung-vien?page=303',\n",
       " 'https://www.alojob.com/ung-vien?page=304',\n",
       " 'https://www.alojob.com/ung-vien?page=305',\n",
       " 'https://www.alojob.com/ung-vien?page=306',\n",
       " 'https://www.alojob.com/ung-vien?page=307',\n",
       " 'https://www.alojob.com/ung-vien?page=308',\n",
       " 'https://www.alojob.com/ung-vien?page=309',\n",
       " 'https://www.alojob.com/ung-vien?page=310',\n",
       " 'https://www.alojob.com/ung-vien?page=311',\n",
       " 'https://www.alojob.com/ung-vien?page=312',\n",
       " 'https://www.alojob.com/ung-vien?page=313',\n",
       " 'https://www.alojob.com/ung-vien?page=314',\n",
       " 'https://www.alojob.com/ung-vien?page=315',\n",
       " 'https://www.alojob.com/ung-vien?page=316',\n",
       " 'https://www.alojob.com/ung-vien?page=317',\n",
       " 'https://www.alojob.com/ung-vien?page=318',\n",
       " 'https://www.alojob.com/ung-vien?page=319',\n",
       " 'https://www.alojob.com/ung-vien?page=320',\n",
       " 'https://www.alojob.com/ung-vien?page=321',\n",
       " 'https://www.alojob.com/ung-vien?page=322',\n",
       " 'https://www.alojob.com/ung-vien?page=323',\n",
       " 'https://www.alojob.com/ung-vien?page=324',\n",
       " 'https://www.alojob.com/ung-vien?page=325',\n",
       " 'https://www.alojob.com/ung-vien?page=326',\n",
       " 'https://www.alojob.com/ung-vien?page=327',\n",
       " 'https://www.alojob.com/ung-vien?page=328',\n",
       " 'https://www.alojob.com/ung-vien?page=329',\n",
       " 'https://www.alojob.com/ung-vien?page=330',\n",
       " 'https://www.alojob.com/ung-vien?page=331',\n",
       " 'https://www.alojob.com/ung-vien?page=332',\n",
       " 'https://www.alojob.com/ung-vien?page=333',\n",
       " 'https://www.alojob.com/ung-vien?page=334',\n",
       " 'https://www.alojob.com/ung-vien?page=335',\n",
       " 'https://www.alojob.com/ung-vien?page=336',\n",
       " 'https://www.alojob.com/ung-vien?page=337',\n",
       " 'https://www.alojob.com/ung-vien?page=338',\n",
       " 'https://www.alojob.com/ung-vien?page=339',\n",
       " 'https://www.alojob.com/ung-vien?page=340',\n",
       " 'https://www.alojob.com/ung-vien?page=341',\n",
       " 'https://www.alojob.com/ung-vien?page=342',\n",
       " 'https://www.alojob.com/ung-vien?page=343',\n",
       " 'https://www.alojob.com/ung-vien?page=344',\n",
       " 'https://www.alojob.com/ung-vien?page=345',\n",
       " 'https://www.alojob.com/ung-vien?page=346',\n",
       " 'https://www.alojob.com/ung-vien?page=347',\n",
       " 'https://www.alojob.com/ung-vien?page=348',\n",
       " 'https://www.alojob.com/ung-vien?page=349',\n",
       " 'https://www.alojob.com/ung-vien?page=350',\n",
       " 'https://www.alojob.com/ung-vien?page=351',\n",
       " 'https://www.alojob.com/ung-vien?page=352',\n",
       " 'https://www.alojob.com/ung-vien?page=353',\n",
       " 'https://www.alojob.com/ung-vien?page=354',\n",
       " 'https://www.alojob.com/ung-vien?page=355',\n",
       " 'https://www.alojob.com/ung-vien?page=356',\n",
       " 'https://www.alojob.com/ung-vien?page=357',\n",
       " 'https://www.alojob.com/ung-vien?page=358',\n",
       " 'https://www.alojob.com/ung-vien?page=359',\n",
       " 'https://www.alojob.com/ung-vien?page=360',\n",
       " 'https://www.alojob.com/ung-vien?page=361',\n",
       " 'https://www.alojob.com/ung-vien?page=362',\n",
       " 'https://www.alojob.com/ung-vien?page=363',\n",
       " 'https://www.alojob.com/ung-vien?page=364',\n",
       " 'https://www.alojob.com/ung-vien?page=365',\n",
       " 'https://www.alojob.com/ung-vien?page=366',\n",
       " 'https://www.alojob.com/ung-vien?page=367',\n",
       " 'https://www.alojob.com/ung-vien?page=368',\n",
       " 'https://www.alojob.com/ung-vien?page=369',\n",
       " 'https://www.alojob.com/ung-vien?page=370',\n",
       " 'https://www.alojob.com/ung-vien?page=371',\n",
       " 'https://www.alojob.com/ung-vien?page=372',\n",
       " 'https://www.alojob.com/ung-vien?page=373',\n",
       " 'https://www.alojob.com/ung-vien?page=374',\n",
       " 'https://www.alojob.com/ung-vien?page=375',\n",
       " 'https://www.alojob.com/ung-vien?page=376',\n",
       " 'https://www.alojob.com/ung-vien?page=377',\n",
       " 'https://www.alojob.com/ung-vien?page=378',\n",
       " 'https://www.alojob.com/ung-vien?page=379',\n",
       " 'https://www.alojob.com/ung-vien?page=380',\n",
       " 'https://www.alojob.com/ung-vien?page=381',\n",
       " 'https://www.alojob.com/ung-vien?page=382',\n",
       " 'https://www.alojob.com/ung-vien?page=383',\n",
       " 'https://www.alojob.com/ung-vien?page=384',\n",
       " 'https://www.alojob.com/ung-vien?page=385',\n",
       " 'https://www.alojob.com/ung-vien?page=386',\n",
       " 'https://www.alojob.com/ung-vien?page=387',\n",
       " 'https://www.alojob.com/ung-vien?page=388',\n",
       " 'https://www.alojob.com/ung-vien?page=389',\n",
       " 'https://www.alojob.com/ung-vien?page=390',\n",
       " 'https://www.alojob.com/ung-vien?page=391',\n",
       " 'https://www.alojob.com/ung-vien?page=392',\n",
       " 'https://www.alojob.com/ung-vien?page=393',\n",
       " 'https://www.alojob.com/ung-vien?page=394',\n",
       " 'https://www.alojob.com/ung-vien?page=395',\n",
       " 'https://www.alojob.com/ung-vien?page=396',\n",
       " 'https://www.alojob.com/ung-vien?page=397',\n",
       " 'https://www.alojob.com/ung-vien?page=398',\n",
       " 'https://www.alojob.com/ung-vien?page=399',\n",
       " 'https://www.alojob.com/ung-vien?page=400',\n",
       " 'https://www.alojob.com/ung-vien?page=401',\n",
       " 'https://www.alojob.com/ung-vien?page=402',\n",
       " 'https://www.alojob.com/ung-vien?page=403',\n",
       " 'https://www.alojob.com/ung-vien?page=404',\n",
       " 'https://www.alojob.com/ung-vien?page=405',\n",
       " 'https://www.alojob.com/ung-vien?page=406',\n",
       " 'https://www.alojob.com/ung-vien?page=407',\n",
       " 'https://www.alojob.com/ung-vien?page=408',\n",
       " 'https://www.alojob.com/ung-vien?page=409',\n",
       " 'https://www.alojob.com/ung-vien?page=410',\n",
       " 'https://www.alojob.com/ung-vien?page=411',\n",
       " 'https://www.alojob.com/ung-vien?page=412',\n",
       " 'https://www.alojob.com/ung-vien?page=413',\n",
       " 'https://www.alojob.com/ung-vien?page=414',\n",
       " 'https://www.alojob.com/ung-vien?page=415',\n",
       " 'https://www.alojob.com/ung-vien?page=416',\n",
       " 'https://www.alojob.com/ung-vien?page=417',\n",
       " 'https://www.alojob.com/ung-vien?page=418',\n",
       " 'https://www.alojob.com/ung-vien?page=419',\n",
       " 'https://www.alojob.com/ung-vien?page=420',\n",
       " 'https://www.alojob.com/ung-vien?page=421',\n",
       " 'https://www.alojob.com/ung-vien?page=422',\n",
       " 'https://www.alojob.com/ung-vien?page=423',\n",
       " 'https://www.alojob.com/ung-vien?page=424',\n",
       " 'https://www.alojob.com/ung-vien?page=425',\n",
       " 'https://www.alojob.com/ung-vien?page=426',\n",
       " 'https://www.alojob.com/ung-vien?page=427',\n",
       " 'https://www.alojob.com/ung-vien?page=428',\n",
       " 'https://www.alojob.com/ung-vien?page=429',\n",
       " 'https://www.alojob.com/ung-vien?page=430',\n",
       " 'https://www.alojob.com/ung-vien?page=431',\n",
       " 'https://www.alojob.com/ung-vien?page=432',\n",
       " 'https://www.alojob.com/ung-vien?page=433',\n",
       " 'https://www.alojob.com/ung-vien?page=434',\n",
       " 'https://www.alojob.com/ung-vien?page=435',\n",
       " 'https://www.alojob.com/ung-vien?page=436',\n",
       " 'https://www.alojob.com/ung-vien?page=437',\n",
       " 'https://www.alojob.com/ung-vien?page=438',\n",
       " 'https://www.alojob.com/ung-vien?page=439',\n",
       " 'https://www.alojob.com/ung-vien?page=440',\n",
       " 'https://www.alojob.com/ung-vien?page=441',\n",
       " 'https://www.alojob.com/ung-vien?page=442',\n",
       " 'https://www.alojob.com/ung-vien?page=443',\n",
       " 'https://www.alojob.com/ung-vien?page=444',\n",
       " 'https://www.alojob.com/ung-vien?page=445',\n",
       " 'https://www.alojob.com/ung-vien?page=446',\n",
       " 'https://www.alojob.com/ung-vien?page=447',\n",
       " 'https://www.alojob.com/ung-vien?page=448',\n",
       " 'https://www.alojob.com/ung-vien?page=449',\n",
       " 'https://www.alojob.com/ung-vien?page=450',\n",
       " 'https://www.alojob.com/ung-vien?page=451',\n",
       " 'https://www.alojob.com/ung-vien?page=452',\n",
       " 'https://www.alojob.com/ung-vien?page=453',\n",
       " 'https://www.alojob.com/ung-vien?page=454',\n",
       " 'https://www.alojob.com/ung-vien?page=455',\n",
       " 'https://www.alojob.com/ung-vien?page=456',\n",
       " 'https://www.alojob.com/ung-vien?page=457',\n",
       " 'https://www.alojob.com/ung-vien?page=458',\n",
       " 'https://www.alojob.com/ung-vien?page=459',\n",
       " 'https://www.alojob.com/ung-vien?page=460',\n",
       " 'https://www.alojob.com/ung-vien?page=461',\n",
       " 'https://www.alojob.com/ung-vien?page=462',\n",
       " 'https://www.alojob.com/ung-vien?page=463',\n",
       " 'https://www.alojob.com/ung-vien?page=464',\n",
       " 'https://www.alojob.com/ung-vien?page=465',\n",
       " 'https://www.alojob.com/ung-vien?page=466',\n",
       " 'https://www.alojob.com/ung-vien?page=467',\n",
       " 'https://www.alojob.com/ung-vien?page=468',\n",
       " 'https://www.alojob.com/ung-vien?page=469',\n",
       " 'https://www.alojob.com/ung-vien?page=470',\n",
       " 'https://www.alojob.com/ung-vien?page=471',\n",
       " 'https://www.alojob.com/ung-vien?page=472',\n",
       " 'https://www.alojob.com/ung-vien?page=473',\n",
       " 'https://www.alojob.com/ung-vien?page=474',\n",
       " 'https://www.alojob.com/ung-vien?page=475',\n",
       " 'https://www.alojob.com/ung-vien?page=476',\n",
       " 'https://www.alojob.com/ung-vien?page=477',\n",
       " 'https://www.alojob.com/ung-vien?page=478',\n",
       " 'https://www.alojob.com/ung-vien?page=479',\n",
       " 'https://www.alojob.com/ung-vien?page=480',\n",
       " 'https://www.alojob.com/ung-vien?page=481',\n",
       " 'https://www.alojob.com/ung-vien?page=482',\n",
       " 'https://www.alojob.com/ung-vien?page=483',\n",
       " 'https://www.alojob.com/ung-vien?page=484',\n",
       " 'https://www.alojob.com/ung-vien?page=485',\n",
       " 'https://www.alojob.com/ung-vien?page=486',\n",
       " 'https://www.alojob.com/ung-vien?page=487',\n",
       " 'https://www.alojob.com/ung-vien?page=488',\n",
       " 'https://www.alojob.com/ung-vien?page=489',\n",
       " 'https://www.alojob.com/ung-vien?page=490',\n",
       " 'https://www.alojob.com/ung-vien?page=491',\n",
       " 'https://www.alojob.com/ung-vien?page=492',\n",
       " 'https://www.alojob.com/ung-vien?page=493',\n",
       " 'https://www.alojob.com/ung-vien?page=494',\n",
       " 'https://www.alojob.com/ung-vien?page=495',\n",
       " 'https://www.alojob.com/ung-vien?page=496',\n",
       " 'https://www.alojob.com/ung-vien?page=497',\n",
       " 'https://www.alojob.com/ung-vien?page=498',\n",
       " 'https://www.alojob.com/ung-vien?page=499',\n",
       " 'https://www.alojob.com/ung-vien?page=500',\n",
       " 'https://www.alojob.com/ung-vien?page=501',\n",
       " 'https://www.alojob.com/ung-vien?page=502',\n",
       " 'https://www.alojob.com/ung-vien?page=503',\n",
       " 'https://www.alojob.com/ung-vien?page=504',\n",
       " 'https://www.alojob.com/ung-vien?page=505',\n",
       " 'https://www.alojob.com/ung-vien?page=506',\n",
       " 'https://www.alojob.com/ung-vien?page=507',\n",
       " 'https://www.alojob.com/ung-vien?page=508',\n",
       " 'https://www.alojob.com/ung-vien?page=509',\n",
       " 'https://www.alojob.com/ung-vien?page=510',\n",
       " 'https://www.alojob.com/ung-vien?page=511',\n",
       " 'https://www.alojob.com/ung-vien?page=512',\n",
       " 'https://www.alojob.com/ung-vien?page=513',\n",
       " 'https://www.alojob.com/ung-vien?page=514',\n",
       " 'https://www.alojob.com/ung-vien?page=515',\n",
       " 'https://www.alojob.com/ung-vien?page=516',\n",
       " 'https://www.alojob.com/ung-vien?page=517',\n",
       " 'https://www.alojob.com/ung-vien?page=518',\n",
       " 'https://www.alojob.com/ung-vien?page=519',\n",
       " 'https://www.alojob.com/ung-vien?page=520',\n",
       " 'https://www.alojob.com/ung-vien?page=521',\n",
       " 'https://www.alojob.com/ung-vien?page=522',\n",
       " 'https://www.alojob.com/ung-vien?page=523',\n",
       " 'https://www.alojob.com/ung-vien?page=524',\n",
       " 'https://www.alojob.com/ung-vien?page=525',\n",
       " 'https://www.alojob.com/ung-vien?page=526',\n",
       " 'https://www.alojob.com/ung-vien?page=527',\n",
       " 'https://www.alojob.com/ung-vien?page=528',\n",
       " 'https://www.alojob.com/ung-vien?page=529',\n",
       " 'https://www.alojob.com/ung-vien?page=530',\n",
       " 'https://www.alojob.com/ung-vien?page=531',\n",
       " 'https://www.alojob.com/ung-vien?page=532',\n",
       " 'https://www.alojob.com/ung-vien?page=533',\n",
       " 'https://www.alojob.com/ung-vien?page=534',\n",
       " 'https://www.alojob.com/ung-vien?page=535',\n",
       " 'https://www.alojob.com/ung-vien?page=536',\n",
       " 'https://www.alojob.com/ung-vien?page=537',\n",
       " 'https://www.alojob.com/ung-vien?page=538',\n",
       " 'https://www.alojob.com/ung-vien?page=539',\n",
       " 'https://www.alojob.com/ung-vien?page=540',\n",
       " 'https://www.alojob.com/ung-vien?page=541',\n",
       " 'https://www.alojob.com/ung-vien?page=542',\n",
       " 'https://www.alojob.com/ung-vien?page=543',\n",
       " 'https://www.alojob.com/ung-vien?page=544',\n",
       " 'https://www.alojob.com/ung-vien?page=545',\n",
       " 'https://www.alojob.com/ung-vien?page=546',\n",
       " 'https://www.alojob.com/ung-vien?page=547',\n",
       " 'https://www.alojob.com/ung-vien?page=548',\n",
       " 'https://www.alojob.com/ung-vien?page=549',\n",
       " 'https://www.alojob.com/ung-vien?page=550',\n",
       " 'https://www.alojob.com/ung-vien?page=551',\n",
       " 'https://www.alojob.com/ung-vien?page=552',\n",
       " 'https://www.alojob.com/ung-vien?page=553',\n",
       " 'https://www.alojob.com/ung-vien?page=554',\n",
       " 'https://www.alojob.com/ung-vien?page=555',\n",
       " 'https://www.alojob.com/ung-vien?page=556',\n",
       " 'https://www.alojob.com/ung-vien?page=557',\n",
       " 'https://www.alojob.com/ung-vien?page=558',\n",
       " 'https://www.alojob.com/ung-vien?page=559',\n",
       " 'https://www.alojob.com/ung-vien?page=560',\n",
       " 'https://www.alojob.com/ung-vien?page=561',\n",
       " 'https://www.alojob.com/ung-vien?page=562',\n",
       " 'https://www.alojob.com/ung-vien?page=563',\n",
       " 'https://www.alojob.com/ung-vien?page=564',\n",
       " 'https://www.alojob.com/ung-vien?page=565',\n",
       " 'https://www.alojob.com/ung-vien?page=566',\n",
       " 'https://www.alojob.com/ung-vien?page=567',\n",
       " 'https://www.alojob.com/ung-vien?page=568',\n",
       " 'https://www.alojob.com/ung-vien?page=569',\n",
       " 'https://www.alojob.com/ung-vien?page=570',\n",
       " 'https://www.alojob.com/ung-vien?page=571',\n",
       " 'https://www.alojob.com/ung-vien?page=572',\n",
       " 'https://www.alojob.com/ung-vien?page=573',\n",
       " 'https://www.alojob.com/ung-vien?page=574',\n",
       " 'https://www.alojob.com/ung-vien?page=575',\n",
       " 'https://www.alojob.com/ung-vien?page=576',\n",
       " 'https://www.alojob.com/ung-vien?page=577',\n",
       " 'https://www.alojob.com/ung-vien?page=578',\n",
       " 'https://www.alojob.com/ung-vien?page=579',\n",
       " 'https://www.alojob.com/ung-vien?page=580',\n",
       " 'https://www.alojob.com/ung-vien?page=581',\n",
       " 'https://www.alojob.com/ung-vien?page=582',\n",
       " 'https://www.alojob.com/ung-vien?page=583',\n",
       " 'https://www.alojob.com/ung-vien?page=584',\n",
       " 'https://www.alojob.com/ung-vien?page=585',\n",
       " 'https://www.alojob.com/ung-vien?page=586',\n",
       " 'https://www.alojob.com/ung-vien?page=587',\n",
       " 'https://www.alojob.com/ung-vien?page=588',\n",
       " 'https://www.alojob.com/ung-vien?page=589',\n",
       " 'https://www.alojob.com/ung-vien?page=590',\n",
       " 'https://www.alojob.com/ung-vien?page=591',\n",
       " 'https://www.alojob.com/ung-vien?page=592',\n",
       " 'https://www.alojob.com/ung-vien?page=593',\n",
       " 'https://www.alojob.com/ung-vien?page=594',\n",
       " 'https://www.alojob.com/ung-vien?page=595',\n",
       " 'https://www.alojob.com/ung-vien?page=596',\n",
       " 'https://www.alojob.com/ung-vien?page=597',\n",
       " 'https://www.alojob.com/ung-vien?page=598',\n",
       " 'https://www.alojob.com/ung-vien?page=599',\n",
       " 'https://www.alojob.com/ung-vien?page=600',\n",
       " 'https://www.alojob.com/ung-vien?page=601',\n",
       " 'https://www.alojob.com/ung-vien?page=602',\n",
       " 'https://www.alojob.com/ung-vien?page=603',\n",
       " 'https://www.alojob.com/ung-vien?page=604',\n",
       " 'https://www.alojob.com/ung-vien?page=605',\n",
       " 'https://www.alojob.com/ung-vien?page=606',\n",
       " 'https://www.alojob.com/ung-vien?page=607',\n",
       " 'https://www.alojob.com/ung-vien?page=608',\n",
       " 'https://www.alojob.com/ung-vien?page=609',\n",
       " 'https://www.alojob.com/ung-vien?page=610',\n",
       " 'https://www.alojob.com/ung-vien?page=611',\n",
       " 'https://www.alojob.com/ung-vien?page=612',\n",
       " 'https://www.alojob.com/ung-vien?page=613',\n",
       " 'https://www.alojob.com/ung-vien?page=614',\n",
       " 'https://www.alojob.com/ung-vien?page=615',\n",
       " 'https://www.alojob.com/ung-vien?page=616',\n",
       " 'https://www.alojob.com/ung-vien?page=617',\n",
       " 'https://www.alojob.com/ung-vien?page=618',\n",
       " 'https://www.alojob.com/ung-vien?page=619',\n",
       " 'https://www.alojob.com/ung-vien?page=620',\n",
       " 'https://www.alojob.com/ung-vien?page=621',\n",
       " 'https://www.alojob.com/ung-vien?page=622',\n",
       " 'https://www.alojob.com/ung-vien?page=623',\n",
       " 'https://www.alojob.com/ung-vien?page=624',\n",
       " 'https://www.alojob.com/ung-vien?page=625',\n",
       " 'https://www.alojob.com/ung-vien?page=626',\n",
       " 'https://www.alojob.com/ung-vien?page=627',\n",
       " 'https://www.alojob.com/ung-vien?page=628',\n",
       " 'https://www.alojob.com/ung-vien?page=629',\n",
       " 'https://www.alojob.com/ung-vien?page=630',\n",
       " 'https://www.alojob.com/ung-vien?page=631',\n",
       " 'https://www.alojob.com/ung-vien?page=632',\n",
       " 'https://www.alojob.com/ung-vien?page=633',\n",
       " 'https://www.alojob.com/ung-vien?page=634',\n",
       " 'https://www.alojob.com/ung-vien?page=635',\n",
       " 'https://www.alojob.com/ung-vien?page=636',\n",
       " 'https://www.alojob.com/ung-vien?page=637',\n",
       " 'https://www.alojob.com/ung-vien?page=638',\n",
       " 'https://www.alojob.com/ung-vien?page=639',\n",
       " 'https://www.alojob.com/ung-vien?page=640',\n",
       " 'https://www.alojob.com/ung-vien?page=641',\n",
       " 'https://www.alojob.com/ung-vien?page=642',\n",
       " 'https://www.alojob.com/ung-vien?page=643',\n",
       " 'https://www.alojob.com/ung-vien?page=644',\n",
       " 'https://www.alojob.com/ung-vien?page=645',\n",
       " 'https://www.alojob.com/ung-vien?page=646',\n",
       " 'https://www.alojob.com/ung-vien?page=647',\n",
       " 'https://www.alojob.com/ung-vien?page=648',\n",
       " 'https://www.alojob.com/ung-vien?page=649',\n",
       " 'https://www.alojob.com/ung-vien?page=650',\n",
       " 'https://www.alojob.com/ung-vien?page=651',\n",
       " 'https://www.alojob.com/ung-vien?page=652',\n",
       " 'https://www.alojob.com/ung-vien?page=653',\n",
       " 'https://www.alojob.com/ung-vien?page=654',\n",
       " 'https://www.alojob.com/ung-vien?page=655',\n",
       " 'https://www.alojob.com/ung-vien?page=656',\n",
       " 'https://www.alojob.com/ung-vien?page=657',\n",
       " 'https://www.alojob.com/ung-vien?page=658',\n",
       " 'https://www.alojob.com/ung-vien?page=659',\n",
       " 'https://www.alojob.com/ung-vien?page=660',\n",
       " 'https://www.alojob.com/ung-vien?page=661',\n",
       " 'https://www.alojob.com/ung-vien?page=662',\n",
       " 'https://www.alojob.com/ung-vien?page=663',\n",
       " 'https://www.alojob.com/ung-vien?page=664',\n",
       " 'https://www.alojob.com/ung-vien?page=665',\n",
       " 'https://www.alojob.com/ung-vien?page=666',\n",
       " 'https://www.alojob.com/ung-vien?page=667',\n",
       " 'https://www.alojob.com/ung-vien?page=668',\n",
       " 'https://www.alojob.com/ung-vien?page=669',\n",
       " 'https://www.alojob.com/ung-vien?page=670',\n",
       " 'https://www.alojob.com/ung-vien?page=671',\n",
       " 'https://www.alojob.com/ung-vien?page=672',\n",
       " 'https://www.alojob.com/ung-vien?page=673',\n",
       " 'https://www.alojob.com/ung-vien?page=674',\n",
       " 'https://www.alojob.com/ung-vien?page=675',\n",
       " 'https://www.alojob.com/ung-vien?page=676',\n",
       " 'https://www.alojob.com/ung-vien?page=677',\n",
       " 'https://www.alojob.com/ung-vien?page=678',\n",
       " 'https://www.alojob.com/ung-vien?page=679',\n",
       " 'https://www.alojob.com/ung-vien?page=680',\n",
       " 'https://www.alojob.com/ung-vien?page=681',\n",
       " 'https://www.alojob.com/ung-vien?page=682',\n",
       " 'https://www.alojob.com/ung-vien?page=683',\n",
       " 'https://www.alojob.com/ung-vien?page=684',\n",
       " 'https://www.alojob.com/ung-vien?page=685',\n",
       " 'https://www.alojob.com/ung-vien?page=686',\n",
       " 'https://www.alojob.com/ung-vien?page=687',\n",
       " 'https://www.alojob.com/ung-vien?page=688',\n",
       " 'https://www.alojob.com/ung-vien?page=689',\n",
       " 'https://www.alojob.com/ung-vien?page=690',\n",
       " 'https://www.alojob.com/ung-vien?page=691',\n",
       " 'https://www.alojob.com/ung-vien?page=692',\n",
       " 'https://www.alojob.com/ung-vien?page=693',\n",
       " 'https://www.alojob.com/ung-vien?page=694',\n",
       " 'https://www.alojob.com/ung-vien?page=695',\n",
       " 'https://www.alojob.com/ung-vien?page=696',\n",
       " 'https://www.alojob.com/ung-vien?page=697',\n",
       " 'https://www.alojob.com/ung-vien?page=698',\n",
       " 'https://www.alojob.com/ung-vien?page=699',\n",
       " 'https://www.alojob.com/ung-vien?page=700',\n",
       " 'https://www.alojob.com/ung-vien?page=701',\n",
       " 'https://www.alojob.com/ung-vien?page=702',\n",
       " 'https://www.alojob.com/ung-vien?page=703',\n",
       " 'https://www.alojob.com/ung-vien?page=704',\n",
       " 'https://www.alojob.com/ung-vien?page=705',\n",
       " 'https://www.alojob.com/ung-vien?page=706',\n",
       " 'https://www.alojob.com/ung-vien?page=707',\n",
       " 'https://www.alojob.com/ung-vien?page=708',\n",
       " 'https://www.alojob.com/ung-vien?page=709',\n",
       " 'https://www.alojob.com/ung-vien?page=710',\n",
       " 'https://www.alojob.com/ung-vien?page=711',\n",
       " 'https://www.alojob.com/ung-vien?page=712',\n",
       " 'https://www.alojob.com/ung-vien?page=713',\n",
       " 'https://www.alojob.com/ung-vien?page=714',\n",
       " 'https://www.alojob.com/ung-vien?page=715',\n",
       " 'https://www.alojob.com/ung-vien?page=716',\n",
       " 'https://www.alojob.com/ung-vien?page=717',\n",
       " 'https://www.alojob.com/ung-vien?page=718',\n",
       " 'https://www.alojob.com/ung-vien?page=719',\n",
       " 'https://www.alojob.com/ung-vien?page=720',\n",
       " 'https://www.alojob.com/ung-vien?page=721',\n",
       " 'https://www.alojob.com/ung-vien?page=722',\n",
       " 'https://www.alojob.com/ung-vien?page=723',\n",
       " 'https://www.alojob.com/ung-vien?page=724',\n",
       " 'https://www.alojob.com/ung-vien?page=725',\n",
       " 'https://www.alojob.com/ung-vien?page=726',\n",
       " 'https://www.alojob.com/ung-vien?page=727',\n",
       " 'https://www.alojob.com/ung-vien?page=728',\n",
       " 'https://www.alojob.com/ung-vien?page=729',\n",
       " 'https://www.alojob.com/ung-vien?page=730',\n",
       " 'https://www.alojob.com/ung-vien?page=731',\n",
       " 'https://www.alojob.com/ung-vien?page=732',\n",
       " 'https://www.alojob.com/ung-vien?page=733',\n",
       " 'https://www.alojob.com/ung-vien?page=734',\n",
       " 'https://www.alojob.com/ung-vien?page=735',\n",
       " 'https://www.alojob.com/ung-vien?page=736',\n",
       " 'https://www.alojob.com/ung-vien?page=737',\n",
       " 'https://www.alojob.com/ung-vien?page=738',\n",
       " 'https://www.alojob.com/ung-vien?page=739',\n",
       " 'https://www.alojob.com/ung-vien?page=740',\n",
       " 'https://www.alojob.com/ung-vien?page=741',\n",
       " 'https://www.alojob.com/ung-vien?page=742',\n",
       " 'https://www.alojob.com/ung-vien?page=743',\n",
       " 'https://www.alojob.com/ung-vien?page=744',\n",
       " 'https://www.alojob.com/ung-vien?page=745',\n",
       " 'https://www.alojob.com/ung-vien?page=746',\n",
       " 'https://www.alojob.com/ung-vien?page=747',\n",
       " 'https://www.alojob.com/ung-vien?page=748',\n",
       " 'https://www.alojob.com/ung-vien?page=749',\n",
       " 'https://www.alojob.com/ung-vien?page=750',\n",
       " 'https://www.alojob.com/ung-vien?page=751',\n",
       " 'https://www.alojob.com/ung-vien?page=752',\n",
       " 'https://www.alojob.com/ung-vien?page=753',\n",
       " 'https://www.alojob.com/ung-vien?page=754',\n",
       " 'https://www.alojob.com/ung-vien?page=755',\n",
       " 'https://www.alojob.com/ung-vien?page=756',\n",
       " 'https://www.alojob.com/ung-vien?page=757',\n",
       " 'https://www.alojob.com/ung-vien?page=758',\n",
       " 'https://www.alojob.com/ung-vien?page=759',\n",
       " 'https://www.alojob.com/ung-vien?page=760',\n",
       " 'https://www.alojob.com/ung-vien?page=761',\n",
       " 'https://www.alojob.com/ung-vien?page=762',\n",
       " 'https://www.alojob.com/ung-vien?page=763',\n",
       " 'https://www.alojob.com/ung-vien?page=764',\n",
       " 'https://www.alojob.com/ung-vien?page=765',\n",
       " 'https://www.alojob.com/ung-vien?page=766',\n",
       " 'https://www.alojob.com/ung-vien?page=767',\n",
       " 'https://www.alojob.com/ung-vien?page=768',\n",
       " 'https://www.alojob.com/ung-vien?page=769',\n",
       " 'https://www.alojob.com/ung-vien?page=770',\n",
       " 'https://www.alojob.com/ung-vien?page=771',\n",
       " 'https://www.alojob.com/ung-vien?page=772',\n",
       " 'https://www.alojob.com/ung-vien?page=773',\n",
       " 'https://www.alojob.com/ung-vien?page=774',\n",
       " 'https://www.alojob.com/ung-vien?page=775',\n",
       " 'https://www.alojob.com/ung-vien?page=776',\n",
       " 'https://www.alojob.com/ung-vien?page=777',\n",
       " 'https://www.alojob.com/ung-vien?page=778',\n",
       " 'https://www.alojob.com/ung-vien?page=779',\n",
       " 'https://www.alojob.com/ung-vien?page=780',\n",
       " 'https://www.alojob.com/ung-vien?page=781',\n",
       " 'https://www.alojob.com/ung-vien?page=782',\n",
       " 'https://www.alojob.com/ung-vien?page=783',\n",
       " 'https://www.alojob.com/ung-vien?page=784',\n",
       " 'https://www.alojob.com/ung-vien?page=785',\n",
       " 'https://www.alojob.com/ung-vien?page=786',\n",
       " 'https://www.alojob.com/ung-vien?page=787',\n",
       " 'https://www.alojob.com/ung-vien?page=788',\n",
       " 'https://www.alojob.com/ung-vien?page=789',\n",
       " 'https://www.alojob.com/ung-vien?page=790',\n",
       " 'https://www.alojob.com/ung-vien?page=791',\n",
       " 'https://www.alojob.com/ung-vien?page=792',\n",
       " 'https://www.alojob.com/ung-vien?page=793',\n",
       " 'https://www.alojob.com/ung-vien?page=794',\n",
       " 'https://www.alojob.com/ung-vien?page=795',\n",
       " 'https://www.alojob.com/ung-vien?page=796',\n",
       " 'https://www.alojob.com/ung-vien?page=797',\n",
       " 'https://www.alojob.com/ung-vien?page=798',\n",
       " 'https://www.alojob.com/ung-vien?page=799',\n",
       " 'https://www.alojob.com/ung-vien?page=800',\n",
       " 'https://www.alojob.com/ung-vien?page=801',\n",
       " 'https://www.alojob.com/ung-vien?page=802',\n",
       " 'https://www.alojob.com/ung-vien?page=803',\n",
       " 'https://www.alojob.com/ung-vien?page=804',\n",
       " 'https://www.alojob.com/ung-vien?page=805',\n",
       " 'https://www.alojob.com/ung-vien?page=806',\n",
       " 'https://www.alojob.com/ung-vien?page=807',\n",
       " 'https://www.alojob.com/ung-vien?page=808',\n",
       " 'https://www.alojob.com/ung-vien?page=809',\n",
       " 'https://www.alojob.com/ung-vien?page=810',\n",
       " 'https://www.alojob.com/ung-vien?page=811',\n",
       " 'https://www.alojob.com/ung-vien?page=812',\n",
       " 'https://www.alojob.com/ung-vien?page=813',\n",
       " 'https://www.alojob.com/ung-vien?page=814',\n",
       " 'https://www.alojob.com/ung-vien?page=815',\n",
       " 'https://www.alojob.com/ung-vien?page=816',\n",
       " 'https://www.alojob.com/ung-vien?page=817',\n",
       " 'https://www.alojob.com/ung-vien?page=818',\n",
       " 'https://www.alojob.com/ung-vien?page=819',\n",
       " 'https://www.alojob.com/ung-vien?page=820',\n",
       " 'https://www.alojob.com/ung-vien?page=821',\n",
       " 'https://www.alojob.com/ung-vien?page=822',\n",
       " 'https://www.alojob.com/ung-vien?page=823',\n",
       " 'https://www.alojob.com/ung-vien?page=824',\n",
       " 'https://www.alojob.com/ung-vien?page=825',\n",
       " 'https://www.alojob.com/ung-vien?page=826',\n",
       " 'https://www.alojob.com/ung-vien?page=827',\n",
       " 'https://www.alojob.com/ung-vien?page=828',\n",
       " 'https://www.alojob.com/ung-vien?page=829',\n",
       " 'https://www.alojob.com/ung-vien?page=830',\n",
       " 'https://www.alojob.com/ung-vien?page=831',\n",
       " 'https://www.alojob.com/ung-vien?page=832',\n",
       " 'https://www.alojob.com/ung-vien?page=833',\n",
       " 'https://www.alojob.com/ung-vien?page=834',\n",
       " 'https://www.alojob.com/ung-vien?page=835',\n",
       " 'https://www.alojob.com/ung-vien?page=836',\n",
       " 'https://www.alojob.com/ung-vien?page=837',\n",
       " 'https://www.alojob.com/ung-vien?page=838',\n",
       " 'https://www.alojob.com/ung-vien?page=839',\n",
       " 'https://www.alojob.com/ung-vien?page=840',\n",
       " 'https://www.alojob.com/ung-vien?page=841',\n",
       " 'https://www.alojob.com/ung-vien?page=842',\n",
       " 'https://www.alojob.com/ung-vien?page=843',\n",
       " 'https://www.alojob.com/ung-vien?page=844',\n",
       " 'https://www.alojob.com/ung-vien?page=845',\n",
       " 'https://www.alojob.com/ung-vien?page=846',\n",
       " 'https://www.alojob.com/ung-vien?page=847',\n",
       " 'https://www.alojob.com/ung-vien?page=848',\n",
       " 'https://www.alojob.com/ung-vien?page=849',\n",
       " 'https://www.alojob.com/ung-vien?page=850',\n",
       " 'https://www.alojob.com/ung-vien?page=851',\n",
       " 'https://www.alojob.com/ung-vien?page=852',\n",
       " 'https://www.alojob.com/ung-vien?page=853',\n",
       " 'https://www.alojob.com/ung-vien?page=854',\n",
       " 'https://www.alojob.com/ung-vien?page=855',\n",
       " 'https://www.alojob.com/ung-vien?page=856',\n",
       " 'https://www.alojob.com/ung-vien?page=857',\n",
       " 'https://www.alojob.com/ung-vien?page=858',\n",
       " 'https://www.alojob.com/ung-vien?page=859',\n",
       " 'https://www.alojob.com/ung-vien?page=860',\n",
       " 'https://www.alojob.com/ung-vien?page=861',\n",
       " 'https://www.alojob.com/ung-vien?page=862',\n",
       " 'https://www.alojob.com/ung-vien?page=863',\n",
       " 'https://www.alojob.com/ung-vien?page=864',\n",
       " 'https://www.alojob.com/ung-vien?page=865',\n",
       " 'https://www.alojob.com/ung-vien?page=866',\n",
       " 'https://www.alojob.com/ung-vien?page=867',\n",
       " 'https://www.alojob.com/ung-vien?page=868',\n",
       " 'https://www.alojob.com/ung-vien?page=869',\n",
       " 'https://www.alojob.com/ung-vien?page=870',\n",
       " 'https://www.alojob.com/ung-vien?page=871',\n",
       " 'https://www.alojob.com/ung-vien?page=872',\n",
       " 'https://www.alojob.com/ung-vien?page=873',\n",
       " 'https://www.alojob.com/ung-vien?page=874',\n",
       " 'https://www.alojob.com/ung-vien?page=875',\n",
       " 'https://www.alojob.com/ung-vien?page=876',\n",
       " 'https://www.alojob.com/ung-vien?page=877',\n",
       " 'https://www.alojob.com/ung-vien?page=878',\n",
       " 'https://www.alojob.com/ung-vien?page=879',\n",
       " 'https://www.alojob.com/ung-vien?page=880',\n",
       " 'https://www.alojob.com/ung-vien?page=881',\n",
       " 'https://www.alojob.com/ung-vien?page=882',\n",
       " 'https://www.alojob.com/ung-vien?page=883',\n",
       " 'https://www.alojob.com/ung-vien?page=884',\n",
       " 'https://www.alojob.com/ung-vien?page=885',\n",
       " 'https://www.alojob.com/ung-vien?page=886',\n",
       " 'https://www.alojob.com/ung-vien?page=887',\n",
       " 'https://www.alojob.com/ung-vien?page=888',\n",
       " 'https://www.alojob.com/ung-vien?page=889',\n",
       " 'https://www.alojob.com/ung-vien?page=890',\n",
       " 'https://www.alojob.com/ung-vien?page=891',\n",
       " 'https://www.alojob.com/ung-vien?page=892',\n",
       " 'https://www.alojob.com/ung-vien?page=893',\n",
       " 'https://www.alojob.com/ung-vien?page=894',\n",
       " 'https://www.alojob.com/ung-vien?page=895',\n",
       " 'https://www.alojob.com/ung-vien?page=896',\n",
       " 'https://www.alojob.com/ung-vien?page=897',\n",
       " 'https://www.alojob.com/ung-vien?page=898',\n",
       " 'https://www.alojob.com/ung-vien?page=899',\n",
       " 'https://www.alojob.com/ung-vien?page=900',\n",
       " 'https://www.alojob.com/ung-vien?page=901',\n",
       " 'https://www.alojob.com/ung-vien?page=902',\n",
       " 'https://www.alojob.com/ung-vien?page=903',\n",
       " 'https://www.alojob.com/ung-vien?page=904',\n",
       " 'https://www.alojob.com/ung-vien?page=905',\n",
       " 'https://www.alojob.com/ung-vien?page=906',\n",
       " 'https://www.alojob.com/ung-vien?page=907',\n",
       " 'https://www.alojob.com/ung-vien?page=908',\n",
       " 'https://www.alojob.com/ung-vien?page=909',\n",
       " 'https://www.alojob.com/ung-vien?page=910',\n",
       " 'https://www.alojob.com/ung-vien?page=911',\n",
       " 'https://www.alojob.com/ung-vien?page=912',\n",
       " 'https://www.alojob.com/ung-vien?page=913',\n",
       " 'https://www.alojob.com/ung-vien?page=914',\n",
       " 'https://www.alojob.com/ung-vien?page=915',\n",
       " 'https://www.alojob.com/ung-vien?page=916',\n",
       " 'https://www.alojob.com/ung-vien?page=917',\n",
       " 'https://www.alojob.com/ung-vien?page=918',\n",
       " 'https://www.alojob.com/ung-vien?page=919',\n",
       " 'https://www.alojob.com/ung-vien?page=920',\n",
       " 'https://www.alojob.com/ung-vien?page=921',\n",
       " 'https://www.alojob.com/ung-vien?page=922',\n",
       " 'https://www.alojob.com/ung-vien?page=923',\n",
       " 'https://www.alojob.com/ung-vien?page=924',\n",
       " 'https://www.alojob.com/ung-vien?page=925',\n",
       " 'https://www.alojob.com/ung-vien?page=926',\n",
       " 'https://www.alojob.com/ung-vien?page=927',\n",
       " 'https://www.alojob.com/ung-vien?page=928',\n",
       " 'https://www.alojob.com/ung-vien?page=929',\n",
       " 'https://www.alojob.com/ung-vien?page=930',\n",
       " 'https://www.alojob.com/ung-vien?page=931',\n",
       " 'https://www.alojob.com/ung-vien?page=932',\n",
       " 'https://www.alojob.com/ung-vien?page=933',\n",
       " 'https://www.alojob.com/ung-vien?page=934',\n",
       " 'https://www.alojob.com/ung-vien?page=935',\n",
       " 'https://www.alojob.com/ung-vien?page=936',\n",
       " 'https://www.alojob.com/ung-vien?page=937',\n",
       " 'https://www.alojob.com/ung-vien?page=938',\n",
       " 'https://www.alojob.com/ung-vien?page=939',\n",
       " 'https://www.alojob.com/ung-vien?page=940',\n",
       " 'https://www.alojob.com/ung-vien?page=941',\n",
       " 'https://www.alojob.com/ung-vien?page=942',\n",
       " 'https://www.alojob.com/ung-vien?page=943',\n",
       " 'https://www.alojob.com/ung-vien?page=944',\n",
       " 'https://www.alojob.com/ung-vien?page=945',\n",
       " 'https://www.alojob.com/ung-vien?page=946',\n",
       " 'https://www.alojob.com/ung-vien?page=947',\n",
       " 'https://www.alojob.com/ung-vien?page=948',\n",
       " 'https://www.alojob.com/ung-vien?page=949',\n",
       " 'https://www.alojob.com/ung-vien?page=950',\n",
       " 'https://www.alojob.com/ung-vien?page=951',\n",
       " 'https://www.alojob.com/ung-vien?page=952',\n",
       " 'https://www.alojob.com/ung-vien?page=953',\n",
       " 'https://www.alojob.com/ung-vien?page=954',\n",
       " 'https://www.alojob.com/ung-vien?page=955',\n",
       " 'https://www.alojob.com/ung-vien?page=956',\n",
       " 'https://www.alojob.com/ung-vien?page=957',\n",
       " 'https://www.alojob.com/ung-vien?page=958',\n",
       " 'https://www.alojob.com/ung-vien?page=959',\n",
       " 'https://www.alojob.com/ung-vien?page=960',\n",
       " 'https://www.alojob.com/ung-vien?page=961',\n",
       " 'https://www.alojob.com/ung-vien?page=962',\n",
       " 'https://www.alojob.com/ung-vien?page=963',\n",
       " 'https://www.alojob.com/ung-vien?page=964',\n",
       " 'https://www.alojob.com/ung-vien?page=965',\n",
       " 'https://www.alojob.com/ung-vien?page=966',\n",
       " 'https://www.alojob.com/ung-vien?page=967',\n",
       " 'https://www.alojob.com/ung-vien?page=968',\n",
       " 'https://www.alojob.com/ung-vien?page=969',\n",
       " 'https://www.alojob.com/ung-vien?page=970',\n",
       " 'https://www.alojob.com/ung-vien?page=971',\n",
       " 'https://www.alojob.com/ung-vien?page=972',\n",
       " 'https://www.alojob.com/ung-vien?page=973',\n",
       " 'https://www.alojob.com/ung-vien?page=974',\n",
       " 'https://www.alojob.com/ung-vien?page=975',\n",
       " 'https://www.alojob.com/ung-vien?page=976',\n",
       " 'https://www.alojob.com/ung-vien?page=977',\n",
       " 'https://www.alojob.com/ung-vien?page=978',\n",
       " 'https://www.alojob.com/ung-vien?page=979',\n",
       " 'https://www.alojob.com/ung-vien?page=980',\n",
       " 'https://www.alojob.com/ung-vien?page=981',\n",
       " 'https://www.alojob.com/ung-vien?page=982',\n",
       " 'https://www.alojob.com/ung-vien?page=983',\n",
       " 'https://www.alojob.com/ung-vien?page=984',\n",
       " 'https://www.alojob.com/ung-vien?page=985',\n",
       " 'https://www.alojob.com/ung-vien?page=986',\n",
       " 'https://www.alojob.com/ung-vien?page=987',\n",
       " 'https://www.alojob.com/ung-vien?page=988',\n",
       " 'https://www.alojob.com/ung-vien?page=989',\n",
       " 'https://www.alojob.com/ung-vien?page=990',\n",
       " 'https://www.alojob.com/ung-vien?page=991',\n",
       " 'https://www.alojob.com/ung-vien?page=992',\n",
       " 'https://www.alojob.com/ung-vien?page=993',\n",
       " 'https://www.alojob.com/ung-vien?page=994',\n",
       " 'https://www.alojob.com/ung-vien?page=995',\n",
       " 'https://www.alojob.com/ung-vien?page=996',\n",
       " 'https://www.alojob.com/ung-vien?page=997',\n",
       " 'https://www.alojob.com/ung-vien?page=998',\n",
       " 'https://www.alojob.com/ung-vien?page=999',\n",
       " 'https://www.alojob.com/ung-vien?page=1000']"
      ]
     },
     "execution_count": 21,
     "metadata": {},
     "output_type": "execute_result"
    }
   ],
   "source": [
    "list_url_page"
   ]
  },
  {
   "cell_type": "code",
   "execution_count": 30,
   "metadata": {},
   "outputs": [],
   "source": [
    "response = requests.get(\"https://www.alojob.com/ung-vien?page=1\")"
   ]
  },
  {
   "cell_type": "code",
   "execution_count": 31,
   "metadata": {},
   "outputs": [],
   "source": [
    "soup = BeautifulSoup(response.content, \"html.parser\")"
   ]
  },
  {
   "cell_type": "code",
   "execution_count": 32,
   "metadata": {},
   "outputs": [
    {
     "name": "stdout",
     "output_type": "stream",
     "text": [
      "https://www.alojob.com/ung-vien/nguyen-thi-ngoc-thuy--75169\n",
      "https://www.alojob.com/ung-vien/nguyen-thi-lan-vi-75168\n",
      "https://www.alojob.com/ung-vien/tran-quoc-lam-75166\n",
      "https://www.alojob.com/ung-vien/nguyen-thi-xuyen--75167\n",
      "https://www.alojob.com/ung-vien/nguyen-thi-mai-trang-75165\n",
      "https://www.alojob.com/ung-vien/doan-ngoc-nhat-vy--75164\n",
      "https://www.alojob.com/ung-vien/huynh-le-tri-trung-75163\n",
      "https://www.alojob.com/ung-vien/nguyen-tien-loc-75162\n",
      "https://www.alojob.com/ung-vien/cao-le-thuy-hang-75158\n",
      "https://www.alojob.com/ung-vien/duong-thi-ngoc-thuy-75159\n",
      "https://www.alojob.com/ung-vien/pham-minh-nhat-75161\n",
      "https://www.alojob.com/ung-vien/nguyen-nhat-vy-75157\n",
      "https://www.alojob.com/ung-vien/nguyen-le-si--75156\n",
      "https://www.alojob.com/ung-vien/dang-tan-dat-75155\n",
      "https://www.alojob.com/ung-vien/le-thi-anh-thu--75154\n",
      "https://www.alojob.com/ung-vien/y-phieu-hmok-75152\n",
      "https://www.alojob.com/ung-vien/le-hoang-hai-75153\n",
      "https://www.alojob.com/ung-vien/le-thi-kim-phuc--75151\n",
      "https://www.alojob.com/ung-vien/ngo-hoang-nam-75149\n",
      "https://www.alojob.com/ung-vien/nguyen-thi-bich-ha-75150\n"
     ]
    }
   ],
   "source": [
    "elements = soup.find_all(\"a\", {\"class\": \"title-item text-bold prevent-click\"})\n",
    "for element in elements:\n",
    "    print(f\"https://www.alojob.com{element['href']}\")"
   ]
  },
  {
   "cell_type": "code",
   "execution_count": 33,
   "metadata": {},
   "outputs": [],
   "source": [
    "def get_url_user(url_page):\n",
    "  # Khởi tạo danh sách url các công việc\n",
    "  list_url_user = []\n",
    "  # Lấy nội dung của page\n",
    "  Content = requests.get(url_page).content\n",
    "  Soup = BeautifulSoup(Content, 'html.parser')\n",
    "  # Lấy url user\n",
    "  elements = soup.find_all(\"a\", {\"class\": \"title-item text-bold prevent-click\"})\n",
    "  for element in elements:\n",
    "    list_url_user.append(f\"https://www.alojob.com{element['href']}\")\n",
    "  \n",
    "  return list_url_user"
   ]
  },
  {
   "cell_type": "code",
   "execution_count": 17,
   "metadata": {},
   "outputs": [
    {
     "name": "stderr",
     "output_type": "stream",
     "text": [
      "100%|██████████| 1000/1000 [04:55<00:00,  3.39it/s]\n"
     ]
    },
    {
     "data": {
      "text/plain": [
       "20000"
      ]
     },
     "execution_count": 17,
     "metadata": {},
     "output_type": "execute_result"
    }
   ],
   "source": [
    "list_url_user = []\n",
    "for url_page in tqdm(list_url_page):\n",
    "  try:\n",
    "    list_url_user.extend(get_url_user(url_page))\n",
    "  except:\n",
    "    print(f'{url_page} -> Error')\n",
    "\n",
    "len(list_url_user)"
   ]
  }
 ],
 "metadata": {
  "kernelspec": {
   "display_name": "venv",
   "language": "python",
   "name": "python3"
  },
  "language_info": {
   "codemirror_mode": {
    "name": "ipython",
    "version": 3
   },
   "file_extension": ".py",
   "mimetype": "text/x-python",
   "name": "python",
   "nbconvert_exporter": "python",
   "pygments_lexer": "ipython3",
   "version": "3.10.10"
  }
 },
 "nbformat": 4,
 "nbformat_minor": 2
}
